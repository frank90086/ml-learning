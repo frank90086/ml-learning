{
 "cells": [
  {
   "attachments": {},
   "cell_type": "markdown",
   "metadata": {},
   "source": [
    "# Stock Predict Model"
   ]
  },
  {
   "attachments": {},
   "cell_type": "markdown",
   "metadata": {},
   "source": [
    "## Import Modules"
   ]
  },
  {
   "cell_type": "code",
   "execution_count": 22,
   "metadata": {},
   "outputs": [],
   "source": [
    "# Numerical Operations\n",
    "import math\n",
    "import numpy as np\n",
    "\n",
    "# Reading/Writing Data\n",
    "import pandas as pd\n",
    "import os\n",
    "import csv\n",
    "\n",
    "# For Progress Bar\n",
    "from tqdm import tqdm\n",
    "\n",
    "# For Graph\n",
    "import matplotlib.pyplot as plt\n",
    "\n",
    "# Pytorch\n",
    "import torch\n",
    "import torch.nn as nn\n",
    "from torch.utils.data import Dataset, DataLoader, random_split\n",
    "\n",
    "# For plotting learning curve\n",
    "from torch.utils.tensorboard import SummaryWriter\n",
    "\n",
    "# Yahoo API\n",
    "import yfinance as yf"
   ]
  },
  {
   "attachments": {},
   "cell_type": "markdown",
   "metadata": {},
   "source": [
    "## Utility Functions"
   ]
  },
  {
   "cell_type": "code",
   "execution_count": 23,
   "metadata": {},
   "outputs": [],
   "source": [
    "def same_seed(seed):\n",
    "    '''Fixes random number generator seeds for reproducibility.'''\n",
    "    torch.backends.cudnn.deterministic = True\n",
    "    torch.backends.cudnn.benchmark = False\n",
    "    np.random.seed(seed)\n",
    "    torch.manual_seed(seed)\n",
    "    if torch.backends.mps.is_available():\n",
    "        torch.mps.manual_seed(seed)\n",
    "\n",
    "def train_valid_split(data_set, valid_ratio, seed):\n",
    "    '''Split provided training data into training set and validation set'''\n",
    "    valid_set_size = int(valid_ratio * len(data_set))\n",
    "    train_set_size = len(data_set) - valid_set_size\n",
    "    train_set, valid_set = random_split(data_set, [train_set_size, valid_set_size], generator=torch.Generator().manual_seed(seed))\n",
    "    return np.array(train_set), np.array(valid_set)\n",
    "\n",
    "def predict(test_loader, model, device):\n",
    "    model.eval()\n",
    "    preds = []\n",
    "    for x in tqdm(test_loader):\n",
    "        x = x.to(device)\n",
    "        with torch.no_grad():                   \n",
    "            pred = model(x)                     \n",
    "            preds.append(pred.detach().cpu())   \n",
    "    preds = torch.cat(preds, dim=0).numpy()\n",
    "    return preds"
   ]
  },
  {
   "attachments": {},
   "cell_type": "markdown",
   "metadata": {},
   "source": [
    "## Dataset"
   ]
  },
  {
   "cell_type": "code",
   "execution_count": 24,
   "metadata": {},
   "outputs": [],
   "source": [
    "class Stock_Dataset(Dataset):\n",
    "    '''\n",
    "    x: Features.\n",
    "    y: Targets, if none, do prediction.\n",
    "    '''\n",
    "    def __init__(self, x, y=None):\n",
    "        self.y = y if y is None else torch.FloatTensor(y)\n",
    "        self.x = torch.FloatTensor(x)\n",
    "\n",
    "    def __getitem__(self, idx):\n",
    "        if self.y is None:\n",
    "            return self.x[idx]\n",
    "        else:\n",
    "            return self.x[idx], self.y[idx]\n",
    "\n",
    "    def __len__(self):\n",
    "        return len(self.x)"
   ]
  },
  {
   "attachments": {},
   "cell_type": "markdown",
   "metadata": {},
   "source": [
    "## Neural Network Model"
   ]
  },
  {
   "cell_type": "code",
   "execution_count": 25,
   "metadata": {},
   "outputs": [],
   "source": [
    "class Stock_Model(nn.Module):\n",
    "    def __init__(self, input_dim):\n",
    "        super(Stock_Model, self).__init__()\n",
    "        self.layers = nn.Sequential(\n",
    "            nn.Linear(input_dim, 16),\n",
    "            nn.Sigmoid(),\n",
    "            nn.Linear(16, 8),\n",
    "            nn.Sigmoid(),\n",
    "            nn.Linear(8, 1)\n",
    "        )\n",
    "\n",
    "    def forward(self, x):\n",
    "        x = self.layers(x)\n",
    "        x = x.squeeze(1)\n",
    "        return x"
   ]
  },
  {
   "attachments": {},
   "cell_type": "markdown",
   "metadata": {},
   "source": [
    "## Feature Selection"
   ]
  },
  {
   "cell_type": "code",
   "execution_count": 26,
   "metadata": {},
   "outputs": [],
   "source": [
    "def select_feat(train_data, valid_data, test_data, select_all=True):\n",
    "    '''Selects useful features to perform regression'''\n",
    "    y_train, y_valid = train_data[:,-1], valid_data[:,-1]\n",
    "    raw_x_train, raw_x_valid, raw_x_test = train_data[:, :-1], valid_data[:, :-1], test_data\n",
    "\n",
    "    if select_all:\n",
    "        feat_idx = list(range(raw_x_train.shape[1]))\n",
    "    else:\n",
    "        feat_idx = [0,1,2,3,4] # TODO: Select suitable feature columns.\n",
    "\n",
    "    return raw_x_train[:,feat_idx], raw_x_valid[:,feat_idx], raw_x_test[:,feat_idx], y_train, y_valid"
   ]
  },
  {
   "attachments": {},
   "cell_type": "markdown",
   "metadata": {},
   "source": [
    "## Configurations"
   ]
  },
  {
   "cell_type": "code",
   "execution_count": 27,
   "metadata": {},
   "outputs": [],
   "source": [
    "device = 'mps' if torch.backends.mps.is_available() else 'cpu'\n",
    "config = {\n",
    "    'seed': 666999,\n",
    "    'select_all': True,\n",
    "    'valid_ratio': 0.2,\n",
    "    'n_epochs': 3000,\n",
    "    'batch_size': 64,\n",
    "    'learning_rate': 1e-5,\n",
    "    'early_stop': 400,\n",
    "    'save_path': './models/stock.ckpt'\n",
    "}"
   ]
  },
  {
   "attachments": {},
   "cell_type": "markdown",
   "metadata": {},
   "source": [
    "## Training Loop"
   ]
  },
  {
   "cell_type": "code",
   "execution_count": 28,
   "metadata": {},
   "outputs": [],
   "source": [
    "def trainer(train_loader, valid_loader, model, config, device):\n",
    "\n",
    "    criterion = nn.MSELoss(reduction='mean')\n",
    "    optimizer = torch.optim.SGD(model.parameters(), lr=config['learning_rate'], momentum=0.9)\n",
    "\n",
    "    writer = SummaryWriter()\n",
    "\n",
    "    if not os.path.isdir('./models'):\n",
    "        os.mkdir('./models')\n",
    "\n",
    "    n_epochs, best_loss, step, early_stop_count = config['n_epochs'], math.inf, 0, 0\n",
    "\n",
    "    for epoch in range(n_epochs):\n",
    "        model.train()\n",
    "        loss_record = []\n",
    "\n",
    "        train_pbar = tqdm(train_loader, position=0, leave=True)\n",
    "        for x, y in train_pbar:\n",
    "            optimizer.zero_grad()\n",
    "            x, y = x.to(device), y.to(device)\n",
    "            pred = model(x)\n",
    "            loss = criterion(pred, y)\n",
    "            loss.backward()\n",
    "            optimizer.step()\n",
    "            step += 1\n",
    "            loss_record.append(loss.detach().item())\n",
    "\n",
    "            train_pbar.set_description(f'Epoch [{epoch+1}/{n_epochs}]')\n",
    "            train_pbar.set_postfix({'loss': loss.detach().item()})\n",
    "        mean_train_loss = sum(loss_record)/len(loss_record)\n",
    "        writer.add_scalar('Loss/train', mean_train_loss, step)\n",
    "\n",
    "        model.eval()\n",
    "        loss_record = []\n",
    "        for x, y in valid_loader:\n",
    "            x, y = x.to(device), y.to(device)\n",
    "            with torch.no_grad():\n",
    "                pred = model(x)\n",
    "                loss = criterion(pred, y)\n",
    "\n",
    "            loss_record.append(loss.item())\n",
    "\n",
    "        mean_valid_loss = sum(loss_record)/len(loss_record)\n",
    "        print(f'Epoch [{epoch+1}/{n_epochs}]: Train loss: {mean_train_loss:.4f}, Valid loss: {mean_valid_loss:.4f}')\n",
    "        writer.add_scalar('Loss/valid', mean_valid_loss, step)\n",
    "\n",
    "        if mean_valid_loss < best_loss:\n",
    "            best_loss = mean_valid_loss\n",
    "            torch.save(model.state_dict(), config['save_path']) # Save your best model\n",
    "            print('Saving model with loss {:.3f}...'.format(best_loss))\n",
    "            early_stop_count = 0\n",
    "        else: \n",
    "            early_stop_count += 1\n",
    "\n",
    "        if early_stop_count >= config['early_stop']:\n",
    "            print('\\nModel is not improving, so we halt the training session.')\n",
    "            return"
   ]
  },
  {
   "attachments": {},
   "cell_type": "markdown",
   "metadata": {},
   "source": [
    "## Dataloader"
   ]
  },
  {
   "cell_type": "code",
   "execution_count": 29,
   "metadata": {},
   "outputs": [
    {
     "name": "stdout",
     "output_type": "stream",
     "text": [
      "[*********************100%***********************]  1 of 1 completed\n",
      "[*********************100%***********************]  1 of 1 completed\n",
      "train_data size: (4204, 6)\n",
      "valid_data size: (1051, 6)\n",
      "test_data size: (577, 5)\n",
      "number of features: 5\n"
     ]
    }
   ],
   "source": [
    "same_seed(config['seed'])\n",
    "# re-index\n",
    "index = [\"Open\", \"High\", \"Low\", \"Close\", \"Volume\", \"Adj Close\"]\n",
    "# train_data size: 5255 x 7 (id + 6 features From 2000-01-01 to 2020-12-31)\n",
    "# test_data size: 577 x 7 (id + 6 features From 2021-01-01 to 2023-12-31)\n",
    "train_data, test_data = pd.DataFrame(yf.download('2330.TW', start='2000-01-01', end='2020-12-31'))[index].values, \\\n",
    "                        pd.DataFrame(yf.download('2330.TW', start='2021-01-01', end='2023-12-31'))[index[:-1]].values\n",
    "train_data, valid_data = train_valid_split(train_data, config['valid_ratio'], config['seed'])\n",
    "\n",
    "# Print out the data size.\n",
    "print(f\"\"\"train_data size: {train_data.shape}\n",
    "valid_data size: {valid_data.shape}\n",
    "test_data size: {test_data.shape}\"\"\")\n",
    "\n",
    "# Select features\n",
    "x_train, x_valid, x_test, y_train, y_valid = select_feat(train_data, valid_data, test_data, config['select_all'])\n",
    "\n",
    "# Print out the number of features.\n",
    "print(f'number of features: {x_train.shape[1]}')\n",
    "\n",
    "train_dataset, valid_dataset, test_dataset = Stock_Dataset(x_train, y_train), \\\n",
    "                                             Stock_Dataset(x_valid, y_valid), \\\n",
    "                                             Stock_Dataset(x_test)\n",
    "\n",
    "# Pytorch data loader loads pytorch dataset into batches.\n",
    "train_loader = DataLoader(train_dataset, batch_size=config['batch_size'], shuffle=True, pin_memory=True)\n",
    "valid_loader = DataLoader(valid_dataset, batch_size=config['batch_size'], shuffle=True, pin_memory=True)\n",
    "test_loader = DataLoader(test_dataset, batch_size=config['batch_size'], shuffle=False, pin_memory=True)"
   ]
  },
  {
   "attachments": {},
   "cell_type": "markdown",
   "metadata": {},
   "source": [
    "## Training"
   ]
  },
  {
   "cell_type": "code",
   "execution_count": 30,
   "metadata": {},
   "outputs": [
    {
     "name": "stderr",
     "output_type": "stream",
     "text": [
      "Epoch [1/3000]: 100%|██████████| 66/66 [00:01<00:00, 34.22it/s, loss=7.29e+3]\n"
     ]
    },
    {
     "name": "stdout",
     "output_type": "stream",
     "text": [
      "Epoch [1/3000]: Train loss: 15108.6053, Valid loss: 14529.1760\n",
      "Saving model with loss 14529.176...\n"
     ]
    },
    {
     "name": "stderr",
     "output_type": "stream",
     "text": [
      "Epoch [2/3000]: 100%|██████████| 66/66 [00:00<00:00, 164.98it/s, loss=7.82e+3]\n"
     ]
    },
    {
     "name": "stdout",
     "output_type": "stream",
     "text": [
      "Epoch [2/3000]: Train loss: 14447.3491, Valid loss: 13178.6696\n",
      "Saving model with loss 13178.670...\n"
     ]
    },
    {
     "name": "stderr",
     "output_type": "stream",
     "text": [
      "Epoch [3/3000]: 100%|██████████| 66/66 [00:00<00:00, 172.26it/s, loss=1.58e+4]\n"
     ]
    },
    {
     "name": "stdout",
     "output_type": "stream",
     "text": [
      "Epoch [3/3000]: Train loss: 13560.9160, Valid loss: 12845.2266\n",
      "Saving model with loss 12845.227...\n"
     ]
    },
    {
     "name": "stderr",
     "output_type": "stream",
     "text": [
      "Epoch [4/3000]: 100%|██████████| 66/66 [00:00<00:00, 178.15it/s, loss=1.31e+4]\n"
     ]
    },
    {
     "name": "stdout",
     "output_type": "stream",
     "text": [
      "Epoch [4/3000]: Train loss: 12501.1197, Valid loss: 11691.1320\n",
      "Saving model with loss 11691.132...\n"
     ]
    },
    {
     "name": "stderr",
     "output_type": "stream",
     "text": [
      "Epoch [5/3000]: 100%|██████████| 66/66 [00:00<00:00, 174.45it/s, loss=1.79e+4]\n"
     ]
    },
    {
     "name": "stdout",
     "output_type": "stream",
     "text": [
      "Epoch [5/3000]: Train loss: 11574.8055, Valid loss: 10324.1021\n",
      "Saving model with loss 10324.102...\n"
     ]
    },
    {
     "name": "stderr",
     "output_type": "stream",
     "text": [
      "Epoch [6/3000]: 100%|██████████| 66/66 [00:00<00:00, 190.70it/s, loss=1.13e+4]\n"
     ]
    },
    {
     "name": "stdout",
     "output_type": "stream",
     "text": [
      "Epoch [6/3000]: Train loss: 10767.5144, Valid loss: 9736.9820\n",
      "Saving model with loss 9736.982...\n"
     ]
    },
    {
     "name": "stderr",
     "output_type": "stream",
     "text": [
      "Epoch [7/3000]: 100%|██████████| 66/66 [00:00<00:00, 176.11it/s, loss=8.67e+3]\n"
     ]
    },
    {
     "name": "stdout",
     "output_type": "stream",
     "text": [
      "Epoch [7/3000]: Train loss: 10144.4845, Valid loss: 9280.7884\n",
      "Saving model with loss 9280.788...\n"
     ]
    },
    {
     "name": "stderr",
     "output_type": "stream",
     "text": [
      "Epoch [8/3000]: 100%|██████████| 66/66 [00:00<00:00, 182.36it/s, loss=1.26e+4]\n"
     ]
    },
    {
     "name": "stdout",
     "output_type": "stream",
     "text": [
      "Epoch [8/3000]: Train loss: 9679.0852, Valid loss: 8964.1697\n",
      "Saving model with loss 8964.170...\n"
     ]
    },
    {
     "name": "stderr",
     "output_type": "stream",
     "text": [
      "Epoch [9/3000]: 100%|██████████| 66/66 [00:00<00:00, 193.06it/s, loss=8.35e+3]\n"
     ]
    },
    {
     "name": "stdout",
     "output_type": "stream",
     "text": [
      "Epoch [9/3000]: Train loss: 9280.0143, Valid loss: 8777.1694\n",
      "Saving model with loss 8777.169...\n"
     ]
    },
    {
     "name": "stderr",
     "output_type": "stream",
     "text": [
      "Epoch [10/3000]: 100%|██████████| 66/66 [00:00<00:00, 180.97it/s, loss=1.19e+4]\n"
     ]
    },
    {
     "name": "stdout",
     "output_type": "stream",
     "text": [
      "Epoch [10/3000]: Train loss: 8998.6982, Valid loss: 8294.7907\n",
      "Saving model with loss 8294.791...\n"
     ]
    },
    {
     "name": "stderr",
     "output_type": "stream",
     "text": [
      "Epoch [11/3000]: 100%|██████████| 66/66 [00:00<00:00, 182.91it/s, loss=6.95e+3]\n"
     ]
    },
    {
     "name": "stdout",
     "output_type": "stream",
     "text": [
      "Epoch [11/3000]: Train loss: 8740.5139, Valid loss: 8499.5793\n"
     ]
    },
    {
     "name": "stderr",
     "output_type": "stream",
     "text": [
      "Epoch [12/3000]: 100%|██████████| 66/66 [00:00<00:00, 191.42it/s, loss=6.1e+3] \n"
     ]
    },
    {
     "name": "stdout",
     "output_type": "stream",
     "text": [
      "Epoch [12/3000]: Train loss: 8552.5314, Valid loss: 8460.2543\n"
     ]
    },
    {
     "name": "stderr",
     "output_type": "stream",
     "text": [
      "Epoch [13/3000]: 100%|██████████| 66/66 [00:00<00:00, 182.41it/s, loss=4.15e+3]\n"
     ]
    },
    {
     "name": "stdout",
     "output_type": "stream",
     "text": [
      "Epoch [13/3000]: Train loss: 8398.4554, Valid loss: 8041.8393\n",
      "Saving model with loss 8041.839...\n"
     ]
    },
    {
     "name": "stderr",
     "output_type": "stream",
     "text": [
      "Epoch [14/3000]: 100%|██████████| 66/66 [00:00<00:00, 185.43it/s, loss=7.25e+3]\n"
     ]
    },
    {
     "name": "stdout",
     "output_type": "stream",
     "text": [
      "Epoch [14/3000]: Train loss: 8299.6166, Valid loss: 7947.9761\n",
      "Saving model with loss 7947.976...\n"
     ]
    },
    {
     "name": "stderr",
     "output_type": "stream",
     "text": [
      "Epoch [15/3000]: 100%|██████████| 66/66 [00:00<00:00, 183.23it/s, loss=4.17e+3]\n"
     ]
    },
    {
     "name": "stdout",
     "output_type": "stream",
     "text": [
      "Epoch [15/3000]: Train loss: 8195.5707, Valid loss: 7658.0164\n",
      "Saving model with loss 7658.016...\n"
     ]
    },
    {
     "name": "stderr",
     "output_type": "stream",
     "text": [
      "Epoch [16/3000]: 100%|██████████| 66/66 [00:00<00:00, 198.79it/s, loss=6.95e+3]\n"
     ]
    },
    {
     "name": "stdout",
     "output_type": "stream",
     "text": [
      "Epoch [16/3000]: Train loss: 8137.9347, Valid loss: 7719.0291\n"
     ]
    },
    {
     "name": "stderr",
     "output_type": "stream",
     "text": [
      "Epoch [17/3000]: 100%|██████████| 66/66 [00:00<00:00, 179.89it/s, loss=4.52e+3]\n"
     ]
    },
    {
     "name": "stdout",
     "output_type": "stream",
     "text": [
      "Epoch [17/3000]: Train loss: 8070.6356, Valid loss: 7762.5986\n"
     ]
    },
    {
     "name": "stderr",
     "output_type": "stream",
     "text": [
      "Epoch [18/3000]: 100%|██████████| 66/66 [00:00<00:00, 181.71it/s, loss=9.35e+3]\n"
     ]
    },
    {
     "name": "stdout",
     "output_type": "stream",
     "text": [
      "Epoch [18/3000]: Train loss: 8048.8893, Valid loss: 7715.7250\n"
     ]
    },
    {
     "name": "stderr",
     "output_type": "stream",
     "text": [
      "Epoch [19/3000]: 100%|██████████| 66/66 [00:00<00:00, 195.48it/s, loss=1.51e+4]\n"
     ]
    },
    {
     "name": "stdout",
     "output_type": "stream",
     "text": [
      "Epoch [19/3000]: Train loss: 8040.8828, Valid loss: 7566.3161\n",
      "Saving model with loss 7566.316...\n"
     ]
    },
    {
     "name": "stderr",
     "output_type": "stream",
     "text": [
      "Epoch [20/3000]: 100%|██████████| 66/66 [00:00<00:00, 188.28it/s, loss=1.02e+4]\n"
     ]
    },
    {
     "name": "stdout",
     "output_type": "stream",
     "text": [
      "Epoch [20/3000]: Train loss: 7989.3886, Valid loss: 7757.7593\n"
     ]
    },
    {
     "name": "stderr",
     "output_type": "stream",
     "text": [
      "Epoch [21/3000]: 100%|██████████| 66/66 [00:00<00:00, 185.68it/s, loss=1.19e+4]\n"
     ]
    },
    {
     "name": "stdout",
     "output_type": "stream",
     "text": [
      "Epoch [21/3000]: Train loss: 7974.2104, Valid loss: 7593.7836\n"
     ]
    },
    {
     "name": "stderr",
     "output_type": "stream",
     "text": [
      "Epoch [22/3000]: 100%|██████████| 66/66 [00:00<00:00, 182.01it/s, loss=6.51e+3]\n"
     ]
    },
    {
     "name": "stdout",
     "output_type": "stream",
     "text": [
      "Epoch [22/3000]: Train loss: 7930.0311, Valid loss: 7773.6803\n"
     ]
    },
    {
     "name": "stderr",
     "output_type": "stream",
     "text": [
      "Epoch [23/3000]: 100%|██████████| 66/66 [00:00<00:00, 197.13it/s, loss=1.05e+4]\n"
     ]
    },
    {
     "name": "stdout",
     "output_type": "stream",
     "text": [
      "Epoch [23/3000]: Train loss: 7933.6085, Valid loss: 7670.3148\n"
     ]
    },
    {
     "name": "stderr",
     "output_type": "stream",
     "text": [
      "Epoch [24/3000]: 100%|██████████| 66/66 [00:00<00:00, 183.11it/s, loss=4.51e+3]\n"
     ]
    },
    {
     "name": "stdout",
     "output_type": "stream",
     "text": [
      "Epoch [24/3000]: Train loss: 7892.4229, Valid loss: 7647.5604\n"
     ]
    },
    {
     "name": "stderr",
     "output_type": "stream",
     "text": [
      "Epoch [25/3000]: 100%|██████████| 66/66 [00:00<00:00, 181.62it/s, loss=6.8e+3] \n"
     ]
    },
    {
     "name": "stdout",
     "output_type": "stream",
     "text": [
      "Epoch [25/3000]: Train loss: 7892.6921, Valid loss: 7607.6154\n"
     ]
    },
    {
     "name": "stderr",
     "output_type": "stream",
     "text": [
      "Epoch [26/3000]: 100%|██████████| 66/66 [00:00<00:00, 187.03it/s, loss=8.76e+3]\n"
     ]
    },
    {
     "name": "stdout",
     "output_type": "stream",
     "text": [
      "Epoch [26/3000]: Train loss: 7892.8985, Valid loss: 7534.2744\n",
      "Saving model with loss 7534.274...\n"
     ]
    },
    {
     "name": "stderr",
     "output_type": "stream",
     "text": [
      "Epoch [27/3000]: 100%|██████████| 66/66 [00:00<00:00, 189.08it/s, loss=8.96e+3]\n"
     ]
    },
    {
     "name": "stdout",
     "output_type": "stream",
     "text": [
      "Epoch [27/3000]: Train loss: 7885.9430, Valid loss: 7652.7464\n"
     ]
    },
    {
     "name": "stderr",
     "output_type": "stream",
     "text": [
      "Epoch [28/3000]: 100%|██████████| 66/66 [00:00<00:00, 183.07it/s, loss=5.1e+3] \n"
     ]
    },
    {
     "name": "stdout",
     "output_type": "stream",
     "text": [
      "Epoch [28/3000]: Train loss: 7861.2611, Valid loss: 7590.3445\n"
     ]
    },
    {
     "name": "stderr",
     "output_type": "stream",
     "text": [
      "Epoch [29/3000]: 100%|██████████| 66/66 [00:00<00:00, 183.38it/s, loss=3.52e+3]\n"
     ]
    },
    {
     "name": "stdout",
     "output_type": "stream",
     "text": [
      "Epoch [29/3000]: Train loss: 7847.8585, Valid loss: 7429.9532\n",
      "Saving model with loss 7429.953...\n"
     ]
    },
    {
     "name": "stderr",
     "output_type": "stream",
     "text": [
      "Epoch [30/3000]: 100%|██████████| 66/66 [00:00<00:00, 193.02it/s, loss=1.12e+4]\n"
     ]
    },
    {
     "name": "stdout",
     "output_type": "stream",
     "text": [
      "Epoch [30/3000]: Train loss: 7879.5274, Valid loss: 7739.3914\n"
     ]
    },
    {
     "name": "stderr",
     "output_type": "stream",
     "text": [
      "Epoch [31/3000]: 100%|██████████| 66/66 [00:00<00:00, 184.86it/s, loss=4.6e+3] \n"
     ]
    },
    {
     "name": "stdout",
     "output_type": "stream",
     "text": [
      "Epoch [31/3000]: Train loss: 7844.1178, Valid loss: 7767.5161\n"
     ]
    },
    {
     "name": "stderr",
     "output_type": "stream",
     "text": [
      "Epoch [32/3000]: 100%|██████████| 66/66 [00:00<00:00, 181.29it/s, loss=6.97e+3]\n"
     ]
    },
    {
     "name": "stdout",
     "output_type": "stream",
     "text": [
      "Epoch [32/3000]: Train loss: 7851.7608, Valid loss: 7758.0495\n"
     ]
    },
    {
     "name": "stderr",
     "output_type": "stream",
     "text": [
      "Epoch [33/3000]: 100%|██████████| 66/66 [00:00<00:00, 180.74it/s, loss=8.43e+3]\n"
     ]
    },
    {
     "name": "stdout",
     "output_type": "stream",
     "text": [
      "Epoch [33/3000]: Train loss: 7855.7529, Valid loss: 7637.3005\n"
     ]
    },
    {
     "name": "stderr",
     "output_type": "stream",
     "text": [
      "Epoch [34/3000]: 100%|██████████| 66/66 [00:00<00:00, 196.14it/s, loss=4.5e+3] \n"
     ]
    },
    {
     "name": "stdout",
     "output_type": "stream",
     "text": [
      "Epoch [34/3000]: Train loss: 7834.6352, Valid loss: 7510.5669\n"
     ]
    },
    {
     "name": "stderr",
     "output_type": "stream",
     "text": [
      "Epoch [35/3000]: 100%|██████████| 66/66 [00:00<00:00, 174.09it/s, loss=5.68e+3]\n"
     ]
    },
    {
     "name": "stdout",
     "output_type": "stream",
     "text": [
      "Epoch [35/3000]: Train loss: 7838.3562, Valid loss: 7500.7736\n"
     ]
    },
    {
     "name": "stderr",
     "output_type": "stream",
     "text": [
      "Epoch [36/3000]: 100%|██████████| 66/66 [00:00<00:00, 181.55it/s, loss=4.87e+3]\n"
     ]
    },
    {
     "name": "stdout",
     "output_type": "stream",
     "text": [
      "Epoch [36/3000]: Train loss: 7832.4803, Valid loss: 7634.1949\n"
     ]
    },
    {
     "name": "stderr",
     "output_type": "stream",
     "text": [
      "Epoch [37/3000]: 100%|██████████| 66/66 [00:00<00:00, 190.16it/s, loss=4.45e+3]\n"
     ]
    },
    {
     "name": "stdout",
     "output_type": "stream",
     "text": [
      "Epoch [37/3000]: Train loss: 7828.9255, Valid loss: 7610.6537\n"
     ]
    },
    {
     "name": "stderr",
     "output_type": "stream",
     "text": [
      "Epoch [38/3000]: 100%|██████████| 66/66 [00:00<00:00, 182.36it/s, loss=4.23e+3]\n"
     ]
    },
    {
     "name": "stdout",
     "output_type": "stream",
     "text": [
      "Epoch [38/3000]: Train loss: 7826.6102, Valid loss: 7463.8454\n"
     ]
    },
    {
     "name": "stderr",
     "output_type": "stream",
     "text": [
      "Epoch [39/3000]: 100%|██████████| 66/66 [00:00<00:00, 182.37it/s, loss=1.09e+4]\n"
     ]
    },
    {
     "name": "stdout",
     "output_type": "stream",
     "text": [
      "Epoch [39/3000]: Train loss: 7857.1584, Valid loss: 7583.2638\n"
     ]
    },
    {
     "name": "stderr",
     "output_type": "stream",
     "text": [
      "Epoch [40/3000]: 100%|██████████| 66/66 [00:00<00:00, 185.79it/s, loss=7.95e+3]\n"
     ]
    },
    {
     "name": "stdout",
     "output_type": "stream",
     "text": [
      "Epoch [40/3000]: Train loss: 7842.0040, Valid loss: 7592.8782\n"
     ]
    },
    {
     "name": "stderr",
     "output_type": "stream",
     "text": [
      "Epoch [41/3000]: 100%|██████████| 66/66 [00:00<00:00, 195.26it/s, loss=4.39e+3]\n"
     ]
    },
    {
     "name": "stdout",
     "output_type": "stream",
     "text": [
      "Epoch [41/3000]: Train loss: 7824.2793, Valid loss: 7652.6405\n"
     ]
    },
    {
     "name": "stderr",
     "output_type": "stream",
     "text": [
      "Epoch [42/3000]: 100%|██████████| 66/66 [00:00<00:00, 177.56it/s, loss=4.21e+3]\n"
     ]
    },
    {
     "name": "stdout",
     "output_type": "stream",
     "text": [
      "Epoch [42/3000]: Train loss: 7822.6533, Valid loss: 7421.7905\n",
      "Saving model with loss 7421.790...\n"
     ]
    },
    {
     "name": "stderr",
     "output_type": "stream",
     "text": [
      "Epoch [43/3000]: 100%|██████████| 66/66 [00:00<00:00, 179.54it/s, loss=9.53e+3]\n"
     ]
    },
    {
     "name": "stdout",
     "output_type": "stream",
     "text": [
      "Epoch [43/3000]: Train loss: 7847.1734, Valid loss: 7497.2819\n"
     ]
    },
    {
     "name": "stderr",
     "output_type": "stream",
     "text": [
      "Epoch [44/3000]: 100%|██████████| 66/66 [00:00<00:00, 193.18it/s, loss=6.5e+3] \n"
     ]
    },
    {
     "name": "stdout",
     "output_type": "stream",
     "text": [
      "Epoch [44/3000]: Train loss: 7832.4048, Valid loss: 7475.6726\n"
     ]
    },
    {
     "name": "stderr",
     "output_type": "stream",
     "text": [
      "Epoch [45/3000]: 100%|██████████| 66/66 [00:00<00:00, 177.25it/s, loss=1.26e+4]\n"
     ]
    },
    {
     "name": "stdout",
     "output_type": "stream",
     "text": [
      "Epoch [45/3000]: Train loss: 7860.5866, Valid loss: 7652.9020\n"
     ]
    },
    {
     "name": "stderr",
     "output_type": "stream",
     "text": [
      "Epoch [46/3000]: 100%|██████████| 66/66 [00:00<00:00, 186.22it/s, loss=4.95e+3]\n"
     ]
    },
    {
     "name": "stdout",
     "output_type": "stream",
     "text": [
      "Epoch [46/3000]: Train loss: 7823.8811, Valid loss: 7790.6000\n"
     ]
    },
    {
     "name": "stderr",
     "output_type": "stream",
     "text": [
      "Epoch [47/3000]: 100%|██████████| 66/66 [00:00<00:00, 184.70it/s, loss=6.23e+3]\n"
     ]
    },
    {
     "name": "stdout",
     "output_type": "stream",
     "text": [
      "Epoch [47/3000]: Train loss: 7829.4166, Valid loss: 7912.6939\n"
     ]
    },
    {
     "name": "stderr",
     "output_type": "stream",
     "text": [
      "Epoch [48/3000]: 100%|██████████| 66/66 [00:00<00:00, 192.65it/s, loss=5.39e+3]\n"
     ]
    },
    {
     "name": "stdout",
     "output_type": "stream",
     "text": [
      "Epoch [48/3000]: Train loss: 7825.1589, Valid loss: 7621.8432\n"
     ]
    },
    {
     "name": "stderr",
     "output_type": "stream",
     "text": [
      "Epoch [49/3000]: 100%|██████████| 66/66 [00:00<00:00, 179.27it/s, loss=7.39e+3]\n"
     ]
    },
    {
     "name": "stdout",
     "output_type": "stream",
     "text": [
      "Epoch [49/3000]: Train loss: 7834.3366, Valid loss: 7485.4753\n"
     ]
    },
    {
     "name": "stderr",
     "output_type": "stream",
     "text": [
      "Epoch [50/3000]: 100%|██████████| 66/66 [00:00<00:00, 179.52it/s, loss=6.73e+3]\n"
     ]
    },
    {
     "name": "stdout",
     "output_type": "stream",
     "text": [
      "Epoch [50/3000]: Train loss: 7830.8638, Valid loss: 7457.0916\n"
     ]
    },
    {
     "name": "stderr",
     "output_type": "stream",
     "text": [
      "Epoch [51/3000]: 100%|██████████| 66/66 [00:00<00:00, 195.42it/s, loss=8.14e+3]\n"
     ]
    },
    {
     "name": "stdout",
     "output_type": "stream",
     "text": [
      "Epoch [51/3000]: Train loss: 7837.3213, Valid loss: 7557.3248\n"
     ]
    },
    {
     "name": "stderr",
     "output_type": "stream",
     "text": [
      "Epoch [52/3000]: 100%|██████████| 66/66 [00:00<00:00, 176.89it/s, loss=7.19e+3]\n"
     ]
    },
    {
     "name": "stdout",
     "output_type": "stream",
     "text": [
      "Epoch [52/3000]: Train loss: 7832.5582, Valid loss: 7617.3184\n"
     ]
    },
    {
     "name": "stderr",
     "output_type": "stream",
     "text": [
      "Epoch [53/3000]: 100%|██████████| 66/66 [00:00<00:00, 180.60it/s, loss=4.46e+3]\n"
     ]
    },
    {
     "name": "stdout",
     "output_type": "stream",
     "text": [
      "Epoch [53/3000]: Train loss: 7819.3166, Valid loss: 7469.7624\n"
     ]
    },
    {
     "name": "stderr",
     "output_type": "stream",
     "text": [
      "Epoch [54/3000]: 100%|██████████| 66/66 [00:00<00:00, 188.61it/s, loss=5.89e+3]\n"
     ]
    },
    {
     "name": "stdout",
     "output_type": "stream",
     "text": [
      "Epoch [54/3000]: Train loss: 7825.9264, Valid loss: 7668.6933\n"
     ]
    },
    {
     "name": "stderr",
     "output_type": "stream",
     "text": [
      "Epoch [55/3000]: 100%|██████████| 66/66 [00:00<00:00, 190.54it/s, loss=6.73e+3]\n"
     ]
    },
    {
     "name": "stdout",
     "output_type": "stream",
     "text": [
      "Epoch [55/3000]: Train loss: 7830.1228, Valid loss: 7678.2331\n"
     ]
    },
    {
     "name": "stderr",
     "output_type": "stream",
     "text": [
      "Epoch [56/3000]: 100%|██████████| 66/66 [00:00<00:00, 184.01it/s, loss=5.44e+3]\n"
     ]
    },
    {
     "name": "stdout",
     "output_type": "stream",
     "text": [
      "Epoch [56/3000]: Train loss: 7823.6218, Valid loss: 7592.2765\n"
     ]
    },
    {
     "name": "stderr",
     "output_type": "stream",
     "text": [
      "Epoch [57/3000]: 100%|██████████| 66/66 [00:00<00:00, 180.16it/s, loss=1.19e+4]\n"
     ]
    },
    {
     "name": "stdout",
     "output_type": "stream",
     "text": [
      "Epoch [57/3000]: Train loss: 7854.0317, Valid loss: 7487.5433\n"
     ]
    },
    {
     "name": "stderr",
     "output_type": "stream",
     "text": [
      "Epoch [58/3000]: 100%|██████████| 66/66 [00:00<00:00, 197.31it/s, loss=1.33e+4]\n"
     ]
    },
    {
     "name": "stdout",
     "output_type": "stream",
     "text": [
      "Epoch [58/3000]: Train loss: 7860.4510, Valid loss: 7516.9006\n"
     ]
    },
    {
     "name": "stderr",
     "output_type": "stream",
     "text": [
      "Epoch [59/3000]: 100%|██████████| 66/66 [00:00<00:00, 180.77it/s, loss=1.83e+4]\n"
     ]
    },
    {
     "name": "stdout",
     "output_type": "stream",
     "text": [
      "Epoch [59/3000]: Train loss: 7883.6537, Valid loss: 7472.9936\n"
     ]
    },
    {
     "name": "stderr",
     "output_type": "stream",
     "text": [
      "Epoch [60/3000]: 100%|██████████| 66/66 [00:00<00:00, 176.90it/s, loss=6.5e+3] \n"
     ]
    },
    {
     "name": "stdout",
     "output_type": "stream",
     "text": [
      "Epoch [60/3000]: Train loss: 7827.8292, Valid loss: 7411.9124\n",
      "Saving model with loss 7411.912...\n"
     ]
    },
    {
     "name": "stderr",
     "output_type": "stream",
     "text": [
      "Epoch [61/3000]: 100%|██████████| 66/66 [00:00<00:00, 181.65it/s, loss=1.13e+4]\n"
     ]
    },
    {
     "name": "stdout",
     "output_type": "stream",
     "text": [
      "Epoch [61/3000]: Train loss: 7850.6213, Valid loss: 7555.6773\n"
     ]
    },
    {
     "name": "stderr",
     "output_type": "stream",
     "text": [
      "Epoch [62/3000]: 100%|██████████| 66/66 [00:00<00:00, 188.87it/s, loss=9.85e+3]\n"
     ]
    },
    {
     "name": "stdout",
     "output_type": "stream",
     "text": [
      "Epoch [62/3000]: Train loss: 7843.4123, Valid loss: 7665.9280\n"
     ]
    },
    {
     "name": "stderr",
     "output_type": "stream",
     "text": [
      "Epoch [63/3000]: 100%|██████████| 66/66 [00:00<00:00, 177.42it/s, loss=5.54e+3]\n"
     ]
    },
    {
     "name": "stdout",
     "output_type": "stream",
     "text": [
      "Epoch [63/3000]: Train loss: 7823.1243, Valid loss: 7523.8967\n"
     ]
    },
    {
     "name": "stderr",
     "output_type": "stream",
     "text": [
      "Epoch [64/3000]: 100%|██████████| 66/66 [00:00<00:00, 179.80it/s, loss=9.16e+3]\n"
     ]
    },
    {
     "name": "stdout",
     "output_type": "stream",
     "text": [
      "Epoch [64/3000]: Train loss: 7840.0498, Valid loss: 7679.3257\n"
     ]
    },
    {
     "name": "stderr",
     "output_type": "stream",
     "text": [
      "Epoch [65/3000]: 100%|██████████| 66/66 [00:00<00:00, 183.98it/s, loss=7.92e+3]\n"
     ]
    },
    {
     "name": "stdout",
     "output_type": "stream",
     "text": [
      "Epoch [65/3000]: Train loss: 7834.0794, Valid loss: 7564.7308\n"
     ]
    },
    {
     "name": "stderr",
     "output_type": "stream",
     "text": [
      "Epoch [66/3000]: 100%|██████████| 66/66 [00:00<00:00, 173.63it/s, loss=9.07e+3]\n"
     ]
    },
    {
     "name": "stdout",
     "output_type": "stream",
     "text": [
      "Epoch [66/3000]: Train loss: 7839.4725, Valid loss: 7678.3442\n"
     ]
    },
    {
     "name": "stderr",
     "output_type": "stream",
     "text": [
      "Epoch [67/3000]: 100%|██████████| 66/66 [00:00<00:00, 175.39it/s, loss=3.95e+3]\n"
     ]
    },
    {
     "name": "stdout",
     "output_type": "stream",
     "text": [
      "Epoch [67/3000]: Train loss: 7815.1679, Valid loss: 7766.3162\n"
     ]
    },
    {
     "name": "stderr",
     "output_type": "stream",
     "text": [
      "Epoch [68/3000]: 100%|██████████| 66/66 [00:00<00:00, 183.23it/s, loss=8.02e+3]\n"
     ]
    },
    {
     "name": "stdout",
     "output_type": "stream",
     "text": [
      "Epoch [68/3000]: Train loss: 7834.3646, Valid loss: 7734.8768\n"
     ]
    },
    {
     "name": "stderr",
     "output_type": "stream",
     "text": [
      "Epoch [69/3000]: 100%|██████████| 66/66 [00:00<00:00, 190.74it/s, loss=8.04e+3]\n"
     ]
    },
    {
     "name": "stdout",
     "output_type": "stream",
     "text": [
      "Epoch [69/3000]: Train loss: 7834.3357, Valid loss: 7628.5114\n"
     ]
    },
    {
     "name": "stderr",
     "output_type": "stream",
     "text": [
      "Epoch [70/3000]: 100%|██████████| 66/66 [00:00<00:00, 178.06it/s, loss=8.53e+3]\n"
     ]
    },
    {
     "name": "stdout",
     "output_type": "stream",
     "text": [
      "Epoch [70/3000]: Train loss: 7836.6794, Valid loss: 7493.8193\n"
     ]
    },
    {
     "name": "stderr",
     "output_type": "stream",
     "text": [
      "Epoch [71/3000]: 100%|██████████| 66/66 [00:00<00:00, 181.73it/s, loss=6.17e+3]\n"
     ]
    },
    {
     "name": "stdout",
     "output_type": "stream",
     "text": [
      "Epoch [71/3000]: Train loss: 7825.3647, Valid loss: 7588.2039\n"
     ]
    },
    {
     "name": "stderr",
     "output_type": "stream",
     "text": [
      "Epoch [72/3000]: 100%|██████████| 66/66 [00:00<00:00, 186.10it/s, loss=7.86e+3]\n"
     ]
    },
    {
     "name": "stdout",
     "output_type": "stream",
     "text": [
      "Epoch [72/3000]: Train loss: 7833.4947, Valid loss: 7554.4723\n"
     ]
    },
    {
     "name": "stderr",
     "output_type": "stream",
     "text": [
      "Epoch [73/3000]: 100%|██████████| 66/66 [00:00<00:00, 176.68it/s, loss=1.31e+4]\n"
     ]
    },
    {
     "name": "stdout",
     "output_type": "stream",
     "text": [
      "Epoch [73/3000]: Train loss: 7857.9554, Valid loss: 7407.3688\n",
      "Saving model with loss 7407.369...\n"
     ]
    },
    {
     "name": "stderr",
     "output_type": "stream",
     "text": [
      "Epoch [74/3000]: 100%|██████████| 66/66 [00:00<00:00, 177.13it/s, loss=6.77e+3]\n"
     ]
    },
    {
     "name": "stdout",
     "output_type": "stream",
     "text": [
      "Epoch [74/3000]: Train loss: 7828.1125, Valid loss: 7751.4060\n"
     ]
    },
    {
     "name": "stderr",
     "output_type": "stream",
     "text": [
      "Epoch [75/3000]: 100%|██████████| 66/66 [00:00<00:00, 185.57it/s, loss=4.06e+3]\n"
     ]
    },
    {
     "name": "stdout",
     "output_type": "stream",
     "text": [
      "Epoch [75/3000]: Train loss: 7815.1894, Valid loss: 7545.4826\n"
     ]
    },
    {
     "name": "stderr",
     "output_type": "stream",
     "text": [
      "Epoch [76/3000]: 100%|██████████| 66/66 [00:00<00:00, 177.68it/s, loss=7.43e+3]\n"
     ]
    },
    {
     "name": "stdout",
     "output_type": "stream",
     "text": [
      "Epoch [76/3000]: Train loss: 7831.3249, Valid loss: 7446.5606\n"
     ]
    },
    {
     "name": "stderr",
     "output_type": "stream",
     "text": [
      "Epoch [77/3000]: 100%|██████████| 66/66 [00:00<00:00, 177.12it/s, loss=6.1e+3] \n"
     ]
    },
    {
     "name": "stdout",
     "output_type": "stream",
     "text": [
      "Epoch [77/3000]: Train loss: 7824.8604, Valid loss: 7481.6462\n"
     ]
    },
    {
     "name": "stderr",
     "output_type": "stream",
     "text": [
      "Epoch [78/3000]: 100%|██████████| 66/66 [00:00<00:00, 178.54it/s, loss=5.91e+3]\n"
     ]
    },
    {
     "name": "stdout",
     "output_type": "stream",
     "text": [
      "Epoch [78/3000]: Train loss: 7823.9106, Valid loss: 7477.0153\n"
     ]
    },
    {
     "name": "stderr",
     "output_type": "stream",
     "text": [
      "Epoch [79/3000]: 100%|██████████| 66/66 [00:00<00:00, 189.36it/s, loss=6.55e+3]\n"
     ]
    },
    {
     "name": "stdout",
     "output_type": "stream",
     "text": [
      "Epoch [79/3000]: Train loss: 7826.8121, Valid loss: 7524.9161\n"
     ]
    },
    {
     "name": "stderr",
     "output_type": "stream",
     "text": [
      "Epoch [80/3000]: 100%|██████████| 66/66 [00:00<00:00, 174.24it/s, loss=1.22e+4]\n"
     ]
    },
    {
     "name": "stdout",
     "output_type": "stream",
     "text": [
      "Epoch [80/3000]: Train loss: 7853.5516, Valid loss: 7492.2053\n"
     ]
    },
    {
     "name": "stderr",
     "output_type": "stream",
     "text": [
      "Epoch [81/3000]: 100%|██████████| 66/66 [00:00<00:00, 178.70it/s, loss=1.33e+4]\n"
     ]
    },
    {
     "name": "stdout",
     "output_type": "stream",
     "text": [
      "Epoch [81/3000]: Train loss: 7858.8047, Valid loss: 7633.0784\n"
     ]
    },
    {
     "name": "stderr",
     "output_type": "stream",
     "text": [
      "Epoch [82/3000]: 100%|██████████| 66/66 [00:00<00:00, 188.37it/s, loss=1.56e+4]\n"
     ]
    },
    {
     "name": "stdout",
     "output_type": "stream",
     "text": [
      "Epoch [82/3000]: Train loss: 7869.7593, Valid loss: 7691.5972\n"
     ]
    },
    {
     "name": "stderr",
     "output_type": "stream",
     "text": [
      "Epoch [83/3000]: 100%|██████████| 66/66 [00:00<00:00, 177.82it/s, loss=4.43e+3]\n"
     ]
    },
    {
     "name": "stdout",
     "output_type": "stream",
     "text": [
      "Epoch [83/3000]: Train loss: 7816.7938, Valid loss: 7624.1484\n"
     ]
    },
    {
     "name": "stderr",
     "output_type": "stream",
     "text": [
      "Epoch [84/3000]: 100%|██████████| 66/66 [00:00<00:00, 178.73it/s, loss=6.92e+3]\n"
     ]
    },
    {
     "name": "stdout",
     "output_type": "stream",
     "text": [
      "Epoch [84/3000]: Train loss: 7828.5880, Valid loss: 7487.9977\n"
     ]
    },
    {
     "name": "stderr",
     "output_type": "stream",
     "text": [
      "Epoch [85/3000]: 100%|██████████| 66/66 [00:00<00:00, 180.34it/s, loss=5.8e+3] \n"
     ]
    },
    {
     "name": "stdout",
     "output_type": "stream",
     "text": [
      "Epoch [85/3000]: Train loss: 7823.2000, Valid loss: 7749.4324\n"
     ]
    },
    {
     "name": "stderr",
     "output_type": "stream",
     "text": [
      "Epoch [86/3000]: 100%|██████████| 66/66 [00:00<00:00, 187.24it/s, loss=4.78e+3]\n"
     ]
    },
    {
     "name": "stdout",
     "output_type": "stream",
     "text": [
      "Epoch [86/3000]: Train loss: 7818.3833, Valid loss: 7511.5741\n"
     ]
    },
    {
     "name": "stderr",
     "output_type": "stream",
     "text": [
      "Epoch [87/3000]: 100%|██████████| 66/66 [00:00<00:00, 171.96it/s, loss=8.69e+3]\n"
     ]
    },
    {
     "name": "stdout",
     "output_type": "stream",
     "text": [
      "Epoch [87/3000]: Train loss: 7836.8063, Valid loss: 7512.9302\n"
     ]
    },
    {
     "name": "stderr",
     "output_type": "stream",
     "text": [
      "Epoch [88/3000]: 100%|██████████| 66/66 [00:00<00:00, 176.10it/s, loss=7.35e+3]\n"
     ]
    },
    {
     "name": "stdout",
     "output_type": "stream",
     "text": [
      "Epoch [88/3000]: Train loss: 7830.8886, Valid loss: 7430.3535\n"
     ]
    },
    {
     "name": "stderr",
     "output_type": "stream",
     "text": [
      "Epoch [89/3000]: 100%|██████████| 66/66 [00:00<00:00, 190.01it/s, loss=6.01e+3]\n"
     ]
    },
    {
     "name": "stdout",
     "output_type": "stream",
     "text": [
      "Epoch [89/3000]: Train loss: 7824.1790, Valid loss: 7738.4592\n"
     ]
    },
    {
     "name": "stderr",
     "output_type": "stream",
     "text": [
      "Epoch [90/3000]: 100%|██████████| 66/66 [00:00<00:00, 175.35it/s, loss=9.11e+3]\n"
     ]
    },
    {
     "name": "stdout",
     "output_type": "stream",
     "text": [
      "Epoch [90/3000]: Train loss: 7838.8277, Valid loss: 7704.8174\n"
     ]
    },
    {
     "name": "stderr",
     "output_type": "stream",
     "text": [
      "Epoch [91/3000]: 100%|██████████| 66/66 [00:00<00:00, 175.18it/s, loss=4e+3]   \n"
     ]
    },
    {
     "name": "stdout",
     "output_type": "stream",
     "text": [
      "Epoch [91/3000]: Train loss: 7814.5547, Valid loss: 7523.1256\n"
     ]
    },
    {
     "name": "stderr",
     "output_type": "stream",
     "text": [
      "Epoch [92/3000]: 100%|██████████| 66/66 [00:00<00:00, 182.66it/s, loss=8.07e+3]\n"
     ]
    },
    {
     "name": "stdout",
     "output_type": "stream",
     "text": [
      "Epoch [92/3000]: Train loss: 7833.8996, Valid loss: 7876.1622\n"
     ]
    },
    {
     "name": "stderr",
     "output_type": "stream",
     "text": [
      "Epoch [93/3000]: 100%|██████████| 66/66 [00:00<00:00, 185.18it/s, loss=7.22e+3]\n"
     ]
    },
    {
     "name": "stdout",
     "output_type": "stream",
     "text": [
      "Epoch [93/3000]: Train loss: 7830.0109, Valid loss: 7673.6628\n"
     ]
    },
    {
     "name": "stderr",
     "output_type": "stream",
     "text": [
      "Epoch [94/3000]: 100%|██████████| 66/66 [00:00<00:00, 175.56it/s, loss=4.44e+3]\n"
     ]
    },
    {
     "name": "stdout",
     "output_type": "stream",
     "text": [
      "Epoch [94/3000]: Train loss: 7816.6068, Valid loss: 7501.4543\n"
     ]
    },
    {
     "name": "stderr",
     "output_type": "stream",
     "text": [
      "Epoch [95/3000]: 100%|██████████| 66/66 [00:00<00:00, 168.73it/s, loss=1.22e+4]\n"
     ]
    },
    {
     "name": "stdout",
     "output_type": "stream",
     "text": [
      "Epoch [95/3000]: Train loss: 7853.5270, Valid loss: 7487.5072\n"
     ]
    },
    {
     "name": "stderr",
     "output_type": "stream",
     "text": [
      "Epoch [96/3000]: 100%|██████████| 66/66 [00:00<00:00, 187.05it/s, loss=4.45e+3]\n"
     ]
    },
    {
     "name": "stdout",
     "output_type": "stream",
     "text": [
      "Epoch [96/3000]: Train loss: 7816.6611, Valid loss: 7805.7326\n"
     ]
    },
    {
     "name": "stderr",
     "output_type": "stream",
     "text": [
      "Epoch [97/3000]: 100%|██████████| 66/66 [00:00<00:00, 182.47it/s, loss=5.19e+3]\n"
     ]
    },
    {
     "name": "stdout",
     "output_type": "stream",
     "text": [
      "Epoch [97/3000]: Train loss: 7820.4353, Valid loss: 7556.6189\n"
     ]
    },
    {
     "name": "stderr",
     "output_type": "stream",
     "text": [
      "Epoch [98/3000]: 100%|██████████| 66/66 [00:00<00:00, 172.71it/s, loss=8.52e+3]\n"
     ]
    },
    {
     "name": "stdout",
     "output_type": "stream",
     "text": [
      "Epoch [98/3000]: Train loss: 7835.8992, Valid loss: 7588.9185\n"
     ]
    },
    {
     "name": "stderr",
     "output_type": "stream",
     "text": [
      "Epoch [99/3000]: 100%|██████████| 66/66 [00:00<00:00, 177.25it/s, loss=8.91e+3]\n"
     ]
    },
    {
     "name": "stdout",
     "output_type": "stream",
     "text": [
      "Epoch [99/3000]: Train loss: 7837.7499, Valid loss: 7490.9573\n"
     ]
    },
    {
     "name": "stderr",
     "output_type": "stream",
     "text": [
      "Epoch [100/3000]: 100%|██████████| 66/66 [00:00<00:00, 184.03it/s, loss=1.21e+4]\n"
     ]
    },
    {
     "name": "stdout",
     "output_type": "stream",
     "text": [
      "Epoch [100/3000]: Train loss: 7852.8589, Valid loss: 7483.4207\n"
     ]
    },
    {
     "name": "stderr",
     "output_type": "stream",
     "text": [
      "Epoch [101/3000]: 100%|██████████| 66/66 [00:00<00:00, 182.62it/s, loss=1.06e+4]\n"
     ]
    },
    {
     "name": "stdout",
     "output_type": "stream",
     "text": [
      "Epoch [101/3000]: Train loss: 7845.8173, Valid loss: 7450.5451\n"
     ]
    },
    {
     "name": "stderr",
     "output_type": "stream",
     "text": [
      "Epoch [102/3000]: 100%|██████████| 66/66 [00:00<00:00, 171.86it/s, loss=7.02e+3]\n"
     ]
    },
    {
     "name": "stdout",
     "output_type": "stream",
     "text": [
      "Epoch [102/3000]: Train loss: 7828.9029, Valid loss: 7603.9453\n"
     ]
    },
    {
     "name": "stderr",
     "output_type": "stream",
     "text": [
      "Epoch [103/3000]: 100%|██████████| 66/66 [00:00<00:00, 174.66it/s, loss=1.14e+4]\n"
     ]
    },
    {
     "name": "stdout",
     "output_type": "stream",
     "text": [
      "Epoch [103/3000]: Train loss: 7849.7339, Valid loss: 7629.9005\n"
     ]
    },
    {
     "name": "stderr",
     "output_type": "stream",
     "text": [
      "Epoch [104/3000]: 100%|██████████| 66/66 [00:00<00:00, 183.43it/s, loss=8.2e+3] \n"
     ]
    },
    {
     "name": "stdout",
     "output_type": "stream",
     "text": [
      "Epoch [104/3000]: Train loss: 7834.3544, Valid loss: 7783.4227\n"
     ]
    },
    {
     "name": "stderr",
     "output_type": "stream",
     "text": [
      "Epoch [105/3000]: 100%|██████████| 66/66 [00:00<00:00, 180.52it/s, loss=7.6e+3] \n"
     ]
    },
    {
     "name": "stdout",
     "output_type": "stream",
     "text": [
      "Epoch [105/3000]: Train loss: 7831.5841, Valid loss: 7669.3461\n"
     ]
    },
    {
     "name": "stderr",
     "output_type": "stream",
     "text": [
      "Epoch [106/3000]: 100%|██████████| 66/66 [00:00<00:00, 175.04it/s, loss=8.01e+3]\n"
     ]
    },
    {
     "name": "stdout",
     "output_type": "stream",
     "text": [
      "Epoch [106/3000]: Train loss: 7833.4862, Valid loss: 7640.8806\n"
     ]
    },
    {
     "name": "stderr",
     "output_type": "stream",
     "text": [
      "Epoch [107/3000]: 100%|██████████| 66/66 [00:00<00:00, 173.57it/s, loss=8.34e+3]\n"
     ]
    },
    {
     "name": "stdout",
     "output_type": "stream",
     "text": [
      "Epoch [107/3000]: Train loss: 7834.9914, Valid loss: 7666.3236\n"
     ]
    },
    {
     "name": "stderr",
     "output_type": "stream",
     "text": [
      "Epoch [108/3000]: 100%|██████████| 66/66 [00:00<00:00, 191.26it/s, loss=5.2e+3] \n"
     ]
    },
    {
     "name": "stdout",
     "output_type": "stream",
     "text": [
      "Epoch [108/3000]: Train loss: 7820.3177, Valid loss: 7479.2245\n"
     ]
    },
    {
     "name": "stderr",
     "output_type": "stream",
     "text": [
      "Epoch [109/3000]: 100%|██████████| 66/66 [00:00<00:00, 182.03it/s, loss=6.11e+3]\n"
     ]
    },
    {
     "name": "stdout",
     "output_type": "stream",
     "text": [
      "Epoch [109/3000]: Train loss: 7824.4983, Valid loss: 7440.7048\n"
     ]
    },
    {
     "name": "stderr",
     "output_type": "stream",
     "text": [
      "Epoch [110/3000]: 100%|██████████| 66/66 [00:00<00:00, 173.60it/s, loss=4.6e+3] \n"
     ]
    },
    {
     "name": "stdout",
     "output_type": "stream",
     "text": [
      "Epoch [110/3000]: Train loss: 7817.3470, Valid loss: 7674.5479\n"
     ]
    },
    {
     "name": "stderr",
     "output_type": "stream",
     "text": [
      "Epoch [111/3000]: 100%|██████████| 66/66 [00:00<00:00, 175.88it/s, loss=1.08e+4]\n"
     ]
    },
    {
     "name": "stdout",
     "output_type": "stream",
     "text": [
      "Epoch [111/3000]: Train loss: 7846.5863, Valid loss: 7553.6627\n"
     ]
    },
    {
     "name": "stderr",
     "output_type": "stream",
     "text": [
      "Epoch [112/3000]: 100%|██████████| 66/66 [00:00<00:00, 184.68it/s, loss=9.13e+3]\n"
     ]
    },
    {
     "name": "stdout",
     "output_type": "stream",
     "text": [
      "Epoch [112/3000]: Train loss: 7838.8690, Valid loss: 7650.4067\n"
     ]
    },
    {
     "name": "stderr",
     "output_type": "stream",
     "text": [
      "Epoch [113/3000]: 100%|██████████| 66/66 [00:00<00:00, 174.74it/s, loss=4.85e+3]\n"
     ]
    },
    {
     "name": "stdout",
     "output_type": "stream",
     "text": [
      "Epoch [113/3000]: Train loss: 7818.4723, Valid loss: 7586.7436\n"
     ]
    },
    {
     "name": "stderr",
     "output_type": "stream",
     "text": [
      "Epoch [114/3000]: 100%|██████████| 66/66 [00:00<00:00, 177.03it/s, loss=1.09e+4]\n"
     ]
    },
    {
     "name": "stdout",
     "output_type": "stream",
     "text": [
      "Epoch [114/3000]: Train loss: 7847.3827, Valid loss: 7451.9771\n"
     ]
    },
    {
     "name": "stderr",
     "output_type": "stream",
     "text": [
      "Epoch [115/3000]: 100%|██████████| 66/66 [00:00<00:00, 172.68it/s, loss=8.83e+3]\n"
     ]
    },
    {
     "name": "stdout",
     "output_type": "stream",
     "text": [
      "Epoch [115/3000]: Train loss: 7837.4264, Valid loss: 7480.8073\n"
     ]
    },
    {
     "name": "stderr",
     "output_type": "stream",
     "text": [
      "Epoch [116/3000]: 100%|██████████| 66/66 [00:00<00:00, 188.07it/s, loss=8.63e+3]\n"
     ]
    },
    {
     "name": "stdout",
     "output_type": "stream",
     "text": [
      "Epoch [116/3000]: Train loss: 7836.4054, Valid loss: 7784.0990\n"
     ]
    },
    {
     "name": "stderr",
     "output_type": "stream",
     "text": [
      "Epoch [117/3000]: 100%|██████████| 66/66 [00:00<00:00, 172.96it/s, loss=6.72e+3]\n"
     ]
    },
    {
     "name": "stdout",
     "output_type": "stream",
     "text": [
      "Epoch [117/3000]: Train loss: 7827.4558, Valid loss: 7557.9699\n"
     ]
    },
    {
     "name": "stderr",
     "output_type": "stream",
     "text": [
      "Epoch [118/3000]: 100%|██████████| 66/66 [00:00<00:00, 173.84it/s, loss=8.08e+3]\n"
     ]
    },
    {
     "name": "stdout",
     "output_type": "stream",
     "text": [
      "Epoch [118/3000]: Train loss: 7833.8574, Valid loss: 7503.8146\n"
     ]
    },
    {
     "name": "stderr",
     "output_type": "stream",
     "text": [
      "Epoch [119/3000]: 100%|██████████| 66/66 [00:00<00:00, 188.69it/s, loss=6.38e+3]\n"
     ]
    },
    {
     "name": "stdout",
     "output_type": "stream",
     "text": [
      "Epoch [119/3000]: Train loss: 7825.8019, Valid loss: 7822.9156\n"
     ]
    },
    {
     "name": "stderr",
     "output_type": "stream",
     "text": [
      "Epoch [120/3000]: 100%|██████████| 66/66 [00:00<00:00, 172.57it/s, loss=1.14e+4]\n"
     ]
    },
    {
     "name": "stdout",
     "output_type": "stream",
     "text": [
      "Epoch [120/3000]: Train loss: 7849.3307, Valid loss: 7767.5335\n"
     ]
    },
    {
     "name": "stderr",
     "output_type": "stream",
     "text": [
      "Epoch [121/3000]: 100%|██████████| 66/66 [00:00<00:00, 176.05it/s, loss=7.41e+3]\n"
     ]
    },
    {
     "name": "stdout",
     "output_type": "stream",
     "text": [
      "Epoch [121/3000]: Train loss: 7830.5966, Valid loss: 7687.7404\n"
     ]
    },
    {
     "name": "stderr",
     "output_type": "stream",
     "text": [
      "Epoch [122/3000]: 100%|██████████| 66/66 [00:00<00:00, 172.40it/s, loss=8.96e+3]\n"
     ]
    },
    {
     "name": "stdout",
     "output_type": "stream",
     "text": [
      "Epoch [122/3000]: Train loss: 7837.9675, Valid loss: 7584.7784\n"
     ]
    },
    {
     "name": "stderr",
     "output_type": "stream",
     "text": [
      "Epoch [123/3000]: 100%|██████████| 66/66 [00:00<00:00, 185.03it/s, loss=7.14e+3]\n"
     ]
    },
    {
     "name": "stdout",
     "output_type": "stream",
     "text": [
      "Epoch [123/3000]: Train loss: 7829.3697, Valid loss: 7846.9241\n"
     ]
    },
    {
     "name": "stderr",
     "output_type": "stream",
     "text": [
      "Epoch [124/3000]: 100%|██████████| 66/66 [00:00<00:00, 174.83it/s, loss=7.48e+3]\n"
     ]
    },
    {
     "name": "stdout",
     "output_type": "stream",
     "text": [
      "Epoch [124/3000]: Train loss: 7830.9559, Valid loss: 7421.4918\n"
     ]
    },
    {
     "name": "stderr",
     "output_type": "stream",
     "text": [
      "Epoch [125/3000]: 100%|██████████| 66/66 [00:00<00:00, 170.21it/s, loss=9.63e+3]\n"
     ]
    },
    {
     "name": "stdout",
     "output_type": "stream",
     "text": [
      "Epoch [125/3000]: Train loss: 7841.2536, Valid loss: 7699.1308\n"
     ]
    },
    {
     "name": "stderr",
     "output_type": "stream",
     "text": [
      "Epoch [126/3000]: 100%|██████████| 66/66 [00:00<00:00, 179.42it/s, loss=4.82e+3]\n"
     ]
    },
    {
     "name": "stdout",
     "output_type": "stream",
     "text": [
      "Epoch [126/3000]: Train loss: 7818.4753, Valid loss: 7787.0811\n"
     ]
    },
    {
     "name": "stderr",
     "output_type": "stream",
     "text": [
      "Epoch [127/3000]: 100%|██████████| 66/66 [00:00<00:00, 184.76it/s, loss=8.86e+3]\n"
     ]
    },
    {
     "name": "stdout",
     "output_type": "stream",
     "text": [
      "Epoch [127/3000]: Train loss: 7837.4184, Valid loss: 7583.9212\n"
     ]
    },
    {
     "name": "stderr",
     "output_type": "stream",
     "text": [
      "Epoch [128/3000]: 100%|██████████| 66/66 [00:00<00:00, 172.57it/s, loss=7.58e+3]\n"
     ]
    },
    {
     "name": "stdout",
     "output_type": "stream",
     "text": [
      "Epoch [128/3000]: Train loss: 7831.4241, Valid loss: 7620.5746\n"
     ]
    },
    {
     "name": "stderr",
     "output_type": "stream",
     "text": [
      "Epoch [129/3000]: 100%|██████████| 66/66 [00:00<00:00, 174.82it/s, loss=4.92e+3]\n"
     ]
    },
    {
     "name": "stdout",
     "output_type": "stream",
     "text": [
      "Epoch [129/3000]: Train loss: 7818.7518, Valid loss: 7435.2476\n"
     ]
    },
    {
     "name": "stderr",
     "output_type": "stream",
     "text": [
      "Epoch [130/3000]: 100%|██████████| 66/66 [00:00<00:00, 178.66it/s, loss=9.61e+3]\n"
     ]
    },
    {
     "name": "stdout",
     "output_type": "stream",
     "text": [
      "Epoch [130/3000]: Train loss: 7841.0033, Valid loss: 7512.6704\n"
     ]
    },
    {
     "name": "stderr",
     "output_type": "stream",
     "text": [
      "Epoch [131/3000]: 100%|██████████| 66/66 [00:00<00:00, 187.33it/s, loss=4.59e+3]\n"
     ]
    },
    {
     "name": "stdout",
     "output_type": "stream",
     "text": [
      "Epoch [131/3000]: Train loss: 7817.3262, Valid loss: 7457.8806\n"
     ]
    },
    {
     "name": "stderr",
     "output_type": "stream",
     "text": [
      "Epoch [132/3000]: 100%|██████████| 66/66 [00:00<00:00, 170.45it/s, loss=3.38e+3]\n"
     ]
    },
    {
     "name": "stdout",
     "output_type": "stream",
     "text": [
      "Epoch [132/3000]: Train loss: 7811.7789, Valid loss: 7584.5142\n"
     ]
    },
    {
     "name": "stderr",
     "output_type": "stream",
     "text": [
      "Epoch [133/3000]: 100%|██████████| 66/66 [00:00<00:00, 174.67it/s, loss=4.71e+3]\n"
     ]
    },
    {
     "name": "stdout",
     "output_type": "stream",
     "text": [
      "Epoch [133/3000]: Train loss: 7817.8045, Valid loss: 7630.4718\n"
     ]
    },
    {
     "name": "stderr",
     "output_type": "stream",
     "text": [
      "Epoch [134/3000]: 100%|██████████| 66/66 [00:00<00:00, 182.12it/s, loss=5.83e+3]\n"
     ]
    },
    {
     "name": "stdout",
     "output_type": "stream",
     "text": [
      "Epoch [134/3000]: Train loss: 7823.0679, Valid loss: 7593.7414\n"
     ]
    },
    {
     "name": "stderr",
     "output_type": "stream",
     "text": [
      "Epoch [135/3000]: 100%|██████████| 66/66 [00:00<00:00, 180.65it/s, loss=1.02e+4]\n"
     ]
    },
    {
     "name": "stdout",
     "output_type": "stream",
     "text": [
      "Epoch [135/3000]: Train loss: 7843.6433, Valid loss: 7716.4964\n"
     ]
    },
    {
     "name": "stderr",
     "output_type": "stream",
     "text": [
      "Epoch [136/3000]: 100%|██████████| 66/66 [00:00<00:00, 176.12it/s, loss=6.44e+3]\n"
     ]
    },
    {
     "name": "stdout",
     "output_type": "stream",
     "text": [
      "Epoch [136/3000]: Train loss: 7826.0275, Valid loss: 7517.7404\n"
     ]
    },
    {
     "name": "stderr",
     "output_type": "stream",
     "text": [
      "Epoch [137/3000]: 100%|██████████| 66/66 [00:00<00:00, 172.95it/s, loss=1.56e+4]\n"
     ]
    },
    {
     "name": "stdout",
     "output_type": "stream",
     "text": [
      "Epoch [137/3000]: Train loss: 7869.1629, Valid loss: 7627.6950\n"
     ]
    },
    {
     "name": "stderr",
     "output_type": "stream",
     "text": [
      "Epoch [138/3000]: 100%|██████████| 66/66 [00:00<00:00, 184.46it/s, loss=7.19e+3]\n"
     ]
    },
    {
     "name": "stdout",
     "output_type": "stream",
     "text": [
      "Epoch [138/3000]: Train loss: 7829.6120, Valid loss: 7549.6301\n"
     ]
    },
    {
     "name": "stderr",
     "output_type": "stream",
     "text": [
      "Epoch [139/3000]: 100%|██████████| 66/66 [00:00<00:00, 173.19it/s, loss=1.14e+4]\n"
     ]
    },
    {
     "name": "stdout",
     "output_type": "stream",
     "text": [
      "Epoch [139/3000]: Train loss: 7849.3608, Valid loss: 7551.4858\n"
     ]
    },
    {
     "name": "stderr",
     "output_type": "stream",
     "text": [
      "Epoch [140/3000]: 100%|██████████| 66/66 [00:00<00:00, 168.18it/s, loss=7.98e+3]\n"
     ]
    },
    {
     "name": "stdout",
     "output_type": "stream",
     "text": [
      "Epoch [140/3000]: Train loss: 7833.3034, Valid loss: 7742.7241\n"
     ]
    },
    {
     "name": "stderr",
     "output_type": "stream",
     "text": [
      "Epoch [141/3000]: 100%|██████████| 66/66 [00:00<00:00, 187.12it/s, loss=6.54e+3]\n"
     ]
    },
    {
     "name": "stdout",
     "output_type": "stream",
     "text": [
      "Epoch [141/3000]: Train loss: 7826.5395, Valid loss: 7745.6482\n"
     ]
    },
    {
     "name": "stderr",
     "output_type": "stream",
     "text": [
      "Epoch [142/3000]: 100%|██████████| 66/66 [00:00<00:00, 178.49it/s, loss=8.54e+3]\n"
     ]
    },
    {
     "name": "stdout",
     "output_type": "stream",
     "text": [
      "Epoch [142/3000]: Train loss: 7836.0141, Valid loss: 7474.9591\n"
     ]
    },
    {
     "name": "stderr",
     "output_type": "stream",
     "text": [
      "Epoch [143/3000]: 100%|██████████| 66/66 [00:00<00:00, 172.93it/s, loss=7.45e+3]\n"
     ]
    },
    {
     "name": "stdout",
     "output_type": "stream",
     "text": [
      "Epoch [143/3000]: Train loss: 7830.8699, Valid loss: 7623.1391\n"
     ]
    },
    {
     "name": "stderr",
     "output_type": "stream",
     "text": [
      "Epoch [144/3000]: 100%|██████████| 66/66 [00:00<00:00, 176.47it/s, loss=5.47e+3]\n"
     ]
    },
    {
     "name": "stdout",
     "output_type": "stream",
     "text": [
      "Epoch [144/3000]: Train loss: 7821.8788, Valid loss: 7582.0718\n"
     ]
    },
    {
     "name": "stderr",
     "output_type": "stream",
     "text": [
      "Epoch [145/3000]: 100%|██████████| 66/66 [00:00<00:00, 184.43it/s, loss=7.57e+3]\n"
     ]
    },
    {
     "name": "stdout",
     "output_type": "stream",
     "text": [
      "Epoch [145/3000]: Train loss: 7831.6895, Valid loss: 7640.7390\n"
     ]
    },
    {
     "name": "stderr",
     "output_type": "stream",
     "text": [
      "Epoch [146/3000]: 100%|██████████| 66/66 [00:00<00:00, 174.29it/s, loss=9.97e+3]\n"
     ]
    },
    {
     "name": "stdout",
     "output_type": "stream",
     "text": [
      "Epoch [146/3000]: Train loss: 7842.6914, Valid loss: 7544.3224\n"
     ]
    },
    {
     "name": "stderr",
     "output_type": "stream",
     "text": [
      "Epoch [147/3000]: 100%|██████████| 66/66 [00:00<00:00, 172.74it/s, loss=1e+4]   \n"
     ]
    },
    {
     "name": "stdout",
     "output_type": "stream",
     "text": [
      "Epoch [147/3000]: Train loss: 7842.8665, Valid loss: 7736.0115\n"
     ]
    },
    {
     "name": "stderr",
     "output_type": "stream",
     "text": [
      "Epoch [148/3000]: 100%|██████████| 66/66 [00:00<00:00, 171.02it/s, loss=1.09e+4]\n"
     ]
    },
    {
     "name": "stdout",
     "output_type": "stream",
     "text": [
      "Epoch [148/3000]: Train loss: 7847.1177, Valid loss: 7493.0565\n"
     ]
    },
    {
     "name": "stderr",
     "output_type": "stream",
     "text": [
      "Epoch [149/3000]: 100%|██████████| 66/66 [00:00<00:00, 186.39it/s, loss=6.38e+3]\n"
     ]
    },
    {
     "name": "stdout",
     "output_type": "stream",
     "text": [
      "Epoch [149/3000]: Train loss: 7825.6728, Valid loss: 7709.8921\n"
     ]
    },
    {
     "name": "stderr",
     "output_type": "stream",
     "text": [
      "Epoch [150/3000]: 100%|██████████| 66/66 [00:00<00:00, 169.41it/s, loss=5.35e+3]\n"
     ]
    },
    {
     "name": "stdout",
     "output_type": "stream",
     "text": [
      "Epoch [150/3000]: Train loss: 7820.8825, Valid loss: 7640.5892\n"
     ]
    },
    {
     "name": "stderr",
     "output_type": "stream",
     "text": [
      "Epoch [151/3000]: 100%|██████████| 66/66 [00:00<00:00, 172.17it/s, loss=8.64e+3]\n"
     ]
    },
    {
     "name": "stdout",
     "output_type": "stream",
     "text": [
      "Epoch [151/3000]: Train loss: 7836.3968, Valid loss: 7625.5034\n"
     ]
    },
    {
     "name": "stderr",
     "output_type": "stream",
     "text": [
      "Epoch [152/3000]: 100%|██████████| 66/66 [00:00<00:00, 179.72it/s, loss=1.24e+4]\n"
     ]
    },
    {
     "name": "stdout",
     "output_type": "stream",
     "text": [
      "Epoch [152/3000]: Train loss: 7854.3817, Valid loss: 7459.7688\n"
     ]
    },
    {
     "name": "stderr",
     "output_type": "stream",
     "text": [
      "Epoch [153/3000]: 100%|██████████| 66/66 [00:00<00:00, 166.45it/s, loss=5.65e+3]\n"
     ]
    },
    {
     "name": "stdout",
     "output_type": "stream",
     "text": [
      "Epoch [153/3000]: Train loss: 7822.3421, Valid loss: 7728.5457\n"
     ]
    },
    {
     "name": "stderr",
     "output_type": "stream",
     "text": [
      "Epoch [154/3000]: 100%|██████████| 66/66 [00:00<00:00, 173.83it/s, loss=7.46e+3]\n"
     ]
    },
    {
     "name": "stdout",
     "output_type": "stream",
     "text": [
      "Epoch [154/3000]: Train loss: 7830.9156, Valid loss: 7433.4544\n"
     ]
    },
    {
     "name": "stderr",
     "output_type": "stream",
     "text": [
      "Epoch [155/3000]: 100%|██████████| 66/66 [00:00<00:00, 173.91it/s, loss=5.06e+3]\n"
     ]
    },
    {
     "name": "stdout",
     "output_type": "stream",
     "text": [
      "Epoch [155/3000]: Train loss: 7819.6510, Valid loss: 7439.7658\n"
     ]
    },
    {
     "name": "stderr",
     "output_type": "stream",
     "text": [
      "Epoch [156/3000]: 100%|██████████| 66/66 [00:00<00:00, 183.37it/s, loss=9.07e+3]\n"
     ]
    },
    {
     "name": "stdout",
     "output_type": "stream",
     "text": [
      "Epoch [156/3000]: Train loss: 7838.4158, Valid loss: 7508.0257\n"
     ]
    },
    {
     "name": "stderr",
     "output_type": "stream",
     "text": [
      "Epoch [157/3000]: 100%|██████████| 66/66 [00:00<00:00, 170.16it/s, loss=8.59e+3]\n"
     ]
    },
    {
     "name": "stdout",
     "output_type": "stream",
     "text": [
      "Epoch [157/3000]: Train loss: 7836.3002, Valid loss: 7678.7234\n"
     ]
    },
    {
     "name": "stderr",
     "output_type": "stream",
     "text": [
      "Epoch [158/3000]: 100%|██████████| 66/66 [00:00<00:00, 170.48it/s, loss=1.84e+4]\n"
     ]
    },
    {
     "name": "stdout",
     "output_type": "stream",
     "text": [
      "Epoch [158/3000]: Train loss: 7882.7264, Valid loss: 7764.7342\n"
     ]
    },
    {
     "name": "stderr",
     "output_type": "stream",
     "text": [
      "Epoch [159/3000]: 100%|██████████| 66/66 [00:00<00:00, 185.19it/s, loss=4.81e+3]\n"
     ]
    },
    {
     "name": "stdout",
     "output_type": "stream",
     "text": [
      "Epoch [159/3000]: Train loss: 7818.2719, Valid loss: 7559.1414\n"
     ]
    },
    {
     "name": "stderr",
     "output_type": "stream",
     "text": [
      "Epoch [160/3000]: 100%|██████████| 66/66 [00:00<00:00, 169.95it/s, loss=7.39e+3]\n"
     ]
    },
    {
     "name": "stdout",
     "output_type": "stream",
     "text": [
      "Epoch [160/3000]: Train loss: 7830.4958, Valid loss: 7487.4595\n"
     ]
    },
    {
     "name": "stderr",
     "output_type": "stream",
     "text": [
      "Epoch [161/3000]: 100%|██████████| 66/66 [00:00<00:00, 173.93it/s, loss=7.92e+3]\n"
     ]
    },
    {
     "name": "stdout",
     "output_type": "stream",
     "text": [
      "Epoch [161/3000]: Train loss: 7833.2461, Valid loss: 7456.6115\n"
     ]
    },
    {
     "name": "stderr",
     "output_type": "stream",
     "text": [
      "Epoch [162/3000]: 100%|██████████| 66/66 [00:00<00:00, 170.05it/s, loss=9.11e+3]\n"
     ]
    },
    {
     "name": "stdout",
     "output_type": "stream",
     "text": [
      "Epoch [162/3000]: Train loss: 7838.7323, Valid loss: 7468.6985\n"
     ]
    },
    {
     "name": "stderr",
     "output_type": "stream",
     "text": [
      "Epoch [163/3000]: 100%|██████████| 66/66 [00:00<00:00, 181.87it/s, loss=9.15e+3]\n"
     ]
    },
    {
     "name": "stdout",
     "output_type": "stream",
     "text": [
      "Epoch [163/3000]: Train loss: 7838.8467, Valid loss: 7587.3407\n"
     ]
    },
    {
     "name": "stderr",
     "output_type": "stream",
     "text": [
      "Epoch [164/3000]: 100%|██████████| 66/66 [00:00<00:00, 173.47it/s, loss=8.8e+3] \n"
     ]
    },
    {
     "name": "stdout",
     "output_type": "stream",
     "text": [
      "Epoch [164/3000]: Train loss: 7837.1215, Valid loss: 7452.5128\n"
     ]
    },
    {
     "name": "stderr",
     "output_type": "stream",
     "text": [
      "Epoch [165/3000]: 100%|██████████| 66/66 [00:00<00:00, 165.51it/s, loss=7.53e+3]\n"
     ]
    },
    {
     "name": "stdout",
     "output_type": "stream",
     "text": [
      "Epoch [165/3000]: Train loss: 7831.1214, Valid loss: 7488.6076\n"
     ]
    },
    {
     "name": "stderr",
     "output_type": "stream",
     "text": [
      "Epoch [166/3000]: 100%|██████████| 66/66 [00:00<00:00, 182.72it/s, loss=6.08e+3]\n"
     ]
    },
    {
     "name": "stdout",
     "output_type": "stream",
     "text": [
      "Epoch [166/3000]: Train loss: 7824.2600, Valid loss: 7667.1056\n"
     ]
    },
    {
     "name": "stderr",
     "output_type": "stream",
     "text": [
      "Epoch [167/3000]: 100%|██████████| 66/66 [00:00<00:00, 171.49it/s, loss=9.01e+3]\n"
     ]
    },
    {
     "name": "stdout",
     "output_type": "stream",
     "text": [
      "Epoch [167/3000]: Train loss: 7838.2205, Valid loss: 7504.9570\n"
     ]
    },
    {
     "name": "stderr",
     "output_type": "stream",
     "text": [
      "Epoch [168/3000]: 100%|██████████| 66/66 [00:00<00:00, 171.20it/s, loss=9.41e+3]\n"
     ]
    },
    {
     "name": "stdout",
     "output_type": "stream",
     "text": [
      "Epoch [168/3000]: Train loss: 7840.2246, Valid loss: 7509.4625\n"
     ]
    },
    {
     "name": "stderr",
     "output_type": "stream",
     "text": [
      "Epoch [169/3000]: 100%|██████████| 66/66 [00:00<00:00, 171.93it/s, loss=8.69e+3]\n"
     ]
    },
    {
     "name": "stdout",
     "output_type": "stream",
     "text": [
      "Epoch [169/3000]: Train loss: 7836.6795, Valid loss: 7486.2452\n"
     ]
    },
    {
     "name": "stderr",
     "output_type": "stream",
     "text": [
      "Epoch [170/3000]: 100%|██████████| 66/66 [00:00<00:00, 180.08it/s, loss=5.42e+3]\n"
     ]
    },
    {
     "name": "stdout",
     "output_type": "stream",
     "text": [
      "Epoch [170/3000]: Train loss: 7821.2216, Valid loss: 7466.5497\n"
     ]
    },
    {
     "name": "stderr",
     "output_type": "stream",
     "text": [
      "Epoch [171/3000]: 100%|██████████| 66/66 [00:00<00:00, 171.80it/s, loss=3.39e+3]\n"
     ]
    },
    {
     "name": "stdout",
     "output_type": "stream",
     "text": [
      "Epoch [171/3000]: Train loss: 7811.6167, Valid loss: 7483.1299\n"
     ]
    },
    {
     "name": "stderr",
     "output_type": "stream",
     "text": [
      "Epoch [172/3000]: 100%|██████████| 66/66 [00:00<00:00, 170.58it/s, loss=8.02e+3]\n"
     ]
    },
    {
     "name": "stdout",
     "output_type": "stream",
     "text": [
      "Epoch [172/3000]: Train loss: 7833.4977, Valid loss: 7681.6683\n"
     ]
    },
    {
     "name": "stderr",
     "output_type": "stream",
     "text": [
      "Epoch [173/3000]: 100%|██████████| 66/66 [00:00<00:00, 180.89it/s, loss=5.26e+3]\n"
     ]
    },
    {
     "name": "stdout",
     "output_type": "stream",
     "text": [
      "Epoch [173/3000]: Train loss: 7820.7188, Valid loss: 7631.2776\n"
     ]
    },
    {
     "name": "stderr",
     "output_type": "stream",
     "text": [
      "Epoch [174/3000]: 100%|██████████| 66/66 [00:00<00:00, 176.48it/s, loss=5.51e+3]\n"
     ]
    },
    {
     "name": "stdout",
     "output_type": "stream",
     "text": [
      "Epoch [174/3000]: Train loss: 7821.5660, Valid loss: 7541.8233\n"
     ]
    },
    {
     "name": "stderr",
     "output_type": "stream",
     "text": [
      "Epoch [175/3000]: 100%|██████████| 66/66 [00:00<00:00, 169.97it/s, loss=5.19e+3]\n"
     ]
    },
    {
     "name": "stdout",
     "output_type": "stream",
     "text": [
      "Epoch [175/3000]: Train loss: 7820.0383, Valid loss: 7740.8590\n"
     ]
    },
    {
     "name": "stderr",
     "output_type": "stream",
     "text": [
      "Epoch [176/3000]: 100%|██████████| 66/66 [00:00<00:00, 173.72it/s, loss=4.23e+3]\n"
     ]
    },
    {
     "name": "stdout",
     "output_type": "stream",
     "text": [
      "Epoch [176/3000]: Train loss: 7815.6221, Valid loss: 7510.8221\n"
     ]
    },
    {
     "name": "stderr",
     "output_type": "stream",
     "text": [
      "Epoch [177/3000]: 100%|██████████| 66/66 [00:00<00:00, 180.28it/s, loss=1.06e+4]\n"
     ]
    },
    {
     "name": "stdout",
     "output_type": "stream",
     "text": [
      "Epoch [177/3000]: Train loss: 7845.7462, Valid loss: 7563.7884\n"
     ]
    },
    {
     "name": "stderr",
     "output_type": "stream",
     "text": [
      "Epoch [178/3000]: 100%|██████████| 66/66 [00:00<00:00, 170.55it/s, loss=1.03e+4]\n"
     ]
    },
    {
     "name": "stdout",
     "output_type": "stream",
     "text": [
      "Epoch [178/3000]: Train loss: 7844.1259, Valid loss: 7564.6870\n"
     ]
    },
    {
     "name": "stderr",
     "output_type": "stream",
     "text": [
      "Epoch [179/3000]: 100%|██████████| 66/66 [00:00<00:00, 174.58it/s, loss=1.26e+4]\n"
     ]
    },
    {
     "name": "stdout",
     "output_type": "stream",
     "text": [
      "Epoch [179/3000]: Train loss: 7855.0746, Valid loss: 7477.3622\n"
     ]
    },
    {
     "name": "stderr",
     "output_type": "stream",
     "text": [
      "Epoch [180/3000]: 100%|██████████| 66/66 [00:00<00:00, 168.85it/s, loss=4.21e+3]\n"
     ]
    },
    {
     "name": "stdout",
     "output_type": "stream",
     "text": [
      "Epoch [180/3000]: Train loss: 7815.4743, Valid loss: 7533.4543\n"
     ]
    },
    {
     "name": "stderr",
     "output_type": "stream",
     "text": [
      "Epoch [181/3000]: 100%|██████████| 66/66 [00:00<00:00, 181.24it/s, loss=6.48e+3]\n"
     ]
    },
    {
     "name": "stdout",
     "output_type": "stream",
     "text": [
      "Epoch [181/3000]: Train loss: 7826.1479, Valid loss: 7715.8022\n"
     ]
    },
    {
     "name": "stderr",
     "output_type": "stream",
     "text": [
      "Epoch [182/3000]: 100%|██████████| 66/66 [00:00<00:00, 173.61it/s, loss=7.25e+3]\n"
     ]
    },
    {
     "name": "stdout",
     "output_type": "stream",
     "text": [
      "Epoch [182/3000]: Train loss: 7829.8870, Valid loss: 7537.4932\n"
     ]
    },
    {
     "name": "stderr",
     "output_type": "stream",
     "text": [
      "Epoch [183/3000]: 100%|██████████| 66/66 [00:00<00:00, 169.52it/s, loss=6.24e+3]\n"
     ]
    },
    {
     "name": "stdout",
     "output_type": "stream",
     "text": [
      "Epoch [183/3000]: Train loss: 7825.2259, Valid loss: 7771.0842\n"
     ]
    },
    {
     "name": "stderr",
     "output_type": "stream",
     "text": [
      "Epoch [184/3000]: 100%|██████████| 66/66 [00:00<00:00, 170.85it/s, loss=5.35e+3]\n"
     ]
    },
    {
     "name": "stdout",
     "output_type": "stream",
     "text": [
      "Epoch [184/3000]: Train loss: 7820.7482, Valid loss: 7550.5769\n"
     ]
    },
    {
     "name": "stderr",
     "output_type": "stream",
     "text": [
      "Epoch [185/3000]: 100%|██████████| 66/66 [00:00<00:00, 180.10it/s, loss=1.06e+4]\n"
     ]
    },
    {
     "name": "stdout",
     "output_type": "stream",
     "text": [
      "Epoch [185/3000]: Train loss: 7845.7569, Valid loss: 7494.0020\n"
     ]
    },
    {
     "name": "stderr",
     "output_type": "stream",
     "text": [
      "Epoch [186/3000]: 100%|██████████| 66/66 [00:00<00:00, 172.54it/s, loss=1.28e+4]\n"
     ]
    },
    {
     "name": "stdout",
     "output_type": "stream",
     "text": [
      "Epoch [186/3000]: Train loss: 7856.0441, Valid loss: 7530.4665\n"
     ]
    },
    {
     "name": "stderr",
     "output_type": "stream",
     "text": [
      "Epoch [187/3000]: 100%|██████████| 66/66 [00:00<00:00, 169.15it/s, loss=6.34e+3]\n"
     ]
    },
    {
     "name": "stdout",
     "output_type": "stream",
     "text": [
      "Epoch [187/3000]: Train loss: 7825.5180, Valid loss: 7509.7690\n"
     ]
    },
    {
     "name": "stderr",
     "output_type": "stream",
     "text": [
      "Epoch [188/3000]: 100%|██████████| 66/66 [00:00<00:00, 180.91it/s, loss=8.88e+3]\n"
     ]
    },
    {
     "name": "stdout",
     "output_type": "stream",
     "text": [
      "Epoch [188/3000]: Train loss: 7837.6150, Valid loss: 7533.7333\n"
     ]
    },
    {
     "name": "stderr",
     "output_type": "stream",
     "text": [
      "Epoch [189/3000]: 100%|██████████| 66/66 [00:00<00:00, 174.52it/s, loss=1.02e+4]\n"
     ]
    },
    {
     "name": "stdout",
     "output_type": "stream",
     "text": [
      "Epoch [189/3000]: Train loss: 7844.0321, Valid loss: 7564.4240\n"
     ]
    },
    {
     "name": "stderr",
     "output_type": "stream",
     "text": [
      "Epoch [190/3000]: 100%|██████████| 66/66 [00:00<00:00, 168.06it/s, loss=5.28e+3]\n"
     ]
    },
    {
     "name": "stdout",
     "output_type": "stream",
     "text": [
      "Epoch [190/3000]: Train loss: 7820.4916, Valid loss: 7680.6627\n"
     ]
    },
    {
     "name": "stderr",
     "output_type": "stream",
     "text": [
      "Epoch [191/3000]: 100%|██████████| 66/66 [00:00<00:00, 172.21it/s, loss=1.22e+4]\n"
     ]
    },
    {
     "name": "stdout",
     "output_type": "stream",
     "text": [
      "Epoch [191/3000]: Train loss: 7853.4217, Valid loss: 7738.9857\n"
     ]
    },
    {
     "name": "stderr",
     "output_type": "stream",
     "text": [
      "Epoch [192/3000]: 100%|██████████| 66/66 [00:00<00:00, 179.25it/s, loss=1.25e+4]\n"
     ]
    },
    {
     "name": "stdout",
     "output_type": "stream",
     "text": [
      "Epoch [192/3000]: Train loss: 7854.7744, Valid loss: 7403.5704\n",
      "Saving model with loss 7403.570...\n"
     ]
    },
    {
     "name": "stderr",
     "output_type": "stream",
     "text": [
      "Epoch [193/3000]: 100%|██████████| 66/66 [00:00<00:00, 176.12it/s, loss=3.66e+3]\n"
     ]
    },
    {
     "name": "stdout",
     "output_type": "stream",
     "text": [
      "Epoch [193/3000]: Train loss: 7813.0927, Valid loss: 7514.8546\n"
     ]
    },
    {
     "name": "stderr",
     "output_type": "stream",
     "text": [
      "Epoch [194/3000]: 100%|██████████| 66/66 [00:00<00:00, 174.18it/s, loss=8.39e+3]\n"
     ]
    },
    {
     "name": "stdout",
     "output_type": "stream",
     "text": [
      "Epoch [194/3000]: Train loss: 7835.3435, Valid loss: 7783.3380\n"
     ]
    },
    {
     "name": "stderr",
     "output_type": "stream",
     "text": [
      "Epoch [195/3000]: 100%|██████████| 66/66 [00:00<00:00, 169.60it/s, loss=8.56e+3]\n"
     ]
    },
    {
     "name": "stdout",
     "output_type": "stream",
     "text": [
      "Epoch [195/3000]: Train loss: 7836.0532, Valid loss: 7595.1768\n"
     ]
    },
    {
     "name": "stderr",
     "output_type": "stream",
     "text": [
      "Epoch [196/3000]: 100%|██████████| 66/66 [00:00<00:00, 182.59it/s, loss=3.58e+3]\n"
     ]
    },
    {
     "name": "stdout",
     "output_type": "stream",
     "text": [
      "Epoch [196/3000]: Train loss: 7812.4613, Valid loss: 7487.3169\n"
     ]
    },
    {
     "name": "stderr",
     "output_type": "stream",
     "text": [
      "Epoch [197/3000]: 100%|██████████| 66/66 [00:00<00:00, 166.05it/s, loss=5.63e+3]\n"
     ]
    },
    {
     "name": "stdout",
     "output_type": "stream",
     "text": [
      "Epoch [197/3000]: Train loss: 7822.1526, Valid loss: 7674.0951\n"
     ]
    },
    {
     "name": "stderr",
     "output_type": "stream",
     "text": [
      "Epoch [198/3000]: 100%|██████████| 66/66 [00:00<00:00, 169.37it/s, loss=6.04e+3]\n"
     ]
    },
    {
     "name": "stdout",
     "output_type": "stream",
     "text": [
      "Epoch [198/3000]: Train loss: 7824.1282, Valid loss: 7528.1089\n"
     ]
    },
    {
     "name": "stderr",
     "output_type": "stream",
     "text": [
      "Epoch [199/3000]: 100%|██████████| 66/66 [00:00<00:00, 172.42it/s, loss=1.28e+4]\n"
     ]
    },
    {
     "name": "stdout",
     "output_type": "stream",
     "text": [
      "Epoch [199/3000]: Train loss: 7856.3461, Valid loss: 7652.9281\n"
     ]
    },
    {
     "name": "stderr",
     "output_type": "stream",
     "text": [
      "Epoch [200/3000]: 100%|██████████| 66/66 [00:00<00:00, 179.62it/s, loss=1.48e+4]\n"
     ]
    },
    {
     "name": "stdout",
     "output_type": "stream",
     "text": [
      "Epoch [200/3000]: Train loss: 7865.7154, Valid loss: 7566.6551\n"
     ]
    },
    {
     "name": "stderr",
     "output_type": "stream",
     "text": [
      "Epoch [201/3000]: 100%|██████████| 66/66 [00:00<00:00, 170.16it/s, loss=7.94e+3]\n"
     ]
    },
    {
     "name": "stdout",
     "output_type": "stream",
     "text": [
      "Epoch [201/3000]: Train loss: 7833.1118, Valid loss: 7693.3255\n"
     ]
    },
    {
     "name": "stderr",
     "output_type": "stream",
     "text": [
      "Epoch [202/3000]: 100%|██████████| 66/66 [00:00<00:00, 163.72it/s, loss=6.91e+3]\n"
     ]
    },
    {
     "name": "stdout",
     "output_type": "stream",
     "text": [
      "Epoch [202/3000]: Train loss: 7828.2980, Valid loss: 7628.7335\n"
     ]
    },
    {
     "name": "stderr",
     "output_type": "stream",
     "text": [
      "Epoch [203/3000]: 100%|██████████| 66/66 [00:00<00:00, 169.70it/s, loss=5.94e+3]\n"
     ]
    },
    {
     "name": "stdout",
     "output_type": "stream",
     "text": [
      "Epoch [203/3000]: Train loss: 7823.6370, Valid loss: 7425.4565\n"
     ]
    },
    {
     "name": "stderr",
     "output_type": "stream",
     "text": [
      "Epoch [204/3000]: 100%|██████████| 66/66 [00:00<00:00, 182.27it/s, loss=5.6e+3] \n"
     ]
    },
    {
     "name": "stdout",
     "output_type": "stream",
     "text": [
      "Epoch [204/3000]: Train loss: 7822.0541, Valid loss: 7799.8047\n"
     ]
    },
    {
     "name": "stderr",
     "output_type": "stream",
     "text": [
      "Epoch [205/3000]: 100%|██████████| 66/66 [00:00<00:00, 168.10it/s, loss=7.23e+3]\n"
     ]
    },
    {
     "name": "stdout",
     "output_type": "stream",
     "text": [
      "Epoch [205/3000]: Train loss: 7829.6905, Valid loss: 7524.8577\n"
     ]
    },
    {
     "name": "stderr",
     "output_type": "stream",
     "text": [
      "Epoch [206/3000]: 100%|██████████| 66/66 [00:00<00:00, 171.94it/s, loss=5.94e+3]\n"
     ]
    },
    {
     "name": "stdout",
     "output_type": "stream",
     "text": [
      "Epoch [206/3000]: Train loss: 7823.5969, Valid loss: 7533.8427\n"
     ]
    },
    {
     "name": "stderr",
     "output_type": "stream",
     "text": [
      "Epoch [207/3000]: 100%|██████████| 66/66 [00:00<00:00, 168.30it/s, loss=4.28e+3]\n"
     ]
    },
    {
     "name": "stdout",
     "output_type": "stream",
     "text": [
      "Epoch [207/3000]: Train loss: 7815.8109, Valid loss: 7510.7933\n"
     ]
    },
    {
     "name": "stderr",
     "output_type": "stream",
     "text": [
      "Epoch [208/3000]: 100%|██████████| 66/66 [00:00<00:00, 179.93it/s, loss=7.64e+3]\n"
     ]
    },
    {
     "name": "stdout",
     "output_type": "stream",
     "text": [
      "Epoch [208/3000]: Train loss: 7831.6854, Valid loss: 7489.4167\n"
     ]
    },
    {
     "name": "stderr",
     "output_type": "stream",
     "text": [
      "Epoch [209/3000]: 100%|██████████| 66/66 [00:00<00:00, 170.34it/s, loss=3.73e+3]\n"
     ]
    },
    {
     "name": "stdout",
     "output_type": "stream",
     "text": [
      "Epoch [209/3000]: Train loss: 7813.1513, Valid loss: 7628.8370\n"
     ]
    },
    {
     "name": "stderr",
     "output_type": "stream",
     "text": [
      "Epoch [210/3000]: 100%|██████████| 66/66 [00:00<00:00, 170.50it/s, loss=9.75e+3]\n"
     ]
    },
    {
     "name": "stdout",
     "output_type": "stream",
     "text": [
      "Epoch [210/3000]: Train loss: 7841.7783, Valid loss: 7630.2018\n"
     ]
    },
    {
     "name": "stderr",
     "output_type": "stream",
     "text": [
      "Epoch [211/3000]: 100%|██████████| 66/66 [00:00<00:00, 177.80it/s, loss=7.46e+3]\n"
     ]
    },
    {
     "name": "stdout",
     "output_type": "stream",
     "text": [
      "Epoch [211/3000]: Train loss: 7830.8150, Valid loss: 7678.0978\n"
     ]
    },
    {
     "name": "stderr",
     "output_type": "stream",
     "text": [
      "Epoch [212/3000]: 100%|██████████| 66/66 [00:00<00:00, 176.37it/s, loss=1.29e+4]\n"
     ]
    },
    {
     "name": "stdout",
     "output_type": "stream",
     "text": [
      "Epoch [212/3000]: Train loss: 7856.5307, Valid loss: 7518.4533\n"
     ]
    },
    {
     "name": "stderr",
     "output_type": "stream",
     "text": [
      "Epoch [213/3000]: 100%|██████████| 66/66 [00:00<00:00, 170.18it/s, loss=7.42e+3]\n"
     ]
    },
    {
     "name": "stdout",
     "output_type": "stream",
     "text": [
      "Epoch [213/3000]: Train loss: 7830.7408, Valid loss: 7702.6489\n"
     ]
    },
    {
     "name": "stderr",
     "output_type": "stream",
     "text": [
      "Epoch [214/3000]: 100%|██████████| 66/66 [00:00<00:00, 172.52it/s, loss=6.03e+3]\n"
     ]
    },
    {
     "name": "stdout",
     "output_type": "stream",
     "text": [
      "Epoch [214/3000]: Train loss: 7824.1298, Valid loss: 7623.3633\n"
     ]
    },
    {
     "name": "stderr",
     "output_type": "stream",
     "text": [
      "Epoch [215/3000]: 100%|██████████| 66/66 [00:00<00:00, 176.84it/s, loss=5.98e+3]\n"
     ]
    },
    {
     "name": "stdout",
     "output_type": "stream",
     "text": [
      "Epoch [215/3000]: Train loss: 7823.9355, Valid loss: 7508.5801\n"
     ]
    },
    {
     "name": "stderr",
     "output_type": "stream",
     "text": [
      "Epoch [216/3000]: 100%|██████████| 66/66 [00:00<00:00, 172.71it/s, loss=5.52e+3]\n"
     ]
    },
    {
     "name": "stdout",
     "output_type": "stream",
     "text": [
      "Epoch [216/3000]: Train loss: 7821.6198, Valid loss: 7630.4085\n"
     ]
    },
    {
     "name": "stderr",
     "output_type": "stream",
     "text": [
      "Epoch [217/3000]: 100%|██████████| 66/66 [00:00<00:00, 167.25it/s, loss=1.03e+4]\n"
     ]
    },
    {
     "name": "stdout",
     "output_type": "stream",
     "text": [
      "Epoch [217/3000]: Train loss: 7844.3857, Valid loss: 7559.7576\n"
     ]
    },
    {
     "name": "stderr",
     "output_type": "stream",
     "text": [
      "Epoch [218/3000]: 100%|██████████| 66/66 [00:00<00:00, 180.10it/s, loss=7.98e+3]\n"
     ]
    },
    {
     "name": "stdout",
     "output_type": "stream",
     "text": [
      "Epoch [218/3000]: Train loss: 7833.4043, Valid loss: 7552.0306\n"
     ]
    },
    {
     "name": "stderr",
     "output_type": "stream",
     "text": [
      "Epoch [219/3000]: 100%|██████████| 66/66 [00:00<00:00, 170.67it/s, loss=4.78e+3]\n"
     ]
    },
    {
     "name": "stdout",
     "output_type": "stream",
     "text": [
      "Epoch [219/3000]: Train loss: 7818.3117, Valid loss: 7940.8958\n"
     ]
    },
    {
     "name": "stderr",
     "output_type": "stream",
     "text": [
      "Epoch [220/3000]: 100%|██████████| 66/66 [00:00<00:00, 167.07it/s, loss=4.32e+3]\n"
     ]
    },
    {
     "name": "stdout",
     "output_type": "stream",
     "text": [
      "Epoch [220/3000]: Train loss: 7816.1674, Valid loss: 7464.9939\n"
     ]
    },
    {
     "name": "stderr",
     "output_type": "stream",
     "text": [
      "Epoch [221/3000]: 100%|██████████| 66/66 [00:00<00:00, 170.10it/s, loss=8.61e+3]\n"
     ]
    },
    {
     "name": "stdout",
     "output_type": "stream",
     "text": [
      "Epoch [221/3000]: Train loss: 7836.2903, Valid loss: 7858.8493\n"
     ]
    },
    {
     "name": "stderr",
     "output_type": "stream",
     "text": [
      "Epoch [222/3000]: 100%|██████████| 66/66 [00:00<00:00, 177.90it/s, loss=9.94e+3]\n"
     ]
    },
    {
     "name": "stdout",
     "output_type": "stream",
     "text": [
      "Epoch [222/3000]: Train loss: 7842.6966, Valid loss: 7563.5631\n"
     ]
    },
    {
     "name": "stderr",
     "output_type": "stream",
     "text": [
      "Epoch [223/3000]: 100%|██████████| 66/66 [00:00<00:00, 168.19it/s, loss=5.64e+3]\n"
     ]
    },
    {
     "name": "stdout",
     "output_type": "stream",
     "text": [
      "Epoch [223/3000]: Train loss: 7822.1980, Valid loss: 7529.9880\n"
     ]
    },
    {
     "name": "stderr",
     "output_type": "stream",
     "text": [
      "Epoch [224/3000]: 100%|██████████| 66/66 [00:00<00:00, 170.48it/s, loss=5.48e+3]\n"
     ]
    },
    {
     "name": "stdout",
     "output_type": "stream",
     "text": [
      "Epoch [224/3000]: Train loss: 7821.4252, Valid loss: 7425.2048\n"
     ]
    },
    {
     "name": "stderr",
     "output_type": "stream",
     "text": [
      "Epoch [225/3000]: 100%|██████████| 66/66 [00:00<00:00, 179.02it/s, loss=1.4e+4] \n"
     ]
    },
    {
     "name": "stdout",
     "output_type": "stream",
     "text": [
      "Epoch [225/3000]: Train loss: 7862.1041, Valid loss: 7555.6091\n"
     ]
    },
    {
     "name": "stderr",
     "output_type": "stream",
     "text": [
      "Epoch [226/3000]: 100%|██████████| 66/66 [00:00<00:00, 174.54it/s, loss=1.08e+4]\n"
     ]
    },
    {
     "name": "stdout",
     "output_type": "stream",
     "text": [
      "Epoch [226/3000]: Train loss: 7846.7340, Valid loss: 7668.3999\n"
     ]
    },
    {
     "name": "stderr",
     "output_type": "stream",
     "text": [
      "Epoch [227/3000]: 100%|██████████| 66/66 [00:00<00:00, 169.10it/s, loss=1.11e+4]\n"
     ]
    },
    {
     "name": "stdout",
     "output_type": "stream",
     "text": [
      "Epoch [227/3000]: Train loss: 7847.9327, Valid loss: 7615.6422\n"
     ]
    },
    {
     "name": "stderr",
     "output_type": "stream",
     "text": [
      "Epoch [228/3000]: 100%|██████████| 66/66 [00:00<00:00, 167.17it/s, loss=1.15e+4]\n"
     ]
    },
    {
     "name": "stdout",
     "output_type": "stream",
     "text": [
      "Epoch [228/3000]: Train loss: 7849.8054, Valid loss: 7608.7449\n"
     ]
    },
    {
     "name": "stderr",
     "output_type": "stream",
     "text": [
      "Epoch [229/3000]: 100%|██████████| 66/66 [00:00<00:00, 182.17it/s, loss=6.08e+3]\n"
     ]
    },
    {
     "name": "stdout",
     "output_type": "stream",
     "text": [
      "Epoch [229/3000]: Train loss: 7824.3408, Valid loss: 7668.2638\n"
     ]
    },
    {
     "name": "stderr",
     "output_type": "stream",
     "text": [
      "Epoch [230/3000]: 100%|██████████| 66/66 [00:00<00:00, 169.48it/s, loss=6.95e+3]\n"
     ]
    },
    {
     "name": "stdout",
     "output_type": "stream",
     "text": [
      "Epoch [230/3000]: Train loss: 7828.5275, Valid loss: 7961.7021\n"
     ]
    },
    {
     "name": "stderr",
     "output_type": "stream",
     "text": [
      "Epoch [231/3000]: 100%|██████████| 66/66 [00:00<00:00, 167.99it/s, loss=4.9e+3] \n"
     ]
    },
    {
     "name": "stdout",
     "output_type": "stream",
     "text": [
      "Epoch [231/3000]: Train loss: 7818.7483, Valid loss: 7496.2893\n"
     ]
    },
    {
     "name": "stderr",
     "output_type": "stream",
     "text": [
      "Epoch [232/3000]: 100%|██████████| 66/66 [00:00<00:00, 178.85it/s, loss=9.48e+3]\n"
     ]
    },
    {
     "name": "stdout",
     "output_type": "stream",
     "text": [
      "Epoch [232/3000]: Train loss: 7840.4003, Valid loss: 7454.6388\n"
     ]
    },
    {
     "name": "stderr",
     "output_type": "stream",
     "text": [
      "Epoch [233/3000]: 100%|██████████| 66/66 [00:00<00:00, 176.34it/s, loss=5.35e+3]\n"
     ]
    },
    {
     "name": "stdout",
     "output_type": "stream",
     "text": [
      "Epoch [233/3000]: Train loss: 7820.8480, Valid loss: 7518.4150\n"
     ]
    },
    {
     "name": "stderr",
     "output_type": "stream",
     "text": [
      "Epoch [234/3000]: 100%|██████████| 66/66 [00:00<00:00, 171.47it/s, loss=1.19e+4]\n"
     ]
    },
    {
     "name": "stdout",
     "output_type": "stream",
     "text": [
      "Epoch [234/3000]: Train loss: 7852.1540, Valid loss: 7659.1384\n"
     ]
    },
    {
     "name": "stderr",
     "output_type": "stream",
     "text": [
      "Epoch [235/3000]: 100%|██████████| 66/66 [00:00<00:00, 168.05it/s, loss=5.27e+3]\n"
     ]
    },
    {
     "name": "stdout",
     "output_type": "stream",
     "text": [
      "Epoch [235/3000]: Train loss: 7820.5629, Valid loss: 7663.1042\n"
     ]
    },
    {
     "name": "stderr",
     "output_type": "stream",
     "text": [
      "Epoch [236/3000]: 100%|██████████| 66/66 [00:00<00:00, 178.72it/s, loss=7.47e+3]\n"
     ]
    },
    {
     "name": "stdout",
     "output_type": "stream",
     "text": [
      "Epoch [236/3000]: Train loss: 7830.8772, Valid loss: 7836.2657\n"
     ]
    },
    {
     "name": "stderr",
     "output_type": "stream",
     "text": [
      "Epoch [237/3000]: 100%|██████████| 66/66 [00:00<00:00, 173.02it/s, loss=1.09e+4]\n"
     ]
    },
    {
     "name": "stdout",
     "output_type": "stream",
     "text": [
      "Epoch [237/3000]: Train loss: 7846.9862, Valid loss: 7536.3886\n"
     ]
    },
    {
     "name": "stderr",
     "output_type": "stream",
     "text": [
      "Epoch [238/3000]: 100%|██████████| 66/66 [00:00<00:00, 165.47it/s, loss=9.28e+3]\n"
     ]
    },
    {
     "name": "stdout",
     "output_type": "stream",
     "text": [
      "Epoch [238/3000]: Train loss: 7839.3942, Valid loss: 7468.7291\n"
     ]
    },
    {
     "name": "stderr",
     "output_type": "stream",
     "text": [
      "Epoch [239/3000]: 100%|██████████| 66/66 [00:00<00:00, 168.90it/s, loss=8.47e+3]\n"
     ]
    },
    {
     "name": "stdout",
     "output_type": "stream",
     "text": [
      "Epoch [239/3000]: Train loss: 7835.6057, Valid loss: 7613.9431\n"
     ]
    },
    {
     "name": "stderr",
     "output_type": "stream",
     "text": [
      "Epoch [240/3000]: 100%|██████████| 66/66 [00:00<00:00, 176.29it/s, loss=7.98e+3]\n"
     ]
    },
    {
     "name": "stdout",
     "output_type": "stream",
     "text": [
      "Epoch [240/3000]: Train loss: 7833.2881, Valid loss: 7743.5599\n"
     ]
    },
    {
     "name": "stderr",
     "output_type": "stream",
     "text": [
      "Epoch [241/3000]: 100%|██████████| 66/66 [00:00<00:00, 167.01it/s, loss=4.01e+3]\n"
     ]
    },
    {
     "name": "stdout",
     "output_type": "stream",
     "text": [
      "Epoch [241/3000]: Train loss: 7814.6317, Valid loss: 7512.5232\n"
     ]
    },
    {
     "name": "stderr",
     "output_type": "stream",
     "text": [
      "Epoch [242/3000]: 100%|██████████| 66/66 [00:00<00:00, 171.54it/s, loss=9.6e+3] \n"
     ]
    },
    {
     "name": "stdout",
     "output_type": "stream",
     "text": [
      "Epoch [242/3000]: Train loss: 7840.8919, Valid loss: 7478.9590\n"
     ]
    },
    {
     "name": "stderr",
     "output_type": "stream",
     "text": [
      "Epoch [243/3000]: 100%|██████████| 66/66 [00:00<00:00, 172.92it/s, loss=9.04e+3]\n"
     ]
    },
    {
     "name": "stdout",
     "output_type": "stream",
     "text": [
      "Epoch [243/3000]: Train loss: 7838.3094, Valid loss: 7683.2656\n"
     ]
    },
    {
     "name": "stderr",
     "output_type": "stream",
     "text": [
      "Epoch [244/3000]: 100%|██████████| 66/66 [00:00<00:00, 180.07it/s, loss=7.75e+3]\n"
     ]
    },
    {
     "name": "stdout",
     "output_type": "stream",
     "text": [
      "Epoch [244/3000]: Train loss: 7832.3329, Valid loss: 7532.7297\n"
     ]
    },
    {
     "name": "stderr",
     "output_type": "stream",
     "text": [
      "Epoch [245/3000]: 100%|██████████| 66/66 [00:00<00:00, 166.82it/s, loss=9.98e+3]\n"
     ]
    },
    {
     "name": "stdout",
     "output_type": "stream",
     "text": [
      "Epoch [245/3000]: Train loss: 7842.8608, Valid loss: 7497.8839\n"
     ]
    },
    {
     "name": "stderr",
     "output_type": "stream",
     "text": [
      "Epoch [246/3000]: 100%|██████████| 66/66 [00:00<00:00, 168.55it/s, loss=3.43e+3]\n"
     ]
    },
    {
     "name": "stdout",
     "output_type": "stream",
     "text": [
      "Epoch [246/3000]: Train loss: 7812.0583, Valid loss: 7520.1569\n"
     ]
    },
    {
     "name": "stderr",
     "output_type": "stream",
     "text": [
      "Epoch [247/3000]: 100%|██████████| 66/66 [00:00<00:00, 182.37it/s, loss=7.85e+3]\n"
     ]
    },
    {
     "name": "stdout",
     "output_type": "stream",
     "text": [
      "Epoch [247/3000]: Train loss: 7832.8619, Valid loss: 7557.1556\n"
     ]
    },
    {
     "name": "stderr",
     "output_type": "stream",
     "text": [
      "Epoch [248/3000]: 100%|██████████| 66/66 [00:00<00:00, 168.95it/s, loss=5.21e+3]\n"
     ]
    },
    {
     "name": "stdout",
     "output_type": "stream",
     "text": [
      "Epoch [248/3000]: Train loss: 7820.3553, Valid loss: 7722.9476\n"
     ]
    },
    {
     "name": "stderr",
     "output_type": "stream",
     "text": [
      "Epoch [249/3000]: 100%|██████████| 66/66 [00:00<00:00, 170.30it/s, loss=1.02e+4]\n"
     ]
    },
    {
     "name": "stdout",
     "output_type": "stream",
     "text": [
      "Epoch [249/3000]: Train loss: 7843.7800, Valid loss: 7631.9573\n"
     ]
    },
    {
     "name": "stderr",
     "output_type": "stream",
     "text": [
      "Epoch [250/3000]: 100%|██████████| 66/66 [00:00<00:00, 172.68it/s, loss=3.84e+3]\n"
     ]
    },
    {
     "name": "stdout",
     "output_type": "stream",
     "text": [
      "Epoch [250/3000]: Train loss: 7813.7247, Valid loss: 7508.3891\n"
     ]
    },
    {
     "name": "stderr",
     "output_type": "stream",
     "text": [
      "Epoch [251/3000]: 100%|██████████| 66/66 [00:00<00:00, 205.03it/s, loss=1.15e+4]\n"
     ]
    },
    {
     "name": "stdout",
     "output_type": "stream",
     "text": [
      "Epoch [251/3000]: Train loss: 7849.8871, Valid loss: 7485.7721\n"
     ]
    },
    {
     "name": "stderr",
     "output_type": "stream",
     "text": [
      "Epoch [252/3000]: 100%|██████████| 66/66 [00:00<00:00, 198.51it/s, loss=8.68e+3]\n"
     ]
    },
    {
     "name": "stdout",
     "output_type": "stream",
     "text": [
      "Epoch [252/3000]: Train loss: 7836.7139, Valid loss: 7446.2429\n"
     ]
    },
    {
     "name": "stderr",
     "output_type": "stream",
     "text": [
      "Epoch [253/3000]: 100%|██████████| 66/66 [00:00<00:00, 197.50it/s, loss=7.46e+3]\n"
     ]
    },
    {
     "name": "stdout",
     "output_type": "stream",
     "text": [
      "Epoch [253/3000]: Train loss: 7830.9984, Valid loss: 7468.0410\n"
     ]
    },
    {
     "name": "stderr",
     "output_type": "stream",
     "text": [
      "Epoch [254/3000]: 100%|██████████| 66/66 [00:00<00:00, 213.23it/s, loss=5.67e+3]\n"
     ]
    },
    {
     "name": "stdout",
     "output_type": "stream",
     "text": [
      "Epoch [254/3000]: Train loss: 7822.3925, Valid loss: 7453.0190\n"
     ]
    },
    {
     "name": "stderr",
     "output_type": "stream",
     "text": [
      "Epoch [255/3000]: 100%|██████████| 66/66 [00:00<00:00, 196.18it/s, loss=5.97e+3]\n"
     ]
    },
    {
     "name": "stdout",
     "output_type": "stream",
     "text": [
      "Epoch [255/3000]: Train loss: 7823.8787, Valid loss: 7483.5874\n"
     ]
    },
    {
     "name": "stderr",
     "output_type": "stream",
     "text": [
      "Epoch [256/3000]: 100%|██████████| 66/66 [00:00<00:00, 196.91it/s, loss=3.2e+3] \n"
     ]
    },
    {
     "name": "stdout",
     "output_type": "stream",
     "text": [
      "Epoch [256/3000]: Train loss: 7810.6629, Valid loss: 7445.0852\n"
     ]
    },
    {
     "name": "stderr",
     "output_type": "stream",
     "text": [
      "Epoch [257/3000]: 100%|██████████| 66/66 [00:00<00:00, 211.82it/s, loss=1.03e+4]\n"
     ]
    },
    {
     "name": "stdout",
     "output_type": "stream",
     "text": [
      "Epoch [257/3000]: Train loss: 7844.0256, Valid loss: 7626.4165\n"
     ]
    },
    {
     "name": "stderr",
     "output_type": "stream",
     "text": [
      "Epoch [258/3000]: 100%|██████████| 66/66 [00:00<00:00, 196.67it/s, loss=5.11e+3]\n"
     ]
    },
    {
     "name": "stdout",
     "output_type": "stream",
     "text": [
      "Epoch [258/3000]: Train loss: 7819.8233, Valid loss: 7638.1638\n"
     ]
    },
    {
     "name": "stderr",
     "output_type": "stream",
     "text": [
      "Epoch [259/3000]: 100%|██████████| 66/66 [00:00<00:00, 195.97it/s, loss=7.84e+3]\n"
     ]
    },
    {
     "name": "stdout",
     "output_type": "stream",
     "text": [
      "Epoch [259/3000]: Train loss: 7832.8793, Valid loss: 7430.0227\n"
     ]
    },
    {
     "name": "stderr",
     "output_type": "stream",
     "text": [
      "Epoch [260/3000]: 100%|██████████| 66/66 [00:00<00:00, 213.86it/s, loss=6.51e+3]\n"
     ]
    },
    {
     "name": "stdout",
     "output_type": "stream",
     "text": [
      "Epoch [260/3000]: Train loss: 7826.3529, Valid loss: 7615.4519\n"
     ]
    },
    {
     "name": "stderr",
     "output_type": "stream",
     "text": [
      "Epoch [261/3000]: 100%|██████████| 66/66 [00:00<00:00, 196.79it/s, loss=7.52e+3]\n"
     ]
    },
    {
     "name": "stdout",
     "output_type": "stream",
     "text": [
      "Epoch [261/3000]: Train loss: 7831.1865, Valid loss: 7575.1109\n"
     ]
    },
    {
     "name": "stderr",
     "output_type": "stream",
     "text": [
      "Epoch [262/3000]: 100%|██████████| 66/66 [00:00<00:00, 195.55it/s, loss=6.37e+3]\n"
     ]
    },
    {
     "name": "stdout",
     "output_type": "stream",
     "text": [
      "Epoch [262/3000]: Train loss: 7825.6621, Valid loss: 7531.0625\n"
     ]
    },
    {
     "name": "stderr",
     "output_type": "stream",
     "text": [
      "Epoch [263/3000]: 100%|██████████| 66/66 [00:00<00:00, 212.47it/s, loss=5.01e+3]\n"
     ]
    },
    {
     "name": "stdout",
     "output_type": "stream",
     "text": [
      "Epoch [263/3000]: Train loss: 7819.3626, Valid loss: 7460.1346\n"
     ]
    },
    {
     "name": "stderr",
     "output_type": "stream",
     "text": [
      "Epoch [264/3000]: 100%|██████████| 66/66 [00:00<00:00, 196.61it/s, loss=4.73e+3]\n"
     ]
    },
    {
     "name": "stdout",
     "output_type": "stream",
     "text": [
      "Epoch [264/3000]: Train loss: 7817.8802, Valid loss: 7667.0760\n"
     ]
    },
    {
     "name": "stderr",
     "output_type": "stream",
     "text": [
      "Epoch [265/3000]: 100%|██████████| 66/66 [00:00<00:00, 197.47it/s, loss=6.48e+3]\n"
     ]
    },
    {
     "name": "stdout",
     "output_type": "stream",
     "text": [
      "Epoch [265/3000]: Train loss: 7826.2142, Valid loss: 7650.9676\n"
     ]
    },
    {
     "name": "stderr",
     "output_type": "stream",
     "text": [
      "Epoch [266/3000]: 100%|██████████| 66/66 [00:00<00:00, 212.56it/s, loss=1.37e+4]\n"
     ]
    },
    {
     "name": "stdout",
     "output_type": "stream",
     "text": [
      "Epoch [266/3000]: Train loss: 7860.2853, Valid loss: 7535.8850\n"
     ]
    },
    {
     "name": "stderr",
     "output_type": "stream",
     "text": [
      "Epoch [267/3000]: 100%|██████████| 66/66 [00:00<00:00, 197.35it/s, loss=4.94e+3]\n"
     ]
    },
    {
     "name": "stdout",
     "output_type": "stream",
     "text": [
      "Epoch [267/3000]: Train loss: 7818.8761, Valid loss: 7614.8777\n"
     ]
    },
    {
     "name": "stderr",
     "output_type": "stream",
     "text": [
      "Epoch [268/3000]: 100%|██████████| 66/66 [00:00<00:00, 198.94it/s, loss=1.05e+4]\n"
     ]
    },
    {
     "name": "stdout",
     "output_type": "stream",
     "text": [
      "Epoch [268/3000]: Train loss: 7845.0882, Valid loss: 7792.7637\n"
     ]
    },
    {
     "name": "stderr",
     "output_type": "stream",
     "text": [
      "Epoch [269/3000]: 100%|██████████| 66/66 [00:00<00:00, 212.96it/s, loss=4.59e+3]\n"
     ]
    },
    {
     "name": "stdout",
     "output_type": "stream",
     "text": [
      "Epoch [269/3000]: Train loss: 7817.3097, Valid loss: 7461.0311\n"
     ]
    },
    {
     "name": "stderr",
     "output_type": "stream",
     "text": [
      "Epoch [270/3000]: 100%|██████████| 66/66 [00:00<00:00, 197.07it/s, loss=1.07e+4]\n"
     ]
    },
    {
     "name": "stdout",
     "output_type": "stream",
     "text": [
      "Epoch [270/3000]: Train loss: 7846.3716, Valid loss: 7614.2370\n"
     ]
    },
    {
     "name": "stderr",
     "output_type": "stream",
     "text": [
      "Epoch [271/3000]: 100%|██████████| 66/66 [00:00<00:00, 196.39it/s, loss=9.02e+3]\n"
     ]
    },
    {
     "name": "stdout",
     "output_type": "stream",
     "text": [
      "Epoch [271/3000]: Train loss: 7838.2547, Valid loss: 7554.9876\n"
     ]
    },
    {
     "name": "stderr",
     "output_type": "stream",
     "text": [
      "Epoch [272/3000]: 100%|██████████| 66/66 [00:00<00:00, 213.27it/s, loss=1.12e+4]\n"
     ]
    },
    {
     "name": "stdout",
     "output_type": "stream",
     "text": [
      "Epoch [272/3000]: Train loss: 7848.6107, Valid loss: 7580.4904\n"
     ]
    },
    {
     "name": "stderr",
     "output_type": "stream",
     "text": [
      "Epoch [273/3000]: 100%|██████████| 66/66 [00:00<00:00, 204.11it/s, loss=6.62e+3]\n"
     ]
    },
    {
     "name": "stdout",
     "output_type": "stream",
     "text": [
      "Epoch [273/3000]: Train loss: 7826.8934, Valid loss: 7458.0867\n"
     ]
    },
    {
     "name": "stderr",
     "output_type": "stream",
     "text": [
      "Epoch [274/3000]: 100%|██████████| 66/66 [00:00<00:00, 194.04it/s, loss=1.01e+4]\n"
     ]
    },
    {
     "name": "stdout",
     "output_type": "stream",
     "text": [
      "Epoch [274/3000]: Train loss: 7843.2318, Valid loss: 7458.3286\n"
     ]
    },
    {
     "name": "stderr",
     "output_type": "stream",
     "text": [
      "Epoch [275/3000]: 100%|██████████| 66/66 [00:00<00:00, 197.85it/s, loss=7.72e+3]\n"
     ]
    },
    {
     "name": "stdout",
     "output_type": "stream",
     "text": [
      "Epoch [275/3000]: Train loss: 7832.0397, Valid loss: 7528.9779\n"
     ]
    },
    {
     "name": "stderr",
     "output_type": "stream",
     "text": [
      "Epoch [276/3000]: 100%|██████████| 66/66 [00:00<00:00, 212.92it/s, loss=4.46e+3]\n"
     ]
    },
    {
     "name": "stdout",
     "output_type": "stream",
     "text": [
      "Epoch [276/3000]: Train loss: 7816.6136, Valid loss: 7615.7954\n"
     ]
    },
    {
     "name": "stderr",
     "output_type": "stream",
     "text": [
      "Epoch [277/3000]: 100%|██████████| 66/66 [00:00<00:00, 196.96it/s, loss=8.97e+3]\n"
     ]
    },
    {
     "name": "stdout",
     "output_type": "stream",
     "text": [
      "Epoch [277/3000]: Train loss: 7837.9824, Valid loss: 7489.6536\n"
     ]
    },
    {
     "name": "stderr",
     "output_type": "stream",
     "text": [
      "Epoch [278/3000]: 100%|██████████| 66/66 [00:00<00:00, 192.89it/s, loss=6.78e+3]\n"
     ]
    },
    {
     "name": "stdout",
     "output_type": "stream",
     "text": [
      "Epoch [278/3000]: Train loss: 7827.8491, Valid loss: 7709.7820\n"
     ]
    },
    {
     "name": "stderr",
     "output_type": "stream",
     "text": [
      "Epoch [279/3000]: 100%|██████████| 66/66 [00:00<00:00, 207.29it/s, loss=5.9e+3] \n"
     ]
    },
    {
     "name": "stdout",
     "output_type": "stream",
     "text": [
      "Epoch [279/3000]: Train loss: 7823.4238, Valid loss: 7432.1130\n"
     ]
    },
    {
     "name": "stderr",
     "output_type": "stream",
     "text": [
      "Epoch [280/3000]: 100%|██████████| 66/66 [00:00<00:00, 197.87it/s, loss=4.87e+3]\n"
     ]
    },
    {
     "name": "stdout",
     "output_type": "stream",
     "text": [
      "Epoch [280/3000]: Train loss: 7818.7322, Valid loss: 7486.5765\n"
     ]
    },
    {
     "name": "stderr",
     "output_type": "stream",
     "text": [
      "Epoch [281/3000]: 100%|██████████| 66/66 [00:00<00:00, 198.18it/s, loss=9.85e+3]\n"
     ]
    },
    {
     "name": "stdout",
     "output_type": "stream",
     "text": [
      "Epoch [281/3000]: Train loss: 7842.2870, Valid loss: 7565.7092\n"
     ]
    },
    {
     "name": "stderr",
     "output_type": "stream",
     "text": [
      "Epoch [282/3000]: 100%|██████████| 66/66 [00:00<00:00, 214.71it/s, loss=7.35e+3]\n"
     ]
    },
    {
     "name": "stdout",
     "output_type": "stream",
     "text": [
      "Epoch [282/3000]: Train loss: 7830.2351, Valid loss: 7554.4341\n"
     ]
    },
    {
     "name": "stderr",
     "output_type": "stream",
     "text": [
      "Epoch [283/3000]: 100%|██████████| 66/66 [00:00<00:00, 198.31it/s, loss=1.06e+4]\n"
     ]
    },
    {
     "name": "stdout",
     "output_type": "stream",
     "text": [
      "Epoch [283/3000]: Train loss: 7845.6215, Valid loss: 7430.8250\n"
     ]
    },
    {
     "name": "stderr",
     "output_type": "stream",
     "text": [
      "Epoch [284/3000]: 100%|██████████| 66/66 [00:00<00:00, 198.16it/s, loss=8.68e+3]\n"
     ]
    },
    {
     "name": "stdout",
     "output_type": "stream",
     "text": [
      "Epoch [284/3000]: Train loss: 7836.6363, Valid loss: 7544.4983\n"
     ]
    },
    {
     "name": "stderr",
     "output_type": "stream",
     "text": [
      "Epoch [285/3000]: 100%|██████████| 66/66 [00:00<00:00, 213.83it/s, loss=9.62e+3]\n"
     ]
    },
    {
     "name": "stdout",
     "output_type": "stream",
     "text": [
      "Epoch [285/3000]: Train loss: 7841.0242, Valid loss: 7599.1787\n"
     ]
    },
    {
     "name": "stderr",
     "output_type": "stream",
     "text": [
      "Epoch [286/3000]: 100%|██████████| 66/66 [00:00<00:00, 200.03it/s, loss=7.02e+3]\n"
     ]
    },
    {
     "name": "stdout",
     "output_type": "stream",
     "text": [
      "Epoch [286/3000]: Train loss: 7828.8132, Valid loss: 7485.6485\n"
     ]
    },
    {
     "name": "stderr",
     "output_type": "stream",
     "text": [
      "Epoch [287/3000]: 100%|██████████| 66/66 [00:00<00:00, 198.81it/s, loss=1.08e+4]\n"
     ]
    },
    {
     "name": "stdout",
     "output_type": "stream",
     "text": [
      "Epoch [287/3000]: Train loss: 7846.6620, Valid loss: 7593.6885\n"
     ]
    },
    {
     "name": "stderr",
     "output_type": "stream",
     "text": [
      "Epoch [288/3000]: 100%|██████████| 66/66 [00:00<00:00, 209.04it/s, loss=1.17e+4]\n"
     ]
    },
    {
     "name": "stdout",
     "output_type": "stream",
     "text": [
      "Epoch [288/3000]: Train loss: 7850.8999, Valid loss: 7655.4638\n"
     ]
    },
    {
     "name": "stderr",
     "output_type": "stream",
     "text": [
      "Epoch [289/3000]: 100%|██████████| 66/66 [00:00<00:00, 208.11it/s, loss=9.69e+3]\n"
     ]
    },
    {
     "name": "stdout",
     "output_type": "stream",
     "text": [
      "Epoch [289/3000]: Train loss: 7841.3475, Valid loss: 7423.4242\n"
     ]
    },
    {
     "name": "stderr",
     "output_type": "stream",
     "text": [
      "Epoch [290/3000]: 100%|██████████| 66/66 [00:00<00:00, 194.60it/s, loss=9.02e+3]\n"
     ]
    },
    {
     "name": "stdout",
     "output_type": "stream",
     "text": [
      "Epoch [290/3000]: Train loss: 7838.2268, Valid loss: 7445.8212\n"
     ]
    },
    {
     "name": "stderr",
     "output_type": "stream",
     "text": [
      "Epoch [291/3000]: 100%|██████████| 66/66 [00:00<00:00, 203.39it/s, loss=6.83e+3]\n"
     ]
    },
    {
     "name": "stdout",
     "output_type": "stream",
     "text": [
      "Epoch [291/3000]: Train loss: 7827.8326, Valid loss: 7557.6672\n"
     ]
    },
    {
     "name": "stderr",
     "output_type": "stream",
     "text": [
      "Epoch [292/3000]: 100%|██████████| 66/66 [00:00<00:00, 211.34it/s, loss=9.57e+3]\n"
     ]
    },
    {
     "name": "stdout",
     "output_type": "stream",
     "text": [
      "Epoch [292/3000]: Train loss: 7840.8875, Valid loss: 7572.7861\n"
     ]
    },
    {
     "name": "stderr",
     "output_type": "stream",
     "text": [
      "Epoch [293/3000]: 100%|██████████| 66/66 [00:00<00:00, 198.48it/s, loss=7.51e+3]\n"
     ]
    },
    {
     "name": "stdout",
     "output_type": "stream",
     "text": [
      "Epoch [293/3000]: Train loss: 7831.1812, Valid loss: 7466.8614\n"
     ]
    },
    {
     "name": "stderr",
     "output_type": "stream",
     "text": [
      "Epoch [294/3000]: 100%|██████████| 66/66 [00:00<00:00, 198.77it/s, loss=9.13e+3]\n"
     ]
    },
    {
     "name": "stdout",
     "output_type": "stream",
     "text": [
      "Epoch [294/3000]: Train loss: 7838.7398, Valid loss: 7502.3493\n"
     ]
    },
    {
     "name": "stderr",
     "output_type": "stream",
     "text": [
      "Epoch [295/3000]: 100%|██████████| 66/66 [00:00<00:00, 214.32it/s, loss=7e+3]   \n"
     ]
    },
    {
     "name": "stdout",
     "output_type": "stream",
     "text": [
      "Epoch [295/3000]: Train loss: 7828.6795, Valid loss: 7799.0458\n"
     ]
    },
    {
     "name": "stderr",
     "output_type": "stream",
     "text": [
      "Epoch [296/3000]: 100%|██████████| 66/66 [00:00<00:00, 198.65it/s, loss=1.81e+4]\n"
     ]
    },
    {
     "name": "stdout",
     "output_type": "stream",
     "text": [
      "Epoch [296/3000]: Train loss: 7881.1725, Valid loss: 7576.5191\n"
     ]
    },
    {
     "name": "stderr",
     "output_type": "stream",
     "text": [
      "Epoch [297/3000]: 100%|██████████| 66/66 [00:00<00:00, 198.55it/s, loss=4.79e+3]\n"
     ]
    },
    {
     "name": "stdout",
     "output_type": "stream",
     "text": [
      "Epoch [297/3000]: Train loss: 7818.4659, Valid loss: 7866.2586\n"
     ]
    },
    {
     "name": "stderr",
     "output_type": "stream",
     "text": [
      "Epoch [298/3000]: 100%|██████████| 66/66 [00:00<00:00, 214.90it/s, loss=6.91e+3]\n"
     ]
    },
    {
     "name": "stdout",
     "output_type": "stream",
     "text": [
      "Epoch [298/3000]: Train loss: 7828.1880, Valid loss: 7749.1711\n"
     ]
    },
    {
     "name": "stderr",
     "output_type": "stream",
     "text": [
      "Epoch [299/3000]: 100%|██████████| 66/66 [00:00<00:00, 211.31it/s, loss=6.99e+3]\n"
     ]
    },
    {
     "name": "stdout",
     "output_type": "stream",
     "text": [
      "Epoch [299/3000]: Train loss: 7828.6274, Valid loss: 7968.7817\n"
     ]
    },
    {
     "name": "stderr",
     "output_type": "stream",
     "text": [
      "Epoch [300/3000]: 100%|██████████| 66/66 [00:00<00:00, 199.03it/s, loss=3.37e+3]\n"
     ]
    },
    {
     "name": "stdout",
     "output_type": "stream",
     "text": [
      "Epoch [300/3000]: Train loss: 7811.4909, Valid loss: 7494.2523\n"
     ]
    },
    {
     "name": "stderr",
     "output_type": "stream",
     "text": [
      "Epoch [301/3000]: 100%|██████████| 66/66 [00:00<00:00, 200.51it/s, loss=6.11e+3]\n"
     ]
    },
    {
     "name": "stdout",
     "output_type": "stream",
     "text": [
      "Epoch [301/3000]: Train loss: 7824.5328, Valid loss: 7709.8082\n"
     ]
    },
    {
     "name": "stderr",
     "output_type": "stream",
     "text": [
      "Epoch [302/3000]: 100%|██████████| 66/66 [00:00<00:00, 212.26it/s, loss=5.12e+3]\n"
     ]
    },
    {
     "name": "stdout",
     "output_type": "stream",
     "text": [
      "Epoch [302/3000]: Train loss: 7819.9071, Valid loss: 7472.4579\n"
     ]
    },
    {
     "name": "stderr",
     "output_type": "stream",
     "text": [
      "Epoch [303/3000]: 100%|██████████| 66/66 [00:00<00:00, 201.05it/s, loss=9.86e+3]\n"
     ]
    },
    {
     "name": "stdout",
     "output_type": "stream",
     "text": [
      "Epoch [303/3000]: Train loss: 7842.1542, Valid loss: 7587.9668\n"
     ]
    },
    {
     "name": "stderr",
     "output_type": "stream",
     "text": [
      "Epoch [304/3000]: 100%|██████████| 66/66 [00:00<00:00, 198.90it/s, loss=9.16e+3]\n"
     ]
    },
    {
     "name": "stdout",
     "output_type": "stream",
     "text": [
      "Epoch [304/3000]: Train loss: 7838.9788, Valid loss: 7612.6197\n"
     ]
    },
    {
     "name": "stderr",
     "output_type": "stream",
     "text": [
      "Epoch [305/3000]: 100%|██████████| 66/66 [00:00<00:00, 213.47it/s, loss=1.13e+4]\n"
     ]
    },
    {
     "name": "stdout",
     "output_type": "stream",
     "text": [
      "Epoch [305/3000]: Train loss: 7849.0759, Valid loss: 7618.8221\n"
     ]
    },
    {
     "name": "stderr",
     "output_type": "stream",
     "text": [
      "Epoch [306/3000]: 100%|██████████| 66/66 [00:00<00:00, 191.45it/s, loss=8.03e+3]\n"
     ]
    },
    {
     "name": "stdout",
     "output_type": "stream",
     "text": [
      "Epoch [306/3000]: Train loss: 7833.5070, Valid loss: 7429.6621\n"
     ]
    },
    {
     "name": "stderr",
     "output_type": "stream",
     "text": [
      "Epoch [307/3000]: 100%|██████████| 66/66 [00:00<00:00, 198.56it/s, loss=1.62e+4]\n"
     ]
    },
    {
     "name": "stdout",
     "output_type": "stream",
     "text": [
      "Epoch [307/3000]: Train loss: 7872.4690, Valid loss: 7780.2476\n"
     ]
    },
    {
     "name": "stderr",
     "output_type": "stream",
     "text": [
      "Epoch [308/3000]: 100%|██████████| 66/66 [00:00<00:00, 214.89it/s, loss=8.93e+3]\n"
     ]
    },
    {
     "name": "stdout",
     "output_type": "stream",
     "text": [
      "Epoch [308/3000]: Train loss: 7837.7642, Valid loss: 7834.3888\n"
     ]
    },
    {
     "name": "stderr",
     "output_type": "stream",
     "text": [
      "Epoch [309/3000]: 100%|██████████| 66/66 [00:00<00:00, 196.57it/s, loss=1.15e+4]\n"
     ]
    },
    {
     "name": "stdout",
     "output_type": "stream",
     "text": [
      "Epoch [309/3000]: Train loss: 7849.8229, Valid loss: 7760.0997\n"
     ]
    },
    {
     "name": "stderr",
     "output_type": "stream",
     "text": [
      "Epoch [310/3000]: 100%|██████████| 66/66 [00:00<00:00, 197.70it/s, loss=6.84e+3]\n"
     ]
    },
    {
     "name": "stdout",
     "output_type": "stream",
     "text": [
      "Epoch [310/3000]: Train loss: 7828.1422, Valid loss: 7480.1661\n"
     ]
    },
    {
     "name": "stderr",
     "output_type": "stream",
     "text": [
      "Epoch [311/3000]: 100%|██████████| 66/66 [00:00<00:00, 215.21it/s, loss=8.06e+3]\n"
     ]
    },
    {
     "name": "stdout",
     "output_type": "stream",
     "text": [
      "Epoch [311/3000]: Train loss: 7833.6904, Valid loss: 7916.6610\n"
     ]
    },
    {
     "name": "stderr",
     "output_type": "stream",
     "text": [
      "Epoch [312/3000]: 100%|██████████| 66/66 [00:00<00:00, 196.10it/s, loss=5.72e+3]\n"
     ]
    },
    {
     "name": "stdout",
     "output_type": "stream",
     "text": [
      "Epoch [312/3000]: Train loss: 7822.6135, Valid loss: 7547.5617\n"
     ]
    },
    {
     "name": "stderr",
     "output_type": "stream",
     "text": [
      "Epoch [313/3000]: 100%|██████████| 66/66 [00:00<00:00, 196.65it/s, loss=1.02e+4]\n"
     ]
    },
    {
     "name": "stdout",
     "output_type": "stream",
     "text": [
      "Epoch [313/3000]: Train loss: 7844.0068, Valid loss: 7694.4329\n"
     ]
    },
    {
     "name": "stderr",
     "output_type": "stream",
     "text": [
      "Epoch [314/3000]: 100%|██████████| 66/66 [00:00<00:00, 212.18it/s, loss=5.72e+3]\n"
     ]
    },
    {
     "name": "stdout",
     "output_type": "stream",
     "text": [
      "Epoch [314/3000]: Train loss: 7822.5616, Valid loss: 7795.8090\n"
     ]
    },
    {
     "name": "stderr",
     "output_type": "stream",
     "text": [
      "Epoch [315/3000]: 100%|██████████| 66/66 [00:00<00:00, 208.13it/s, loss=3.88e+3]\n"
     ]
    },
    {
     "name": "stdout",
     "output_type": "stream",
     "text": [
      "Epoch [315/3000]: Train loss: 7813.8963, Valid loss: 7608.1119\n"
     ]
    },
    {
     "name": "stderr",
     "output_type": "stream",
     "text": [
      "Epoch [316/3000]: 100%|██████████| 66/66 [00:00<00:00, 197.78it/s, loss=6.7e+3] \n"
     ]
    },
    {
     "name": "stdout",
     "output_type": "stream",
     "text": [
      "Epoch [316/3000]: Train loss: 7827.2853, Valid loss: 7528.8238\n"
     ]
    },
    {
     "name": "stderr",
     "output_type": "stream",
     "text": [
      "Epoch [317/3000]: 100%|██████████| 66/66 [00:00<00:00, 199.83it/s, loss=8.99e+3]\n"
     ]
    },
    {
     "name": "stdout",
     "output_type": "stream",
     "text": [
      "Epoch [317/3000]: Train loss: 7838.0939, Valid loss: 7736.2150\n"
     ]
    },
    {
     "name": "stderr",
     "output_type": "stream",
     "text": [
      "Epoch [318/3000]: 100%|██████████| 66/66 [00:00<00:00, 212.75it/s, loss=2.83e+3]\n"
     ]
    },
    {
     "name": "stdout",
     "output_type": "stream",
     "text": [
      "Epoch [318/3000]: Train loss: 7809.0734, Valid loss: 7497.4326\n"
     ]
    },
    {
     "name": "stderr",
     "output_type": "stream",
     "text": [
      "Epoch [319/3000]: 100%|██████████| 66/66 [00:00<00:00, 199.61it/s, loss=3.44e+3]\n"
     ]
    },
    {
     "name": "stdout",
     "output_type": "stream",
     "text": [
      "Epoch [319/3000]: Train loss: 7812.1930, Valid loss: 7530.0052\n"
     ]
    },
    {
     "name": "stderr",
     "output_type": "stream",
     "text": [
      "Epoch [320/3000]: 100%|██████████| 66/66 [00:00<00:00, 200.94it/s, loss=4.57e+3]\n"
     ]
    },
    {
     "name": "stdout",
     "output_type": "stream",
     "text": [
      "Epoch [320/3000]: Train loss: 7817.2245, Valid loss: 7806.5487\n"
     ]
    },
    {
     "name": "stderr",
     "output_type": "stream",
     "text": [
      "Epoch [321/3000]: 100%|██████████| 66/66 [00:00<00:00, 208.60it/s, loss=4.41e+3]\n"
     ]
    },
    {
     "name": "stdout",
     "output_type": "stream",
     "text": [
      "Epoch [321/3000]: Train loss: 7816.5213, Valid loss: 7458.6766\n"
     ]
    },
    {
     "name": "stderr",
     "output_type": "stream",
     "text": [
      "Epoch [322/3000]: 100%|██████████| 66/66 [00:00<00:00, 200.30it/s, loss=7.58e+3]\n"
     ]
    },
    {
     "name": "stdout",
     "output_type": "stream",
     "text": [
      "Epoch [322/3000]: Train loss: 7831.4379, Valid loss: 7423.4648\n"
     ]
    },
    {
     "name": "stderr",
     "output_type": "stream",
     "text": [
      "Epoch [323/3000]: 100%|██████████| 66/66 [00:00<00:00, 203.56it/s, loss=8.4e+3] \n"
     ]
    },
    {
     "name": "stdout",
     "output_type": "stream",
     "text": [
      "Epoch [323/3000]: Train loss: 7835.3088, Valid loss: 7487.4096\n"
     ]
    },
    {
     "name": "stderr",
     "output_type": "stream",
     "text": [
      "Epoch [324/3000]: 100%|██████████| 66/66 [00:00<00:00, 213.29it/s, loss=1e+4]   \n"
     ]
    },
    {
     "name": "stdout",
     "output_type": "stream",
     "text": [
      "Epoch [324/3000]: Train loss: 7842.8512, Valid loss: 7496.4405\n"
     ]
    },
    {
     "name": "stderr",
     "output_type": "stream",
     "text": [
      "Epoch [325/3000]: 100%|██████████| 66/66 [00:00<00:00, 199.67it/s, loss=6.72e+3]\n"
     ]
    },
    {
     "name": "stdout",
     "output_type": "stream",
     "text": [
      "Epoch [325/3000]: Train loss: 7827.3282, Valid loss: 7748.4110\n"
     ]
    },
    {
     "name": "stderr",
     "output_type": "stream",
     "text": [
      "Epoch [326/3000]: 100%|██████████| 66/66 [00:00<00:00, 201.09it/s, loss=9e+3]   \n"
     ]
    },
    {
     "name": "stdout",
     "output_type": "stream",
     "text": [
      "Epoch [326/3000]: Train loss: 7838.3461, Valid loss: 7626.5437\n"
     ]
    },
    {
     "name": "stderr",
     "output_type": "stream",
     "text": [
      "Epoch [327/3000]: 100%|██████████| 66/66 [00:00<00:00, 210.89it/s, loss=4.54e+3]\n"
     ]
    },
    {
     "name": "stdout",
     "output_type": "stream",
     "text": [
      "Epoch [327/3000]: Train loss: 7816.9717, Valid loss: 7457.9426\n"
     ]
    },
    {
     "name": "stderr",
     "output_type": "stream",
     "text": [
      "Epoch [328/3000]: 100%|██████████| 66/66 [00:00<00:00, 199.51it/s, loss=9.15e+3]\n"
     ]
    },
    {
     "name": "stdout",
     "output_type": "stream",
     "text": [
      "Epoch [328/3000]: Train loss: 7838.9031, Valid loss: 7550.1163\n"
     ]
    },
    {
     "name": "stderr",
     "output_type": "stream",
     "text": [
      "Epoch [329/3000]: 100%|██████████| 66/66 [00:00<00:00, 200.39it/s, loss=5.23e+3]\n"
     ]
    },
    {
     "name": "stdout",
     "output_type": "stream",
     "text": [
      "Epoch [329/3000]: Train loss: 7820.2889, Valid loss: 7498.1068\n"
     ]
    },
    {
     "name": "stderr",
     "output_type": "stream",
     "text": [
      "Epoch [330/3000]: 100%|██████████| 66/66 [00:00<00:00, 208.51it/s, loss=8.89e+3]\n"
     ]
    },
    {
     "name": "stdout",
     "output_type": "stream",
     "text": [
      "Epoch [330/3000]: Train loss: 7837.6482, Valid loss: 7432.7601\n"
     ]
    },
    {
     "name": "stderr",
     "output_type": "stream",
     "text": [
      "Epoch [331/3000]: 100%|██████████| 66/66 [00:00<00:00, 199.19it/s, loss=8.44e+3]\n"
     ]
    },
    {
     "name": "stdout",
     "output_type": "stream",
     "text": [
      "Epoch [331/3000]: Train loss: 7835.4944, Valid loss: 7819.5807\n"
     ]
    },
    {
     "name": "stderr",
     "output_type": "stream",
     "text": [
      "Epoch [332/3000]: 100%|██████████| 66/66 [00:00<00:00, 198.08it/s, loss=1.57e+4]\n"
     ]
    },
    {
     "name": "stdout",
     "output_type": "stream",
     "text": [
      "Epoch [332/3000]: Train loss: 7870.0876, Valid loss: 7521.2786\n"
     ]
    },
    {
     "name": "stderr",
     "output_type": "stream",
     "text": [
      "Epoch [333/3000]: 100%|██████████| 66/66 [00:00<00:00, 212.89it/s, loss=8.84e+3]\n"
     ]
    },
    {
     "name": "stdout",
     "output_type": "stream",
     "text": [
      "Epoch [333/3000]: Train loss: 7837.3906, Valid loss: 7576.7675\n"
     ]
    },
    {
     "name": "stderr",
     "output_type": "stream",
     "text": [
      "Epoch [334/3000]: 100%|██████████| 66/66 [00:00<00:00, 198.55it/s, loss=8.89e+3]\n"
     ]
    },
    {
     "name": "stdout",
     "output_type": "stream",
     "text": [
      "Epoch [334/3000]: Train loss: 7837.6723, Valid loss: 7454.3647\n"
     ]
    },
    {
     "name": "stderr",
     "output_type": "stream",
     "text": [
      "Epoch [335/3000]: 100%|██████████| 66/66 [00:00<00:00, 196.40it/s, loss=1e+4]   \n"
     ]
    },
    {
     "name": "stdout",
     "output_type": "stream",
     "text": [
      "Epoch [335/3000]: Train loss: 7843.0716, Valid loss: 7535.5037\n"
     ]
    },
    {
     "name": "stderr",
     "output_type": "stream",
     "text": [
      "Epoch [336/3000]: 100%|██████████| 66/66 [00:00<00:00, 213.52it/s, loss=9.67e+3]\n"
     ]
    },
    {
     "name": "stdout",
     "output_type": "stream",
     "text": [
      "Epoch [336/3000]: Train loss: 7841.5201, Valid loss: 7656.1659\n"
     ]
    },
    {
     "name": "stderr",
     "output_type": "stream",
     "text": [
      "Epoch [337/3000]: 100%|██████████| 66/66 [00:00<00:00, 192.71it/s, loss=1.23e+4]\n"
     ]
    },
    {
     "name": "stdout",
     "output_type": "stream",
     "text": [
      "Epoch [337/3000]: Train loss: 7853.9938, Valid loss: 7895.6211\n"
     ]
    },
    {
     "name": "stderr",
     "output_type": "stream",
     "text": [
      "Epoch [338/3000]: 100%|██████████| 66/66 [00:00<00:00, 200.19it/s, loss=7.52e+3]\n"
     ]
    },
    {
     "name": "stdout",
     "output_type": "stream",
     "text": [
      "Epoch [338/3000]: Train loss: 7831.2997, Valid loss: 7726.4534\n"
     ]
    },
    {
     "name": "stderr",
     "output_type": "stream",
     "text": [
      "Epoch [339/3000]: 100%|██████████| 66/66 [00:00<00:00, 212.51it/s, loss=8.49e+3]\n"
     ]
    },
    {
     "name": "stdout",
     "output_type": "stream",
     "text": [
      "Epoch [339/3000]: Train loss: 7835.6636, Valid loss: 7702.0748\n"
     ]
    },
    {
     "name": "stderr",
     "output_type": "stream",
     "text": [
      "Epoch [340/3000]: 100%|██████████| 66/66 [00:00<00:00, 205.61it/s, loss=1.1e+4] \n"
     ]
    },
    {
     "name": "stdout",
     "output_type": "stream",
     "text": [
      "Epoch [340/3000]: Train loss: 7847.6198, Valid loss: 7482.5335\n"
     ]
    },
    {
     "name": "stderr",
     "output_type": "stream",
     "text": [
      "Epoch [341/3000]: 100%|██████████| 66/66 [00:00<00:00, 199.77it/s, loss=1.45e+4]\n"
     ]
    },
    {
     "name": "stdout",
     "output_type": "stream",
     "text": [
      "Epoch [341/3000]: Train loss: 7864.4334, Valid loss: 7591.2041\n"
     ]
    },
    {
     "name": "stderr",
     "output_type": "stream",
     "text": [
      "Epoch [342/3000]: 100%|██████████| 66/66 [00:00<00:00, 199.74it/s, loss=5.45e+3]\n"
     ]
    },
    {
     "name": "stdout",
     "output_type": "stream",
     "text": [
      "Epoch [342/3000]: Train loss: 7821.3962, Valid loss: 7567.8675\n"
     ]
    },
    {
     "name": "stderr",
     "output_type": "stream",
     "text": [
      "Epoch [343/3000]: 100%|██████████| 66/66 [00:00<00:00, 212.55it/s, loss=1.29e+4]\n"
     ]
    },
    {
     "name": "stdout",
     "output_type": "stream",
     "text": [
      "Epoch [343/3000]: Train loss: 7856.6985, Valid loss: 7610.2685\n"
     ]
    },
    {
     "name": "stderr",
     "output_type": "stream",
     "text": [
      "Epoch [344/3000]: 100%|██████████| 66/66 [00:00<00:00, 196.06it/s, loss=1.21e+4]\n"
     ]
    },
    {
     "name": "stdout",
     "output_type": "stream",
     "text": [
      "Epoch [344/3000]: Train loss: 7853.0316, Valid loss: 7453.3059\n"
     ]
    },
    {
     "name": "stderr",
     "output_type": "stream",
     "text": [
      "Epoch [345/3000]: 100%|██████████| 66/66 [00:00<00:00, 197.24it/s, loss=9.64e+3]\n"
     ]
    },
    {
     "name": "stdout",
     "output_type": "stream",
     "text": [
      "Epoch [345/3000]: Train loss: 7841.2109, Valid loss: 7515.7434\n"
     ]
    },
    {
     "name": "stderr",
     "output_type": "stream",
     "text": [
      "Epoch [346/3000]: 100%|██████████| 66/66 [00:00<00:00, 213.50it/s, loss=3.48e+3]\n"
     ]
    },
    {
     "name": "stdout",
     "output_type": "stream",
     "text": [
      "Epoch [346/3000]: Train loss: 7812.0558, Valid loss: 7562.4549\n"
     ]
    },
    {
     "name": "stderr",
     "output_type": "stream",
     "text": [
      "Epoch [347/3000]: 100%|██████████| 66/66 [00:00<00:00, 198.20it/s, loss=3.61e+3]\n"
     ]
    },
    {
     "name": "stdout",
     "output_type": "stream",
     "text": [
      "Epoch [347/3000]: Train loss: 7812.6374, Valid loss: 7537.3468\n"
     ]
    },
    {
     "name": "stderr",
     "output_type": "stream",
     "text": [
      "Epoch [348/3000]: 100%|██████████| 66/66 [00:00<00:00, 198.34it/s, loss=3.94e+3]\n"
     ]
    },
    {
     "name": "stdout",
     "output_type": "stream",
     "text": [
      "Epoch [348/3000]: Train loss: 7814.1627, Valid loss: 7533.5473\n"
     ]
    },
    {
     "name": "stderr",
     "output_type": "stream",
     "text": [
      "Epoch [349/3000]: 100%|██████████| 66/66 [00:00<00:00, 211.49it/s, loss=9.7e+3] \n"
     ]
    },
    {
     "name": "stdout",
     "output_type": "stream",
     "text": [
      "Epoch [349/3000]: Train loss: 7841.4834, Valid loss: 7660.0056\n"
     ]
    },
    {
     "name": "stderr",
     "output_type": "stream",
     "text": [
      "Epoch [350/3000]: 100%|██████████| 66/66 [00:00<00:00, 198.34it/s, loss=1.24e+4]\n"
     ]
    },
    {
     "name": "stdout",
     "output_type": "stream",
     "text": [
      "Epoch [350/3000]: Train loss: 7854.3473, Valid loss: 7453.0913\n"
     ]
    },
    {
     "name": "stderr",
     "output_type": "stream",
     "text": [
      "Epoch [351/3000]: 100%|██████████| 66/66 [00:00<00:00, 198.59it/s, loss=4.04e+3]\n"
     ]
    },
    {
     "name": "stdout",
     "output_type": "stream",
     "text": [
      "Epoch [351/3000]: Train loss: 7814.6883, Valid loss: 7428.2311\n"
     ]
    },
    {
     "name": "stderr",
     "output_type": "stream",
     "text": [
      "Epoch [352/3000]: 100%|██████████| 66/66 [00:00<00:00, 208.76it/s, loss=6.84e+3]\n"
     ]
    },
    {
     "name": "stdout",
     "output_type": "stream",
     "text": [
      "Epoch [352/3000]: Train loss: 7828.0759, Valid loss: 7565.9449\n"
     ]
    },
    {
     "name": "stderr",
     "output_type": "stream",
     "text": [
      "Epoch [353/3000]: 100%|██████████| 66/66 [00:00<00:00, 206.05it/s, loss=4.47e+3]\n"
     ]
    },
    {
     "name": "stdout",
     "output_type": "stream",
     "text": [
      "Epoch [353/3000]: Train loss: 7816.7385, Valid loss: 7468.3207\n"
     ]
    },
    {
     "name": "stderr",
     "output_type": "stream",
     "text": [
      "Epoch [354/3000]: 100%|██████████| 66/66 [00:00<00:00, 199.82it/s, loss=1.02e+4]\n"
     ]
    },
    {
     "name": "stdout",
     "output_type": "stream",
     "text": [
      "Epoch [354/3000]: Train loss: 7843.9017, Valid loss: 7817.5956\n"
     ]
    },
    {
     "name": "stderr",
     "output_type": "stream",
     "text": [
      "Epoch [355/3000]: 100%|██████████| 66/66 [00:00<00:00, 206.19it/s, loss=4.6e+3] \n"
     ]
    },
    {
     "name": "stdout",
     "output_type": "stream",
     "text": [
      "Epoch [355/3000]: Train loss: 7817.4159, Valid loss: 7458.9711\n"
     ]
    },
    {
     "name": "stderr",
     "output_type": "stream",
     "text": [
      "Epoch [356/3000]: 100%|██████████| 66/66 [00:00<00:00, 211.54it/s, loss=5.06e+3]\n"
     ]
    },
    {
     "name": "stdout",
     "output_type": "stream",
     "text": [
      "Epoch [356/3000]: Train loss: 7819.6010, Valid loss: 7538.0110\n"
     ]
    },
    {
     "name": "stderr",
     "output_type": "stream",
     "text": [
      "Epoch [357/3000]: 100%|██████████| 66/66 [00:00<00:00, 197.77it/s, loss=6.41e+3]\n"
     ]
    },
    {
     "name": "stdout",
     "output_type": "stream",
     "text": [
      "Epoch [357/3000]: Train loss: 7825.9537, Valid loss: 7490.9751\n"
     ]
    },
    {
     "name": "stderr",
     "output_type": "stream",
     "text": [
      "Epoch [358/3000]: 100%|██████████| 66/66 [00:00<00:00, 193.00it/s, loss=1.81e+4]\n"
     ]
    },
    {
     "name": "stdout",
     "output_type": "stream",
     "text": [
      "Epoch [358/3000]: Train loss: 7881.0412, Valid loss: 7631.8764\n"
     ]
    },
    {
     "name": "stderr",
     "output_type": "stream",
     "text": [
      "Epoch [359/3000]: 100%|██████████| 66/66 [00:00<00:00, 213.15it/s, loss=9.62e+3]\n"
     ]
    },
    {
     "name": "stdout",
     "output_type": "stream",
     "text": [
      "Epoch [359/3000]: Train loss: 7841.1317, Valid loss: 7655.5323\n"
     ]
    },
    {
     "name": "stderr",
     "output_type": "stream",
     "text": [
      "Epoch [360/3000]: 100%|██████████| 66/66 [00:00<00:00, 194.97it/s, loss=1.16e+4]\n"
     ]
    },
    {
     "name": "stdout",
     "output_type": "stream",
     "text": [
      "Epoch [360/3000]: Train loss: 7850.5555, Valid loss: 7658.8074\n"
     ]
    },
    {
     "name": "stderr",
     "output_type": "stream",
     "text": [
      "Epoch [361/3000]: 100%|██████████| 66/66 [00:00<00:00, 196.85it/s, loss=6.21e+3]\n"
     ]
    },
    {
     "name": "stdout",
     "output_type": "stream",
     "text": [
      "Epoch [361/3000]: Train loss: 7824.9341, Valid loss: 7493.5945\n"
     ]
    },
    {
     "name": "stderr",
     "output_type": "stream",
     "text": [
      "Epoch [362/3000]: 100%|██████████| 66/66 [00:00<00:00, 213.98it/s, loss=1.1e+4] \n"
     ]
    },
    {
     "name": "stdout",
     "output_type": "stream",
     "text": [
      "Epoch [362/3000]: Train loss: 7847.7807, Valid loss: 7509.6436\n"
     ]
    },
    {
     "name": "stderr",
     "output_type": "stream",
     "text": [
      "Epoch [363/3000]: 100%|██████████| 66/66 [00:00<00:00, 196.39it/s, loss=1.29e+4]\n"
     ]
    },
    {
     "name": "stdout",
     "output_type": "stream",
     "text": [
      "Epoch [363/3000]: Train loss: 7856.9938, Valid loss: 7621.1312\n"
     ]
    },
    {
     "name": "stderr",
     "output_type": "stream",
     "text": [
      "Epoch [364/3000]: 100%|██████████| 66/66 [00:00<00:00, 197.18it/s, loss=5.25e+3]\n"
     ]
    },
    {
     "name": "stdout",
     "output_type": "stream",
     "text": [
      "Epoch [364/3000]: Train loss: 7820.3482, Valid loss: 7443.0753\n"
     ]
    },
    {
     "name": "stderr",
     "output_type": "stream",
     "text": [
      "Epoch [365/3000]: 100%|██████████| 66/66 [00:00<00:00, 213.56it/s, loss=1.27e+4]\n"
     ]
    },
    {
     "name": "stdout",
     "output_type": "stream",
     "text": [
      "Epoch [365/3000]: Train loss: 7855.8517, Valid loss: 7627.9096\n"
     ]
    },
    {
     "name": "stderr",
     "output_type": "stream",
     "text": [
      "Epoch [366/3000]: 100%|██████████| 66/66 [00:00<00:00, 206.30it/s, loss=4.12e+3]\n"
     ]
    },
    {
     "name": "stdout",
     "output_type": "stream",
     "text": [
      "Epoch [366/3000]: Train loss: 7815.0568, Valid loss: 7597.7104\n"
     ]
    },
    {
     "name": "stderr",
     "output_type": "stream",
     "text": [
      "Epoch [367/3000]: 100%|██████████| 66/66 [00:00<00:00, 191.27it/s, loss=8.78e+3]\n"
     ]
    },
    {
     "name": "stdout",
     "output_type": "stream",
     "text": [
      "Epoch [367/3000]: Train loss: 7837.2037, Valid loss: 7655.6133\n"
     ]
    },
    {
     "name": "stderr",
     "output_type": "stream",
     "text": [
      "Epoch [368/3000]: 100%|██████████| 66/66 [00:00<00:00, 200.59it/s, loss=6.48e+3]\n"
     ]
    },
    {
     "name": "stdout",
     "output_type": "stream",
     "text": [
      "Epoch [368/3000]: Train loss: 7826.2930, Valid loss: 7559.4027\n"
     ]
    },
    {
     "name": "stderr",
     "output_type": "stream",
     "text": [
      "Epoch [369/3000]: 100%|██████████| 66/66 [00:00<00:00, 213.74it/s, loss=8.6e+3] \n"
     ]
    },
    {
     "name": "stdout",
     "output_type": "stream",
     "text": [
      "Epoch [369/3000]: Train loss: 7836.2916, Valid loss: 7716.1552\n"
     ]
    },
    {
     "name": "stderr",
     "output_type": "stream",
     "text": [
      "Epoch [370/3000]: 100%|██████████| 66/66 [00:00<00:00, 199.21it/s, loss=3.74e+3]\n"
     ]
    },
    {
     "name": "stdout",
     "output_type": "stream",
     "text": [
      "Epoch [370/3000]: Train loss: 7813.2427, Valid loss: 7445.1888\n"
     ]
    },
    {
     "name": "stderr",
     "output_type": "stream",
     "text": [
      "Epoch [371/3000]: 100%|██████████| 66/66 [00:00<00:00, 199.06it/s, loss=5.56e+3]\n"
     ]
    },
    {
     "name": "stdout",
     "output_type": "stream",
     "text": [
      "Epoch [371/3000]: Train loss: 7821.9401, Valid loss: 7496.1477\n"
     ]
    },
    {
     "name": "stderr",
     "output_type": "stream",
     "text": [
      "Epoch [372/3000]: 100%|██████████| 66/66 [00:00<00:00, 209.13it/s, loss=7.06e+3]\n"
     ]
    },
    {
     "name": "stdout",
     "output_type": "stream",
     "text": [
      "Epoch [372/3000]: Train loss: 7828.9611, Valid loss: 7693.4820\n"
     ]
    },
    {
     "name": "stderr",
     "output_type": "stream",
     "text": [
      "Epoch [373/3000]: 100%|██████████| 66/66 [00:00<00:00, 193.75it/s, loss=4e+3]   \n"
     ]
    },
    {
     "name": "stdout",
     "output_type": "stream",
     "text": [
      "Epoch [373/3000]: Train loss: 7814.4864, Valid loss: 7554.5162\n"
     ]
    },
    {
     "name": "stderr",
     "output_type": "stream",
     "text": [
      "Epoch [374/3000]: 100%|██████████| 66/66 [00:00<00:00, 198.89it/s, loss=8.64e+3]\n"
     ]
    },
    {
     "name": "stdout",
     "output_type": "stream",
     "text": [
      "Epoch [374/3000]: Train loss: 7836.6708, Valid loss: 7479.8845\n"
     ]
    },
    {
     "name": "stderr",
     "output_type": "stream",
     "text": [
      "Epoch [375/3000]: 100%|██████████| 66/66 [00:00<00:00, 212.77it/s, loss=7.78e+3]\n"
     ]
    },
    {
     "name": "stdout",
     "output_type": "stream",
     "text": [
      "Epoch [375/3000]: Train loss: 7832.3496, Valid loss: 7739.3685\n"
     ]
    },
    {
     "name": "stderr",
     "output_type": "stream",
     "text": [
      "Epoch [376/3000]: 100%|██████████| 66/66 [00:00<00:00, 208.58it/s, loss=9.4e+3] \n"
     ]
    },
    {
     "name": "stdout",
     "output_type": "stream",
     "text": [
      "Epoch [376/3000]: Train loss: 7840.0799, Valid loss: 7613.8905\n"
     ]
    },
    {
     "name": "stderr",
     "output_type": "stream",
     "text": [
      "Epoch [377/3000]: 100%|██████████| 66/66 [00:00<00:00, 197.54it/s, loss=6.39e+3]\n"
     ]
    },
    {
     "name": "stdout",
     "output_type": "stream",
     "text": [
      "Epoch [377/3000]: Train loss: 7825.8027, Valid loss: 7421.5306\n"
     ]
    },
    {
     "name": "stderr",
     "output_type": "stream",
     "text": [
      "Epoch [378/3000]: 100%|██████████| 66/66 [00:00<00:00, 205.85it/s, loss=7.43e+3]\n"
     ]
    },
    {
     "name": "stdout",
     "output_type": "stream",
     "text": [
      "Epoch [378/3000]: Train loss: 7830.7948, Valid loss: 7653.9494\n"
     ]
    },
    {
     "name": "stderr",
     "output_type": "stream",
     "text": [
      "Epoch [379/3000]: 100%|██████████| 66/66 [00:00<00:00, 209.74it/s, loss=5.9e+3] \n"
     ]
    },
    {
     "name": "stdout",
     "output_type": "stream",
     "text": [
      "Epoch [379/3000]: Train loss: 7823.3890, Valid loss: 7544.3182\n"
     ]
    },
    {
     "name": "stderr",
     "output_type": "stream",
     "text": [
      "Epoch [380/3000]: 100%|██████████| 66/66 [00:00<00:00, 197.99it/s, loss=3.53e+3]\n"
     ]
    },
    {
     "name": "stdout",
     "output_type": "stream",
     "text": [
      "Epoch [380/3000]: Train loss: 7812.2512, Valid loss: 7686.5446\n"
     ]
    },
    {
     "name": "stderr",
     "output_type": "stream",
     "text": [
      "Epoch [381/3000]: 100%|██████████| 66/66 [00:00<00:00, 198.23it/s, loss=1.09e+4]\n"
     ]
    },
    {
     "name": "stdout",
     "output_type": "stream",
     "text": [
      "Epoch [381/3000]: Train loss: 7847.2734, Valid loss: 7588.6063\n"
     ]
    },
    {
     "name": "stderr",
     "output_type": "stream",
     "text": [
      "Epoch [382/3000]: 100%|██████████| 66/66 [00:00<00:00, 214.20it/s, loss=4.6e+3] \n"
     ]
    },
    {
     "name": "stdout",
     "output_type": "stream",
     "text": [
      "Epoch [382/3000]: Train loss: 7817.3514, Valid loss: 7715.5277\n"
     ]
    },
    {
     "name": "stderr",
     "output_type": "stream",
     "text": [
      "Epoch [383/3000]: 100%|██████████| 66/66 [00:00<00:00, 197.45it/s, loss=2.15e+4]\n"
     ]
    },
    {
     "name": "stdout",
     "output_type": "stream",
     "text": [
      "Epoch [383/3000]: Train loss: 7897.3795, Valid loss: 7704.8016\n"
     ]
    },
    {
     "name": "stderr",
     "output_type": "stream",
     "text": [
      "Epoch [384/3000]: 100%|██████████| 66/66 [00:00<00:00, 201.25it/s, loss=7.72e+3]\n"
     ]
    },
    {
     "name": "stdout",
     "output_type": "stream",
     "text": [
      "Epoch [384/3000]: Train loss: 7832.0587, Valid loss: 7496.1810\n"
     ]
    },
    {
     "name": "stderr",
     "output_type": "stream",
     "text": [
      "Epoch [385/3000]: 100%|██████████| 66/66 [00:00<00:00, 214.22it/s, loss=5.73e+3]\n"
     ]
    },
    {
     "name": "stdout",
     "output_type": "stream",
     "text": [
      "Epoch [385/3000]: Train loss: 7822.6402, Valid loss: 7570.0542\n"
     ]
    },
    {
     "name": "stderr",
     "output_type": "stream",
     "text": [
      "Epoch [386/3000]: 100%|██████████| 66/66 [00:00<00:00, 199.43it/s, loss=1.25e+4]\n"
     ]
    },
    {
     "name": "stdout",
     "output_type": "stream",
     "text": [
      "Epoch [386/3000]: Train loss: 7854.6988, Valid loss: 7456.5518\n"
     ]
    },
    {
     "name": "stderr",
     "output_type": "stream",
     "text": [
      "Epoch [387/3000]: 100%|██████████| 66/66 [00:00<00:00, 196.24it/s, loss=6.63e+3]\n"
     ]
    },
    {
     "name": "stdout",
     "output_type": "stream",
     "text": [
      "Epoch [387/3000]: Train loss: 7827.0904, Valid loss: 7452.6332\n"
     ]
    },
    {
     "name": "stderr",
     "output_type": "stream",
     "text": [
      "Epoch [388/3000]: 100%|██████████| 66/66 [00:00<00:00, 181.55it/s, loss=6.72e+3]\n"
     ]
    },
    {
     "name": "stdout",
     "output_type": "stream",
     "text": [
      "Epoch [388/3000]: Train loss: 7827.3235, Valid loss: 7684.4734\n"
     ]
    },
    {
     "name": "stderr",
     "output_type": "stream",
     "text": [
      "Epoch [389/3000]: 100%|██████████| 66/66 [00:00<00:00, 191.33it/s, loss=6.68e+3]\n"
     ]
    },
    {
     "name": "stdout",
     "output_type": "stream",
     "text": [
      "Epoch [389/3000]: Train loss: 7827.2045, Valid loss: 7655.8507\n"
     ]
    },
    {
     "name": "stderr",
     "output_type": "stream",
     "text": [
      "Epoch [390/3000]: 100%|██████████| 66/66 [00:00<00:00, 182.55it/s, loss=1.3e+4] \n"
     ]
    },
    {
     "name": "stdout",
     "output_type": "stream",
     "text": [
      "Epoch [390/3000]: Train loss: 7857.4269, Valid loss: 7579.7719\n"
     ]
    },
    {
     "name": "stderr",
     "output_type": "stream",
     "text": [
      "Epoch [391/3000]: 100%|██████████| 66/66 [00:00<00:00, 203.50it/s, loss=1.12e+4]\n"
     ]
    },
    {
     "name": "stdout",
     "output_type": "stream",
     "text": [
      "Epoch [391/3000]: Train loss: 7848.5998, Valid loss: 7515.9864\n"
     ]
    },
    {
     "name": "stderr",
     "output_type": "stream",
     "text": [
      "Epoch [392/3000]: 100%|██████████| 66/66 [00:00<00:00, 197.05it/s, loss=4.27e+3]\n"
     ]
    },
    {
     "name": "stdout",
     "output_type": "stream",
     "text": [
      "Epoch [392/3000]: Train loss: 7815.8314, Valid loss: 7570.1650\n"
     ]
    },
    {
     "name": "stderr",
     "output_type": "stream",
     "text": [
      "Epoch [393/3000]: 100%|██████████| 66/66 [00:00<00:00, 193.41it/s, loss=1.13e+4]\n"
     ]
    },
    {
     "name": "stdout",
     "output_type": "stream",
     "text": [
      "Epoch [393/3000]: Train loss: 7849.2872, Valid loss: 7590.6710\n"
     ]
    },
    {
     "name": "stderr",
     "output_type": "stream",
     "text": [
      "Epoch [394/3000]: 100%|██████████| 66/66 [00:00<00:00, 179.63it/s, loss=4.28e+3]\n"
     ]
    },
    {
     "name": "stdout",
     "output_type": "stream",
     "text": [
      "Epoch [394/3000]: Train loss: 7815.8453, Valid loss: 7473.9059\n"
     ]
    },
    {
     "name": "stderr",
     "output_type": "stream",
     "text": [
      "Epoch [395/3000]: 100%|██████████| 66/66 [00:00<00:00, 157.98it/s, loss=7.55e+3]\n"
     ]
    },
    {
     "name": "stdout",
     "output_type": "stream",
     "text": [
      "Epoch [395/3000]: Train loss: 7831.3079, Valid loss: 7567.7607\n"
     ]
    },
    {
     "name": "stderr",
     "output_type": "stream",
     "text": [
      "Epoch [396/3000]: 100%|██████████| 66/66 [00:00<00:00, 154.19it/s, loss=4.32e+3]\n"
     ]
    },
    {
     "name": "stdout",
     "output_type": "stream",
     "text": [
      "Epoch [396/3000]: Train loss: 7815.9535, Valid loss: 7449.0349\n"
     ]
    },
    {
     "name": "stderr",
     "output_type": "stream",
     "text": [
      "Epoch [397/3000]: 100%|██████████| 66/66 [00:00<00:00, 150.94it/s, loss=1.29e+4]\n"
     ]
    },
    {
     "name": "stdout",
     "output_type": "stream",
     "text": [
      "Epoch [397/3000]: Train loss: 7856.6573, Valid loss: 7622.9427\n"
     ]
    },
    {
     "name": "stderr",
     "output_type": "stream",
     "text": [
      "Epoch [398/3000]: 100%|██████████| 66/66 [00:00<00:00, 157.05it/s, loss=6.63e+3]\n"
     ]
    },
    {
     "name": "stdout",
     "output_type": "stream",
     "text": [
      "Epoch [398/3000]: Train loss: 7826.8762, Valid loss: 7463.8775\n"
     ]
    },
    {
     "name": "stderr",
     "output_type": "stream",
     "text": [
      "Epoch [399/3000]: 100%|██████████| 66/66 [00:00<00:00, 149.21it/s, loss=3.48e+3]\n"
     ]
    },
    {
     "name": "stdout",
     "output_type": "stream",
     "text": [
      "Epoch [399/3000]: Train loss: 7812.1218, Valid loss: 7701.6125\n"
     ]
    },
    {
     "name": "stderr",
     "output_type": "stream",
     "text": [
      "Epoch [400/3000]: 100%|██████████| 66/66 [00:00<00:00, 198.21it/s, loss=7.79e+3]\n"
     ]
    },
    {
     "name": "stdout",
     "output_type": "stream",
     "text": [
      "Epoch [400/3000]: Train loss: 7832.5152, Valid loss: 7462.2087\n"
     ]
    },
    {
     "name": "stderr",
     "output_type": "stream",
     "text": [
      "Epoch [401/3000]: 100%|██████████| 66/66 [00:00<00:00, 196.89it/s, loss=4.75e+3]\n"
     ]
    },
    {
     "name": "stdout",
     "output_type": "stream",
     "text": [
      "Epoch [401/3000]: Train loss: 7817.9835, Valid loss: 7522.9038\n"
     ]
    },
    {
     "name": "stderr",
     "output_type": "stream",
     "text": [
      "Epoch [402/3000]: 100%|██████████| 66/66 [00:00<00:00, 197.27it/s, loss=7.14e+3]\n"
     ]
    },
    {
     "name": "stdout",
     "output_type": "stream",
     "text": [
      "Epoch [402/3000]: Train loss: 7829.3673, Valid loss: 7606.3265\n"
     ]
    },
    {
     "name": "stderr",
     "output_type": "stream",
     "text": [
      "Epoch [403/3000]: 100%|██████████| 66/66 [00:00<00:00, 212.45it/s, loss=7.75e+3]\n"
     ]
    },
    {
     "name": "stdout",
     "output_type": "stream",
     "text": [
      "Epoch [403/3000]: Train loss: 7832.2611, Valid loss: 7499.5981\n"
     ]
    },
    {
     "name": "stderr",
     "output_type": "stream",
     "text": [
      "Epoch [404/3000]: 100%|██████████| 66/66 [00:00<00:00, 194.70it/s, loss=4.45e+3]\n"
     ]
    },
    {
     "name": "stdout",
     "output_type": "stream",
     "text": [
      "Epoch [404/3000]: Train loss: 7816.5786, Valid loss: 7577.7385\n"
     ]
    },
    {
     "name": "stderr",
     "output_type": "stream",
     "text": [
      "Epoch [405/3000]: 100%|██████████| 66/66 [00:00<00:00, 196.55it/s, loss=1.13e+4]\n"
     ]
    },
    {
     "name": "stdout",
     "output_type": "stream",
     "text": [
      "Epoch [405/3000]: Train loss: 7849.0371, Valid loss: 7794.2263\n"
     ]
    },
    {
     "name": "stderr",
     "output_type": "stream",
     "text": [
      "Epoch [406/3000]: 100%|██████████| 66/66 [00:00<00:00, 213.61it/s, loss=9.56e+3]\n"
     ]
    },
    {
     "name": "stdout",
     "output_type": "stream",
     "text": [
      "Epoch [406/3000]: Train loss: 7840.9366, Valid loss: 7708.0900\n"
     ]
    },
    {
     "name": "stderr",
     "output_type": "stream",
     "text": [
      "Epoch [407/3000]: 100%|██████████| 66/66 [00:00<00:00, 198.18it/s, loss=5.9e+3] \n"
     ]
    },
    {
     "name": "stdout",
     "output_type": "stream",
     "text": [
      "Epoch [407/3000]: Train loss: 7823.3888, Valid loss: 7514.4498\n"
     ]
    },
    {
     "name": "stderr",
     "output_type": "stream",
     "text": [
      "Epoch [408/3000]: 100%|██████████| 66/66 [00:00<00:00, 197.53it/s, loss=3.33e+3]\n"
     ]
    },
    {
     "name": "stdout",
     "output_type": "stream",
     "text": [
      "Epoch [408/3000]: Train loss: 7811.3646, Valid loss: 7570.8190\n"
     ]
    },
    {
     "name": "stderr",
     "output_type": "stream",
     "text": [
      "Epoch [409/3000]: 100%|██████████| 66/66 [00:00<00:00, 206.09it/s, loss=7.98e+3]\n"
     ]
    },
    {
     "name": "stdout",
     "output_type": "stream",
     "text": [
      "Epoch [409/3000]: Train loss: 7833.3166, Valid loss: 7535.8609\n"
     ]
    },
    {
     "name": "stderr",
     "output_type": "stream",
     "text": [
      "Epoch [410/3000]: 100%|██████████| 66/66 [00:00<00:00, 196.37it/s, loss=8.94e+3]\n"
     ]
    },
    {
     "name": "stdout",
     "output_type": "stream",
     "text": [
      "Epoch [410/3000]: Train loss: 7837.9122, Valid loss: 7543.5716\n"
     ]
    },
    {
     "name": "stderr",
     "output_type": "stream",
     "text": [
      "Epoch [411/3000]: 100%|██████████| 66/66 [00:00<00:00, 197.37it/s, loss=8.06e+3]\n"
     ]
    },
    {
     "name": "stdout",
     "output_type": "stream",
     "text": [
      "Epoch [411/3000]: Train loss: 7833.7014, Valid loss: 7629.4179\n"
     ]
    },
    {
     "name": "stderr",
     "output_type": "stream",
     "text": [
      "Epoch [412/3000]: 100%|██████████| 66/66 [00:00<00:00, 209.25it/s, loss=4.24e+3]\n"
     ]
    },
    {
     "name": "stdout",
     "output_type": "stream",
     "text": [
      "Epoch [412/3000]: Train loss: 7815.6318, Valid loss: 7936.6076\n"
     ]
    },
    {
     "name": "stderr",
     "output_type": "stream",
     "text": [
      "Epoch [413/3000]: 100%|██████████| 66/66 [00:00<00:00, 209.53it/s, loss=4.42e+3]\n"
     ]
    },
    {
     "name": "stdout",
     "output_type": "stream",
     "text": [
      "Epoch [413/3000]: Train loss: 7816.3944, Valid loss: 7420.3472\n"
     ]
    },
    {
     "name": "stderr",
     "output_type": "stream",
     "text": [
      "Epoch [414/3000]: 100%|██████████| 66/66 [00:00<00:00, 196.75it/s, loss=3.76e+3]\n"
     ]
    },
    {
     "name": "stdout",
     "output_type": "stream",
     "text": [
      "Epoch [414/3000]: Train loss: 7813.2905, Valid loss: 7586.0621\n"
     ]
    },
    {
     "name": "stderr",
     "output_type": "stream",
     "text": [
      "Epoch [415/3000]: 100%|██████████| 66/66 [00:00<00:00, 199.55it/s, loss=7.1e+3] \n"
     ]
    },
    {
     "name": "stdout",
     "output_type": "stream",
     "text": [
      "Epoch [415/3000]: Train loss: 7829.4864, Valid loss: 7462.8290\n"
     ]
    },
    {
     "name": "stderr",
     "output_type": "stream",
     "text": [
      "Epoch [416/3000]: 100%|██████████| 66/66 [00:00<00:00, 213.47it/s, loss=5.64e+3]\n"
     ]
    },
    {
     "name": "stdout",
     "output_type": "stream",
     "text": [
      "Epoch [416/3000]: Train loss: 7822.3164, Valid loss: 7440.6083\n"
     ]
    },
    {
     "name": "stderr",
     "output_type": "stream",
     "text": [
      "Epoch [417/3000]: 100%|██████████| 66/66 [00:00<00:00, 197.27it/s, loss=1.03e+4]\n"
     ]
    },
    {
     "name": "stdout",
     "output_type": "stream",
     "text": [
      "Epoch [417/3000]: Train loss: 7844.0708, Valid loss: 7503.9152\n"
     ]
    },
    {
     "name": "stderr",
     "output_type": "stream",
     "text": [
      "Epoch [418/3000]: 100%|██████████| 66/66 [00:00<00:00, 197.17it/s, loss=1.26e+4]\n"
     ]
    },
    {
     "name": "stdout",
     "output_type": "stream",
     "text": [
      "Epoch [418/3000]: Train loss: 7855.2502, Valid loss: 7648.2540\n"
     ]
    },
    {
     "name": "stderr",
     "output_type": "stream",
     "text": [
      "Epoch [419/3000]: 100%|██████████| 66/66 [00:00<00:00, 213.57it/s, loss=8.66e+3]\n"
     ]
    },
    {
     "name": "stdout",
     "output_type": "stream",
     "text": [
      "Epoch [419/3000]: Train loss: 7836.4870, Valid loss: 7436.4409\n"
     ]
    },
    {
     "name": "stderr",
     "output_type": "stream",
     "text": [
      "Epoch [420/3000]: 100%|██████████| 66/66 [00:00<00:00, 197.64it/s, loss=7.66e+3]\n"
     ]
    },
    {
     "name": "stdout",
     "output_type": "stream",
     "text": [
      "Epoch [420/3000]: Train loss: 7831.8054, Valid loss: 7727.3313\n"
     ]
    },
    {
     "name": "stderr",
     "output_type": "stream",
     "text": [
      "Epoch [421/3000]: 100%|██████████| 66/66 [00:00<00:00, 197.94it/s, loss=9.87e+3]\n"
     ]
    },
    {
     "name": "stdout",
     "output_type": "stream",
     "text": [
      "Epoch [421/3000]: Train loss: 7842.1965, Valid loss: 7647.2204\n"
     ]
    },
    {
     "name": "stderr",
     "output_type": "stream",
     "text": [
      "Epoch [422/3000]: 100%|██████████| 66/66 [00:00<00:00, 213.45it/s, loss=3.79e+3]\n"
     ]
    },
    {
     "name": "stdout",
     "output_type": "stream",
     "text": [
      "Epoch [422/3000]: Train loss: 7813.4552, Valid loss: 7521.3604\n"
     ]
    },
    {
     "name": "stderr",
     "output_type": "stream",
     "text": [
      "Epoch [423/3000]: 100%|██████████| 66/66 [00:00<00:00, 199.00it/s, loss=1.1e+4] \n"
     ]
    },
    {
     "name": "stdout",
     "output_type": "stream",
     "text": [
      "Epoch [423/3000]: Train loss: 7847.5831, Valid loss: 7410.5308\n"
     ]
    },
    {
     "name": "stderr",
     "output_type": "stream",
     "text": [
      "Epoch [424/3000]: 100%|██████████| 66/66 [00:00<00:00, 196.02it/s, loss=1.13e+4]\n"
     ]
    },
    {
     "name": "stdout",
     "output_type": "stream",
     "text": [
      "Epoch [424/3000]: Train loss: 7848.9183, Valid loss: 7492.5442\n"
     ]
    },
    {
     "name": "stderr",
     "output_type": "stream",
     "text": [
      "Epoch [425/3000]: 100%|██████████| 66/66 [00:00<00:00, 206.21it/s, loss=3.53e+3]\n"
     ]
    },
    {
     "name": "stdout",
     "output_type": "stream",
     "text": [
      "Epoch [425/3000]: Train loss: 7812.2032, Valid loss: 7507.8024\n"
     ]
    },
    {
     "name": "stderr",
     "output_type": "stream",
     "text": [
      "Epoch [426/3000]: 100%|██████████| 66/66 [00:00<00:00, 211.51it/s, loss=4.62e+3]\n"
     ]
    },
    {
     "name": "stdout",
     "output_type": "stream",
     "text": [
      "Epoch [426/3000]: Train loss: 7817.4021, Valid loss: 7431.5715\n"
     ]
    },
    {
     "name": "stderr",
     "output_type": "stream",
     "text": [
      "Epoch [427/3000]: 100%|██████████| 66/66 [00:00<00:00, 198.52it/s, loss=9.23e+3]\n"
     ]
    },
    {
     "name": "stdout",
     "output_type": "stream",
     "text": [
      "Epoch [427/3000]: Train loss: 7839.2334, Valid loss: 7718.8093\n"
     ]
    },
    {
     "name": "stderr",
     "output_type": "stream",
     "text": [
      "Epoch [428/3000]: 100%|██████████| 66/66 [00:00<00:00, 196.50it/s, loss=8.76e+3]\n"
     ]
    },
    {
     "name": "stdout",
     "output_type": "stream",
     "text": [
      "Epoch [428/3000]: Train loss: 7837.0794, Valid loss: 7466.5954\n"
     ]
    },
    {
     "name": "stderr",
     "output_type": "stream",
     "text": [
      "Epoch [429/3000]: 100%|██████████| 66/66 [00:00<00:00, 211.35it/s, loss=4.12e+3]\n"
     ]
    },
    {
     "name": "stdout",
     "output_type": "stream",
     "text": [
      "Epoch [429/3000]: Train loss: 7815.1107, Valid loss: 7478.4844\n"
     ]
    },
    {
     "name": "stderr",
     "output_type": "stream",
     "text": [
      "Epoch [430/3000]: 100%|██████████| 66/66 [00:00<00:00, 199.26it/s, loss=4.6e+3] \n"
     ]
    },
    {
     "name": "stdout",
     "output_type": "stream",
     "text": [
      "Epoch [430/3000]: Train loss: 7817.4033, Valid loss: 7566.0219\n"
     ]
    },
    {
     "name": "stderr",
     "output_type": "stream",
     "text": [
      "Epoch [431/3000]: 100%|██████████| 66/66 [00:00<00:00, 198.19it/s, loss=6.78e+3]\n"
     ]
    },
    {
     "name": "stdout",
     "output_type": "stream",
     "text": [
      "Epoch [431/3000]: Train loss: 7827.6705, Valid loss: 7506.4954\n"
     ]
    },
    {
     "name": "stderr",
     "output_type": "stream",
     "text": [
      "Epoch [432/3000]: 100%|██████████| 66/66 [00:00<00:00, 210.62it/s, loss=5.09e+3]\n"
     ]
    },
    {
     "name": "stdout",
     "output_type": "stream",
     "text": [
      "Epoch [432/3000]: Train loss: 7819.6640, Valid loss: 7565.8575\n"
     ]
    },
    {
     "name": "stderr",
     "output_type": "stream",
     "text": [
      "Epoch [433/3000]: 100%|██████████| 66/66 [00:00<00:00, 199.90it/s, loss=7.98e+3]\n"
     ]
    },
    {
     "name": "stdout",
     "output_type": "stream",
     "text": [
      "Epoch [433/3000]: Train loss: 7833.5155, Valid loss: 7681.8690\n"
     ]
    },
    {
     "name": "stderr",
     "output_type": "stream",
     "text": [
      "Epoch [434/3000]: 100%|██████████| 66/66 [00:00<00:00, 198.04it/s, loss=7.99e+3]\n"
     ]
    },
    {
     "name": "stdout",
     "output_type": "stream",
     "text": [
      "Epoch [434/3000]: Train loss: 7833.5312, Valid loss: 7608.2870\n"
     ]
    },
    {
     "name": "stderr",
     "output_type": "stream",
     "text": [
      "Epoch [435/3000]: 100%|██████████| 66/66 [00:00<00:00, 215.30it/s, loss=5.88e+3]\n"
     ]
    },
    {
     "name": "stdout",
     "output_type": "stream",
     "text": [
      "Epoch [435/3000]: Train loss: 7823.4092, Valid loss: 7509.8958\n"
     ]
    },
    {
     "name": "stderr",
     "output_type": "stream",
     "text": [
      "Epoch [436/3000]: 100%|██████████| 66/66 [00:00<00:00, 197.80it/s, loss=9.3e+3] \n"
     ]
    },
    {
     "name": "stdout",
     "output_type": "stream",
     "text": [
      "Epoch [436/3000]: Train loss: 7839.5724, Valid loss: 7559.0686\n"
     ]
    },
    {
     "name": "stderr",
     "output_type": "stream",
     "text": [
      "Epoch [437/3000]: 100%|██████████| 66/66 [00:00<00:00, 200.10it/s, loss=5.8e+3] \n"
     ]
    },
    {
     "name": "stdout",
     "output_type": "stream",
     "text": [
      "Epoch [437/3000]: Train loss: 7823.0388, Valid loss: 7728.0440\n"
     ]
    },
    {
     "name": "stderr",
     "output_type": "stream",
     "text": [
      "Epoch [438/3000]: 100%|██████████| 66/66 [00:00<00:00, 208.74it/s, loss=8.79e+3]\n"
     ]
    },
    {
     "name": "stdout",
     "output_type": "stream",
     "text": [
      "Epoch [438/3000]: Train loss: 7837.3484, Valid loss: 7614.3259\n"
     ]
    },
    {
     "name": "stderr",
     "output_type": "stream",
     "text": [
      "Epoch [439/3000]: 100%|██████████| 66/66 [00:00<00:00, 209.10it/s, loss=8.53e+3]\n"
     ]
    },
    {
     "name": "stdout",
     "output_type": "stream",
     "text": [
      "Epoch [439/3000]: Train loss: 7835.9619, Valid loss: 7488.5350\n"
     ]
    },
    {
     "name": "stderr",
     "output_type": "stream",
     "text": [
      "Epoch [440/3000]: 100%|██████████| 66/66 [00:00<00:00, 192.42it/s, loss=7.19e+3]\n"
     ]
    },
    {
     "name": "stdout",
     "output_type": "stream",
     "text": [
      "Epoch [440/3000]: Train loss: 7829.5773, Valid loss: 7550.0535\n"
     ]
    },
    {
     "name": "stderr",
     "output_type": "stream",
     "text": [
      "Epoch [441/3000]: 100%|██████████| 66/66 [00:00<00:00, 197.84it/s, loss=6.03e+3]\n"
     ]
    },
    {
     "name": "stdout",
     "output_type": "stream",
     "text": [
      "Epoch [441/3000]: Train loss: 7824.1348, Valid loss: 7802.2286\n"
     ]
    },
    {
     "name": "stderr",
     "output_type": "stream",
     "text": [
      "Epoch [442/3000]: 100%|██████████| 66/66 [00:00<00:00, 215.54it/s, loss=5.86e+3]\n"
     ]
    },
    {
     "name": "stdout",
     "output_type": "stream",
     "text": [
      "Epoch [442/3000]: Train loss: 7823.2907, Valid loss: 7607.3041\n"
     ]
    },
    {
     "name": "stderr",
     "output_type": "stream",
     "text": [
      "Epoch [443/3000]: 100%|██████████| 66/66 [00:00<00:00, 196.51it/s, loss=7.08e+3]\n"
     ]
    },
    {
     "name": "stdout",
     "output_type": "stream",
     "text": [
      "Epoch [443/3000]: Train loss: 7829.0479, Valid loss: 7747.2060\n"
     ]
    },
    {
     "name": "stderr",
     "output_type": "stream",
     "text": [
      "Epoch [444/3000]: 100%|██████████| 66/66 [00:00<00:00, 197.16it/s, loss=1.09e+4]\n"
     ]
    },
    {
     "name": "stdout",
     "output_type": "stream",
     "text": [
      "Epoch [444/3000]: Train loss: 7847.1955, Valid loss: 7790.8507\n"
     ]
    },
    {
     "name": "stderr",
     "output_type": "stream",
     "text": [
      "Epoch [445/3000]: 100%|██████████| 66/66 [00:00<00:00, 213.47it/s, loss=5.68e+3]\n"
     ]
    },
    {
     "name": "stdout",
     "output_type": "stream",
     "text": [
      "Epoch [445/3000]: Train loss: 7822.3938, Valid loss: 7473.7930\n"
     ]
    },
    {
     "name": "stderr",
     "output_type": "stream",
     "text": [
      "Epoch [446/3000]: 100%|██████████| 66/66 [00:00<00:00, 196.14it/s, loss=1.17e+4]\n"
     ]
    },
    {
     "name": "stdout",
     "output_type": "stream",
     "text": [
      "Epoch [446/3000]: Train loss: 7851.2212, Valid loss: 7501.4746\n"
     ]
    },
    {
     "name": "stderr",
     "output_type": "stream",
     "text": [
      "Epoch [447/3000]: 100%|██████████| 66/66 [00:00<00:00, 194.98it/s, loss=1.04e+4]\n"
     ]
    },
    {
     "name": "stdout",
     "output_type": "stream",
     "text": [
      "Epoch [447/3000]: Train loss: 7845.0055, Valid loss: 7815.3632\n"
     ]
    },
    {
     "name": "stderr",
     "output_type": "stream",
     "text": [
      "Epoch [448/3000]: 100%|██████████| 66/66 [00:00<00:00, 205.91it/s, loss=1.07e+4]\n"
     ]
    },
    {
     "name": "stdout",
     "output_type": "stream",
     "text": [
      "Epoch [448/3000]: Train loss: 7846.2964, Valid loss: 7475.9805\n"
     ]
    },
    {
     "name": "stderr",
     "output_type": "stream",
     "text": [
      "Epoch [449/3000]: 100%|██████████| 66/66 [00:00<00:00, 213.13it/s, loss=7.03e+3]\n"
     ]
    },
    {
     "name": "stdout",
     "output_type": "stream",
     "text": [
      "Epoch [449/3000]: Train loss: 7828.8009, Valid loss: 7505.2792\n"
     ]
    },
    {
     "name": "stderr",
     "output_type": "stream",
     "text": [
      "Epoch [450/3000]: 100%|██████████| 66/66 [00:00<00:00, 199.66it/s, loss=4.4e+3] \n"
     ]
    },
    {
     "name": "stdout",
     "output_type": "stream",
     "text": [
      "Epoch [450/3000]: Train loss: 7816.2866, Valid loss: 7720.5035\n"
     ]
    },
    {
     "name": "stderr",
     "output_type": "stream",
     "text": [
      "Epoch [451/3000]: 100%|██████████| 66/66 [00:00<00:00, 201.49it/s, loss=6.59e+3]\n"
     ]
    },
    {
     "name": "stdout",
     "output_type": "stream",
     "text": [
      "Epoch [451/3000]: Train loss: 7826.6813, Valid loss: 7589.2977\n"
     ]
    },
    {
     "name": "stderr",
     "output_type": "stream",
     "text": [
      "Epoch [452/3000]: 100%|██████████| 66/66 [00:00<00:00, 215.43it/s, loss=5.83e+3]\n"
     ]
    },
    {
     "name": "stdout",
     "output_type": "stream",
     "text": [
      "Epoch [452/3000]: Train loss: 7823.1499, Valid loss: 7712.3559\n"
     ]
    },
    {
     "name": "stderr",
     "output_type": "stream",
     "text": [
      "Epoch [453/3000]: 100%|██████████| 66/66 [00:00<00:00, 197.12it/s, loss=9.1e+3] \n"
     ]
    },
    {
     "name": "stdout",
     "output_type": "stream",
     "text": [
      "Epoch [453/3000]: Train loss: 7838.7095, Valid loss: 7583.4697\n"
     ]
    },
    {
     "name": "stderr",
     "output_type": "stream",
     "text": [
      "Epoch [454/3000]: 100%|██████████| 66/66 [00:00<00:00, 199.02it/s, loss=7.01e+3]\n"
     ]
    },
    {
     "name": "stdout",
     "output_type": "stream",
     "text": [
      "Epoch [454/3000]: Train loss: 7828.8048, Valid loss: 7445.4846\n"
     ]
    },
    {
     "name": "stderr",
     "output_type": "stream",
     "text": [
      "Epoch [455/3000]: 100%|██████████| 66/66 [00:00<00:00, 213.39it/s, loss=3.25e+3]\n"
     ]
    },
    {
     "name": "stdout",
     "output_type": "stream",
     "text": [
      "Epoch [455/3000]: Train loss: 7811.0567, Valid loss: 7446.6022\n"
     ]
    },
    {
     "name": "stderr",
     "output_type": "stream",
     "text": [
      "Epoch [456/3000]: 100%|██████████| 66/66 [00:00<00:00, 192.43it/s, loss=4.73e+3]\n"
     ]
    },
    {
     "name": "stdout",
     "output_type": "stream",
     "text": [
      "Epoch [456/3000]: Train loss: 7818.0583, Valid loss: 7480.6924\n"
     ]
    },
    {
     "name": "stderr",
     "output_type": "stream",
     "text": [
      "Epoch [457/3000]: 100%|██████████| 66/66 [00:00<00:00, 199.57it/s, loss=7.89e+3]\n"
     ]
    },
    {
     "name": "stdout",
     "output_type": "stream",
     "text": [
      "Epoch [457/3000]: Train loss: 7832.9322, Valid loss: 7417.3418\n"
     ]
    },
    {
     "name": "stderr",
     "output_type": "stream",
     "text": [
      "Epoch [458/3000]: 100%|██████████| 66/66 [00:00<00:00, 207.92it/s, loss=7.79e+3]\n"
     ]
    },
    {
     "name": "stdout",
     "output_type": "stream",
     "text": [
      "Epoch [458/3000]: Train loss: 7832.4157, Valid loss: 7491.8239\n"
     ]
    },
    {
     "name": "stderr",
     "output_type": "stream",
     "text": [
      "Epoch [459/3000]: 100%|██████████| 66/66 [00:00<00:00, 210.69it/s, loss=5.28e+3]\n"
     ]
    },
    {
     "name": "stdout",
     "output_type": "stream",
     "text": [
      "Epoch [459/3000]: Train loss: 7820.5742, Valid loss: 7545.9866\n"
     ]
    },
    {
     "name": "stderr",
     "output_type": "stream",
     "text": [
      "Epoch [460/3000]: 100%|██████████| 66/66 [00:00<00:00, 197.62it/s, loss=8.88e+3]\n"
     ]
    },
    {
     "name": "stdout",
     "output_type": "stream",
     "text": [
      "Epoch [460/3000]: Train loss: 7837.8898, Valid loss: 7617.2698\n"
     ]
    },
    {
     "name": "stderr",
     "output_type": "stream",
     "text": [
      "Epoch [461/3000]: 100%|██████████| 66/66 [00:00<00:00, 199.03it/s, loss=7.24e+3]\n"
     ]
    },
    {
     "name": "stdout",
     "output_type": "stream",
     "text": [
      "Epoch [461/3000]: Train loss: 7829.8957, Valid loss: 7465.2839\n"
     ]
    },
    {
     "name": "stderr",
     "output_type": "stream",
     "text": [
      "Epoch [462/3000]: 100%|██████████| 66/66 [00:00<00:00, 214.42it/s, loss=9.51e+3]\n"
     ]
    },
    {
     "name": "stdout",
     "output_type": "stream",
     "text": [
      "Epoch [462/3000]: Train loss: 7840.5548, Valid loss: 7774.9790\n"
     ]
    },
    {
     "name": "stderr",
     "output_type": "stream",
     "text": [
      "Epoch [463/3000]: 100%|██████████| 66/66 [00:00<00:00, 198.31it/s, loss=6.43e+3]\n"
     ]
    },
    {
     "name": "stdout",
     "output_type": "stream",
     "text": [
      "Epoch [463/3000]: Train loss: 7825.9214, Valid loss: 7458.9421\n"
     ]
    },
    {
     "name": "stderr",
     "output_type": "stream",
     "text": [
      "Epoch [464/3000]: 100%|██████████| 66/66 [00:00<00:00, 198.03it/s, loss=9.06e+3]\n"
     ]
    },
    {
     "name": "stdout",
     "output_type": "stream",
     "text": [
      "Epoch [464/3000]: Train loss: 7838.4519, Valid loss: 7786.6089\n"
     ]
    },
    {
     "name": "stderr",
     "output_type": "stream",
     "text": [
      "Epoch [465/3000]: 100%|██████████| 66/66 [00:00<00:00, 212.22it/s, loss=6.58e+3]\n"
     ]
    },
    {
     "name": "stdout",
     "output_type": "stream",
     "text": [
      "Epoch [465/3000]: Train loss: 7826.7113, Valid loss: 7474.7990\n"
     ]
    },
    {
     "name": "stderr",
     "output_type": "stream",
     "text": [
      "Epoch [466/3000]: 100%|██████████| 66/66 [00:00<00:00, 198.56it/s, loss=6.29e+3]\n"
     ]
    },
    {
     "name": "stdout",
     "output_type": "stream",
     "text": [
      "Epoch [466/3000]: Train loss: 7825.3291, Valid loss: 7581.0209\n"
     ]
    },
    {
     "name": "stderr",
     "output_type": "stream",
     "text": [
      "Epoch [467/3000]: 100%|██████████| 66/66 [00:00<00:00, 196.29it/s, loss=5.11e+3]\n"
     ]
    },
    {
     "name": "stdout",
     "output_type": "stream",
     "text": [
      "Epoch [467/3000]: Train loss: 7819.7567, Valid loss: 7622.4068\n"
     ]
    },
    {
     "name": "stderr",
     "output_type": "stream",
     "text": [
      "Epoch [468/3000]: 100%|██████████| 66/66 [00:00<00:00, 209.51it/s, loss=9.82e+3]\n"
     ]
    },
    {
     "name": "stdout",
     "output_type": "stream",
     "text": [
      "Epoch [468/3000]: Train loss: 7842.1664, Valid loss: 7766.2135\n"
     ]
    },
    {
     "name": "stderr",
     "output_type": "stream",
     "text": [
      "Epoch [469/3000]: 100%|██████████| 66/66 [00:00<00:00, 212.24it/s, loss=7.93e+3]\n"
     ]
    },
    {
     "name": "stdout",
     "output_type": "stream",
     "text": [
      "Epoch [469/3000]: Train loss: 7833.0638, Valid loss: 7640.8452\n"
     ]
    },
    {
     "name": "stderr",
     "output_type": "stream",
     "text": [
      "Epoch [470/3000]: 100%|██████████| 66/66 [00:00<00:00, 200.04it/s, loss=7.01e+3]\n"
     ]
    },
    {
     "name": "stdout",
     "output_type": "stream",
     "text": [
      "Epoch [470/3000]: Train loss: 7828.6273, Valid loss: 7590.1482\n"
     ]
    },
    {
     "name": "stderr",
     "output_type": "stream",
     "text": [
      "Epoch [471/3000]: 100%|██████████| 66/66 [00:00<00:00, 193.54it/s, loss=8.14e+3]\n"
     ]
    },
    {
     "name": "stdout",
     "output_type": "stream",
     "text": [
      "Epoch [471/3000]: Train loss: 7834.0492, Valid loss: 7510.8181\n"
     ]
    },
    {
     "name": "stderr",
     "output_type": "stream",
     "text": [
      "Epoch [472/3000]: 100%|██████████| 66/66 [00:00<00:00, 214.77it/s, loss=1.06e+4]\n"
     ]
    },
    {
     "name": "stdout",
     "output_type": "stream",
     "text": [
      "Epoch [472/3000]: Train loss: 7845.9157, Valid loss: 7538.3234\n"
     ]
    },
    {
     "name": "stderr",
     "output_type": "stream",
     "text": [
      "Epoch [473/3000]: 100%|██████████| 66/66 [00:00<00:00, 197.66it/s, loss=5.5e+3] \n"
     ]
    },
    {
     "name": "stdout",
     "output_type": "stream",
     "text": [
      "Epoch [473/3000]: Train loss: 7821.7052, Valid loss: 7593.7482\n"
     ]
    },
    {
     "name": "stderr",
     "output_type": "stream",
     "text": [
      "Epoch [474/3000]: 100%|██████████| 66/66 [00:00<00:00, 197.01it/s, loss=6.81e+3]\n"
     ]
    },
    {
     "name": "stdout",
     "output_type": "stream",
     "text": [
      "Epoch [474/3000]: Train loss: 7827.7956, Valid loss: 7592.3015\n"
     ]
    },
    {
     "name": "stderr",
     "output_type": "stream",
     "text": [
      "Epoch [475/3000]: 100%|██████████| 66/66 [00:00<00:00, 205.61it/s, loss=3.9e+3] \n"
     ]
    },
    {
     "name": "stdout",
     "output_type": "stream",
     "text": [
      "Epoch [475/3000]: Train loss: 7814.0001, Valid loss: 7478.3882\n"
     ]
    },
    {
     "name": "stderr",
     "output_type": "stream",
     "text": [
      "Epoch [476/3000]: 100%|██████████| 66/66 [00:00<00:00, 212.70it/s, loss=4.93e+3]\n"
     ]
    },
    {
     "name": "stdout",
     "output_type": "stream",
     "text": [
      "Epoch [476/3000]: Train loss: 7818.9251, Valid loss: 7451.6335\n"
     ]
    },
    {
     "name": "stderr",
     "output_type": "stream",
     "text": [
      "Epoch [477/3000]: 100%|██████████| 66/66 [00:00<00:00, 199.34it/s, loss=6.54e+3]\n"
     ]
    },
    {
     "name": "stdout",
     "output_type": "stream",
     "text": [
      "Epoch [477/3000]: Train loss: 7826.6677, Valid loss: 7626.5736\n"
     ]
    },
    {
     "name": "stderr",
     "output_type": "stream",
     "text": [
      "Epoch [478/3000]: 100%|██████████| 66/66 [00:00<00:00, 202.07it/s, loss=1.19e+4]\n"
     ]
    },
    {
     "name": "stdout",
     "output_type": "stream",
     "text": [
      "Epoch [478/3000]: Train loss: 7851.8369, Valid loss: 7467.3368\n"
     ]
    },
    {
     "name": "stderr",
     "output_type": "stream",
     "text": [
      "Epoch [479/3000]: 100%|██████████| 66/66 [00:00<00:00, 214.50it/s, loss=1.5e+4] \n"
     ]
    },
    {
     "name": "stdout",
     "output_type": "stream",
     "text": [
      "Epoch [479/3000]: Train loss: 7866.5884, Valid loss: 7867.7572\n"
     ]
    },
    {
     "name": "stderr",
     "output_type": "stream",
     "text": [
      "Epoch [480/3000]: 100%|██████████| 66/66 [00:00<00:00, 197.66it/s, loss=1.16e+4]\n"
     ]
    },
    {
     "name": "stdout",
     "output_type": "stream",
     "text": [
      "Epoch [480/3000]: Train loss: 7850.2077, Valid loss: 7624.9483\n"
     ]
    },
    {
     "name": "stderr",
     "output_type": "stream",
     "text": [
      "Epoch [481/3000]: 100%|██████████| 66/66 [00:00<00:00, 189.23it/s, loss=6.52e+3]\n"
     ]
    },
    {
     "name": "stdout",
     "output_type": "stream",
     "text": [
      "Epoch [481/3000]: Train loss: 7826.4156, Valid loss: 7627.5478\n"
     ]
    },
    {
     "name": "stderr",
     "output_type": "stream",
     "text": [
      "Epoch [482/3000]: 100%|██████████| 66/66 [00:00<00:00, 214.21it/s, loss=5.6e+3] \n"
     ]
    },
    {
     "name": "stdout",
     "output_type": "stream",
     "text": [
      "Epoch [482/3000]: Train loss: 7822.1561, Valid loss: 7607.0930\n"
     ]
    },
    {
     "name": "stderr",
     "output_type": "stream",
     "text": [
      "Epoch [483/3000]: 100%|██████████| 66/66 [00:00<00:00, 198.25it/s, loss=8.72e+3]\n"
     ]
    },
    {
     "name": "stdout",
     "output_type": "stream",
     "text": [
      "Epoch [483/3000]: Train loss: 7836.8279, Valid loss: 7639.1917\n"
     ]
    },
    {
     "name": "stderr",
     "output_type": "stream",
     "text": [
      "Epoch [484/3000]: 100%|██████████| 66/66 [00:00<00:00, 200.36it/s, loss=1.12e+4]\n"
     ]
    },
    {
     "name": "stdout",
     "output_type": "stream",
     "text": [
      "Epoch [484/3000]: Train loss: 7848.3816, Valid loss: 7672.7273\n"
     ]
    },
    {
     "name": "stderr",
     "output_type": "stream",
     "text": [
      "Epoch [485/3000]: 100%|██████████| 66/66 [00:00<00:00, 214.95it/s, loss=9.56e+3]\n"
     ]
    },
    {
     "name": "stdout",
     "output_type": "stream",
     "text": [
      "Epoch [485/3000]: Train loss: 7840.8778, Valid loss: 7653.7974\n"
     ]
    },
    {
     "name": "stderr",
     "output_type": "stream",
     "text": [
      "Epoch [486/3000]: 100%|██████████| 66/66 [00:00<00:00, 192.87it/s, loss=8.68e+3]\n"
     ]
    },
    {
     "name": "stdout",
     "output_type": "stream",
     "text": [
      "Epoch [486/3000]: Train loss: 7836.6146, Valid loss: 7445.1093\n"
     ]
    },
    {
     "name": "stderr",
     "output_type": "stream",
     "text": [
      "Epoch [487/3000]: 100%|██████████| 66/66 [00:00<00:00, 200.17it/s, loss=7.25e+3]\n"
     ]
    },
    {
     "name": "stdout",
     "output_type": "stream",
     "text": [
      "Epoch [487/3000]: Train loss: 7829.9615, Valid loss: 7518.8012\n"
     ]
    },
    {
     "name": "stderr",
     "output_type": "stream",
     "text": [
      "Epoch [488/3000]: 100%|██████████| 66/66 [00:00<00:00, 215.40it/s, loss=9.27e+3]\n"
     ]
    },
    {
     "name": "stdout",
     "output_type": "stream",
     "text": [
      "Epoch [488/3000]: Train loss: 7839.4852, Valid loss: 7827.3430\n"
     ]
    },
    {
     "name": "stderr",
     "output_type": "stream",
     "text": [
      "Epoch [489/3000]: 100%|██████████| 66/66 [00:00<00:00, 195.24it/s, loss=4.31e+3]\n"
     ]
    },
    {
     "name": "stdout",
     "output_type": "stream",
     "text": [
      "Epoch [489/3000]: Train loss: 7815.8442, Valid loss: 7681.9562\n"
     ]
    },
    {
     "name": "stderr",
     "output_type": "stream",
     "text": [
      "Epoch [490/3000]: 100%|██████████| 66/66 [00:00<00:00, 199.31it/s, loss=6.93e+3]\n"
     ]
    },
    {
     "name": "stdout",
     "output_type": "stream",
     "text": [
      "Epoch [490/3000]: Train loss: 7828.3096, Valid loss: 7422.8059\n"
     ]
    },
    {
     "name": "stderr",
     "output_type": "stream",
     "text": [
      "Epoch [491/3000]: 100%|██████████| 66/66 [00:00<00:00, 208.81it/s, loss=5.51e+3]\n"
     ]
    },
    {
     "name": "stdout",
     "output_type": "stream",
     "text": [
      "Epoch [491/3000]: Train loss: 7821.6511, Valid loss: 7447.2072\n"
     ]
    },
    {
     "name": "stderr",
     "output_type": "stream",
     "text": [
      "Epoch [492/3000]: 100%|██████████| 66/66 [00:00<00:00, 210.59it/s, loss=5.73e+3]\n"
     ]
    },
    {
     "name": "stdout",
     "output_type": "stream",
     "text": [
      "Epoch [492/3000]: Train loss: 7822.6532, Valid loss: 7612.5261\n"
     ]
    },
    {
     "name": "stderr",
     "output_type": "stream",
     "text": [
      "Epoch [493/3000]: 100%|██████████| 66/66 [00:00<00:00, 198.10it/s, loss=6.64e+3]\n"
     ]
    },
    {
     "name": "stdout",
     "output_type": "stream",
     "text": [
      "Epoch [493/3000]: Train loss: 7827.0367, Valid loss: 7448.2861\n"
     ]
    },
    {
     "name": "stderr",
     "output_type": "stream",
     "text": [
      "Epoch [494/3000]: 100%|██████████| 66/66 [00:00<00:00, 198.20it/s, loss=9.96e+3]\n"
     ]
    },
    {
     "name": "stdout",
     "output_type": "stream",
     "text": [
      "Epoch [494/3000]: Train loss: 7842.7040, Valid loss: 7430.4343\n"
     ]
    },
    {
     "name": "stderr",
     "output_type": "stream",
     "text": [
      "Epoch [495/3000]: 100%|██████████| 66/66 [00:00<00:00, 213.41it/s, loss=6.98e+3]\n"
     ]
    },
    {
     "name": "stdout",
     "output_type": "stream",
     "text": [
      "Epoch [495/3000]: Train loss: 7828.5185, Valid loss: 7629.5688\n"
     ]
    },
    {
     "name": "stderr",
     "output_type": "stream",
     "text": [
      "Epoch [496/3000]: 100%|██████████| 66/66 [00:00<00:00, 198.72it/s, loss=4.72e+3]\n"
     ]
    },
    {
     "name": "stdout",
     "output_type": "stream",
     "text": [
      "Epoch [496/3000]: Train loss: 7817.9428, Valid loss: 7483.4079\n"
     ]
    },
    {
     "name": "stderr",
     "output_type": "stream",
     "text": [
      "Epoch [497/3000]: 100%|██████████| 66/66 [00:00<00:00, 205.88it/s, loss=7.28e+3]\n"
     ]
    },
    {
     "name": "stdout",
     "output_type": "stream",
     "text": [
      "Epoch [497/3000]: Train loss: 7830.0458, Valid loss: 7520.4455\n"
     ]
    },
    {
     "name": "stderr",
     "output_type": "stream",
     "text": [
      "Epoch [498/3000]: 100%|██████████| 66/66 [00:00<00:00, 211.76it/s, loss=2.35e+3]\n"
     ]
    },
    {
     "name": "stdout",
     "output_type": "stream",
     "text": [
      "Epoch [498/3000]: Train loss: 7806.7593, Valid loss: 7708.8524\n"
     ]
    },
    {
     "name": "stderr",
     "output_type": "stream",
     "text": [
      "Epoch [499/3000]: 100%|██████████| 66/66 [00:00<00:00, 199.64it/s, loss=5.18e+3]\n"
     ]
    },
    {
     "name": "stdout",
     "output_type": "stream",
     "text": [
      "Epoch [499/3000]: Train loss: 7820.2205, Valid loss: 7683.2097\n"
     ]
    },
    {
     "name": "stderr",
     "output_type": "stream",
     "text": [
      "Epoch [500/3000]: 100%|██████████| 66/66 [00:00<00:00, 209.51it/s, loss=9.25e+3]\n"
     ]
    },
    {
     "name": "stdout",
     "output_type": "stream",
     "text": [
      "Epoch [500/3000]: Train loss: 7839.2972, Valid loss: 7459.9968\n"
     ]
    },
    {
     "name": "stderr",
     "output_type": "stream",
     "text": [
      "Epoch [501/3000]: 100%|██████████| 66/66 [00:00<00:00, 204.79it/s, loss=1.62e+4]\n"
     ]
    },
    {
     "name": "stdout",
     "output_type": "stream",
     "text": [
      "Epoch [501/3000]: Train loss: 7872.4519, Valid loss: 7507.8370\n"
     ]
    },
    {
     "name": "stderr",
     "output_type": "stream",
     "text": [
      "Epoch [502/3000]: 100%|██████████| 66/66 [00:00<00:00, 198.94it/s, loss=6.47e+3]\n"
     ]
    },
    {
     "name": "stdout",
     "output_type": "stream",
     "text": [
      "Epoch [502/3000]: Train loss: 7826.1588, Valid loss: 7737.1372\n"
     ]
    },
    {
     "name": "stderr",
     "output_type": "stream",
     "text": [
      "Epoch [503/3000]: 100%|██████████| 66/66 [00:00<00:00, 212.47it/s, loss=4.79e+3]\n"
     ]
    },
    {
     "name": "stdout",
     "output_type": "stream",
     "text": [
      "Epoch [503/3000]: Train loss: 7818.1626, Valid loss: 7581.0243\n"
     ]
    },
    {
     "name": "stderr",
     "output_type": "stream",
     "text": [
      "Epoch [504/3000]: 100%|██████████| 66/66 [00:00<00:00, 196.96it/s, loss=1.21e+4]\n"
     ]
    },
    {
     "name": "stdout",
     "output_type": "stream",
     "text": [
      "Epoch [504/3000]: Train loss: 7852.8693, Valid loss: 7455.2319\n"
     ]
    },
    {
     "name": "stderr",
     "output_type": "stream",
     "text": [
      "Epoch [505/3000]: 100%|██████████| 66/66 [00:00<00:00, 199.51it/s, loss=1.32e+4]\n"
     ]
    },
    {
     "name": "stdout",
     "output_type": "stream",
     "text": [
      "Epoch [505/3000]: Train loss: 7857.8867, Valid loss: 7598.2376\n"
     ]
    },
    {
     "name": "stderr",
     "output_type": "stream",
     "text": [
      "Epoch [506/3000]: 100%|██████████| 66/66 [00:00<00:00, 203.25it/s, loss=1.46e+4]\n"
     ]
    },
    {
     "name": "stdout",
     "output_type": "stream",
     "text": [
      "Epoch [506/3000]: Train loss: 7864.7409, Valid loss: 7523.4757\n"
     ]
    },
    {
     "name": "stderr",
     "output_type": "stream",
     "text": [
      "Epoch [507/3000]: 100%|██████████| 66/66 [00:00<00:00, 212.93it/s, loss=9.74e+3]\n"
     ]
    },
    {
     "name": "stdout",
     "output_type": "stream",
     "text": [
      "Epoch [507/3000]: Train loss: 7841.7035, Valid loss: 7501.1991\n"
     ]
    },
    {
     "name": "stderr",
     "output_type": "stream",
     "text": [
      "Epoch [508/3000]: 100%|██████████| 66/66 [00:00<00:00, 196.18it/s, loss=1e+4]   \n"
     ]
    },
    {
     "name": "stdout",
     "output_type": "stream",
     "text": [
      "Epoch [508/3000]: Train loss: 7842.8992, Valid loss: 7641.8330\n"
     ]
    },
    {
     "name": "stderr",
     "output_type": "stream",
     "text": [
      "Epoch [509/3000]: 100%|██████████| 66/66 [00:00<00:00, 198.71it/s, loss=1.09e+4]\n"
     ]
    },
    {
     "name": "stdout",
     "output_type": "stream",
     "text": [
      "Epoch [509/3000]: Train loss: 7847.2742, Valid loss: 7636.8373\n"
     ]
    },
    {
     "name": "stderr",
     "output_type": "stream",
     "text": [
      "Epoch [510/3000]: 100%|██████████| 66/66 [00:00<00:00, 213.56it/s, loss=7.93e+3]\n"
     ]
    },
    {
     "name": "stdout",
     "output_type": "stream",
     "text": [
      "Epoch [510/3000]: Train loss: 7833.1522, Valid loss: 7559.1462\n"
     ]
    },
    {
     "name": "stderr",
     "output_type": "stream",
     "text": [
      "Epoch [511/3000]: 100%|██████████| 66/66 [00:00<00:00, 197.27it/s, loss=7.46e+3]\n"
     ]
    },
    {
     "name": "stdout",
     "output_type": "stream",
     "text": [
      "Epoch [511/3000]: Train loss: 7830.9352, Valid loss: 7705.9732\n"
     ]
    },
    {
     "name": "stderr",
     "output_type": "stream",
     "text": [
      "Epoch [512/3000]: 100%|██████████| 66/66 [00:00<00:00, 200.27it/s, loss=8.78e+3]\n"
     ]
    },
    {
     "name": "stdout",
     "output_type": "stream",
     "text": [
      "Epoch [512/3000]: Train loss: 7837.1967, Valid loss: 7512.2877\n"
     ]
    },
    {
     "name": "stderr",
     "output_type": "stream",
     "text": [
      "Epoch [513/3000]: 100%|██████████| 66/66 [00:00<00:00, 206.67it/s, loss=8.12e+3]\n"
     ]
    },
    {
     "name": "stdout",
     "output_type": "stream",
     "text": [
      "Epoch [513/3000]: Train loss: 7833.9256, Valid loss: 7502.7674\n"
     ]
    },
    {
     "name": "stderr",
     "output_type": "stream",
     "text": [
      "Epoch [514/3000]: 100%|██████████| 66/66 [00:00<00:00, 208.50it/s, loss=7.26e+3]\n"
     ]
    },
    {
     "name": "stdout",
     "output_type": "stream",
     "text": [
      "Epoch [514/3000]: Train loss: 7829.8363, Valid loss: 7512.8711\n"
     ]
    },
    {
     "name": "stderr",
     "output_type": "stream",
     "text": [
      "Epoch [515/3000]: 100%|██████████| 66/66 [00:00<00:00, 198.01it/s, loss=5.81e+3]\n"
     ]
    },
    {
     "name": "stdout",
     "output_type": "stream",
     "text": [
      "Epoch [515/3000]: Train loss: 7822.9973, Valid loss: 7623.7415\n"
     ]
    },
    {
     "name": "stderr",
     "output_type": "stream",
     "text": [
      "Epoch [516/3000]: 100%|██████████| 66/66 [00:00<00:00, 207.78it/s, loss=1.18e+4]\n"
     ]
    },
    {
     "name": "stdout",
     "output_type": "stream",
     "text": [
      "Epoch [516/3000]: Train loss: 7851.3223, Valid loss: 7635.4953\n"
     ]
    },
    {
     "name": "stderr",
     "output_type": "stream",
     "text": [
      "Epoch [517/3000]: 100%|██████████| 66/66 [00:00<00:00, 197.37it/s, loss=7.23e+3]\n"
     ]
    },
    {
     "name": "stdout",
     "output_type": "stream",
     "text": [
      "Epoch [517/3000]: Train loss: 7829.8078, Valid loss: 7652.7274\n"
     ]
    },
    {
     "name": "stderr",
     "output_type": "stream",
     "text": [
      "Epoch [518/3000]: 100%|██████████| 66/66 [00:00<00:00, 199.30it/s, loss=4.73e+3]\n"
     ]
    },
    {
     "name": "stdout",
     "output_type": "stream",
     "text": [
      "Epoch [518/3000]: Train loss: 7817.9746, Valid loss: 7658.0357\n"
     ]
    },
    {
     "name": "stderr",
     "output_type": "stream",
     "text": [
      "Epoch [519/3000]: 100%|██████████| 66/66 [00:00<00:00, 205.77it/s, loss=6.57e+3]\n"
     ]
    },
    {
     "name": "stdout",
     "output_type": "stream",
     "text": [
      "Epoch [519/3000]: Train loss: 7826.5971, Valid loss: 7737.4906\n"
     ]
    },
    {
     "name": "stderr",
     "output_type": "stream",
     "text": [
      "Epoch [520/3000]: 100%|██████████| 66/66 [00:00<00:00, 213.54it/s, loss=1.16e+4]\n"
     ]
    },
    {
     "name": "stdout",
     "output_type": "stream",
     "text": [
      "Epoch [520/3000]: Train loss: 7850.2981, Valid loss: 7581.7861\n"
     ]
    },
    {
     "name": "stderr",
     "output_type": "stream",
     "text": [
      "Epoch [521/3000]: 100%|██████████| 66/66 [00:00<00:00, 195.91it/s, loss=1.11e+4]\n"
     ]
    },
    {
     "name": "stdout",
     "output_type": "stream",
     "text": [
      "Epoch [521/3000]: Train loss: 7848.1967, Valid loss: 7739.4664\n"
     ]
    },
    {
     "name": "stderr",
     "output_type": "stream",
     "text": [
      "Epoch [522/3000]: 100%|██████████| 66/66 [00:00<00:00, 200.96it/s, loss=1.27e+4]\n"
     ]
    },
    {
     "name": "stdout",
     "output_type": "stream",
     "text": [
      "Epoch [522/3000]: Train loss: 7855.9441, Valid loss: 7899.3356\n"
     ]
    },
    {
     "name": "stderr",
     "output_type": "stream",
     "text": [
      "Epoch [523/3000]: 100%|██████████| 66/66 [00:00<00:00, 214.24it/s, loss=1.02e+4]\n"
     ]
    },
    {
     "name": "stdout",
     "output_type": "stream",
     "text": [
      "Epoch [523/3000]: Train loss: 7843.8053, Valid loss: 7542.0877\n"
     ]
    },
    {
     "name": "stderr",
     "output_type": "stream",
     "text": [
      "Epoch [524/3000]: 100%|██████████| 66/66 [00:00<00:00, 196.35it/s, loss=4.46e+3]\n"
     ]
    },
    {
     "name": "stdout",
     "output_type": "stream",
     "text": [
      "Epoch [524/3000]: Train loss: 7816.7616, Valid loss: 7694.8068\n"
     ]
    },
    {
     "name": "stderr",
     "output_type": "stream",
     "text": [
      "Epoch [525/3000]: 100%|██████████| 66/66 [00:00<00:00, 208.50it/s, loss=3.99e+3]\n"
     ]
    },
    {
     "name": "stdout",
     "output_type": "stream",
     "text": [
      "Epoch [525/3000]: Train loss: 7814.4690, Valid loss: 7661.1376\n"
     ]
    },
    {
     "name": "stderr",
     "output_type": "stream",
     "text": [
      "Epoch [526/3000]: 100%|██████████| 66/66 [00:00<00:00, 211.42it/s, loss=4.87e+3]\n"
     ]
    },
    {
     "name": "stdout",
     "output_type": "stream",
     "text": [
      "Epoch [526/3000]: Train loss: 7818.8854, Valid loss: 7633.7945\n"
     ]
    },
    {
     "name": "stderr",
     "output_type": "stream",
     "text": [
      "Epoch [527/3000]: 100%|██████████| 66/66 [00:00<00:00, 201.26it/s, loss=4.86e+3]\n"
     ]
    },
    {
     "name": "stdout",
     "output_type": "stream",
     "text": [
      "Epoch [527/3000]: Train loss: 7818.6394, Valid loss: 7817.8034\n"
     ]
    },
    {
     "name": "stderr",
     "output_type": "stream",
     "text": [
      "Epoch [528/3000]: 100%|██████████| 66/66 [00:00<00:00, 210.91it/s, loss=6.33e+3]\n"
     ]
    },
    {
     "name": "stdout",
     "output_type": "stream",
     "text": [
      "Epoch [528/3000]: Train loss: 7825.5453, Valid loss: 7488.5475\n"
     ]
    },
    {
     "name": "stderr",
     "output_type": "stream",
     "text": [
      "Epoch [529/3000]: 100%|██████████| 66/66 [00:00<00:00, 210.43it/s, loss=3.95e+3]\n"
     ]
    },
    {
     "name": "stdout",
     "output_type": "stream",
     "text": [
      "Epoch [529/3000]: Train loss: 7814.2869, Valid loss: 7704.8241\n"
     ]
    },
    {
     "name": "stderr",
     "output_type": "stream",
     "text": [
      "Epoch [530/3000]: 100%|██████████| 66/66 [00:00<00:00, 199.56it/s, loss=1.04e+4]\n"
     ]
    },
    {
     "name": "stdout",
     "output_type": "stream",
     "text": [
      "Epoch [530/3000]: Train loss: 7844.8132, Valid loss: 7545.7043\n"
     ]
    },
    {
     "name": "stderr",
     "output_type": "stream",
     "text": [
      "Epoch [531/3000]: 100%|██████████| 66/66 [00:00<00:00, 215.03it/s, loss=4.44e+3]\n"
     ]
    },
    {
     "name": "stdout",
     "output_type": "stream",
     "text": [
      "Epoch [531/3000]: Train loss: 7816.5830, Valid loss: 7614.3460\n"
     ]
    },
    {
     "name": "stderr",
     "output_type": "stream",
     "text": [
      "Epoch [532/3000]: 100%|██████████| 66/66 [00:00<00:00, 199.25it/s, loss=9.94e+3]\n"
     ]
    },
    {
     "name": "stdout",
     "output_type": "stream",
     "text": [
      "Epoch [532/3000]: Train loss: 7842.6666, Valid loss: 7639.0874\n"
     ]
    },
    {
     "name": "stderr",
     "output_type": "stream",
     "text": [
      "Epoch [533/3000]: 100%|██████████| 66/66 [00:00<00:00, 197.74it/s, loss=1.02e+4]\n"
     ]
    },
    {
     "name": "stdout",
     "output_type": "stream",
     "text": [
      "Epoch [533/3000]: Train loss: 7843.9776, Valid loss: 7555.6711\n"
     ]
    },
    {
     "name": "stderr",
     "output_type": "stream",
     "text": [
      "Epoch [534/3000]: 100%|██████████| 66/66 [00:00<00:00, 206.45it/s, loss=7.56e+3]\n"
     ]
    },
    {
     "name": "stdout",
     "output_type": "stream",
     "text": [
      "Epoch [534/3000]: Train loss: 7831.4020, Valid loss: 7764.6179\n"
     ]
    },
    {
     "name": "stderr",
     "output_type": "stream",
     "text": [
      "Epoch [535/3000]: 100%|██████████| 66/66 [00:00<00:00, 211.28it/s, loss=5.49e+3]\n"
     ]
    },
    {
     "name": "stdout",
     "output_type": "stream",
     "text": [
      "Epoch [535/3000]: Train loss: 7821.4995, Valid loss: 7467.3091\n"
     ]
    },
    {
     "name": "stderr",
     "output_type": "stream",
     "text": [
      "Epoch [536/3000]: 100%|██████████| 66/66 [00:00<00:00, 197.08it/s, loss=6.02e+3]\n"
     ]
    },
    {
     "name": "stdout",
     "output_type": "stream",
     "text": [
      "Epoch [536/3000]: Train loss: 7824.0666, Valid loss: 7722.1215\n"
     ]
    },
    {
     "name": "stderr",
     "output_type": "stream",
     "text": [
      "Epoch [537/3000]: 100%|██████████| 66/66 [00:00<00:00, 209.12it/s, loss=6.82e+3]\n"
     ]
    },
    {
     "name": "stdout",
     "output_type": "stream",
     "text": [
      "Epoch [537/3000]: Train loss: 7827.9797, Valid loss: 7496.1691\n"
     ]
    },
    {
     "name": "stderr",
     "output_type": "stream",
     "text": [
      "Epoch [538/3000]: 100%|██████████| 66/66 [00:00<00:00, 213.37it/s, loss=9.62e+3]\n"
     ]
    },
    {
     "name": "stdout",
     "output_type": "stream",
     "text": [
      "Epoch [538/3000]: Train loss: 7841.0593, Valid loss: 7463.6435\n"
     ]
    },
    {
     "name": "stderr",
     "output_type": "stream",
     "text": [
      "Epoch [539/3000]: 100%|██████████| 66/66 [00:00<00:00, 196.95it/s, loss=8.14e+3]\n"
     ]
    },
    {
     "name": "stdout",
     "output_type": "stream",
     "text": [
      "Epoch [539/3000]: Train loss: 7834.1960, Valid loss: 7900.0377\n"
     ]
    },
    {
     "name": "stderr",
     "output_type": "stream",
     "text": [
      "Epoch [540/3000]: 100%|██████████| 66/66 [00:00<00:00, 208.65it/s, loss=1.1e+4] \n"
     ]
    },
    {
     "name": "stdout",
     "output_type": "stream",
     "text": [
      "Epoch [540/3000]: Train loss: 7847.3368, Valid loss: 7617.8510\n"
     ]
    },
    {
     "name": "stderr",
     "output_type": "stream",
     "text": [
      "Epoch [541/3000]: 100%|██████████| 66/66 [00:00<00:00, 211.68it/s, loss=5.22e+3]\n"
     ]
    },
    {
     "name": "stdout",
     "output_type": "stream",
     "text": [
      "Epoch [541/3000]: Train loss: 7820.3616, Valid loss: 7463.2843\n"
     ]
    },
    {
     "name": "stderr",
     "output_type": "stream",
     "text": [
      "Epoch [542/3000]: 100%|██████████| 66/66 [00:00<00:00, 197.97it/s, loss=5.81e+3]\n"
     ]
    },
    {
     "name": "stdout",
     "output_type": "stream",
     "text": [
      "Epoch [542/3000]: Train loss: 7822.9979, Valid loss: 7444.3421\n"
     ]
    },
    {
     "name": "stderr",
     "output_type": "stream",
     "text": [
      "Epoch [543/3000]: 100%|██████████| 66/66 [00:00<00:00, 199.29it/s, loss=3.68e+3]\n"
     ]
    },
    {
     "name": "stdout",
     "output_type": "stream",
     "text": [
      "Epoch [543/3000]: Train loss: 7813.0032, Valid loss: 7653.0105\n"
     ]
    },
    {
     "name": "stderr",
     "output_type": "stream",
     "text": [
      "Epoch [544/3000]: 100%|██████████| 66/66 [00:00<00:00, 210.64it/s, loss=4.41e+3]\n"
     ]
    },
    {
     "name": "stdout",
     "output_type": "stream",
     "text": [
      "Epoch [544/3000]: Train loss: 7816.3914, Valid loss: 7618.1753\n"
     ]
    },
    {
     "name": "stderr",
     "output_type": "stream",
     "text": [
      "Epoch [545/3000]: 100%|██████████| 66/66 [00:00<00:00, 199.42it/s, loss=7.5e+3] \n"
     ]
    },
    {
     "name": "stdout",
     "output_type": "stream",
     "text": [
      "Epoch [545/3000]: Train loss: 7831.0326, Valid loss: 7448.6517\n"
     ]
    },
    {
     "name": "stderr",
     "output_type": "stream",
     "text": [
      "Epoch [546/3000]: 100%|██████████| 66/66 [00:00<00:00, 199.86it/s, loss=6.34e+3]\n"
     ]
    },
    {
     "name": "stdout",
     "output_type": "stream",
     "text": [
      "Epoch [546/3000]: Train loss: 7825.6202, Valid loss: 7665.8226\n"
     ]
    },
    {
     "name": "stderr",
     "output_type": "stream",
     "text": [
      "Epoch [547/3000]: 100%|██████████| 66/66 [00:00<00:00, 212.28it/s, loss=5.33e+3]\n"
     ]
    },
    {
     "name": "stdout",
     "output_type": "stream",
     "text": [
      "Epoch [547/3000]: Train loss: 7820.8899, Valid loss: 7423.1598\n"
     ]
    },
    {
     "name": "stderr",
     "output_type": "stream",
     "text": [
      "Epoch [548/3000]: 100%|██████████| 66/66 [00:00<00:00, 197.88it/s, loss=3.77e+3]\n"
     ]
    },
    {
     "name": "stdout",
     "output_type": "stream",
     "text": [
      "Epoch [548/3000]: Train loss: 7813.3868, Valid loss: 7601.9789\n"
     ]
    },
    {
     "name": "stderr",
     "output_type": "stream",
     "text": [
      "Epoch [549/3000]: 100%|██████████| 66/66 [00:00<00:00, 199.43it/s, loss=7.93e+3]\n"
     ]
    },
    {
     "name": "stdout",
     "output_type": "stream",
     "text": [
      "Epoch [549/3000]: Train loss: 7833.0996, Valid loss: 7589.2978\n"
     ]
    },
    {
     "name": "stderr",
     "output_type": "stream",
     "text": [
      "Epoch [550/3000]: 100%|██████████| 66/66 [00:00<00:00, 212.17it/s, loss=1.36e+4]\n"
     ]
    },
    {
     "name": "stdout",
     "output_type": "stream",
     "text": [
      "Epoch [550/3000]: Train loss: 7859.6897, Valid loss: 7466.1966\n"
     ]
    },
    {
     "name": "stderr",
     "output_type": "stream",
     "text": [
      "Epoch [551/3000]: 100%|██████████| 66/66 [00:00<00:00, 198.67it/s, loss=7.74e+3]\n"
     ]
    },
    {
     "name": "stdout",
     "output_type": "stream",
     "text": [
      "Epoch [551/3000]: Train loss: 7832.1914, Valid loss: 7495.9249\n"
     ]
    },
    {
     "name": "stderr",
     "output_type": "stream",
     "text": [
      "Epoch [552/3000]: 100%|██████████| 66/66 [00:00<00:00, 197.88it/s, loss=8.84e+3]\n"
     ]
    },
    {
     "name": "stdout",
     "output_type": "stream",
     "text": [
      "Epoch [552/3000]: Train loss: 7837.5085, Valid loss: 7559.2951\n"
     ]
    },
    {
     "name": "stderr",
     "output_type": "stream",
     "text": [
      "Epoch [553/3000]: 100%|██████████| 66/66 [00:00<00:00, 213.67it/s, loss=9.48e+3]\n"
     ]
    },
    {
     "name": "stdout",
     "output_type": "stream",
     "text": [
      "Epoch [553/3000]: Train loss: 7840.3762, Valid loss: 7439.8342\n"
     ]
    },
    {
     "name": "stderr",
     "output_type": "stream",
     "text": [
      "Epoch [554/3000]: 100%|██████████| 66/66 [00:00<00:00, 198.44it/s, loss=8.76e+3]\n"
     ]
    },
    {
     "name": "stdout",
     "output_type": "stream",
     "text": [
      "Epoch [554/3000]: Train loss: 7836.9658, Valid loss: 7666.6410\n"
     ]
    },
    {
     "name": "stderr",
     "output_type": "stream",
     "text": [
      "Epoch [555/3000]: 100%|██████████| 66/66 [00:00<00:00, 197.06it/s, loss=1.78e+4]\n"
     ]
    },
    {
     "name": "stdout",
     "output_type": "stream",
     "text": [
      "Epoch [555/3000]: Train loss: 7879.7294, Valid loss: 7697.2733\n"
     ]
    },
    {
     "name": "stderr",
     "output_type": "stream",
     "text": [
      "Epoch [556/3000]: 100%|██████████| 66/66 [00:00<00:00, 214.43it/s, loss=3.91e+3]\n"
     ]
    },
    {
     "name": "stdout",
     "output_type": "stream",
     "text": [
      "Epoch [556/3000]: Train loss: 7814.4314, Valid loss: 7764.2066\n"
     ]
    },
    {
     "name": "stderr",
     "output_type": "stream",
     "text": [
      "Epoch [557/3000]: 100%|██████████| 66/66 [00:00<00:00, 199.05it/s, loss=1.15e+4]\n"
     ]
    },
    {
     "name": "stdout",
     "output_type": "stream",
     "text": [
      "Epoch [557/3000]: Train loss: 7849.7818, Valid loss: 7511.2169\n"
     ]
    },
    {
     "name": "stderr",
     "output_type": "stream",
     "text": [
      "Epoch [558/3000]: 100%|██████████| 66/66 [00:00<00:00, 197.81it/s, loss=1.04e+4]\n"
     ]
    },
    {
     "name": "stdout",
     "output_type": "stream",
     "text": [
      "Epoch [558/3000]: Train loss: 7844.8722, Valid loss: 7495.1368\n"
     ]
    },
    {
     "name": "stderr",
     "output_type": "stream",
     "text": [
      "Epoch [559/3000]: 100%|██████████| 66/66 [00:00<00:00, 199.34it/s, loss=1e+4]   \n"
     ]
    },
    {
     "name": "stdout",
     "output_type": "stream",
     "text": [
      "Epoch [559/3000]: Train loss: 7843.1157, Valid loss: 7529.8523\n"
     ]
    },
    {
     "name": "stderr",
     "output_type": "stream",
     "text": [
      "Epoch [560/3000]: 100%|██████████| 66/66 [00:00<00:00, 208.81it/s, loss=7.97e+3]\n"
     ]
    },
    {
     "name": "stdout",
     "output_type": "stream",
     "text": [
      "Epoch [560/3000]: Train loss: 7833.1998, Valid loss: 7956.7510\n"
     ]
    },
    {
     "name": "stderr",
     "output_type": "stream",
     "text": [
      "Epoch [561/3000]: 100%|██████████| 66/66 [00:00<00:00, 197.50it/s, loss=6.42e+3]\n"
     ]
    },
    {
     "name": "stdout",
     "output_type": "stream",
     "text": [
      "Epoch [561/3000]: Train loss: 7826.0149, Valid loss: 7582.4216\n"
     ]
    },
    {
     "name": "stderr",
     "output_type": "stream",
     "text": [
      "Epoch [562/3000]: 100%|██████████| 66/66 [00:00<00:00, 198.83it/s, loss=8.59e+3]\n"
     ]
    },
    {
     "name": "stdout",
     "output_type": "stream",
     "text": [
      "Epoch [562/3000]: Train loss: 7836.2757, Valid loss: 7590.5581\n"
     ]
    },
    {
     "name": "stderr",
     "output_type": "stream",
     "text": [
      "Epoch [563/3000]: 100%|██████████| 66/66 [00:00<00:00, 207.86it/s, loss=8.14e+3]\n"
     ]
    },
    {
     "name": "stdout",
     "output_type": "stream",
     "text": [
      "Epoch [563/3000]: Train loss: 7834.0305, Valid loss: 7732.1908\n"
     ]
    },
    {
     "name": "stderr",
     "output_type": "stream",
     "text": [
      "Epoch [564/3000]: 100%|██████████| 66/66 [00:00<00:00, 197.88it/s, loss=7.78e+3]\n"
     ]
    },
    {
     "name": "stdout",
     "output_type": "stream",
     "text": [
      "Epoch [564/3000]: Train loss: 7832.4695, Valid loss: 7483.3217\n"
     ]
    },
    {
     "name": "stderr",
     "output_type": "stream",
     "text": [
      "Epoch [565/3000]: 100%|██████████| 66/66 [00:00<00:00, 197.95it/s, loss=4.67e+3]\n"
     ]
    },
    {
     "name": "stdout",
     "output_type": "stream",
     "text": [
      "Epoch [565/3000]: Train loss: 7817.6072, Valid loss: 7435.0443\n"
     ]
    },
    {
     "name": "stderr",
     "output_type": "stream",
     "text": [
      "Epoch [566/3000]: 100%|██████████| 66/66 [00:00<00:00, 213.94it/s, loss=7.64e+3]\n"
     ]
    },
    {
     "name": "stdout",
     "output_type": "stream",
     "text": [
      "Epoch [566/3000]: Train loss: 7831.6740, Valid loss: 7539.8351\n"
     ]
    },
    {
     "name": "stderr",
     "output_type": "stream",
     "text": [
      "Epoch [567/3000]: 100%|██████████| 66/66 [00:00<00:00, 198.15it/s, loss=4.96e+3]\n"
     ]
    },
    {
     "name": "stdout",
     "output_type": "stream",
     "text": [
      "Epoch [567/3000]: Train loss: 7818.9741, Valid loss: 7505.4213\n"
     ]
    },
    {
     "name": "stderr",
     "output_type": "stream",
     "text": [
      "Epoch [568/3000]: 100%|██████████| 66/66 [00:00<00:00, 199.26it/s, loss=9.84e+3]\n"
     ]
    },
    {
     "name": "stdout",
     "output_type": "stream",
     "text": [
      "Epoch [568/3000]: Train loss: 7842.1483, Valid loss: 7478.9971\n"
     ]
    },
    {
     "name": "stderr",
     "output_type": "stream",
     "text": [
      "Epoch [569/3000]: 100%|██████████| 66/66 [00:00<00:00, 214.04it/s, loss=1.45e+4]\n"
     ]
    },
    {
     "name": "stdout",
     "output_type": "stream",
     "text": [
      "Epoch [569/3000]: Train loss: 7864.2119, Valid loss: 7472.7723\n"
     ]
    },
    {
     "name": "stderr",
     "output_type": "stream",
     "text": [
      "Epoch [570/3000]: 100%|██████████| 66/66 [00:00<00:00, 198.25it/s, loss=6.78e+3]\n"
     ]
    },
    {
     "name": "stdout",
     "output_type": "stream",
     "text": [
      "Epoch [570/3000]: Train loss: 7827.6511, Valid loss: 7840.0082\n"
     ]
    },
    {
     "name": "stderr",
     "output_type": "stream",
     "text": [
      "Epoch [571/3000]: 100%|██████████| 66/66 [00:00<00:00, 191.55it/s, loss=7.52e+3]\n"
     ]
    },
    {
     "name": "stdout",
     "output_type": "stream",
     "text": [
      "Epoch [571/3000]: Train loss: 7831.1031, Valid loss: 7594.1842\n"
     ]
    },
    {
     "name": "stderr",
     "output_type": "stream",
     "text": [
      "Epoch [572/3000]: 100%|██████████| 66/66 [00:00<00:00, 213.18it/s, loss=1.27e+4]\n"
     ]
    },
    {
     "name": "stdout",
     "output_type": "stream",
     "text": [
      "Epoch [572/3000]: Train loss: 7856.1647, Valid loss: 7551.9745\n"
     ]
    },
    {
     "name": "stderr",
     "output_type": "stream",
     "text": [
      "Epoch [573/3000]: 100%|██████████| 66/66 [00:00<00:00, 205.09it/s, loss=7.81e+3]\n"
     ]
    },
    {
     "name": "stdout",
     "output_type": "stream",
     "text": [
      "Epoch [573/3000]: Train loss: 7832.4813, Valid loss: 7583.0889\n"
     ]
    },
    {
     "name": "stderr",
     "output_type": "stream",
     "text": [
      "Epoch [574/3000]: 100%|██████████| 66/66 [00:00<00:00, 198.39it/s, loss=5.62e+3]\n"
     ]
    },
    {
     "name": "stdout",
     "output_type": "stream",
     "text": [
      "Epoch [574/3000]: Train loss: 7822.0988, Valid loss: 7676.7893\n"
     ]
    },
    {
     "name": "stderr",
     "output_type": "stream",
     "text": [
      "Epoch [575/3000]: 100%|██████████| 66/66 [00:00<00:00, 198.00it/s, loss=4.16e+3]\n"
     ]
    },
    {
     "name": "stdout",
     "output_type": "stream",
     "text": [
      "Epoch [575/3000]: Train loss: 7815.1554, Valid loss: 7495.8964\n"
     ]
    },
    {
     "name": "stderr",
     "output_type": "stream",
     "text": [
      "Epoch [576/3000]: 100%|██████████| 66/66 [00:00<00:00, 214.50it/s, loss=5.41e+3]\n"
     ]
    },
    {
     "name": "stdout",
     "output_type": "stream",
     "text": [
      "Epoch [576/3000]: Train loss: 7821.2918, Valid loss: 7559.5715\n"
     ]
    },
    {
     "name": "stderr",
     "output_type": "stream",
     "text": [
      "Epoch [577/3000]: 100%|██████████| 66/66 [00:00<00:00, 199.32it/s, loss=9.59e+3]\n"
     ]
    },
    {
     "name": "stdout",
     "output_type": "stream",
     "text": [
      "Epoch [577/3000]: Train loss: 7841.2424, Valid loss: 7461.7137\n"
     ]
    },
    {
     "name": "stderr",
     "output_type": "stream",
     "text": [
      "Epoch [578/3000]: 100%|██████████| 66/66 [00:00<00:00, 199.06it/s, loss=1.15e+4]\n"
     ]
    },
    {
     "name": "stdout",
     "output_type": "stream",
     "text": [
      "Epoch [578/3000]: Train loss: 7849.7385, Valid loss: 7523.1456\n"
     ]
    },
    {
     "name": "stderr",
     "output_type": "stream",
     "text": [
      "Epoch [579/3000]: 100%|██████████| 66/66 [00:00<00:00, 208.04it/s, loss=1.53e+4]\n"
     ]
    },
    {
     "name": "stdout",
     "output_type": "stream",
     "text": [
      "Epoch [579/3000]: Train loss: 7867.7646, Valid loss: 7482.7734\n"
     ]
    },
    {
     "name": "stderr",
     "output_type": "stream",
     "text": [
      "Epoch [580/3000]: 100%|██████████| 66/66 [00:00<00:00, 198.43it/s, loss=6.4e+3] \n"
     ]
    },
    {
     "name": "stdout",
     "output_type": "stream",
     "text": [
      "Epoch [580/3000]: Train loss: 7825.7418, Valid loss: 7490.5188\n"
     ]
    },
    {
     "name": "stderr",
     "output_type": "stream",
     "text": [
      "Epoch [581/3000]: 100%|██████████| 66/66 [00:00<00:00, 210.28it/s, loss=8.18e+3]\n"
     ]
    },
    {
     "name": "stdout",
     "output_type": "stream",
     "text": [
      "Epoch [581/3000]: Train loss: 7834.3985, Valid loss: 7695.2576\n"
     ]
    },
    {
     "name": "stderr",
     "output_type": "stream",
     "text": [
      "Epoch [582/3000]: 100%|██████████| 66/66 [00:00<00:00, 211.88it/s, loss=8.31e+3]\n"
     ]
    },
    {
     "name": "stdout",
     "output_type": "stream",
     "text": [
      "Epoch [582/3000]: Train loss: 7834.7915, Valid loss: 7590.5387\n"
     ]
    },
    {
     "name": "stderr",
     "output_type": "stream",
     "text": [
      "Epoch [583/3000]: 100%|██████████| 66/66 [00:00<00:00, 198.03it/s, loss=1.3e+4] \n"
     ]
    },
    {
     "name": "stdout",
     "output_type": "stream",
     "text": [
      "Epoch [583/3000]: Train loss: 7857.0884, Valid loss: 7552.3741\n"
     ]
    },
    {
     "name": "stderr",
     "output_type": "stream",
     "text": [
      "Epoch [584/3000]: 100%|██████████| 66/66 [00:00<00:00, 197.56it/s, loss=8.44e+3]\n"
     ]
    },
    {
     "name": "stdout",
     "output_type": "stream",
     "text": [
      "Epoch [584/3000]: Train loss: 7835.5748, Valid loss: 7447.9798\n"
     ]
    },
    {
     "name": "stderr",
     "output_type": "stream",
     "text": [
      "Epoch [585/3000]: 100%|██████████| 66/66 [00:00<00:00, 214.03it/s, loss=4.55e+3]\n"
     ]
    },
    {
     "name": "stdout",
     "output_type": "stream",
     "text": [
      "Epoch [585/3000]: Train loss: 7817.0276, Valid loss: 7787.1270\n"
     ]
    },
    {
     "name": "stderr",
     "output_type": "stream",
     "text": [
      "Epoch [586/3000]: 100%|██████████| 66/66 [00:00<00:00, 198.52it/s, loss=4.95e+3]\n"
     ]
    },
    {
     "name": "stdout",
     "output_type": "stream",
     "text": [
      "Epoch [586/3000]: Train loss: 7819.0407, Valid loss: 7502.3758\n"
     ]
    },
    {
     "name": "stderr",
     "output_type": "stream",
     "text": [
      "Epoch [587/3000]: 100%|██████████| 66/66 [00:00<00:00, 197.21it/s, loss=4.07e+3]\n"
     ]
    },
    {
     "name": "stdout",
     "output_type": "stream",
     "text": [
      "Epoch [587/3000]: Train loss: 7814.7858, Valid loss: 7461.9166\n"
     ]
    },
    {
     "name": "stderr",
     "output_type": "stream",
     "text": [
      "Epoch [588/3000]: 100%|██████████| 66/66 [00:00<00:00, 214.34it/s, loss=1.22e+4]\n"
     ]
    },
    {
     "name": "stdout",
     "output_type": "stream",
     "text": [
      "Epoch [588/3000]: Train loss: 7853.3949, Valid loss: 7518.5661\n"
     ]
    },
    {
     "name": "stderr",
     "output_type": "stream",
     "text": [
      "Epoch [589/3000]: 100%|██████████| 66/66 [00:00<00:00, 195.55it/s, loss=7.16e+3]\n"
     ]
    },
    {
     "name": "stdout",
     "output_type": "stream",
     "text": [
      "Epoch [589/3000]: Train loss: 7829.4135, Valid loss: 7667.9023\n"
     ]
    },
    {
     "name": "stderr",
     "output_type": "stream",
     "text": [
      "Epoch [590/3000]: 100%|██████████| 66/66 [00:00<00:00, 199.19it/s, loss=6.92e+3]\n"
     ]
    },
    {
     "name": "stdout",
     "output_type": "stream",
     "text": [
      "Epoch [590/3000]: Train loss: 7828.2548, Valid loss: 7443.8838\n"
     ]
    },
    {
     "name": "stderr",
     "output_type": "stream",
     "text": [
      "Epoch [591/3000]: 100%|██████████| 66/66 [00:00<00:00, 213.20it/s, loss=1.15e+4]\n"
     ]
    },
    {
     "name": "stdout",
     "output_type": "stream",
     "text": [
      "Epoch [591/3000]: Train loss: 7850.0411, Valid loss: 7637.2795\n"
     ]
    },
    {
     "name": "stderr",
     "output_type": "stream",
     "text": [
      "Epoch [592/3000]: 100%|██████████| 66/66 [00:00<00:00, 203.02it/s, loss=1.04e+4]\n"
     ]
    },
    {
     "name": "stdout",
     "output_type": "stream",
     "text": [
      "Epoch [592/3000]: Train loss: 7844.9147, Valid loss: 7676.5406\n",
      "\n",
      "Model is not improving, so we halt the training session.\n"
     ]
    },
    {
     "name": "stderr",
     "output_type": "stream",
     "text": [
      "[W kineto_shim.cpp:343] Profiler is not initialized: skipping step() invocation\n"
     ]
    }
   ],
   "source": [
    "model = Stock_Model(input_dim=x_train.shape[1]).to(device)\n",
    "\n",
    "with torch.profiler.profile(\n",
    "    activities=[torch.profiler.ProfilerActivity.CPU],\n",
    "    schedule = torch.profiler.schedule(\n",
    "        skip_first=1,\n",
    "        wait=1,\n",
    "        warmup=1,\n",
    "        active=2\n",
    "    ),\n",
    "    on_trace_ready=torch.profiler.tensorboard_trace_handler('./log')\n",
    ") as prof:\n",
    "    trainer(train_loader, valid_loader, model, config, device)\n",
    "    prof.step()"
   ]
  },
  {
   "cell_type": "code",
   "execution_count": 31,
   "metadata": {},
   "outputs": [],
   "source": [
    "# print(prof.key_averages().table(sort_by=\"self_cpu_time_total\", row_limit=10))\n"
   ]
  },
  {
   "attachments": {},
   "cell_type": "markdown",
   "metadata": {},
   "source": [
    "## Plot learning curves with tensorboard"
   ]
  },
  {
   "cell_type": "code",
   "execution_count": 32,
   "metadata": {},
   "outputs": [
    {
     "data": {
      "text/html": [
       "\n",
       "      <iframe id=\"tensorboard-frame-97b9d7d766dd4766\" width=\"100%\" height=\"800\" frameborder=\"0\">\n",
       "      </iframe>\n",
       "      <script>\n",
       "        (function() {\n",
       "          const frame = document.getElementById(\"tensorboard-frame-97b9d7d766dd4766\");\n",
       "          const url = new URL(\"http://localhost\");\n",
       "          const port = 6006;\n",
       "          if (port) {\n",
       "            url.port = port;\n",
       "          }\n",
       "          frame.src = url;\n",
       "        })();\n",
       "      </script>\n",
       "    "
      ],
      "text/plain": [
       "<IPython.core.display.HTML object>"
      ]
     },
     "metadata": {},
     "output_type": "display_data"
    }
   ],
   "source": [
    "%reload_ext tensorboard\n",
    "%tensorboard --logdir=./runs/"
   ]
  },
  {
   "attachments": {},
   "cell_type": "markdown",
   "metadata": {},
   "source": [
    "## Testing"
   ]
  },
  {
   "cell_type": "code",
   "execution_count": 33,
   "metadata": {},
   "outputs": [
    {
     "name": "stderr",
     "output_type": "stream",
     "text": [
      "100%|██████████| 10/10 [00:00<00:00, 51.89it/s]\n"
     ]
    }
   ],
   "source": [
    "def save_pred(preds, file):\n",
    "    ''' Save predictions to specified file '''\n",
    "    with open(file, 'w') as fp:\n",
    "        writer = csv.writer(fp)\n",
    "        writer.writerow(['id', 'tested_positive'])\n",
    "        for i, p in enumerate(preds):\n",
    "            writer.writerow([i, p])\n",
    "\n",
    "model = Stock_Model(input_dim=x_train.shape[1]).to(device)\n",
    "model.load_state_dict(torch.load(config['save_path']))\n",
    "preds = predict(test_loader, model, device)\n",
    "save_pred(preds, 'pred.csv')"
   ]
  }
 ],
 "metadata": {
  "kernelspec": {
   "display_name": "Python 3",
   "language": "python",
   "name": "python3"
  },
  "language_info": {
   "codemirror_mode": {
    "name": "ipython",
    "version": 3
   },
   "file_extension": ".py",
   "mimetype": "text/x-python",
   "name": "python",
   "nbconvert_exporter": "python",
   "pygments_lexer": "ipython3",
   "version": "3.11.3"
  },
  "orig_nbformat": 4
 },
 "nbformat": 4,
 "nbformat_minor": 2
}
