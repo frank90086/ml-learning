{
 "cells": [
  {
   "attachments": {},
   "cell_type": "markdown",
   "metadata": {},
   "source": [
    "# Tutorial Resource\n",
    "- [李宏毅](https://speech.ee.ntu.edu.tw/~hylee/index.php)\n",
    "- Yeh James\n",
    "  - [Web](https://medium.com/jameslearningnote/tagged/machine-learning)\n",
    "  - [Code](https://gist.github.com/yehjames)\n",
    "- [Clay Technology World](https://clay-atlas.com/blog/category/ml/)\n",
    "- Sebastian Raschka\n",
    "  - [Lecture](https://github.com/rasbt/stat479-deep-learning-ss19)\n",
    "  - [Book](https://github.com/rasbt/python-machine-learning-book-3rd-edition)\n",
    "- [Python](https://steam.oxxostudio.tw/category/python/index.html)\n",
    "  - [w3schools](https://www.w3schools.com/python/)\n",
    "  - [NumPy](https://numpy.org/doc/stable/reference/index.html)\n",
    "  - [pandas](https://pandas.pydata.org/docs/reference/index.html)\n",
    "  - [matplotlib](https://matplotlib.org/stable/api/index.html)\n",
    "  - [PyTorch](https://pytorch.org/docs/stable/index.html)\n",
    "  - [sklearn](https://scikit-learn.org/stable/modules/classes.html)\n",
    "  - [tqdm](https://github.com/tqdm/tqdm)\n",
    "- Pages\n",
    "  - [Activation Functions: Comparison of Trends in Practice and Research for Deep Learning](https://arxiv.org/pdf/1811.03378.pdf)\n",
    "  - [labml.ai Annotated PyTorch Paper Implementations](https://nn.labml.ai/)"
   ]
  },
  {
   "attachments": {},
   "cell_type": "markdown",
   "metadata": {},
   "source": [
    "# Running PyTorch on the M1 GPU\n",
    "> [Sebastian Raschka](https://sebastianraschka.com/blog/2022/pytorch-m1-gpu.html)  \n",
    "> [MPS BACKEND](https://pytorch.org/docs/stable/notes/mps.html)  \n",
    "   ```sh\n",
    "   pip install --pre torch torchvision torchaudio --extra-index-url https://download.pytorch.org/whl/nightly/cpu\n",
    "   ```"
   ]
  },
  {
   "attachments": {},
   "cell_type": "markdown",
   "metadata": {},
   "source": [
    "## Check Python Version\n",
    "```python\n",
    "import platform\n",
    "\n",
    "print(platform.uname()[4])\n",
    "```"
   ]
  },
  {
   "attachments": {},
   "cell_type": "markdown",
   "metadata": {},
   "source": [
    "## Validate MPS"
   ]
  },
  {
   "attachments": {},
   "cell_type": "markdown",
   "metadata": {},
   "source": [
    "### Official Valid\n",
    "```sh\n",
    "python3.11 ./official/mps_valid/main.py\n",
    "```"
   ]
  },
  {
   "attachments": {},
   "cell_type": "markdown",
   "metadata": {},
   "source": [
    "### Valid And Run"
   ]
  },
  {
   "cell_type": "code",
   "execution_count": 4,
   "metadata": {},
   "outputs": [
    {
     "name": "stdout",
     "output_type": "stream",
     "text": [
      "99 518.8612670898438\n",
      "199 355.338623046875\n",
      "299 244.5038604736328\n",
      "399 169.29977416992188\n",
      "499 118.21610260009766\n",
      "599 83.47811889648438\n",
      "699 59.82911682128906\n",
      "799 43.71105194091797\n",
      "899 32.71315383911133\n",
      "999 25.200416564941406\n",
      "1099 20.06241226196289\n",
      "1199 16.544525146484375\n",
      "1299 14.133126258850098\n",
      "1399 12.47832202911377\n",
      "1499 11.341385841369629\n",
      "1599 10.559378623962402\n",
      "1699 10.020931243896484\n",
      "1799 9.64975643157959\n",
      "1899 9.393622398376465\n",
      "1999 9.216678619384766\n",
      "Result: y = -0.01769666187465191 + 0.8460924625396729 x + 0.003052967833355069 x^2 + -0.09181574732065201 x^3\n"
     ]
    }
   ],
   "source": [
    "import torch\n",
    "import math\n",
    "# Checktorch MPS is available\n",
    "\n",
    "if not torch.backends.mps.is_available():\n",
    "    if not torch.backends.mps.is_built():\n",
    "        print(\"MPS not available because the current PyTorch install was not \"\n",
    "              \"built with MPS enabled.\")\n",
    "    else:\n",
    "        print(\"MPS not available because the current MacOS version is not 12.3+ \"\n",
    "              \"and/or you do not have an MPS-enabled device on this machine.\")\n",
    "\n",
    "else:\n",
    "    dtype = torch.float\n",
    "    device = torch.device(\"mps\")\n",
    "\n",
    "    # Create random input and output data\n",
    "    x = torch.linspace(-math.pi, math.pi, 2000, device=device, dtype=dtype)\n",
    "    y = torch.sin(x)\n",
    "\n",
    "    # Randomly initialize weights\n",
    "    a = torch.randn((), device=device, dtype=dtype)\n",
    "    b = torch.randn((), device=device, dtype=dtype)\n",
    "    c = torch.randn((), device=device, dtype=dtype)\n",
    "    d = torch.randn((), device=device, dtype=dtype)\n",
    "\n",
    "    learning_rate = 1e-6\n",
    "    for t in range(2000):\n",
    "        # Forward pass: compute predicted y\n",
    "        y_pred = a + b * x + c * x ** 2 + d * x ** 3\n",
    "\n",
    "        # Compute and print loss\n",
    "        loss = (y_pred - y).pow(2).sum().item()\n",
    "        if t % 100 == 99:\n",
    "            print(t, loss)\n",
    "\n",
    "    # Backprop to compute gradients of a, b, c, d with respect to loss\n",
    "        grad_y_pred = 2.0 * (y_pred - y)\n",
    "        grad_a = grad_y_pred.sum()\n",
    "        grad_b = (grad_y_pred * x).sum()\n",
    "        grad_c = (grad_y_pred * x ** 2).sum()\n",
    "        grad_d = (grad_y_pred * x ** 3).sum()\n",
    "\n",
    "        # Update weights using gradient descent\n",
    "        a -= learning_rate * grad_a\n",
    "        b -= learning_rate * grad_b\n",
    "        c -= learning_rate * grad_c\n",
    "        d -= learning_rate * grad_d\n",
    "\n",
    "\n",
    "    print(f'Result: y = {a.item()} + {b.item()} x + {c.item()} x^2 + {d.item()} x^3')"
   ]
  },
  {
   "attachments": {},
   "cell_type": "markdown",
   "metadata": {},
   "source": [
    "### Compare MPS And CPU"
   ]
  },
  {
   "cell_type": "code",
   "execution_count": 15,
   "metadata": {},
   "outputs": [
    {
     "name": "stdout",
     "output_type": "stream",
     "text": [
      "cpu 0.9308969669509679\n",
      "mps 26.0834808779764\n"
     ]
    }
   ],
   "source": [
    "import timeit\n",
    "\n",
    "a_cpu = torch.rand(250, device='cpu')\n",
    "b_cpu = torch.rand((250, 250), device='cpu')\n",
    "a_mps = torch.rand(250, device='mps')\n",
    "b_mps = torch.rand((250, 250), device='mps')\n",
    "\n",
    "print('cpu', timeit.timeit(lambda: a_cpu @ b_cpu, number=100_000))\n",
    "print('mps', timeit.timeit(lambda: a_mps @ b_mps, number=100_000))"
   ]
  }
 ],
 "metadata": {
  "kernelspec": {
   "display_name": "Python 3",
   "language": "python",
   "name": "python3"
  },
  "language_info": {
   "codemirror_mode": {
    "name": "ipython",
    "version": 3
   },
   "file_extension": ".py",
   "mimetype": "text/x-python",
   "name": "python",
   "nbconvert_exporter": "python",
   "pygments_lexer": "ipython3",
   "version": "3.11.3"
  },
  "orig_nbformat": 4
 },
 "nbformat": 4,
 "nbformat_minor": 2
}
