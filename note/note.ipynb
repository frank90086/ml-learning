{
 "cells": [
  {
   "attachments": {},
   "cell_type": "markdown",
   "metadata": {},
   "source": [
    "# Tutorial Resource\n",
    "- [李宏毅](https://speech.ee.ntu.edu.tw/~hylee/index.php)\n",
    "- Yeh James\n",
    "  - [Web](https://medium.com/jameslearningnote/tagged/machine-learning)\n",
    "  - [Code](https://gist.github.com/yehjames)\n",
    "- [Clay Technology World](https://clay-atlas.com/blog/category/ml/)\n",
    "- Sebastian Raschka\n",
    "  - [Lecture](https://github.com/rasbt/stat479-deep-learning-ss19)\n",
    "  - [Book](https://github.com/rasbt/python-machine-learning-book-3rd-edition)\n",
    "- [Python](https://steam.oxxostudio.tw/category/python/index.html)\n",
    "  - [w3schools](https://www.w3schools.com/python/)\n",
    "  - [NumPy](https://numpy.org/doc/stable/reference/index.html)\n",
    "  - [pandas](https://pandas.pydata.org/docs/reference/index.html)\n",
    "  - [matplotlib](https://matplotlib.org/stable/api/index.html)\n",
    "  - [PyTorch](https://pytorch.org/docs/stable/index.html)\n",
    "    - [Examples](https://github.com/pytorch/examples)\n",
    "  - [sklearn](https://scikit-learn.org/stable/modules/classes.html)\n",
    "  - [tqdm](https://github.com/tqdm/tqdm)\n",
    "- Pages\n",
    "  - [Activation Functions: Comparison of Trends in Practice and Research for Deep Learning](https://arxiv.org/pdf/1811.03378.pdf)\n",
    "  - [labml.ai Annotated PyTorch Paper Implementations](https://nn.labml.ai/)"
   ]
  },
  {
   "attachments": {},
   "cell_type": "markdown",
   "metadata": {},
   "source": [
    "## Video\n",
    "### Optimization\n",
    "#### Momentum\n",
    "- [類神經網路訓練不起來怎麼辦 (二)： 批次 (batch) 與動量 (momentum)](https://www.youtube.com/watch?v=zzbr1h9sF54)\n",
    "#### Adaptive Learning Rate\n",
    " > Adagrad、RMSProp、Adam、SWATS、AMSGrad、AdaBound、Cyclical LR、SGDR、One-cycle LR\n",
    "- [類神經網路訓練不起來怎麼辦 (三)：自動調整學習速率 (Learning Rate)](https://www.youtube.com/watch?v=HYUXEeh3kwY&list=PLJV_el3uVTsMhtt7_Y6sgTHGHp1Vb2P2J&index=6)\n",
    "- [Optimization for Deep Learning - 1](https://www.youtube.com/watch?v=4pUmZ8hXlHM)\n",
    "- [Optimization for Deep Learning - 2](https://www.youtube.com/watch?v=e03YKGHXnL8&feature=youtu.be)"
   ]
  },
  {
   "attachments": {},
   "cell_type": "markdown",
   "metadata": {},
   "source": [
    "# Real Application\n",
    "- BERT\n",
    "- Transformer\n",
    "- Tacotron\n",
    "- YOLO\n",
    "- Mask R-CNN\n",
    "- ResNet\n",
    "- Big-GAN\n",
    "- MAML"
   ]
  },
  {
   "attachments": {},
   "cell_type": "markdown",
   "metadata": {},
   "source": [
    "# Running PyTorch on the M1 GPU\n",
    "> [Sebastian Raschka](https://sebastianraschka.com/blog/2022/pytorch-m1-gpu.html)  \n",
    "> [MPS BACKEND](https://pytorch.org/docs/stable/notes/mps.html)  \n",
    "   ```sh\n",
    "   pip install --pre torch torchvision torchaudio --extra-index-url https://download.pytorch.org/whl/nightly/cpu\n",
    "   ```"
   ]
  },
  {
   "attachments": {},
   "cell_type": "markdown",
   "metadata": {},
   "source": [
    "## Check Python Version\n",
    "```python\n",
    "import platform\n",
    "\n",
    "print(platform.uname()[4])\n",
    "```"
   ]
  },
  {
   "attachments": {},
   "cell_type": "markdown",
   "metadata": {},
   "source": [
    "## Validate MPS"
   ]
  },
  {
   "attachments": {},
   "cell_type": "markdown",
   "metadata": {},
   "source": [
    "### Official Valid\n",
    "```sh\n",
    "python3.11 ./official/mps_valid/main.py\n",
    "```"
   ]
  },
  {
   "attachments": {},
   "cell_type": "markdown",
   "metadata": {},
   "source": [
    "### Valid And Run"
   ]
  },
  {
   "cell_type": "code",
   "execution_count": null,
   "metadata": {},
   "outputs": [],
   "source": [
    "import torch\n",
    "import math\n",
    "# Checktorch MPS is available\n",
    "\n",
    "if not torch.backends.mps.is_available():\n",
    "    if not torch.backends.mps.is_built():\n",
    "        print(\"MPS not available because the current PyTorch install was not \"\n",
    "              \"built with MPS enabled.\")\n",
    "    else:\n",
    "        print(\"MPS not available because the current MacOS version is not 12.3+ \"\n",
    "              \"and/or you do not have an MPS-enabled device on this machine.\")\n",
    "\n",
    "else:\n",
    "    dtype = torch.float\n",
    "    device = torch.device(\"mps\")\n",
    "\n",
    "    # Create random input and output data\n",
    "    x = torch.linspace(-math.pi, math.pi, 2000, device=device, dtype=dtype)\n",
    "    y = torch.sin(x)\n",
    "\n",
    "    # Randomly initialize weights\n",
    "    a = torch.randn((), device=device, dtype=dtype)\n",
    "    b = torch.randn((), device=device, dtype=dtype)\n",
    "    c = torch.randn((), device=device, dtype=dtype)\n",
    "    d = torch.randn((), device=device, dtype=dtype)\n",
    "\n",
    "    learning_rate = 1e-6\n",
    "    for t in range(2000):\n",
    "        # Forward pass: compute predicted y\n",
    "        y_pred = a + b * x + c * x ** 2 + d * x ** 3\n",
    "\n",
    "        # Compute and print loss\n",
    "        loss = (y_pred - y).pow(2).sum().item()\n",
    "        if t % 100 == 99:\n",
    "            print(t, loss)\n",
    "\n",
    "    # Backprop to compute gradients of a, b, c, d with respect to loss\n",
    "        grad_y_pred = 2.0 * (y_pred - y)\n",
    "        grad_a = grad_y_pred.sum()\n",
    "        grad_b = (grad_y_pred * x).sum()\n",
    "        grad_c = (grad_y_pred * x ** 2).sum()\n",
    "        grad_d = (grad_y_pred * x ** 3).sum()\n",
    "\n",
    "        # Update weights using gradient descent\n",
    "        a -= learning_rate * grad_a\n",
    "        b -= learning_rate * grad_b\n",
    "        c -= learning_rate * grad_c\n",
    "        d -= learning_rate * grad_d\n",
    "\n",
    "\n",
    "    print(f'Result: y = {a.item()} + {b.item()} x + {c.item()} x^2 + {d.item()} x^3')"
   ]
  },
  {
   "attachments": {},
   "cell_type": "markdown",
   "metadata": {},
   "source": [
    "### Compare MPS And CPU"
   ]
  },
  {
   "cell_type": "code",
   "execution_count": null,
   "metadata": {},
   "outputs": [],
   "source": [
    "import timeit\n",
    "\n",
    "a_cpu = torch.rand(250, device='cpu')\n",
    "b_cpu = torch.rand((250, 250), device='cpu')\n",
    "a_mps = torch.rand(250, device='mps')\n",
    "b_mps = torch.rand((250, 250), device='mps')\n",
    "\n",
    "print('cpu', timeit.timeit(lambda: a_cpu @ b_cpu, number=100_000))\n",
    "print('mps', timeit.timeit(lambda: a_mps @ b_mps, number=100_000))"
   ]
  }
 ],
 "metadata": {
  "kernelspec": {
   "display_name": "Python 3",
   "language": "python",
   "name": "python3"
  },
  "language_info": {
   "codemirror_mode": {
    "name": "ipython",
    "version": 3
   },
   "file_extension": ".py",
   "mimetype": "text/x-python",
   "name": "python",
   "nbconvert_exporter": "python",
   "pygments_lexer": "ipython3",
   "version": "3.11.3"
  },
  "orig_nbformat": 4
 },
 "nbformat": 4,
 "nbformat_minor": 2
}
