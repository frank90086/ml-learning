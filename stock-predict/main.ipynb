{
 "cells": [
  {
   "attachments": {},
   "cell_type": "markdown",
   "metadata": {},
   "source": [
    "# Stock Predict Model"
   ]
  },
  {
   "attachments": {},
   "cell_type": "markdown",
   "metadata": {},
   "source": [
    "## Import Modules"
   ]
  },
  {
   "cell_type": "code",
   "execution_count": 1,
   "metadata": {},
   "outputs": [],
   "source": [
    "# Numerical Operations\n",
    "import math\n",
    "import numpy as np\n",
    "\n",
    "# Reading/Writing Data\n",
    "import pandas as pd\n",
    "import os\n",
    "import csv\n",
    "\n",
    "# For Progress Bar\n",
    "from tqdm import tqdm\n",
    "\n",
    "# For Graph\n",
    "import matplotlib.pyplot as plt\n",
    "\n",
    "# Pytorch\n",
    "import torch\n",
    "import torch.nn as nn\n",
    "from torch.utils.data import Dataset, DataLoader, random_split\n",
    "\n",
    "# For plotting learning curve\n",
    "from torch.utils.tensorboard import SummaryWriter\n",
    "\n",
    "# Yahoo API\n",
    "import yfinance as yf"
   ]
  },
  {
   "attachments": {},
   "cell_type": "markdown",
   "metadata": {},
   "source": [
    "## Utility Functions"
   ]
  },
  {
   "cell_type": "code",
   "execution_count": 2,
   "metadata": {},
   "outputs": [],
   "source": [
    "def same_seed(seed):\n",
    "    '''Fixes random number generator seeds for reproducibility.'''\n",
    "    torch.backends.cudnn.deterministic = True\n",
    "    torch.backends.cudnn.benchmark = False\n",
    "    np.random.seed(seed)\n",
    "    torch.manual_seed(seed)\n",
    "    if torch.backends.mps.is_available():\n",
    "        torch.mps.manual_seed(seed)\n",
    "\n",
    "def train_valid_split(data_set, valid_ratio, seed):\n",
    "    '''Split provided training data into training set and validation set'''\n",
    "    valid_set_size = int(valid_ratio * len(data_set))\n",
    "    train_set_size = len(data_set) - valid_set_size\n",
    "    train_set, valid_set = random_split(data_set, [train_set_size, valid_set_size], generator=torch.Generator().manual_seed(seed))\n",
    "    return np.array(train_set), np.array(valid_set)\n",
    "\n",
    "def predict(test_loader, model, device):\n",
    "    model.eval()\n",
    "    preds = []\n",
    "    for x in tqdm(test_loader):\n",
    "        x = x.to(device)\n",
    "        with torch.no_grad():                   \n",
    "            pred = model(x)                     \n",
    "            preds.append(pred.detach().cpu())   \n",
    "    preds = torch.cat(preds, dim=0).numpy()\n",
    "    return preds"
   ]
  },
  {
   "attachments": {},
   "cell_type": "markdown",
   "metadata": {},
   "source": [
    "## Dataset"
   ]
  },
  {
   "cell_type": "code",
   "execution_count": 3,
   "metadata": {},
   "outputs": [],
   "source": [
    "class Stock_Dataset(Dataset):\n",
    "    '''\n",
    "    x: Features.\n",
    "    y: Targets, if none, do prediction.\n",
    "    '''\n",
    "    def __init__(self, x, y=None):\n",
    "        self.y = y if y is None else torch.FloatTensor(y)\n",
    "        self.x = torch.FloatTensor(x)\n",
    "\n",
    "    def __getitem__(self, idx):\n",
    "        if self.y is None:\n",
    "            return self.x[idx]\n",
    "        else:\n",
    "            return self.x[idx], self.y[idx]\n",
    "\n",
    "    def __len__(self):\n",
    "        return len(self.x)"
   ]
  },
  {
   "attachments": {},
   "cell_type": "markdown",
   "metadata": {},
   "source": [
    "## Neural Network Model"
   ]
  },
  {
   "cell_type": "code",
   "execution_count": 4,
   "metadata": {},
   "outputs": [],
   "source": [
    "class Stock_Model(nn.Module):\n",
    "    def __init__(self, input_dim):\n",
    "        super(Stock_Model, self).__init__()\n",
    "        self.layers = nn.Sequential(\n",
    "            nn.Linear(input_dim, 16),\n",
    "            nn.Sigmoid(),\n",
    "            nn.Linear(16, 8),\n",
    "            nn.Sigmoid(),\n",
    "            nn.Linear(8, 1)\n",
    "        )\n",
    "\n",
    "    def forward(self, x):\n",
    "        x = self.layers(x)\n",
    "        x = x.squeeze(1)\n",
    "        return x"
   ]
  },
  {
   "attachments": {},
   "cell_type": "markdown",
   "metadata": {},
   "source": [
    "## Feature Selection"
   ]
  },
  {
   "cell_type": "code",
   "execution_count": 5,
   "metadata": {},
   "outputs": [],
   "source": [
    "def select_feat(train_data, valid_data, test_data, select_all=True):\n",
    "    '''Selects useful features to perform regression'''\n",
    "    y_train, y_valid = train_data[:,-1], valid_data[:,-1]\n",
    "    raw_x_train, raw_x_valid, raw_x_test = train_data[:, :-1], valid_data[:, :-1], test_data\n",
    "\n",
    "    if select_all:\n",
    "        feat_idx = list(range(raw_x_train.shape[1]))\n",
    "    else:\n",
    "        feat_idx = [0,1,2,4] # TODO: Select suitable feature columns.\n",
    "\n",
    "    return raw_x_train[:,feat_idx], raw_x_valid[:,feat_idx], raw_x_test[:,feat_idx], y_train, y_valid"
   ]
  },
  {
   "attachments": {},
   "cell_type": "markdown",
   "metadata": {},
   "source": [
    "## Configurations"
   ]
  },
  {
   "cell_type": "code",
   "execution_count": 6,
   "metadata": {},
   "outputs": [],
   "source": [
    "device = 'cpu' if torch.backends.mps.is_available() else 'cpu'\n",
    "config = {\n",
    "    'seed': 666999,\n",
    "    'select_all': False,\n",
    "    'valid_ratio': 0.3,\n",
    "    'n_epochs': 3000,\n",
    "    'batch_size': 256,\n",
    "    'learning_rate': 1e-5,\n",
    "    'early_stop': 400,\n",
    "    'save_path': './models/stock.ckpt'\n",
    "}"
   ]
  },
  {
   "attachments": {},
   "cell_type": "markdown",
   "metadata": {},
   "source": [
    "## Training Loop"
   ]
  },
  {
   "cell_type": "code",
   "execution_count": 7,
   "metadata": {},
   "outputs": [],
   "source": [
    "def trainer(train_loader, valid_loader, model, config, device):\n",
    "\n",
    "    criterion = nn.MSELoss(reduction='mean')\n",
    "    optimizer = torch.optim.SGD(model.parameters(), lr=config['learning_rate'], momentum=0.9)\n",
    "\n",
    "    writer = SummaryWriter()\n",
    "\n",
    "    if not os.path.isdir('./models'):\n",
    "        os.mkdir('./models')\n",
    "\n",
    "    n_epochs, best_loss, step, early_stop_count = config['n_epochs'], math.inf, 0, 0\n",
    "\n",
    "    for epoch in range(n_epochs):\n",
    "        model.train()\n",
    "        loss_record = []\n",
    "\n",
    "        train_pbar = tqdm(train_loader, position=0, leave=True)\n",
    "        for x, y in train_pbar:\n",
    "            optimizer.zero_grad()\n",
    "            x, y = x.to(device), y.to(device)\n",
    "            pred = model(x)\n",
    "            loss = criterion(pred, y)\n",
    "            loss.backward()\n",
    "            optimizer.step()\n",
    "            step += 1\n",
    "            loss_record.append(loss.detach().item())\n",
    "\n",
    "            train_pbar.set_description(f'Epoch [{epoch+1}/{n_epochs}]')\n",
    "            train_pbar.set_postfix({'loss': loss.detach().item()})\n",
    "        mean_train_loss = sum(loss_record)/len(loss_record)\n",
    "        writer.add_scalar('Loss/train', mean_train_loss, step)\n",
    "\n",
    "        model.eval()\n",
    "        loss_record = []\n",
    "        for x, y in valid_loader:\n",
    "            x, y = x.to(device), y.to(device)\n",
    "            with torch.no_grad():\n",
    "                pred = model(x)\n",
    "                loss = criterion(pred, y)\n",
    "\n",
    "            loss_record.append(loss.item())\n",
    "\n",
    "        mean_valid_loss = sum(loss_record)/len(loss_record)\n",
    "        print(f'Epoch [{epoch+1}/{n_epochs}]: Train loss: {mean_train_loss:.4f}, Valid loss: {mean_valid_loss:.4f}')\n",
    "        writer.add_scalar('Loss/valid', mean_valid_loss, step)\n",
    "\n",
    "        if mean_valid_loss < best_loss:\n",
    "            best_loss = mean_valid_loss\n",
    "            torch.save(model.state_dict(), config['save_path']) # Save your best model\n",
    "            print('Saving model with loss {:.3f}...'.format(best_loss))\n",
    "            early_stop_count = 0\n",
    "        else: \n",
    "            early_stop_count += 1\n",
    "\n",
    "        if early_stop_count >= config['early_stop']:\n",
    "            print('\\nModel is not improving, so we halt the training session.')\n",
    "            return"
   ]
  },
  {
   "attachments": {},
   "cell_type": "markdown",
   "metadata": {},
   "source": [
    "## Dataloader"
   ]
  },
  {
   "cell_type": "code",
   "execution_count": 8,
   "metadata": {},
   "outputs": [
    {
     "name": "stdout",
     "output_type": "stream",
     "text": [
      "[*********************100%***********************]  1 of 1 completed\n",
      "[*********************100%***********************]  1 of 1 completed\n",
      "train_data size: (3679, 6)\n",
      "valid_data size: (1576, 6)\n",
      "test_data size: (578, 5)\n",
      "number of features: 4\n"
     ]
    }
   ],
   "source": [
    "same_seed(config['seed'])\n",
    "# re-index\n",
    "index = [\"Open\", \"High\", \"Low\", \"Close\", \"Volume\", \"Adj Close\"]\n",
    "# train_data size: 5255 x 7 (id + 6 features From 2000-01-01 to 2020-12-31)\n",
    "# test_data size: 577 x 7 (id + 6 features From 2021-01-01 to 2023-12-31)\n",
    "train_data, test_data = pd.DataFrame(yf.download('2330.TW', start='2000-01-01', end='2020-12-31'))[index].values, \\\n",
    "                        pd.DataFrame(yf.download('2330.TW', start='2021-01-01', end='2023-12-31'))[index[:-1]].values\n",
    "train_data, valid_data = train_valid_split(train_data, config['valid_ratio'], config['seed'])\n",
    "\n",
    "# Print out the data size.\n",
    "print(f\"\"\"train_data size: {train_data.shape}\n",
    "valid_data size: {valid_data.shape}\n",
    "test_data size: {test_data.shape}\"\"\")\n",
    "\n",
    "# Select features\n",
    "x_train, x_valid, x_test, y_train, y_valid = select_feat(train_data, valid_data, test_data, config['select_all'])\n",
    "\n",
    "# Print out the number of features.\n",
    "print(f'number of features: {x_train.shape[1]}')\n",
    "\n",
    "train_dataset, valid_dataset, test_dataset = Stock_Dataset(x_train, y_train), \\\n",
    "                                             Stock_Dataset(x_valid, y_valid), \\\n",
    "                                             Stock_Dataset(x_test)\n",
    "\n",
    "# Pytorch data loader loads pytorch dataset into batches.\n",
    "train_loader = DataLoader(train_dataset, batch_size=config['batch_size'], shuffle=True, pin_memory=True)\n",
    "valid_loader = DataLoader(valid_dataset, batch_size=config['batch_size'], shuffle=True, pin_memory=True)\n",
    "test_loader = DataLoader(test_dataset, batch_size=config['batch_size'], shuffle=False, pin_memory=True)"
   ]
  },
  {
   "attachments": {},
   "cell_type": "markdown",
   "metadata": {},
   "source": [
    "## Training"
   ]
  },
  {
   "cell_type": "code",
   "execution_count": 9,
   "metadata": {},
   "outputs": [
    {
     "name": "stderr",
     "output_type": "stream",
     "text": [
      "/opt/homebrew/lib/python3.11/site-packages/torch/profiler/profiler.py:268: UserWarning: Profiler won't be using warmup, this can skew profiler results\n",
      "  warn(\"Profiler won't be using warmup, this can skew profiler results\")\n",
      "STAGE:2023-05-25 22:21:19 16572:14119057 ActivityProfilerController.cpp:311] Completed Stage: Warm Up\n",
      "Epoch [1/3000]: 100%|██████████| 15/15 [00:00<00:00, 336.34it/s, loss=1.34e+4]\n"
     ]
    },
    {
     "name": "stdout",
     "output_type": "stream",
     "text": [
      "Epoch [1/3000]: Train loss: 15034.5645, Valid loss: 15638.8404\n",
      "Saving model with loss 15638.840...\n"
     ]
    },
    {
     "name": "stderr",
     "output_type": "stream",
     "text": [
      "Epoch [2/3000]: 100%|██████████| 15/15 [00:00<00:00, 258.03it/s, loss=1.24e+4]\n"
     ]
    },
    {
     "name": "stdout",
     "output_type": "stream",
     "text": [
      "Epoch [2/3000]: Train loss: 14889.0516, Valid loss: 15158.2917\n",
      "Saving model with loss 15158.292...\n"
     ]
    },
    {
     "name": "stderr",
     "output_type": "stream",
     "text": [
      "Epoch [3/3000]: 100%|██████████| 15/15 [00:00<00:00, 378.42it/s, loss=1.55e+4]\n"
     ]
    },
    {
     "name": "stdout",
     "output_type": "stream",
     "text": [
      "Epoch [3/3000]: Train loss: 14891.3333, Valid loss: 14831.7631\n",
      "Saving model with loss 14831.763...\n"
     ]
    },
    {
     "name": "stderr",
     "output_type": "stream",
     "text": [
      "Epoch [4/3000]: 100%|██████████| 15/15 [00:00<00:00, 432.59it/s, loss=1.12e+4]\n"
     ]
    },
    {
     "name": "stdout",
     "output_type": "stream",
     "text": [
      "Epoch [4/3000]: Train loss: 14568.0621, Valid loss: 14277.0063\n",
      "Saving model with loss 14277.006...\n"
     ]
    },
    {
     "name": "stderr",
     "output_type": "stream",
     "text": [
      "Epoch [5/3000]: 100%|██████████| 15/15 [00:00<00:00, 374.85it/s, loss=1.07e+4]\n"
     ]
    },
    {
     "name": "stdout",
     "output_type": "stream",
     "text": [
      "Epoch [5/3000]: Train loss: 14388.7713, Valid loss: 14882.6034\n"
     ]
    },
    {
     "name": "stderr",
     "output_type": "stream",
     "text": [
      "Epoch [6/3000]: 100%|██████████| 15/15 [00:00<00:00, 423.49it/s, loss=1.74e+4]\n"
     ]
    },
    {
     "name": "stdout",
     "output_type": "stream",
     "text": [
      "Epoch [6/3000]: Train loss: 14498.7094, Valid loss: 14586.9622\n"
     ]
    },
    {
     "name": "stderr",
     "output_type": "stream",
     "text": [
      "Epoch [7/3000]: 100%|██████████| 15/15 [00:00<00:00, 353.21it/s, loss=1.12e+4]\n"
     ]
    },
    {
     "name": "stdout",
     "output_type": "stream",
     "text": [
      "Epoch [7/3000]: Train loss: 14049.3613, Valid loss: 13688.3721\n",
      "Saving model with loss 13688.372...\n"
     ]
    },
    {
     "name": "stderr",
     "output_type": "stream",
     "text": [
      "Epoch [8/3000]: 100%|██████████| 15/15 [00:00<00:00, 354.79it/s, loss=8.94e+3]\n"
     ]
    },
    {
     "name": "stdout",
     "output_type": "stream",
     "text": [
      "Epoch [8/3000]: Train loss: 13750.5478, Valid loss: 14949.2095\n"
     ]
    },
    {
     "name": "stderr",
     "output_type": "stream",
     "text": [
      "Epoch [9/3000]: 100%|██████████| 15/15 [00:00<00:00, 252.28it/s, loss=1.67e+4]\n"
     ]
    },
    {
     "name": "stdout",
     "output_type": "stream",
     "text": [
      "Epoch [9/3000]: Train loss: 13854.9812, Valid loss: 13516.1346\n",
      "Saving model with loss 13516.135...\n"
     ]
    },
    {
     "name": "stderr",
     "output_type": "stream",
     "text": [
      "Epoch [10/3000]: 100%|██████████| 15/15 [00:00<00:00, 272.75it/s, loss=1.17e+4]\n"
     ]
    },
    {
     "name": "stdout",
     "output_type": "stream",
     "text": [
      "Epoch [10/3000]: Train loss: 13405.9768, Valid loss: 13064.1002\n",
      "Saving model with loss 13064.100...\n"
     ]
    },
    {
     "name": "stderr",
     "output_type": "stream",
     "text": [
      "Epoch [11/3000]: 100%|██████████| 15/15 [00:00<00:00, 360.60it/s, loss=9.09e+3]"
     ]
    },
    {
     "name": "stdout",
     "output_type": "stream",
     "text": [
      "Epoch [11/3000]: Train loss: 13057.4142, Valid loss: 13834.6572\n"
     ]
    },
    {
     "name": "stderr",
     "output_type": "stream",
     "text": [
      "\n",
      "Epoch [12/3000]: 100%|██████████| 15/15 [00:00<00:00, 363.61it/s, loss=1.48e+4]\n"
     ]
    },
    {
     "name": "stdout",
     "output_type": "stream",
     "text": [
      "Epoch [12/3000]: Train loss: 13049.4346, Valid loss: 12723.6394\n",
      "Saving model with loss 12723.639...\n"
     ]
    },
    {
     "name": "stderr",
     "output_type": "stream",
     "text": [
      "Epoch [13/3000]: 100%|██████████| 15/15 [00:00<00:00, 347.14it/s, loss=6.96e+3]\n"
     ]
    },
    {
     "name": "stdout",
     "output_type": "stream",
     "text": [
      "Epoch [13/3000]: Train loss: 12479.7169, Valid loss: 14151.5033\n"
     ]
    },
    {
     "name": "stderr",
     "output_type": "stream",
     "text": [
      "Epoch [14/3000]: 100%|██████████| 15/15 [00:00<00:00, 368.29it/s, loss=1.39e+4]\n"
     ]
    },
    {
     "name": "stdout",
     "output_type": "stream",
     "text": [
      "Epoch [14/3000]: Train loss: 12532.8185, Valid loss: 12368.2778\n",
      "Saving model with loss 12368.278...\n"
     ]
    },
    {
     "name": "stderr",
     "output_type": "stream",
     "text": [
      "Epoch [15/3000]: 100%|██████████| 15/15 [00:00<00:00, 409.55it/s, loss=1.53e+4]\n"
     ]
    },
    {
     "name": "stdout",
     "output_type": "stream",
     "text": [
      "Epoch [15/3000]: Train loss: 12361.0934, Valid loss: 12428.1957\n"
     ]
    },
    {
     "name": "stderr",
     "output_type": "stream",
     "text": [
      "Epoch [16/3000]: 100%|██████████| 15/15 [00:00<00:00, 223.19it/s, loss=8.29e+3]\n"
     ]
    },
    {
     "name": "stdout",
     "output_type": "stream",
     "text": [
      "Epoch [16/3000]: Train loss: 11845.9354, Valid loss: 12109.8266\n",
      "Saving model with loss 12109.827...\n"
     ]
    },
    {
     "name": "stderr",
     "output_type": "stream",
     "text": [
      "Epoch [17/3000]: 100%|██████████| 15/15 [00:00<00:00, 370.39it/s, loss=1.04e+4]\n"
     ]
    },
    {
     "name": "stdout",
     "output_type": "stream",
     "text": [
      "Epoch [17/3000]: Train loss: 11719.9279, Valid loss: 12181.3744\n"
     ]
    },
    {
     "name": "stderr",
     "output_type": "stream",
     "text": [
      "Epoch [18/3000]: 100%|██████████| 15/15 [00:00<00:00, 407.00it/s, loss=1.09e+4]\n"
     ]
    },
    {
     "name": "stdout",
     "output_type": "stream",
     "text": [
      "Epoch [18/3000]: Train loss: 11535.7619, Valid loss: 12226.5992\n"
     ]
    },
    {
     "name": "stderr",
     "output_type": "stream",
     "text": [
      "Epoch [19/3000]: 100%|██████████| 15/15 [00:00<00:00, 158.21it/s, loss=1.32e+4]\n"
     ]
    },
    {
     "name": "stdout",
     "output_type": "stream",
     "text": [
      "Epoch [19/3000]: Train loss: 11438.8713, Valid loss: 11970.5611\n",
      "Saving model with loss 11970.561...\n"
     ]
    },
    {
     "name": "stderr",
     "output_type": "stream",
     "text": [
      "Epoch [20/3000]: 100%|██████████| 15/15 [00:00<00:00, 401.94it/s, loss=1.16e+4]"
     ]
    },
    {
     "name": "stdout",
     "output_type": "stream",
     "text": [
      "Epoch [20/3000]: Train loss: 11184.2106, Valid loss: 10497.0385"
     ]
    },
    {
     "name": "stderr",
     "output_type": "stream",
     "text": [
      "\n"
     ]
    },
    {
     "name": "stdout",
     "output_type": "stream",
     "text": [
      "\n",
      "Saving model with loss 10497.039...\n"
     ]
    },
    {
     "name": "stderr",
     "output_type": "stream",
     "text": [
      "Epoch [21/3000]: 100%|██████████| 15/15 [00:00<00:00, 387.24it/s, loss=1.37e+4]\n"
     ]
    },
    {
     "name": "stdout",
     "output_type": "stream",
     "text": [
      "Epoch [21/3000]: Train loss: 11098.6637, Valid loss: 10766.9256\n"
     ]
    },
    {
     "name": "stderr",
     "output_type": "stream",
     "text": [
      "Epoch [22/3000]: 100%|██████████| 15/15 [00:00<00:00, 177.30it/s, loss=1.29e+4]\n"
     ]
    },
    {
     "name": "stdout",
     "output_type": "stream",
     "text": [
      "Epoch [22/3000]: Train loss: 10894.1217, Valid loss: 10839.6069\n"
     ]
    },
    {
     "name": "stderr",
     "output_type": "stream",
     "text": [
      "Epoch [23/3000]: 100%|██████████| 15/15 [00:00<00:00, 309.98it/s, loss=6.32e+3]\n"
     ]
    },
    {
     "name": "stdout",
     "output_type": "stream",
     "text": [
      "Epoch [23/3000]: Train loss: 10462.0997, Valid loss: 10710.4064\n"
     ]
    },
    {
     "name": "stderr",
     "output_type": "stream",
     "text": [
      "Epoch [24/3000]: 100%|██████████| 15/15 [00:00<00:00, 331.17it/s, loss=1.17e+4]\n"
     ]
    },
    {
     "name": "stdout",
     "output_type": "stream",
     "text": [
      "Epoch [24/3000]: Train loss: 10538.2686, Valid loss: 9911.1273\n",
      "Saving model with loss 9911.127...\n"
     ]
    },
    {
     "name": "stderr",
     "output_type": "stream",
     "text": [
      "Epoch [25/3000]: 100%|██████████| 15/15 [00:00<00:00, 362.56it/s, loss=1.23e+4]\n"
     ]
    },
    {
     "name": "stdout",
     "output_type": "stream",
     "text": [
      "Epoch [25/3000]: Train loss: 10423.1191, Valid loss: 10286.6691\n"
     ]
    },
    {
     "name": "stderr",
     "output_type": "stream",
     "text": [
      "Epoch [26/3000]: 100%|██████████| 15/15 [00:00<00:00, 323.28it/s, loss=5.75e+3]\n"
     ]
    },
    {
     "name": "stdout",
     "output_type": "stream",
     "text": [
      "Epoch [26/3000]: Train loss: 10012.9123, Valid loss: 11944.0027\n"
     ]
    },
    {
     "name": "stderr",
     "output_type": "stream",
     "text": [
      "Epoch [27/3000]: 100%|██████████| 15/15 [00:00<00:00, 326.76it/s, loss=5.85e+3]\n"
     ]
    },
    {
     "name": "stdout",
     "output_type": "stream",
     "text": [
      "Epoch [27/3000]: Train loss: 9891.0808, Valid loss: 11076.6017\n"
     ]
    },
    {
     "name": "stderr",
     "output_type": "stream",
     "text": [
      "Epoch [28/3000]: 100%|██████████| 15/15 [00:00<00:00, 379.35it/s, loss=1.42e+4]\n"
     ]
    },
    {
     "name": "stdout",
     "output_type": "stream",
     "text": [
      "Epoch [28/3000]: Train loss: 10121.4265, Valid loss: 10191.7259\n"
     ]
    },
    {
     "name": "stderr",
     "output_type": "stream",
     "text": [
      "Epoch [29/3000]: 100%|██████████| 15/15 [00:00<00:00, 325.39it/s, loss=7.45e+3]\n"
     ]
    },
    {
     "name": "stdout",
     "output_type": "stream",
     "text": [
      "Epoch [29/3000]: Train loss: 9724.9146, Valid loss: 10817.6210\n"
     ]
    },
    {
     "name": "stderr",
     "output_type": "stream",
     "text": [
      "Epoch [30/3000]: 100%|██████████| 15/15 [00:00<00:00, 247.09it/s, loss=7.2e+3]\n"
     ]
    },
    {
     "name": "stdout",
     "output_type": "stream",
     "text": [
      "Epoch [30/3000]: Train loss: 9607.0031, Valid loss: 10073.1113\n"
     ]
    },
    {
     "name": "stderr",
     "output_type": "stream",
     "text": [
      "Epoch [31/3000]: 100%|██████████| 15/15 [00:00<00:00, 357.93it/s, loss=9.21e+3]\n"
     ]
    },
    {
     "name": "stdout",
     "output_type": "stream",
     "text": [
      "Epoch [31/3000]: Train loss: 9588.7214, Valid loss: 9548.3518\n",
      "Saving model with loss 9548.352...\n"
     ]
    },
    {
     "name": "stderr",
     "output_type": "stream",
     "text": [
      "Epoch [32/3000]: 100%|██████████| 15/15 [00:00<00:00, 408.59it/s, loss=1.13e+4]\n"
     ]
    },
    {
     "name": "stdout",
     "output_type": "stream",
     "text": [
      "Epoch [32/3000]: Train loss: 9580.8675, Valid loss: 9768.9129\n"
     ]
    },
    {
     "name": "stderr",
     "output_type": "stream",
     "text": [
      "Epoch [33/3000]: 100%|██████████| 15/15 [00:00<00:00, 414.20it/s, loss=1.37e+4]\n"
     ]
    },
    {
     "name": "stdout",
     "output_type": "stream",
     "text": [
      "Epoch [33/3000]: Train loss: 9590.3521, Valid loss: 9728.5075\n"
     ]
    },
    {
     "name": "stderr",
     "output_type": "stream",
     "text": [
      "Epoch [34/3000]: 100%|██████████| 15/15 [00:00<00:00, 402.40it/s, loss=7.25e+3]\n"
     ]
    },
    {
     "name": "stdout",
     "output_type": "stream",
     "text": [
      "Epoch [34/3000]: Train loss: 9231.6189, Valid loss: 8898.7099\n",
      "Saving model with loss 8898.710...\n"
     ]
    },
    {
     "name": "stderr",
     "output_type": "stream",
     "text": [
      "Epoch [35/3000]: 100%|██████████| 15/15 [00:00<00:00, 406.43it/s, loss=9.13e+3]\n"
     ]
    },
    {
     "name": "stdout",
     "output_type": "stream",
     "text": [
      "Epoch [35/3000]: Train loss: 9226.3675, Valid loss: 9896.5526\n"
     ]
    },
    {
     "name": "stderr",
     "output_type": "stream",
     "text": [
      "Epoch [36/3000]: 100%|██████████| 15/15 [00:00<00:00, 335.17it/s, loss=6.89e+3]\n"
     ]
    },
    {
     "name": "stdout",
     "output_type": "stream",
     "text": [
      "Epoch [36/3000]: Train loss: 9056.2257, Valid loss: 8894.1699\n",
      "Saving model with loss 8894.170...\n"
     ]
    },
    {
     "name": "stderr",
     "output_type": "stream",
     "text": [
      "Epoch [37/3000]: 100%|██████████| 15/15 [00:00<00:00, 339.27it/s, loss=6.86e+3]\n"
     ]
    },
    {
     "name": "stdout",
     "output_type": "stream",
     "text": [
      "Epoch [37/3000]: Train loss: 8981.9715, Valid loss: 9860.7317\n"
     ]
    },
    {
     "name": "stderr",
     "output_type": "stream",
     "text": [
      "Epoch [38/3000]: 100%|██████████| 15/15 [00:00<00:00, 332.79it/s, loss=9.14e+3]\n"
     ]
    },
    {
     "name": "stdout",
     "output_type": "stream",
     "text": [
      "Epoch [38/3000]: Train loss: 9008.2116, Valid loss: 9553.7043\n"
     ]
    },
    {
     "name": "stderr",
     "output_type": "stream",
     "text": [
      "Epoch [39/3000]: 100%|██████████| 15/15 [00:00<00:00, 402.10it/s, loss=1.35e+4]\n"
     ]
    },
    {
     "name": "stdout",
     "output_type": "stream",
     "text": [
      "Epoch [39/3000]: Train loss: 9123.0615, Valid loss: 8768.6703\n",
      "Saving model with loss 8768.670...\n"
     ]
    },
    {
     "name": "stderr",
     "output_type": "stream",
     "text": [
      "Epoch [40/3000]: 100%|██████████| 15/15 [00:00<00:00, 402.68it/s, loss=9.08e+3]\n"
     ]
    },
    {
     "name": "stdout",
     "output_type": "stream",
     "text": [
      "Epoch [40/3000]: Train loss: 8877.7122, Valid loss: 9543.9129\n"
     ]
    },
    {
     "name": "stderr",
     "output_type": "stream",
     "text": [
      "Epoch [41/3000]: 100%|██████████| 15/15 [00:00<00:00, 400.95it/s, loss=8.88e+3]\n"
     ]
    },
    {
     "name": "stdout",
     "output_type": "stream",
     "text": [
      "Epoch [41/3000]: Train loss: 8809.7738, Valid loss: 8955.3216\n"
     ]
    },
    {
     "name": "stderr",
     "output_type": "stream",
     "text": [
      "Epoch [42/3000]: 100%|██████████| 15/15 [00:00<00:00, 405.36it/s, loss=1.22e+4]\n"
     ]
    },
    {
     "name": "stdout",
     "output_type": "stream",
     "text": [
      "Epoch [42/3000]: Train loss: 8891.9109, Valid loss: 9152.3881\n"
     ]
    },
    {
     "name": "stderr",
     "output_type": "stream",
     "text": [
      "Epoch [43/3000]: 100%|██████████| 15/15 [00:00<00:00, 357.12it/s, loss=1.22e+4]\n"
     ]
    },
    {
     "name": "stdout",
     "output_type": "stream",
     "text": [
      "Epoch [43/3000]: Train loss: 8840.3821, Valid loss: 9346.0248\n"
     ]
    },
    {
     "name": "stderr",
     "output_type": "stream",
     "text": [
      "Epoch [44/3000]: 100%|██████████| 15/15 [00:00<00:00, 239.50it/s, loss=7.8e+3]\n"
     ]
    },
    {
     "name": "stdout",
     "output_type": "stream",
     "text": [
      "Epoch [44/3000]: Train loss: 8604.0039, Valid loss: 8793.1626\n"
     ]
    },
    {
     "name": "stderr",
     "output_type": "stream",
     "text": [
      "Epoch [45/3000]: 100%|██████████| 15/15 [00:00<00:00, 344.12it/s, loss=1.03e+4]\n"
     ]
    },
    {
     "name": "stdout",
     "output_type": "stream",
     "text": [
      "Epoch [45/3000]: Train loss: 8662.3495, Valid loss: 8768.3010\n",
      "Saving model with loss 8768.301...\n"
     ]
    },
    {
     "name": "stderr",
     "output_type": "stream",
     "text": [
      "Epoch [46/3000]: 100%|██████████| 15/15 [00:00<00:00, 391.31it/s, loss=6.93e+3]\n"
     ]
    },
    {
     "name": "stdout",
     "output_type": "stream",
     "text": [
      "Epoch [46/3000]: Train loss: 8475.4264, Valid loss: 8884.8082\n"
     ]
    },
    {
     "name": "stderr",
     "output_type": "stream",
     "text": [
      "Epoch [47/3000]: 100%|██████████| 15/15 [00:00<00:00, 407.96it/s, loss=9.9e+3]\n"
     ]
    },
    {
     "name": "stdout",
     "output_type": "stream",
     "text": [
      "Epoch [47/3000]: Train loss: 8556.5738, Valid loss: 9122.7188\n"
     ]
    },
    {
     "name": "stderr",
     "output_type": "stream",
     "text": [
      "Epoch [48/3000]: 100%|██████████| 15/15 [00:00<00:00, 402.65it/s, loss=1.21e+4]"
     ]
    },
    {
     "name": "stdout",
     "output_type": "stream",
     "text": [
      "Epoch [48/3000]: Train loss: 8609.8743, Valid loss: 8644.6782\n"
     ]
    },
    {
     "name": "stderr",
     "output_type": "stream",
     "text": [
      "\n"
     ]
    },
    {
     "name": "stdout",
     "output_type": "stream",
     "text": [
      "Saving model with loss 8644.678...\n"
     ]
    },
    {
     "name": "stderr",
     "output_type": "stream",
     "text": [
      "Epoch [49/3000]: 100%|██████████| 15/15 [00:00<00:00, 395.32it/s, loss=5.1e+3]\n"
     ]
    },
    {
     "name": "stdout",
     "output_type": "stream",
     "text": [
      "Epoch [49/3000]: Train loss: 8276.3566, Valid loss: 8469.5444\n",
      "Saving model with loss 8469.544...\n"
     ]
    },
    {
     "name": "stderr",
     "output_type": "stream",
     "text": [
      "Epoch [50/3000]: 100%|██████████| 15/15 [00:00<00:00, 408.12it/s, loss=9.08e+3]\n"
     ]
    },
    {
     "name": "stdout",
     "output_type": "stream",
     "text": [
      "Epoch [50/3000]: Train loss: 8407.7806, Valid loss: 8221.8262\n",
      "Saving model with loss 8221.826...\n"
     ]
    },
    {
     "name": "stderr",
     "output_type": "stream",
     "text": [
      "Epoch [51/3000]: 100%|██████████| 15/15 [00:00<00:00, 205.22it/s, loss=5.74e+3]\n"
     ]
    },
    {
     "name": "stdout",
     "output_type": "stream",
     "text": [
      "Epoch [51/3000]: Train loss: 8234.5761, Valid loss: 9027.0229\n"
     ]
    },
    {
     "name": "stderr",
     "output_type": "stream",
     "text": [
      "Epoch [52/3000]: 100%|██████████| 15/15 [00:00<00:00, 361.46it/s, loss=6.44e+3]\n"
     ]
    },
    {
     "name": "stdout",
     "output_type": "stream",
     "text": [
      "Epoch [52/3000]: Train loss: 8231.7511, Valid loss: 8431.4208\n"
     ]
    },
    {
     "name": "stderr",
     "output_type": "stream",
     "text": [
      "Epoch [53/3000]: 100%|██████████| 15/15 [00:00<00:00, 402.38it/s, loss=1.06e+4]\n"
     ]
    },
    {
     "name": "stdout",
     "output_type": "stream",
     "text": [
      "Epoch [53/3000]: Train loss: 8374.2396, Valid loss: 7815.9140\n",
      "Saving model with loss 7815.914...\n"
     ]
    },
    {
     "name": "stderr",
     "output_type": "stream",
     "text": [
      "Epoch [54/3000]: 100%|██████████| 15/15 [00:00<00:00, 412.54it/s, loss=7.58e+3]\n"
     ]
    },
    {
     "name": "stdout",
     "output_type": "stream",
     "text": [
      "Epoch [54/3000]: Train loss: 8221.0838, Valid loss: 8035.0703\n"
     ]
    },
    {
     "name": "stderr",
     "output_type": "stream",
     "text": [
      "Epoch [55/3000]: 100%|██████████| 15/15 [00:00<00:00, 405.75it/s, loss=8.1e+3]\n"
     ]
    },
    {
     "name": "stdout",
     "output_type": "stream",
     "text": [
      "Epoch [55/3000]: Train loss: 8214.8457, Valid loss: 8971.9399\n"
     ]
    },
    {
     "name": "stderr",
     "output_type": "stream",
     "text": [
      "Epoch [56/3000]: 100%|██████████| 15/15 [00:00<00:00, 421.68it/s, loss=7.49e+3]\n"
     ]
    },
    {
     "name": "stdout",
     "output_type": "stream",
     "text": [
      "Epoch [56/3000]: Train loss: 8163.2631, Valid loss: 8170.1180\n"
     ]
    },
    {
     "name": "stderr",
     "output_type": "stream",
     "text": [
      "Epoch [57/3000]: 100%|██████████| 15/15 [00:00<00:00, 141.70it/s, loss=6.83e+3]\n"
     ]
    },
    {
     "name": "stdout",
     "output_type": "stream",
     "text": [
      "Epoch [57/3000]: Train loss: 8112.2818, Valid loss: 8185.2186\n"
     ]
    },
    {
     "name": "stderr",
     "output_type": "stream",
     "text": [
      "Epoch [58/3000]: 100%|██████████| 15/15 [00:00<00:00, 327.85it/s, loss=7.73e+3]\n"
     ]
    },
    {
     "name": "stdout",
     "output_type": "stream",
     "text": [
      "Epoch [58/3000]: Train loss: 8125.9102, Valid loss: 8919.2766\n"
     ]
    },
    {
     "name": "stderr",
     "output_type": "stream",
     "text": [
      "Epoch [59/3000]: 100%|██████████| 15/15 [00:00<00:00, 411.40it/s, loss=6.63e+3]\n"
     ]
    },
    {
     "name": "stdout",
     "output_type": "stream",
     "text": [
      "Epoch [59/3000]: Train loss: 8058.3530, Valid loss: 8325.7401\n"
     ]
    },
    {
     "name": "stderr",
     "output_type": "stream",
     "text": [
      "Epoch [60/3000]: 100%|██████████| 15/15 [00:00<00:00, 403.36it/s, loss=8.76e+3]\n"
     ]
    },
    {
     "name": "stdout",
     "output_type": "stream",
     "text": [
      "Epoch [60/3000]: Train loss: 8124.3823, Valid loss: 8912.5615\n"
     ]
    },
    {
     "name": "stderr",
     "output_type": "stream",
     "text": [
      "Epoch [61/3000]: 100%|██████████| 15/15 [00:00<00:00, 400.22it/s, loss=1.15e+4]"
     ]
    },
    {
     "name": "stdout",
     "output_type": "stream",
     "text": [
      "Epoch [61/3000]: Train loss: 8215.5920, Valid loss: 8208.3637\n"
     ]
    },
    {
     "name": "stderr",
     "output_type": "stream",
     "text": [
      "\n",
      "Epoch [62/3000]: 100%|██████████| 15/15 [00:00<00:00, 401.00it/s, loss=4.71e+3]\n"
     ]
    },
    {
     "name": "stdout",
     "output_type": "stream",
     "text": [
      "Epoch [62/3000]: Train loss: 7914.7238, Valid loss: 8087.1283\n"
     ]
    },
    {
     "name": "stderr",
     "output_type": "stream",
     "text": [
      "Epoch [63/3000]: 100%|██████████| 15/15 [00:00<00:00, 240.89it/s, loss=8.91e+3]\n"
     ]
    },
    {
     "name": "stdout",
     "output_type": "stream",
     "text": [
      "Epoch [63/3000]: Train loss: 8072.1115, Valid loss: 7889.3517\n"
     ]
    },
    {
     "name": "stderr",
     "output_type": "stream",
     "text": [
      "Epoch [64/3000]: 100%|██████████| 15/15 [00:00<00:00, 386.83it/s, loss=1.07e+4]\n"
     ]
    },
    {
     "name": "stdout",
     "output_type": "stream",
     "text": [
      "Epoch [64/3000]: Train loss: 8128.7313, Valid loss: 7987.0806\n"
     ]
    },
    {
     "name": "stderr",
     "output_type": "stream",
     "text": [
      "Epoch [65/3000]: 100%|██████████| 15/15 [00:00<00:00, 342.68it/s, loss=8.21e+3]\n"
     ]
    },
    {
     "name": "stdout",
     "output_type": "stream",
     "text": [
      "Epoch [65/3000]: Train loss: 8009.7717, Valid loss: 8746.6216\n"
     ]
    },
    {
     "name": "stderr",
     "output_type": "stream",
     "text": [
      "Epoch [66/3000]: 100%|██████████| 15/15 [00:00<00:00, 409.77it/s, loss=8.15e+3]\n"
     ]
    },
    {
     "name": "stdout",
     "output_type": "stream",
     "text": [
      "Epoch [66/3000]: Train loss: 7991.9433, Valid loss: 7995.1820\n"
     ]
    },
    {
     "name": "stderr",
     "output_type": "stream",
     "text": [
      "Epoch [67/3000]: 100%|██████████| 15/15 [00:00<00:00, 397.93it/s, loss=1.27e+4]\n"
     ]
    },
    {
     "name": "stdout",
     "output_type": "stream",
     "text": [
      "Epoch [67/3000]: Train loss: 8168.8623, Valid loss: 7943.1135\n"
     ]
    },
    {
     "name": "stderr",
     "output_type": "stream",
     "text": [
      "Epoch [68/3000]: 100%|██████████| 15/15 [00:00<00:00, 413.01it/s, loss=7.74e+3]\n"
     ]
    },
    {
     "name": "stdout",
     "output_type": "stream",
     "text": [
      "Epoch [68/3000]: Train loss: 7946.0379, Valid loss: 7967.9912\n"
     ]
    },
    {
     "name": "stderr",
     "output_type": "stream",
     "text": [
      "Epoch [69/3000]: 100%|██████████| 15/15 [00:00<00:00, 224.38it/s, loss=9.69e+3]\n"
     ]
    },
    {
     "name": "stdout",
     "output_type": "stream",
     "text": [
      "Epoch [69/3000]: Train loss: 8014.3333, Valid loss: 9687.8713\n"
     ]
    },
    {
     "name": "stderr",
     "output_type": "stream",
     "text": [
      "Epoch [70/3000]: 100%|██████████| 15/15 [00:00<00:00, 354.45it/s, loss=9.6e+3]\n"
     ]
    },
    {
     "name": "stdout",
     "output_type": "stream",
     "text": [
      "Epoch [70/3000]: Train loss: 7998.2579, Valid loss: 7817.1815\n"
     ]
    },
    {
     "name": "stderr",
     "output_type": "stream",
     "text": [
      "Epoch [71/3000]: 100%|██████████| 15/15 [00:00<00:00, 405.63it/s, loss=6.63e+3]\n"
     ]
    },
    {
     "name": "stdout",
     "output_type": "stream",
     "text": [
      "Epoch [71/3000]: Train loss: 7862.2235, Valid loss: 7816.5447\n"
     ]
    },
    {
     "name": "stderr",
     "output_type": "stream",
     "text": [
      "Epoch [72/3000]: 100%|██████████| 15/15 [00:00<00:00, 314.72it/s, loss=4.21e+3]\n"
     ]
    },
    {
     "name": "stdout",
     "output_type": "stream",
     "text": [
      "Epoch [72/3000]: Train loss: 7749.3750, Valid loss: 8081.1932\n"
     ]
    },
    {
     "name": "stderr",
     "output_type": "stream",
     "text": [
      "Epoch [73/3000]: 100%|██████████| 15/15 [00:00<00:00, 404.85it/s, loss=1.26e+4]\n"
     ]
    },
    {
     "name": "stdout",
     "output_type": "stream",
     "text": [
      "Epoch [73/3000]: Train loss: 8091.3229, Valid loss: 7827.2927\n"
     ]
    },
    {
     "name": "stderr",
     "output_type": "stream",
     "text": [
      "Epoch [74/3000]: 100%|██████████| 15/15 [00:00<00:00, 412.18it/s, loss=8.7e+3]"
     ]
    },
    {
     "name": "stdout",
     "output_type": "stream",
     "text": [
      "Epoch [74/3000]: Train loss: 7917.9206, Valid loss: 8818.2519\n"
     ]
    },
    {
     "name": "stderr",
     "output_type": "stream",
     "text": [
      "\n",
      "Epoch [75/3000]: 100%|██████████| 15/15 [00:00<00:00, 418.50it/s, loss=7.5e+3]\n"
     ]
    },
    {
     "name": "stdout",
     "output_type": "stream",
     "text": [
      "Epoch [75/3000]: Train loss: 7857.8073, Valid loss: 8223.7223\n"
     ]
    },
    {
     "name": "stderr",
     "output_type": "stream",
     "text": [
      "Epoch [76/3000]: 100%|██████████| 15/15 [00:00<00:00, 231.83it/s, loss=5.98e+3]\n"
     ]
    },
    {
     "name": "stdout",
     "output_type": "stream",
     "text": [
      "Epoch [76/3000]: Train loss: 7785.2640, Valid loss: 8548.0103\n"
     ]
    },
    {
     "name": "stderr",
     "output_type": "stream",
     "text": [
      "Epoch [77/3000]: 100%|██████████| 15/15 [00:00<00:00, 380.62it/s, loss=5.56e+3]\n"
     ]
    },
    {
     "name": "stdout",
     "output_type": "stream",
     "text": [
      "Epoch [77/3000]: Train loss: 7759.4409, Valid loss: 8044.5116\n"
     ]
    },
    {
     "name": "stderr",
     "output_type": "stream",
     "text": [
      "Epoch [78/3000]: 100%|██████████| 15/15 [00:00<00:00, 400.65it/s, loss=1.01e+4]\n"
     ]
    },
    {
     "name": "stdout",
     "output_type": "stream",
     "text": [
      "Epoch [78/3000]: Train loss: 7939.5662, Valid loss: 9192.8286\n"
     ]
    },
    {
     "name": "stderr",
     "output_type": "stream",
     "text": [
      "Epoch [79/3000]: 100%|██████████| 15/15 [00:00<00:00, 328.16it/s, loss=7.35e+3]\n"
     ]
    },
    {
     "name": "stdout",
     "output_type": "stream",
     "text": [
      "Epoch [79/3000]: Train loss: 7819.6209, Valid loss: 8764.3478\n"
     ]
    },
    {
     "name": "stderr",
     "output_type": "stream",
     "text": [
      "Epoch [80/3000]: 100%|██████████| 15/15 [00:00<00:00, 396.15it/s, loss=1.25e+4]\n"
     ]
    },
    {
     "name": "stdout",
     "output_type": "stream",
     "text": [
      "Epoch [80/3000]: Train loss: 8028.0118, Valid loss: 8666.1350\n"
     ]
    },
    {
     "name": "stderr",
     "output_type": "stream",
     "text": [
      "Epoch [81/3000]: 100%|██████████| 15/15 [00:00<00:00, 401.53it/s, loss=6.15e+3]\n"
     ]
    },
    {
     "name": "stdout",
     "output_type": "stream",
     "text": [
      "Epoch [81/3000]: Train loss: 7754.6035, Valid loss: 8908.1048\n"
     ]
    },
    {
     "name": "stderr",
     "output_type": "stream",
     "text": [
      "Epoch [82/3000]: 100%|██████████| 15/15 [00:00<00:00, 228.20it/s, loss=3.24e+3]\n"
     ]
    },
    {
     "name": "stdout",
     "output_type": "stream",
     "text": [
      "Epoch [82/3000]: Train loss: 7626.2456, Valid loss: 8157.2952\n"
     ]
    },
    {
     "name": "stderr",
     "output_type": "stream",
     "text": [
      "Epoch [83/3000]: 100%|██████████| 15/15 [00:00<00:00, 355.03it/s, loss=1.31e+4]\n"
     ]
    },
    {
     "name": "stdout",
     "output_type": "stream",
     "text": [
      "Epoch [83/3000]: Train loss: 8032.9340, Valid loss: 8527.3783\n"
     ]
    },
    {
     "name": "stderr",
     "output_type": "stream",
     "text": [
      "Epoch [84/3000]: 100%|██████████| 15/15 [00:00<00:00, 409.98it/s, loss=9.74e+3]\n"
     ]
    },
    {
     "name": "stdout",
     "output_type": "stream",
     "text": [
      "Epoch [84/3000]: Train loss: 7886.9584, Valid loss: 8206.1896\n"
     ]
    },
    {
     "name": "stderr",
     "output_type": "stream",
     "text": [
      "Epoch [85/3000]: 100%|██████████| 15/15 [00:00<00:00, 406.77it/s, loss=6.51e+3]\n"
     ]
    },
    {
     "name": "stdout",
     "output_type": "stream",
     "text": [
      "Epoch [85/3000]: Train loss: 7745.6383, Valid loss: 7904.5481\n"
     ]
    },
    {
     "name": "stderr",
     "output_type": "stream",
     "text": [
      "Epoch [86/3000]: 100%|██████████| 15/15 [00:00<00:00, 337.00it/s, loss=7.72e+3]\n"
     ]
    },
    {
     "name": "stdout",
     "output_type": "stream",
     "text": [
      "Epoch [86/3000]: Train loss: 7791.1352, Valid loss: 8280.3307\n"
     ]
    },
    {
     "name": "stderr",
     "output_type": "stream",
     "text": [
      "Epoch [87/3000]: 100%|██████████| 15/15 [00:00<00:00, 403.31it/s, loss=8.44e+3]"
     ]
    },
    {
     "name": "stdout",
     "output_type": "stream",
     "text": [
      "Epoch [87/3000]: Train loss: 7816.4689, Valid loss: 8239.7501\n"
     ]
    },
    {
     "name": "stderr",
     "output_type": "stream",
     "text": [
      "\n",
      "Epoch [88/3000]: 100%|██████████| 15/15 [00:00<00:00, 287.31it/s, loss=8.45e+3]\n"
     ]
    },
    {
     "name": "stdout",
     "output_type": "stream",
     "text": [
      "Epoch [88/3000]: Train loss: 7811.9245, Valid loss: 8131.0874\n"
     ]
    },
    {
     "name": "stderr",
     "output_type": "stream",
     "text": [
      "Epoch [89/3000]: 100%|██████████| 15/15 [00:00<00:00, 311.96it/s, loss=8.32e+3]\n"
     ]
    },
    {
     "name": "stdout",
     "output_type": "stream",
     "text": [
      "Epoch [89/3000]: Train loss: 7802.0141, Valid loss: 8568.8583\n"
     ]
    },
    {
     "name": "stderr",
     "output_type": "stream",
     "text": [
      "Epoch [90/3000]: 100%|██████████| 15/15 [00:00<00:00, 409.20it/s, loss=8.08e+3]\n"
     ]
    },
    {
     "name": "stdout",
     "output_type": "stream",
     "text": [
      "Epoch [90/3000]: Train loss: 7787.4902, Valid loss: 8905.2399\n"
     ]
    },
    {
     "name": "stderr",
     "output_type": "stream",
     "text": [
      "Epoch [91/3000]: 100%|██████████| 15/15 [00:00<00:00, 400.90it/s, loss=6.19e+3]\n"
     ]
    },
    {
     "name": "stdout",
     "output_type": "stream",
     "text": [
      "Epoch [91/3000]: Train loss: 7704.0222, Valid loss: 7631.2836\n",
      "Saving model with loss 7631.284...\n"
     ]
    },
    {
     "name": "stderr",
     "output_type": "stream",
     "text": [
      "Epoch [92/3000]: 100%|██████████| 15/15 [00:00<00:00, 367.20it/s, loss=5.42e+3]\n"
     ]
    },
    {
     "name": "stdout",
     "output_type": "stream",
     "text": [
      "Epoch [92/3000]: Train loss: 7668.1139, Valid loss: 7803.2704\n"
     ]
    },
    {
     "name": "stderr",
     "output_type": "stream",
     "text": [
      "Epoch [93/3000]: 100%|██████████| 15/15 [00:00<00:00, 404.43it/s, loss=7.02e+3]\n"
     ]
    },
    {
     "name": "stdout",
     "output_type": "stream",
     "text": [
      "Epoch [93/3000]: Train loss: 7731.2768, Valid loss: 7665.7260\n"
     ]
    },
    {
     "name": "stderr",
     "output_type": "stream",
     "text": [
      "Epoch [94/3000]: 100%|██████████| 15/15 [00:00<00:00, 341.23it/s, loss=4.82e+3]\n"
     ]
    },
    {
     "name": "stdout",
     "output_type": "stream",
     "text": [
      "Epoch [94/3000]: Train loss: 7635.7158, Valid loss: 7794.1200\n"
     ]
    },
    {
     "name": "stderr",
     "output_type": "stream",
     "text": [
      "Epoch [95/3000]: 100%|██████████| 15/15 [00:00<00:00, 217.15it/s, loss=9.13e+3]\n"
     ]
    },
    {
     "name": "stdout",
     "output_type": "stream",
     "text": [
      "Epoch [95/3000]: Train loss: 7813.3315, Valid loss: 9224.8899\n"
     ]
    },
    {
     "name": "stderr",
     "output_type": "stream",
     "text": [
      "Epoch [96/3000]: 100%|██████████| 15/15 [00:00<00:00, 159.59it/s, loss=9.8e+3]\n"
     ]
    },
    {
     "name": "stdout",
     "output_type": "stream",
     "text": [
      "Epoch [96/3000]: Train loss: 7838.0836, Valid loss: 8149.6145\n"
     ]
    },
    {
     "name": "stderr",
     "output_type": "stream",
     "text": [
      "Epoch [97/3000]: 100%|██████████| 15/15 [00:00<00:00, 408.08it/s, loss=7.82e+3]\n"
     ]
    },
    {
     "name": "stdout",
     "output_type": "stream",
     "text": [
      "Epoch [97/3000]: Train loss: 7751.7850, Valid loss: 8136.3163\n"
     ]
    },
    {
     "name": "stderr",
     "output_type": "stream",
     "text": [
      "Epoch [98/3000]: 100%|██████████| 15/15 [00:00<00:00, 406.94it/s, loss=5.44e+3]\n"
     ]
    },
    {
     "name": "stdout",
     "output_type": "stream",
     "text": [
      "Epoch [98/3000]: Train loss: 7648.9854, Valid loss: 7633.3215\n"
     ]
    },
    {
     "name": "stderr",
     "output_type": "stream",
     "text": [
      "Epoch [99/3000]: 100%|██████████| 15/15 [00:00<00:00, 400.28it/s, loss=5.5e+3]\n"
     ]
    },
    {
     "name": "stdout",
     "output_type": "stream",
     "text": [
      "Epoch [99/3000]: Train loss: 7648.9670, Valid loss: 8576.7119\n"
     ]
    },
    {
     "name": "stderr",
     "output_type": "stream",
     "text": [
      "Epoch [100/3000]: 100%|██████████| 15/15 [00:00<00:00, 407.27it/s, loss=7.65e+3]\n"
     ]
    },
    {
     "name": "stdout",
     "output_type": "stream",
     "text": [
      "Epoch [100/3000]: Train loss: 7736.4225, Valid loss: 7753.3704\n"
     ]
    },
    {
     "name": "stderr",
     "output_type": "stream",
     "text": [
      "Epoch [101/3000]: 100%|██████████| 15/15 [00:00<00:00, 190.25it/s, loss=5.76e+3]\n"
     ]
    },
    {
     "name": "stdout",
     "output_type": "stream",
     "text": [
      "Epoch [101/3000]: Train loss: 7654.5689, Valid loss: 7773.8629\n"
     ]
    },
    {
     "name": "stderr",
     "output_type": "stream",
     "text": [
      "Epoch [102/3000]: 100%|██████████| 15/15 [00:00<00:00, 354.90it/s, loss=8.86e+3]\n"
     ]
    },
    {
     "name": "stdout",
     "output_type": "stream",
     "text": [
      "Epoch [102/3000]: Train loss: 7782.2013, Valid loss: 7883.2929\n"
     ]
    },
    {
     "name": "stderr",
     "output_type": "stream",
     "text": [
      "Epoch [103/3000]: 100%|██████████| 15/15 [00:00<00:00, 386.39it/s, loss=6.24e+3]\n"
     ]
    },
    {
     "name": "stdout",
     "output_type": "stream",
     "text": [
      "Epoch [103/3000]: Train loss: 7670.1216, Valid loss: 8169.8454\n"
     ]
    },
    {
     "name": "stderr",
     "output_type": "stream",
     "text": [
      "Epoch [104/3000]: 100%|██████████| 15/15 [00:00<00:00, 391.40it/s, loss=8.3e+3]\n"
     ]
    },
    {
     "name": "stdout",
     "output_type": "stream",
     "text": [
      "Epoch [104/3000]: Train loss: 7754.2342, Valid loss: 7964.4938\n"
     ]
    },
    {
     "name": "stderr",
     "output_type": "stream",
     "text": [
      "Epoch [105/3000]: 100%|██████████| 15/15 [00:00<00:00, 393.70it/s, loss=1.17e+4]\n"
     ]
    },
    {
     "name": "stdout",
     "output_type": "stream",
     "text": [
      "Epoch [105/3000]: Train loss: 7894.7437, Valid loss: 8009.4367\n"
     ]
    },
    {
     "name": "stderr",
     "output_type": "stream",
     "text": [
      "Epoch [106/3000]: 100%|██████████| 15/15 [00:00<00:00, 404.35it/s, loss=1.19e+4]\n"
     ]
    },
    {
     "name": "stdout",
     "output_type": "stream",
     "text": [
      "Epoch [106/3000]: Train loss: 7900.1843, Valid loss: 8247.1208\n"
     ]
    },
    {
     "name": "stderr",
     "output_type": "stream",
     "text": [
      "Epoch [107/3000]: 100%|██████████| 15/15 [00:00<00:00, 350.66it/s, loss=1.04e+4]\n"
     ]
    },
    {
     "name": "stdout",
     "output_type": "stream",
     "text": [
      "Epoch [107/3000]: Train loss: 7836.1857, Valid loss: 8664.0089\n"
     ]
    },
    {
     "name": "stderr",
     "output_type": "stream",
     "text": [
      "Epoch [108/3000]: 100%|██████████| 15/15 [00:00<00:00, 200.52it/s, loss=7.31e+3]\n"
     ]
    },
    {
     "name": "stdout",
     "output_type": "stream",
     "text": [
      "Epoch [108/3000]: Train loss: 7703.9098, Valid loss: 7898.0983\n"
     ]
    },
    {
     "name": "stderr",
     "output_type": "stream",
     "text": [
      "Epoch [109/3000]: 100%|██████████| 15/15 [00:00<00:00, 414.96it/s, loss=6.88e+3]\n"
     ]
    },
    {
     "name": "stdout",
     "output_type": "stream",
     "text": [
      "Epoch [109/3000]: Train loss: 7684.0908, Valid loss: 8743.3081\n"
     ]
    },
    {
     "name": "stderr",
     "output_type": "stream",
     "text": [
      "Epoch [110/3000]: 100%|██████████| 15/15 [00:00<00:00, 405.22it/s, loss=7.48e+3]\n"
     ]
    },
    {
     "name": "stdout",
     "output_type": "stream",
     "text": [
      "Epoch [110/3000]: Train loss: 7707.6193, Valid loss: 8146.2998\n"
     ]
    },
    {
     "name": "stderr",
     "output_type": "stream",
     "text": [
      "Epoch [111/3000]: 100%|██████████| 15/15 [00:00<00:00, 390.21it/s, loss=9.84e+3]\n"
     ]
    },
    {
     "name": "stdout",
     "output_type": "stream",
     "text": [
      "Epoch [111/3000]: Train loss: 7804.7109, Valid loss: 8452.0981\n"
     ]
    },
    {
     "name": "stderr",
     "output_type": "stream",
     "text": [
      "Epoch [112/3000]: 100%|██████████| 15/15 [00:00<00:00, 386.89it/s, loss=5.42e+3]\n"
     ]
    },
    {
     "name": "stdout",
     "output_type": "stream",
     "text": [
      "Epoch [112/3000]: Train loss: 7617.7552, Valid loss: 8398.2659\n"
     ]
    },
    {
     "name": "stderr",
     "output_type": "stream",
     "text": [
      "Epoch [113/3000]: 100%|██████████| 15/15 [00:00<00:00, 403.54it/s, loss=8.77e+3]\n"
     ]
    },
    {
     "name": "stdout",
     "output_type": "stream",
     "text": [
      "Epoch [113/3000]: Train loss: 7756.5102, Valid loss: 8115.8641\n"
     ]
    },
    {
     "name": "stderr",
     "output_type": "stream",
     "text": [
      "Epoch [114/3000]: 100%|██████████| 15/15 [00:00<00:00, 215.16it/s, loss=4.94e+3]\n"
     ]
    },
    {
     "name": "stdout",
     "output_type": "stream",
     "text": [
      "Epoch [114/3000]: Train loss: 7594.7771, Valid loss: 7968.2483\n"
     ]
    },
    {
     "name": "stderr",
     "output_type": "stream",
     "text": [
      "Epoch [115/3000]: 100%|██████████| 15/15 [00:00<00:00, 272.51it/s, loss=8.53e+3]\n"
     ]
    },
    {
     "name": "stdout",
     "output_type": "stream",
     "text": [
      "Epoch [115/3000]: Train loss: 7743.5818, Valid loss: 8464.4378\n"
     ]
    },
    {
     "name": "stderr",
     "output_type": "stream",
     "text": [
      "Epoch [116/3000]: 100%|██████████| 15/15 [00:00<00:00, 396.74it/s, loss=1.05e+4]\n"
     ]
    },
    {
     "name": "stdout",
     "output_type": "stream",
     "text": [
      "Epoch [116/3000]: Train loss: 7825.4787, Valid loss: 7550.7212\n",
      "Saving model with loss 7550.721...\n"
     ]
    },
    {
     "name": "stderr",
     "output_type": "stream",
     "text": [
      "Epoch [117/3000]: 100%|██████████| 15/15 [00:00<00:00, 390.60it/s, loss=8.75e+3]\n"
     ]
    },
    {
     "name": "stdout",
     "output_type": "stream",
     "text": [
      "Epoch [117/3000]: Train loss: 7750.2192, Valid loss: 8471.2597\n"
     ]
    },
    {
     "name": "stderr",
     "output_type": "stream",
     "text": [
      "Epoch [118/3000]: 100%|██████████| 15/15 [00:00<00:00, 399.54it/s, loss=8.71e+3]\n"
     ]
    },
    {
     "name": "stdout",
     "output_type": "stream",
     "text": [
      "Epoch [118/3000]: Train loss: 7747.1135, Valid loss: 7639.3714\n"
     ]
    },
    {
     "name": "stderr",
     "output_type": "stream",
     "text": [
      "Epoch [119/3000]: 100%|██████████| 15/15 [00:00<00:00, 400.66it/s, loss=1.46e+4]\n"
     ]
    },
    {
     "name": "stdout",
     "output_type": "stream",
     "text": [
      "Epoch [119/3000]: Train loss: 7993.9246, Valid loss: 8213.5579\n"
     ]
    },
    {
     "name": "stderr",
     "output_type": "stream",
     "text": [
      "Epoch [120/3000]: 100%|██████████| 15/15 [00:00<00:00, 209.72it/s, loss=6.92e+3]\n"
     ]
    },
    {
     "name": "stdout",
     "output_type": "stream",
     "text": [
      "Epoch [120/3000]: Train loss: 7669.7255, Valid loss: 7831.7591\n"
     ]
    },
    {
     "name": "stderr",
     "output_type": "stream",
     "text": [
      "Epoch [121/3000]: 100%|██████████| 15/15 [00:00<00:00, 358.72it/s, loss=9.6e+3]\n"
     ]
    },
    {
     "name": "stdout",
     "output_type": "stream",
     "text": [
      "Epoch [121/3000]: Train loss: 7781.0493, Valid loss: 7652.8502\n"
     ]
    },
    {
     "name": "stderr",
     "output_type": "stream",
     "text": [
      "Epoch [122/3000]: 100%|██████████| 15/15 [00:00<00:00, 303.35it/s, loss=9.63e+3]\n"
     ]
    },
    {
     "name": "stdout",
     "output_type": "stream",
     "text": [
      "Epoch [122/3000]: Train loss: 7781.1329, Valid loss: 9082.4673\n"
     ]
    },
    {
     "name": "stderr",
     "output_type": "stream",
     "text": [
      "Epoch [123/3000]: 100%|██████████| 15/15 [00:00<00:00, 375.63it/s, loss=4.79e+3]\n"
     ]
    },
    {
     "name": "stdout",
     "output_type": "stream",
     "text": [
      "Epoch [123/3000]: Train loss: 7577.0115, Valid loss: 8281.7683\n"
     ]
    },
    {
     "name": "stderr",
     "output_type": "stream",
     "text": [
      "Epoch [124/3000]: 100%|██████████| 15/15 [00:00<00:00, 389.41it/s, loss=6.45e+3]\n"
     ]
    },
    {
     "name": "stdout",
     "output_type": "stream",
     "text": [
      "Epoch [124/3000]: Train loss: 7645.7093, Valid loss: 8040.7623\n"
     ]
    },
    {
     "name": "stderr",
     "output_type": "stream",
     "text": [
      "Epoch [125/3000]: 100%|██████████| 15/15 [00:00<00:00, 382.60it/s, loss=5.28e+3]\n"
     ]
    },
    {
     "name": "stdout",
     "output_type": "stream",
     "text": [
      "Epoch [125/3000]: Train loss: 7595.6010, Valid loss: 8245.3594\n"
     ]
    },
    {
     "name": "stderr",
     "output_type": "stream",
     "text": [
      "Epoch [126/3000]: 100%|██████████| 15/15 [00:00<00:00, 197.18it/s, loss=6e+3]\n"
     ]
    },
    {
     "name": "stdout",
     "output_type": "stream",
     "text": [
      "Epoch [126/3000]: Train loss: 7624.5666, Valid loss: 8143.1529\n"
     ]
    },
    {
     "name": "stderr",
     "output_type": "stream",
     "text": [
      "Epoch [127/3000]: 100%|██████████| 15/15 [00:00<00:00, 321.86it/s, loss=8.67e+3]\n"
     ]
    },
    {
     "name": "stdout",
     "output_type": "stream",
     "text": [
      "Epoch [127/3000]: Train loss: 7735.8386, Valid loss: 8131.9247\n"
     ]
    },
    {
     "name": "stderr",
     "output_type": "stream",
     "text": [
      "Epoch [128/3000]: 100%|██████████| 15/15 [00:00<00:00, 381.23it/s, loss=6.89e+3]\n"
     ]
    },
    {
     "name": "stdout",
     "output_type": "stream",
     "text": [
      "Epoch [128/3000]: Train loss: 7660.2086, Valid loss: 7664.3145\n"
     ]
    },
    {
     "name": "stderr",
     "output_type": "stream",
     "text": [
      "Epoch [129/3000]: 100%|██████████| 15/15 [00:00<00:00, 293.24it/s, loss=8.09e+3]\n"
     ]
    },
    {
     "name": "stdout",
     "output_type": "stream",
     "text": [
      "Epoch [129/3000]: Train loss: 7709.4805, Valid loss: 7791.4969\n"
     ]
    },
    {
     "name": "stderr",
     "output_type": "stream",
     "text": [
      "Epoch [130/3000]: 100%|██████████| 15/15 [00:00<00:00, 377.60it/s, loss=6.23e+3]\n"
     ]
    },
    {
     "name": "stdout",
     "output_type": "stream",
     "text": [
      "Epoch [130/3000]: Train loss: 7630.6181, Valid loss: 7587.5356\n"
     ]
    },
    {
     "name": "stderr",
     "output_type": "stream",
     "text": [
      "Epoch [131/3000]: 100%|██████████| 15/15 [00:00<00:00, 377.78it/s, loss=7.74e+3]\n"
     ]
    },
    {
     "name": "stdout",
     "output_type": "stream",
     "text": [
      "Epoch [131/3000]: Train loss: 7693.0197, Valid loss: 7853.8766\n"
     ]
    },
    {
     "name": "stderr",
     "output_type": "stream",
     "text": [
      "Epoch [132/3000]: 100%|██████████| 15/15 [00:00<00:00, 195.69it/s, loss=6.08e+3]\n"
     ]
    },
    {
     "name": "stdout",
     "output_type": "stream",
     "text": [
      "Epoch [132/3000]: Train loss: 7622.9365, Valid loss: 8116.5195\n"
     ]
    },
    {
     "name": "stderr",
     "output_type": "stream",
     "text": [
      "Epoch [133/3000]: 100%|██████████| 15/15 [00:00<00:00, 371.90it/s, loss=6.68e+3]\n"
     ]
    },
    {
     "name": "stdout",
     "output_type": "stream",
     "text": [
      "Epoch [133/3000]: Train loss: 7647.2277, Valid loss: 7600.5107\n"
     ]
    },
    {
     "name": "stderr",
     "output_type": "stream",
     "text": [
      "Epoch [134/3000]: 100%|██████████| 15/15 [00:00<00:00, 160.76it/s, loss=6.96e+3]\n"
     ]
    },
    {
     "name": "stdout",
     "output_type": "stream",
     "text": [
      "Epoch [134/3000]: Train loss: 7658.0704, Valid loss: 8272.3728\n"
     ]
    },
    {
     "name": "stderr",
     "output_type": "stream",
     "text": [
      "Epoch [135/3000]: 100%|██████████| 15/15 [00:00<00:00, 372.08it/s, loss=6.55e+3]\n"
     ]
    },
    {
     "name": "stdout",
     "output_type": "stream",
     "text": [
      "Epoch [135/3000]: Train loss: 7639.9238, Valid loss: 7660.7309\n"
     ]
    },
    {
     "name": "stderr",
     "output_type": "stream",
     "text": [
      "Epoch [136/3000]: 100%|██████████| 15/15 [00:00<00:00, 352.20it/s, loss=6.76e+3]\n"
     ]
    },
    {
     "name": "stdout",
     "output_type": "stream",
     "text": [
      "Epoch [136/3000]: Train loss: 7648.2143, Valid loss: 7883.5905\n"
     ]
    },
    {
     "name": "stderr",
     "output_type": "stream",
     "text": [
      "Epoch [137/3000]: 100%|██████████| 15/15 [00:00<00:00, 323.28it/s, loss=1.03e+4]\n"
     ]
    },
    {
     "name": "stdout",
     "output_type": "stream",
     "text": [
      "Epoch [137/3000]: Train loss: 7794.9384, Valid loss: 8139.4516\n"
     ]
    },
    {
     "name": "stderr",
     "output_type": "stream",
     "text": [
      "Epoch [138/3000]: 100%|██████████| 15/15 [00:00<00:00, 203.49it/s, loss=7.14e+3]\n"
     ]
    },
    {
     "name": "stdout",
     "output_type": "stream",
     "text": [
      "Epoch [138/3000]: Train loss: 7662.6223, Valid loss: 7552.9842\n"
     ]
    },
    {
     "name": "stderr",
     "output_type": "stream",
     "text": [
      "Epoch [139/3000]: 100%|██████████| 15/15 [00:00<00:00, 334.12it/s, loss=5.43e+3]\n"
     ]
    },
    {
     "name": "stdout",
     "output_type": "stream",
     "text": [
      "Epoch [139/3000]: Train loss: 7590.1707, Valid loss: 7767.1239\n"
     ]
    },
    {
     "name": "stderr",
     "output_type": "stream",
     "text": [
      "Epoch [140/3000]: 100%|██████████| 15/15 [00:00<00:00, 379.35it/s, loss=5.25e+3]\n"
     ]
    },
    {
     "name": "stdout",
     "output_type": "stream",
     "text": [
      "Epoch [140/3000]: Train loss: 7582.2681, Valid loss: 7960.2492\n"
     ]
    },
    {
     "name": "stderr",
     "output_type": "stream",
     "text": [
      "Epoch [141/3000]: 100%|██████████| 15/15 [00:00<00:00, 378.03it/s, loss=4.91e+3]\n"
     ]
    },
    {
     "name": "stdout",
     "output_type": "stream",
     "text": [
      "Epoch [141/3000]: Train loss: 7567.4300, Valid loss: 7837.3248\n"
     ]
    },
    {
     "name": "stderr",
     "output_type": "stream",
     "text": [
      "Epoch [142/3000]: 100%|██████████| 15/15 [00:00<00:00, 369.58it/s, loss=7.72e+3]\n"
     ]
    },
    {
     "name": "stdout",
     "output_type": "stream",
     "text": [
      "Epoch [142/3000]: Train loss: 7684.5455, Valid loss: 7892.1752\n"
     ]
    },
    {
     "name": "stderr",
     "output_type": "stream",
     "text": [
      "Epoch [143/3000]: 100%|██████████| 15/15 [00:00<00:00, 378.72it/s, loss=3.97e+3]\n"
     ]
    },
    {
     "name": "stdout",
     "output_type": "stream",
     "text": [
      "Epoch [143/3000]: Train loss: 7526.8623, Valid loss: 7862.1095\n"
     ]
    },
    {
     "name": "stderr",
     "output_type": "stream",
     "text": [
      "Epoch [144/3000]: 100%|██████████| 15/15 [00:00<00:00, 170.17it/s, loss=8.29e+3]\n"
     ]
    },
    {
     "name": "stdout",
     "output_type": "stream",
     "text": [
      "Epoch [144/3000]: Train loss: 7707.3916, Valid loss: 8028.0812\n"
     ]
    },
    {
     "name": "stderr",
     "output_type": "stream",
     "text": [
      "Epoch [145/3000]: 100%|██████████| 15/15 [00:00<00:00, 372.62it/s, loss=8.57e+3]\n"
     ]
    },
    {
     "name": "stdout",
     "output_type": "stream",
     "text": [
      "Epoch [145/3000]: Train loss: 7718.3773, Valid loss: 8445.7610\n"
     ]
    },
    {
     "name": "stderr",
     "output_type": "stream",
     "text": [
      "Epoch [146/3000]: 100%|██████████| 15/15 [00:00<00:00, 374.22it/s, loss=1.02e+4]\n"
     ]
    },
    {
     "name": "stdout",
     "output_type": "stream",
     "text": [
      "Epoch [146/3000]: Train loss: 7785.5370, Valid loss: 8332.1357\n"
     ]
    },
    {
     "name": "stderr",
     "output_type": "stream",
     "text": [
      "Epoch [147/3000]: 100%|██████████| 15/15 [00:00<00:00, 382.30it/s, loss=5.88e+3]\n"
     ]
    },
    {
     "name": "stdout",
     "output_type": "stream",
     "text": [
      "Epoch [147/3000]: Train loss: 7604.5311, Valid loss: 7943.8966\n"
     ]
    },
    {
     "name": "stderr",
     "output_type": "stream",
     "text": [
      "Epoch [148/3000]: 100%|██████████| 15/15 [00:00<00:00, 391.23it/s, loss=8.82e+3]\n"
     ]
    },
    {
     "name": "stdout",
     "output_type": "stream",
     "text": [
      "Epoch [148/3000]: Train loss: 7727.3080, Valid loss: 8594.4521\n"
     ]
    },
    {
     "name": "stderr",
     "output_type": "stream",
     "text": [
      "Epoch [149/3000]: 100%|██████████| 15/15 [00:00<00:00, 372.31it/s, loss=6.75e+3]\n"
     ]
    },
    {
     "name": "stdout",
     "output_type": "stream",
     "text": [
      "Epoch [149/3000]: Train loss: 7640.0399, Valid loss: 7711.4464\n"
     ]
    },
    {
     "name": "stderr",
     "output_type": "stream",
     "text": [
      "Epoch [150/3000]: 100%|██████████| 15/15 [00:00<00:00, 197.18it/s, loss=8.59e+3]\n"
     ]
    },
    {
     "name": "stdout",
     "output_type": "stream",
     "text": [
      "Epoch [150/3000]: Train loss: 7716.6383, Valid loss: 7623.8447\n"
     ]
    },
    {
     "name": "stderr",
     "output_type": "stream",
     "text": [
      "Epoch [151/3000]: 100%|██████████| 15/15 [00:00<00:00, 277.97it/s, loss=9.98e+3]\n"
     ]
    },
    {
     "name": "stdout",
     "output_type": "stream",
     "text": [
      "Epoch [151/3000]: Train loss: 7774.5497, Valid loss: 8363.4469\n"
     ]
    },
    {
     "name": "stderr",
     "output_type": "stream",
     "text": [
      "Epoch [152/3000]: 100%|██████████| 15/15 [00:00<00:00, 377.48it/s, loss=9.19e+3]\n"
     ]
    },
    {
     "name": "stdout",
     "output_type": "stream",
     "text": [
      "Epoch [152/3000]: Train loss: 7740.6642, Valid loss: 8575.7624\n"
     ]
    },
    {
     "name": "stderr",
     "output_type": "stream",
     "text": [
      "Epoch [153/3000]: 100%|██████████| 15/15 [00:00<00:00, 381.57it/s, loss=6.24e+3]\n"
     ]
    },
    {
     "name": "stdout",
     "output_type": "stream",
     "text": [
      "Epoch [153/3000]: Train loss: 7616.3871, Valid loss: 7773.8696\n"
     ]
    },
    {
     "name": "stderr",
     "output_type": "stream",
     "text": [
      "Epoch [154/3000]: 100%|██████████| 15/15 [00:00<00:00, 377.46it/s, loss=4e+3]\n"
     ]
    },
    {
     "name": "stdout",
     "output_type": "stream",
     "text": [
      "Epoch [154/3000]: Train loss: 7522.0313, Valid loss: 8279.4272\n"
     ]
    },
    {
     "name": "stderr",
     "output_type": "stream",
     "text": [
      "Epoch [155/3000]: 100%|██████████| 15/15 [00:00<00:00, 374.44it/s, loss=1.18e+4]\n"
     ]
    },
    {
     "name": "stdout",
     "output_type": "stream",
     "text": [
      "Epoch [155/3000]: Train loss: 7849.0388, Valid loss: 7987.7230\n"
     ]
    },
    {
     "name": "stderr",
     "output_type": "stream",
     "text": [
      "Epoch [156/3000]: 100%|██████████| 15/15 [00:00<00:00, 219.82it/s, loss=8.95e+3]\n"
     ]
    },
    {
     "name": "stdout",
     "output_type": "stream",
     "text": [
      "Epoch [156/3000]: Train loss: 7728.9581, Valid loss: 7896.2277\n"
     ]
    },
    {
     "name": "stderr",
     "output_type": "stream",
     "text": [
      "Epoch [157/3000]: 100%|██████████| 15/15 [00:00<00:00, 324.73it/s, loss=7.26e+3]\n"
     ]
    },
    {
     "name": "stdout",
     "output_type": "stream",
     "text": [
      "Epoch [157/3000]: Train loss: 7657.7210, Valid loss: 8170.7451\n"
     ]
    },
    {
     "name": "stderr",
     "output_type": "stream",
     "text": [
      "Epoch [158/3000]: 100%|██████████| 15/15 [00:00<00:00, 300.05it/s, loss=1.01e+4]\n"
     ]
    },
    {
     "name": "stdout",
     "output_type": "stream",
     "text": [
      "Epoch [158/3000]: Train loss: 7777.8570, Valid loss: 7993.4595\n"
     ]
    },
    {
     "name": "stderr",
     "output_type": "stream",
     "text": [
      "Epoch [159/3000]: 100%|██████████| 15/15 [00:00<00:00, 363.00it/s, loss=7.15e+3]\n"
     ]
    },
    {
     "name": "stdout",
     "output_type": "stream",
     "text": [
      "Epoch [159/3000]: Train loss: 7652.3701, Valid loss: 8356.4509\n"
     ]
    },
    {
     "name": "stderr",
     "output_type": "stream",
     "text": [
      "Epoch [160/3000]: 100%|██████████| 15/15 [00:00<00:00, 375.12it/s, loss=7.93e+3]\n"
     ]
    },
    {
     "name": "stdout",
     "output_type": "stream",
     "text": [
      "Epoch [160/3000]: Train loss: 7684.6706, Valid loss: 7896.4579\n"
     ]
    },
    {
     "name": "stderr",
     "output_type": "stream",
     "text": [
      "Epoch [161/3000]: 100%|██████████| 15/15 [00:00<00:00, 372.56it/s, loss=7.59e+3]\n"
     ]
    },
    {
     "name": "stdout",
     "output_type": "stream",
     "text": [
      "Epoch [161/3000]: Train loss: 7670.1130, Valid loss: 8429.1400\n"
     ]
    },
    {
     "name": "stderr",
     "output_type": "stream",
     "text": [
      "Epoch [162/3000]: 100%|██████████| 15/15 [00:00<00:00, 214.34it/s, loss=1.02e+4]\n"
     ]
    },
    {
     "name": "stdout",
     "output_type": "stream",
     "text": [
      "Epoch [162/3000]: Train loss: 7778.1887, Valid loss: 8311.5148\n"
     ]
    },
    {
     "name": "stderr",
     "output_type": "stream",
     "text": [
      "Epoch [163/3000]: 100%|██████████| 15/15 [00:00<00:00, 331.12it/s, loss=7.25e+3]\n"
     ]
    },
    {
     "name": "stdout",
     "output_type": "stream",
     "text": [
      "Epoch [163/3000]: Train loss: 7655.1725, Valid loss: 8240.8272\n"
     ]
    },
    {
     "name": "stderr",
     "output_type": "stream",
     "text": [
      "Epoch [164/3000]: 100%|██████████| 15/15 [00:00<00:00, 359.41it/s, loss=9.73e+3]\n"
     ]
    },
    {
     "name": "stdout",
     "output_type": "stream",
     "text": [
      "Epoch [164/3000]: Train loss: 7758.6102, Valid loss: 8450.1364\n"
     ]
    },
    {
     "name": "stderr",
     "output_type": "stream",
     "text": [
      "Epoch [165/3000]: 100%|██████████| 15/15 [00:00<00:00, 357.20it/s, loss=4.25e+3]\n"
     ]
    },
    {
     "name": "stdout",
     "output_type": "stream",
     "text": [
      "Epoch [165/3000]: Train loss: 7528.7027, Valid loss: 7843.2889\n"
     ]
    },
    {
     "name": "stderr",
     "output_type": "stream",
     "text": [
      "Epoch [166/3000]: 100%|██████████| 15/15 [00:00<00:00, 307.83it/s, loss=6.09e+3]\n"
     ]
    },
    {
     "name": "stdout",
     "output_type": "stream",
     "text": [
      "Epoch [166/3000]: Train loss: 7605.3809, Valid loss: 7793.5294\n"
     ]
    },
    {
     "name": "stderr",
     "output_type": "stream",
     "text": [
      "Epoch [167/3000]: 100%|██████████| 15/15 [00:00<00:00, 353.55it/s, loss=9.63e+3]\n"
     ]
    },
    {
     "name": "stdout",
     "output_type": "stream",
     "text": [
      "Epoch [167/3000]: Train loss: 7753.6778, Valid loss: 8354.7503\n"
     ]
    },
    {
     "name": "stderr",
     "output_type": "stream",
     "text": [
      "Epoch [168/3000]: 100%|██████████| 15/15 [00:00<00:00, 324.32it/s, loss=8.2e+3]\n"
     ]
    },
    {
     "name": "stdout",
     "output_type": "stream",
     "text": [
      "Epoch [168/3000]: Train loss: 7693.0352, Valid loss: 8345.5836\n"
     ]
    },
    {
     "name": "stderr",
     "output_type": "stream",
     "text": [
      "Epoch [169/3000]: 100%|██████████| 15/15 [00:00<00:00, 176.78it/s, loss=1.31e+4]\n"
     ]
    },
    {
     "name": "stdout",
     "output_type": "stream",
     "text": [
      "Epoch [169/3000]: Train loss: 7898.8172, Valid loss: 7589.1620\n"
     ]
    },
    {
     "name": "stderr",
     "output_type": "stream",
     "text": [
      "Epoch [170/3000]: 100%|██████████| 15/15 [00:00<00:00, 317.13it/s, loss=1.07e+4]\n"
     ]
    },
    {
     "name": "stdout",
     "output_type": "stream",
     "text": [
      "Epoch [170/3000]: Train loss: 7797.6001, Valid loss: 7397.4193\n",
      "Saving model with loss 7397.419...\n"
     ]
    },
    {
     "name": "stderr",
     "output_type": "stream",
     "text": [
      "Epoch [171/3000]: 100%|██████████| 15/15 [00:00<00:00, 352.15it/s, loss=8.84e+3]\n"
     ]
    },
    {
     "name": "stdout",
     "output_type": "stream",
     "text": [
      "Epoch [171/3000]: Train loss: 7719.0331, Valid loss: 7656.8546\n"
     ]
    },
    {
     "name": "stderr",
     "output_type": "stream",
     "text": [
      "Epoch [172/3000]: 100%|██████████| 15/15 [00:00<00:00, 348.49it/s, loss=8.49e+3]\n"
     ]
    },
    {
     "name": "stdout",
     "output_type": "stream",
     "text": [
      "Epoch [172/3000]: Train loss: 7704.1336, Valid loss: 7895.2807\n"
     ]
    },
    {
     "name": "stderr",
     "output_type": "stream",
     "text": [
      "Epoch [173/3000]: 100%|██████████| 15/15 [00:00<00:00, 346.63it/s, loss=5.42e+3]\n"
     ]
    },
    {
     "name": "stdout",
     "output_type": "stream",
     "text": [
      "Epoch [173/3000]: Train loss: 7575.5075, Valid loss: 8889.0737\n"
     ]
    },
    {
     "name": "stderr",
     "output_type": "stream",
     "text": [
      "Epoch [174/3000]: 100%|██████████| 15/15 [00:00<00:00, 351.02it/s, loss=1.13e+4]\n"
     ]
    },
    {
     "name": "stdout",
     "output_type": "stream",
     "text": [
      "Epoch [174/3000]: Train loss: 7822.2389, Valid loss: 8284.1635\n"
     ]
    },
    {
     "name": "stderr",
     "output_type": "stream",
     "text": [
      "Epoch [175/3000]: 100%|██████████| 15/15 [00:00<00:00, 356.98it/s, loss=4.7e+3]\n"
     ]
    },
    {
     "name": "stdout",
     "output_type": "stream",
     "text": [
      "Epoch [175/3000]: Train loss: 7544.7880, Valid loss: 8708.5181\n"
     ]
    },
    {
     "name": "stderr",
     "output_type": "stream",
     "text": [
      "Epoch [176/3000]: 100%|██████████| 15/15 [00:00<00:00, 361.03it/s, loss=4.95e+3]\n"
     ]
    },
    {
     "name": "stdout",
     "output_type": "stream",
     "text": [
      "Epoch [176/3000]: Train loss: 7554.6786, Valid loss: 8053.9301\n"
     ]
    },
    {
     "name": "stderr",
     "output_type": "stream",
     "text": [
      "Epoch [177/3000]: 100%|██████████| 15/15 [00:00<00:00, 162.02it/s, loss=7.66e+3]\n"
     ]
    },
    {
     "name": "stdout",
     "output_type": "stream",
     "text": [
      "Epoch [177/3000]: Train loss: 7668.2629, Valid loss: 8070.9533\n"
     ]
    },
    {
     "name": "stderr",
     "output_type": "stream",
     "text": [
      "Epoch [178/3000]: 100%|██████████| 15/15 [00:00<00:00, 324.51it/s, loss=5.67e+3]\n"
     ]
    },
    {
     "name": "stdout",
     "output_type": "stream",
     "text": [
      "Epoch [178/3000]: Train loss: 7584.7783, Valid loss: 7823.0905\n"
     ]
    },
    {
     "name": "stderr",
     "output_type": "stream",
     "text": [
      "Epoch [179/3000]: 100%|██████████| 15/15 [00:00<00:00, 321.56it/s, loss=7.26e+3]\n"
     ]
    },
    {
     "name": "stdout",
     "output_type": "stream",
     "text": [
      "Epoch [179/3000]: Train loss: 7651.1855, Valid loss: 8004.0262\n"
     ]
    },
    {
     "name": "stderr",
     "output_type": "stream",
     "text": [
      "Epoch [180/3000]: 100%|██████████| 15/15 [00:00<00:00, 297.64it/s, loss=6.32e+3]\n"
     ]
    },
    {
     "name": "stdout",
     "output_type": "stream",
     "text": [
      "Epoch [180/3000]: Train loss: 7611.6379, Valid loss: 8827.9652\n"
     ]
    },
    {
     "name": "stderr",
     "output_type": "stream",
     "text": [
      "Epoch [181/3000]: 100%|██████████| 15/15 [00:00<00:00, 388.03it/s, loss=5.88e+3]\n"
     ]
    },
    {
     "name": "stdout",
     "output_type": "stream",
     "text": [
      "Epoch [181/3000]: Train loss: 7592.6838, Valid loss: 8097.5620\n"
     ]
    },
    {
     "name": "stderr",
     "output_type": "stream",
     "text": [
      "Epoch [182/3000]: 100%|██████████| 15/15 [00:00<00:00, 344.64it/s, loss=5.04e+3]\n"
     ]
    },
    {
     "name": "stdout",
     "output_type": "stream",
     "text": [
      "Epoch [182/3000]: Train loss: 7557.5368, Valid loss: 7710.1612\n"
     ]
    },
    {
     "name": "stderr",
     "output_type": "stream",
     "text": [
      "Epoch [183/3000]: 100%|██████████| 15/15 [00:00<00:00, 377.27it/s, loss=1.18e+4]\n"
     ]
    },
    {
     "name": "stdout",
     "output_type": "stream",
     "text": [
      "Epoch [183/3000]: Train loss: 7840.0156, Valid loss: 8560.9777\n"
     ]
    },
    {
     "name": "stderr",
     "output_type": "stream",
     "text": [
      "Epoch [184/3000]: 100%|██████████| 15/15 [00:00<00:00, 202.92it/s, loss=9.66e+3]\n"
     ]
    },
    {
     "name": "stdout",
     "output_type": "stream",
     "text": [
      "Epoch [184/3000]: Train loss: 7750.7733, Valid loss: 7759.9375\n"
     ]
    },
    {
     "name": "stderr",
     "output_type": "stream",
     "text": [
      "Epoch [185/3000]: 100%|██████████| 15/15 [00:00<00:00, 353.83it/s, loss=9.94e+3]\n"
     ]
    },
    {
     "name": "stdout",
     "output_type": "stream",
     "text": [
      "Epoch [185/3000]: Train loss: 7762.3911, Valid loss: 8096.6375\n"
     ]
    },
    {
     "name": "stderr",
     "output_type": "stream",
     "text": [
      "Epoch [186/3000]: 100%|██████████| 15/15 [00:00<00:00, 372.09it/s, loss=1.25e+4]\n"
     ]
    },
    {
     "name": "stdout",
     "output_type": "stream",
     "text": [
      "Epoch [186/3000]: Train loss: 7870.9584, Valid loss: 8492.8209\n"
     ]
    },
    {
     "name": "stderr",
     "output_type": "stream",
     "text": [
      "Epoch [187/3000]: 100%|██████████| 15/15 [00:00<00:00, 283.78it/s, loss=8.01e+3]\n"
     ]
    },
    {
     "name": "stdout",
     "output_type": "stream",
     "text": [
      "Epoch [187/3000]: Train loss: 7680.8831, Valid loss: 9113.7194\n"
     ]
    },
    {
     "name": "stderr",
     "output_type": "stream",
     "text": [
      "Epoch [188/3000]: 100%|██████████| 15/15 [00:00<00:00, 378.02it/s, loss=1.12e+4]\n"
     ]
    },
    {
     "name": "stdout",
     "output_type": "stream",
     "text": [
      "Epoch [188/3000]: Train loss: 7816.0423, Valid loss: 8018.4969\n"
     ]
    },
    {
     "name": "stderr",
     "output_type": "stream",
     "text": [
      "Epoch [189/3000]: 100%|██████████| 15/15 [00:00<00:00, 356.11it/s, loss=6.09e+3]\n"
     ]
    },
    {
     "name": "stdout",
     "output_type": "stream",
     "text": [
      "Epoch [189/3000]: Train loss: 7600.1365, Valid loss: 7899.9549\n"
     ]
    },
    {
     "name": "stderr",
     "output_type": "stream",
     "text": [
      "Epoch [190/3000]: 100%|██████████| 15/15 [00:00<00:00, 204.99it/s, loss=6.57e+3]\n"
     ]
    },
    {
     "name": "stdout",
     "output_type": "stream",
     "text": [
      "Epoch [190/3000]: Train loss: 7620.0981, Valid loss: 7592.1649\n"
     ]
    },
    {
     "name": "stderr",
     "output_type": "stream",
     "text": [
      "Epoch [191/3000]: 100%|██████████| 15/15 [00:00<00:00, 339.45it/s, loss=7.89e+3]\n"
     ]
    },
    {
     "name": "stdout",
     "output_type": "stream",
     "text": [
      "Epoch [191/3000]: Train loss: 7675.4044, Valid loss: 7990.1198\n"
     ]
    },
    {
     "name": "stderr",
     "output_type": "stream",
     "text": [
      "Epoch [192/3000]: 100%|██████████| 15/15 [00:00<00:00, 362.88it/s, loss=5.01e+3]\n"
     ]
    },
    {
     "name": "stdout",
     "output_type": "stream",
     "text": [
      "Epoch [192/3000]: Train loss: 7554.5073, Valid loss: 8536.4713\n"
     ]
    },
    {
     "name": "stderr",
     "output_type": "stream",
     "text": [
      "Epoch [193/3000]: 100%|██████████| 15/15 [00:00<00:00, 364.65it/s, loss=5.7e+3]\n"
     ]
    },
    {
     "name": "stdout",
     "output_type": "stream",
     "text": [
      "Epoch [193/3000]: Train loss: 7583.4703, Valid loss: 7683.5259\n"
     ]
    },
    {
     "name": "stderr",
     "output_type": "stream",
     "text": [
      "Epoch [194/3000]: 100%|██████████| 15/15 [00:00<00:00, 367.52it/s, loss=5e+3]\n"
     ]
    },
    {
     "name": "stdout",
     "output_type": "stream",
     "text": [
      "Epoch [194/3000]: Train loss: 7554.0678, Valid loss: 8529.4438\n"
     ]
    },
    {
     "name": "stderr",
     "output_type": "stream",
     "text": [
      "Epoch [195/3000]: 100%|██████████| 15/15 [00:00<00:00, 316.24it/s, loss=4.82e+3]\n"
     ]
    },
    {
     "name": "stdout",
     "output_type": "stream",
     "text": [
      "Epoch [195/3000]: Train loss: 7546.2957, Valid loss: 8451.9678\n"
     ]
    },
    {
     "name": "stderr",
     "output_type": "stream",
     "text": [
      "Epoch [196/3000]: 100%|██████████| 15/15 [00:00<00:00, 373.26it/s, loss=8.34e+3]\n"
     ]
    },
    {
     "name": "stdout",
     "output_type": "stream",
     "text": [
      "Epoch [196/3000]: Train loss: 7693.7792, Valid loss: 8554.2070\n"
     ]
    },
    {
     "name": "stderr",
     "output_type": "stream",
     "text": [
      "Epoch [197/3000]: 100%|██████████| 15/15 [00:00<00:00, 211.55it/s, loss=6.99e+3]\n"
     ]
    },
    {
     "name": "stdout",
     "output_type": "stream",
     "text": [
      "Epoch [197/3000]: Train loss: 7636.8573, Valid loss: 8298.4470\n"
     ]
    },
    {
     "name": "stderr",
     "output_type": "stream",
     "text": [
      "Epoch [198/3000]: 100%|██████████| 15/15 [00:00<00:00, 319.95it/s, loss=6.97e+3]\n"
     ]
    },
    {
     "name": "stdout",
     "output_type": "stream",
     "text": [
      "Epoch [198/3000]: Train loss: 7636.1201, Valid loss: 7729.7471\n"
     ]
    },
    {
     "name": "stderr",
     "output_type": "stream",
     "text": [
      "Epoch [199/3000]: 100%|██████████| 15/15 [00:00<00:00, 361.12it/s, loss=5.94e+3]\n"
     ]
    },
    {
     "name": "stdout",
     "output_type": "stream",
     "text": [
      "Epoch [199/3000]: Train loss: 7592.7234, Valid loss: 8641.3784\n"
     ]
    },
    {
     "name": "stderr",
     "output_type": "stream",
     "text": [
      "Epoch [200/3000]: 100%|██████████| 15/15 [00:00<00:00, 369.26it/s, loss=5.59e+3]\n"
     ]
    },
    {
     "name": "stdout",
     "output_type": "stream",
     "text": [
      "Epoch [200/3000]: Train loss: 7577.8453, Valid loss: 8002.1489\n"
     ]
    },
    {
     "name": "stderr",
     "output_type": "stream",
     "text": [
      "Epoch [201/3000]: 100%|██████████| 15/15 [00:00<00:00, 377.12it/s, loss=5.96e+3]\n"
     ]
    },
    {
     "name": "stdout",
     "output_type": "stream",
     "text": [
      "Epoch [201/3000]: Train loss: 7593.3463, Valid loss: 7731.5365\n"
     ]
    },
    {
     "name": "stderr",
     "output_type": "stream",
     "text": [
      "Epoch [202/3000]: 100%|██████████| 15/15 [00:00<00:00, 364.00it/s, loss=4.46e+3]\n"
     ]
    },
    {
     "name": "stdout",
     "output_type": "stream",
     "text": [
      "Epoch [202/3000]: Train loss: 7530.3655, Valid loss: 8487.6113\n"
     ]
    },
    {
     "name": "stderr",
     "output_type": "stream",
     "text": [
      "Epoch [203/3000]: 100%|██████████| 15/15 [00:00<00:00, 156.54it/s, loss=5.06e+3]\n"
     ]
    },
    {
     "name": "stdout",
     "output_type": "stream",
     "text": [
      "Epoch [203/3000]: Train loss: 7555.5504, Valid loss: 7687.5794\n"
     ]
    },
    {
     "name": "stderr",
     "output_type": "stream",
     "text": [
      "Epoch [204/3000]: 100%|██████████| 15/15 [00:00<00:00, 377.51it/s, loss=8.67e+3]\n"
     ]
    },
    {
     "name": "stdout",
     "output_type": "stream",
     "text": [
      "Epoch [204/3000]: Train loss: 7706.6658, Valid loss: 7719.2992\n"
     ]
    },
    {
     "name": "stderr",
     "output_type": "stream",
     "text": [
      "Epoch [205/3000]: 100%|██████████| 15/15 [00:00<00:00, 393.63it/s, loss=7.72e+3]\n"
     ]
    },
    {
     "name": "stdout",
     "output_type": "stream",
     "text": [
      "Epoch [205/3000]: Train loss: 7666.6344, Valid loss: 8232.2255\n"
     ]
    },
    {
     "name": "stderr",
     "output_type": "stream",
     "text": [
      "Epoch [206/3000]: 100%|██████████| 15/15 [00:00<00:00, 379.60it/s, loss=8.25e+3]\n"
     ]
    },
    {
     "name": "stdout",
     "output_type": "stream",
     "text": [
      "Epoch [206/3000]: Train loss: 7688.9339, Valid loss: 7818.8092\n"
     ]
    },
    {
     "name": "stderr",
     "output_type": "stream",
     "text": [
      "Epoch [207/3000]: 100%|██████████| 15/15 [00:00<00:00, 378.23it/s, loss=7.02e+3]\n"
     ]
    },
    {
     "name": "stdout",
     "output_type": "stream",
     "text": [
      "Epoch [207/3000]: Train loss: 7637.2286, Valid loss: 7543.6168\n"
     ]
    },
    {
     "name": "stderr",
     "output_type": "stream",
     "text": [
      "Epoch [208/3000]: 100%|██████████| 15/15 [00:00<00:00, 375.00it/s, loss=7.22e+3]\n"
     ]
    },
    {
     "name": "stdout",
     "output_type": "stream",
     "text": [
      "Epoch [208/3000]: Train loss: 7645.3463, Valid loss: 7880.3474\n"
     ]
    },
    {
     "name": "stderr",
     "output_type": "stream",
     "text": [
      "Epoch [209/3000]: 100%|██████████| 15/15 [00:00<00:00, 214.63it/s, loss=6.54e+3]\n"
     ]
    },
    {
     "name": "stdout",
     "output_type": "stream",
     "text": [
      "Epoch [209/3000]: Train loss: 7616.8515, Valid loss: 8450.6686\n"
     ]
    },
    {
     "name": "stderr",
     "output_type": "stream",
     "text": [
      "Epoch [210/3000]: 100%|██████████| 15/15 [00:00<00:00, 312.62it/s, loss=6.59e+3]\n"
     ]
    },
    {
     "name": "stdout",
     "output_type": "stream",
     "text": [
      "Epoch [210/3000]: Train loss: 7618.8955, Valid loss: 7779.7960\n"
     ]
    },
    {
     "name": "stderr",
     "output_type": "stream",
     "text": [
      "Epoch [211/3000]: 100%|██████████| 15/15 [00:00<00:00, 161.27it/s, loss=7.94e+3]\n"
     ]
    },
    {
     "name": "stdout",
     "output_type": "stream",
     "text": [
      "Epoch [211/3000]: Train loss: 7675.4542, Valid loss: 8043.9613\n"
     ]
    },
    {
     "name": "stderr",
     "output_type": "stream",
     "text": [
      "Epoch [212/3000]: 100%|██████████| 15/15 [00:00<00:00, 386.21it/s, loss=6.99e+3]\n"
     ]
    },
    {
     "name": "stdout",
     "output_type": "stream",
     "text": [
      "Epoch [212/3000]: Train loss: 7635.5271, Valid loss: 8228.6828\n"
     ]
    },
    {
     "name": "stderr",
     "output_type": "stream",
     "text": [
      "Epoch [213/3000]: 100%|██████████| 15/15 [00:00<00:00, 381.00it/s, loss=7.66e+3]\n"
     ]
    },
    {
     "name": "stdout",
     "output_type": "stream",
     "text": [
      "Epoch [213/3000]: Train loss: 7663.4183, Valid loss: 9140.1824\n"
     ]
    },
    {
     "name": "stderr",
     "output_type": "stream",
     "text": [
      "Epoch [214/3000]: 100%|██████████| 15/15 [00:00<00:00, 376.86it/s, loss=8.09e+3]\n"
     ]
    },
    {
     "name": "stdout",
     "output_type": "stream",
     "text": [
      "Epoch [214/3000]: Train loss: 7681.6360, Valid loss: 7756.1070\n"
     ]
    },
    {
     "name": "stderr",
     "output_type": "stream",
     "text": [
      "Epoch [215/3000]: 100%|██████████| 15/15 [00:00<00:00, 202.85it/s, loss=9.88e+3]\n"
     ]
    },
    {
     "name": "stdout",
     "output_type": "stream",
     "text": [
      "Epoch [215/3000]: Train loss: 7756.6337, Valid loss: 7992.4271\n"
     ]
    },
    {
     "name": "stderr",
     "output_type": "stream",
     "text": [
      "Epoch [216/3000]: 100%|██████████| 15/15 [00:00<00:00, 353.56it/s, loss=6.78e+3]\n"
     ]
    },
    {
     "name": "stdout",
     "output_type": "stream",
     "text": [
      "Epoch [216/3000]: Train loss: 7626.2727, Valid loss: 7632.1396\n"
     ]
    },
    {
     "name": "stderr",
     "output_type": "stream",
     "text": [
      "Epoch [217/3000]: 100%|██████████| 15/15 [00:00<00:00, 383.21it/s, loss=6.53e+3]\n"
     ]
    },
    {
     "name": "stdout",
     "output_type": "stream",
     "text": [
      "Epoch [217/3000]: Train loss: 7615.9187, Valid loss: 8245.4179\n"
     ]
    },
    {
     "name": "stderr",
     "output_type": "stream",
     "text": [
      "Epoch [218/3000]: 100%|██████████| 15/15 [00:00<00:00, 287.90it/s, loss=8.17e+3]\n"
     ]
    },
    {
     "name": "stdout",
     "output_type": "stream",
     "text": [
      "Epoch [218/3000]: Train loss: 7684.3778, Valid loss: 7674.8678\n"
     ]
    },
    {
     "name": "stderr",
     "output_type": "stream",
     "text": [
      "Epoch [219/3000]: 100%|██████████| 15/15 [00:00<00:00, 392.82it/s, loss=6.39e+3]\n"
     ]
    },
    {
     "name": "stdout",
     "output_type": "stream",
     "text": [
      "Epoch [219/3000]: Train loss: 7609.9140, Valid loss: 8477.6399\n"
     ]
    },
    {
     "name": "stderr",
     "output_type": "stream",
     "text": [
      "Epoch [220/3000]: 100%|██████████| 15/15 [00:00<00:00, 395.21it/s, loss=3.65e+3]\n"
     ]
    },
    {
     "name": "stdout",
     "output_type": "stream",
     "text": [
      "Epoch [220/3000]: Train loss: 7494.9623, Valid loss: 8706.2061\n"
     ]
    },
    {
     "name": "stderr",
     "output_type": "stream",
     "text": [
      "Epoch [221/3000]: 100%|██████████| 15/15 [00:00<00:00, 375.85it/s, loss=6.72e+3]\n"
     ]
    },
    {
     "name": "stdout",
     "output_type": "stream",
     "text": [
      "Epoch [221/3000]: Train loss: 7623.3349, Valid loss: 8801.1134\n"
     ]
    },
    {
     "name": "stderr",
     "output_type": "stream",
     "text": [
      "Epoch [222/3000]: 100%|██████████| 15/15 [00:00<00:00, 190.95it/s, loss=6.82e+3]\n"
     ]
    },
    {
     "name": "stdout",
     "output_type": "stream",
     "text": [
      "Epoch [222/3000]: Train loss: 7627.4983, Valid loss: 7723.6874\n"
     ]
    },
    {
     "name": "stderr",
     "output_type": "stream",
     "text": [
      "Epoch [223/3000]: 100%|██████████| 15/15 [00:00<00:00, 355.52it/s, loss=1.01e+4]\n"
     ]
    },
    {
     "name": "stdout",
     "output_type": "stream",
     "text": [
      "Epoch [223/3000]: Train loss: 7767.0701, Valid loss: 8922.7924\n"
     ]
    },
    {
     "name": "stderr",
     "output_type": "stream",
     "text": [
      "Epoch [224/3000]: 100%|██████████| 15/15 [00:00<00:00, 394.90it/s, loss=1.01e+4]\n"
     ]
    },
    {
     "name": "stdout",
     "output_type": "stream",
     "text": [
      "Epoch [224/3000]: Train loss: 7765.4366, Valid loss: 8891.9097\n"
     ]
    },
    {
     "name": "stderr",
     "output_type": "stream",
     "text": [
      "Epoch [225/3000]: 100%|██████████| 15/15 [00:00<00:00, 368.18it/s, loss=5.34e+3]\n"
     ]
    },
    {
     "name": "stdout",
     "output_type": "stream",
     "text": [
      "Epoch [225/3000]: Train loss: 7565.2957, Valid loss: 8559.2457\n"
     ]
    },
    {
     "name": "stderr",
     "output_type": "stream",
     "text": [
      "Epoch [226/3000]: 100%|██████████| 15/15 [00:00<00:00, 312.27it/s, loss=6.25e+3]\n"
     ]
    },
    {
     "name": "stdout",
     "output_type": "stream",
     "text": [
      "Epoch [226/3000]: Train loss: 7603.6411, Valid loss: 7699.0749\n"
     ]
    },
    {
     "name": "stderr",
     "output_type": "stream",
     "text": [
      "Epoch [227/3000]: 100%|██████████| 15/15 [00:00<00:00, 364.31it/s, loss=1.34e+4]\n"
     ]
    },
    {
     "name": "stdout",
     "output_type": "stream",
     "text": [
      "Epoch [227/3000]: Train loss: 7903.7269, Valid loss: 8592.8313\n"
     ]
    },
    {
     "name": "stderr",
     "output_type": "stream",
     "text": [
      "Epoch [228/3000]: 100%|██████████| 15/15 [00:00<00:00, 389.23it/s, loss=9.56e+3]\n"
     ]
    },
    {
     "name": "stdout",
     "output_type": "stream",
     "text": [
      "Epoch [228/3000]: Train loss: 7742.3270, Valid loss: 8386.4136\n"
     ]
    },
    {
     "name": "stderr",
     "output_type": "stream",
     "text": [
      "Epoch [229/3000]: 100%|██████████| 15/15 [00:00<00:00, 382.28it/s, loss=7.97e+3]\n"
     ]
    },
    {
     "name": "stdout",
     "output_type": "stream",
     "text": [
      "Epoch [229/3000]: Train loss: 7675.7242, Valid loss: 8622.3648\n"
     ]
    },
    {
     "name": "stderr",
     "output_type": "stream",
     "text": [
      "Epoch [230/3000]: 100%|██████████| 15/15 [00:00<00:00, 235.67it/s, loss=7.03e+3]\n"
     ]
    },
    {
     "name": "stdout",
     "output_type": "stream",
     "text": [
      "Epoch [230/3000]: Train loss: 7636.1704, Valid loss: 8878.5439\n"
     ]
    },
    {
     "name": "stderr",
     "output_type": "stream",
     "text": [
      "Epoch [231/3000]: 100%|██████████| 15/15 [00:00<00:00, 323.67it/s, loss=7.48e+3]\n"
     ]
    },
    {
     "name": "stdout",
     "output_type": "stream",
     "text": [
      "Epoch [231/3000]: Train loss: 7654.7974, Valid loss: 8141.9906\n"
     ]
    },
    {
     "name": "stderr",
     "output_type": "stream",
     "text": [
      "Epoch [232/3000]: 100%|██████████| 15/15 [00:00<00:00, 396.53it/s, loss=8.4e+3]\n"
     ]
    },
    {
     "name": "stdout",
     "output_type": "stream",
     "text": [
      "Epoch [232/3000]: Train loss: 7693.4809, Valid loss: 7919.7711\n"
     ]
    },
    {
     "name": "stderr",
     "output_type": "stream",
     "text": [
      "Epoch [233/3000]: 100%|██████████| 15/15 [00:00<00:00, 379.49it/s, loss=6.03e+3]\n"
     ]
    },
    {
     "name": "stdout",
     "output_type": "stream",
     "text": [
      "Epoch [233/3000]: Train loss: 7594.0537, Valid loss: 7982.1009\n"
     ]
    },
    {
     "name": "stderr",
     "output_type": "stream",
     "text": [
      "Epoch [234/3000]: 100%|██████████| 15/15 [00:00<00:00, 397.94it/s, loss=7.23e+3]\n"
     ]
    },
    {
     "name": "stdout",
     "output_type": "stream",
     "text": [
      "Epoch [234/3000]: Train loss: 7644.4795, Valid loss: 7498.1038\n"
     ]
    },
    {
     "name": "stderr",
     "output_type": "stream",
     "text": [
      "Epoch [235/3000]: 100%|██████████| 15/15 [00:00<00:00, 349.84it/s, loss=5.82e+3]\n"
     ]
    },
    {
     "name": "stdout",
     "output_type": "stream",
     "text": [
      "Epoch [235/3000]: Train loss: 7585.2157, Valid loss: 8203.4982\n"
     ]
    },
    {
     "name": "stderr",
     "output_type": "stream",
     "text": [
      "Epoch [236/3000]: 100%|██████████| 15/15 [00:00<00:00, 401.11it/s, loss=6.01e+3]\n"
     ]
    },
    {
     "name": "stdout",
     "output_type": "stream",
     "text": [
      "Epoch [236/3000]: Train loss: 7592.8518, Valid loss: 7967.6567\n"
     ]
    },
    {
     "name": "stderr",
     "output_type": "stream",
     "text": [
      "Epoch [237/3000]: 100%|██████████| 15/15 [00:00<00:00, 225.66it/s, loss=9.73e+3]\n"
     ]
    },
    {
     "name": "stdout",
     "output_type": "stream",
     "text": [
      "Epoch [237/3000]: Train loss: 7749.1276, Valid loss: 7824.5981\n"
     ]
    },
    {
     "name": "stderr",
     "output_type": "stream",
     "text": [
      "Epoch [238/3000]: 100%|██████████| 15/15 [00:00<00:00, 329.14it/s, loss=8.3e+3]\n"
     ]
    },
    {
     "name": "stdout",
     "output_type": "stream",
     "text": [
      "Epoch [238/3000]: Train loss: 7688.9425, Valid loss: 7747.7843\n"
     ]
    },
    {
     "name": "stderr",
     "output_type": "stream",
     "text": [
      "Epoch [239/3000]: 100%|██████████| 15/15 [00:00<00:00, 380.88it/s, loss=1.12e+4]\n"
     ]
    },
    {
     "name": "stdout",
     "output_type": "stream",
     "text": [
      "Epoch [239/3000]: Train loss: 7809.2711, Valid loss: 8239.5221\n"
     ]
    },
    {
     "name": "stderr",
     "output_type": "stream",
     "text": [
      "Epoch [240/3000]: 100%|██████████| 15/15 [00:00<00:00, 394.08it/s, loss=7.01e+3]\n"
     ]
    },
    {
     "name": "stdout",
     "output_type": "stream",
     "text": [
      "Epoch [240/3000]: Train loss: 7634.9354, Valid loss: 8166.9086\n"
     ]
    },
    {
     "name": "stderr",
     "output_type": "stream",
     "text": [
      "Epoch [241/3000]: 100%|██████████| 15/15 [00:00<00:00, 389.28it/s, loss=7.41e+3]\n"
     ]
    },
    {
     "name": "stdout",
     "output_type": "stream",
     "text": [
      "Epoch [241/3000]: Train loss: 7651.7147, Valid loss: 8391.4252\n"
     ]
    },
    {
     "name": "stderr",
     "output_type": "stream",
     "text": [
      "Epoch [242/3000]: 100%|██████████| 15/15 [00:00<00:00, 356.96it/s, loss=8.05e+3]\n"
     ]
    },
    {
     "name": "stdout",
     "output_type": "stream",
     "text": [
      "Epoch [242/3000]: Train loss: 7678.3636, Valid loss: 7865.3020\n"
     ]
    },
    {
     "name": "stderr",
     "output_type": "stream",
     "text": [
      "Epoch [243/3000]: 100%|██████████| 15/15 [00:00<00:00, 387.51it/s, loss=5.48e+3]\n"
     ]
    },
    {
     "name": "stdout",
     "output_type": "stream",
     "text": [
      "Epoch [243/3000]: Train loss: 7570.4335, Valid loss: 8555.8869\n"
     ]
    },
    {
     "name": "stderr",
     "output_type": "stream",
     "text": [
      "Epoch [244/3000]: 100%|██████████| 15/15 [00:00<00:00, 197.22it/s, loss=6.16e+3]\n"
     ]
    },
    {
     "name": "stdout",
     "output_type": "stream",
     "text": [
      "Epoch [244/3000]: Train loss: 7599.0468, Valid loss: 8139.0127\n"
     ]
    },
    {
     "name": "stderr",
     "output_type": "stream",
     "text": [
      "Epoch [245/3000]: 100%|██████████| 15/15 [00:00<00:00, 355.00it/s, loss=1e+4]\n"
     ]
    },
    {
     "name": "stdout",
     "output_type": "stream",
     "text": [
      "Epoch [245/3000]: Train loss: 7761.3335, Valid loss: 7730.1009\n"
     ]
    },
    {
     "name": "stderr",
     "output_type": "stream",
     "text": [
      "Epoch [246/3000]: 100%|██████████| 15/15 [00:00<00:00, 400.64it/s, loss=9.87e+3]\n"
     ]
    },
    {
     "name": "stdout",
     "output_type": "stream",
     "text": [
      "Epoch [246/3000]: Train loss: 7754.6158, Valid loss: 7793.3633\n"
     ]
    },
    {
     "name": "stderr",
     "output_type": "stream",
     "text": [
      "Epoch [247/3000]: 100%|██████████| 15/15 [00:00<00:00, 387.25it/s, loss=5.74e+3]\n"
     ]
    },
    {
     "name": "stdout",
     "output_type": "stream",
     "text": [
      "Epoch [247/3000]: Train loss: 7581.3041, Valid loss: 7853.4745\n"
     ]
    },
    {
     "name": "stderr",
     "output_type": "stream",
     "text": [
      "Epoch [248/3000]: 100%|██████████| 15/15 [00:00<00:00, 395.94it/s, loss=1.25e+4]"
     ]
    },
    {
     "name": "stdout",
     "output_type": "stream",
     "text": [
      "Epoch [248/3000]: Train loss: 7864.7437, Valid loss: 7464.5141"
     ]
    },
    {
     "name": "stderr",
     "output_type": "stream",
     "text": [
      "\n"
     ]
    },
    {
     "name": "stdout",
     "output_type": "stream",
     "text": [
      "\n"
     ]
    },
    {
     "name": "stderr",
     "output_type": "stream",
     "text": [
      "Epoch [249/3000]: 100%|██████████| 15/15 [00:00<00:00, 389.14it/s, loss=7.85e+3]\n"
     ]
    },
    {
     "name": "stdout",
     "output_type": "stream",
     "text": [
      "Epoch [249/3000]: Train loss: 7669.5678, Valid loss: 7817.0270\n"
     ]
    },
    {
     "name": "stderr",
     "output_type": "stream",
     "text": [
      "Epoch [250/3000]: 100%|██████████| 15/15 [00:00<00:00, 430.04it/s, loss=7.84e+3]\n"
     ]
    },
    {
     "name": "stdout",
     "output_type": "stream",
     "text": [
      "Epoch [250/3000]: Train loss: 7669.4235, Valid loss: 8175.5583\n"
     ]
    },
    {
     "name": "stderr",
     "output_type": "stream",
     "text": [
      "Epoch [251/3000]: 100%|██████████| 15/15 [00:00<00:00, 283.87it/s, loss=1.85e+4]\n"
     ]
    },
    {
     "name": "stdout",
     "output_type": "stream",
     "text": [
      "Epoch [251/3000]: Train loss: 8114.3030, Valid loss: 7637.4634\n"
     ]
    },
    {
     "name": "stderr",
     "output_type": "stream",
     "text": [
      "Epoch [252/3000]: 100%|██████████| 15/15 [00:00<00:00, 358.09it/s, loss=6.16e+3]\n"
     ]
    },
    {
     "name": "stdout",
     "output_type": "stream",
     "text": [
      "Epoch [252/3000]: Train loss: 7598.8341, Valid loss: 8352.3253\n"
     ]
    },
    {
     "name": "stderr",
     "output_type": "stream",
     "text": [
      "Epoch [253/3000]: 100%|██████████| 15/15 [00:00<00:00, 440.75it/s, loss=7.6e+3]\n"
     ]
    },
    {
     "name": "stdout",
     "output_type": "stream",
     "text": [
      "Epoch [253/3000]: Train loss: 7659.1894, Valid loss: 7920.7682\n"
     ]
    },
    {
     "name": "stderr",
     "output_type": "stream",
     "text": [
      "Epoch [254/3000]: 100%|██████████| 15/15 [00:00<00:00, 416.59it/s, loss=9.33e+3]\n"
     ]
    },
    {
     "name": "stdout",
     "output_type": "stream",
     "text": [
      "Epoch [254/3000]: Train loss: 7731.7461, Valid loss: 7606.3703\n"
     ]
    },
    {
     "name": "stderr",
     "output_type": "stream",
     "text": [
      "Epoch [255/3000]: 100%|██████████| 15/15 [00:00<00:00, 346.74it/s, loss=1.01e+4]\n"
     ]
    },
    {
     "name": "stdout",
     "output_type": "stream",
     "text": [
      "Epoch [255/3000]: Train loss: 7763.6693, Valid loss: 7613.9247\n"
     ]
    },
    {
     "name": "stderr",
     "output_type": "stream",
     "text": [
      "Epoch [256/3000]: 100%|██████████| 15/15 [00:00<00:00, 447.72it/s, loss=1.08e+4]\n"
     ]
    },
    {
     "name": "stdout",
     "output_type": "stream",
     "text": [
      "Epoch [256/3000]: Train loss: 7794.4096, Valid loss: 8074.6038\n"
     ]
    },
    {
     "name": "stderr",
     "output_type": "stream",
     "text": [
      "Epoch [257/3000]: 100%|██████████| 15/15 [00:00<00:00, 444.13it/s, loss=7.43e+3]\n"
     ]
    },
    {
     "name": "stdout",
     "output_type": "stream",
     "text": [
      "Epoch [257/3000]: Train loss: 7651.7242, Valid loss: 8022.1865\n"
     ]
    },
    {
     "name": "stderr",
     "output_type": "stream",
     "text": [
      "Epoch [258/3000]: 100%|██████████| 15/15 [00:00<00:00, 243.57it/s, loss=7.35e+3]\n"
     ]
    },
    {
     "name": "stdout",
     "output_type": "stream",
     "text": [
      "Epoch [258/3000]: Train loss: 7648.4053, Valid loss: 7481.1428\n"
     ]
    },
    {
     "name": "stderr",
     "output_type": "stream",
     "text": [
      "Epoch [259/3000]: 100%|██████████| 15/15 [00:00<00:00, 399.37it/s, loss=5.56e+3]\n"
     ]
    },
    {
     "name": "stdout",
     "output_type": "stream",
     "text": [
      "Epoch [259/3000]: Train loss: 7573.2894, Valid loss: 7837.4737\n"
     ]
    },
    {
     "name": "stderr",
     "output_type": "stream",
     "text": [
      "Epoch [260/3000]: 100%|██████████| 15/15 [00:00<00:00, 440.57it/s, loss=8.82e+3]\n"
     ]
    },
    {
     "name": "stdout",
     "output_type": "stream",
     "text": [
      "Epoch [260/3000]: Train loss: 7710.2705, Valid loss: 7718.1994\n"
     ]
    },
    {
     "name": "stderr",
     "output_type": "stream",
     "text": [
      "Epoch [261/3000]: 100%|██████████| 15/15 [00:00<00:00, 450.64it/s, loss=8.92e+3]\n"
     ]
    },
    {
     "name": "stdout",
     "output_type": "stream",
     "text": [
      "Epoch [261/3000]: Train loss: 7714.5233, Valid loss: 7740.9697\n"
     ]
    },
    {
     "name": "stderr",
     "output_type": "stream",
     "text": [
      "Epoch [262/3000]: 100%|██████████| 15/15 [00:00<00:00, 445.14it/s, loss=5.08e+3]\n"
     ]
    },
    {
     "name": "stdout",
     "output_type": "stream",
     "text": [
      "Epoch [262/3000]: Train loss: 7553.4190, Valid loss: 8453.3274\n"
     ]
    },
    {
     "name": "stderr",
     "output_type": "stream",
     "text": [
      "Epoch [263/3000]: 100%|██████████| 15/15 [00:00<00:00, 446.54it/s, loss=7.33e+3]\n"
     ]
    },
    {
     "name": "stdout",
     "output_type": "stream",
     "text": [
      "Epoch [263/3000]: Train loss: 7647.5811, Valid loss: 7809.6639\n"
     ]
    },
    {
     "name": "stderr",
     "output_type": "stream",
     "text": [
      "Epoch [264/3000]: 100%|██████████| 15/15 [00:00<00:00, 435.36it/s, loss=6.51e+3]\n"
     ]
    },
    {
     "name": "stdout",
     "output_type": "stream",
     "text": [
      "Epoch [264/3000]: Train loss: 7613.1972, Valid loss: 7894.8494\n"
     ]
    },
    {
     "name": "stderr",
     "output_type": "stream",
     "text": [
      "Epoch [265/3000]: 100%|██████████| 15/15 [00:00<00:00, 242.65it/s, loss=6.05e+3]\n"
     ]
    },
    {
     "name": "stdout",
     "output_type": "stream",
     "text": [
      "Epoch [265/3000]: Train loss: 7594.1420, Valid loss: 7539.2232\n"
     ]
    },
    {
     "name": "stderr",
     "output_type": "stream",
     "text": [
      "Epoch [266/3000]: 100%|██████████| 15/15 [00:00<00:00, 417.64it/s, loss=1.04e+4]\n"
     ]
    },
    {
     "name": "stdout",
     "output_type": "stream",
     "text": [
      "Epoch [266/3000]: Train loss: 7777.7697, Valid loss: 8791.7134\n"
     ]
    },
    {
     "name": "stderr",
     "output_type": "stream",
     "text": [
      "Epoch [267/3000]: 100%|██████████| 15/15 [00:00<00:00, 459.36it/s, loss=7.18e+3]\n"
     ]
    },
    {
     "name": "stdout",
     "output_type": "stream",
     "text": [
      "Epoch [267/3000]: Train loss: 7641.3304, Valid loss: 7815.9480\n"
     ]
    },
    {
     "name": "stderr",
     "output_type": "stream",
     "text": [
      "Epoch [268/3000]: 100%|██████████| 15/15 [00:00<00:00, 443.64it/s, loss=4.64e+3]\n"
     ]
    },
    {
     "name": "stdout",
     "output_type": "stream",
     "text": [
      "Epoch [268/3000]: Train loss: 7534.7870, Valid loss: 7490.2081\n"
     ]
    },
    {
     "name": "stderr",
     "output_type": "stream",
     "text": [
      "Epoch [269/3000]: 100%|██████████| 15/15 [00:00<00:00, 442.54it/s, loss=8.71e+3]\n"
     ]
    },
    {
     "name": "stdout",
     "output_type": "stream",
     "text": [
      "Epoch [269/3000]: Train loss: 7705.3450, Valid loss: 7874.4242\n"
     ]
    },
    {
     "name": "stderr",
     "output_type": "stream",
     "text": [
      "Epoch [270/3000]: 100%|██████████| 15/15 [00:00<00:00, 444.58it/s, loss=5.98e+3]\n"
     ]
    },
    {
     "name": "stdout",
     "output_type": "stream",
     "text": [
      "Epoch [270/3000]: Train loss: 7591.0388, Valid loss: 7836.2503\n"
     ]
    },
    {
     "name": "stderr",
     "output_type": "stream",
     "text": [
      "Epoch [271/3000]: 100%|██████████| 15/15 [00:00<00:00, 436.12it/s, loss=9.94e+3]\n"
     ]
    },
    {
     "name": "stdout",
     "output_type": "stream",
     "text": [
      "Epoch [271/3000]: Train loss: 7756.7979, Valid loss: 9148.8631\n"
     ]
    },
    {
     "name": "stderr",
     "output_type": "stream",
     "text": [
      "Epoch [272/3000]: 100%|██████████| 15/15 [00:00<00:00, 283.72it/s, loss=7.57e+3]\n"
     ]
    },
    {
     "name": "stdout",
     "output_type": "stream",
     "text": [
      "Epoch [272/3000]: Train loss: 7657.3947, Valid loss: 7739.9153\n"
     ]
    },
    {
     "name": "stderr",
     "output_type": "stream",
     "text": [
      "Epoch [273/3000]: 100%|██████████| 15/15 [00:00<00:00, 427.08it/s, loss=6.59e+3]\n"
     ]
    },
    {
     "name": "stdout",
     "output_type": "stream",
     "text": [
      "Epoch [273/3000]: Train loss: 7616.5456, Valid loss: 8452.8409\n"
     ]
    },
    {
     "name": "stderr",
     "output_type": "stream",
     "text": [
      "Epoch [274/3000]: 100%|██████████| 15/15 [00:00<00:00, 431.21it/s, loss=8.96e+3]\n"
     ]
    },
    {
     "name": "stdout",
     "output_type": "stream",
     "text": [
      "Epoch [274/3000]: Train loss: 7715.9172, Valid loss: 7822.2772\n"
     ]
    },
    {
     "name": "stderr",
     "output_type": "stream",
     "text": [
      "Epoch [275/3000]: 100%|██████████| 15/15 [00:00<00:00, 432.45it/s, loss=7.92e+3]"
     ]
    },
    {
     "name": "stdout",
     "output_type": "stream",
     "text": [
      "Epoch [275/3000]: Train loss: 7672.3140, Valid loss: 8495.9199\n"
     ]
    },
    {
     "name": "stderr",
     "output_type": "stream",
     "text": [
      "\n",
      "Epoch [276/3000]: 100%|██████████| 15/15 [00:00<00:00, 449.21it/s, loss=1.06e+4]\n"
     ]
    },
    {
     "name": "stdout",
     "output_type": "stream",
     "text": [
      "Epoch [276/3000]: Train loss: 7785.6460, Valid loss: 8168.7137\n"
     ]
    },
    {
     "name": "stderr",
     "output_type": "stream",
     "text": [
      "Epoch [277/3000]: 100%|██████████| 15/15 [00:00<00:00, 445.28it/s, loss=7.25e+3]\n"
     ]
    },
    {
     "name": "stdout",
     "output_type": "stream",
     "text": [
      "Epoch [277/3000]: Train loss: 7643.9639, Valid loss: 8358.5261\n"
     ]
    },
    {
     "name": "stderr",
     "output_type": "stream",
     "text": [
      "Epoch [278/3000]: 100%|██████████| 15/15 [00:00<00:00, 448.16it/s, loss=8.07e+3]\n"
     ]
    },
    {
     "name": "stdout",
     "output_type": "stream",
     "text": [
      "Epoch [278/3000]: Train loss: 7678.5224, Valid loss: 7802.7917\n"
     ]
    },
    {
     "name": "stderr",
     "output_type": "stream",
     "text": [
      "Epoch [279/3000]: 100%|██████████| 15/15 [00:00<00:00, 303.50it/s, loss=9.62e+3]\n"
     ]
    },
    {
     "name": "stdout",
     "output_type": "stream",
     "text": [
      "Epoch [279/3000]: Train loss: 7743.6070, Valid loss: 8617.5924\n"
     ]
    },
    {
     "name": "stderr",
     "output_type": "stream",
     "text": [
      "Epoch [280/3000]: 100%|██████████| 15/15 [00:00<00:00, 337.98it/s, loss=7.75e+3]\n"
     ]
    },
    {
     "name": "stdout",
     "output_type": "stream",
     "text": [
      "Epoch [280/3000]: Train loss: 7665.0087, Valid loss: 7999.0875\n"
     ]
    },
    {
     "name": "stderr",
     "output_type": "stream",
     "text": [
      "Epoch [281/3000]: 100%|██████████| 15/15 [00:00<00:00, 442.20it/s, loss=5.21e+3]\n"
     ]
    },
    {
     "name": "stdout",
     "output_type": "stream",
     "text": [
      "Epoch [281/3000]: Train loss: 7558.2829, Valid loss: 8387.7303\n"
     ]
    },
    {
     "name": "stderr",
     "output_type": "stream",
     "text": [
      "Epoch [282/3000]: 100%|██████████| 15/15 [00:00<00:00, 446.81it/s, loss=1.04e+4]\n"
     ]
    },
    {
     "name": "stdout",
     "output_type": "stream",
     "text": [
      "Epoch [282/3000]: Train loss: 7776.8893, Valid loss: 8017.0293\n"
     ]
    },
    {
     "name": "stderr",
     "output_type": "stream",
     "text": [
      "Epoch [283/3000]: 100%|██████████| 15/15 [00:00<00:00, 442.62it/s, loss=6.97e+3]\n"
     ]
    },
    {
     "name": "stdout",
     "output_type": "stream",
     "text": [
      "Epoch [283/3000]: Train loss: 7632.1810, Valid loss: 7462.6285\n"
     ]
    },
    {
     "name": "stderr",
     "output_type": "stream",
     "text": [
      "Epoch [284/3000]: 100%|██████████| 15/15 [00:00<00:00, 444.13it/s, loss=6.68e+3]\n"
     ]
    },
    {
     "name": "stdout",
     "output_type": "stream",
     "text": [
      "Epoch [284/3000]: Train loss: 7620.2900, Valid loss: 8732.8587\n"
     ]
    },
    {
     "name": "stderr",
     "output_type": "stream",
     "text": [
      "Epoch [285/3000]: 100%|██████████| 15/15 [00:00<00:00, 451.48it/s, loss=8.66e+3]\n"
     ]
    },
    {
     "name": "stdout",
     "output_type": "stream",
     "text": [
      "Epoch [285/3000]: Train loss: 7703.0893, Valid loss: 7596.8724\n"
     ]
    },
    {
     "name": "stderr",
     "output_type": "stream",
     "text": [
      "Epoch [286/3000]: 100%|██████████| 15/15 [00:00<00:00, 302.23it/s, loss=7.45e+3]\n"
     ]
    },
    {
     "name": "stdout",
     "output_type": "stream",
     "text": [
      "Epoch [286/3000]: Train loss: 7652.4146, Valid loss: 7605.8735\n"
     ]
    },
    {
     "name": "stderr",
     "output_type": "stream",
     "text": [
      "Epoch [287/3000]: 100%|██████████| 15/15 [00:00<00:00, 317.38it/s, loss=5.15e+3]\n"
     ]
    },
    {
     "name": "stdout",
     "output_type": "stream",
     "text": [
      "Epoch [287/3000]: Train loss: 7555.7323, Valid loss: 8326.8523\n"
     ]
    },
    {
     "name": "stderr",
     "output_type": "stream",
     "text": [
      "Epoch [288/3000]: 100%|██████████| 15/15 [00:00<00:00, 175.57it/s, loss=7.95e+3]\n"
     ]
    },
    {
     "name": "stdout",
     "output_type": "stream",
     "text": [
      "Epoch [288/3000]: Train loss: 7673.1299, Valid loss: 8582.7462\n"
     ]
    },
    {
     "name": "stderr",
     "output_type": "stream",
     "text": [
      "Epoch [289/3000]: 100%|██████████| 15/15 [00:00<00:00, 447.96it/s, loss=9.36e+3]\n"
     ]
    },
    {
     "name": "stdout",
     "output_type": "stream",
     "text": [
      "Epoch [289/3000]: Train loss: 7732.5991, Valid loss: 7731.4745\n"
     ]
    },
    {
     "name": "stderr",
     "output_type": "stream",
     "text": [
      "Epoch [290/3000]: 100%|██████████| 15/15 [00:00<00:00, 446.75it/s, loss=6.24e+3]\n"
     ]
    },
    {
     "name": "stdout",
     "output_type": "stream",
     "text": [
      "Epoch [290/3000]: Train loss: 7601.4298, Valid loss: 7955.5905\n"
     ]
    },
    {
     "name": "stderr",
     "output_type": "stream",
     "text": [
      "Epoch [291/3000]: 100%|██████████| 15/15 [00:00<00:00, 450.34it/s, loss=7.64e+3]\n"
     ]
    },
    {
     "name": "stdout",
     "output_type": "stream",
     "text": [
      "Epoch [291/3000]: Train loss: 7660.2488, Valid loss: 8290.0427\n"
     ]
    },
    {
     "name": "stderr",
     "output_type": "stream",
     "text": [
      "Epoch [292/3000]: 100%|██████████| 15/15 [00:00<00:00, 430.78it/s, loss=6.95e+3]\n"
     ]
    },
    {
     "name": "stdout",
     "output_type": "stream",
     "text": [
      "Epoch [292/3000]: Train loss: 7631.5296, Valid loss: 8099.5110\n"
     ]
    },
    {
     "name": "stderr",
     "output_type": "stream",
     "text": [
      "Epoch [293/3000]: 100%|██████████| 15/15 [00:00<00:00, 291.41it/s, loss=4.41e+3]\n"
     ]
    },
    {
     "name": "stdout",
     "output_type": "stream",
     "text": [
      "Epoch [293/3000]: Train loss: 7524.9442, Valid loss: 8295.4106\n"
     ]
    },
    {
     "name": "stderr",
     "output_type": "stream",
     "text": [
      "Epoch [294/3000]: 100%|██████████| 15/15 [00:00<00:00, 346.59it/s, loss=5.29e+3]\n"
     ]
    },
    {
     "name": "stdout",
     "output_type": "stream",
     "text": [
      "Epoch [294/3000]: Train loss: 7561.8686, Valid loss: 7983.8987\n"
     ]
    },
    {
     "name": "stderr",
     "output_type": "stream",
     "text": [
      "Epoch [295/3000]: 100%|██████████| 15/15 [00:00<00:00, 414.31it/s, loss=9.35e+3]\n"
     ]
    },
    {
     "name": "stdout",
     "output_type": "stream",
     "text": [
      "Epoch [295/3000]: Train loss: 7731.9296, Valid loss: 7703.3512\n"
     ]
    },
    {
     "name": "stderr",
     "output_type": "stream",
     "text": [
      "Epoch [296/3000]: 100%|██████████| 15/15 [00:00<00:00, 438.20it/s, loss=8.25e+3]\n"
     ]
    },
    {
     "name": "stdout",
     "output_type": "stream",
     "text": [
      "Epoch [296/3000]: Train loss: 7685.8076, Valid loss: 7922.2727\n"
     ]
    },
    {
     "name": "stderr",
     "output_type": "stream",
     "text": [
      "Epoch [297/3000]: 100%|██████████| 15/15 [00:00<00:00, 431.89it/s, loss=9.12e+3]\n"
     ]
    },
    {
     "name": "stdout",
     "output_type": "stream",
     "text": [
      "Epoch [297/3000]: Train loss: 7722.4637, Valid loss: 7757.1880\n"
     ]
    },
    {
     "name": "stderr",
     "output_type": "stream",
     "text": [
      "Epoch [298/3000]: 100%|██████████| 15/15 [00:00<00:00, 421.58it/s, loss=9.66e+3]\n"
     ]
    },
    {
     "name": "stdout",
     "output_type": "stream",
     "text": [
      "Epoch [298/3000]: Train loss: 7744.9567, Valid loss: 8468.8966\n"
     ]
    },
    {
     "name": "stderr",
     "output_type": "stream",
     "text": [
      "Epoch [299/3000]: 100%|██████████| 15/15 [00:00<00:00, 418.77it/s, loss=9.99e+3]\n"
     ]
    },
    {
     "name": "stdout",
     "output_type": "stream",
     "text": [
      "Epoch [299/3000]: Train loss: 7758.8803, Valid loss: 7680.4757\n"
     ]
    },
    {
     "name": "stderr",
     "output_type": "stream",
     "text": [
      "Epoch [300/3000]: 100%|██████████| 15/15 [00:00<00:00, 320.70it/s, loss=7.79e+3]\n"
     ]
    },
    {
     "name": "stdout",
     "output_type": "stream",
     "text": [
      "Epoch [300/3000]: Train loss: 7666.5211, Valid loss: 8200.5759\n"
     ]
    },
    {
     "name": "stderr",
     "output_type": "stream",
     "text": [
      "Epoch [301/3000]: 100%|██████████| 15/15 [00:00<00:00, 318.55it/s, loss=8.47e+3]\n"
     ]
    },
    {
     "name": "stdout",
     "output_type": "stream",
     "text": [
      "Epoch [301/3000]: Train loss: 7694.9374, Valid loss: 8408.2727\n"
     ]
    },
    {
     "name": "stderr",
     "output_type": "stream",
     "text": [
      "Epoch [302/3000]: 100%|██████████| 15/15 [00:00<00:00, 435.86it/s, loss=6.73e+3]\n"
     ]
    },
    {
     "name": "stdout",
     "output_type": "stream",
     "text": [
      "Epoch [302/3000]: Train loss: 7621.8902, Valid loss: 7648.2018\n"
     ]
    },
    {
     "name": "stderr",
     "output_type": "stream",
     "text": [
      "Epoch [303/3000]: 100%|██████████| 15/15 [00:00<00:00, 440.59it/s, loss=9.29e+3]\n"
     ]
    },
    {
     "name": "stdout",
     "output_type": "stream",
     "text": [
      "Epoch [303/3000]: Train loss: 7729.4296, Valid loss: 8752.7926\n"
     ]
    },
    {
     "name": "stderr",
     "output_type": "stream",
     "text": [
      "Epoch [304/3000]: 100%|██████████| 15/15 [00:00<00:00, 435.72it/s, loss=6.57e+3]\n"
     ]
    },
    {
     "name": "stdout",
     "output_type": "stream",
     "text": [
      "Epoch [304/3000]: Train loss: 7615.4351, Valid loss: 8927.8592\n"
     ]
    },
    {
     "name": "stderr",
     "output_type": "stream",
     "text": [
      "Epoch [305/3000]: 100%|██████████| 15/15 [00:00<00:00, 433.22it/s, loss=3.9e+3]\n"
     ]
    },
    {
     "name": "stdout",
     "output_type": "stream",
     "text": [
      "Epoch [305/3000]: Train loss: 7503.2487, Valid loss: 7869.1177\n"
     ]
    },
    {
     "name": "stderr",
     "output_type": "stream",
     "text": [
      "Epoch [306/3000]: 100%|██████████| 15/15 [00:00<00:00, 401.51it/s, loss=5.96e+3]\n"
     ]
    },
    {
     "name": "stdout",
     "output_type": "stream",
     "text": [
      "Epoch [306/3000]: Train loss: 7589.5738, Valid loss: 7542.2831\n"
     ]
    },
    {
     "name": "stderr",
     "output_type": "stream",
     "text": [
      "Epoch [307/3000]: 100%|██████████| 15/15 [00:00<00:00, 198.54it/s, loss=6.23e+3]\n"
     ]
    },
    {
     "name": "stdout",
     "output_type": "stream",
     "text": [
      "Epoch [307/3000]: Train loss: 7600.9279, Valid loss: 7983.2045\n"
     ]
    },
    {
     "name": "stderr",
     "output_type": "stream",
     "text": [
      "Epoch [308/3000]: 100%|██████████| 15/15 [00:00<00:00, 243.65it/s, loss=5.12e+3]\n"
     ]
    },
    {
     "name": "stdout",
     "output_type": "stream",
     "text": [
      "Epoch [308/3000]: Train loss: 7554.3057, Valid loss: 7494.9501\n"
     ]
    },
    {
     "name": "stderr",
     "output_type": "stream",
     "text": [
      "Epoch [309/3000]: 100%|██████████| 15/15 [00:00<00:00, 373.65it/s, loss=5.38e+3]\n"
     ]
    },
    {
     "name": "stdout",
     "output_type": "stream",
     "text": [
      "Epoch [309/3000]: Train loss: 7565.6393, Valid loss: 7876.2026\n"
     ]
    },
    {
     "name": "stderr",
     "output_type": "stream",
     "text": [
      "Epoch [310/3000]: 100%|██████████| 15/15 [00:00<00:00, 416.74it/s, loss=5.46e+3]\n"
     ]
    },
    {
     "name": "stdout",
     "output_type": "stream",
     "text": [
      "Epoch [310/3000]: Train loss: 7568.7225, Valid loss: 7906.6696\n"
     ]
    },
    {
     "name": "stderr",
     "output_type": "stream",
     "text": [
      "Epoch [311/3000]: 100%|██████████| 15/15 [00:00<00:00, 413.06it/s, loss=6.96e+3]\n"
     ]
    },
    {
     "name": "stdout",
     "output_type": "stream",
     "text": [
      "Epoch [311/3000]: Train loss: 7631.6878, Valid loss: 7969.8556\n"
     ]
    },
    {
     "name": "stderr",
     "output_type": "stream",
     "text": [
      "Epoch [312/3000]: 100%|██████████| 15/15 [00:00<00:00, 437.33it/s, loss=6.99e+3]\n"
     ]
    },
    {
     "name": "stdout",
     "output_type": "stream",
     "text": [
      "Epoch [312/3000]: Train loss: 7632.7646, Valid loss: 9014.5557\n"
     ]
    },
    {
     "name": "stderr",
     "output_type": "stream",
     "text": [
      "Epoch [313/3000]: 100%|██████████| 15/15 [00:00<00:00, 200.15it/s, loss=9.59e+3]\n"
     ]
    },
    {
     "name": "stdout",
     "output_type": "stream",
     "text": [
      "Epoch [313/3000]: Train loss: 7741.8171, Valid loss: 7501.9548\n"
     ]
    },
    {
     "name": "stderr",
     "output_type": "stream",
     "text": [
      "Epoch [314/3000]: 100%|██████████| 15/15 [00:00<00:00, 389.81it/s, loss=5.3e+3]\n"
     ]
    },
    {
     "name": "stdout",
     "output_type": "stream",
     "text": [
      "Epoch [314/3000]: Train loss: 7562.0312, Valid loss: 8070.2596\n"
     ]
    },
    {
     "name": "stderr",
     "output_type": "stream",
     "text": [
      "Epoch [315/3000]: 100%|██████████| 15/15 [00:00<00:00, 429.44it/s, loss=5.79e+3]\n"
     ]
    },
    {
     "name": "stdout",
     "output_type": "stream",
     "text": [
      "Epoch [315/3000]: Train loss: 7582.4258, Valid loss: 7827.1829\n"
     ]
    },
    {
     "name": "stderr",
     "output_type": "stream",
     "text": [
      "Epoch [316/3000]: 100%|██████████| 15/15 [00:00<00:00, 435.33it/s, loss=6.26e+3]\n"
     ]
    },
    {
     "name": "stdout",
     "output_type": "stream",
     "text": [
      "Epoch [316/3000]: Train loss: 7602.1928, Valid loss: 8302.0569\n"
     ]
    },
    {
     "name": "stderr",
     "output_type": "stream",
     "text": [
      "Epoch [317/3000]: 100%|██████████| 15/15 [00:00<00:00, 437.70it/s, loss=6.55e+3]\n"
     ]
    },
    {
     "name": "stdout",
     "output_type": "stream",
     "text": [
      "Epoch [317/3000]: Train loss: 7614.2650, Valid loss: 8092.1609\n"
     ]
    },
    {
     "name": "stderr",
     "output_type": "stream",
     "text": [
      "Epoch [318/3000]: 100%|██████████| 15/15 [00:00<00:00, 440.83it/s, loss=1.01e+4]\n"
     ]
    },
    {
     "name": "stdout",
     "output_type": "stream",
     "text": [
      "Epoch [318/3000]: Train loss: 7764.8592, Valid loss: 8415.9026\n"
     ]
    },
    {
     "name": "stderr",
     "output_type": "stream",
     "text": [
      "Epoch [319/3000]: 100%|██████████| 15/15 [00:00<00:00, 366.17it/s, loss=5.58e+3]\n"
     ]
    },
    {
     "name": "stdout",
     "output_type": "stream",
     "text": [
      "Epoch [319/3000]: Train loss: 7573.7689, Valid loss: 8329.5354\n"
     ]
    },
    {
     "name": "stderr",
     "output_type": "stream",
     "text": [
      "Epoch [320/3000]: 100%|██████████| 15/15 [00:00<00:00, 278.15it/s, loss=6.84e+3]\n"
     ]
    },
    {
     "name": "stdout",
     "output_type": "stream",
     "text": [
      "Epoch [320/3000]: Train loss: 7626.6993, Valid loss: 8733.1722\n"
     ]
    },
    {
     "name": "stderr",
     "output_type": "stream",
     "text": [
      "Epoch [321/3000]: 100%|██████████| 15/15 [00:00<00:00, 421.49it/s, loss=8.79e+3]\n"
     ]
    },
    {
     "name": "stdout",
     "output_type": "stream",
     "text": [
      "Epoch [321/3000]: Train loss: 7708.2554, Valid loss: 7788.3943\n"
     ]
    },
    {
     "name": "stderr",
     "output_type": "stream",
     "text": [
      "Epoch [322/3000]: 100%|██████████| 15/15 [00:00<00:00, 437.60it/s, loss=8.7e+3]\n"
     ]
    },
    {
     "name": "stdout",
     "output_type": "stream",
     "text": [
      "Epoch [322/3000]: Train loss: 7704.4709, Valid loss: 7583.9543\n"
     ]
    },
    {
     "name": "stderr",
     "output_type": "stream",
     "text": [
      "Epoch [323/3000]: 100%|██████████| 15/15 [00:00<00:00, 442.78it/s, loss=5.16e+3]\n"
     ]
    },
    {
     "name": "stdout",
     "output_type": "stream",
     "text": [
      "Epoch [323/3000]: Train loss: 7556.2775, Valid loss: 8440.4576\n"
     ]
    },
    {
     "name": "stderr",
     "output_type": "stream",
     "text": [
      "Epoch [324/3000]: 100%|██████████| 15/15 [00:00<00:00, 435.46it/s, loss=9.11e+3]\n"
     ]
    },
    {
     "name": "stdout",
     "output_type": "stream",
     "text": [
      "Epoch [324/3000]: Train loss: 7721.7516, Valid loss: 8461.5525\n"
     ]
    },
    {
     "name": "stderr",
     "output_type": "stream",
     "text": [
      "Epoch [325/3000]: 100%|██████████| 15/15 [00:00<00:00, 429.49it/s, loss=5.79e+3]\n"
     ]
    },
    {
     "name": "stdout",
     "output_type": "stream",
     "text": [
      "Epoch [325/3000]: Train loss: 7582.4825, Valid loss: 7518.3037\n"
     ]
    },
    {
     "name": "stderr",
     "output_type": "stream",
     "text": [
      "Epoch [326/3000]: 100%|██████████| 15/15 [00:00<00:00, 284.76it/s, loss=5.48e+3]\n"
     ]
    },
    {
     "name": "stdout",
     "output_type": "stream",
     "text": [
      "Epoch [326/3000]: Train loss: 7569.6606, Valid loss: 8279.0349\n"
     ]
    },
    {
     "name": "stderr",
     "output_type": "stream",
     "text": [
      "Epoch [327/3000]: 100%|██████████| 15/15 [00:00<00:00, 412.20it/s, loss=7.16e+3]\n"
     ]
    },
    {
     "name": "stdout",
     "output_type": "stream",
     "text": [
      "Epoch [327/3000]: Train loss: 7640.0725, Valid loss: 8204.1996\n"
     ]
    },
    {
     "name": "stderr",
     "output_type": "stream",
     "text": [
      "Epoch [328/3000]: 100%|██████████| 15/15 [00:00<00:00, 422.67it/s, loss=6.62e+3]\n"
     ]
    },
    {
     "name": "stdout",
     "output_type": "stream",
     "text": [
      "Epoch [328/3000]: Train loss: 7617.4242, Valid loss: 8583.6883\n"
     ]
    },
    {
     "name": "stderr",
     "output_type": "stream",
     "text": [
      "Epoch [329/3000]: 100%|██████████| 15/15 [00:00<00:00, 423.31it/s, loss=4.67e+3]\n"
     ]
    },
    {
     "name": "stdout",
     "output_type": "stream",
     "text": [
      "Epoch [329/3000]: Train loss: 7535.6102, Valid loss: 7848.1812\n"
     ]
    },
    {
     "name": "stderr",
     "output_type": "stream",
     "text": [
      "Epoch [330/3000]: 100%|██████████| 15/15 [00:00<00:00, 420.76it/s, loss=9.2e+3]\n"
     ]
    },
    {
     "name": "stdout",
     "output_type": "stream",
     "text": [
      "Epoch [330/3000]: Train loss: 7725.5165, Valid loss: 7738.1924\n"
     ]
    },
    {
     "name": "stderr",
     "output_type": "stream",
     "text": [
      "Epoch [331/3000]: 100%|██████████| 15/15 [00:00<00:00, 425.29it/s, loss=9.73e+3]\n"
     ]
    },
    {
     "name": "stdout",
     "output_type": "stream",
     "text": [
      "Epoch [331/3000]: Train loss: 7747.7566, Valid loss: 8565.2487\n"
     ]
    },
    {
     "name": "stderr",
     "output_type": "stream",
     "text": [
      "Epoch [332/3000]: 100%|██████████| 15/15 [00:00<00:00, 370.61it/s, loss=9.95e+3]\n"
     ]
    },
    {
     "name": "stdout",
     "output_type": "stream",
     "text": [
      "Epoch [332/3000]: Train loss: 7756.9201, Valid loss: 8106.7604\n"
     ]
    },
    {
     "name": "stderr",
     "output_type": "stream",
     "text": [
      "Epoch [333/3000]: 100%|██████████| 15/15 [00:00<00:00, 265.49it/s, loss=4.76e+3]\n"
     ]
    },
    {
     "name": "stdout",
     "output_type": "stream",
     "text": [
      "Epoch [333/3000]: Train loss: 7539.3837, Valid loss: 7770.8557\n"
     ]
    },
    {
     "name": "stderr",
     "output_type": "stream",
     "text": [
      "Epoch [334/3000]: 100%|██████████| 15/15 [00:00<00:00, 416.69it/s, loss=5.55e+3]\n"
     ]
    },
    {
     "name": "stdout",
     "output_type": "stream",
     "text": [
      "Epoch [334/3000]: Train loss: 7572.2478, Valid loss: 7684.6226\n"
     ]
    },
    {
     "name": "stderr",
     "output_type": "stream",
     "text": [
      "Epoch [335/3000]: 100%|██████████| 15/15 [00:00<00:00, 431.94it/s, loss=9.29e+3]\n"
     ]
    },
    {
     "name": "stdout",
     "output_type": "stream",
     "text": [
      "Epoch [335/3000]: Train loss: 7729.2332, Valid loss: 7954.7943\n"
     ]
    },
    {
     "name": "stderr",
     "output_type": "stream",
     "text": [
      "Epoch [336/3000]: 100%|██████████| 15/15 [00:00<00:00, 429.06it/s, loss=7.77e+3]\n"
     ]
    },
    {
     "name": "stdout",
     "output_type": "stream",
     "text": [
      "Epoch [336/3000]: Train loss: 7665.5207, Valid loss: 8552.4457\n"
     ]
    },
    {
     "name": "stderr",
     "output_type": "stream",
     "text": [
      "Epoch [337/3000]: 100%|██████████| 15/15 [00:00<00:00, 414.24it/s, loss=7.06e+3]\n"
     ]
    },
    {
     "name": "stdout",
     "output_type": "stream",
     "text": [
      "Epoch [337/3000]: Train loss: 7635.8269, Valid loss: 7840.7881\n"
     ]
    },
    {
     "name": "stderr",
     "output_type": "stream",
     "text": [
      "Epoch [338/3000]: 100%|██████████| 15/15 [00:00<00:00, 437.06it/s, loss=7.59e+3]\n"
     ]
    },
    {
     "name": "stdout",
     "output_type": "stream",
     "text": [
      "Epoch [338/3000]: Train loss: 7657.8115, Valid loss: 7924.0505\n"
     ]
    },
    {
     "name": "stderr",
     "output_type": "stream",
     "text": [
      "Epoch [339/3000]: 100%|██████████| 15/15 [00:00<00:00, 341.69it/s, loss=8.3e+3]\n"
     ]
    },
    {
     "name": "stdout",
     "output_type": "stream",
     "text": [
      "Epoch [339/3000]: Train loss: 7687.9269, Valid loss: 7584.0881\n"
     ]
    },
    {
     "name": "stderr",
     "output_type": "stream",
     "text": [
      "Epoch [340/3000]: 100%|██████████| 15/15 [00:00<00:00, 293.06it/s, loss=5.85e+3]\n"
     ]
    },
    {
     "name": "stdout",
     "output_type": "stream",
     "text": [
      "Epoch [340/3000]: Train loss: 7585.1047, Valid loss: 8173.3158\n"
     ]
    },
    {
     "name": "stderr",
     "output_type": "stream",
     "text": [
      "Epoch [341/3000]: 100%|██████████| 15/15 [00:00<00:00, 427.36it/s, loss=5.86e+3]\n"
     ]
    },
    {
     "name": "stdout",
     "output_type": "stream",
     "text": [
      "Epoch [341/3000]: Train loss: 7585.3846, Valid loss: 8325.7507\n"
     ]
    },
    {
     "name": "stderr",
     "output_type": "stream",
     "text": [
      "Epoch [342/3000]: 100%|██████████| 15/15 [00:00<00:00, 438.38it/s, loss=7.86e+3]\n"
     ]
    },
    {
     "name": "stdout",
     "output_type": "stream",
     "text": [
      "Epoch [342/3000]: Train loss: 7669.0571, Valid loss: 7672.4387\n"
     ]
    },
    {
     "name": "stderr",
     "output_type": "stream",
     "text": [
      "Epoch [343/3000]: 100%|██████████| 15/15 [00:00<00:00, 426.05it/s, loss=6.22e+3]\n"
     ]
    },
    {
     "name": "stdout",
     "output_type": "stream",
     "text": [
      "Epoch [343/3000]: Train loss: 7600.6492, Valid loss: 8386.6897\n"
     ]
    },
    {
     "name": "stderr",
     "output_type": "stream",
     "text": [
      "Epoch [344/3000]: 100%|██████████| 15/15 [00:00<00:00, 398.74it/s, loss=1.05e+4]\n"
     ]
    },
    {
     "name": "stdout",
     "output_type": "stream",
     "text": [
      "Epoch [344/3000]: Train loss: 7778.6547, Valid loss: 7674.2084\n"
     ]
    },
    {
     "name": "stderr",
     "output_type": "stream",
     "text": [
      "Epoch [345/3000]: 100%|██████████| 15/15 [00:00<00:00, 436.10it/s, loss=7.54e+3]\n"
     ]
    },
    {
     "name": "stdout",
     "output_type": "stream",
     "text": [
      "Epoch [345/3000]: Train loss: 7655.6626, Valid loss: 7482.3131\n"
     ]
    },
    {
     "name": "stderr",
     "output_type": "stream",
     "text": [
      "Epoch [346/3000]: 100%|██████████| 15/15 [00:00<00:00, 300.93it/s, loss=9.43e+3]\n"
     ]
    },
    {
     "name": "stdout",
     "output_type": "stream",
     "text": [
      "Epoch [346/3000]: Train loss: 7734.9513, Valid loss: 7770.4900\n"
     ]
    },
    {
     "name": "stderr",
     "output_type": "stream",
     "text": [
      "Epoch [347/3000]: 100%|██████████| 15/15 [00:00<00:00, 333.65it/s, loss=8.26e+3]\n"
     ]
    },
    {
     "name": "stdout",
     "output_type": "stream",
     "text": [
      "Epoch [347/3000]: Train loss: 7686.0212, Valid loss: 8417.1188\n"
     ]
    },
    {
     "name": "stderr",
     "output_type": "stream",
     "text": [
      "Epoch [348/3000]: 100%|██████████| 15/15 [00:00<00:00, 425.85it/s, loss=5.43e+3]\n"
     ]
    },
    {
     "name": "stdout",
     "output_type": "stream",
     "text": [
      "Epoch [348/3000]: Train loss: 7567.4933, Valid loss: 8696.2859\n"
     ]
    },
    {
     "name": "stderr",
     "output_type": "stream",
     "text": [
      "Epoch [349/3000]: 100%|██████████| 15/15 [00:00<00:00, 413.78it/s, loss=1.11e+4]\n"
     ]
    },
    {
     "name": "stdout",
     "output_type": "stream",
     "text": [
      "Epoch [349/3000]: Train loss: 7806.6143, Valid loss: 8057.2695\n"
     ]
    },
    {
     "name": "stderr",
     "output_type": "stream",
     "text": [
      "Epoch [350/3000]: 100%|██████████| 15/15 [00:00<00:00, 439.34it/s, loss=8.7e+3]\n"
     ]
    },
    {
     "name": "stdout",
     "output_type": "stream",
     "text": [
      "Epoch [350/3000]: Train loss: 7704.4183, Valid loss: 8180.0197\n"
     ]
    },
    {
     "name": "stderr",
     "output_type": "stream",
     "text": [
      "Epoch [351/3000]: 100%|██████████| 15/15 [00:00<00:00, 430.06it/s, loss=1e+4]\n"
     ]
    },
    {
     "name": "stdout",
     "output_type": "stream",
     "text": [
      "Epoch [351/3000]: Train loss: 7759.1718, Valid loss: 7761.0956\n"
     ]
    },
    {
     "name": "stderr",
     "output_type": "stream",
     "text": [
      "Epoch [352/3000]: 100%|██████████| 15/15 [00:00<00:00, 422.28it/s, loss=6.76e+3]\n"
     ]
    },
    {
     "name": "stdout",
     "output_type": "stream",
     "text": [
      "Epoch [352/3000]: Train loss: 7623.1237, Valid loss: 7983.1690\n"
     ]
    },
    {
     "name": "stderr",
     "output_type": "stream",
     "text": [
      "Epoch [353/3000]: 100%|██████████| 15/15 [00:00<00:00, 302.87it/s, loss=7.37e+3]\n"
     ]
    },
    {
     "name": "stdout",
     "output_type": "stream",
     "text": [
      "Epoch [353/3000]: Train loss: 7648.5287, Valid loss: 7821.4132\n"
     ]
    },
    {
     "name": "stderr",
     "output_type": "stream",
     "text": [
      "Epoch [354/3000]: 100%|██████████| 15/15 [00:00<00:00, 323.78it/s, loss=1.05e+4]\n"
     ]
    },
    {
     "name": "stdout",
     "output_type": "stream",
     "text": [
      "Epoch [354/3000]: Train loss: 7780.9396, Valid loss: 7650.0917\n"
     ]
    },
    {
     "name": "stderr",
     "output_type": "stream",
     "text": [
      "Epoch [355/3000]: 100%|██████████| 15/15 [00:00<00:00, 428.59it/s, loss=4.74e+3]\n"
     ]
    },
    {
     "name": "stdout",
     "output_type": "stream",
     "text": [
      "Epoch [355/3000]: Train loss: 7538.4539, Valid loss: 7817.4005\n"
     ]
    },
    {
     "name": "stderr",
     "output_type": "stream",
     "text": [
      "Epoch [356/3000]: 100%|██████████| 15/15 [00:00<00:00, 422.04it/s, loss=1.18e+4]\n"
     ]
    },
    {
     "name": "stdout",
     "output_type": "stream",
     "text": [
      "Epoch [356/3000]: Train loss: 7833.7032, Valid loss: 7661.9235\n"
     ]
    },
    {
     "name": "stderr",
     "output_type": "stream",
     "text": [
      "Epoch [357/3000]: 100%|██████████| 15/15 [00:00<00:00, 424.64it/s, loss=7.38e+3]\n"
     ]
    },
    {
     "name": "stdout",
     "output_type": "stream",
     "text": [
      "Epoch [357/3000]: Train loss: 7649.0109, Valid loss: 7945.3515\n"
     ]
    },
    {
     "name": "stderr",
     "output_type": "stream",
     "text": [
      "Epoch [358/3000]: 100%|██████████| 15/15 [00:00<00:00, 421.09it/s, loss=6.6e+3]\n"
     ]
    },
    {
     "name": "stdout",
     "output_type": "stream",
     "text": [
      "Epoch [358/3000]: Train loss: 7616.2729, Valid loss: 8151.8926\n"
     ]
    },
    {
     "name": "stderr",
     "output_type": "stream",
     "text": [
      "Epoch [359/3000]: 100%|██████████| 15/15 [00:00<00:00, 424.78it/s, loss=9.76e+3]\n"
     ]
    },
    {
     "name": "stdout",
     "output_type": "stream",
     "text": [
      "Epoch [359/3000]: Train loss: 7749.0550, Valid loss: 8068.9220\n"
     ]
    },
    {
     "name": "stderr",
     "output_type": "stream",
     "text": [
      "Epoch [360/3000]: 100%|██████████| 15/15 [00:00<00:00, 340.07it/s, loss=6.13e+3]\n"
     ]
    },
    {
     "name": "stdout",
     "output_type": "stream",
     "text": [
      "Epoch [360/3000]: Train loss: 7596.7967, Valid loss: 8098.9276\n"
     ]
    },
    {
     "name": "stderr",
     "output_type": "stream",
     "text": [
      "Epoch [361/3000]: 100%|██████████| 15/15 [00:00<00:00, 297.00it/s, loss=9.43e+3]\n"
     ]
    },
    {
     "name": "stdout",
     "output_type": "stream",
     "text": [
      "Epoch [361/3000]: Train loss: 7734.8934, Valid loss: 8396.5647\n"
     ]
    },
    {
     "name": "stderr",
     "output_type": "stream",
     "text": [
      "Epoch [362/3000]: 100%|██████████| 15/15 [00:00<00:00, 436.17it/s, loss=1.1e+4]\n"
     ]
    },
    {
     "name": "stdout",
     "output_type": "stream",
     "text": [
      "Epoch [362/3000]: Train loss: 7799.4175, Valid loss: 7587.7166\n"
     ]
    },
    {
     "name": "stderr",
     "output_type": "stream",
     "text": [
      "Epoch [363/3000]: 100%|██████████| 15/15 [00:00<00:00, 427.35it/s, loss=5.49e+3]\n"
     ]
    },
    {
     "name": "stdout",
     "output_type": "stream",
     "text": [
      "Epoch [363/3000]: Train loss: 7569.8145, Valid loss: 7927.7469\n"
     ]
    },
    {
     "name": "stderr",
     "output_type": "stream",
     "text": [
      "Epoch [364/3000]: 100%|██████████| 15/15 [00:00<00:00, 428.98it/s, loss=9.16e+3]\n"
     ]
    },
    {
     "name": "stdout",
     "output_type": "stream",
     "text": [
      "Epoch [364/3000]: Train loss: 7723.6197, Valid loss: 8157.2594\n"
     ]
    },
    {
     "name": "stderr",
     "output_type": "stream",
     "text": [
      "Epoch [365/3000]: 100%|██████████| 15/15 [00:00<00:00, 173.81it/s, loss=4.5e+3]\n"
     ]
    },
    {
     "name": "stdout",
     "output_type": "stream",
     "text": [
      "Epoch [365/3000]: Train loss: 7528.2440, Valid loss: 7610.7051\n"
     ]
    },
    {
     "name": "stderr",
     "output_type": "stream",
     "text": [
      "Epoch [366/3000]: 100%|██████████| 15/15 [00:00<00:00, 425.67it/s, loss=8.25e+3]\n"
     ]
    },
    {
     "name": "stdout",
     "output_type": "stream",
     "text": [
      "Epoch [366/3000]: Train loss: 7685.5434, Valid loss: 8437.9563\n"
     ]
    },
    {
     "name": "stderr",
     "output_type": "stream",
     "text": [
      "Epoch [367/3000]: 100%|██████████| 15/15 [00:00<00:00, 317.59it/s, loss=9.2e+3]\n"
     ]
    },
    {
     "name": "stdout",
     "output_type": "stream",
     "text": [
      "Epoch [367/3000]: Train loss: 7725.3436, Valid loss: 7949.8145\n"
     ]
    },
    {
     "name": "stderr",
     "output_type": "stream",
     "text": [
      "Epoch [368/3000]: 100%|██████████| 15/15 [00:00<00:00, 317.74it/s, loss=9.39e+3]\n"
     ]
    },
    {
     "name": "stdout",
     "output_type": "stream",
     "text": [
      "Epoch [368/3000]: Train loss: 7733.3248, Valid loss: 8889.7904\n"
     ]
    },
    {
     "name": "stderr",
     "output_type": "stream",
     "text": [
      "Epoch [369/3000]: 100%|██████████| 15/15 [00:00<00:00, 402.84it/s, loss=9.84e+3]\n"
     ]
    },
    {
     "name": "stdout",
     "output_type": "stream",
     "text": [
      "Epoch [369/3000]: Train loss: 7752.1614, Valid loss: 8256.2779\n"
     ]
    },
    {
     "name": "stderr",
     "output_type": "stream",
     "text": [
      "Epoch [370/3000]: 100%|██████████| 15/15 [00:00<00:00, 424.89it/s, loss=8.1e+3]\n"
     ]
    },
    {
     "name": "stdout",
     "output_type": "stream",
     "text": [
      "Epoch [370/3000]: Train loss: 7679.3421, Valid loss: 8178.9459\n"
     ]
    },
    {
     "name": "stderr",
     "output_type": "stream",
     "text": [
      "Epoch [371/3000]: 100%|██████████| 15/15 [00:00<00:00, 427.10it/s, loss=9.81e+3]\n"
     ]
    },
    {
     "name": "stdout",
     "output_type": "stream",
     "text": [
      "Epoch [371/3000]: Train loss: 7750.8478, Valid loss: 8627.5077\n"
     ]
    },
    {
     "name": "stderr",
     "output_type": "stream",
     "text": [
      "Epoch [372/3000]: 100%|██████████| 15/15 [00:00<00:00, 422.96it/s, loss=8e+3]\n"
     ]
    },
    {
     "name": "stdout",
     "output_type": "stream",
     "text": [
      "Epoch [372/3000]: Train loss: 7675.0175, Valid loss: 8010.1697\n"
     ]
    },
    {
     "name": "stderr",
     "output_type": "stream",
     "text": [
      "Epoch [373/3000]: 100%|██████████| 15/15 [00:00<00:00, 425.55it/s, loss=6.26e+3]\n"
     ]
    },
    {
     "name": "stdout",
     "output_type": "stream",
     "text": [
      "Epoch [373/3000]: Train loss: 7602.3036, Valid loss: 8353.3153\n"
     ]
    },
    {
     "name": "stderr",
     "output_type": "stream",
     "text": [
      "Epoch [374/3000]: 100%|██████████| 15/15 [00:00<00:00, 283.97it/s, loss=6.57e+3]\n"
     ]
    },
    {
     "name": "stdout",
     "output_type": "stream",
     "text": [
      "Epoch [374/3000]: Train loss: 7615.2091, Valid loss: 7660.3537\n"
     ]
    },
    {
     "name": "stderr",
     "output_type": "stream",
     "text": [
      "Epoch [375/3000]: 100%|██████████| 15/15 [00:00<00:00, 363.16it/s, loss=6.54e+3]\n"
     ]
    },
    {
     "name": "stdout",
     "output_type": "stream",
     "text": [
      "Epoch [375/3000]: Train loss: 7613.7027, Valid loss: 8252.0280\n"
     ]
    },
    {
     "name": "stderr",
     "output_type": "stream",
     "text": [
      "Epoch [376/3000]: 100%|██████████| 15/15 [00:00<00:00, 430.02it/s, loss=1.34e+4]\n"
     ]
    },
    {
     "name": "stdout",
     "output_type": "stream",
     "text": [
      "Epoch [376/3000]: Train loss: 7903.2143, Valid loss: 7816.9160\n"
     ]
    },
    {
     "name": "stderr",
     "output_type": "stream",
     "text": [
      "Epoch [377/3000]: 100%|██████████| 15/15 [00:00<00:00, 437.37it/s, loss=6.8e+3]\n"
     ]
    },
    {
     "name": "stdout",
     "output_type": "stream",
     "text": [
      "Epoch [377/3000]: Train loss: 7624.8495, Valid loss: 7981.1673\n"
     ]
    },
    {
     "name": "stderr",
     "output_type": "stream",
     "text": [
      "Epoch [378/3000]: 100%|██████████| 15/15 [00:00<00:00, 428.82it/s, loss=6.96e+3]\n"
     ]
    },
    {
     "name": "stdout",
     "output_type": "stream",
     "text": [
      "Epoch [378/3000]: Train loss: 7631.6298, Valid loss: 8495.2812\n"
     ]
    },
    {
     "name": "stderr",
     "output_type": "stream",
     "text": [
      "Epoch [379/3000]: 100%|██████████| 15/15 [00:00<00:00, 423.52it/s, loss=6.81e+3]\n"
     ]
    },
    {
     "name": "stdout",
     "output_type": "stream",
     "text": [
      "Epoch [379/3000]: Train loss: 7625.0938, Valid loss: 8400.9089\n"
     ]
    },
    {
     "name": "stderr",
     "output_type": "stream",
     "text": [
      "Epoch [380/3000]: 100%|██████████| 15/15 [00:00<00:00, 434.72it/s, loss=8.12e+3]\n"
     ]
    },
    {
     "name": "stdout",
     "output_type": "stream",
     "text": [
      "Epoch [380/3000]: Train loss: 7679.9446, Valid loss: 8273.8966\n"
     ]
    },
    {
     "name": "stderr",
     "output_type": "stream",
     "text": [
      "Epoch [381/3000]: 100%|██████████| 15/15 [00:00<00:00, 331.95it/s, loss=9.84e+3]\n"
     ]
    },
    {
     "name": "stdout",
     "output_type": "stream",
     "text": [
      "Epoch [381/3000]: Train loss: 7752.3492, Valid loss: 8266.0108\n"
     ]
    },
    {
     "name": "stderr",
     "output_type": "stream",
     "text": [
      "Epoch [382/3000]: 100%|██████████| 15/15 [00:00<00:00, 295.83it/s, loss=7.4e+3]\n"
     ]
    },
    {
     "name": "stdout",
     "output_type": "stream",
     "text": [
      "Epoch [382/3000]: Train loss: 7649.9828, Valid loss: 7838.0283\n"
     ]
    },
    {
     "name": "stderr",
     "output_type": "stream",
     "text": [
      "Epoch [383/3000]: 100%|██████████| 15/15 [00:00<00:00, 425.43it/s, loss=7.81e+3]\n"
     ]
    },
    {
     "name": "stdout",
     "output_type": "stream",
     "text": [
      "Epoch [383/3000]: Train loss: 7667.0809, Valid loss: 8036.9708\n"
     ]
    },
    {
     "name": "stderr",
     "output_type": "stream",
     "text": [
      "Epoch [384/3000]: 100%|██████████| 15/15 [00:00<00:00, 436.57it/s, loss=8.45e+3]\n"
     ]
    },
    {
     "name": "stdout",
     "output_type": "stream",
     "text": [
      "Epoch [384/3000]: Train loss: 7694.0727, Valid loss: 7492.5485\n"
     ]
    },
    {
     "name": "stderr",
     "output_type": "stream",
     "text": [
      "Epoch [385/3000]: 100%|██████████| 15/15 [00:00<00:00, 422.13it/s, loss=1.17e+4]\n"
     ]
    },
    {
     "name": "stdout",
     "output_type": "stream",
     "text": [
      "Epoch [385/3000]: Train loss: 7830.6247, Valid loss: 7912.1109\n"
     ]
    },
    {
     "name": "stderr",
     "output_type": "stream",
     "text": [
      "Epoch [386/3000]: 100%|██████████| 15/15 [00:00<00:00, 428.72it/s, loss=7.01e+3]\n"
     ]
    },
    {
     "name": "stdout",
     "output_type": "stream",
     "text": [
      "Epoch [386/3000]: Train loss: 7633.5670, Valid loss: 8272.8597\n"
     ]
    },
    {
     "name": "stderr",
     "output_type": "stream",
     "text": [
      "Epoch [387/3000]: 100%|██████████| 15/15 [00:00<00:00, 417.48it/s, loss=3.8e+3]\n"
     ]
    },
    {
     "name": "stdout",
     "output_type": "stream",
     "text": [
      "Epoch [387/3000]: Train loss: 7499.0909, Valid loss: 8247.0303\n"
     ]
    },
    {
     "name": "stderr",
     "output_type": "stream",
     "text": [
      "Epoch [388/3000]: 100%|██████████| 15/15 [00:00<00:00, 429.10it/s, loss=1.09e+4]\n"
     ]
    },
    {
     "name": "stdout",
     "output_type": "stream",
     "text": [
      "Epoch [388/3000]: Train loss: 7795.1529, Valid loss: 8807.2913\n"
     ]
    },
    {
     "name": "stderr",
     "output_type": "stream",
     "text": [
      "Epoch [389/3000]: 100%|██████████| 15/15 [00:00<00:00, 257.09it/s, loss=9.03e+3]\n"
     ]
    },
    {
     "name": "stdout",
     "output_type": "stream",
     "text": [
      "Epoch [389/3000]: Train loss: 7718.1301, Valid loss: 7808.1901\n"
     ]
    },
    {
     "name": "stderr",
     "output_type": "stream",
     "text": [
      "Epoch [390/3000]: 100%|██████████| 15/15 [00:00<00:00, 418.83it/s, loss=8.65e+3]\n"
     ]
    },
    {
     "name": "stdout",
     "output_type": "stream",
     "text": [
      "Epoch [390/3000]: Train loss: 7702.1914, Valid loss: 8113.3823\n"
     ]
    },
    {
     "name": "stderr",
     "output_type": "stream",
     "text": [
      "Epoch [391/3000]: 100%|██████████| 15/15 [00:00<00:00, 424.92it/s, loss=6.69e+3]\n"
     ]
    },
    {
     "name": "stdout",
     "output_type": "stream",
     "text": [
      "Epoch [391/3000]: Train loss: 7620.3011, Valid loss: 8151.3661\n"
     ]
    },
    {
     "name": "stderr",
     "output_type": "stream",
     "text": [
      "Epoch [392/3000]: 100%|██████████| 15/15 [00:00<00:00, 439.10it/s, loss=8.61e+3]\n"
     ]
    },
    {
     "name": "stdout",
     "output_type": "stream",
     "text": [
      "Epoch [392/3000]: Train loss: 7700.8135, Valid loss: 8155.3654\n"
     ]
    },
    {
     "name": "stderr",
     "output_type": "stream",
     "text": [
      "Epoch [393/3000]: 100%|██████████| 15/15 [00:00<00:00, 429.65it/s, loss=6.59e+3]\n"
     ]
    },
    {
     "name": "stdout",
     "output_type": "stream",
     "text": [
      "Epoch [393/3000]: Train loss: 7615.9874, Valid loss: 8783.1189\n"
     ]
    },
    {
     "name": "stderr",
     "output_type": "stream",
     "text": [
      "Epoch [394/3000]: 100%|██████████| 15/15 [00:00<00:00, 411.20it/s, loss=8.04e+3]\n"
     ]
    },
    {
     "name": "stdout",
     "output_type": "stream",
     "text": [
      "Epoch [394/3000]: Train loss: 7676.6252, Valid loss: 8142.1890\n"
     ]
    },
    {
     "name": "stderr",
     "output_type": "stream",
     "text": [
      "Epoch [395/3000]: 100%|██████████| 15/15 [00:00<00:00, 348.20it/s, loss=7.5e+3]\n"
     ]
    },
    {
     "name": "stdout",
     "output_type": "stream",
     "text": [
      "Epoch [395/3000]: Train loss: 7654.0955, Valid loss: 7933.6325\n"
     ]
    },
    {
     "name": "stderr",
     "output_type": "stream",
     "text": [
      "Epoch [396/3000]: 100%|██████████| 15/15 [00:00<00:00, 298.03it/s, loss=8.8e+3]\n"
     ]
    },
    {
     "name": "stdout",
     "output_type": "stream",
     "text": [
      "Epoch [396/3000]: Train loss: 7708.6924, Valid loss: 7473.8474\n"
     ]
    },
    {
     "name": "stderr",
     "output_type": "stream",
     "text": [
      "Epoch [397/3000]: 100%|██████████| 15/15 [00:00<00:00, 428.56it/s, loss=8.65e+3]\n"
     ]
    },
    {
     "name": "stdout",
     "output_type": "stream",
     "text": [
      "Epoch [397/3000]: Train loss: 7702.1150, Valid loss: 8091.1762\n"
     ]
    },
    {
     "name": "stderr",
     "output_type": "stream",
     "text": [
      "Epoch [398/3000]: 100%|██████████| 15/15 [00:00<00:00, 453.36it/s, loss=5.29e+3]\n"
     ]
    },
    {
     "name": "stdout",
     "output_type": "stream",
     "text": [
      "Epoch [398/3000]: Train loss: 7561.5152, Valid loss: 7746.3362\n"
     ]
    },
    {
     "name": "stderr",
     "output_type": "stream",
     "text": [
      "Epoch [399/3000]: 100%|██████████| 15/15 [00:00<00:00, 436.44it/s, loss=8.97e+3]\n"
     ]
    },
    {
     "name": "stdout",
     "output_type": "stream",
     "text": [
      "Epoch [399/3000]: Train loss: 7715.7653, Valid loss: 7632.6768\n"
     ]
    },
    {
     "name": "stderr",
     "output_type": "stream",
     "text": [
      "Epoch [400/3000]: 100%|██████████| 15/15 [00:00<00:00, 441.85it/s, loss=7.06e+3]\n"
     ]
    },
    {
     "name": "stdout",
     "output_type": "stream",
     "text": [
      "Epoch [400/3000]: Train loss: 7635.5337, Valid loss: 7939.0695\n"
     ]
    },
    {
     "name": "stderr",
     "output_type": "stream",
     "text": [
      "Epoch [401/3000]: 100%|██████████| 15/15 [00:00<00:00, 451.70it/s, loss=7.26e+3]\n"
     ]
    },
    {
     "name": "stdout",
     "output_type": "stream",
     "text": [
      "Epoch [401/3000]: Train loss: 7643.8256, Valid loss: 7596.6567\n"
     ]
    },
    {
     "name": "stderr",
     "output_type": "stream",
     "text": [
      "Epoch [402/3000]: 100%|██████████| 15/15 [00:00<00:00, 324.05it/s, loss=8.18e+3]\n"
     ]
    },
    {
     "name": "stdout",
     "output_type": "stream",
     "text": [
      "Epoch [402/3000]: Train loss: 7682.5034, Valid loss: 7611.0734\n"
     ]
    },
    {
     "name": "stderr",
     "output_type": "stream",
     "text": [
      "Epoch [403/3000]: 100%|██████████| 15/15 [00:00<00:00, 153.34it/s, loss=7.21e+3]\n"
     ]
    },
    {
     "name": "stdout",
     "output_type": "stream",
     "text": [
      "Epoch [403/3000]: Train loss: 7641.8179, Valid loss: 7420.8544\n"
     ]
    },
    {
     "name": "stderr",
     "output_type": "stream",
     "text": [
      "Epoch [404/3000]: 100%|██████████| 15/15 [00:00<00:00, 433.88it/s, loss=8.07e+3]\n"
     ]
    },
    {
     "name": "stdout",
     "output_type": "stream",
     "text": [
      "Epoch [404/3000]: Train loss: 7678.0620, Valid loss: 7582.4985\n"
     ]
    },
    {
     "name": "stderr",
     "output_type": "stream",
     "text": [
      "Epoch [405/3000]: 100%|██████████| 15/15 [00:00<00:00, 314.25it/s, loss=7.07e+3]\n"
     ]
    },
    {
     "name": "stdout",
     "output_type": "stream",
     "text": [
      "Epoch [405/3000]: Train loss: 7636.0908, Valid loss: 7448.4300\n"
     ]
    },
    {
     "name": "stderr",
     "output_type": "stream",
     "text": [
      "Epoch [406/3000]: 100%|██████████| 15/15 [00:00<00:00, 445.01it/s, loss=1.02e+4]\n"
     ]
    },
    {
     "name": "stdout",
     "output_type": "stream",
     "text": [
      "Epoch [406/3000]: Train loss: 7767.0935, Valid loss: 7944.6611\n"
     ]
    },
    {
     "name": "stderr",
     "output_type": "stream",
     "text": [
      "Epoch [407/3000]: 100%|██████████| 15/15 [00:00<00:00, 435.50it/s, loss=7.89e+3]\n"
     ]
    },
    {
     "name": "stdout",
     "output_type": "stream",
     "text": [
      "Epoch [407/3000]: Train loss: 7670.4836, Valid loss: 8085.8064\n"
     ]
    },
    {
     "name": "stderr",
     "output_type": "stream",
     "text": [
      "Epoch [408/3000]: 100%|██████████| 15/15 [00:00<00:00, 438.66it/s, loss=7.98e+3]\n"
     ]
    },
    {
     "name": "stdout",
     "output_type": "stream",
     "text": [
      "Epoch [408/3000]: Train loss: 7674.3798, Valid loss: 7938.7605\n"
     ]
    },
    {
     "name": "stderr",
     "output_type": "stream",
     "text": [
      "Epoch [409/3000]: 100%|██████████| 15/15 [00:00<00:00, 300.69it/s, loss=8.71e+3]\n"
     ]
    },
    {
     "name": "stdout",
     "output_type": "stream",
     "text": [
      "Epoch [409/3000]: Train loss: 7704.6549, Valid loss: 7922.6921\n"
     ]
    },
    {
     "name": "stderr",
     "output_type": "stream",
     "text": [
      "Epoch [410/3000]: 100%|██████████| 15/15 [00:00<00:00, 363.00it/s, loss=8.13e+3]\n"
     ]
    },
    {
     "name": "stdout",
     "output_type": "stream",
     "text": [
      "Epoch [410/3000]: Train loss: 7680.3514, Valid loss: 8136.6546\n"
     ]
    },
    {
     "name": "stderr",
     "output_type": "stream",
     "text": [
      "Epoch [411/3000]: 100%|██████████| 15/15 [00:00<00:00, 438.49it/s, loss=6.13e+3]\n"
     ]
    },
    {
     "name": "stdout",
     "output_type": "stream",
     "text": [
      "Epoch [411/3000]: Train loss: 7596.6393, Valid loss: 7620.3901\n"
     ]
    },
    {
     "name": "stderr",
     "output_type": "stream",
     "text": [
      "Epoch [412/3000]: 100%|██████████| 15/15 [00:00<00:00, 447.71it/s, loss=5.07e+3]\n"
     ]
    },
    {
     "name": "stdout",
     "output_type": "stream",
     "text": [
      "Epoch [412/3000]: Train loss: 7552.1383, Valid loss: 7878.7946\n"
     ]
    },
    {
     "name": "stderr",
     "output_type": "stream",
     "text": [
      "Epoch [413/3000]: 100%|██████████| 15/15 [00:00<00:00, 443.68it/s, loss=4.96e+3]\n"
     ]
    },
    {
     "name": "stdout",
     "output_type": "stream",
     "text": [
      "Epoch [413/3000]: Train loss: 7547.3404, Valid loss: 7872.8281\n"
     ]
    },
    {
     "name": "stderr",
     "output_type": "stream",
     "text": [
      "Epoch [414/3000]: 100%|██████████| 15/15 [00:00<00:00, 439.10it/s, loss=5.48e+3]\n"
     ]
    },
    {
     "name": "stdout",
     "output_type": "stream",
     "text": [
      "Epoch [414/3000]: Train loss: 7569.3472, Valid loss: 8162.4824\n"
     ]
    },
    {
     "name": "stderr",
     "output_type": "stream",
     "text": [
      "Epoch [415/3000]: 100%|██████████| 15/15 [00:00<00:00, 441.56it/s, loss=1.01e+4]\n"
     ]
    },
    {
     "name": "stdout",
     "output_type": "stream",
     "text": [
      "Epoch [415/3000]: Train loss: 7761.5304, Valid loss: 7675.4480\n"
     ]
    },
    {
     "name": "stderr",
     "output_type": "stream",
     "text": [
      "Epoch [416/3000]: 100%|██████████| 15/15 [00:00<00:00, 310.16it/s, loss=6.1e+3]\n"
     ]
    },
    {
     "name": "stdout",
     "output_type": "stream",
     "text": [
      "Epoch [416/3000]: Train loss: 7595.5282, Valid loss: 8285.1592\n"
     ]
    },
    {
     "name": "stderr",
     "output_type": "stream",
     "text": [
      "Epoch [417/3000]: 100%|██████████| 15/15 [00:00<00:00, 330.27it/s, loss=4.62e+3]\n"
     ]
    },
    {
     "name": "stdout",
     "output_type": "stream",
     "text": [
      "Epoch [417/3000]: Train loss: 7533.2756, Valid loss: 8200.3510\n"
     ]
    },
    {
     "name": "stderr",
     "output_type": "stream",
     "text": [
      "Epoch [418/3000]: 100%|██████████| 15/15 [00:00<00:00, 421.36it/s, loss=9.4e+3]\n"
     ]
    },
    {
     "name": "stdout",
     "output_type": "stream",
     "text": [
      "Epoch [418/3000]: Train loss: 7733.8894, Valid loss: 8006.1920\n"
     ]
    },
    {
     "name": "stderr",
     "output_type": "stream",
     "text": [
      "Epoch [419/3000]: 100%|██████████| 15/15 [00:00<00:00, 442.95it/s, loss=8.26e+3]\n"
     ]
    },
    {
     "name": "stdout",
     "output_type": "stream",
     "text": [
      "Epoch [419/3000]: Train loss: 7685.7342, Valid loss: 8487.6325\n"
     ]
    },
    {
     "name": "stderr",
     "output_type": "stream",
     "text": [
      "Epoch [420/3000]: 100%|██████████| 15/15 [00:00<00:00, 445.75it/s, loss=4.71e+3]\n"
     ]
    },
    {
     "name": "stdout",
     "output_type": "stream",
     "text": [
      "Epoch [420/3000]: Train loss: 7537.0764, Valid loss: 9172.6418\n"
     ]
    },
    {
     "name": "stderr",
     "output_type": "stream",
     "text": [
      "Epoch [421/3000]: 100%|██████████| 15/15 [00:00<00:00, 430.43it/s, loss=8.61e+3]\n"
     ]
    },
    {
     "name": "stdout",
     "output_type": "stream",
     "text": [
      "Epoch [421/3000]: Train loss: 7700.5862, Valid loss: 7569.8615\n"
     ]
    },
    {
     "name": "stderr",
     "output_type": "stream",
     "text": [
      "Epoch [422/3000]: 100%|██████████| 15/15 [00:00<00:00, 445.69it/s, loss=7.48e+3]\n"
     ]
    },
    {
     "name": "stdout",
     "output_type": "stream",
     "text": [
      "Epoch [422/3000]: Train loss: 7653.0160, Valid loss: 7738.0882\n"
     ]
    },
    {
     "name": "stderr",
     "output_type": "stream",
     "text": [
      "Epoch [423/3000]: 100%|██████████| 15/15 [00:00<00:00, 322.57it/s, loss=9.52e+3]\n"
     ]
    },
    {
     "name": "stdout",
     "output_type": "stream",
     "text": [
      "Epoch [423/3000]: Train loss: 7738.6022, Valid loss: 7778.3876\n"
     ]
    },
    {
     "name": "stderr",
     "output_type": "stream",
     "text": [
      "Epoch [424/3000]: 100%|██████████| 15/15 [00:00<00:00, 322.12it/s, loss=7.3e+3]\n"
     ]
    },
    {
     "name": "stdout",
     "output_type": "stream",
     "text": [
      "Epoch [424/3000]: Train loss: 7645.5622, Valid loss: 8299.4556\n"
     ]
    },
    {
     "name": "stderr",
     "output_type": "stream",
     "text": [
      "Epoch [425/3000]: 100%|██████████| 15/15 [00:00<00:00, 441.22it/s, loss=6.93e+3]\n"
     ]
    },
    {
     "name": "stdout",
     "output_type": "stream",
     "text": [
      "Epoch [425/3000]: Train loss: 7630.0144, Valid loss: 8443.2799\n"
     ]
    },
    {
     "name": "stderr",
     "output_type": "stream",
     "text": [
      "Epoch [426/3000]: 100%|██████████| 15/15 [00:00<00:00, 429.48it/s, loss=8.52e+3]\n"
     ]
    },
    {
     "name": "stdout",
     "output_type": "stream",
     "text": [
      "Epoch [426/3000]: Train loss: 7696.7757, Valid loss: 7723.6758\n"
     ]
    },
    {
     "name": "stderr",
     "output_type": "stream",
     "text": [
      "Epoch [427/3000]: 100%|██████████| 15/15 [00:00<00:00, 428.46it/s, loss=1.02e+4]\n"
     ]
    },
    {
     "name": "stdout",
     "output_type": "stream",
     "text": [
      "Epoch [427/3000]: Train loss: 7766.2170, Valid loss: 8008.1380\n"
     ]
    },
    {
     "name": "stderr",
     "output_type": "stream",
     "text": [
      "Epoch [428/3000]: 100%|██████████| 15/15 [00:00<00:00, 429.20it/s, loss=8.8e+3]\n"
     ]
    },
    {
     "name": "stdout",
     "output_type": "stream",
     "text": [
      "Epoch [428/3000]: Train loss: 7708.5522, Valid loss: 7776.4897\n"
     ]
    },
    {
     "name": "stderr",
     "output_type": "stream",
     "text": [
      "Epoch [429/3000]: 100%|██████████| 15/15 [00:00<00:00, 431.06it/s, loss=1.24e+4]\n"
     ]
    },
    {
     "name": "stdout",
     "output_type": "stream",
     "text": [
      "Epoch [429/3000]: Train loss: 7860.8379, Valid loss: 7758.6266\n"
     ]
    },
    {
     "name": "stderr",
     "output_type": "stream",
     "text": [
      "Epoch [430/3000]: 100%|██████████| 15/15 [00:00<00:00, 303.52it/s, loss=4.76e+3]\n"
     ]
    },
    {
     "name": "stdout",
     "output_type": "stream",
     "text": [
      "Epoch [430/3000]: Train loss: 7539.1102, Valid loss: 8021.3467\n"
     ]
    },
    {
     "name": "stderr",
     "output_type": "stream",
     "text": [
      "Epoch [431/3000]: 100%|██████████| 15/15 [00:00<00:00, 330.48it/s, loss=1.08e+4]\n"
     ]
    },
    {
     "name": "stdout",
     "output_type": "stream",
     "text": [
      "Epoch [431/3000]: Train loss: 7794.0526, Valid loss: 8855.6313\n"
     ]
    },
    {
     "name": "stderr",
     "output_type": "stream",
     "text": [
      "Epoch [432/3000]: 100%|██████████| 15/15 [00:00<00:00, 437.25it/s, loss=6.43e+3]\n"
     ]
    },
    {
     "name": "stdout",
     "output_type": "stream",
     "text": [
      "Epoch [432/3000]: Train loss: 7608.9771, Valid loss: 8555.4976\n"
     ]
    },
    {
     "name": "stderr",
     "output_type": "stream",
     "text": [
      "Epoch [433/3000]: 100%|██████████| 15/15 [00:00<00:00, 436.39it/s, loss=8.61e+3]\n"
     ]
    },
    {
     "name": "stdout",
     "output_type": "stream",
     "text": [
      "Epoch [433/3000]: Train loss: 7700.4271, Valid loss: 8766.2090\n"
     ]
    },
    {
     "name": "stderr",
     "output_type": "stream",
     "text": [
      "Epoch [434/3000]: 100%|██████████| 15/15 [00:00<00:00, 438.10it/s, loss=6.41e+3]\n"
     ]
    },
    {
     "name": "stdout",
     "output_type": "stream",
     "text": [
      "Epoch [434/3000]: Train loss: 7608.5030, Valid loss: 7974.8161\n"
     ]
    },
    {
     "name": "stderr",
     "output_type": "stream",
     "text": [
      "Epoch [435/3000]: 100%|██████████| 15/15 [00:00<00:00, 440.27it/s, loss=7.77e+3]\n"
     ]
    },
    {
     "name": "stdout",
     "output_type": "stream",
     "text": [
      "Epoch [435/3000]: Train loss: 7665.5258, Valid loss: 8372.8499\n"
     ]
    },
    {
     "name": "stderr",
     "output_type": "stream",
     "text": [
      "Epoch [436/3000]: 100%|██████████| 15/15 [00:00<00:00, 429.33it/s, loss=9.54e+3]\n"
     ]
    },
    {
     "name": "stdout",
     "output_type": "stream",
     "text": [
      "Epoch [436/3000]: Train loss: 7739.4068, Valid loss: 7480.4324\n"
     ]
    },
    {
     "name": "stderr",
     "output_type": "stream",
     "text": [
      "Epoch [437/3000]: 100%|██████████| 15/15 [00:00<00:00, 321.20it/s, loss=5.85e+3]\n"
     ]
    },
    {
     "name": "stdout",
     "output_type": "stream",
     "text": [
      "Epoch [437/3000]: Train loss: 7584.8756, Valid loss: 8275.7375\n"
     ]
    },
    {
     "name": "stderr",
     "output_type": "stream",
     "text": [
      "Epoch [438/3000]: 100%|██████████| 15/15 [00:00<00:00, 324.26it/s, loss=1.01e+4]\n"
     ]
    },
    {
     "name": "stdout",
     "output_type": "stream",
     "text": [
      "Epoch [438/3000]: Train loss: 7764.8010, Valid loss: 7589.6822\n"
     ]
    },
    {
     "name": "stderr",
     "output_type": "stream",
     "text": [
      "Epoch [439/3000]: 100%|██████████| 15/15 [00:00<00:00, 414.56it/s, loss=7.5e+3]\n"
     ]
    },
    {
     "name": "stdout",
     "output_type": "stream",
     "text": [
      "Epoch [439/3000]: Train loss: 7654.1678, Valid loss: 8737.4939\n"
     ]
    },
    {
     "name": "stderr",
     "output_type": "stream",
     "text": [
      "Epoch [440/3000]: 100%|██████████| 15/15 [00:00<00:00, 360.48it/s, loss=5.4e+3]\n"
     ]
    },
    {
     "name": "stdout",
     "output_type": "stream",
     "text": [
      "Epoch [440/3000]: Train loss: 7565.9896, Valid loss: 8380.0700\n"
     ]
    },
    {
     "name": "stderr",
     "output_type": "stream",
     "text": [
      "Epoch [441/3000]: 100%|██████████| 15/15 [00:00<00:00, 345.37it/s, loss=6.23e+3]\n"
     ]
    },
    {
     "name": "stdout",
     "output_type": "stream",
     "text": [
      "Epoch [441/3000]: Train loss: 7600.7445, Valid loss: 8043.2737\n"
     ]
    },
    {
     "name": "stderr",
     "output_type": "stream",
     "text": [
      "Epoch [442/3000]: 100%|██████████| 15/15 [00:00<00:00, 145.26it/s, loss=6.32e+3]\n"
     ]
    },
    {
     "name": "stdout",
     "output_type": "stream",
     "text": [
      "Epoch [442/3000]: Train loss: 7604.4792, Valid loss: 7609.6474\n"
     ]
    },
    {
     "name": "stderr",
     "output_type": "stream",
     "text": [
      "Epoch [443/3000]: 100%|██████████| 15/15 [00:00<00:00, 152.38it/s, loss=8.46e+3]\n"
     ]
    },
    {
     "name": "stdout",
     "output_type": "stream",
     "text": [
      "Epoch [443/3000]: Train loss: 7694.3129, Valid loss: 8249.3387\n"
     ]
    },
    {
     "name": "stderr",
     "output_type": "stream",
     "text": [
      "Epoch [444/3000]: 100%|██████████| 15/15 [00:00<00:00, 313.24it/s, loss=1.09e+4]\n"
     ]
    },
    {
     "name": "stdout",
     "output_type": "stream",
     "text": [
      "Epoch [444/3000]: Train loss: 7796.2862, Valid loss: 7880.8916\n"
     ]
    },
    {
     "name": "stderr",
     "output_type": "stream",
     "text": [
      "Epoch [445/3000]: 100%|██████████| 15/15 [00:00<00:00, 354.06it/s, loss=6.82e+3]\n"
     ]
    },
    {
     "name": "stdout",
     "output_type": "stream",
     "text": [
      "Epoch [445/3000]: Train loss: 7625.6146, Valid loss: 7854.7208\n"
     ]
    },
    {
     "name": "stderr",
     "output_type": "stream",
     "text": [
      "Epoch [446/3000]: 100%|██████████| 15/15 [00:00<00:00, 347.28it/s, loss=7.14e+3]\n"
     ]
    },
    {
     "name": "stdout",
     "output_type": "stream",
     "text": [
      "Epoch [446/3000]: Train loss: 7639.1211, Valid loss: 7937.2870\n"
     ]
    },
    {
     "name": "stderr",
     "output_type": "stream",
     "text": [
      "Epoch [447/3000]: 100%|██████████| 15/15 [00:00<00:00, 355.55it/s, loss=1.03e+4]\n"
     ]
    },
    {
     "name": "stdout",
     "output_type": "stream",
     "text": [
      "Epoch [447/3000]: Train loss: 7771.9641, Valid loss: 7782.9881\n"
     ]
    },
    {
     "name": "stderr",
     "output_type": "stream",
     "text": [
      "Epoch [448/3000]: 100%|██████████| 15/15 [00:00<00:00, 274.18it/s, loss=7.05e+3]\n"
     ]
    },
    {
     "name": "stdout",
     "output_type": "stream",
     "text": [
      "Epoch [448/3000]: Train loss: 7635.1449, Valid loss: 8293.8749\n"
     ]
    },
    {
     "name": "stderr",
     "output_type": "stream",
     "text": [
      "Epoch [449/3000]: 100%|██████████| 15/15 [00:00<00:00, 353.23it/s, loss=5.97e+3]\n"
     ]
    },
    {
     "name": "stdout",
     "output_type": "stream",
     "text": [
      "Epoch [449/3000]: Train loss: 7589.9428, Valid loss: 7800.9980\n"
     ]
    },
    {
     "name": "stderr",
     "output_type": "stream",
     "text": [
      "Epoch [450/3000]: 100%|██████████| 15/15 [00:00<00:00, 182.57it/s, loss=5.47e+3]\n"
     ]
    },
    {
     "name": "stdout",
     "output_type": "stream",
     "text": [
      "Epoch [450/3000]: Train loss: 7568.8219, Valid loss: 8402.3026\n"
     ]
    },
    {
     "name": "stderr",
     "output_type": "stream",
     "text": [
      "Epoch [451/3000]: 100%|██████████| 15/15 [00:00<00:00, 324.09it/s, loss=6.72e+3]\n"
     ]
    },
    {
     "name": "stdout",
     "output_type": "stream",
     "text": [
      "Epoch [451/3000]: Train loss: 7621.2668, Valid loss: 7560.0488\n"
     ]
    },
    {
     "name": "stderr",
     "output_type": "stream",
     "text": [
      "Epoch [452/3000]: 100%|██████████| 15/15 [00:00<00:00, 356.29it/s, loss=5.63e+3]\n"
     ]
    },
    {
     "name": "stdout",
     "output_type": "stream",
     "text": [
      "Epoch [452/3000]: Train loss: 7575.6426, Valid loss: 7596.8956\n"
     ]
    },
    {
     "name": "stderr",
     "output_type": "stream",
     "text": [
      "Epoch [453/3000]: 100%|██████████| 15/15 [00:00<00:00, 363.34it/s, loss=7.46e+3]\n"
     ]
    },
    {
     "name": "stdout",
     "output_type": "stream",
     "text": [
      "Epoch [453/3000]: Train loss: 7652.2095, Valid loss: 7997.8785\n"
     ]
    },
    {
     "name": "stderr",
     "output_type": "stream",
     "text": [
      "Epoch [454/3000]: 100%|██████████| 15/15 [00:00<00:00, 386.31it/s, loss=4.94e+3]\n"
     ]
    },
    {
     "name": "stdout",
     "output_type": "stream",
     "text": [
      "Epoch [454/3000]: Train loss: 7546.5643, Valid loss: 7856.6470\n"
     ]
    },
    {
     "name": "stderr",
     "output_type": "stream",
     "text": [
      "Epoch [455/3000]: 100%|██████████| 15/15 [00:00<00:00, 424.36it/s, loss=7.52e+3]\n"
     ]
    },
    {
     "name": "stdout",
     "output_type": "stream",
     "text": [
      "Epoch [455/3000]: Train loss: 7654.7970, Valid loss: 8196.4940\n"
     ]
    },
    {
     "name": "stderr",
     "output_type": "stream",
     "text": [
      "Epoch [456/3000]: 100%|██████████| 15/15 [00:00<00:00, 407.50it/s, loss=5.18e+3]\n"
     ]
    },
    {
     "name": "stdout",
     "output_type": "stream",
     "text": [
      "Epoch [456/3000]: Train loss: 7556.9523, Valid loss: 8198.5100\n"
     ]
    },
    {
     "name": "stderr",
     "output_type": "stream",
     "text": [
      "Epoch [457/3000]: 100%|██████████| 15/15 [00:00<00:00, 414.71it/s, loss=5.71e+3]\n"
     ]
    },
    {
     "name": "stdout",
     "output_type": "stream",
     "text": [
      "Epoch [457/3000]: Train loss: 7579.1424, Valid loss: 8184.6696\n"
     ]
    },
    {
     "name": "stderr",
     "output_type": "stream",
     "text": [
      "Epoch [458/3000]: 100%|██████████| 15/15 [00:00<00:00, 252.25it/s, loss=5.05e+3]\n"
     ]
    },
    {
     "name": "stdout",
     "output_type": "stream",
     "text": [
      "Epoch [458/3000]: Train loss: 7551.4397, Valid loss: 8296.4783\n"
     ]
    },
    {
     "name": "stderr",
     "output_type": "stream",
     "text": [
      "Epoch [459/3000]: 100%|██████████| 15/15 [00:00<00:00, 370.51it/s, loss=7.33e+3]\n"
     ]
    },
    {
     "name": "stdout",
     "output_type": "stream",
     "text": [
      "Epoch [459/3000]: Train loss: 7646.7730, Valid loss: 8098.3537\n"
     ]
    },
    {
     "name": "stderr",
     "output_type": "stream",
     "text": [
      "Epoch [460/3000]: 100%|██████████| 15/15 [00:00<00:00, 358.88it/s, loss=6.47e+3]\n"
     ]
    },
    {
     "name": "stdout",
     "output_type": "stream",
     "text": [
      "Epoch [460/3000]: Train loss: 7610.7060, Valid loss: 7925.9452\n"
     ]
    },
    {
     "name": "stderr",
     "output_type": "stream",
     "text": [
      "Epoch [461/3000]: 100%|██████████| 15/15 [00:00<00:00, 416.72it/s, loss=7.32e+3]\n"
     ]
    },
    {
     "name": "stdout",
     "output_type": "stream",
     "text": [
      "Epoch [461/3000]: Train loss: 7646.4707, Valid loss: 8459.7555\n"
     ]
    },
    {
     "name": "stderr",
     "output_type": "stream",
     "text": [
      "Epoch [462/3000]: 100%|██████████| 15/15 [00:00<00:00, 423.37it/s, loss=8.7e+3]\n"
     ]
    },
    {
     "name": "stdout",
     "output_type": "stream",
     "text": [
      "Epoch [462/3000]: Train loss: 7704.3043, Valid loss: 8729.3590\n"
     ]
    },
    {
     "name": "stderr",
     "output_type": "stream",
     "text": [
      "Epoch [463/3000]: 100%|██████████| 15/15 [00:00<00:00, 437.40it/s, loss=9.89e+3]\n"
     ]
    },
    {
     "name": "stdout",
     "output_type": "stream",
     "text": [
      "Epoch [463/3000]: Train loss: 7754.4256, Valid loss: 7867.9999\n"
     ]
    },
    {
     "name": "stderr",
     "output_type": "stream",
     "text": [
      "Epoch [464/3000]: 100%|██████████| 15/15 [00:00<00:00, 440.31it/s, loss=4.75e+3]\n"
     ]
    },
    {
     "name": "stdout",
     "output_type": "stream",
     "text": [
      "Epoch [464/3000]: Train loss: 7538.9257, Valid loss: 8049.5393\n"
     ]
    },
    {
     "name": "stderr",
     "output_type": "stream",
     "text": [
      "Epoch [465/3000]: 100%|██████████| 15/15 [00:00<00:00, 318.33it/s, loss=1e+4]\n"
     ]
    },
    {
     "name": "stdout",
     "output_type": "stream",
     "text": [
      "Epoch [465/3000]: Train loss: 7760.3516, Valid loss: 8287.3548\n"
     ]
    },
    {
     "name": "stderr",
     "output_type": "stream",
     "text": [
      "Epoch [466/3000]: 100%|██████████| 15/15 [00:00<00:00, 319.16it/s, loss=1.01e+4]\n"
     ]
    },
    {
     "name": "stdout",
     "output_type": "stream",
     "text": [
      "Epoch [466/3000]: Train loss: 7762.7403, Valid loss: 8480.9209\n"
     ]
    },
    {
     "name": "stderr",
     "output_type": "stream",
     "text": [
      "Epoch [467/3000]: 100%|██████████| 15/15 [00:00<00:00, 434.33it/s, loss=9.14e+3]\n"
     ]
    },
    {
     "name": "stdout",
     "output_type": "stream",
     "text": [
      "Epoch [467/3000]: Train loss: 7722.8030, Valid loss: 7939.8251\n"
     ]
    },
    {
     "name": "stderr",
     "output_type": "stream",
     "text": [
      "Epoch [468/3000]: 100%|██████████| 15/15 [00:00<00:00, 431.94it/s, loss=7.4e+3]\n"
     ]
    },
    {
     "name": "stdout",
     "output_type": "stream",
     "text": [
      "Epoch [468/3000]: Train loss: 7649.9236, Valid loss: 7864.5628\n"
     ]
    },
    {
     "name": "stderr",
     "output_type": "stream",
     "text": [
      "Epoch [469/3000]: 100%|██████████| 15/15 [00:00<00:00, 429.00it/s, loss=6.19e+3]\n"
     ]
    },
    {
     "name": "stdout",
     "output_type": "stream",
     "text": [
      "Epoch [469/3000]: Train loss: 7599.1614, Valid loss: 7806.9423\n"
     ]
    },
    {
     "name": "stderr",
     "output_type": "stream",
     "text": [
      "Epoch [470/3000]: 100%|██████████| 15/15 [00:00<00:00, 441.37it/s, loss=1.01e+4]\n"
     ]
    },
    {
     "name": "stdout",
     "output_type": "stream",
     "text": [
      "Epoch [470/3000]: Train loss: 7764.9752, Valid loss: 7674.7347\n"
     ]
    },
    {
     "name": "stderr",
     "output_type": "stream",
     "text": [
      "Epoch [471/3000]: 100%|██████████| 15/15 [00:00<00:00, 440.21it/s, loss=5.32e+3]\n"
     ]
    },
    {
     "name": "stdout",
     "output_type": "stream",
     "text": [
      "Epoch [471/3000]: Train loss: 7562.8242, Valid loss: 8399.7854\n"
     ]
    },
    {
     "name": "stderr",
     "output_type": "stream",
     "text": [
      "Epoch [472/3000]: 100%|██████████| 15/15 [00:00<00:00, 436.06it/s, loss=1.01e+4]\n"
     ]
    },
    {
     "name": "stdout",
     "output_type": "stream",
     "text": [
      "Epoch [472/3000]: Train loss: 7762.6017, Valid loss: 7620.6600\n"
     ]
    },
    {
     "name": "stderr",
     "output_type": "stream",
     "text": [
      "Epoch [473/3000]: 100%|██████████| 15/15 [00:00<00:00, 445.17it/s, loss=5.35e+3]\n"
     ]
    },
    {
     "name": "stdout",
     "output_type": "stream",
     "text": [
      "Epoch [473/3000]: Train loss: 7563.9384, Valid loss: 7762.9237\n"
     ]
    },
    {
     "name": "stderr",
     "output_type": "stream",
     "text": [
      "Epoch [474/3000]: 100%|██████████| 15/15 [00:00<00:00, 337.45it/s, loss=4.61e+3]\n"
     ]
    },
    {
     "name": "stdout",
     "output_type": "stream",
     "text": [
      "Epoch [474/3000]: Train loss: 7532.7060, Valid loss: 8065.1191\n"
     ]
    },
    {
     "name": "stderr",
     "output_type": "stream",
     "text": [
      "Epoch [475/3000]: 100%|██████████| 15/15 [00:00<00:00, 323.44it/s, loss=4.06e+3]\n"
     ]
    },
    {
     "name": "stdout",
     "output_type": "stream",
     "text": [
      "Epoch [475/3000]: Train loss: 7509.7859, Valid loss: 7978.1263\n"
     ]
    },
    {
     "name": "stderr",
     "output_type": "stream",
     "text": [
      "Epoch [476/3000]: 100%|██████████| 15/15 [00:00<00:00, 430.12it/s, loss=8.66e+3]\n"
     ]
    },
    {
     "name": "stdout",
     "output_type": "stream",
     "text": [
      "Epoch [476/3000]: Train loss: 7702.4627, Valid loss: 8028.3303\n"
     ]
    },
    {
     "name": "stderr",
     "output_type": "stream",
     "text": [
      "Epoch [477/3000]: 100%|██████████| 15/15 [00:00<00:00, 443.72it/s, loss=6.32e+3]\n"
     ]
    },
    {
     "name": "stdout",
     "output_type": "stream",
     "text": [
      "Epoch [477/3000]: Train loss: 7604.7384, Valid loss: 7817.8914\n"
     ]
    },
    {
     "name": "stderr",
     "output_type": "stream",
     "text": [
      "Epoch [478/3000]: 100%|██████████| 15/15 [00:00<00:00, 392.52it/s, loss=6.05e+3]\n"
     ]
    },
    {
     "name": "stdout",
     "output_type": "stream",
     "text": [
      "Epoch [478/3000]: Train loss: 7593.3766, Valid loss: 7643.8421\n"
     ]
    },
    {
     "name": "stderr",
     "output_type": "stream",
     "text": [
      "Epoch [479/3000]: 100%|██████████| 15/15 [00:00<00:00, 335.28it/s, loss=8.08e+3]\n"
     ]
    },
    {
     "name": "stdout",
     "output_type": "stream",
     "text": [
      "Epoch [479/3000]: Train loss: 7678.4465, Valid loss: 8369.7679\n"
     ]
    },
    {
     "name": "stderr",
     "output_type": "stream",
     "text": [
      "Epoch [480/3000]: 100%|██████████| 15/15 [00:00<00:00, 147.03it/s, loss=8.12e+3]\n"
     ]
    },
    {
     "name": "stdout",
     "output_type": "stream",
     "text": [
      "Epoch [480/3000]: Train loss: 7680.0490, Valid loss: 8004.1128\n"
     ]
    },
    {
     "name": "stderr",
     "output_type": "stream",
     "text": [
      "Epoch [481/3000]: 100%|██████████| 15/15 [00:00<00:00, 348.68it/s, loss=4.63e+3]\n"
     ]
    },
    {
     "name": "stdout",
     "output_type": "stream",
     "text": [
      "Epoch [481/3000]: Train loss: 7533.8979, Valid loss: 7900.1403\n"
     ]
    },
    {
     "name": "stderr",
     "output_type": "stream",
     "text": [
      "Epoch [482/3000]: 100%|██████████| 15/15 [00:00<00:00, 245.81it/s, loss=5.13e+3]\n"
     ]
    },
    {
     "name": "stdout",
     "output_type": "stream",
     "text": [
      "Epoch [482/3000]: Train loss: 7554.6854, Valid loss: 7971.0912\n"
     ]
    },
    {
     "name": "stderr",
     "output_type": "stream",
     "text": [
      "Epoch [483/3000]: 100%|██████████| 15/15 [00:00<00:00, 251.21it/s, loss=5.42e+3]\n"
     ]
    },
    {
     "name": "stdout",
     "output_type": "stream",
     "text": [
      "Epoch [483/3000]: Train loss: 7567.0136, Valid loss: 8614.4065\n"
     ]
    },
    {
     "name": "stderr",
     "output_type": "stream",
     "text": [
      "Epoch [484/3000]: 100%|██████████| 15/15 [00:00<00:00, 353.33it/s, loss=6.99e+3]\n"
     ]
    },
    {
     "name": "stdout",
     "output_type": "stream",
     "text": [
      "Epoch [484/3000]: Train loss: 7632.4941, Valid loss: 8001.7718\n"
     ]
    },
    {
     "name": "stderr",
     "output_type": "stream",
     "text": [
      "Epoch [485/3000]: 100%|██████████| 15/15 [00:00<00:00, 350.93it/s, loss=8.94e+3]\n"
     ]
    },
    {
     "name": "stdout",
     "output_type": "stream",
     "text": [
      "Epoch [485/3000]: Train loss: 7714.3854, Valid loss: 8376.3188\n"
     ]
    },
    {
     "name": "stderr",
     "output_type": "stream",
     "text": [
      "Epoch [486/3000]: 100%|██████████| 15/15 [00:00<00:00, 353.79it/s, loss=6.63e+3]\n"
     ]
    },
    {
     "name": "stdout",
     "output_type": "stream",
     "text": [
      "Epoch [486/3000]: Train loss: 7617.4368, Valid loss: 8851.8594\n"
     ]
    },
    {
     "name": "stderr",
     "output_type": "stream",
     "text": [
      "Epoch [487/3000]: 100%|██████████| 15/15 [00:00<00:00, 359.17it/s, loss=7.74e+3]\n"
     ]
    },
    {
     "name": "stdout",
     "output_type": "stream",
     "text": [
      "Epoch [487/3000]: Train loss: 7664.2006, Valid loss: 8146.7047\n"
     ]
    },
    {
     "name": "stderr",
     "output_type": "stream",
     "text": [
      "Epoch [488/3000]: 100%|██████████| 15/15 [00:00<00:00, 333.51it/s, loss=6.47e+3]\n"
     ]
    },
    {
     "name": "stdout",
     "output_type": "stream",
     "text": [
      "Epoch [488/3000]: Train loss: 7610.7251, Valid loss: 7675.4124\n"
     ]
    },
    {
     "name": "stderr",
     "output_type": "stream",
     "text": [
      "Epoch [489/3000]: 100%|██████████| 15/15 [00:00<00:00, 328.02it/s, loss=7.77e+3]\n"
     ]
    },
    {
     "name": "stdout",
     "output_type": "stream",
     "text": [
      "Epoch [489/3000]: Train loss: 7665.2435, Valid loss: 7718.1221\n"
     ]
    },
    {
     "name": "stderr",
     "output_type": "stream",
     "text": [
      "Epoch [490/3000]: 100%|██████████| 15/15 [00:00<00:00, 263.57it/s, loss=5.22e+3]\n"
     ]
    },
    {
     "name": "stdout",
     "output_type": "stream",
     "text": [
      "Epoch [490/3000]: Train loss: 7558.2421, Valid loss: 7893.0070\n"
     ]
    },
    {
     "name": "stderr",
     "output_type": "stream",
     "text": [
      "Epoch [491/3000]: 100%|██████████| 15/15 [00:00<00:00, 231.58it/s, loss=6.98e+3]\n"
     ]
    },
    {
     "name": "stdout",
     "output_type": "stream",
     "text": [
      "Epoch [491/3000]: Train loss: 7632.1689, Valid loss: 7850.1477\n"
     ]
    },
    {
     "name": "stderr",
     "output_type": "stream",
     "text": [
      "Epoch [492/3000]: 100%|██████████| 15/15 [00:00<00:00, 302.81it/s, loss=6.2e+3]\n"
     ]
    },
    {
     "name": "stdout",
     "output_type": "stream",
     "text": [
      "Epoch [492/3000]: Train loss: 7599.4817, Valid loss: 8334.4964\n"
     ]
    },
    {
     "name": "stderr",
     "output_type": "stream",
     "text": [
      "Epoch [493/3000]: 100%|██████████| 15/15 [00:00<00:00, 337.08it/s, loss=1.03e+4]\n"
     ]
    },
    {
     "name": "stdout",
     "output_type": "stream",
     "text": [
      "Epoch [493/3000]: Train loss: 7769.5442, Valid loss: 8173.1569\n"
     ]
    },
    {
     "name": "stderr",
     "output_type": "stream",
     "text": [
      "Epoch [494/3000]: 100%|██████████| 15/15 [00:00<00:00, 326.32it/s, loss=9.34e+3]\n"
     ]
    },
    {
     "name": "stdout",
     "output_type": "stream",
     "text": [
      "Epoch [494/3000]: Train loss: 7731.3013, Valid loss: 7886.9588\n"
     ]
    },
    {
     "name": "stderr",
     "output_type": "stream",
     "text": [
      "Epoch [495/3000]: 100%|██████████| 15/15 [00:00<00:00, 349.49it/s, loss=4.3e+3]\n"
     ]
    },
    {
     "name": "stdout",
     "output_type": "stream",
     "text": [
      "Epoch [495/3000]: Train loss: 7519.8954, Valid loss: 7677.9907\n"
     ]
    },
    {
     "name": "stderr",
     "output_type": "stream",
     "text": [
      "Epoch [496/3000]: 100%|██████████| 15/15 [00:00<00:00, 296.38it/s, loss=8.62e+3]\n"
     ]
    },
    {
     "name": "stdout",
     "output_type": "stream",
     "text": [
      "Epoch [496/3000]: Train loss: 7700.9240, Valid loss: 8902.0906\n"
     ]
    },
    {
     "name": "stderr",
     "output_type": "stream",
     "text": [
      "Epoch [497/3000]: 100%|██████████| 15/15 [00:00<00:00, 346.13it/s, loss=6.69e+3]\n"
     ]
    },
    {
     "name": "stdout",
     "output_type": "stream",
     "text": [
      "Epoch [497/3000]: Train loss: 7620.2437, Valid loss: 8207.3022\n"
     ]
    },
    {
     "name": "stderr",
     "output_type": "stream",
     "text": [
      "Epoch [498/3000]: 100%|██████████| 15/15 [00:00<00:00, 178.96it/s, loss=6.74e+3]\n"
     ]
    },
    {
     "name": "stdout",
     "output_type": "stream",
     "text": [
      "Epoch [498/3000]: Train loss: 7622.2433, Valid loss: 8189.8660\n"
     ]
    },
    {
     "name": "stderr",
     "output_type": "stream",
     "text": [
      "Epoch [499/3000]: 100%|██████████| 15/15 [00:00<00:00, 315.50it/s, loss=6.87e+3]\n"
     ]
    },
    {
     "name": "stdout",
     "output_type": "stream",
     "text": [
      "Epoch [499/3000]: Train loss: 7627.4492, Valid loss: 8325.4911\n"
     ]
    },
    {
     "name": "stderr",
     "output_type": "stream",
     "text": [
      "Epoch [500/3000]: 100%|██████████| 15/15 [00:00<00:00, 339.59it/s, loss=8.6e+3]\n"
     ]
    },
    {
     "name": "stdout",
     "output_type": "stream",
     "text": [
      "Epoch [500/3000]: Train loss: 7700.0957, Valid loss: 7612.8792\n"
     ]
    },
    {
     "name": "stderr",
     "output_type": "stream",
     "text": [
      "Epoch [501/3000]: 100%|██████████| 15/15 [00:00<00:00, 347.12it/s, loss=6.97e+3]\n"
     ]
    },
    {
     "name": "stdout",
     "output_type": "stream",
     "text": [
      "Epoch [501/3000]: Train loss: 7631.8851, Valid loss: 7657.4963\n"
     ]
    },
    {
     "name": "stderr",
     "output_type": "stream",
     "text": [
      "Epoch [502/3000]: 100%|██████████| 15/15 [00:00<00:00, 330.89it/s, loss=9.24e+3]\n"
     ]
    },
    {
     "name": "stdout",
     "output_type": "stream",
     "text": [
      "Epoch [502/3000]: Train loss: 7726.8446, Valid loss: 8093.4111\n"
     ]
    },
    {
     "name": "stderr",
     "output_type": "stream",
     "text": [
      "Epoch [503/3000]: 100%|██████████| 15/15 [00:00<00:00, 352.54it/s, loss=7.59e+3]\n"
     ]
    },
    {
     "name": "stdout",
     "output_type": "stream",
     "text": [
      "Epoch [503/3000]: Train loss: 7657.8851, Valid loss: 8115.7330\n"
     ]
    },
    {
     "name": "stderr",
     "output_type": "stream",
     "text": [
      "Epoch [504/3000]: 100%|██████████| 15/15 [00:00<00:00, 369.73it/s, loss=8.24e+3]\n"
     ]
    },
    {
     "name": "stdout",
     "output_type": "stream",
     "text": [
      "Epoch [504/3000]: Train loss: 7684.9177, Valid loss: 8147.9648\n"
     ]
    },
    {
     "name": "stderr",
     "output_type": "stream",
     "text": [
      "Epoch [505/3000]: 100%|██████████| 15/15 [00:00<00:00, 170.46it/s, loss=6.49e+3]\n"
     ]
    },
    {
     "name": "stdout",
     "output_type": "stream",
     "text": [
      "Epoch [505/3000]: Train loss: 7611.7009, Valid loss: 8118.1630\n"
     ]
    },
    {
     "name": "stderr",
     "output_type": "stream",
     "text": [
      "Epoch [506/3000]: 100%|██████████| 15/15 [00:00<00:00, 329.57it/s, loss=1.01e+4]\n"
     ]
    },
    {
     "name": "stdout",
     "output_type": "stream",
     "text": [
      "Epoch [506/3000]: Train loss: 7763.8083, Valid loss: 7909.9854\n"
     ]
    },
    {
     "name": "stderr",
     "output_type": "stream",
     "text": [
      "Epoch [507/3000]: 100%|██████████| 15/15 [00:00<00:00, 344.97it/s, loss=5.48e+3]\n"
     ]
    },
    {
     "name": "stdout",
     "output_type": "stream",
     "text": [
      "Epoch [507/3000]: Train loss: 7569.3992, Valid loss: 8364.6883\n"
     ]
    },
    {
     "name": "stderr",
     "output_type": "stream",
     "text": [
      "Epoch [508/3000]: 100%|██████████| 15/15 [00:00<00:00, 321.69it/s, loss=6.68e+3]\n"
     ]
    },
    {
     "name": "stdout",
     "output_type": "stream",
     "text": [
      "Epoch [508/3000]: Train loss: 7619.5307, Valid loss: 8324.2273\n"
     ]
    },
    {
     "name": "stderr",
     "output_type": "stream",
     "text": [
      "Epoch [509/3000]: 100%|██████████| 15/15 [00:00<00:00, 344.33it/s, loss=1.07e+4]\n"
     ]
    },
    {
     "name": "stdout",
     "output_type": "stream",
     "text": [
      "Epoch [509/3000]: Train loss: 7786.6770, Valid loss: 7380.0766\n",
      "Saving model with loss 7380.077...\n"
     ]
    },
    {
     "name": "stderr",
     "output_type": "stream",
     "text": [
      "Epoch [510/3000]: 100%|██████████| 15/15 [00:00<00:00, 344.77it/s, loss=7.31e+3]\n"
     ]
    },
    {
     "name": "stdout",
     "output_type": "stream",
     "text": [
      "Epoch [510/3000]: Train loss: 7646.0671, Valid loss: 8337.5185\n"
     ]
    },
    {
     "name": "stderr",
     "output_type": "stream",
     "text": [
      "Epoch [511/3000]: 100%|██████████| 15/15 [00:00<00:00, 343.68it/s, loss=5.13e+3]\n"
     ]
    },
    {
     "name": "stdout",
     "output_type": "stream",
     "text": [
      "Epoch [511/3000]: Train loss: 7554.8447, Valid loss: 7784.3894\n"
     ]
    },
    {
     "name": "stderr",
     "output_type": "stream",
     "text": [
      "Epoch [512/3000]: 100%|██████████| 15/15 [00:00<00:00, 362.74it/s, loss=4.73e+3]\n"
     ]
    },
    {
     "name": "stdout",
     "output_type": "stream",
     "text": [
      "Epoch [512/3000]: Train loss: 7537.8524, Valid loss: 8112.8509\n"
     ]
    },
    {
     "name": "stderr",
     "output_type": "stream",
     "text": [
      "Epoch [513/3000]: 100%|██████████| 15/15 [00:00<00:00, 179.27it/s, loss=7.6e+3]\n"
     ]
    },
    {
     "name": "stdout",
     "output_type": "stream",
     "text": [
      "Epoch [513/3000]: Train loss: 7658.2111, Valid loss: 8270.7852\n"
     ]
    },
    {
     "name": "stderr",
     "output_type": "stream",
     "text": [
      "Epoch [514/3000]: 100%|██████████| 15/15 [00:00<00:00, 289.67it/s, loss=6.28e+3]\n"
     ]
    },
    {
     "name": "stdout",
     "output_type": "stream",
     "text": [
      "Epoch [514/3000]: Train loss: 7602.8590, Valid loss: 8041.0935\n"
     ]
    },
    {
     "name": "stderr",
     "output_type": "stream",
     "text": [
      "Epoch [515/3000]: 100%|██████████| 15/15 [00:00<00:00, 347.05it/s, loss=9.97e+3]\n"
     ]
    },
    {
     "name": "stdout",
     "output_type": "stream",
     "text": [
      "Epoch [515/3000]: Train loss: 7757.7480, Valid loss: 7664.9718\n"
     ]
    },
    {
     "name": "stderr",
     "output_type": "stream",
     "text": [
      "Epoch [516/3000]: 100%|██████████| 15/15 [00:00<00:00, 354.78it/s, loss=4.99e+3]\n"
     ]
    },
    {
     "name": "stdout",
     "output_type": "stream",
     "text": [
      "Epoch [516/3000]: Train loss: 7548.9863, Valid loss: 7767.1928\n"
     ]
    },
    {
     "name": "stderr",
     "output_type": "stream",
     "text": [
      "Epoch [517/3000]: 100%|██████████| 15/15 [00:00<00:00, 346.26it/s, loss=5.94e+3]\n"
     ]
    },
    {
     "name": "stdout",
     "output_type": "stream",
     "text": [
      "Epoch [517/3000]: Train loss: 7588.7640, Valid loss: 8212.6161\n"
     ]
    },
    {
     "name": "stderr",
     "output_type": "stream",
     "text": [
      "Epoch [518/3000]: 100%|██████████| 15/15 [00:00<00:00, 345.68it/s, loss=5.17e+3]\n"
     ]
    },
    {
     "name": "stdout",
     "output_type": "stream",
     "text": [
      "Epoch [518/3000]: Train loss: 7556.3071, Valid loss: 7808.8880\n"
     ]
    },
    {
     "name": "stderr",
     "output_type": "stream",
     "text": [
      "Epoch [519/3000]: 100%|██████████| 15/15 [00:00<00:00, 372.68it/s, loss=4.73e+3]\n"
     ]
    },
    {
     "name": "stdout",
     "output_type": "stream",
     "text": [
      "Epoch [519/3000]: Train loss: 7537.8198, Valid loss: 8055.2134\n"
     ]
    },
    {
     "name": "stderr",
     "output_type": "stream",
     "text": [
      "Epoch [520/3000]: 100%|██████████| 15/15 [00:00<00:00, 265.80it/s, loss=5.61e+3]\n"
     ]
    },
    {
     "name": "stdout",
     "output_type": "stream",
     "text": [
      "Epoch [520/3000]: Train loss: 7574.6617, Valid loss: 8986.9768\n"
     ]
    },
    {
     "name": "stderr",
     "output_type": "stream",
     "text": [
      "Epoch [521/3000]: 100%|██████████| 15/15 [00:00<00:00, 395.41it/s, loss=7.37e+3]\n"
     ]
    },
    {
     "name": "stdout",
     "output_type": "stream",
     "text": [
      "Epoch [521/3000]: Train loss: 7648.5428, Valid loss: 7612.1530\n"
     ]
    },
    {
     "name": "stderr",
     "output_type": "stream",
     "text": [
      "Epoch [522/3000]: 100%|██████████| 15/15 [00:00<00:00, 426.46it/s, loss=5.94e+3]\n"
     ]
    },
    {
     "name": "stdout",
     "output_type": "stream",
     "text": [
      "Epoch [522/3000]: Train loss: 7588.4696, Valid loss: 8555.8421\n"
     ]
    },
    {
     "name": "stderr",
     "output_type": "stream",
     "text": [
      "Epoch [523/3000]: 100%|██████████| 15/15 [00:00<00:00, 417.91it/s, loss=5.3e+3]\n"
     ]
    },
    {
     "name": "stdout",
     "output_type": "stream",
     "text": [
      "Epoch [523/3000]: Train loss: 7561.7801, Valid loss: 7961.9926\n"
     ]
    },
    {
     "name": "stderr",
     "output_type": "stream",
     "text": [
      "Epoch [524/3000]: 100%|██████████| 15/15 [00:00<00:00, 422.42it/s, loss=9.5e+3]\n"
     ]
    },
    {
     "name": "stdout",
     "output_type": "stream",
     "text": [
      "Epoch [524/3000]: Train loss: 7737.9710, Valid loss: 8545.5753\n"
     ]
    },
    {
     "name": "stderr",
     "output_type": "stream",
     "text": [
      "Epoch [525/3000]: 100%|██████████| 15/15 [00:00<00:00, 430.85it/s, loss=6.79e+3]\n"
     ]
    },
    {
     "name": "stdout",
     "output_type": "stream",
     "text": [
      "Epoch [525/3000]: Train loss: 7624.1109, Valid loss: 8025.5723\n"
     ]
    },
    {
     "name": "stderr",
     "output_type": "stream",
     "text": [
      "Epoch [526/3000]: 100%|██████████| 15/15 [00:00<00:00, 281.05it/s, loss=1.19e+4]\n"
     ]
    },
    {
     "name": "stdout",
     "output_type": "stream",
     "text": [
      "Epoch [526/3000]: Train loss: 7838.3060, Valid loss: 8335.6610\n"
     ]
    },
    {
     "name": "stderr",
     "output_type": "stream",
     "text": [
      "Epoch [527/3000]: 100%|██████████| 15/15 [00:00<00:00, 343.87it/s, loss=7.71e+3]\n"
     ]
    },
    {
     "name": "stdout",
     "output_type": "stream",
     "text": [
      "Epoch [527/3000]: Train loss: 7662.8498, Valid loss: 7979.5025\n"
     ]
    },
    {
     "name": "stderr",
     "output_type": "stream",
     "text": [
      "Epoch [528/3000]: 100%|██████████| 15/15 [00:00<00:00, 428.58it/s, loss=8.99e+3]\n"
     ]
    },
    {
     "name": "stdout",
     "output_type": "stream",
     "text": [
      "Epoch [528/3000]: Train loss: 7716.3242, Valid loss: 8058.7607\n"
     ]
    },
    {
     "name": "stderr",
     "output_type": "stream",
     "text": [
      "Epoch [529/3000]: 100%|██████████| 15/15 [00:00<00:00, 417.08it/s, loss=5.76e+3]\n"
     ]
    },
    {
     "name": "stdout",
     "output_type": "stream",
     "text": [
      "Epoch [529/3000]: Train loss: 7580.8794, Valid loss: 7938.0167\n"
     ]
    },
    {
     "name": "stderr",
     "output_type": "stream",
     "text": [
      "Epoch [530/3000]: 100%|██████████| 15/15 [00:00<00:00, 427.67it/s, loss=4.81e+3]\n"
     ]
    },
    {
     "name": "stdout",
     "output_type": "stream",
     "text": [
      "Epoch [530/3000]: Train loss: 7541.0925, Valid loss: 8048.9935\n"
     ]
    },
    {
     "name": "stderr",
     "output_type": "stream",
     "text": [
      "Epoch [531/3000]: 100%|██████████| 15/15 [00:00<00:00, 417.33it/s, loss=8.77e+3]\n"
     ]
    },
    {
     "name": "stdout",
     "output_type": "stream",
     "text": [
      "Epoch [531/3000]: Train loss: 7707.4730, Valid loss: 8153.2158\n"
     ]
    },
    {
     "name": "stderr",
     "output_type": "stream",
     "text": [
      "Epoch [532/3000]: 100%|██████████| 15/15 [00:00<00:00, 420.25it/s, loss=8.15e+3]\n"
     ]
    },
    {
     "name": "stdout",
     "output_type": "stream",
     "text": [
      "Epoch [532/3000]: Train loss: 7681.4110, Valid loss: 8509.0001\n"
     ]
    },
    {
     "name": "stderr",
     "output_type": "stream",
     "text": [
      "Epoch [533/3000]: 100%|██████████| 15/15 [00:00<00:00, 420.75it/s, loss=1.14e+4]\n"
     ]
    },
    {
     "name": "stdout",
     "output_type": "stream",
     "text": [
      "Epoch [533/3000]: Train loss: 7818.5158, Valid loss: 7678.8465\n"
     ]
    },
    {
     "name": "stderr",
     "output_type": "stream",
     "text": [
      "Epoch [534/3000]: 100%|██████████| 15/15 [00:00<00:00, 238.82it/s, loss=5.12e+3]\n"
     ]
    },
    {
     "name": "stdout",
     "output_type": "stream",
     "text": [
      "Epoch [534/3000]: Train loss: 7554.1920, Valid loss: 8051.5951\n"
     ]
    },
    {
     "name": "stderr",
     "output_type": "stream",
     "text": [
      "Epoch [535/3000]: 100%|██████████| 15/15 [00:00<00:00, 370.59it/s, loss=1.15e+4]\n"
     ]
    },
    {
     "name": "stdout",
     "output_type": "stream",
     "text": [
      "Epoch [535/3000]: Train loss: 7822.1911, Valid loss: 8793.4917\n"
     ]
    },
    {
     "name": "stderr",
     "output_type": "stream",
     "text": [
      "Epoch [536/3000]: 100%|██████████| 15/15 [00:00<00:00, 425.12it/s, loss=6.19e+3]\n"
     ]
    },
    {
     "name": "stdout",
     "output_type": "stream",
     "text": [
      "Epoch [536/3000]: Train loss: 7599.1600, Valid loss: 8083.1869\n"
     ]
    },
    {
     "name": "stderr",
     "output_type": "stream",
     "text": [
      "Epoch [537/3000]: 100%|██████████| 15/15 [00:00<00:00, 425.59it/s, loss=7.32e+3]\n"
     ]
    },
    {
     "name": "stdout",
     "output_type": "stream",
     "text": [
      "Epoch [537/3000]: Train loss: 7646.3277, Valid loss: 8430.2610\n"
     ]
    },
    {
     "name": "stderr",
     "output_type": "stream",
     "text": [
      "Epoch [538/3000]: 100%|██████████| 15/15 [00:00<00:00, 418.10it/s, loss=7.44e+3]\n"
     ]
    },
    {
     "name": "stdout",
     "output_type": "stream",
     "text": [
      "Epoch [538/3000]: Train loss: 7651.3369, Valid loss: 7868.9455\n"
     ]
    },
    {
     "name": "stderr",
     "output_type": "stream",
     "text": [
      "Epoch [539/3000]: 100%|██████████| 15/15 [00:00<00:00, 401.93it/s, loss=5.15e+3]\n"
     ]
    },
    {
     "name": "stdout",
     "output_type": "stream",
     "text": [
      "Epoch [539/3000]: Train loss: 7555.6126, Valid loss: 9127.6613\n"
     ]
    },
    {
     "name": "stderr",
     "output_type": "stream",
     "text": [
      "Epoch [540/3000]: 100%|██████████| 15/15 [00:00<00:00, 431.83it/s, loss=5.83e+3]\n"
     ]
    },
    {
     "name": "stdout",
     "output_type": "stream",
     "text": [
      "Epoch [540/3000]: Train loss: 7584.1066, Valid loss: 8175.5487\n"
     ]
    },
    {
     "name": "stderr",
     "output_type": "stream",
     "text": [
      "Epoch [541/3000]: 100%|██████████| 15/15 [00:00<00:00, 419.34it/s, loss=1.01e+4]\n"
     ]
    },
    {
     "name": "stdout",
     "output_type": "stream",
     "text": [
      "Epoch [541/3000]: Train loss: 7762.2072, Valid loss: 8564.6712\n"
     ]
    },
    {
     "name": "stderr",
     "output_type": "stream",
     "text": [
      "Epoch [542/3000]: 100%|██████████| 15/15 [00:00<00:00, 438.75it/s, loss=4.84e+3]\n"
     ]
    },
    {
     "name": "stdout",
     "output_type": "stream",
     "text": [
      "Epoch [542/3000]: Train loss: 7542.6005, Valid loss: 8142.4307\n"
     ]
    },
    {
     "name": "stderr",
     "output_type": "stream",
     "text": [
      "Epoch [543/3000]: 100%|██████████| 15/15 [00:00<00:00, 296.23it/s, loss=9.55e+3]\n"
     ]
    },
    {
     "name": "stdout",
     "output_type": "stream",
     "text": [
      "Epoch [543/3000]: Train loss: 7739.9589, Valid loss: 8611.2723\n"
     ]
    },
    {
     "name": "stderr",
     "output_type": "stream",
     "text": [
      "Epoch [544/3000]: 100%|██████████| 15/15 [00:00<00:00, 316.02it/s, loss=1.03e+4]\n"
     ]
    },
    {
     "name": "stdout",
     "output_type": "stream",
     "text": [
      "Epoch [544/3000]: Train loss: 7771.6531, Valid loss: 8047.5470\n"
     ]
    },
    {
     "name": "stderr",
     "output_type": "stream",
     "text": [
      "Epoch [545/3000]: 100%|██████████| 15/15 [00:00<00:00, 428.64it/s, loss=7.09e+3]\n"
     ]
    },
    {
     "name": "stdout",
     "output_type": "stream",
     "text": [
      "Epoch [545/3000]: Train loss: 7636.8819, Valid loss: 7483.6749\n"
     ]
    },
    {
     "name": "stderr",
     "output_type": "stream",
     "text": [
      "Epoch [546/3000]: 100%|██████████| 15/15 [00:00<00:00, 424.97it/s, loss=8.45e+3]\n"
     ]
    },
    {
     "name": "stdout",
     "output_type": "stream",
     "text": [
      "Epoch [546/3000]: Train loss: 7693.7938, Valid loss: 7520.8490\n"
     ]
    },
    {
     "name": "stderr",
     "output_type": "stream",
     "text": [
      "Epoch [547/3000]: 100%|██████████| 15/15 [00:00<00:00, 435.96it/s, loss=5.96e+3]\n"
     ]
    },
    {
     "name": "stdout",
     "output_type": "stream",
     "text": [
      "Epoch [547/3000]: Train loss: 7589.3769, Valid loss: 7743.0695\n"
     ]
    },
    {
     "name": "stderr",
     "output_type": "stream",
     "text": [
      "Epoch [548/3000]: 100%|██████████| 15/15 [00:00<00:00, 320.66it/s, loss=3.83e+3]\n"
     ]
    },
    {
     "name": "stdout",
     "output_type": "stream",
     "text": [
      "Epoch [548/3000]: Train loss: 7500.0619, Valid loss: 7560.7085\n"
     ]
    },
    {
     "name": "stderr",
     "output_type": "stream",
     "text": [
      "Epoch [549/3000]: 100%|██████████| 15/15 [00:00<00:00, 428.14it/s, loss=9.82e+3]\n"
     ]
    },
    {
     "name": "stdout",
     "output_type": "stream",
     "text": [
      "Epoch [549/3000]: Train loss: 7751.1482, Valid loss: 7681.1823\n"
     ]
    },
    {
     "name": "stderr",
     "output_type": "stream",
     "text": [
      "Epoch [550/3000]: 100%|██████████| 15/15 [00:00<00:00, 256.21it/s, loss=8.48e+3]\n"
     ]
    },
    {
     "name": "stdout",
     "output_type": "stream",
     "text": [
      "Epoch [550/3000]: Train loss: 7695.0060, Valid loss: 8139.3436\n"
     ]
    },
    {
     "name": "stderr",
     "output_type": "stream",
     "text": [
      "Epoch [551/3000]: 100%|██████████| 15/15 [00:00<00:00, 377.91it/s, loss=6.19e+3]\n"
     ]
    },
    {
     "name": "stdout",
     "output_type": "stream",
     "text": [
      "Epoch [551/3000]: Train loss: 7599.0557, Valid loss: 7762.0211\n"
     ]
    },
    {
     "name": "stderr",
     "output_type": "stream",
     "text": [
      "Epoch [552/3000]: 100%|██████████| 15/15 [00:00<00:00, 413.66it/s, loss=8.53e+3]\n"
     ]
    },
    {
     "name": "stdout",
     "output_type": "stream",
     "text": [
      "Epoch [552/3000]: Train loss: 7697.3665, Valid loss: 8404.3710\n"
     ]
    },
    {
     "name": "stderr",
     "output_type": "stream",
     "text": [
      "Epoch [553/3000]: 100%|██████████| 15/15 [00:00<00:00, 428.30it/s, loss=7.74e+3]\n"
     ]
    },
    {
     "name": "stdout",
     "output_type": "stream",
     "text": [
      "Epoch [553/3000]: Train loss: 7664.1402, Valid loss: 8007.5009\n"
     ]
    },
    {
     "name": "stderr",
     "output_type": "stream",
     "text": [
      "Epoch [554/3000]: 100%|██████████| 15/15 [00:00<00:00, 428.08it/s, loss=6.13e+3]\n"
     ]
    },
    {
     "name": "stdout",
     "output_type": "stream",
     "text": [
      "Epoch [554/3000]: Train loss: 7596.4868, Valid loss: 7696.4903\n"
     ]
    },
    {
     "name": "stderr",
     "output_type": "stream",
     "text": [
      "Epoch [555/3000]: 100%|██████████| 15/15 [00:00<00:00, 431.99it/s, loss=9.55e+3]\n"
     ]
    },
    {
     "name": "stdout",
     "output_type": "stream",
     "text": [
      "Epoch [555/3000]: Train loss: 7740.0842, Valid loss: 8648.3544\n"
     ]
    },
    {
     "name": "stderr",
     "output_type": "stream",
     "text": [
      "Epoch [556/3000]: 100%|██████████| 15/15 [00:00<00:00, 429.39it/s, loss=8.13e+3]\n"
     ]
    },
    {
     "name": "stdout",
     "output_type": "stream",
     "text": [
      "Epoch [556/3000]: Train loss: 7680.4998, Valid loss: 8226.1886\n"
     ]
    },
    {
     "name": "stderr",
     "output_type": "stream",
     "text": [
      "Epoch [557/3000]: 100%|██████████| 15/15 [00:00<00:00, 131.88it/s, loss=7.55e+3]\n"
     ]
    },
    {
     "name": "stdout",
     "output_type": "stream",
     "text": [
      "Epoch [557/3000]: Train loss: 7656.1910, Valid loss: 8498.5701\n"
     ]
    },
    {
     "name": "stderr",
     "output_type": "stream",
     "text": [
      "Epoch [558/3000]: 100%|██████████| 15/15 [00:00<00:00, 427.29it/s, loss=7.89e+3]\n"
     ]
    },
    {
     "name": "stdout",
     "output_type": "stream",
     "text": [
      "Epoch [558/3000]: Train loss: 7670.2069, Valid loss: 8113.2054\n"
     ]
    },
    {
     "name": "stderr",
     "output_type": "stream",
     "text": [
      "Epoch [559/3000]: 100%|██████████| 15/15 [00:00<00:00, 432.52it/s, loss=8.36e+3]\n"
     ]
    },
    {
     "name": "stdout",
     "output_type": "stream",
     "text": [
      "Epoch [559/3000]: Train loss: 7689.9687, Valid loss: 7989.7746\n"
     ]
    },
    {
     "name": "stderr",
     "output_type": "stream",
     "text": [
      "Epoch [560/3000]: 100%|██████████| 15/15 [00:00<00:00, 428.41it/s, loss=9.6e+3]\n"
     ]
    },
    {
     "name": "stdout",
     "output_type": "stream",
     "text": [
      "Epoch [560/3000]: Train loss: 7742.0757, Valid loss: 7589.7692\n"
     ]
    },
    {
     "name": "stderr",
     "output_type": "stream",
     "text": [
      "Epoch [561/3000]: 100%|██████████| 15/15 [00:00<00:00, 427.17it/s, loss=7.35e+3]\n"
     ]
    },
    {
     "name": "stdout",
     "output_type": "stream",
     "text": [
      "Epoch [561/3000]: Train loss: 7647.6940, Valid loss: 7828.2501\n"
     ]
    },
    {
     "name": "stderr",
     "output_type": "stream",
     "text": [
      "Epoch [562/3000]: 100%|██████████| 15/15 [00:00<00:00, 361.19it/s, loss=8.7e+3]\n"
     ]
    },
    {
     "name": "stdout",
     "output_type": "stream",
     "text": [
      "Epoch [562/3000]: Train loss: 7704.4554, Valid loss: 7793.5819\n"
     ]
    },
    {
     "name": "stderr",
     "output_type": "stream",
     "text": [
      "Epoch [563/3000]: 100%|██████████| 15/15 [00:00<00:00, 282.32it/s, loss=7.4e+3]\n"
     ]
    },
    {
     "name": "stdout",
     "output_type": "stream",
     "text": [
      "Epoch [563/3000]: Train loss: 7649.7403, Valid loss: 8393.6639\n"
     ]
    },
    {
     "name": "stderr",
     "output_type": "stream",
     "text": [
      "Epoch [564/3000]: 100%|██████████| 15/15 [00:00<00:00, 421.36it/s, loss=7.99e+3]\n"
     ]
    },
    {
     "name": "stdout",
     "output_type": "stream",
     "text": [
      "Epoch [564/3000]: Train loss: 7674.5878, Valid loss: 7719.3160\n"
     ]
    },
    {
     "name": "stderr",
     "output_type": "stream",
     "text": [
      "Epoch [565/3000]: 100%|██████████| 15/15 [00:00<00:00, 426.45it/s, loss=1.02e+4]\n"
     ]
    },
    {
     "name": "stdout",
     "output_type": "stream",
     "text": [
      "Epoch [565/3000]: Train loss: 7766.9151, Valid loss: 7819.5096\n"
     ]
    },
    {
     "name": "stderr",
     "output_type": "stream",
     "text": [
      "Epoch [566/3000]: 100%|██████████| 15/15 [00:00<00:00, 424.62it/s, loss=7.02e+3]\n"
     ]
    },
    {
     "name": "stdout",
     "output_type": "stream",
     "text": [
      "Epoch [566/3000]: Train loss: 7633.9078, Valid loss: 7847.0350\n"
     ]
    },
    {
     "name": "stderr",
     "output_type": "stream",
     "text": [
      "Epoch [567/3000]: 100%|██████████| 15/15 [00:00<00:00, 419.53it/s, loss=7.84e+3]\n"
     ]
    },
    {
     "name": "stdout",
     "output_type": "stream",
     "text": [
      "Epoch [567/3000]: Train loss: 7668.3481, Valid loss: 7582.0392\n"
     ]
    },
    {
     "name": "stderr",
     "output_type": "stream",
     "text": [
      "Epoch [568/3000]: 100%|██████████| 15/15 [00:00<00:00, 427.45it/s, loss=5.93e+3]\n"
     ]
    },
    {
     "name": "stdout",
     "output_type": "stream",
     "text": [
      "Epoch [568/3000]: Train loss: 7588.1105, Valid loss: 8090.2352\n"
     ]
    },
    {
     "name": "stderr",
     "output_type": "stream",
     "text": [
      "Epoch [569/3000]: 100%|██████████| 15/15 [00:00<00:00, 243.43it/s, loss=1.02e+4]\n"
     ]
    },
    {
     "name": "stdout",
     "output_type": "stream",
     "text": [
      "Epoch [569/3000]: Train loss: 7767.5349, Valid loss: 7766.0389\n"
     ]
    },
    {
     "name": "stderr",
     "output_type": "stream",
     "text": [
      "Epoch [570/3000]: 100%|██████████| 15/15 [00:00<00:00, 376.14it/s, loss=6.8e+3]\n"
     ]
    },
    {
     "name": "stdout",
     "output_type": "stream",
     "text": [
      "Epoch [570/3000]: Train loss: 7624.5405, Valid loss: 8032.6414\n"
     ]
    },
    {
     "name": "stderr",
     "output_type": "stream",
     "text": [
      "Epoch [571/3000]: 100%|██████████| 15/15 [00:00<00:00, 431.53it/s, loss=7.84e+3]\n"
     ]
    },
    {
     "name": "stdout",
     "output_type": "stream",
     "text": [
      "Epoch [571/3000]: Train loss: 7668.3058, Valid loss: 8178.4973\n"
     ]
    },
    {
     "name": "stderr",
     "output_type": "stream",
     "text": [
      "Epoch [572/3000]: 100%|██████████| 15/15 [00:00<00:00, 423.95it/s, loss=9.87e+3]\n"
     ]
    },
    {
     "name": "stdout",
     "output_type": "stream",
     "text": [
      "Epoch [572/3000]: Train loss: 7753.4501, Valid loss: 8307.1601\n"
     ]
    },
    {
     "name": "stderr",
     "output_type": "stream",
     "text": [
      "Epoch [573/3000]: 100%|██████████| 15/15 [00:00<00:00, 426.61it/s, loss=6.01e+3]\n"
     ]
    },
    {
     "name": "stdout",
     "output_type": "stream",
     "text": [
      "Epoch [573/3000]: Train loss: 7591.7556, Valid loss: 7601.9977\n"
     ]
    },
    {
     "name": "stderr",
     "output_type": "stream",
     "text": [
      "Epoch [574/3000]: 100%|██████████| 15/15 [00:00<00:00, 435.55it/s, loss=9.6e+3]\n"
     ]
    },
    {
     "name": "stdout",
     "output_type": "stream",
     "text": [
      "Epoch [574/3000]: Train loss: 7742.1572, Valid loss: 8347.1626\n"
     ]
    },
    {
     "name": "stderr",
     "output_type": "stream",
     "text": [
      "Epoch [575/3000]: 100%|██████████| 15/15 [00:00<00:00, 331.58it/s, loss=8.31e+3]\n"
     ]
    },
    {
     "name": "stdout",
     "output_type": "stream",
     "text": [
      "Epoch [575/3000]: Train loss: 7687.9629, Valid loss: 8009.9149\n"
     ]
    },
    {
     "name": "stderr",
     "output_type": "stream",
     "text": [
      "Epoch [576/3000]: 100%|██████████| 15/15 [00:00<00:00, 293.48it/s, loss=9.53e+3]\n"
     ]
    },
    {
     "name": "stdout",
     "output_type": "stream",
     "text": [
      "Epoch [576/3000]: Train loss: 7739.0453, Valid loss: 7837.3258\n"
     ]
    },
    {
     "name": "stderr",
     "output_type": "stream",
     "text": [
      "Epoch [577/3000]: 100%|██████████| 15/15 [00:00<00:00, 434.08it/s, loss=8e+3]\n"
     ]
    },
    {
     "name": "stdout",
     "output_type": "stream",
     "text": [
      "Epoch [577/3000]: Train loss: 7675.0624, Valid loss: 7929.6524\n"
     ]
    },
    {
     "name": "stderr",
     "output_type": "stream",
     "text": [
      "Epoch [578/3000]: 100%|██████████| 15/15 [00:00<00:00, 434.71it/s, loss=9.7e+3]\n"
     ]
    },
    {
     "name": "stdout",
     "output_type": "stream",
     "text": [
      "Epoch [578/3000]: Train loss: 7746.3724, Valid loss: 8672.4291\n"
     ]
    },
    {
     "name": "stderr",
     "output_type": "stream",
     "text": [
      "Epoch [579/3000]: 100%|██████████| 15/15 [00:00<00:00, 438.34it/s, loss=7.49e+3]\n"
     ]
    },
    {
     "name": "stdout",
     "output_type": "stream",
     "text": [
      "Epoch [579/3000]: Train loss: 7653.3947, Valid loss: 7470.9401\n"
     ]
    },
    {
     "name": "stderr",
     "output_type": "stream",
     "text": [
      "Epoch [580/3000]: 100%|██████████| 15/15 [00:00<00:00, 431.78it/s, loss=6.04e+3]\n"
     ]
    },
    {
     "name": "stdout",
     "output_type": "stream",
     "text": [
      "Epoch [580/3000]: Train loss: 7592.7313, Valid loss: 8062.9988\n"
     ]
    },
    {
     "name": "stderr",
     "output_type": "stream",
     "text": [
      "Epoch [581/3000]: 100%|██████████| 15/15 [00:00<00:00, 433.75it/s, loss=9.34e+3]\n"
     ]
    },
    {
     "name": "stdout",
     "output_type": "stream",
     "text": [
      "Epoch [581/3000]: Train loss: 7731.2014, Valid loss: 8638.4369\n"
     ]
    },
    {
     "name": "stderr",
     "output_type": "stream",
     "text": [
      "Epoch [582/3000]: 100%|██████████| 15/15 [00:00<00:00, 330.25it/s, loss=8.33e+3]\n"
     ]
    },
    {
     "name": "stdout",
     "output_type": "stream",
     "text": [
      "Epoch [582/3000]: Train loss: 7688.8377, Valid loss: 8000.9542\n"
     ]
    },
    {
     "name": "stderr",
     "output_type": "stream",
     "text": [
      "Epoch [583/3000]: 100%|██████████| 15/15 [00:00<00:00, 323.81it/s, loss=8.97e+3]\n"
     ]
    },
    {
     "name": "stdout",
     "output_type": "stream",
     "text": [
      "Epoch [583/3000]: Train loss: 7715.8285, Valid loss: 8117.7199\n"
     ]
    },
    {
     "name": "stderr",
     "output_type": "stream",
     "text": [
      "Epoch [584/3000]: 100%|██████████| 15/15 [00:00<00:00, 430.56it/s, loss=6.42e+3]\n"
     ]
    },
    {
     "name": "stdout",
     "output_type": "stream",
     "text": [
      "Epoch [584/3000]: Train loss: 7608.9199, Valid loss: 8427.0899\n"
     ]
    },
    {
     "name": "stderr",
     "output_type": "stream",
     "text": [
      "Epoch [585/3000]: 100%|██████████| 15/15 [00:00<00:00, 430.25it/s, loss=6.23e+3]\n"
     ]
    },
    {
     "name": "stdout",
     "output_type": "stream",
     "text": [
      "Epoch [585/3000]: Train loss: 7600.7687, Valid loss: 8738.5571\n"
     ]
    },
    {
     "name": "stderr",
     "output_type": "stream",
     "text": [
      "Epoch [586/3000]: 100%|██████████| 15/15 [00:00<00:00, 431.66it/s, loss=6.74e+3]\n"
     ]
    },
    {
     "name": "stdout",
     "output_type": "stream",
     "text": [
      "Epoch [586/3000]: Train loss: 7622.1966, Valid loss: 8082.0573\n"
     ]
    },
    {
     "name": "stderr",
     "output_type": "stream",
     "text": [
      "Epoch [587/3000]: 100%|██████████| 15/15 [00:00<00:00, 419.46it/s, loss=8.89e+3]\n"
     ]
    },
    {
     "name": "stdout",
     "output_type": "stream",
     "text": [
      "Epoch [587/3000]: Train loss: 7712.2372, Valid loss: 7786.3177\n"
     ]
    },
    {
     "name": "stderr",
     "output_type": "stream",
     "text": [
      "Epoch [588/3000]: 100%|██████████| 15/15 [00:00<00:00, 417.01it/s, loss=5.23e+3]\n"
     ]
    },
    {
     "name": "stdout",
     "output_type": "stream",
     "text": [
      "Epoch [588/3000]: Train loss: 7558.7280, Valid loss: 8311.4632\n"
     ]
    },
    {
     "name": "stderr",
     "output_type": "stream",
     "text": [
      "Epoch [589/3000]: 100%|██████████| 15/15 [00:00<00:00, 250.64it/s, loss=8.39e+3]\n"
     ]
    },
    {
     "name": "stdout",
     "output_type": "stream",
     "text": [
      "Epoch [589/3000]: Train loss: 7691.4173, Valid loss: 7969.0143\n"
     ]
    },
    {
     "name": "stderr",
     "output_type": "stream",
     "text": [
      "Epoch [590/3000]: 100%|██████████| 15/15 [00:00<00:00, 388.84it/s, loss=9.87e+3]\n"
     ]
    },
    {
     "name": "stdout",
     "output_type": "stream",
     "text": [
      "Epoch [590/3000]: Train loss: 7753.5857, Valid loss: 8597.1290\n"
     ]
    },
    {
     "name": "stderr",
     "output_type": "stream",
     "text": [
      "Epoch [591/3000]: 100%|██████████| 15/15 [00:00<00:00, 410.70it/s, loss=5.91e+3]\n"
     ]
    },
    {
     "name": "stdout",
     "output_type": "stream",
     "text": [
      "Epoch [591/3000]: Train loss: 7587.3748, Valid loss: 8743.5361\n"
     ]
    },
    {
     "name": "stderr",
     "output_type": "stream",
     "text": [
      "Epoch [592/3000]: 100%|██████████| 15/15 [00:00<00:00, 443.13it/s, loss=4.96e+3]\n"
     ]
    },
    {
     "name": "stdout",
     "output_type": "stream",
     "text": [
      "Epoch [592/3000]: Train loss: 7547.3716, Valid loss: 8659.9183\n"
     ]
    },
    {
     "name": "stderr",
     "output_type": "stream",
     "text": [
      "Epoch [593/3000]: 100%|██████████| 15/15 [00:00<00:00, 447.98it/s, loss=1.01e+4]\n"
     ]
    },
    {
     "name": "stdout",
     "output_type": "stream",
     "text": [
      "Epoch [593/3000]: Train loss: 7762.0361, Valid loss: 8276.4342\n"
     ]
    },
    {
     "name": "stderr",
     "output_type": "stream",
     "text": [
      "Epoch [594/3000]: 100%|██████████| 15/15 [00:00<00:00, 438.75it/s, loss=1.05e+4]\n"
     ]
    },
    {
     "name": "stdout",
     "output_type": "stream",
     "text": [
      "Epoch [594/3000]: Train loss: 7779.3724, Valid loss: 8309.3480\n"
     ]
    },
    {
     "name": "stderr",
     "output_type": "stream",
     "text": [
      "Epoch [595/3000]: 100%|██████████| 15/15 [00:00<00:00, 440.59it/s, loss=1.41e+4]\n"
     ]
    },
    {
     "name": "stdout",
     "output_type": "stream",
     "text": [
      "Epoch [595/3000]: Train loss: 7931.7614, Valid loss: 8072.9074\n"
     ]
    },
    {
     "name": "stderr",
     "output_type": "stream",
     "text": [
      "Epoch [596/3000]: 100%|██████████| 15/15 [00:00<00:00, 338.85it/s, loss=4.4e+3]\n"
     ]
    },
    {
     "name": "stdout",
     "output_type": "stream",
     "text": [
      "Epoch [596/3000]: Train loss: 7524.1422, Valid loss: 8175.3265\n"
     ]
    },
    {
     "name": "stderr",
     "output_type": "stream",
     "text": [
      "Epoch [597/3000]: 100%|██████████| 15/15 [00:00<00:00, 422.72it/s, loss=7.03e+3]\n"
     ]
    },
    {
     "name": "stdout",
     "output_type": "stream",
     "text": [
      "Epoch [597/3000]: Train loss: 7634.2304, Valid loss: 7851.5276\n"
     ]
    },
    {
     "name": "stderr",
     "output_type": "stream",
     "text": [
      "Epoch [598/3000]: 100%|██████████| 15/15 [00:00<00:00, 423.21it/s, loss=8043.5]\n"
     ]
    },
    {
     "name": "stdout",
     "output_type": "stream",
     "text": [
      "Epoch [598/3000]: Train loss: 7676.8218, Valid loss: 8168.0179\n"
     ]
    },
    {
     "name": "stderr",
     "output_type": "stream",
     "text": [
      "Epoch [599/3000]: 100%|██████████| 15/15 [00:00<00:00, 360.14it/s, loss=1.02e+4]"
     ]
    },
    {
     "name": "stdout",
     "output_type": "stream",
     "text": [
      "Epoch [599/3000]: Train loss: 7765.2055, Valid loss: 9938.1600\n"
     ]
    },
    {
     "name": "stderr",
     "output_type": "stream",
     "text": [
      "\n",
      "Epoch [600/3000]: 100%|██████████| 15/15 [00:00<00:00, 362.30it/s, loss=7.07e+3]\n"
     ]
    },
    {
     "name": "stdout",
     "output_type": "stream",
     "text": [
      "Epoch [600/3000]: Train loss: 7636.1253, Valid loss: 7688.1215\n"
     ]
    },
    {
     "name": "stderr",
     "output_type": "stream",
     "text": [
      "Epoch [601/3000]: 100%|██████████| 15/15 [00:00<00:00, 349.94it/s, loss=8.9e+3]\n"
     ]
    },
    {
     "name": "stdout",
     "output_type": "stream",
     "text": [
      "Epoch [601/3000]: Train loss: 7712.7602, Valid loss: 8063.5082\n"
     ]
    },
    {
     "name": "stderr",
     "output_type": "stream",
     "text": [
      "Epoch [602/3000]: 100%|██████████| 15/15 [00:00<00:00, 255.07it/s, loss=9.17e+3]\n"
     ]
    },
    {
     "name": "stdout",
     "output_type": "stream",
     "text": [
      "Epoch [602/3000]: Train loss: 7723.9544, Valid loss: 7583.0043\n"
     ]
    },
    {
     "name": "stderr",
     "output_type": "stream",
     "text": [
      "Epoch [603/3000]: 100%|██████████| 15/15 [00:00<00:00, 246.11it/s, loss=8.07e+3]\n"
     ]
    },
    {
     "name": "stdout",
     "output_type": "stream",
     "text": [
      "Epoch [603/3000]: Train loss: 7677.7701, Valid loss: 9613.5560\n"
     ]
    },
    {
     "name": "stderr",
     "output_type": "stream",
     "text": [
      "Epoch [604/3000]: 100%|██████████| 15/15 [00:00<00:00, 344.00it/s, loss=4.66e+3]\n"
     ]
    },
    {
     "name": "stdout",
     "output_type": "stream",
     "text": [
      "Epoch [604/3000]: Train loss: 7534.7420, Valid loss: 7989.4957\n"
     ]
    },
    {
     "name": "stderr",
     "output_type": "stream",
     "text": [
      "Epoch [605/3000]: 100%|██████████| 15/15 [00:00<00:00, 358.62it/s, loss=6.59e+3]\n"
     ]
    },
    {
     "name": "stdout",
     "output_type": "stream",
     "text": [
      "Epoch [605/3000]: Train loss: 7615.7969, Valid loss: 8425.4664\n"
     ]
    },
    {
     "name": "stderr",
     "output_type": "stream",
     "text": [
      "Epoch [606/3000]: 100%|██████████| 15/15 [00:00<00:00, 345.99it/s, loss=7.19e+3]\n"
     ]
    },
    {
     "name": "stdout",
     "output_type": "stream",
     "text": [
      "Epoch [606/3000]: Train loss: 7641.1328, Valid loss: 8266.1696\n"
     ]
    },
    {
     "name": "stderr",
     "output_type": "stream",
     "text": [
      "Epoch [607/3000]: 100%|██████████| 15/15 [00:00<00:00, 349.62it/s, loss=7.29e+3]\n"
     ]
    },
    {
     "name": "stdout",
     "output_type": "stream",
     "text": [
      "Epoch [607/3000]: Train loss: 7645.3114, Valid loss: 7700.9531\n"
     ]
    },
    {
     "name": "stderr",
     "output_type": "stream",
     "text": [
      "Epoch [608/3000]: 100%|██████████| 15/15 [00:00<00:00, 373.42it/s, loss=6.92e+3]\n"
     ]
    },
    {
     "name": "stdout",
     "output_type": "stream",
     "text": [
      "Epoch [608/3000]: Train loss: 7629.7469, Valid loss: 8318.6010\n"
     ]
    },
    {
     "name": "stderr",
     "output_type": "stream",
     "text": [
      "Epoch [609/3000]: 100%|██████████| 15/15 [00:00<00:00, 309.87it/s, loss=6.25e+3]\n"
     ]
    },
    {
     "name": "stdout",
     "output_type": "stream",
     "text": [
      "Epoch [609/3000]: Train loss: 7601.6730, Valid loss: 8180.4415\n"
     ]
    },
    {
     "name": "stderr",
     "output_type": "stream",
     "text": [
      "Epoch [610/3000]: 100%|██████████| 15/15 [00:00<00:00, 259.39it/s, loss=7.17e+3]\n"
     ]
    },
    {
     "name": "stdout",
     "output_type": "stream",
     "text": [
      "Epoch [610/3000]: Train loss: 7640.1985, Valid loss: 7921.4616\n"
     ]
    },
    {
     "name": "stderr",
     "output_type": "stream",
     "text": [
      "Epoch [611/3000]: 100%|██████████| 15/15 [00:00<00:00, 338.73it/s, loss=7.09e+3]\n"
     ]
    },
    {
     "name": "stdout",
     "output_type": "stream",
     "text": [
      "Epoch [611/3000]: Train loss: 7636.7342, Valid loss: 8357.5679\n"
     ]
    },
    {
     "name": "stderr",
     "output_type": "stream",
     "text": [
      "Epoch [612/3000]: 100%|██████████| 15/15 [00:00<00:00, 370.90it/s, loss=5.66e+3]\n"
     ]
    },
    {
     "name": "stdout",
     "output_type": "stream",
     "text": [
      "Epoch [612/3000]: Train loss: 7576.9047, Valid loss: 7867.1333\n"
     ]
    },
    {
     "name": "stderr",
     "output_type": "stream",
     "text": [
      "Epoch [613/3000]: 100%|██████████| 15/15 [00:00<00:00, 365.27it/s, loss=7.81e+3]\n"
     ]
    },
    {
     "name": "stdout",
     "output_type": "stream",
     "text": [
      "Epoch [613/3000]: Train loss: 7667.0742, Valid loss: 8598.0167\n"
     ]
    },
    {
     "name": "stderr",
     "output_type": "stream",
     "text": [
      "Epoch [614/3000]: 100%|██████████| 15/15 [00:00<00:00, 352.76it/s, loss=7.36e+3]\n"
     ]
    },
    {
     "name": "stdout",
     "output_type": "stream",
     "text": [
      "Epoch [614/3000]: Train loss: 7648.1689, Valid loss: 8396.9818\n"
     ]
    },
    {
     "name": "stderr",
     "output_type": "stream",
     "text": [
      "Epoch [615/3000]: 100%|██████████| 15/15 [00:00<00:00, 390.36it/s, loss=7.9e+3]\n"
     ]
    },
    {
     "name": "stdout",
     "output_type": "stream",
     "text": [
      "Epoch [615/3000]: Train loss: 7670.6226, Valid loss: 7756.0185\n"
     ]
    },
    {
     "name": "stderr",
     "output_type": "stream",
     "text": [
      "Epoch [616/3000]: 100%|██████████| 15/15 [00:00<00:00, 370.86it/s, loss=7.09e+3]\n"
     ]
    },
    {
     "name": "stdout",
     "output_type": "stream",
     "text": [
      "Epoch [616/3000]: Train loss: 7636.7238, Valid loss: 7595.9157\n"
     ]
    },
    {
     "name": "stderr",
     "output_type": "stream",
     "text": [
      "Epoch [617/3000]: 100%|██████████| 15/15 [00:00<00:00, 200.53it/s, loss=7.89e+3]\n"
     ]
    },
    {
     "name": "stdout",
     "output_type": "stream",
     "text": [
      "Epoch [617/3000]: Train loss: 7670.1801, Valid loss: 7649.4545\n"
     ]
    },
    {
     "name": "stderr",
     "output_type": "stream",
     "text": [
      "Epoch [618/3000]: 100%|██████████| 15/15 [00:00<00:00, 339.67it/s, loss=7.02e+3]\n"
     ]
    },
    {
     "name": "stdout",
     "output_type": "stream",
     "text": [
      "Epoch [618/3000]: Train loss: 7633.9189, Valid loss: 8222.1837\n"
     ]
    },
    {
     "name": "stderr",
     "output_type": "stream",
     "text": [
      "Epoch [619/3000]: 100%|██████████| 15/15 [00:00<00:00, 377.58it/s, loss=9.37e+3]\n"
     ]
    },
    {
     "name": "stdout",
     "output_type": "stream",
     "text": [
      "Epoch [619/3000]: Train loss: 7732.4788, Valid loss: 7800.2400\n"
     ]
    },
    {
     "name": "stderr",
     "output_type": "stream",
     "text": [
      "Epoch [620/3000]: 100%|██████████| 15/15 [00:00<00:00, 380.88it/s, loss=7.02e+3]\n"
     ]
    },
    {
     "name": "stdout",
     "output_type": "stream",
     "text": [
      "Epoch [620/3000]: Train loss: 7633.8542, Valid loss: 8002.9351\n"
     ]
    },
    {
     "name": "stderr",
     "output_type": "stream",
     "text": [
      "Epoch [621/3000]: 100%|██████████| 15/15 [00:00<00:00, 306.40it/s, loss=9.66e+3]\n"
     ]
    },
    {
     "name": "stdout",
     "output_type": "stream",
     "text": [
      "Epoch [621/3000]: Train loss: 7744.6048, Valid loss: 8133.8398\n"
     ]
    },
    {
     "name": "stderr",
     "output_type": "stream",
     "text": [
      "Epoch [622/3000]: 100%|██████████| 15/15 [00:00<00:00, 312.34it/s, loss=5.13e+3]\n"
     ]
    },
    {
     "name": "stdout",
     "output_type": "stream",
     "text": [
      "Epoch [622/3000]: Train loss: 7554.6288, Valid loss: 8319.0082\n"
     ]
    },
    {
     "name": "stderr",
     "output_type": "stream",
     "text": [
      "Epoch [623/3000]: 100%|██████████| 15/15 [00:00<00:00, 281.67it/s, loss=1.03e+4]\n"
     ]
    },
    {
     "name": "stdout",
     "output_type": "stream",
     "text": [
      "Epoch [623/3000]: Train loss: 7770.9370, Valid loss: 8271.2773\n"
     ]
    },
    {
     "name": "stderr",
     "output_type": "stream",
     "text": [
      "Epoch [624/3000]: 100%|██████████| 15/15 [00:00<00:00, 222.34it/s, loss=8.73e+3]\n"
     ]
    },
    {
     "name": "stdout",
     "output_type": "stream",
     "text": [
      "Epoch [624/3000]: Train loss: 7705.5940, Valid loss: 8162.0090\n"
     ]
    },
    {
     "name": "stderr",
     "output_type": "stream",
     "text": [
      "Epoch [625/3000]: 100%|██████████| 15/15 [00:00<00:00, 327.28it/s, loss=9.91e+3]\n"
     ]
    },
    {
     "name": "stdout",
     "output_type": "stream",
     "text": [
      "Epoch [625/3000]: Train loss: 7755.1766, Valid loss: 7678.3671\n"
     ]
    },
    {
     "name": "stderr",
     "output_type": "stream",
     "text": [
      "Epoch [626/3000]: 100%|██████████| 15/15 [00:00<00:00, 362.61it/s, loss=5.84e+3]\n"
     ]
    },
    {
     "name": "stdout",
     "output_type": "stream",
     "text": [
      "Epoch [626/3000]: Train loss: 7584.4421, Valid loss: 8304.3251\n"
     ]
    },
    {
     "name": "stderr",
     "output_type": "stream",
     "text": [
      "Epoch [627/3000]: 100%|██████████| 15/15 [00:00<00:00, 368.09it/s, loss=7.98e+3]\n"
     ]
    },
    {
     "name": "stdout",
     "output_type": "stream",
     "text": [
      "Epoch [627/3000]: Train loss: 7674.1450, Valid loss: 7838.4953\n"
     ]
    },
    {
     "name": "stderr",
     "output_type": "stream",
     "text": [
      "Epoch [628/3000]: 100%|██████████| 15/15 [00:00<00:00, 372.98it/s, loss=7.78e+3]\n"
     ]
    },
    {
     "name": "stdout",
     "output_type": "stream",
     "text": [
      "Epoch [628/3000]: Train loss: 7665.6516, Valid loss: 8438.2475\n"
     ]
    },
    {
     "name": "stderr",
     "output_type": "stream",
     "text": [
      "Epoch [629/3000]: 100%|██████████| 15/15 [00:00<00:00, 366.36it/s, loss=9.05e+3]\n"
     ]
    },
    {
     "name": "stdout",
     "output_type": "stream",
     "text": [
      "Epoch [629/3000]: Train loss: 7719.1236, Valid loss: 7838.1367\n"
     ]
    },
    {
     "name": "stderr",
     "output_type": "stream",
     "text": [
      "Epoch [630/3000]: 100%|██████████| 15/15 [00:00<00:00, 368.17it/s, loss=8.33e+3]\n"
     ]
    },
    {
     "name": "stdout",
     "output_type": "stream",
     "text": [
      "Epoch [630/3000]: Train loss: 7688.6290, Valid loss: 8283.0743\n"
     ]
    },
    {
     "name": "stderr",
     "output_type": "stream",
     "text": [
      "Epoch [631/3000]: 100%|██████████| 15/15 [00:00<00:00, 375.71it/s, loss=1.02e+4]\n"
     ]
    },
    {
     "name": "stdout",
     "output_type": "stream",
     "text": [
      "Epoch [631/3000]: Train loss: 7767.8085, Valid loss: 8031.1768\n"
     ]
    },
    {
     "name": "stderr",
     "output_type": "stream",
     "text": [
      "Epoch [632/3000]: 100%|██████████| 15/15 [00:00<00:00, 200.66it/s, loss=6.19e+3]\n"
     ]
    },
    {
     "name": "stdout",
     "output_type": "stream",
     "text": [
      "Epoch [632/3000]: Train loss: 7599.2296, Valid loss: 7866.1508\n"
     ]
    },
    {
     "name": "stderr",
     "output_type": "stream",
     "text": [
      "Epoch [633/3000]: 100%|██████████| 15/15 [00:00<00:00, 341.20it/s, loss=6.99e+3]\n"
     ]
    },
    {
     "name": "stdout",
     "output_type": "stream",
     "text": [
      "Epoch [633/3000]: Train loss: 7632.4882, Valid loss: 7824.2646\n"
     ]
    },
    {
     "name": "stderr",
     "output_type": "stream",
     "text": [
      "Epoch [634/3000]: 100%|██████████| 15/15 [00:00<00:00, 150.06it/s, loss=9.02e+3]\n"
     ]
    },
    {
     "name": "stdout",
     "output_type": "stream",
     "text": [
      "Epoch [634/3000]: Train loss: 7717.5736, Valid loss: 8248.4020\n"
     ]
    },
    {
     "name": "stderr",
     "output_type": "stream",
     "text": [
      "Epoch [635/3000]: 100%|██████████| 15/15 [00:00<00:00, 359.76it/s, loss=1.21e+4]\n"
     ]
    },
    {
     "name": "stdout",
     "output_type": "stream",
     "text": [
      "Epoch [635/3000]: Train loss: 7846.0229, Valid loss: 8194.2340\n"
     ]
    },
    {
     "name": "stderr",
     "output_type": "stream",
     "text": [
      "Epoch [636/3000]: 100%|██████████| 15/15 [00:00<00:00, 384.13it/s, loss=7.92e+3]\n"
     ]
    },
    {
     "name": "stdout",
     "output_type": "stream",
     "text": [
      "Epoch [636/3000]: Train loss: 7671.8110, Valid loss: 7899.7439\n"
     ]
    },
    {
     "name": "stderr",
     "output_type": "stream",
     "text": [
      "Epoch [637/3000]: 100%|██████████| 15/15 [00:00<00:00, 368.31it/s, loss=5.1e+3]\n"
     ]
    },
    {
     "name": "stdout",
     "output_type": "stream",
     "text": [
      "Epoch [637/3000]: Train loss: 7553.2433, Valid loss: 7796.1410\n"
     ]
    },
    {
     "name": "stderr",
     "output_type": "stream",
     "text": [
      "Epoch [638/3000]: 100%|██████████| 15/15 [00:00<00:00, 352.72it/s, loss=7.01e+3]\n"
     ]
    },
    {
     "name": "stdout",
     "output_type": "stream",
     "text": [
      "Epoch [638/3000]: Train loss: 7633.4825, Valid loss: 8544.9205\n"
     ]
    },
    {
     "name": "stderr",
     "output_type": "stream",
     "text": [
      "Epoch [639/3000]: 100%|██████████| 15/15 [00:00<00:00, 399.20it/s, loss=9.13e+3]\n"
     ]
    },
    {
     "name": "stdout",
     "output_type": "stream",
     "text": [
      "Epoch [639/3000]: Train loss: 7722.4263, Valid loss: 7947.3183\n"
     ]
    },
    {
     "name": "stderr",
     "output_type": "stream",
     "text": [
      "Epoch [640/3000]: 100%|██████████| 15/15 [00:00<00:00, 287.43it/s, loss=9.03e+3]\n"
     ]
    },
    {
     "name": "stdout",
     "output_type": "stream",
     "text": [
      "Epoch [640/3000]: Train loss: 7717.9838, Valid loss: 8144.3422\n"
     ]
    },
    {
     "name": "stderr",
     "output_type": "stream",
     "text": [
      "Epoch [641/3000]: 100%|██████████| 15/15 [00:00<00:00, 340.18it/s, loss=1.12e+4]\n"
     ]
    },
    {
     "name": "stdout",
     "output_type": "stream",
     "text": [
      "Epoch [641/3000]: Train loss: 7807.9817, Valid loss: 7840.4105\n"
     ]
    },
    {
     "name": "stderr",
     "output_type": "stream",
     "text": [
      "Epoch [642/3000]: 100%|██████████| 15/15 [00:00<00:00, 414.98it/s, loss=6.15e+3]\n"
     ]
    },
    {
     "name": "stdout",
     "output_type": "stream",
     "text": [
      "Epoch [642/3000]: Train loss: 7597.2533, Valid loss: 7944.6706\n"
     ]
    },
    {
     "name": "stderr",
     "output_type": "stream",
     "text": [
      "Epoch [643/3000]: 100%|██████████| 15/15 [00:00<00:00, 419.42it/s, loss=7.44e+3]\n"
     ]
    },
    {
     "name": "stdout",
     "output_type": "stream",
     "text": [
      "Epoch [643/3000]: Train loss: 7651.5621, Valid loss: 8384.5649\n"
     ]
    },
    {
     "name": "stderr",
     "output_type": "stream",
     "text": [
      "Epoch [644/3000]: 100%|██████████| 15/15 [00:00<00:00, 333.93it/s, loss=7.84e+3]\n"
     ]
    },
    {
     "name": "stdout",
     "output_type": "stream",
     "text": [
      "Epoch [644/3000]: Train loss: 7668.2708, Valid loss: 7560.7103\n"
     ]
    },
    {
     "name": "stderr",
     "output_type": "stream",
     "text": [
      "Epoch [645/3000]: 100%|██████████| 15/15 [00:00<00:00, 427.27it/s, loss=7.51e+3]\n"
     ]
    },
    {
     "name": "stdout",
     "output_type": "stream",
     "text": [
      "Epoch [645/3000]: Train loss: 7654.4439, Valid loss: 7676.0427\n"
     ]
    },
    {
     "name": "stderr",
     "output_type": "stream",
     "text": [
      "Epoch [646/3000]: 100%|██████████| 15/15 [00:00<00:00, 432.74it/s, loss=8.97e+3]\n"
     ]
    },
    {
     "name": "stdout",
     "output_type": "stream",
     "text": [
      "Epoch [646/3000]: Train loss: 7715.5882, Valid loss: 8355.7123\n"
     ]
    },
    {
     "name": "stderr",
     "output_type": "stream",
     "text": [
      "Epoch [647/3000]: 100%|██████████| 15/15 [00:00<00:00, 423.17it/s, loss=1.02e+4]\n"
     ]
    },
    {
     "name": "stdout",
     "output_type": "stream",
     "text": [
      "Epoch [647/3000]: Train loss: 7765.5770, Valid loss: 7834.9632\n"
     ]
    },
    {
     "name": "stderr",
     "output_type": "stream",
     "text": [
      "Epoch [648/3000]: 100%|██████████| 15/15 [00:00<00:00, 275.62it/s, loss=7.77e+3]\n"
     ]
    },
    {
     "name": "stdout",
     "output_type": "stream",
     "text": [
      "Epoch [648/3000]: Train loss: 7665.3313, Valid loss: 8286.1342\n"
     ]
    },
    {
     "name": "stderr",
     "output_type": "stream",
     "text": [
      "Epoch [649/3000]: 100%|██████████| 15/15 [00:00<00:00, 429.69it/s, loss=8.07e+3]\n"
     ]
    },
    {
     "name": "stdout",
     "output_type": "stream",
     "text": [
      "Epoch [649/3000]: Train loss: 7677.8554, Valid loss: 7961.4404\n"
     ]
    },
    {
     "name": "stderr",
     "output_type": "stream",
     "text": [
      "Epoch [650/3000]: 100%|██████████| 15/15 [00:00<00:00, 429.89it/s, loss=8.95e+3]\n"
     ]
    },
    {
     "name": "stdout",
     "output_type": "stream",
     "text": [
      "Epoch [650/3000]: Train loss: 7714.7425, Valid loss: 8451.2047\n"
     ]
    },
    {
     "name": "stderr",
     "output_type": "stream",
     "text": [
      "Epoch [651/3000]: 100%|██████████| 15/15 [00:00<00:00, 439.86it/s, loss=9.82e+3]"
     ]
    },
    {
     "name": "stdout",
     "output_type": "stream",
     "text": [
      "Epoch [651/3000]: Train loss: 7751.3841, Valid loss: 8001.4607"
     ]
    },
    {
     "name": "stderr",
     "output_type": "stream",
     "text": [
      "\n"
     ]
    },
    {
     "name": "stdout",
     "output_type": "stream",
     "text": [
      "\n"
     ]
    },
    {
     "name": "stderr",
     "output_type": "stream",
     "text": [
      "Epoch [652/3000]: 100%|██████████| 15/15 [00:00<00:00, 434.73it/s, loss=5.37e+3]\n"
     ]
    },
    {
     "name": "stdout",
     "output_type": "stream",
     "text": [
      "Epoch [652/3000]: Train loss: 7564.6422, Valid loss: 8139.3090\n"
     ]
    },
    {
     "name": "stderr",
     "output_type": "stream",
     "text": [
      "Epoch [653/3000]: 100%|██████████| 15/15 [00:00<00:00, 446.04it/s, loss=7.72e+3]\n"
     ]
    },
    {
     "name": "stdout",
     "output_type": "stream",
     "text": [
      "Epoch [653/3000]: Train loss: 7663.2425, Valid loss: 8013.0629\n"
     ]
    },
    {
     "name": "stderr",
     "output_type": "stream",
     "text": [
      "Epoch [654/3000]: 100%|██████████| 15/15 [00:00<00:00, 371.14it/s, loss=9.34e+3]\n"
     ]
    },
    {
     "name": "stdout",
     "output_type": "stream",
     "text": [
      "Epoch [654/3000]: Train loss: 7731.2452, Valid loss: 8510.8588\n"
     ]
    },
    {
     "name": "stderr",
     "output_type": "stream",
     "text": [
      "Epoch [655/3000]: 100%|██████████| 15/15 [00:00<00:00, 262.11it/s, loss=7.97e+3]\n"
     ]
    },
    {
     "name": "stdout",
     "output_type": "stream",
     "text": [
      "Epoch [655/3000]: Train loss: 7673.5737, Valid loss: 7719.3174\n"
     ]
    },
    {
     "name": "stderr",
     "output_type": "stream",
     "text": [
      "Epoch [656/3000]: 100%|██████████| 15/15 [00:00<00:00, 442.86it/s, loss=6.65e+3]\n"
     ]
    },
    {
     "name": "stdout",
     "output_type": "stream",
     "text": [
      "Epoch [656/3000]: Train loss: 7618.4096, Valid loss: 8673.0190\n"
     ]
    },
    {
     "name": "stderr",
     "output_type": "stream",
     "text": [
      "Epoch [657/3000]: 100%|██████████| 15/15 [00:00<00:00, 439.51it/s, loss=7.14e+3]\n"
     ]
    },
    {
     "name": "stdout",
     "output_type": "stream",
     "text": [
      "Epoch [657/3000]: Train loss: 7639.0896, Valid loss: 7754.9219\n"
     ]
    },
    {
     "name": "stderr",
     "output_type": "stream",
     "text": [
      "Epoch [658/3000]: 100%|██████████| 15/15 [00:00<00:00, 435.63it/s, loss=7.56e+3]\n"
     ]
    },
    {
     "name": "stdout",
     "output_type": "stream",
     "text": [
      "Epoch [658/3000]: Train loss: 7656.5260, Valid loss: 7996.2877\n"
     ]
    },
    {
     "name": "stderr",
     "output_type": "stream",
     "text": [
      "Epoch [659/3000]: 100%|██████████| 15/15 [00:00<00:00, 441.48it/s, loss=9.76e+3]\n"
     ]
    },
    {
     "name": "stdout",
     "output_type": "stream",
     "text": [
      "Epoch [659/3000]: Train loss: 7748.8654, Valid loss: 8249.7203\n"
     ]
    },
    {
     "name": "stderr",
     "output_type": "stream",
     "text": [
      "Epoch [660/3000]: 100%|██████████| 15/15 [00:00<00:00, 443.81it/s, loss=8.6e+3]\n"
     ]
    },
    {
     "name": "stdout",
     "output_type": "stream",
     "text": [
      "Epoch [660/3000]: Train loss: 7700.2755, Valid loss: 7698.7747\n"
     ]
    },
    {
     "name": "stderr",
     "output_type": "stream",
     "text": [
      "Epoch [661/3000]: 100%|██████████| 15/15 [00:00<00:00, 432.15it/s, loss=5.27e+3]\n"
     ]
    },
    {
     "name": "stdout",
     "output_type": "stream",
     "text": [
      "Epoch [661/3000]: Train loss: 7560.6315, Valid loss: 8495.9432\n"
     ]
    },
    {
     "name": "stderr",
     "output_type": "stream",
     "text": [
      "Epoch [662/3000]: 100%|██████████| 15/15 [00:00<00:00, 453.17it/s, loss=1.06e+4]\n"
     ]
    },
    {
     "name": "stdout",
     "output_type": "stream",
     "text": [
      "Epoch [662/3000]: Train loss: 7784.9186, Valid loss: 7802.3659\n"
     ]
    },
    {
     "name": "stderr",
     "output_type": "stream",
     "text": [
      "Epoch [663/3000]: 100%|██████████| 15/15 [00:00<00:00, 239.99it/s, loss=6.34e+3]\n"
     ]
    },
    {
     "name": "stdout",
     "output_type": "stream",
     "text": [
      "Epoch [663/3000]: Train loss: 7605.2834, Valid loss: 7976.5285\n"
     ]
    },
    {
     "name": "stderr",
     "output_type": "stream",
     "text": [
      "Epoch [664/3000]: 100%|██████████| 15/15 [00:00<00:00, 409.43it/s, loss=7.92e+3]\n"
     ]
    },
    {
     "name": "stdout",
     "output_type": "stream",
     "text": [
      "Epoch [664/3000]: Train loss: 7671.6114, Valid loss: 7986.8764\n"
     ]
    },
    {
     "name": "stderr",
     "output_type": "stream",
     "text": [
      "Epoch [665/3000]: 100%|██████████| 15/15 [00:00<00:00, 437.20it/s, loss=9.27e+3]\n"
     ]
    },
    {
     "name": "stdout",
     "output_type": "stream",
     "text": [
      "Epoch [665/3000]: Train loss: 7728.2178, Valid loss: 8011.5596\n"
     ]
    },
    {
     "name": "stderr",
     "output_type": "stream",
     "text": [
      "Epoch [666/3000]: 100%|██████████| 15/15 [00:00<00:00, 443.45it/s, loss=9.47e+3]\n"
     ]
    },
    {
     "name": "stdout",
     "output_type": "stream",
     "text": [
      "Epoch [666/3000]: Train loss: 7736.7785, Valid loss: 8540.5731\n"
     ]
    },
    {
     "name": "stderr",
     "output_type": "stream",
     "text": [
      "Epoch [667/3000]: 100%|██████████| 15/15 [00:00<00:00, 430.08it/s, loss=1.07e+4]\n"
     ]
    },
    {
     "name": "stdout",
     "output_type": "stream",
     "text": [
      "Epoch [667/3000]: Train loss: 7788.6825, Valid loss: 8096.2089\n"
     ]
    },
    {
     "name": "stderr",
     "output_type": "stream",
     "text": [
      "Epoch [668/3000]: 100%|██████████| 15/15 [00:00<00:00, 440.78it/s, loss=8.15e+3]\n"
     ]
    },
    {
     "name": "stdout",
     "output_type": "stream",
     "text": [
      "Epoch [668/3000]: Train loss: 7681.1432, Valid loss: 8403.3025\n"
     ]
    },
    {
     "name": "stderr",
     "output_type": "stream",
     "text": [
      "Epoch [669/3000]: 100%|██████████| 15/15 [00:00<00:00, 429.25it/s, loss=7.65e+3]\n"
     ]
    },
    {
     "name": "stdout",
     "output_type": "stream",
     "text": [
      "Epoch [669/3000]: Train loss: 7660.3178, Valid loss: 7526.7391\n"
     ]
    },
    {
     "name": "stderr",
     "output_type": "stream",
     "text": [
      "Epoch [670/3000]: 100%|██████████| 15/15 [00:00<00:00, 451.18it/s, loss=6.03e+3]\n"
     ]
    },
    {
     "name": "stdout",
     "output_type": "stream",
     "text": [
      "Epoch [670/3000]: Train loss: 7592.5965, Valid loss: 7877.6599\n"
     ]
    },
    {
     "name": "stderr",
     "output_type": "stream",
     "text": [
      "Epoch [671/3000]: 100%|██████████| 15/15 [00:00<00:00, 411.50it/s, loss=6.43e+3]\n"
     ]
    },
    {
     "name": "stdout",
     "output_type": "stream",
     "text": [
      "Epoch [671/3000]: Train loss: 7608.9747, Valid loss: 8202.5884\n"
     ]
    },
    {
     "name": "stderr",
     "output_type": "stream",
     "text": [
      "Epoch [672/3000]: 100%|██████████| 15/15 [00:00<00:00, 417.70it/s, loss=4.66e+3]\n"
     ]
    },
    {
     "name": "stdout",
     "output_type": "stream",
     "text": [
      "Epoch [672/3000]: Train loss: 7535.1412, Valid loss: 7468.8115\n"
     ]
    },
    {
     "name": "stderr",
     "output_type": "stream",
     "text": [
      "Epoch [673/3000]: 100%|██████████| 15/15 [00:00<00:00, 428.88it/s, loss=6.76e+3]\n"
     ]
    },
    {
     "name": "stdout",
     "output_type": "stream",
     "text": [
      "Epoch [673/3000]: Train loss: 7623.0941, Valid loss: 8238.0822\n"
     ]
    },
    {
     "name": "stderr",
     "output_type": "stream",
     "text": [
      "Epoch [674/3000]: 100%|██████████| 15/15 [00:00<00:00, 286.46it/s, loss=6.01e+3]\n"
     ]
    },
    {
     "name": "stdout",
     "output_type": "stream",
     "text": [
      "Epoch [674/3000]: Train loss: 7591.4350, Valid loss: 7844.8916\n"
     ]
    },
    {
     "name": "stderr",
     "output_type": "stream",
     "text": [
      "Epoch [675/3000]: 100%|██████████| 15/15 [00:00<00:00, 351.17it/s, loss=6.45e+3]\n"
     ]
    },
    {
     "name": "stdout",
     "output_type": "stream",
     "text": [
      "Epoch [675/3000]: Train loss: 7609.9597, Valid loss: 7947.7076\n"
     ]
    },
    {
     "name": "stderr",
     "output_type": "stream",
     "text": [
      "Epoch [676/3000]: 100%|██████████| 15/15 [00:00<00:00, 414.43it/s, loss=6.89e+3]\n"
     ]
    },
    {
     "name": "stdout",
     "output_type": "stream",
     "text": [
      "Epoch [676/3000]: Train loss: 7628.6825, Valid loss: 8353.9337\n"
     ]
    },
    {
     "name": "stderr",
     "output_type": "stream",
     "text": [
      "Epoch [677/3000]: 100%|██████████| 15/15 [00:00<00:00, 418.65it/s, loss=6.23e+3]\n"
     ]
    },
    {
     "name": "stdout",
     "output_type": "stream",
     "text": [
      "Epoch [677/3000]: Train loss: 7600.6690, Valid loss: 7925.0767\n"
     ]
    },
    {
     "name": "stderr",
     "output_type": "stream",
     "text": [
      "Epoch [678/3000]: 100%|██████████| 15/15 [00:00<00:00, 403.80it/s, loss=6.42e+3]\n"
     ]
    },
    {
     "name": "stdout",
     "output_type": "stream",
     "text": [
      "Epoch [678/3000]: Train loss: 7608.7767, Valid loss: 8144.8403\n"
     ]
    },
    {
     "name": "stderr",
     "output_type": "stream",
     "text": [
      "Epoch [679/3000]: 100%|██████████| 15/15 [00:00<00:00, 426.58it/s, loss=6.68e+3]\n"
     ]
    },
    {
     "name": "stdout",
     "output_type": "stream",
     "text": [
      "Epoch [679/3000]: Train loss: 7619.7306, Valid loss: 7619.5515\n"
     ]
    },
    {
     "name": "stderr",
     "output_type": "stream",
     "text": [
      "Epoch [680/3000]: 100%|██████████| 15/15 [00:00<00:00, 426.55it/s, loss=7.47e+3]\n"
     ]
    },
    {
     "name": "stdout",
     "output_type": "stream",
     "text": [
      "Epoch [680/3000]: Train loss: 7652.8564, Valid loss: 7526.3641\n"
     ]
    },
    {
     "name": "stderr",
     "output_type": "stream",
     "text": [
      "Epoch [681/3000]: 100%|██████████| 15/15 [00:00<00:00, 412.27it/s, loss=8.3e+3]\n"
     ]
    },
    {
     "name": "stdout",
     "output_type": "stream",
     "text": [
      "Epoch [681/3000]: Train loss: 7687.6386, Valid loss: 7667.2999\n"
     ]
    },
    {
     "name": "stderr",
     "output_type": "stream",
     "text": [
      "Epoch [682/3000]: 100%|██████████| 15/15 [00:00<00:00, 436.36it/s, loss=8.52e+3]\n"
     ]
    },
    {
     "name": "stdout",
     "output_type": "stream",
     "text": [
      "Epoch [682/3000]: Train loss: 7696.7511, Valid loss: 8136.7231\n"
     ]
    },
    {
     "name": "stderr",
     "output_type": "stream",
     "text": [
      "Epoch [683/3000]: 100%|██████████| 15/15 [00:00<00:00, 232.92it/s, loss=9.98e+3]\n"
     ]
    },
    {
     "name": "stdout",
     "output_type": "stream",
     "text": [
      "Epoch [683/3000]: Train loss: 7758.0121, Valid loss: 7870.0835\n"
     ]
    },
    {
     "name": "stderr",
     "output_type": "stream",
     "text": [
      "Epoch [684/3000]: 100%|██████████| 15/15 [00:00<00:00, 376.02it/s, loss=7.37e+3]\n"
     ]
    },
    {
     "name": "stdout",
     "output_type": "stream",
     "text": [
      "Epoch [684/3000]: Train loss: 7648.5432, Valid loss: 8111.3452\n"
     ]
    },
    {
     "name": "stderr",
     "output_type": "stream",
     "text": [
      "Epoch [685/3000]: 100%|██████████| 15/15 [00:00<00:00, 431.24it/s, loss=9.33e+3]\n"
     ]
    },
    {
     "name": "stdout",
     "output_type": "stream",
     "text": [
      "Epoch [685/3000]: Train loss: 7730.5540, Valid loss: 8379.3846\n"
     ]
    },
    {
     "name": "stderr",
     "output_type": "stream",
     "text": [
      "Epoch [686/3000]: 100%|██████████| 15/15 [00:00<00:00, 422.89it/s, loss=4.28e+3]\n"
     ]
    },
    {
     "name": "stdout",
     "output_type": "stream",
     "text": [
      "Epoch [686/3000]: Train loss: 7519.0248, Valid loss: 8787.9630\n"
     ]
    },
    {
     "name": "stderr",
     "output_type": "stream",
     "text": [
      "Epoch [687/3000]: 100%|██████████| 15/15 [00:00<00:00, 400.94it/s, loss=9.05e+3]\n"
     ]
    },
    {
     "name": "stdout",
     "output_type": "stream",
     "text": [
      "Epoch [687/3000]: Train loss: 7718.9475, Valid loss: 8079.9626\n"
     ]
    },
    {
     "name": "stderr",
     "output_type": "stream",
     "text": [
      "Epoch [688/3000]: 100%|██████████| 15/15 [00:00<00:00, 431.65it/s, loss=7.19e+3]\n"
     ]
    },
    {
     "name": "stdout",
     "output_type": "stream",
     "text": [
      "Epoch [688/3000]: Train loss: 7641.2382, Valid loss: 8876.0244\n"
     ]
    },
    {
     "name": "stderr",
     "output_type": "stream",
     "text": [
      "Epoch [689/3000]: 100%|██████████| 15/15 [00:00<00:00, 401.05it/s, loss=5.55e+3]\n"
     ]
    },
    {
     "name": "stdout",
     "output_type": "stream",
     "text": [
      "Epoch [689/3000]: Train loss: 7572.2112, Valid loss: 9172.0121\n"
     ]
    },
    {
     "name": "stderr",
     "output_type": "stream",
     "text": [
      "Epoch [690/3000]: 100%|██████████| 15/15 [00:00<00:00, 273.15it/s, loss=9.92e+3]\n"
     ]
    },
    {
     "name": "stdout",
     "output_type": "stream",
     "text": [
      "Epoch [690/3000]: Train loss: 7755.4877, Valid loss: 8517.2090\n"
     ]
    },
    {
     "name": "stderr",
     "output_type": "stream",
     "text": [
      "Epoch [691/3000]: 100%|██████████| 15/15 [00:00<00:00, 412.99it/s, loss=9.1e+3]\n"
     ]
    },
    {
     "name": "stdout",
     "output_type": "stream",
     "text": [
      "Epoch [691/3000]: Train loss: 7720.9268, Valid loss: 8491.2840\n"
     ]
    },
    {
     "name": "stderr",
     "output_type": "stream",
     "text": [
      "Epoch [692/3000]: 100%|██████████| 15/15 [00:00<00:00, 414.42it/s, loss=6.87e+3]\n"
     ]
    },
    {
     "name": "stdout",
     "output_type": "stream",
     "text": [
      "Epoch [692/3000]: Train loss: 7627.6013, Valid loss: 8193.8131\n"
     ]
    },
    {
     "name": "stderr",
     "output_type": "stream",
     "text": [
      "Epoch [693/3000]: 100%|██████████| 15/15 [00:00<00:00, 423.86it/s, loss=6.63e+3]\n"
     ]
    },
    {
     "name": "stdout",
     "output_type": "stream",
     "text": [
      "Epoch [693/3000]: Train loss: 7617.4268, Valid loss: 7964.6044\n"
     ]
    },
    {
     "name": "stderr",
     "output_type": "stream",
     "text": [
      "Epoch [694/3000]: 100%|██████████| 15/15 [00:00<00:00, 418.27it/s, loss=7.51e+3]\n"
     ]
    },
    {
     "name": "stdout",
     "output_type": "stream",
     "text": [
      "Epoch [694/3000]: Train loss: 7654.3247, Valid loss: 7974.8966\n"
     ]
    },
    {
     "name": "stderr",
     "output_type": "stream",
     "text": [
      "Epoch [695/3000]: 100%|██████████| 15/15 [00:00<00:00, 417.17it/s, loss=5.54e+3]\n"
     ]
    },
    {
     "name": "stdout",
     "output_type": "stream",
     "text": [
      "Epoch [695/3000]: Train loss: 7571.9932, Valid loss: 7513.8905\n"
     ]
    },
    {
     "name": "stderr",
     "output_type": "stream",
     "text": [
      "Epoch [696/3000]: 100%|██████████| 15/15 [00:00<00:00, 296.78it/s, loss=1.1e+4]\n"
     ]
    },
    {
     "name": "stdout",
     "output_type": "stream",
     "text": [
      "Epoch [696/3000]: Train loss: 7802.1154, Valid loss: 8222.2071\n"
     ]
    },
    {
     "name": "stderr",
     "output_type": "stream",
     "text": [
      "Epoch [697/3000]: 100%|██████████| 15/15 [00:00<00:00, 318.40it/s, loss=8.3e+3]\n"
     ]
    },
    {
     "name": "stdout",
     "output_type": "stream",
     "text": [
      "Epoch [697/3000]: Train loss: 7687.7074, Valid loss: 7635.0151\n"
     ]
    },
    {
     "name": "stderr",
     "output_type": "stream",
     "text": [
      "Epoch [698/3000]: 100%|██████████| 15/15 [00:00<00:00, 409.83it/s, loss=8.2e+3]\n"
     ]
    },
    {
     "name": "stdout",
     "output_type": "stream",
     "text": [
      "Epoch [698/3000]: Train loss: 7683.5195, Valid loss: 8044.3021\n"
     ]
    },
    {
     "name": "stderr",
     "output_type": "stream",
     "text": [
      "Epoch [699/3000]: 100%|██████████| 15/15 [00:00<00:00, 417.52it/s, loss=8.99e+3]\n"
     ]
    },
    {
     "name": "stdout",
     "output_type": "stream",
     "text": [
      "Epoch [699/3000]: Train loss: 7716.3204, Valid loss: 8006.0345\n"
     ]
    },
    {
     "name": "stderr",
     "output_type": "stream",
     "text": [
      "Epoch [700/3000]: 100%|██████████| 15/15 [00:00<00:00, 418.35it/s, loss=9.96e+3]\n"
     ]
    },
    {
     "name": "stdout",
     "output_type": "stream",
     "text": [
      "Epoch [700/3000]: Train loss: 7757.0496, Valid loss: 8174.8781\n"
     ]
    },
    {
     "name": "stderr",
     "output_type": "stream",
     "text": [
      "Epoch [701/3000]: 100%|██████████| 15/15 [00:00<00:00, 433.04it/s, loss=6.62e+3]\n"
     ]
    },
    {
     "name": "stdout",
     "output_type": "stream",
     "text": [
      "Epoch [701/3000]: Train loss: 7617.0804, Valid loss: 8615.8606\n"
     ]
    },
    {
     "name": "stderr",
     "output_type": "stream",
     "text": [
      "Epoch [702/3000]: 100%|██████████| 15/15 [00:00<00:00, 403.84it/s, loss=7.08e+3]\n"
     ]
    },
    {
     "name": "stdout",
     "output_type": "stream",
     "text": [
      "Epoch [702/3000]: Train loss: 7636.3918, Valid loss: 7770.0356\n"
     ]
    },
    {
     "name": "stderr",
     "output_type": "stream",
     "text": [
      "Epoch [703/3000]: 100%|██████████| 15/15 [00:00<00:00, 208.18it/s, loss=6.24e+3]\n"
     ]
    },
    {
     "name": "stdout",
     "output_type": "stream",
     "text": [
      "Epoch [703/3000]: Train loss: 7601.1639, Valid loss: 7767.8838\n"
     ]
    },
    {
     "name": "stderr",
     "output_type": "stream",
     "text": [
      "Epoch [704/3000]: 100%|██████████| 15/15 [00:00<00:00, 275.60it/s, loss=9.84e+3]\n"
     ]
    },
    {
     "name": "stdout",
     "output_type": "stream",
     "text": [
      "Epoch [704/3000]: Train loss: 7751.9912, Valid loss: 7594.2914\n"
     ]
    },
    {
     "name": "stderr",
     "output_type": "stream",
     "text": [
      "Epoch [705/3000]: 100%|██████████| 15/15 [00:00<00:00, 345.14it/s, loss=9.44e+3]\n"
     ]
    },
    {
     "name": "stdout",
     "output_type": "stream",
     "text": [
      "Epoch [705/3000]: Train loss: 7735.5065, Valid loss: 7972.2428\n"
     ]
    },
    {
     "name": "stderr",
     "output_type": "stream",
     "text": [
      "Epoch [706/3000]: 100%|██████████| 15/15 [00:00<00:00, 343.60it/s, loss=5.77e+3]\n"
     ]
    },
    {
     "name": "stdout",
     "output_type": "stream",
     "text": [
      "Epoch [706/3000]: Train loss: 7581.5029, Valid loss: 7421.3433\n"
     ]
    },
    {
     "name": "stderr",
     "output_type": "stream",
     "text": [
      "Epoch [707/3000]: 100%|██████████| 15/15 [00:00<00:00, 359.02it/s, loss=1.09e+4]\n"
     ]
    },
    {
     "name": "stdout",
     "output_type": "stream",
     "text": [
      "Epoch [707/3000]: Train loss: 7797.1183, Valid loss: 7993.8188\n"
     ]
    },
    {
     "name": "stderr",
     "output_type": "stream",
     "text": [
      "Epoch [708/3000]: 100%|██████████| 15/15 [00:00<00:00, 365.35it/s, loss=9.22e+3]\n"
     ]
    },
    {
     "name": "stdout",
     "output_type": "stream",
     "text": [
      "Epoch [708/3000]: Train loss: 7726.2512, Valid loss: 8001.8786\n"
     ]
    },
    {
     "name": "stderr",
     "output_type": "stream",
     "text": [
      "Epoch [709/3000]: 100%|██████████| 15/15 [00:00<00:00, 354.07it/s, loss=4.94e+3]\n"
     ]
    },
    {
     "name": "stdout",
     "output_type": "stream",
     "text": [
      "Epoch [709/3000]: Train loss: 7546.4910, Valid loss: 8117.6281\n"
     ]
    },
    {
     "name": "stderr",
     "output_type": "stream",
     "text": [
      "Epoch [710/3000]: 100%|██████████| 15/15 [00:00<00:00, 352.68it/s, loss=7.2e+3]\n"
     ]
    },
    {
     "name": "stdout",
     "output_type": "stream",
     "text": [
      "Epoch [710/3000]: Train loss: 7641.2900, Valid loss: 7988.9370\n"
     ]
    },
    {
     "name": "stderr",
     "output_type": "stream",
     "text": [
      "Epoch [711/3000]: 100%|██████████| 15/15 [00:00<00:00, 119.72it/s, loss=7.43e+3]\n"
     ]
    },
    {
     "name": "stdout",
     "output_type": "stream",
     "text": [
      "Epoch [711/3000]: Train loss: 7650.9314, Valid loss: 8008.4648\n"
     ]
    },
    {
     "name": "stderr",
     "output_type": "stream",
     "text": [
      "Epoch [712/3000]: 100%|██████████| 15/15 [00:00<00:00, 339.94it/s, loss=1.05e+4]\n"
     ]
    },
    {
     "name": "stdout",
     "output_type": "stream",
     "text": [
      "Epoch [712/3000]: Train loss: 7780.0895, Valid loss: 7900.1426\n"
     ]
    },
    {
     "name": "stderr",
     "output_type": "stream",
     "text": [
      "Epoch [713/3000]: 100%|██████████| 15/15 [00:00<00:00, 355.50it/s, loss=1.02e+4]\n"
     ]
    },
    {
     "name": "stdout",
     "output_type": "stream",
     "text": [
      "Epoch [713/3000]: Train loss: 7769.1002, Valid loss: 7974.3537\n"
     ]
    },
    {
     "name": "stderr",
     "output_type": "stream",
     "text": [
      "Epoch [714/3000]: 100%|██████████| 15/15 [00:00<00:00, 373.89it/s, loss=8.41e+3]\n"
     ]
    },
    {
     "name": "stdout",
     "output_type": "stream",
     "text": [
      "Epoch [714/3000]: Train loss: 7692.2960, Valid loss: 7588.5874\n"
     ]
    },
    {
     "name": "stderr",
     "output_type": "stream",
     "text": [
      "Epoch [715/3000]: 100%|██████████| 15/15 [00:00<00:00, 353.06it/s, loss=8.74e+3]\n"
     ]
    },
    {
     "name": "stdout",
     "output_type": "stream",
     "text": [
      "Epoch [715/3000]: Train loss: 7706.1672, Valid loss: 8536.0912\n"
     ]
    },
    {
     "name": "stderr",
     "output_type": "stream",
     "text": [
      "Epoch [716/3000]: 100%|██████████| 15/15 [00:00<00:00, 286.39it/s, loss=8.03e+3]\n"
     ]
    },
    {
     "name": "stdout",
     "output_type": "stream",
     "text": [
      "Epoch [716/3000]: Train loss: 7676.2486, Valid loss: 8584.9599\n"
     ]
    },
    {
     "name": "stderr",
     "output_type": "stream",
     "text": [
      "Epoch [717/3000]: 100%|██████████| 15/15 [00:00<00:00, 256.99it/s, loss=7.26e+3]\n"
     ]
    },
    {
     "name": "stdout",
     "output_type": "stream",
     "text": [
      "Epoch [717/3000]: Train loss: 7643.8715, Valid loss: 8071.4463\n"
     ]
    },
    {
     "name": "stderr",
     "output_type": "stream",
     "text": [
      "Epoch [718/3000]: 100%|██████████| 15/15 [00:00<00:00, 353.97it/s, loss=6.94e+3]\n"
     ]
    },
    {
     "name": "stdout",
     "output_type": "stream",
     "text": [
      "Epoch [718/3000]: Train loss: 7630.5221, Valid loss: 7713.8815\n"
     ]
    },
    {
     "name": "stderr",
     "output_type": "stream",
     "text": [
      "Epoch [719/3000]: 100%|██████████| 15/15 [00:00<00:00, 269.46it/s, loss=7e+3]\n"
     ]
    },
    {
     "name": "stdout",
     "output_type": "stream",
     "text": [
      "Epoch [719/3000]: Train loss: 7632.8620, Valid loss: 8562.8505\n"
     ]
    },
    {
     "name": "stderr",
     "output_type": "stream",
     "text": [
      "Epoch [720/3000]: 100%|██████████| 15/15 [00:00<00:00, 374.74it/s, loss=8.86e+3]\n"
     ]
    },
    {
     "name": "stdout",
     "output_type": "stream",
     "text": [
      "Epoch [720/3000]: Train loss: 7711.1854, Valid loss: 8117.5997\n"
     ]
    },
    {
     "name": "stderr",
     "output_type": "stream",
     "text": [
      "Epoch [721/3000]: 100%|██████████| 15/15 [00:00<00:00, 377.15it/s, loss=7.76e+3]\n"
     ]
    },
    {
     "name": "stdout",
     "output_type": "stream",
     "text": [
      "Epoch [721/3000]: Train loss: 7664.9183, Valid loss: 7659.9356\n"
     ]
    },
    {
     "name": "stderr",
     "output_type": "stream",
     "text": [
      "Epoch [722/3000]: 100%|██████████| 15/15 [00:00<00:00, 248.09it/s, loss=4.05e+3]\n"
     ]
    },
    {
     "name": "stdout",
     "output_type": "stream",
     "text": [
      "Epoch [722/3000]: Train loss: 7509.5126, Valid loss: 7922.7817\n"
     ]
    },
    {
     "name": "stderr",
     "output_type": "stream",
     "text": [
      "Epoch [723/3000]: 100%|██████████| 15/15 [00:00<00:00, 310.57it/s, loss=8.49e+3]\n"
     ]
    },
    {
     "name": "stdout",
     "output_type": "stream",
     "text": [
      "Epoch [723/3000]: Train loss: 7695.4972, Valid loss: 7741.5656\n"
     ]
    },
    {
     "name": "stderr",
     "output_type": "stream",
     "text": [
      "Epoch [724/3000]: 100%|██████████| 15/15 [00:00<00:00, 367.07it/s, loss=6.43e+3]\n"
     ]
    },
    {
     "name": "stdout",
     "output_type": "stream",
     "text": [
      "Epoch [724/3000]: Train loss: 7609.0253, Valid loss: 8029.3313\n"
     ]
    },
    {
     "name": "stderr",
     "output_type": "stream",
     "text": [
      "Epoch [725/3000]: 100%|██████████| 15/15 [00:00<00:00, 362.59it/s, loss=6.07e+3]\n"
     ]
    },
    {
     "name": "stdout",
     "output_type": "stream",
     "text": [
      "Epoch [725/3000]: Train loss: 7594.1685, Valid loss: 8065.1050\n"
     ]
    },
    {
     "name": "stderr",
     "output_type": "stream",
     "text": [
      "Epoch [726/3000]: 100%|██████████| 15/15 [00:00<00:00, 348.50it/s, loss=5.46e+3]\n"
     ]
    },
    {
     "name": "stdout",
     "output_type": "stream",
     "text": [
      "Epoch [726/3000]: Train loss: 7568.3068, Valid loss: 8339.4546\n"
     ]
    },
    {
     "name": "stderr",
     "output_type": "stream",
     "text": [
      "Epoch [727/3000]: 100%|██████████| 15/15 [00:00<00:00, 374.77it/s, loss=7.32e+3]\n"
     ]
    },
    {
     "name": "stdout",
     "output_type": "stream",
     "text": [
      "Epoch [727/3000]: Train loss: 7646.6129, Valid loss: 8211.8627\n"
     ]
    },
    {
     "name": "stderr",
     "output_type": "stream",
     "text": [
      "Epoch [728/3000]: 100%|██████████| 15/15 [00:00<00:00, 325.42it/s, loss=9.86e+3]\n"
     ]
    },
    {
     "name": "stdout",
     "output_type": "stream",
     "text": [
      "Epoch [728/3000]: Train loss: 7752.8809, Valid loss: 8097.2490\n"
     ]
    },
    {
     "name": "stderr",
     "output_type": "stream",
     "text": [
      "Epoch [729/3000]: 100%|██████████| 15/15 [00:00<00:00, 144.15it/s, loss=4.18e+3]\n"
     ]
    },
    {
     "name": "stdout",
     "output_type": "stream",
     "text": [
      "Epoch [729/3000]: Train loss: 7514.9049, Valid loss: 8388.6929\n"
     ]
    },
    {
     "name": "stderr",
     "output_type": "stream",
     "text": [
      "Epoch [730/3000]: 100%|██████████| 15/15 [00:00<00:00, 379.67it/s, loss=6.14e+3]\n"
     ]
    },
    {
     "name": "stdout",
     "output_type": "stream",
     "text": [
      "Epoch [730/3000]: Train loss: 7597.0153, Valid loss: 7624.0130\n"
     ]
    },
    {
     "name": "stderr",
     "output_type": "stream",
     "text": [
      "Epoch [731/3000]: 100%|██████████| 15/15 [00:00<00:00, 421.85it/s, loss=8.07e+3]\n"
     ]
    },
    {
     "name": "stdout",
     "output_type": "stream",
     "text": [
      "Epoch [731/3000]: Train loss: 7678.0879, Valid loss: 8329.0184\n"
     ]
    },
    {
     "name": "stderr",
     "output_type": "stream",
     "text": [
      "Epoch [732/3000]: 100%|██████████| 15/15 [00:00<00:00, 405.88it/s, loss=9.59e+3]\n"
     ]
    },
    {
     "name": "stdout",
     "output_type": "stream",
     "text": [
      "Epoch [732/3000]: Train loss: 7741.7766, Valid loss: 7987.5546\n"
     ]
    },
    {
     "name": "stderr",
     "output_type": "stream",
     "text": [
      "Epoch [733/3000]: 100%|██████████| 15/15 [00:00<00:00, 397.39it/s, loss=6.92e+3]\n"
     ]
    },
    {
     "name": "stdout",
     "output_type": "stream",
     "text": [
      "Epoch [733/3000]: Train loss: 7629.8276, Valid loss: 7443.2950\n"
     ]
    },
    {
     "name": "stderr",
     "output_type": "stream",
     "text": [
      "Epoch [734/3000]: 100%|██████████| 15/15 [00:00<00:00, 430.65it/s, loss=8.05e+3]\n"
     ]
    },
    {
     "name": "stdout",
     "output_type": "stream",
     "text": [
      "Epoch [734/3000]: Train loss: 7677.0595, Valid loss: 7606.7698\n"
     ]
    },
    {
     "name": "stderr",
     "output_type": "stream",
     "text": [
      "Epoch [735/3000]: 100%|██████████| 15/15 [00:00<00:00, 422.58it/s, loss=7.54e+3]\n"
     ]
    },
    {
     "name": "stdout",
     "output_type": "stream",
     "text": [
      "Epoch [735/3000]: Train loss: 7655.5876, Valid loss: 7638.9082\n"
     ]
    },
    {
     "name": "stderr",
     "output_type": "stream",
     "text": [
      "Epoch [736/3000]: 100%|██████████| 15/15 [00:00<00:00, 233.79it/s, loss=8.88e+3]\n"
     ]
    },
    {
     "name": "stdout",
     "output_type": "stream",
     "text": [
      "Epoch [736/3000]: Train loss: 7711.8001, Valid loss: 8524.1470\n"
     ]
    },
    {
     "name": "stderr",
     "output_type": "stream",
     "text": [
      "Epoch [737/3000]: 100%|██████████| 15/15 [00:00<00:00, 398.41it/s, loss=8.55e+3]\n"
     ]
    },
    {
     "name": "stdout",
     "output_type": "stream",
     "text": [
      "Epoch [737/3000]: Train loss: 7698.2273, Valid loss: 7989.2717\n"
     ]
    },
    {
     "name": "stderr",
     "output_type": "stream",
     "text": [
      "Epoch [738/3000]: 100%|██████████| 15/15 [00:00<00:00, 438.82it/s, loss=1.12e+4]\n"
     ]
    },
    {
     "name": "stdout",
     "output_type": "stream",
     "text": [
      "Epoch [738/3000]: Train loss: 7808.6869, Valid loss: 7749.6270\n"
     ]
    },
    {
     "name": "stderr",
     "output_type": "stream",
     "text": [
      "Epoch [739/3000]: 100%|██████████| 15/15 [00:00<00:00, 438.39it/s, loss=6.09e+3]\n"
     ]
    },
    {
     "name": "stdout",
     "output_type": "stream",
     "text": [
      "Epoch [739/3000]: Train loss: 7594.8296, Valid loss: 8278.2573\n"
     ]
    },
    {
     "name": "stderr",
     "output_type": "stream",
     "text": [
      "Epoch [740/3000]: 100%|██████████| 15/15 [00:00<00:00, 435.78it/s, loss=6.57e+3]\n"
     ]
    },
    {
     "name": "stdout",
     "output_type": "stream",
     "text": [
      "Epoch [740/3000]: Train loss: 7614.9554, Valid loss: 7615.8953\n"
     ]
    },
    {
     "name": "stderr",
     "output_type": "stream",
     "text": [
      "Epoch [741/3000]: 100%|██████████| 15/15 [00:00<00:00, 456.42it/s, loss=5.4e+3]\n"
     ]
    },
    {
     "name": "stdout",
     "output_type": "stream",
     "text": [
      "Epoch [741/3000]: Train loss: 7566.0268, Valid loss: 8539.4629\n"
     ]
    },
    {
     "name": "stderr",
     "output_type": "stream",
     "text": [
      "Epoch [742/3000]: 100%|██████████| 15/15 [00:00<00:00, 436.80it/s, loss=8.73e+3]\n"
     ]
    },
    {
     "name": "stdout",
     "output_type": "stream",
     "text": [
      "Epoch [742/3000]: Train loss: 7705.6112, Valid loss: 7601.4305\n"
     ]
    },
    {
     "name": "stderr",
     "output_type": "stream",
     "text": [
      "Epoch [743/3000]: 100%|██████████| 15/15 [00:00<00:00, 286.84it/s, loss=7.33e+3]\n"
     ]
    },
    {
     "name": "stdout",
     "output_type": "stream",
     "text": [
      "Epoch [743/3000]: Train loss: 7647.0647, Valid loss: 8444.4865\n"
     ]
    },
    {
     "name": "stderr",
     "output_type": "stream",
     "text": [
      "Epoch [744/3000]: 100%|██████████| 15/15 [00:00<00:00, 346.09it/s, loss=8.64e+3]\n"
     ]
    },
    {
     "name": "stdout",
     "output_type": "stream",
     "text": [
      "Epoch [744/3000]: Train loss: 7701.8772, Valid loss: 8460.4736\n"
     ]
    },
    {
     "name": "stderr",
     "output_type": "stream",
     "text": [
      "Epoch [745/3000]: 100%|██████████| 15/15 [00:00<00:00, 438.37it/s, loss=9.75e+3]\n"
     ]
    },
    {
     "name": "stdout",
     "output_type": "stream",
     "text": [
      "Epoch [745/3000]: Train loss: 7748.2149, Valid loss: 7966.1927\n"
     ]
    },
    {
     "name": "stderr",
     "output_type": "stream",
     "text": [
      "Epoch [746/3000]: 100%|██████████| 15/15 [00:00<00:00, 441.23it/s, loss=8.63e+3]\n"
     ]
    },
    {
     "name": "stdout",
     "output_type": "stream",
     "text": [
      "Epoch [746/3000]: Train loss: 7701.5419, Valid loss: 8265.4983\n"
     ]
    },
    {
     "name": "stderr",
     "output_type": "stream",
     "text": [
      "Epoch [747/3000]: 100%|██████████| 15/15 [00:00<00:00, 437.21it/s, loss=6.43e+3]\n"
     ]
    },
    {
     "name": "stdout",
     "output_type": "stream",
     "text": [
      "Epoch [747/3000]: Train loss: 7609.2749, Valid loss: 7615.8269\n"
     ]
    },
    {
     "name": "stderr",
     "output_type": "stream",
     "text": [
      "Epoch [748/3000]: 100%|██████████| 15/15 [00:00<00:00, 437.48it/s, loss=6.6e+3]\n"
     ]
    },
    {
     "name": "stdout",
     "output_type": "stream",
     "text": [
      "Epoch [748/3000]: Train loss: 7616.2378, Valid loss: 8324.5184\n"
     ]
    },
    {
     "name": "stderr",
     "output_type": "stream",
     "text": [
      "Epoch [749/3000]: 100%|██████████| 15/15 [00:00<00:00, 172.92it/s, loss=1.07e+4]\n"
     ]
    },
    {
     "name": "stdout",
     "output_type": "stream",
     "text": [
      "Epoch [749/3000]: Train loss: 7786.8799, Valid loss: 7823.5283\n"
     ]
    },
    {
     "name": "stderr",
     "output_type": "stream",
     "text": [
      "Epoch [750/3000]: 100%|██████████| 15/15 [00:00<00:00, 245.10it/s, loss=1.08e+4]\n"
     ]
    },
    {
     "name": "stdout",
     "output_type": "stream",
     "text": [
      "Epoch [750/3000]: Train loss: 7792.4838, Valid loss: 7717.8036\n"
     ]
    },
    {
     "name": "stderr",
     "output_type": "stream",
     "text": [
      "Epoch [751/3000]: 100%|██████████| 15/15 [00:00<00:00, 410.59it/s, loss=7.43e+3]\n"
     ]
    },
    {
     "name": "stdout",
     "output_type": "stream",
     "text": [
      "Epoch [751/3000]: Train loss: 7651.1568, Valid loss: 8160.3901\n"
     ]
    },
    {
     "name": "stderr",
     "output_type": "stream",
     "text": [
      "Epoch [752/3000]: 100%|██████████| 15/15 [00:00<00:00, 434.46it/s, loss=5.44e+3]\n"
     ]
    },
    {
     "name": "stdout",
     "output_type": "stream",
     "text": [
      "Epoch [752/3000]: Train loss: 7567.9156, Valid loss: 8095.0233\n"
     ]
    },
    {
     "name": "stderr",
     "output_type": "stream",
     "text": [
      "Epoch [753/3000]: 100%|██████████| 15/15 [00:00<00:00, 433.87it/s, loss=8.52e+3]\n"
     ]
    },
    {
     "name": "stdout",
     "output_type": "stream",
     "text": [
      "Epoch [753/3000]: Train loss: 7696.9628, Valid loss: 8057.1085\n"
     ]
    },
    {
     "name": "stderr",
     "output_type": "stream",
     "text": [
      "Epoch [754/3000]: 100%|██████████| 15/15 [00:00<00:00, 437.22it/s, loss=8.81e+3]\n"
     ]
    },
    {
     "name": "stdout",
     "output_type": "stream",
     "text": [
      "Epoch [754/3000]: Train loss: 7709.0381, Valid loss: 8011.2083\n"
     ]
    },
    {
     "name": "stderr",
     "output_type": "stream",
     "text": [
      "Epoch [755/3000]: 100%|██████████| 15/15 [00:00<00:00, 439.02it/s, loss=1.13e+4]\n"
     ]
    },
    {
     "name": "stdout",
     "output_type": "stream",
     "text": [
      "Epoch [755/3000]: Train loss: 7814.8055, Valid loss: 8442.2909\n"
     ]
    },
    {
     "name": "stderr",
     "output_type": "stream",
     "text": [
      "Epoch [756/3000]: 100%|██████████| 15/15 [00:00<00:00, 431.58it/s, loss=1.11e+4]\n"
     ]
    },
    {
     "name": "stdout",
     "output_type": "stream",
     "text": [
      "Epoch [756/3000]: Train loss: 7806.6137, Valid loss: 7745.6146\n"
     ]
    },
    {
     "name": "stderr",
     "output_type": "stream",
     "text": [
      "Epoch [757/3000]: 100%|██████████| 15/15 [00:00<00:00, 309.35it/s, loss=6.88e+3]\n"
     ]
    },
    {
     "name": "stdout",
     "output_type": "stream",
     "text": [
      "Epoch [757/3000]: Train loss: 7627.9898, Valid loss: 8101.4046\n"
     ]
    },
    {
     "name": "stderr",
     "output_type": "stream",
     "text": [
      "Epoch [758/3000]: 100%|██████████| 15/15 [00:00<00:00, 326.76it/s, loss=6.77e+3]\n"
     ]
    },
    {
     "name": "stdout",
     "output_type": "stream",
     "text": [
      "Epoch [758/3000]: Train loss: 7623.6115, Valid loss: 8020.6858\n"
     ]
    },
    {
     "name": "stderr",
     "output_type": "stream",
     "text": [
      "Epoch [759/3000]: 100%|██████████| 15/15 [00:00<00:00, 439.26it/s, loss=8.19e+3]\n"
     ]
    },
    {
     "name": "stdout",
     "output_type": "stream",
     "text": [
      "Epoch [759/3000]: Train loss: 7682.9316, Valid loss: 7933.5682\n"
     ]
    },
    {
     "name": "stderr",
     "output_type": "stream",
     "text": [
      "Epoch [760/3000]: 100%|██████████| 15/15 [00:00<00:00, 443.39it/s, loss=4.75e+3]\n"
     ]
    },
    {
     "name": "stdout",
     "output_type": "stream",
     "text": [
      "Epoch [760/3000]: Train loss: 7538.6989, Valid loss: 8859.5263\n"
     ]
    },
    {
     "name": "stderr",
     "output_type": "stream",
     "text": [
      "Epoch [761/3000]: 100%|██████████| 15/15 [00:00<00:00, 431.29it/s, loss=9.67e+3]\n"
     ]
    },
    {
     "name": "stdout",
     "output_type": "stream",
     "text": [
      "Epoch [761/3000]: Train loss: 7744.8901, Valid loss: 7587.6539\n"
     ]
    },
    {
     "name": "stderr",
     "output_type": "stream",
     "text": [
      "Epoch [762/3000]: 100%|██████████| 15/15 [00:00<00:00, 440.24it/s, loss=1.05e+4]\n"
     ]
    },
    {
     "name": "stdout",
     "output_type": "stream",
     "text": [
      "Epoch [762/3000]: Train loss: 7781.6764, Valid loss: 8006.0251\n"
     ]
    },
    {
     "name": "stderr",
     "output_type": "stream",
     "text": [
      "Epoch [763/3000]: 100%|██████████| 15/15 [00:00<00:00, 438.28it/s, loss=6.58e+3]\n"
     ]
    },
    {
     "name": "stdout",
     "output_type": "stream",
     "text": [
      "Epoch [763/3000]: Train loss: 7615.5750, Valid loss: 7690.4630\n"
     ]
    },
    {
     "name": "stderr",
     "output_type": "stream",
     "text": [
      "Epoch [764/3000]: 100%|██████████| 15/15 [00:00<00:00, 243.85it/s, loss=1.04e+4]\n"
     ]
    },
    {
     "name": "stdout",
     "output_type": "stream",
     "text": [
      "Epoch [764/3000]: Train loss: 7774.6319, Valid loss: 8686.2600\n"
     ]
    },
    {
     "name": "stderr",
     "output_type": "stream",
     "text": [
      "Epoch [765/3000]: 100%|██████████| 15/15 [00:00<00:00, 382.18it/s, loss=7.4e+3]\n"
     ]
    },
    {
     "name": "stdout",
     "output_type": "stream",
     "text": [
      "Epoch [765/3000]: Train loss: 7649.6841, Valid loss: 8231.5315\n"
     ]
    },
    {
     "name": "stderr",
     "output_type": "stream",
     "text": [
      "Epoch [766/3000]: 100%|██████████| 15/15 [00:00<00:00, 438.85it/s, loss=6.26e+3]\n"
     ]
    },
    {
     "name": "stdout",
     "output_type": "stream",
     "text": [
      "Epoch [766/3000]: Train loss: 7602.0382, Valid loss: 7561.8874\n"
     ]
    },
    {
     "name": "stderr",
     "output_type": "stream",
     "text": [
      "Epoch [767/3000]: 100%|██████████| 15/15 [00:00<00:00, 422.70it/s, loss=5.33e+3]\n"
     ]
    },
    {
     "name": "stdout",
     "output_type": "stream",
     "text": [
      "Epoch [767/3000]: Train loss: 7563.2144, Valid loss: 7840.8627\n"
     ]
    },
    {
     "name": "stderr",
     "output_type": "stream",
     "text": [
      "Epoch [768/3000]: 100%|██████████| 15/15 [00:00<00:00, 430.12it/s, loss=7.44e+3]\n"
     ]
    },
    {
     "name": "stdout",
     "output_type": "stream",
     "text": [
      "Epoch [768/3000]: Train loss: 7651.7278, Valid loss: 8470.3636\n"
     ]
    },
    {
     "name": "stderr",
     "output_type": "stream",
     "text": [
      "Epoch [769/3000]: 100%|██████████| 15/15 [00:00<00:00, 437.06it/s, loss=5.56e+3]\n"
     ]
    },
    {
     "name": "stdout",
     "output_type": "stream",
     "text": [
      "Epoch [769/3000]: Train loss: 7572.6869, Valid loss: 7606.6818\n"
     ]
    },
    {
     "name": "stderr",
     "output_type": "stream",
     "text": [
      "Epoch [770/3000]: 100%|██████████| 15/15 [00:00<00:00, 410.55it/s, loss=7.41e+3]\n"
     ]
    },
    {
     "name": "stdout",
     "output_type": "stream",
     "text": [
      "Epoch [770/3000]: Train loss: 7650.2655, Valid loss: 8260.9888\n"
     ]
    },
    {
     "name": "stderr",
     "output_type": "stream",
     "text": [
      "Epoch [771/3000]: 100%|██████████| 15/15 [00:00<00:00, 371.91it/s, loss=5.18e+3]\n"
     ]
    },
    {
     "name": "stdout",
     "output_type": "stream",
     "text": [
      "Epoch [771/3000]: Train loss: 7556.6019, Valid loss: 7912.7437\n"
     ]
    },
    {
     "name": "stderr",
     "output_type": "stream",
     "text": [
      "Epoch [772/3000]: 100%|██████████| 15/15 [00:00<00:00, 268.89it/s, loss=5.92e+3]\n"
     ]
    },
    {
     "name": "stdout",
     "output_type": "stream",
     "text": [
      "Epoch [772/3000]: Train loss: 7587.7962, Valid loss: 8650.1886\n"
     ]
    },
    {
     "name": "stderr",
     "output_type": "stream",
     "text": [
      "Epoch [773/3000]: 100%|██████████| 15/15 [00:00<00:00, 433.99it/s, loss=4.79e+3]\n"
     ]
    },
    {
     "name": "stdout",
     "output_type": "stream",
     "text": [
      "Epoch [773/3000]: Train loss: 7540.2421, Valid loss: 8165.4709\n"
     ]
    },
    {
     "name": "stderr",
     "output_type": "stream",
     "text": [
      "Epoch [774/3000]: 100%|██████████| 15/15 [00:00<00:00, 437.06it/s, loss=5.82e+3]\n"
     ]
    },
    {
     "name": "stdout",
     "output_type": "stream",
     "text": [
      "Epoch [774/3000]: Train loss: 7583.7028, Valid loss: 7780.3484\n"
     ]
    },
    {
     "name": "stderr",
     "output_type": "stream",
     "text": [
      "Epoch [775/3000]: 100%|██████████| 15/15 [00:00<00:00, 432.20it/s, loss=5.56e+3]\n"
     ]
    },
    {
     "name": "stdout",
     "output_type": "stream",
     "text": [
      "Epoch [775/3000]: Train loss: 7572.8715, Valid loss: 7945.7390\n"
     ]
    },
    {
     "name": "stderr",
     "output_type": "stream",
     "text": [
      "Epoch [776/3000]: 100%|██████████| 15/15 [00:00<00:00, 423.93it/s, loss=1.09e+4]\n"
     ]
    },
    {
     "name": "stdout",
     "output_type": "stream",
     "text": [
      "Epoch [776/3000]: Train loss: 7794.6187, Valid loss: 8117.8537\n"
     ]
    },
    {
     "name": "stderr",
     "output_type": "stream",
     "text": [
      "Epoch [777/3000]: 100%|██████████| 15/15 [00:00<00:00, 414.76it/s, loss=1.08e+4]\n"
     ]
    },
    {
     "name": "stdout",
     "output_type": "stream",
     "text": [
      "Epoch [777/3000]: Train loss: 7792.3352, Valid loss: 8713.4352\n"
     ]
    },
    {
     "name": "stderr",
     "output_type": "stream",
     "text": [
      "Epoch [778/3000]: 100%|██████████| 15/15 [00:00<00:00, 424.22it/s, loss=6.15e+3]\n"
     ]
    },
    {
     "name": "stdout",
     "output_type": "stream",
     "text": [
      "Epoch [778/3000]: Train loss: 7597.5677, Valid loss: 7790.5098\n"
     ]
    },
    {
     "name": "stderr",
     "output_type": "stream",
     "text": [
      "Epoch [779/3000]: 100%|██████████| 15/15 [00:00<00:00, 305.19it/s, loss=1.03e+4]\n"
     ]
    },
    {
     "name": "stdout",
     "output_type": "stream",
     "text": [
      "Epoch [779/3000]: Train loss: 7770.3807, Valid loss: 7526.2899\n"
     ]
    },
    {
     "name": "stderr",
     "output_type": "stream",
     "text": [
      "Epoch [780/3000]: 100%|██████████| 15/15 [00:00<00:00, 240.72it/s, loss=6.52e+3]\n"
     ]
    },
    {
     "name": "stdout",
     "output_type": "stream",
     "text": [
      "Epoch [780/3000]: Train loss: 7612.7987, Valid loss: 7629.8466\n"
     ]
    },
    {
     "name": "stderr",
     "output_type": "stream",
     "text": [
      "Epoch [781/3000]: 100%|██████████| 15/15 [00:00<00:00, 444.01it/s, loss=4.88e+3]\n"
     ]
    },
    {
     "name": "stdout",
     "output_type": "stream",
     "text": [
      "Epoch [781/3000]: Train loss: 7544.0661, Valid loss: 8550.0506\n"
     ]
    },
    {
     "name": "stderr",
     "output_type": "stream",
     "text": [
      "Epoch [782/3000]: 100%|██████████| 15/15 [00:00<00:00, 422.50it/s, loss=9.62e+3]\n"
     ]
    },
    {
     "name": "stdout",
     "output_type": "stream",
     "text": [
      "Epoch [782/3000]: Train loss: 7743.0233, Valid loss: 8083.4494\n"
     ]
    },
    {
     "name": "stderr",
     "output_type": "stream",
     "text": [
      "Epoch [783/3000]: 100%|██████████| 15/15 [00:00<00:00, 423.24it/s, loss=8.68e+3]\n"
     ]
    },
    {
     "name": "stdout",
     "output_type": "stream",
     "text": [
      "Epoch [783/3000]: Train loss: 7703.3727, Valid loss: 7421.4637\n"
     ]
    },
    {
     "name": "stderr",
     "output_type": "stream",
     "text": [
      "Epoch [784/3000]: 100%|██████████| 15/15 [00:00<00:00, 444.17it/s, loss=7.73e+3]\n"
     ]
    },
    {
     "name": "stdout",
     "output_type": "stream",
     "text": [
      "Epoch [784/3000]: Train loss: 7663.8023, Valid loss: 8248.6402\n"
     ]
    },
    {
     "name": "stderr",
     "output_type": "stream",
     "text": [
      "Epoch [785/3000]: 100%|██████████| 15/15 [00:00<00:00, 445.45it/s, loss=6.78e+3]\n"
     ]
    },
    {
     "name": "stdout",
     "output_type": "stream",
     "text": [
      "Epoch [785/3000]: Train loss: 7623.6536, Valid loss: 7506.9949\n"
     ]
    },
    {
     "name": "stderr",
     "output_type": "stream",
     "text": [
      "Epoch [786/3000]: 100%|██████████| 15/15 [00:00<00:00, 315.52it/s, loss=6.85e+3]\n"
     ]
    },
    {
     "name": "stdout",
     "output_type": "stream",
     "text": [
      "Epoch [786/3000]: Train loss: 7626.8544, Valid loss: 8823.0463\n"
     ]
    },
    {
     "name": "stderr",
     "output_type": "stream",
     "text": [
      "Epoch [787/3000]: 100%|██████████| 15/15 [00:00<00:00, 325.68it/s, loss=7.84e+3]\n"
     ]
    },
    {
     "name": "stdout",
     "output_type": "stream",
     "text": [
      "Epoch [787/3000]: Train loss: 7668.2117, Valid loss: 7805.0495\n"
     ]
    },
    {
     "name": "stderr",
     "output_type": "stream",
     "text": [
      "Epoch [788/3000]: 100%|██████████| 15/15 [00:00<00:00, 174.56it/s, loss=5.87e+3]\n"
     ]
    },
    {
     "name": "stdout",
     "output_type": "stream",
     "text": [
      "Epoch [788/3000]: Train loss: 7585.6959, Valid loss: 7921.7657\n"
     ]
    },
    {
     "name": "stderr",
     "output_type": "stream",
     "text": [
      "Epoch [789/3000]: 100%|██████████| 15/15 [00:00<00:00, 419.92it/s, loss=4.72e+3]"
     ]
    },
    {
     "name": "stdout",
     "output_type": "stream",
     "text": [
      "Epoch [789/3000]: Train loss: 7537.3201, Valid loss: 7873.9505\n"
     ]
    },
    {
     "name": "stderr",
     "output_type": "stream",
     "text": [
      "\n",
      "Epoch [790/3000]: 100%|██████████| 15/15 [00:00<00:00, 429.37it/s, loss=4.36e+3]\n"
     ]
    },
    {
     "name": "stdout",
     "output_type": "stream",
     "text": [
      "Epoch [790/3000]: Train loss: 7522.1753, Valid loss: 8259.2289\n"
     ]
    },
    {
     "name": "stderr",
     "output_type": "stream",
     "text": [
      "Epoch [791/3000]: 100%|██████████| 15/15 [00:00<00:00, 443.33it/s, loss=1.08e+4]\n"
     ]
    },
    {
     "name": "stdout",
     "output_type": "stream",
     "text": [
      "Epoch [791/3000]: Train loss: 7794.2679, Valid loss: 8223.5488\n"
     ]
    },
    {
     "name": "stderr",
     "output_type": "stream",
     "text": [
      "Epoch [792/3000]: 100%|██████████| 15/15 [00:00<00:00, 421.35it/s, loss=6.46e+3]\n"
     ]
    },
    {
     "name": "stdout",
     "output_type": "stream",
     "text": [
      "Epoch [792/3000]: Train loss: 7610.5172, Valid loss: 8118.4249\n"
     ]
    },
    {
     "name": "stderr",
     "output_type": "stream",
     "text": [
      "Epoch [793/3000]: 100%|██████████| 15/15 [00:00<00:00, 430.29it/s, loss=5.66e+3]\n"
     ]
    },
    {
     "name": "stdout",
     "output_type": "stream",
     "text": [
      "Epoch [793/3000]: Train loss: 7576.8076, Valid loss: 8021.3809\n"
     ]
    },
    {
     "name": "stderr",
     "output_type": "stream",
     "text": [
      "Epoch [794/3000]: 100%|██████████| 15/15 [00:00<00:00, 443.47it/s, loss=8.21e+3]\n"
     ]
    },
    {
     "name": "stdout",
     "output_type": "stream",
     "text": [
      "Epoch [794/3000]: Train loss: 7683.9258, Valid loss: 7989.5693\n"
     ]
    },
    {
     "name": "stderr",
     "output_type": "stream",
     "text": [
      "Epoch [795/3000]: 100%|██████████| 15/15 [00:00<00:00, 298.09it/s, loss=4.88e+3]\n"
     ]
    },
    {
     "name": "stdout",
     "output_type": "stream",
     "text": [
      "Epoch [795/3000]: Train loss: 7544.3293, Valid loss: 8331.7735\n"
     ]
    },
    {
     "name": "stderr",
     "output_type": "stream",
     "text": [
      "Epoch [796/3000]: 100%|██████████| 15/15 [00:00<00:00, 347.37it/s, loss=4.97e+3]\n"
     ]
    },
    {
     "name": "stdout",
     "output_type": "stream",
     "text": [
      "Epoch [796/3000]: Train loss: 7548.0517, Valid loss: 7863.2840\n"
     ]
    },
    {
     "name": "stderr",
     "output_type": "stream",
     "text": [
      "Epoch [797/3000]: 100%|██████████| 15/15 [00:00<00:00, 428.41it/s, loss=8.41e+3]\n"
     ]
    },
    {
     "name": "stdout",
     "output_type": "stream",
     "text": [
      "Epoch [797/3000]: Train loss: 7692.0728, Valid loss: 7911.4927\n"
     ]
    },
    {
     "name": "stderr",
     "output_type": "stream",
     "text": [
      "Epoch [798/3000]: 100%|██████████| 15/15 [00:00<00:00, 447.96it/s, loss=6e+3]\n"
     ]
    },
    {
     "name": "stdout",
     "output_type": "stream",
     "text": [
      "Epoch [798/3000]: Train loss: 7591.1696, Valid loss: 8023.5852\n"
     ]
    },
    {
     "name": "stderr",
     "output_type": "stream",
     "text": [
      "Epoch [799/3000]: 100%|██████████| 15/15 [00:00<00:00, 435.63it/s, loss=9.17e+3]\n"
     ]
    },
    {
     "name": "stdout",
     "output_type": "stream",
     "text": [
      "Epoch [799/3000]: Train loss: 7724.2426, Valid loss: 9501.2464\n"
     ]
    },
    {
     "name": "stderr",
     "output_type": "stream",
     "text": [
      "Epoch [800/3000]: 100%|██████████| 15/15 [00:00<00:00, 439.81it/s, loss=9.66e+3]\n"
     ]
    },
    {
     "name": "stdout",
     "output_type": "stream",
     "text": [
      "Epoch [800/3000]: Train loss: 7744.4237, Valid loss: 7850.0882\n"
     ]
    },
    {
     "name": "stderr",
     "output_type": "stream",
     "text": [
      "Epoch [801/3000]: 100%|██████████| 15/15 [00:00<00:00, 430.61it/s, loss=9.78e+3]\n"
     ]
    },
    {
     "name": "stdout",
     "output_type": "stream",
     "text": [
      "Epoch [801/3000]: Train loss: 7749.6675, Valid loss: 7883.5541\n"
     ]
    },
    {
     "name": "stderr",
     "output_type": "stream",
     "text": [
      "Epoch [802/3000]: 100%|██████████| 15/15 [00:00<00:00, 420.24it/s, loss=6.85e+3]\n"
     ]
    },
    {
     "name": "stdout",
     "output_type": "stream",
     "text": [
      "Epoch [802/3000]: Train loss: 7626.8393, Valid loss: 8709.4788\n"
     ]
    },
    {
     "name": "stderr",
     "output_type": "stream",
     "text": [
      "Epoch [803/3000]: 100%|██████████| 15/15 [00:00<00:00, 437.66it/s, loss=6.67e+3]\n"
     ]
    },
    {
     "name": "stdout",
     "output_type": "stream",
     "text": [
      "Epoch [803/3000]: Train loss: 7619.0920, Valid loss: 8536.0246\n"
     ]
    },
    {
     "name": "stderr",
     "output_type": "stream",
     "text": [
      "Epoch [804/3000]: 100%|██████████| 15/15 [00:00<00:00, 442.91it/s, loss=6.91e+3]\n"
     ]
    },
    {
     "name": "stdout",
     "output_type": "stream",
     "text": [
      "Epoch [804/3000]: Train loss: 7629.1604, Valid loss: 7705.5550\n"
     ]
    },
    {
     "name": "stderr",
     "output_type": "stream",
     "text": [
      "Epoch [805/3000]: 100%|██████████| 15/15 [00:00<00:00, 255.67it/s, loss=6.56e+3]\n"
     ]
    },
    {
     "name": "stdout",
     "output_type": "stream",
     "text": [
      "Epoch [805/3000]: Train loss: 7614.5472, Valid loss: 7740.7570\n"
     ]
    },
    {
     "name": "stderr",
     "output_type": "stream",
     "text": [
      "Epoch [806/3000]: 100%|██████████| 15/15 [00:00<00:00, 380.30it/s, loss=4.55e+3]\n"
     ]
    },
    {
     "name": "stdout",
     "output_type": "stream",
     "text": [
      "Epoch [806/3000]: Train loss: 7530.2516, Valid loss: 7560.9942\n"
     ]
    },
    {
     "name": "stderr",
     "output_type": "stream",
     "text": [
      "Epoch [807/3000]: 100%|██████████| 15/15 [00:00<00:00, 435.14it/s, loss=5.47e+3]\n"
     ]
    },
    {
     "name": "stdout",
     "output_type": "stream",
     "text": [
      "Epoch [807/3000]: Train loss: 7568.9113, Valid loss: 7819.5718\n"
     ]
    },
    {
     "name": "stderr",
     "output_type": "stream",
     "text": [
      "Epoch [808/3000]: 100%|██████████| 15/15 [00:00<00:00, 432.33it/s, loss=1.01e+4]\n"
     ]
    },
    {
     "name": "stdout",
     "output_type": "stream",
     "text": [
      "Epoch [808/3000]: Train loss: 7762.0398, Valid loss: 8057.1777\n"
     ]
    },
    {
     "name": "stderr",
     "output_type": "stream",
     "text": [
      "Epoch [809/3000]: 100%|██████████| 15/15 [00:00<00:00, 449.95it/s, loss=1.23e+4]\n"
     ]
    },
    {
     "name": "stdout",
     "output_type": "stream",
     "text": [
      "Epoch [809/3000]: Train loss: 7853.4340, Valid loss: 7794.2948\n"
     ]
    },
    {
     "name": "stderr",
     "output_type": "stream",
     "text": [
      "Epoch [810/3000]: 100%|██████████| 15/15 [00:00<00:00, 439.52it/s, loss=5.78e+3]\n"
     ]
    },
    {
     "name": "stdout",
     "output_type": "stream",
     "text": [
      "Epoch [810/3000]: Train loss: 7582.0717, Valid loss: 7807.6206\n"
     ]
    },
    {
     "name": "stderr",
     "output_type": "stream",
     "text": [
      "Epoch [811/3000]: 100%|██████████| 15/15 [00:00<00:00, 426.60it/s, loss=1.09e+4]\n"
     ]
    },
    {
     "name": "stdout",
     "output_type": "stream",
     "text": [
      "Epoch [811/3000]: Train loss: 7795.1386, Valid loss: 8084.0797\n"
     ]
    },
    {
     "name": "stderr",
     "output_type": "stream",
     "text": [
      "Epoch [812/3000]: 100%|██████████| 15/15 [00:00<00:00, 440.57it/s, loss=5.79e+3]\n"
     ]
    },
    {
     "name": "stdout",
     "output_type": "stream",
     "text": [
      "Epoch [812/3000]: Train loss: 7582.1499, Valid loss: 7613.3986\n"
     ]
    },
    {
     "name": "stderr",
     "output_type": "stream",
     "text": [
      "Epoch [813/3000]: 100%|██████████| 15/15 [00:00<00:00, 438.38it/s, loss=4.43e+3]\n"
     ]
    },
    {
     "name": "stdout",
     "output_type": "stream",
     "text": [
      "Epoch [813/3000]: Train loss: 7525.2159, Valid loss: 7738.6748\n"
     ]
    },
    {
     "name": "stderr",
     "output_type": "stream",
     "text": [
      "Epoch [814/3000]: 100%|██████████| 15/15 [00:00<00:00, 427.90it/s, loss=7.09e+3]\n"
     ]
    },
    {
     "name": "stdout",
     "output_type": "stream",
     "text": [
      "Epoch [814/3000]: Train loss: 7636.9020, Valid loss: 8205.4278\n"
     ]
    },
    {
     "name": "stderr",
     "output_type": "stream",
     "text": [
      "Epoch [815/3000]: 100%|██████████| 15/15 [00:00<00:00, 417.69it/s, loss=4.1e+3]\n"
     ]
    },
    {
     "name": "stdout",
     "output_type": "stream",
     "text": [
      "Epoch [815/3000]: Train loss: 7511.3959, Valid loss: 7998.3060\n"
     ]
    },
    {
     "name": "stderr",
     "output_type": "stream",
     "text": [
      "Epoch [816/3000]: 100%|██████████| 15/15 [00:00<00:00, 248.23it/s, loss=6.95e+3]\n"
     ]
    },
    {
     "name": "stdout",
     "output_type": "stream",
     "text": [
      "Epoch [816/3000]: Train loss: 7630.9105, Valid loss: 8238.8178\n"
     ]
    },
    {
     "name": "stderr",
     "output_type": "stream",
     "text": [
      "Epoch [817/3000]: 100%|██████████| 15/15 [00:00<00:00, 383.16it/s, loss=1.42e+4]\n"
     ]
    },
    {
     "name": "stdout",
     "output_type": "stream",
     "text": [
      "Epoch [817/3000]: Train loss: 7936.0425, Valid loss: 7815.9438\n"
     ]
    },
    {
     "name": "stderr",
     "output_type": "stream",
     "text": [
      "Epoch [818/3000]: 100%|██████████| 15/15 [00:00<00:00, 442.89it/s, loss=7.7e+3]\n"
     ]
    },
    {
     "name": "stdout",
     "output_type": "stream",
     "text": [
      "Epoch [818/3000]: Train loss: 7662.3581, Valid loss: 7576.5746\n"
     ]
    },
    {
     "name": "stderr",
     "output_type": "stream",
     "text": [
      "Epoch [819/3000]: 100%|██████████| 15/15 [00:00<00:00, 429.17it/s, loss=4.65e+3]\n"
     ]
    },
    {
     "name": "stdout",
     "output_type": "stream",
     "text": [
      "Epoch [819/3000]: Train loss: 7534.4021, Valid loss: 8019.6752\n"
     ]
    },
    {
     "name": "stderr",
     "output_type": "stream",
     "text": [
      "Epoch [820/3000]: 100%|██████████| 15/15 [00:00<00:00, 443.74it/s, loss=5.06e+3]\n"
     ]
    },
    {
     "name": "stdout",
     "output_type": "stream",
     "text": [
      "Epoch [820/3000]: Train loss: 7551.7369, Valid loss: 8667.6358\n"
     ]
    },
    {
     "name": "stderr",
     "output_type": "stream",
     "text": [
      "Epoch [821/3000]: 100%|██████████| 15/15 [00:00<00:00, 448.36it/s, loss=5.3e+3]\n"
     ]
    },
    {
     "name": "stdout",
     "output_type": "stream",
     "text": [
      "Epoch [821/3000]: Train loss: 7561.7634, Valid loss: 7792.3477\n"
     ]
    },
    {
     "name": "stderr",
     "output_type": "stream",
     "text": [
      "Epoch [822/3000]: 100%|██████████| 15/15 [00:00<00:00, 435.84it/s, loss=1.03e+4]\n"
     ]
    },
    {
     "name": "stdout",
     "output_type": "stream",
     "text": [
      "Epoch [822/3000]: Train loss: 7772.9053, Valid loss: 8118.1812\n"
     ]
    },
    {
     "name": "stderr",
     "output_type": "stream",
     "text": [
      "Epoch [823/3000]: 100%|██████████| 15/15 [00:00<00:00, 437.92it/s, loss=1.19e+4]\n"
     ]
    },
    {
     "name": "stdout",
     "output_type": "stream",
     "text": [
      "Epoch [823/3000]: Train loss: 7836.7027, Valid loss: 8657.3312\n"
     ]
    },
    {
     "name": "stderr",
     "output_type": "stream",
     "text": [
      "Epoch [824/3000]: 100%|██████████| 15/15 [00:00<00:00, 270.54it/s, loss=4.86e+3]\n"
     ]
    },
    {
     "name": "stdout",
     "output_type": "stream",
     "text": [
      "Epoch [824/3000]: Train loss: 7543.2967, Valid loss: 8178.2828\n"
     ]
    },
    {
     "name": "stderr",
     "output_type": "stream",
     "text": [
      "Epoch [825/3000]: 100%|██████████| 15/15 [00:00<00:00, 405.53it/s, loss=6.75e+3]\n"
     ]
    },
    {
     "name": "stdout",
     "output_type": "stream",
     "text": [
      "Epoch [825/3000]: Train loss: 7622.4309, Valid loss: 8686.4646\n"
     ]
    },
    {
     "name": "stderr",
     "output_type": "stream",
     "text": [
      "Epoch [826/3000]: 100%|██████████| 15/15 [00:00<00:00, 174.03it/s, loss=6.45e+3]\n"
     ]
    },
    {
     "name": "stdout",
     "output_type": "stream",
     "text": [
      "Epoch [826/3000]: Train loss: 7610.0058, Valid loss: 8295.1694\n"
     ]
    },
    {
     "name": "stderr",
     "output_type": "stream",
     "text": [
      "Epoch [827/3000]: 100%|██████████| 15/15 [00:00<00:00, 438.34it/s, loss=7.35e+3]\n"
     ]
    },
    {
     "name": "stdout",
     "output_type": "stream",
     "text": [
      "Epoch [827/3000]: Train loss: 7647.6535, Valid loss: 8269.4109\n"
     ]
    },
    {
     "name": "stderr",
     "output_type": "stream",
     "text": [
      "Epoch [828/3000]: 100%|██████████| 15/15 [00:00<00:00, 415.32it/s, loss=8.77e+3]\n"
     ]
    },
    {
     "name": "stdout",
     "output_type": "stream",
     "text": [
      "Epoch [828/3000]: Train loss: 7707.1956, Valid loss: 7665.8066\n"
     ]
    },
    {
     "name": "stderr",
     "output_type": "stream",
     "text": [
      "Epoch [829/3000]: 100%|██████████| 15/15 [00:00<00:00, 420.34it/s, loss=5.38e+3]\n"
     ]
    },
    {
     "name": "stdout",
     "output_type": "stream",
     "text": [
      "Epoch [829/3000]: Train loss: 7565.3415, Valid loss: 7686.1097\n"
     ]
    },
    {
     "name": "stderr",
     "output_type": "stream",
     "text": [
      "Epoch [830/3000]: 100%|██████████| 15/15 [00:00<00:00, 256.53it/s, loss=7.64e+3]\n"
     ]
    },
    {
     "name": "stdout",
     "output_type": "stream",
     "text": [
      "Epoch [830/3000]: Train loss: 7659.8487, Valid loss: 7710.7810\n"
     ]
    },
    {
     "name": "stderr",
     "output_type": "stream",
     "text": [
      "Epoch [831/3000]: 100%|██████████| 15/15 [00:00<00:00, 390.16it/s, loss=6.99e+3]\n"
     ]
    },
    {
     "name": "stdout",
     "output_type": "stream",
     "text": [
      "Epoch [831/3000]: Train loss: 7632.5418, Valid loss: 7762.2789\n"
     ]
    },
    {
     "name": "stderr",
     "output_type": "stream",
     "text": [
      "Epoch [832/3000]: 100%|██████████| 15/15 [00:00<00:00, 447.40it/s, loss=4.9e+3]\n"
     ]
    },
    {
     "name": "stdout",
     "output_type": "stream",
     "text": [
      "Epoch [832/3000]: Train loss: 7544.9671, Valid loss: 7602.6044\n"
     ]
    },
    {
     "name": "stderr",
     "output_type": "stream",
     "text": [
      "Epoch [833/3000]: 100%|██████████| 15/15 [00:00<00:00, 433.13it/s, loss=8.35e+3]\n"
     ]
    },
    {
     "name": "stdout",
     "output_type": "stream",
     "text": [
      "Epoch [833/3000]: Train loss: 7689.7314, Valid loss: 8297.2367\n"
     ]
    },
    {
     "name": "stderr",
     "output_type": "stream",
     "text": [
      "Epoch [834/3000]: 100%|██████████| 15/15 [00:00<00:00, 433.83it/s, loss=8.98e+3]\n"
     ]
    },
    {
     "name": "stdout",
     "output_type": "stream",
     "text": [
      "Epoch [834/3000]: Train loss: 7716.0674, Valid loss: 8405.1758\n"
     ]
    },
    {
     "name": "stderr",
     "output_type": "stream",
     "text": [
      "Epoch [835/3000]: 100%|██████████| 15/15 [00:00<00:00, 429.18it/s, loss=7.51e+3]\n"
     ]
    },
    {
     "name": "stdout",
     "output_type": "stream",
     "text": [
      "Epoch [835/3000]: Train loss: 7654.2482, Valid loss: 7815.7808\n"
     ]
    },
    {
     "name": "stderr",
     "output_type": "stream",
     "text": [
      "Epoch [836/3000]: 100%|██████████| 15/15 [00:00<00:00, 452.94it/s, loss=7.19e+3]\n"
     ]
    },
    {
     "name": "stdout",
     "output_type": "stream",
     "text": [
      "Epoch [836/3000]: Train loss: 7640.8883, Valid loss: 8640.5159\n"
     ]
    },
    {
     "name": "stderr",
     "output_type": "stream",
     "text": [
      "Epoch [837/3000]: 100%|██████████| 15/15 [00:00<00:00, 338.82it/s, loss=7.56e+3]\n"
     ]
    },
    {
     "name": "stdout",
     "output_type": "stream",
     "text": [
      "Epoch [837/3000]: Train loss: 7656.4440, Valid loss: 7849.9195\n"
     ]
    },
    {
     "name": "stderr",
     "output_type": "stream",
     "text": [
      "Epoch [838/3000]: 100%|██████████| 15/15 [00:00<00:00, 303.26it/s, loss=5.26e+3]\n"
     ]
    },
    {
     "name": "stdout",
     "output_type": "stream",
     "text": [
      "Epoch [838/3000]: Train loss: 7560.1798, Valid loss: 8720.9529\n"
     ]
    },
    {
     "name": "stderr",
     "output_type": "stream",
     "text": [
      "Epoch [839/3000]: 100%|██████████| 15/15 [00:00<00:00, 452.94it/s, loss=8.89e+3]\n"
     ]
    },
    {
     "name": "stdout",
     "output_type": "stream",
     "text": [
      "Epoch [839/3000]: Train loss: 7712.4770, Valid loss: 7682.6692\n"
     ]
    },
    {
     "name": "stderr",
     "output_type": "stream",
     "text": [
      "Epoch [840/3000]: 100%|██████████| 15/15 [00:00<00:00, 447.40it/s, loss=7.8e+3]\n"
     ]
    },
    {
     "name": "stdout",
     "output_type": "stream",
     "text": [
      "Epoch [840/3000]: Train loss: 7666.6511, Valid loss: 8027.6403\n"
     ]
    },
    {
     "name": "stderr",
     "output_type": "stream",
     "text": [
      "Epoch [841/3000]: 100%|██████████| 15/15 [00:00<00:00, 434.36it/s, loss=7.16e+3]\n"
     ]
    },
    {
     "name": "stdout",
     "output_type": "stream",
     "text": [
      "Epoch [841/3000]: Train loss: 7639.7353, Valid loss: 8290.1668\n"
     ]
    },
    {
     "name": "stderr",
     "output_type": "stream",
     "text": [
      "Epoch [842/3000]: 100%|██████████| 15/15 [00:00<00:00, 446.46it/s, loss=7.61e+3]\n"
     ]
    },
    {
     "name": "stdout",
     "output_type": "stream",
     "text": [
      "Epoch [842/3000]: Train loss: 7658.6666, Valid loss: 8549.1256\n"
     ]
    },
    {
     "name": "stderr",
     "output_type": "stream",
     "text": [
      "Epoch [843/3000]: 100%|██████████| 15/15 [00:00<00:00, 440.85it/s, loss=5.82e+3]\n"
     ]
    },
    {
     "name": "stdout",
     "output_type": "stream",
     "text": [
      "Epoch [843/3000]: Train loss: 7583.6494, Valid loss: 9077.0966\n"
     ]
    },
    {
     "name": "stderr",
     "output_type": "stream",
     "text": [
      "Epoch [844/3000]: 100%|██████████| 15/15 [00:00<00:00, 433.45it/s, loss=8.41e+3]\n"
     ]
    },
    {
     "name": "stdout",
     "output_type": "stream",
     "text": [
      "Epoch [844/3000]: Train loss: 7692.2667, Valid loss: 8065.2026\n"
     ]
    },
    {
     "name": "stderr",
     "output_type": "stream",
     "text": [
      "Epoch [845/3000]: 100%|██████████| 15/15 [00:00<00:00, 404.21it/s, loss=6.96e+3]\n"
     ]
    },
    {
     "name": "stdout",
     "output_type": "stream",
     "text": [
      "Epoch [845/3000]: Train loss: 7631.3581, Valid loss: 7577.8292\n"
     ]
    },
    {
     "name": "stderr",
     "output_type": "stream",
     "text": [
      "Epoch [846/3000]: 100%|██████████| 15/15 [00:00<00:00, 282.31it/s, loss=7.83e+3]\n"
     ]
    },
    {
     "name": "stdout",
     "output_type": "stream",
     "text": [
      "Epoch [846/3000]: Train loss: 7667.9239, Valid loss: 8786.9059\n"
     ]
    },
    {
     "name": "stderr",
     "output_type": "stream",
     "text": [
      "Epoch [847/3000]: 100%|██████████| 15/15 [00:00<00:00, 416.56it/s, loss=8.3e+3]\n"
     ]
    },
    {
     "name": "stdout",
     "output_type": "stream",
     "text": [
      "Epoch [847/3000]: Train loss: 7687.3572, Valid loss: 8157.4777\n"
     ]
    },
    {
     "name": "stderr",
     "output_type": "stream",
     "text": [
      "Epoch [848/3000]: 100%|██████████| 15/15 [00:00<00:00, 453.16it/s, loss=8.86e+3]\n"
     ]
    },
    {
     "name": "stdout",
     "output_type": "stream",
     "text": [
      "Epoch [848/3000]: Train loss: 7711.2241, Valid loss: 8080.8502\n"
     ]
    },
    {
     "name": "stderr",
     "output_type": "stream",
     "text": [
      "Epoch [849/3000]: 100%|██████████| 15/15 [00:00<00:00, 438.73it/s, loss=6.01e+3]\n"
     ]
    },
    {
     "name": "stdout",
     "output_type": "stream",
     "text": [
      "Epoch [849/3000]: Train loss: 7591.7487, Valid loss: 8072.2393\n"
     ]
    },
    {
     "name": "stderr",
     "output_type": "stream",
     "text": [
      "Epoch [850/3000]: 100%|██████████| 15/15 [00:00<00:00, 451.00it/s, loss=1.09e+4]\n"
     ]
    },
    {
     "name": "stdout",
     "output_type": "stream",
     "text": [
      "Epoch [850/3000]: Train loss: 7795.1858, Valid loss: 7812.9713\n"
     ]
    },
    {
     "name": "stderr",
     "output_type": "stream",
     "text": [
      "Epoch [851/3000]: 100%|██████████| 15/15 [00:00<00:00, 418.12it/s, loss=8.43e+3]\n"
     ]
    },
    {
     "name": "stdout",
     "output_type": "stream",
     "text": [
      "Epoch [851/3000]: Train loss: 7693.0321, Valid loss: 7972.3354\n"
     ]
    },
    {
     "name": "stderr",
     "output_type": "stream",
     "text": [
      "Epoch [852/3000]: 100%|██████████| 15/15 [00:00<00:00, 274.70it/s, loss=5.99e+3]\n"
     ]
    },
    {
     "name": "stdout",
     "output_type": "stream",
     "text": [
      "Epoch [852/3000]: Train loss: 7590.5647, Valid loss: 8296.2793\n"
     ]
    },
    {
     "name": "stderr",
     "output_type": "stream",
     "text": [
      "Epoch [853/3000]: 100%|██████████| 15/15 [00:00<00:00, 413.19it/s, loss=6.82e+3]\n"
     ]
    },
    {
     "name": "stdout",
     "output_type": "stream",
     "text": [
      "Epoch [853/3000]: Train loss: 7625.6502, Valid loss: 8189.8433\n"
     ]
    },
    {
     "name": "stderr",
     "output_type": "stream",
     "text": [
      "Epoch [854/3000]: 100%|██████████| 15/15 [00:00<00:00, 447.94it/s, loss=6.12e+3]\n"
     ]
    },
    {
     "name": "stdout",
     "output_type": "stream",
     "text": [
      "Epoch [854/3000]: Train loss: 7596.2454, Valid loss: 8246.9692\n"
     ]
    },
    {
     "name": "stderr",
     "output_type": "stream",
     "text": [
      "Epoch [855/3000]: 100%|██████████| 15/15 [00:00<00:00, 442.95it/s, loss=6.11e+3]\n"
     ]
    },
    {
     "name": "stdout",
     "output_type": "stream",
     "text": [
      "Epoch [855/3000]: Train loss: 7595.5684, Valid loss: 7841.3646\n"
     ]
    },
    {
     "name": "stderr",
     "output_type": "stream",
     "text": [
      "Epoch [856/3000]: 100%|██████████| 15/15 [00:00<00:00, 416.22it/s, loss=7.93e+3]\n"
     ]
    },
    {
     "name": "stdout",
     "output_type": "stream",
     "text": [
      "Epoch [856/3000]: Train loss: 7672.1161, Valid loss: 7689.6456\n"
     ]
    },
    {
     "name": "stderr",
     "output_type": "stream",
     "text": [
      "Epoch [857/3000]: 100%|██████████| 15/15 [00:00<00:00, 436.44it/s, loss=8.38e+3]\n"
     ]
    },
    {
     "name": "stdout",
     "output_type": "stream",
     "text": [
      "Epoch [857/3000]: Train loss: 7690.9354, Valid loss: 8351.0982\n"
     ]
    },
    {
     "name": "stderr",
     "output_type": "stream",
     "text": [
      "Epoch [858/3000]: 100%|██████████| 15/15 [00:00<00:00, 427.45it/s, loss=7.99e+3]\n"
     ]
    },
    {
     "name": "stdout",
     "output_type": "stream",
     "text": [
      "Epoch [858/3000]: Train loss: 7674.5057, Valid loss: 8766.9418\n"
     ]
    },
    {
     "name": "stderr",
     "output_type": "stream",
     "text": [
      "Epoch [859/3000]: 100%|██████████| 15/15 [00:00<00:00, 288.03it/s, loss=9.98e+3]\n"
     ]
    },
    {
     "name": "stdout",
     "output_type": "stream",
     "text": [
      "Epoch [859/3000]: Train loss: 7758.0905, Valid loss: 8274.5519\n"
     ]
    },
    {
     "name": "stderr",
     "output_type": "stream",
     "text": [
      "Epoch [860/3000]: 100%|██████████| 15/15 [00:00<00:00, 344.80it/s, loss=1.14e+4]\n"
     ]
    },
    {
     "name": "stdout",
     "output_type": "stream",
     "text": [
      "Epoch [860/3000]: Train loss: 7818.5123, Valid loss: 7942.6140\n"
     ]
    },
    {
     "name": "stderr",
     "output_type": "stream",
     "text": [
      "Epoch [861/3000]: 100%|██████████| 15/15 [00:00<00:00, 435.38it/s, loss=6.95e+3]\n"
     ]
    },
    {
     "name": "stdout",
     "output_type": "stream",
     "text": [
      "Epoch [861/3000]: Train loss: 7631.0981, Valid loss: 8021.3800\n"
     ]
    },
    {
     "name": "stderr",
     "output_type": "stream",
     "text": [
      "Epoch [862/3000]: 100%|██████████| 15/15 [00:00<00:00, 437.97it/s, loss=7.27e+3]\n"
     ]
    },
    {
     "name": "stdout",
     "output_type": "stream",
     "text": [
      "Epoch [862/3000]: Train loss: 7644.2062, Valid loss: 8275.0805\n"
     ]
    },
    {
     "name": "stderr",
     "output_type": "stream",
     "text": [
      "Epoch [863/3000]: 100%|██████████| 15/15 [00:00<00:00, 438.35it/s, loss=7.2e+3]\n"
     ]
    },
    {
     "name": "stdout",
     "output_type": "stream",
     "text": [
      "Epoch [863/3000]: Train loss: 7641.6256, Valid loss: 8234.7078\n"
     ]
    },
    {
     "name": "stderr",
     "output_type": "stream",
     "text": [
      "Epoch [864/3000]: 100%|██████████| 15/15 [00:00<00:00, 433.90it/s, loss=1.44e+4]\n"
     ]
    },
    {
     "name": "stdout",
     "output_type": "stream",
     "text": [
      "Epoch [864/3000]: Train loss: 7944.7970, Valid loss: 8498.9918\n"
     ]
    },
    {
     "name": "stderr",
     "output_type": "stream",
     "text": [
      "Epoch [865/3000]: 100%|██████████| 15/15 [00:00<00:00, 175.24it/s, loss=5.95e+3]\n"
     ]
    },
    {
     "name": "stdout",
     "output_type": "stream",
     "text": [
      "Epoch [865/3000]: Train loss: 7589.1557, Valid loss: 8244.6431\n"
     ]
    },
    {
     "name": "stderr",
     "output_type": "stream",
     "text": [
      "Epoch [866/3000]: 100%|██████████| 15/15 [00:00<00:00, 246.67it/s, loss=5.82e+3]\n"
     ]
    },
    {
     "name": "stdout",
     "output_type": "stream",
     "text": [
      "Epoch [866/3000]: Train loss: 7583.6557, Valid loss: 7909.2136\n"
     ]
    },
    {
     "name": "stderr",
     "output_type": "stream",
     "text": [
      "Epoch [867/3000]: 100%|██████████| 15/15 [00:00<00:00, 374.40it/s, loss=4.47e+3]\n"
     ]
    },
    {
     "name": "stdout",
     "output_type": "stream",
     "text": [
      "Epoch [867/3000]: Train loss: 7526.8723, Valid loss: 7943.4978\n"
     ]
    },
    {
     "name": "stderr",
     "output_type": "stream",
     "text": [
      "Epoch [868/3000]: 100%|██████████| 15/15 [00:00<00:00, 397.81it/s, loss=6.8e+3]\n"
     ]
    },
    {
     "name": "stdout",
     "output_type": "stream",
     "text": [
      "Epoch [868/3000]: Train loss: 7624.6963, Valid loss: 8556.2385\n"
     ]
    },
    {
     "name": "stderr",
     "output_type": "stream",
     "text": [
      "Epoch [869/3000]: 100%|██████████| 15/15 [00:00<00:00, 371.69it/s, loss=7.9e+3]\n"
     ]
    },
    {
     "name": "stdout",
     "output_type": "stream",
     "text": [
      "Epoch [869/3000]: Train loss: 7670.5934, Valid loss: 7711.7875\n"
     ]
    },
    {
     "name": "stderr",
     "output_type": "stream",
     "text": [
      "Epoch [870/3000]: 100%|██████████| 15/15 [00:00<00:00, 395.11it/s, loss=5.04e+3]"
     ]
    },
    {
     "name": "stdout",
     "output_type": "stream",
     "text": [
      "Epoch [870/3000]: Train loss: 7550.8451, Valid loss: 7546.8427\n"
     ]
    },
    {
     "name": "stderr",
     "output_type": "stream",
     "text": [
      "\n",
      "Epoch [871/3000]: 100%|██████████| 15/15 [00:00<00:00, 400.84it/s, loss=8.64e+3]\n"
     ]
    },
    {
     "name": "stdout",
     "output_type": "stream",
     "text": [
      "Epoch [871/3000]: Train loss: 7701.8852, Valid loss: 8603.4415\n"
     ]
    },
    {
     "name": "stderr",
     "output_type": "stream",
     "text": [
      "Epoch [872/3000]: 100%|██████████| 15/15 [00:00<00:00, 395.91it/s, loss=9.37e+3]\n"
     ]
    },
    {
     "name": "stdout",
     "output_type": "stream",
     "text": [
      "Epoch [872/3000]: Train loss: 7732.4570, Valid loss: 8616.3220\n"
     ]
    },
    {
     "name": "stderr",
     "output_type": "stream",
     "text": [
      "Epoch [873/3000]: 100%|██████████| 15/15 [00:00<00:00, 338.87it/s, loss=8.36e+3]\n"
     ]
    },
    {
     "name": "stdout",
     "output_type": "stream",
     "text": [
      "Epoch [873/3000]: Train loss: 7690.1923, Valid loss: 8061.9661\n"
     ]
    },
    {
     "name": "stderr",
     "output_type": "stream",
     "text": [
      "Epoch [874/3000]: 100%|██████████| 15/15 [00:00<00:00, 243.21it/s, loss=1.01e+4]\n"
     ]
    },
    {
     "name": "stdout",
     "output_type": "stream",
     "text": [
      "Epoch [874/3000]: Train loss: 7764.9984, Valid loss: 7678.5555\n"
     ]
    },
    {
     "name": "stderr",
     "output_type": "stream",
     "text": [
      "Epoch [875/3000]: 100%|██████████| 15/15 [00:00<00:00, 359.30it/s, loss=8.21e+3]\n"
     ]
    },
    {
     "name": "stdout",
     "output_type": "stream",
     "text": [
      "Epoch [875/3000]: Train loss: 7683.9499, Valid loss: 7952.8951\n"
     ]
    },
    {
     "name": "stderr",
     "output_type": "stream",
     "text": [
      "Epoch [876/3000]: 100%|██████████| 15/15 [00:00<00:00, 326.49it/s, loss=8.08e+3]\n"
     ]
    },
    {
     "name": "stdout",
     "output_type": "stream",
     "text": [
      "Epoch [876/3000]: Train loss: 7678.2171, Valid loss: 8036.3886\n"
     ]
    },
    {
     "name": "stderr",
     "output_type": "stream",
     "text": [
      "Epoch [877/3000]: 100%|██████████| 15/15 [00:00<00:00, 200.64it/s, loss=1.04e+4]\n"
     ]
    },
    {
     "name": "stdout",
     "output_type": "stream",
     "text": [
      "Epoch [877/3000]: Train loss: 7774.5000, Valid loss: 8165.8841\n"
     ]
    },
    {
     "name": "stderr",
     "output_type": "stream",
     "text": [
      "Epoch [878/3000]: 100%|██████████| 15/15 [00:00<00:00, 360.39it/s, loss=5.96e+3]\n"
     ]
    },
    {
     "name": "stdout",
     "output_type": "stream",
     "text": [
      "Epoch [878/3000]: Train loss: 7589.6312, Valid loss: 8187.8642\n"
     ]
    },
    {
     "name": "stderr",
     "output_type": "stream",
     "text": [
      "Epoch [879/3000]: 100%|██████████| 15/15 [00:00<00:00, 215.70it/s, loss=9.98e+3]\n"
     ]
    },
    {
     "name": "stdout",
     "output_type": "stream",
     "text": [
      "Epoch [879/3000]: Train loss: 7757.8885, Valid loss: 7968.9086\n"
     ]
    },
    {
     "name": "stderr",
     "output_type": "stream",
     "text": [
      "Epoch [880/3000]: 100%|██████████| 15/15 [00:00<00:00, 336.00it/s, loss=8.22e+3]\n"
     ]
    },
    {
     "name": "stdout",
     "output_type": "stream",
     "text": [
      "Epoch [880/3000]: Train loss: 7684.3921, Valid loss: 8905.8041\n"
     ]
    },
    {
     "name": "stderr",
     "output_type": "stream",
     "text": [
      "Epoch [881/3000]: 100%|██████████| 15/15 [00:00<00:00, 308.22it/s, loss=5.69e+3]\n"
     ]
    },
    {
     "name": "stdout",
     "output_type": "stream",
     "text": [
      "Epoch [881/3000]: Train loss: 7578.0629, Valid loss: 8599.5732\n"
     ]
    },
    {
     "name": "stderr",
     "output_type": "stream",
     "text": [
      "Epoch [882/3000]: 100%|██████████| 15/15 [00:00<00:00, 271.85it/s, loss=7.96e+3]\n"
     ]
    },
    {
     "name": "stdout",
     "output_type": "stream",
     "text": [
      "Epoch [882/3000]: Train loss: 7673.4029, Valid loss: 7761.5215\n"
     ]
    },
    {
     "name": "stderr",
     "output_type": "stream",
     "text": [
      "Epoch [883/3000]: 100%|██████████| 15/15 [00:00<00:00, 301.81it/s, loss=6.18e+3]\n"
     ]
    },
    {
     "name": "stdout",
     "output_type": "stream",
     "text": [
      "Epoch [883/3000]: Train loss: 7598.5121, Valid loss: 8141.9481\n"
     ]
    },
    {
     "name": "stderr",
     "output_type": "stream",
     "text": [
      "Epoch [884/3000]: 100%|██████████| 15/15 [00:00<00:00, 296.41it/s, loss=1.08e+4]\n"
     ]
    },
    {
     "name": "stdout",
     "output_type": "stream",
     "text": [
      "Epoch [884/3000]: Train loss: 7793.2639, Valid loss: 7924.8423\n"
     ]
    },
    {
     "name": "stderr",
     "output_type": "stream",
     "text": [
      "Epoch [885/3000]: 100%|██████████| 15/15 [00:00<00:00, 248.04it/s, loss=1.01e+4]\n"
     ]
    },
    {
     "name": "stdout",
     "output_type": "stream",
     "text": [
      "Epoch [885/3000]: Train loss: 7761.8675, Valid loss: 7521.3786\n"
     ]
    },
    {
     "name": "stderr",
     "output_type": "stream",
     "text": [
      "Epoch [886/3000]: 100%|██████████| 15/15 [00:00<00:00, 313.75it/s, loss=4.56e+3]"
     ]
    },
    {
     "name": "stdout",
     "output_type": "stream",
     "text": [
      "Epoch [886/3000]: Train loss: 7530.7420, Valid loss: 7903.7637"
     ]
    },
    {
     "name": "stderr",
     "output_type": "stream",
     "text": [
      "\n"
     ]
    },
    {
     "name": "stdout",
     "output_type": "stream",
     "text": [
      "\n"
     ]
    },
    {
     "name": "stderr",
     "output_type": "stream",
     "text": [
      "Epoch [887/3000]: 100%|██████████| 15/15 [00:00<00:00, 406.06it/s, loss=6.84e+3]\n"
     ]
    },
    {
     "name": "stdout",
     "output_type": "stream",
     "text": [
      "Epoch [887/3000]: Train loss: 7626.5544, Valid loss: 8295.7262\n"
     ]
    },
    {
     "name": "stderr",
     "output_type": "stream",
     "text": [
      "Epoch [888/3000]: 100%|██████████| 15/15 [00:00<00:00, 420.93it/s, loss=8.63e+3]\n"
     ]
    },
    {
     "name": "stdout",
     "output_type": "stream",
     "text": [
      "Epoch [888/3000]: Train loss: 7701.2453, Valid loss: 8315.2780\n"
     ]
    },
    {
     "name": "stderr",
     "output_type": "stream",
     "text": [
      "Epoch [889/3000]: 100%|██████████| 15/15 [00:00<00:00, 406.44it/s, loss=9.84e+3]\n"
     ]
    },
    {
     "name": "stdout",
     "output_type": "stream",
     "text": [
      "Epoch [889/3000]: Train loss: 7752.1046, Valid loss: 7918.1629\n"
     ]
    },
    {
     "name": "stderr",
     "output_type": "stream",
     "text": [
      "Epoch [890/3000]: 100%|██████████| 15/15 [00:00<00:00, 290.80it/s, loss=9.52e+3]\n"
     ]
    },
    {
     "name": "stdout",
     "output_type": "stream",
     "text": [
      "Epoch [890/3000]: Train loss: 7738.5338, Valid loss: 8161.9648\n"
     ]
    },
    {
     "name": "stderr",
     "output_type": "stream",
     "text": [
      "Epoch [891/3000]: 100%|██████████| 15/15 [00:00<00:00, 260.40it/s, loss=7.27e+3]\n"
     ]
    },
    {
     "name": "stdout",
     "output_type": "stream",
     "text": [
      "Epoch [891/3000]: Train loss: 7644.2036, Valid loss: 7883.3691\n"
     ]
    },
    {
     "name": "stderr",
     "output_type": "stream",
     "text": [
      "Epoch [892/3000]: 100%|██████████| 15/15 [00:00<00:00, 401.56it/s, loss=8.04e+3]\n"
     ]
    },
    {
     "name": "stdout",
     "output_type": "stream",
     "text": [
      "Epoch [892/3000]: Train loss: 7676.6737, Valid loss: 8676.2593\n"
     ]
    },
    {
     "name": "stderr",
     "output_type": "stream",
     "text": [
      "Epoch [893/3000]: 100%|██████████| 15/15 [00:00<00:00, 413.31it/s, loss=7.48e+3]\n"
     ]
    },
    {
     "name": "stdout",
     "output_type": "stream",
     "text": [
      "Epoch [893/3000]: Train loss: 7653.2974, Valid loss: 7590.2437\n"
     ]
    },
    {
     "name": "stderr",
     "output_type": "stream",
     "text": [
      "Epoch [894/3000]: 100%|██████████| 15/15 [00:00<00:00, 408.99it/s, loss=9.85e+3]\n"
     ]
    },
    {
     "name": "stdout",
     "output_type": "stream",
     "text": [
      "Epoch [894/3000]: Train loss: 7752.6421, Valid loss: 8614.5463\n"
     ]
    },
    {
     "name": "stderr",
     "output_type": "stream",
     "text": [
      "Epoch [895/3000]: 100%|██████████| 15/15 [00:00<00:00, 258.15it/s, loss=6.55e+3]\n"
     ]
    },
    {
     "name": "stdout",
     "output_type": "stream",
     "text": [
      "Epoch [895/3000]: Train loss: 7614.1306, Valid loss: 7551.3449\n"
     ]
    },
    {
     "name": "stderr",
     "output_type": "stream",
     "text": [
      "Epoch [896/3000]: 100%|██████████| 15/15 [00:00<00:00, 367.42it/s, loss=1.09e+4]\n"
     ]
    },
    {
     "name": "stdout",
     "output_type": "stream",
     "text": [
      "Epoch [896/3000]: Train loss: 7794.8492, Valid loss: 8972.6572\n"
     ]
    },
    {
     "name": "stderr",
     "output_type": "stream",
     "text": [
      "Epoch [897/3000]: 100%|██████████| 15/15 [00:00<00:00, 401.15it/s, loss=9.46e+3]\n"
     ]
    },
    {
     "name": "stdout",
     "output_type": "stream",
     "text": [
      "Epoch [897/3000]: Train loss: 7736.0815, Valid loss: 7663.8764\n"
     ]
    },
    {
     "name": "stderr",
     "output_type": "stream",
     "text": [
      "Epoch [898/3000]: 100%|██████████| 15/15 [00:00<00:00, 202.86it/s, loss=1.12e+4]\n"
     ]
    },
    {
     "name": "stdout",
     "output_type": "stream",
     "text": [
      "Epoch [898/3000]: Train loss: 7810.9926, Valid loss: 7767.4238\n"
     ]
    },
    {
     "name": "stderr",
     "output_type": "stream",
     "text": [
      "Epoch [899/3000]: 100%|██████████| 15/15 [00:00<00:00, 280.83it/s, loss=7.14e+3]\n"
     ]
    },
    {
     "name": "stdout",
     "output_type": "stream",
     "text": [
      "Epoch [899/3000]: Train loss: 7638.9478, Valid loss: 8265.3269\n"
     ]
    },
    {
     "name": "stderr",
     "output_type": "stream",
     "text": [
      "Epoch [900/3000]: 100%|██████████| 15/15 [00:00<00:00, 231.75it/s, loss=9.19e+3]\n"
     ]
    },
    {
     "name": "stdout",
     "output_type": "stream",
     "text": [
      "Epoch [900/3000]: Train loss: 7725.0198, Valid loss: 7655.6415\n"
     ]
    },
    {
     "name": "stderr",
     "output_type": "stream",
     "text": [
      "Epoch [901/3000]: 100%|██████████| 15/15 [00:00<00:00, 262.70it/s, loss=8.61e+3]\n"
     ]
    },
    {
     "name": "stdout",
     "output_type": "stream",
     "text": [
      "Epoch [901/3000]: Train loss: 7700.6811, Valid loss: 7838.2808\n"
     ]
    },
    {
     "name": "stderr",
     "output_type": "stream",
     "text": [
      "Epoch [902/3000]: 100%|██████████| 15/15 [00:00<00:00, 328.03it/s, loss=8e+3]\n"
     ]
    },
    {
     "name": "stdout",
     "output_type": "stream",
     "text": [
      "Epoch [902/3000]: Train loss: 7675.1295, Valid loss: 8215.7637\n"
     ]
    },
    {
     "name": "stderr",
     "output_type": "stream",
     "text": [
      "Epoch [903/3000]: 100%|██████████| 15/15 [00:00<00:00, 126.11it/s, loss=5.18e+3]\n"
     ]
    },
    {
     "name": "stdout",
     "output_type": "stream",
     "text": [
      "Epoch [903/3000]: Train loss: 7556.6560, Valid loss: 7646.9803\n"
     ]
    },
    {
     "name": "stderr",
     "output_type": "stream",
     "text": [
      "Epoch [904/3000]: 100%|██████████| 15/15 [00:00<00:00, 275.74it/s, loss=6.47e+3]\n"
     ]
    },
    {
     "name": "stdout",
     "output_type": "stream",
     "text": [
      "Epoch [904/3000]: Train loss: 7610.8858, Valid loss: 7646.0820\n"
     ]
    },
    {
     "name": "stderr",
     "output_type": "stream",
     "text": [
      "Epoch [905/3000]: 100%|██████████| 15/15 [00:00<00:00, 349.85it/s, loss=5.93e+3]\n"
     ]
    },
    {
     "name": "stdout",
     "output_type": "stream",
     "text": [
      "Epoch [905/3000]: Train loss: 7588.2233, Valid loss: 8299.5634\n"
     ]
    },
    {
     "name": "stderr",
     "output_type": "stream",
     "text": [
      "Epoch [906/3000]: 100%|██████████| 15/15 [00:00<00:00, 367.12it/s, loss=6.94e+3]\n"
     ]
    },
    {
     "name": "stdout",
     "output_type": "stream",
     "text": [
      "Epoch [906/3000]: Train loss: 7630.3483, Valid loss: 8010.7224\n"
     ]
    },
    {
     "name": "stderr",
     "output_type": "stream",
     "text": [
      "Epoch [907/3000]: 100%|██████████| 15/15 [00:00<00:00, 341.98it/s, loss=5.63e+3]\n"
     ]
    },
    {
     "name": "stdout",
     "output_type": "stream",
     "text": [
      "Epoch [907/3000]: Train loss: 7575.6113, Valid loss: 7557.2162\n"
     ]
    },
    {
     "name": "stderr",
     "output_type": "stream",
     "text": [
      "Epoch [908/3000]: 100%|██████████| 15/15 [00:00<00:00, 327.99it/s, loss=7.33e+3]\n"
     ]
    },
    {
     "name": "stdout",
     "output_type": "stream",
     "text": [
      "Epoch [908/3000]: Train loss: 7647.0222, Valid loss: 7700.4209\n"
     ]
    },
    {
     "name": "stderr",
     "output_type": "stream",
     "text": [
      "Epoch [909/3000]: 100%|██████████| 15/15 [00:00<00:00, 279.61it/s, loss=8.67e+3]\n"
     ]
    },
    {
     "name": "stdout",
     "output_type": "stream",
     "text": [
      "Epoch [909/3000]: Train loss: 7703.2630, Valid loss: 7737.6414\n",
      "\n",
      "Model is not improving, so we halt the training session.\n"
     ]
    },
    {
     "name": "stderr",
     "output_type": "stream",
     "text": [
      "STAGE:2023-05-25 22:22:20 16572:14119057 ActivityProfilerController.cpp:317] Completed Stage: Collection\n",
      "STAGE:2023-05-25 22:22:25 16572:14119057 ActivityProfilerController.cpp:321] Completed Stage: Post Processing\n",
      "STAGE:2023-05-25 22:45:56 16572:14119057 ActivityProfilerController.cpp:311] Completed Stage: Warm Up\n",
      "STAGE:2023-05-25 22:45:56 16572:14119057 ActivityProfilerController.cpp:317] Completed Stage: Collection\n",
      "STAGE:2023-05-25 22:45:56 16572:14119057 ActivityProfilerController.cpp:321] Completed Stage: Post Processing\n"
     ]
    }
   ],
   "source": [
    "model = Stock_Model(input_dim=x_train.shape[1]).to(device)\n",
    "\n",
    "with torch.profiler.profile(\n",
    "    activities=[torch.profiler.ProfilerActivity.CPU],\n",
    "    schedule = torch.profiler.schedule(\n",
    "        wait=0,\n",
    "        warmup=0,\n",
    "        active=1\n",
    "    ),\n",
    "    on_trace_ready=torch.profiler.tensorboard_trace_handler('./log')\n",
    ") as prof:\n",
    "    trainer(train_loader, valid_loader, model, config, device)\n",
    "    prof.step()"
   ]
  },
  {
   "cell_type": "code",
   "execution_count": 10,
   "metadata": {},
   "outputs": [
    {
     "name": "stdout",
     "output_type": "stream",
     "text": [
      "-----------------  ------------  ------------  ------------  ------------  ------------  ------------  \n",
      "             Name    Self CPU %      Self CPU   CPU total %     CPU total  CPU time avg    # of Calls  \n",
      "-----------------  ------------  ------------  ------------  ------------  ------------  ------------  \n",
      "    ProfilerStep*       100.00%       1.161ms       100.00%       1.161ms       1.161ms             1  \n",
      "-----------------  ------------  ------------  ------------  ------------  ------------  ------------  \n",
      "Self CPU time total: 1.161ms\n",
      "\n"
     ]
    }
   ],
   "source": [
    "print(prof.key_averages().table(sort_by=\"self_cpu_time_total\", row_limit=10))\n"
   ]
  },
  {
   "cell_type": "code",
   "execution_count": 11,
   "metadata": {},
   "outputs": [
    {
     "name": "stderr",
     "output_type": "stream",
     "text": [
      "UsageError: Line magic function `%tensorboard` not found.\n"
     ]
    }
   ],
   "source": [
    "%tensorboard --logdir=./log/"
   ]
  },
  {
   "attachments": {},
   "cell_type": "markdown",
   "metadata": {},
   "source": [
    "## Plot learning curves with tensorboard"
   ]
  },
  {
   "cell_type": "code",
   "execution_count": 15,
   "metadata": {},
   "outputs": [
    {
     "data": {
      "text/html": [
       "\n",
       "      <iframe id=\"tensorboard-frame-15a7e0adccc282b7\" width=\"100%\" height=\"800\" frameborder=\"0\">\n",
       "      </iframe>\n",
       "      <script>\n",
       "        (function() {\n",
       "          const frame = document.getElementById(\"tensorboard-frame-15a7e0adccc282b7\");\n",
       "          const url = new URL(\"http://localhost\");\n",
       "          const port = 6006;\n",
       "          if (port) {\n",
       "            url.port = port;\n",
       "          }\n",
       "          frame.src = url;\n",
       "        })();\n",
       "      </script>\n",
       "    "
      ],
      "text/plain": [
       "<IPython.core.display.HTML object>"
      ]
     },
     "metadata": {},
     "output_type": "display_data"
    }
   ],
   "source": [
    "%reload_ext tensorboard\n",
    "%tensorboard --logdir=./runs/"
   ]
  },
  {
   "attachments": {},
   "cell_type": "markdown",
   "metadata": {},
   "source": [
    "## Testing"
   ]
  },
  {
   "cell_type": "code",
   "execution_count": 17,
   "metadata": {},
   "outputs": [
    {
     "name": "stderr",
     "output_type": "stream",
     "text": [
      "100%|██████████| 3/3 [00:00<00:00, 1215.98it/s]\n"
     ]
    }
   ],
   "source": [
    "def save_pred(preds, file):\n",
    "    ''' Save predictions to specified file '''\n",
    "    with open(file, 'w') as fp:\n",
    "        writer = csv.writer(fp)\n",
    "        writer.writerow(['id', 'tested_positive'])\n",
    "        for i, p in enumerate(preds):\n",
    "            writer.writerow([i, p])\n",
    "\n",
    "model = Stock_Model(input_dim=x_train.shape[1]).to(device)\n",
    "model.load_state_dict(torch.load(config['save_path']))\n",
    "preds = predict(test_loader, model, device)\n",
    "save_pred(preds, 'pred.csv')"
   ]
  }
 ],
 "metadata": {
  "kernelspec": {
   "display_name": "Python 3",
   "language": "python",
   "name": "python3"
  },
  "language_info": {
   "codemirror_mode": {
    "name": "ipython",
    "version": 3
   },
   "file_extension": ".py",
   "mimetype": "text/x-python",
   "name": "python",
   "nbconvert_exporter": "python",
   "pygments_lexer": "ipython3",
   "version": "3.11.3"
  },
  "orig_nbformat": 4
 },
 "nbformat": 4,
 "nbformat_minor": 2
}
