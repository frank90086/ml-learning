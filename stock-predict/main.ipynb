{
 "cells": [
  {
   "attachments": {},
   "cell_type": "markdown",
   "metadata": {},
   "source": [
    "# Stock Predict Model"
   ]
  },
  {
   "attachments": {},
   "cell_type": "markdown",
   "metadata": {},
   "source": [
    "## Set Up"
   ]
  },
  {
   "attachments": {},
   "cell_type": "markdown",
   "metadata": {},
   "source": [
    "### Import Modules"
   ]
  },
  {
   "cell_type": "code",
   "execution_count": 165,
   "metadata": {},
   "outputs": [],
   "source": [
    "# Numerical Operations\n",
    "import math\n",
    "import numpy as np\n",
    "\n",
    "# Reading/Writing Data\n",
    "import pandas as pd\n",
    "import os\n",
    "import csv\n",
    "\n",
    "# For Progress Bar\n",
    "from tqdm import tqdm\n",
    "\n",
    "# For Graph\n",
    "import matplotlib.pyplot as plt\n",
    "\n",
    "# Pytorch\n",
    "import torch\n",
    "import torch.nn as nn\n",
    "from torch.utils.data import Dataset, DataLoader, random_split\n",
    "\n",
    "# For plotting learning curve\n",
    "from torch.utils.tensorboard import SummaryWriter\n",
    "\n",
    "# Yahoo API\n",
    "import yfinance as yf\n",
    "\n",
    "# Sklearn\n",
    "from sklearn.model_selection import train_test_split\n",
    "from sklearn.preprocessing import StandardScaler\n",
    "from sklearn.linear_model import LinearRegression"
   ]
  },
  {
   "attachments": {},
   "cell_type": "markdown",
   "metadata": {},
   "source": [
    "### Configurations"
   ]
  },
  {
   "cell_type": "code",
   "execution_count": 166,
   "metadata": {},
   "outputs": [],
   "source": [
    "device = 'cuda' if torch.cuda.is_available() else ('cpu' if torch.backends.mps.is_available() else 'cpu')\n",
    "scaler = StandardScaler()\n",
    "config = {\n",
    "    'seed': 666999,\n",
    "    'select_all': False,\n",
    "    'valid_ratio': 0.2,\n",
    "    'test_ratio': 0.2,\n",
    "    'n_epochs': 5000,\n",
    "    'learning_rate': 1e-5,\n",
    "    'early_stop': 300,\n",
    "    'save_path': './models/stock.ckpt',\n",
    "    'data_loader': {\n",
    "        'batch_size': 128,\n",
    "        'pin_memory': True,\n",
    "        'num_workers': 0,\n",
    "        'shuffle': True\n",
    "    }\n",
    "}"
   ]
  },
  {
   "attachments": {},
   "cell_type": "markdown",
   "metadata": {},
   "source": [
    "### Utility Functions"
   ]
  },
  {
   "cell_type": "code",
   "execution_count": 167,
   "metadata": {},
   "outputs": [],
   "source": [
    "def same_seed(seed):\n",
    "    '''Fixes random number generator seeds for reproducibility.'''\n",
    "    torch.backends.cudnn.deterministic = True\n",
    "    torch.backends.cudnn.benchmark = False\n",
    "    np.random.seed(seed)\n",
    "    torch.manual_seed(seed)\n",
    "    if torch.backends.mps.is_available():\n",
    "        torch.mps.manual_seed(seed)\n",
    "\n",
    "def predict(test_loader, model, device):\n",
    "    model.eval()\n",
    "    result = {'features': [], 'preds': [], 'ans': []}\n",
    "    for x, y in tqdm(test_loader):\n",
    "        x, y = x.to(device), y.to(device)\n",
    "        with torch.no_grad():\n",
    "            pred = model(x)\n",
    "            result['features'].append(x.detach().cpu())\n",
    "            result['preds'].append(pred.detach().cpu())\n",
    "            result['ans'].append(y.detach().cpu())\n",
    "\n",
    "    # Combination tensor\n",
    "    result['features'] = torch.cat(result['features'], 0).numpy()\n",
    "    result['preds'] = torch.cat(result['preds'], 0).numpy()\n",
    "    result['ans'] = torch.cat(result['ans'], 0).numpy()\n",
    "\n",
    "    predstack = np.column_stack((result['features'], result['preds']))\n",
    "    targetstack = np.column_stack((result['features'], result['ans']))\n",
    "\n",
    "    return np.column_stack((predstack[:, -1], targetstack[:, -1]))\n",
    "\n",
    "def plot_error_rate(pred, target):\n",
    "    '''Plot error rate.'''\n",
    "    errors = (np.absolute(pred - target) / target) * 100\n",
    "    plt.plot(errors, '-r')\n",
    "\n",
    "    plt.xlabel('')\n",
    "    plt.ylabel('Percentage')\n",
    "    plt.title('Error Rate')\n",
    "\n",
    "    plt.show()\n",
    "\n",
    "def plot_pred(pred, target):\n",
    "    '''Plot predict.'''\n",
    "    plt.plot(pred, '-g', label='Prediction')\n",
    "    plt.plot(target, '--r', label='Target')\n",
    "\n",
    "    plt.xlabel('Predictions')\n",
    "    plt.ylabel('Targets')\n",
    "    plt.title('Predictions')\n",
    "    plt.legend()\n",
    "\n",
    "    plt.show()\n",
    "\n",
    "def plot_trend(pred, target):\n",
    "    X = np.array(pred).reshape(-1, 1)\n",
    "    y = np.array(target)\n",
    "\n",
    "    model = LinearRegression()\n",
    "    model.fit(X, y)\n",
    "\n",
    "    y_pred = model.predict(X)\n",
    "\n",
    "    plt.scatter(pred, target, c='b', label='Data')\n",
    "    plt.plot(pred, y_pred, c='r', label='Trend Line')\n",
    "\n",
    "    plt.xlabel('Predictions')\n",
    "    plt.ylabel('Targets')\n",
    "    plt.title('Trend')\n",
    "    plt.legend()\n",
    "\n",
    "    plt.show()\n",
    "\n",
    "def tqdm_span(t):\n",
    "    return f\"[{t.format_interval(t.format_dict['elapsed'] * (t.format_dict['total'] or 0) / max(t.format_dict['n'], 1))}]\"\n",
    "\n",
    "def tqdm_count(t, step):\n",
    "    step += 1\n",
    "    return f\"{step}/{t.format_dict['total']}\", step\n"
   ]
  },
  {
   "attachments": {},
   "cell_type": "markdown",
   "metadata": {},
   "source": [
    "## Data"
   ]
  },
  {
   "attachments": {},
   "cell_type": "markdown",
   "metadata": {},
   "source": [
    "### Dataset"
   ]
  },
  {
   "cell_type": "code",
   "execution_count": 168,
   "metadata": {},
   "outputs": [],
   "source": [
    "class Stock_Dataset(Dataset):\n",
    "    '''\n",
    "    x: Features.\n",
    "    y: Targets, if none, do prediction.\n",
    "    '''\n",
    "    def __init__(self, x, y=None, normalized=False, initscaler=True):\n",
    "        # Normalized\n",
    "        stack = np.column_stack((x, y))\n",
    "\n",
    "        if (normalized):\n",
    "            normalstack = scaler.fit_transform(stack) if initscaler else scaler.transform(stack)\n",
    "            x = normalstack[:, :-1]\n",
    "            y = y if y is None else normalstack[:, -1]\n",
    "\n",
    "        self.y = y if y is None else torch.FloatTensor(y)\n",
    "        self.x = torch.FloatTensor(x)\n",
    "\n",
    "    def __getitem__(self, idx):\n",
    "        if self.y is None:\n",
    "            return self.x[idx]\n",
    "        else:\n",
    "            return self.x[idx], self.y[idx]\n",
    "\n",
    "    def __len__(self):\n",
    "        return len(self.x)"
   ]
  },
  {
   "attachments": {},
   "cell_type": "markdown",
   "metadata": {},
   "source": [
    "### DataLoader"
   ]
  },
  {
   "cell_type": "code",
   "execution_count": 169,
   "metadata": {},
   "outputs": [],
   "source": [
    "def stock_dataloader(config, x, y=None, normalized=False, initscaler=True):\n",
    "    ''' Generates a dataset, then is put into a dataloader. '''\n",
    "\n",
    "    x = np.array(x)\n",
    "    y = np.array(y) if y is not None else y\n",
    "\n",
    "    dataset = Stock_Dataset(x, y, normalized, initscaler)\n",
    "    dataloader = DataLoader(dataset, **config['data_loader'])\n",
    "\n",
    "    return dataloader"
   ]
  },
  {
   "attachments": {},
   "cell_type": "markdown",
   "metadata": {},
   "source": [
    "### Feature Selection"
   ]
  },
  {
   "cell_type": "code",
   "execution_count": 170,
   "metadata": {},
   "outputs": [],
   "source": [
    "def select_feat(train_data, valid_data, test_data, select_all=True):\n",
    "    '''Selects useful features to perform regression'''\n",
    "    y_train, y_valid, y_test = train_data[:,-1], valid_data[:,-1], test_data[:, -1]\n",
    "    raw_x_train, raw_x_valid, raw_x_test = train_data[:, :-1], valid_data[:, :-1], test_data[:, :-1]\n",
    "\n",
    "    if select_all:\n",
    "        feat_idx = list(range(raw_x_train.shape[1]))\n",
    "    else:\n",
    "        feat_idx = [0,1,2,3] # TODO: Select suitable feature columns.\n",
    "\n",
    "    return raw_x_train[:,feat_idx], raw_x_valid[:,feat_idx], raw_x_test[:,feat_idx], y_train, y_valid, y_test"
   ]
  },
  {
   "attachments": {},
   "cell_type": "markdown",
   "metadata": {},
   "source": [
    "### Set Data"
   ]
  },
  {
   "cell_type": "code",
   "execution_count": 171,
   "metadata": {},
   "outputs": [
    {
     "name": "stdout",
     "output_type": "stream",
     "text": [
      "[*********************100%***********************]  1 of 1 completed\n",
      "train_data size: (3737, 6)\n",
      "valid_data size: (935, 6)\n",
      "test_data size: (1169, 6)\n",
      "number of features: 4\n"
     ]
    }
   ],
   "source": [
    "same_seed(config['seed'])\n",
    "\n",
    "# re-index\n",
    "index = [\"Open\", \"High\", \"Low\", \"Adj Close\", \"Volume\", \"Close\"]\n",
    "raw_data = pd.DataFrame(yf.download('2330.TW', start='2000-01-01', end='2023-12-31'))\n",
    "# raw_data.to_csv(\"raw.csv\", index=False)\n",
    "train_data, test_data = train_test_split(\n",
    "    raw_data[index].values,\n",
    "    test_size=config['test_ratio'],\n",
    "    random_state=config['seed'],\n",
    "    shuffle=False\n",
    ")\n",
    "\n",
    "train_data, valid_data = train_test_split(\n",
    "    train_data,\n",
    "    test_size=config['valid_ratio'],\n",
    "    random_state=config['seed'],\n",
    "    shuffle=True\n",
    ")\n",
    "\n",
    "# Print out the data size.\n",
    "print(f\"\"\"train_data size: {train_data.shape}\n",
    "valid_data size: {valid_data.shape}\n",
    "test_data size: {test_data.shape}\"\"\")\n",
    "\n",
    "# Select features\n",
    "x_train, x_valid, x_test, y_train, y_valid, y_test = select_feat(train_data, valid_data, test_data, config['select_all'])\n",
    "\n",
    "# Print out the number of features.\n",
    "print(f'number of features: {x_train.shape[1]}')\n",
    "\n",
    "# Pytorch data loader loads pytorch dataset into batches.\n",
    "train_loader = stock_dataloader(config, x_train, y_train)\n",
    "valid_loader = stock_dataloader(config, x_valid, y_valid, initscaler=False)\n",
    "test_loader = stock_dataloader(config, x_test, y_test, initscaler=False)"
   ]
  },
  {
   "attachments": {},
   "cell_type": "markdown",
   "metadata": {},
   "source": [
    "## Neural Network"
   ]
  },
  {
   "attachments": {},
   "cell_type": "markdown",
   "metadata": {},
   "source": [
    "### Model"
   ]
  },
  {
   "cell_type": "code",
   "execution_count": 172,
   "metadata": {},
   "outputs": [],
   "source": [
    "class Stock_Model(nn.Module):\n",
    "    def __init__(self, input_dim):\n",
    "        super(Stock_Model, self).__init__()\n",
    "        self.layers = nn.Sequential(\n",
    "            nn.Linear(input_dim, 32),\n",
    "            nn.BatchNorm1d(32),\n",
    "            nn.ReLU(),\n",
    "            nn.Linear(32, 16),\n",
    "            nn.BatchNorm1d(16),\n",
    "            nn.ReLU(),\n",
    "            nn.Linear(16, 1)\n",
    "        )\n",
    "\n",
    "    def forward(self, x):\n",
    "        x = self.layers(x)\n",
    "        x = x.squeeze(1)\n",
    "        return x"
   ]
  },
  {
   "attachments": {},
   "cell_type": "markdown",
   "metadata": {},
   "source": [
    "### Training Loop"
   ]
  },
  {
   "cell_type": "code",
   "execution_count": 173,
   "metadata": {},
   "outputs": [],
   "source": [
    "def trainer(train_loader, valid_loader, model, config, device):\n",
    "\n",
    "    criterion = nn.MSELoss(reduction='mean')\n",
    "    optimizer = torch.optim.SGD(model.parameters(), lr=config['learning_rate'], momentum=0.7)\n",
    "\n",
    "    writer = SummaryWriter()\n",
    "\n",
    "    if not os.path.isdir('./models'):\n",
    "        os.mkdir('./models')\n",
    "\n",
    "    n_epochs, best_loss, step, early_stop_count = config['n_epochs'], math.inf, 0, 0\n",
    "\n",
    "    for epoch in range(n_epochs):\n",
    "\n",
    "        train_step = 0\n",
    "        valid_step = 0\n",
    "        postfix = [{\"Loss\": 0, \"Span\": \"\", \"Count\": \"\", \"Title\": \"Train Loss\"}, {\"Loss\": 0, \"Span\": \"\", \"Count\": \"\", \"Title\": \"Valid Loss\"}]\n",
    "        bar_format = \"{l_bar}{bar}| {postfix[0][Count]} {postfix[0][Span]} {postfix[0][Title]} {postfix[0][Loss]:>2.4f}, {postfix[1][Count]} {postfix[1][Span]} {postfix[1][Title]} {postfix[1][Loss]:>2.4f}\"\n",
    "\n",
    "        # train\n",
    "        model.train()\n",
    "        loss_train_record = []\n",
    "\n",
    "        # with torch.inference_mode():\n",
    "        with tqdm(train_loader,\n",
    "                bar_format=bar_format,\n",
    "                desc=f'Epoch [{epoch+1}/{n_epochs}]',\n",
    "                postfix=postfix,\n",
    "                leave=False) as t:\n",
    "            for x, y in t:\n",
    "                optimizer.zero_grad()\n",
    "                x, y = x.to(device), y.to(device)\n",
    "                pred = model(x)\n",
    "                loss = criterion(pred, y)\n",
    "                loss.backward()\n",
    "                optimizer.step()\n",
    "                step += 1\n",
    "                loss_train_record.append(loss.detach().item())\n",
    "                mean_train_loss = sum(loss_train_record)/len(loss_train_record)\n",
    "                \n",
    "                t.postfix[0][\"Loss\"] = mean_train_loss\n",
    "                t.postfix[0][\"Span\"] = tqdm_span(t)\n",
    "                t.postfix[0][\"Count\"], train_step = tqdm_count(t, train_step)\n",
    "                t.update()\n",
    "\n",
    "        writer.add_scalar('Loss/train', mean_train_loss, step)\n",
    "\n",
    "        # valid\n",
    "        model.eval()\n",
    "        loss_valid_record = []\n",
    "\n",
    "        with tqdm(valid_loader,\n",
    "                bar_format=bar_format,\n",
    "                desc=f'Epoch [{epoch+1}/{n_epochs}]',\n",
    "                postfix=postfix) as t:\n",
    "            for x, y in t:\n",
    "                x, y = x.to(device), y.to(device)\n",
    "                with torch.no_grad():\n",
    "                    pred = model(x)\n",
    "                    loss = criterion(pred, y)\n",
    "                    loss_valid_record.append(loss.item())\n",
    "                    mean_valid_loss = sum(loss_valid_record)/len(loss_valid_record)\n",
    "\n",
    "                    t.postfix[1][\"Loss\"] = mean_valid_loss\n",
    "                    t.postfix[1][\"Span\"] = tqdm_span(t)\n",
    "                    t.postfix[1][\"Count\"], valid_step = tqdm_count(t, valid_step)\n",
    "                    t.update()\n",
    "\n",
    "        writer.add_scalar('Loss/valid', mean_valid_loss, step)\n",
    "\n",
    "        if mean_valid_loss < best_loss:\n",
    "            best_loss = mean_valid_loss\n",
    "            torch.save(model.state_dict(), config['save_path']) # Save your best model\n",
    "            print('Saving model with loss {:.3f}...'.format(best_loss))\n",
    "            early_stop_count = 0\n",
    "        else: \n",
    "            early_stop_count += 1\n",
    "\n",
    "        if early_stop_count >= config['early_stop']:\n",
    "            print('\\nModel is not improving, so we halt the training session.')\n",
    "            return"
   ]
  },
  {
   "attachments": {},
   "cell_type": "markdown",
   "metadata": {},
   "source": [
    "## Training"
   ]
  },
  {
   "cell_type": "code",
   "execution_count": 174,
   "metadata": {},
   "outputs": [
    {
     "name": "stderr",
     "output_type": "stream",
     "text": [
      "Epoch [1/5000]: 100%|██████████| 30/30 [00:00] Train Loss 10400.6660, 8/8 [00:00] Valid Loss 9705.3884\n"
     ]
    },
    {
     "name": "stdout",
     "output_type": "stream",
     "text": [
      "Saving model with loss 9705.388...\n"
     ]
    },
    {
     "name": "stderr",
     "output_type": "stream",
     "text": [
      "Epoch [2/5000]: 100%|██████████| 30/30 [00:00] Train Loss 10425.4820, 8/8 [00:00] Valid Loss 9552.7384\n"
     ]
    },
    {
     "name": "stdout",
     "output_type": "stream",
     "text": [
      "Saving model with loss 9552.738...\n"
     ]
    },
    {
     "name": "stderr",
     "output_type": "stream",
     "text": [
      "Epoch [3/5000]: 100%|██████████| 30/30 [00:00] Train Loss 10059.8313, 8/8 [00:00] Valid Loss 9426.3875\n"
     ]
    },
    {
     "name": "stdout",
     "output_type": "stream",
     "text": [
      "Saving model with loss 9426.387...\n"
     ]
    },
    {
     "name": "stderr",
     "output_type": "stream",
     "text": [
      "Epoch [4/5000]: 100%|██████████| 30/30 [00:00] Train Loss 9523.9278, 8/8 [00:00] Valid Loss 9222.3654\n"
     ]
    },
    {
     "name": "stdout",
     "output_type": "stream",
     "text": [
      "Saving model with loss 9222.365...\n"
     ]
    },
    {
     "name": "stderr",
     "output_type": "stream",
     "text": [
      "Epoch [5/5000]: 100%|██████████| 30/30 [00:00] Train Loss 9225.8902, 8/8 [00:00] Valid Loss 8407.8331\n"
     ]
    },
    {
     "name": "stdout",
     "output_type": "stream",
     "text": [
      "Saving model with loss 8407.833...\n"
     ]
    },
    {
     "name": "stderr",
     "output_type": "stream",
     "text": [
      "Epoch [6/5000]: 100%|██████████| 30/30 [00:00] Train Loss 8886.3972, 8/8 [00:00] Valid Loss 8053.2847\n"
     ]
    },
    {
     "name": "stdout",
     "output_type": "stream",
     "text": [
      "Saving model with loss 8053.285...\n"
     ]
    },
    {
     "name": "stderr",
     "output_type": "stream",
     "text": [
      "Epoch [7/5000]: 100%|██████████| 30/30 [00:00] Train Loss 8079.4297, 8/8 [00:00] Valid Loss 7512.3719\n"
     ]
    },
    {
     "name": "stdout",
     "output_type": "stream",
     "text": [
      "Saving model with loss 7512.372...\n"
     ]
    },
    {
     "name": "stderr",
     "output_type": "stream",
     "text": [
      "Epoch [8/5000]: 100%|██████████| 30/30 [00:00] Train Loss 7295.0171, 8/8 [00:00] Valid Loss 6559.1713\n"
     ]
    },
    {
     "name": "stdout",
     "output_type": "stream",
     "text": [
      "Saving model with loss 6559.171...\n"
     ]
    },
    {
     "name": "stderr",
     "output_type": "stream",
     "text": [
      "Epoch [9/5000]: 100%|██████████| 30/30 [00:00] Train Loss 6342.0432, 8/8 [00:00] Valid Loss 5749.6104\n"
     ]
    },
    {
     "name": "stdout",
     "output_type": "stream",
     "text": [
      "Saving model with loss 5749.610...\n"
     ]
    },
    {
     "name": "stderr",
     "output_type": "stream",
     "text": [
      "Epoch [10/5000]: 100%|██████████| 30/30 [00:00] Train Loss 5471.1229, 8/8 [00:00] Valid Loss 4703.4477\n"
     ]
    },
    {
     "name": "stdout",
     "output_type": "stream",
     "text": [
      "Saving model with loss 4703.448...\n"
     ]
    },
    {
     "name": "stderr",
     "output_type": "stream",
     "text": [
      "Epoch [11/5000]: 100%|██████████| 30/30 [00:00] Train Loss 4363.2392, 8/8 [00:00] Valid Loss 3872.8456\n"
     ]
    },
    {
     "name": "stdout",
     "output_type": "stream",
     "text": [
      "Saving model with loss 3872.846...\n"
     ]
    },
    {
     "name": "stderr",
     "output_type": "stream",
     "text": [
      "Epoch [12/5000]: 100%|██████████| 30/30 [00:00] Train Loss 3450.3305, 8/8 [00:00] Valid Loss 2893.2769\n"
     ]
    },
    {
     "name": "stdout",
     "output_type": "stream",
     "text": [
      "Saving model with loss 2893.277...\n"
     ]
    },
    {
     "name": "stderr",
     "output_type": "stream",
     "text": [
      "Epoch [13/5000]: 100%|██████████| 30/30 [00:00] Train Loss 2575.3078, 8/8 [00:00] Valid Loss 1979.2136\n"
     ]
    },
    {
     "name": "stdout",
     "output_type": "stream",
     "text": [
      "Saving model with loss 1979.214...\n"
     ]
    },
    {
     "name": "stderr",
     "output_type": "stream",
     "text": [
      "Epoch [14/5000]: 100%|██████████| 30/30 [00:00] Train Loss 1894.1071, 8/8 [00:00] Valid Loss 1378.9044\n"
     ]
    },
    {
     "name": "stdout",
     "output_type": "stream",
     "text": [
      "Saving model with loss 1378.904...\n"
     ]
    },
    {
     "name": "stderr",
     "output_type": "stream",
     "text": [
      "Epoch [15/5000]: 100%|██████████| 30/30 [00:00] Train Loss 1470.8884, 8/8 [00:00] Valid Loss 1614.0836\n",
      "Epoch [16/5000]: 100%|██████████| 30/30 [00:00] Train Loss 1135.5789, 8/8 [00:00] Valid Loss 1096.7527\n"
     ]
    },
    {
     "name": "stdout",
     "output_type": "stream",
     "text": [
      "Saving model with loss 1096.753...\n"
     ]
    },
    {
     "name": "stderr",
     "output_type": "stream",
     "text": [
      "Epoch [17/5000]: 100%|██████████| 30/30 [00:00] Train Loss 777.7519, 8/8 [00:00] Valid Loss 650.5065\n"
     ]
    },
    {
     "name": "stdout",
     "output_type": "stream",
     "text": [
      "Saving model with loss 650.507...\n"
     ]
    },
    {
     "name": "stderr",
     "output_type": "stream",
     "text": [
      "Epoch [18/5000]: 100%|██████████| 30/30 [00:00] Train Loss 539.5544, 8/8 [00:00] Valid Loss 444.6776\n"
     ]
    },
    {
     "name": "stdout",
     "output_type": "stream",
     "text": [
      "Saving model with loss 444.678...\n"
     ]
    },
    {
     "name": "stderr",
     "output_type": "stream",
     "text": [
      "Epoch [19/5000]: 100%|██████████| 30/30 [00:00] Train Loss 397.7164, 8/8 [00:00] Valid Loss 210.4356\n"
     ]
    },
    {
     "name": "stdout",
     "output_type": "stream",
     "text": [
      "Saving model with loss 210.436...\n"
     ]
    },
    {
     "name": "stderr",
     "output_type": "stream",
     "text": [
      "Epoch [20/5000]: 100%|██████████| 30/30 [00:00] Train Loss 293.4051, 8/8 [00:00] Valid Loss 198.5546\n"
     ]
    },
    {
     "name": "stdout",
     "output_type": "stream",
     "text": [
      "Saving model with loss 198.555...\n"
     ]
    },
    {
     "name": "stderr",
     "output_type": "stream",
     "text": [
      "Epoch [21/5000]: 100%|██████████| 30/30 [00:00] Train Loss 210.8844, 8/8 [00:00] Valid Loss 260.7656\n",
      "Epoch [22/5000]: 100%|██████████| 30/30 [00:00] Train Loss 128.6172, 8/8 [00:00] Valid Loss 68.0892\n"
     ]
    },
    {
     "name": "stdout",
     "output_type": "stream",
     "text": [
      "Saving model with loss 68.089...\n"
     ]
    },
    {
     "name": "stderr",
     "output_type": "stream",
     "text": [
      "Epoch [23/5000]: 100%|██████████| 30/30 [00:00] Train Loss 118.3595, 8/8 [00:00] Valid Loss 82.0146\n",
      "Epoch [24/5000]: 100%|██████████| 30/30 [00:00] Train Loss 90.1490, 8/8 [00:00] Valid Loss 31.1948\n"
     ]
    },
    {
     "name": "stdout",
     "output_type": "stream",
     "text": [
      "Saving model with loss 31.195...\n"
     ]
    },
    {
     "name": "stderr",
     "output_type": "stream",
     "text": [
      "Epoch [25/5000]: 100%|██████████| 30/30 [00:00] Train Loss 113.5840, 8/8 [00:00] Valid Loss 48.6365\n",
      "Epoch [26/5000]: 100%|██████████| 30/30 [00:00] Train Loss 101.5606, 8/8 [00:00] Valid Loss 39.3966\n",
      "Epoch [27/5000]: 100%|██████████| 30/30 [00:00] Train Loss 91.6872, 8/8 [00:00] Valid Loss 50.9056\n",
      "Epoch [28/5000]: 100%|██████████| 30/30 [00:00] Train Loss 54.3658, 8/8 [00:00] Valid Loss 37.7758\n",
      "Epoch [29/5000]: 100%|██████████| 30/30 [00:00] Train Loss 58.3295, 8/8 [00:00] Valid Loss 18.8265\n"
     ]
    },
    {
     "name": "stdout",
     "output_type": "stream",
     "text": [
      "Saving model with loss 18.826...\n"
     ]
    },
    {
     "name": "stderr",
     "output_type": "stream",
     "text": [
      "Epoch [30/5000]: 100%|██████████| 30/30 [00:00] Train Loss 56.2102, 8/8 [00:00] Valid Loss 21.5592\n",
      "Epoch [31/5000]: 100%|██████████| 30/30 [00:00] Train Loss 69.5635, 8/8 [00:00] Valid Loss 38.4811\n",
      "Epoch [32/5000]: 100%|██████████| 30/30 [00:00] Train Loss 57.8959, 8/8 [00:00] Valid Loss 11.8734\n"
     ]
    },
    {
     "name": "stdout",
     "output_type": "stream",
     "text": [
      "Saving model with loss 11.873...\n"
     ]
    },
    {
     "name": "stderr",
     "output_type": "stream",
     "text": [
      "Epoch [33/5000]: 100%|██████████| 30/30 [00:00] Train Loss 43.5106, 8/8 [00:00] Valid Loss 25.3267\n",
      "Epoch [34/5000]: 100%|██████████| 30/30 [00:00] Train Loss 40.4155, 8/8 [00:00] Valid Loss 20.4168\n",
      "Epoch [35/5000]: 100%|██████████| 30/30 [00:00] Train Loss 59.9822, 8/8 [00:00] Valid Loss 36.8037\n",
      "Epoch [36/5000]: 100%|██████████| 30/30 [00:00] Train Loss 66.9939, 8/8 [00:00] Valid Loss 16.8778\n",
      "Epoch [37/5000]: 100%|██████████| 30/30 [00:00] Train Loss 40.2600, 8/8 [00:00] Valid Loss 14.2570\n",
      "Epoch [38/5000]: 100%|██████████| 30/30 [00:00] Train Loss 64.9253, 8/8 [00:00] Valid Loss 11.9368\n",
      "Epoch [39/5000]: 100%|██████████| 30/30 [00:00] Train Loss 67.8433, 8/8 [00:00] Valid Loss 15.1227\n",
      "Epoch [40/5000]: 100%|██████████| 30/30 [00:00] Train Loss 41.9625, 8/8 [00:00] Valid Loss 12.2368\n",
      "Epoch [41/5000]: 100%|██████████| 30/30 [00:00] Train Loss 63.5440, 8/8 [00:00] Valid Loss 14.5704\n",
      "Epoch [42/5000]: 100%|██████████| 30/30 [00:00] Train Loss 44.0264, 8/8 [00:00] Valid Loss 8.9877\n"
     ]
    },
    {
     "name": "stdout",
     "output_type": "stream",
     "text": [
      "Saving model with loss 8.988...\n"
     ]
    },
    {
     "name": "stderr",
     "output_type": "stream",
     "text": [
      "Epoch [43/5000]: 100%|██████████| 30/30 [00:00] Train Loss 36.4553, 8/8 [00:00] Valid Loss 31.2979\n",
      "Epoch [44/5000]: 100%|██████████| 30/30 [00:00] Train Loss 61.6388, 8/8 [00:00] Valid Loss 9.7425\n",
      "Epoch [45/5000]: 100%|██████████| 30/30 [00:00] Train Loss 44.8433, 8/8 [00:00] Valid Loss 5.0692\n"
     ]
    },
    {
     "name": "stdout",
     "output_type": "stream",
     "text": [
      "Saving model with loss 5.069...\n"
     ]
    },
    {
     "name": "stderr",
     "output_type": "stream",
     "text": [
      "Epoch [46/5000]: 100%|██████████| 30/30 [00:00] Train Loss 53.6072, 8/8 [00:00] Valid Loss 28.5352\n",
      "Epoch [47/5000]: 100%|██████████| 30/30 [00:00] Train Loss 52.8113, 8/8 [00:00] Valid Loss 11.6190\n",
      "Epoch [48/5000]: 100%|██████████| 30/30 [00:00] Train Loss 63.6611, 8/8 [00:00] Valid Loss 40.4030\n",
      "Epoch [49/5000]: 100%|██████████| 30/30 [00:00] Train Loss 57.6213, 8/8 [00:00] Valid Loss 22.9842\n",
      "Epoch [50/5000]: 100%|██████████| 30/30 [00:00] Train Loss 79.5693, 8/8 [00:00] Valid Loss 7.4045\n",
      "Epoch [51/5000]: 100%|██████████| 30/30 [00:00] Train Loss 41.5444, 8/8 [00:00] Valid Loss 44.3540\n",
      "Epoch [52/5000]: 100%|██████████| 30/30 [00:00] Train Loss 53.3010, 8/8 [00:00] Valid Loss 4.2313\n"
     ]
    },
    {
     "name": "stdout",
     "output_type": "stream",
     "text": [
      "Saving model with loss 4.231...\n"
     ]
    },
    {
     "name": "stderr",
     "output_type": "stream",
     "text": [
      "Epoch [53/5000]: 100%|██████████| 30/30 [00:00] Train Loss 51.2737, 8/8 [00:00] Valid Loss 6.5755\n",
      "Epoch [54/5000]: 100%|██████████| 30/30 [00:00] Train Loss 35.2675, 8/8 [00:00] Valid Loss 21.2372\n",
      "Epoch [55/5000]: 100%|██████████| 30/30 [00:00] Train Loss 49.8141, 8/8 [00:00] Valid Loss 7.6152\n",
      "Epoch [56/5000]: 100%|██████████| 30/30 [00:00] Train Loss 65.4419, 8/8 [00:00] Valid Loss 10.6608\n",
      "Epoch [57/5000]: 100%|██████████| 30/30 [00:00] Train Loss 38.7626, 8/8 [00:00] Valid Loss 5.0459\n",
      "Epoch [58/5000]: 100%|██████████| 30/30 [00:00] Train Loss 35.4553, 8/8 [00:00] Valid Loss 5.1363\n",
      "Epoch [59/5000]: 100%|██████████| 30/30 [00:00] Train Loss 57.7399, 8/8 [00:00] Valid Loss 16.8276\n",
      "Epoch [60/5000]: 100%|██████████| 30/30 [00:00] Train Loss 34.6466, 8/8 [00:00] Valid Loss 17.5647\n",
      "Epoch [61/5000]: 100%|██████████| 30/30 [00:00] Train Loss 35.7506, 8/8 [00:00] Valid Loss 3.1755\n"
     ]
    },
    {
     "name": "stdout",
     "output_type": "stream",
     "text": [
      "Saving model with loss 3.176...\n"
     ]
    },
    {
     "name": "stderr",
     "output_type": "stream",
     "text": [
      "Epoch [62/5000]: 100%|██████████| 30/30 [00:00] Train Loss 45.7971, 8/8 [00:00] Valid Loss 3.5662\n",
      "Epoch [63/5000]: 100%|██████████| 30/30 [00:00] Train Loss 30.4608, 8/8 [00:00] Valid Loss 6.2935\n",
      "Epoch [64/5000]: 100%|██████████| 30/30 [00:00] Train Loss 35.7461, 8/8 [00:00] Valid Loss 3.1946\n",
      "Epoch [65/5000]: 100%|██████████| 30/30 [00:00] Train Loss 42.5799, 8/8 [00:00] Valid Loss 14.4663\n",
      "Epoch [66/5000]: 100%|██████████| 30/30 [00:00] Train Loss 33.9945, 8/8 [00:00] Valid Loss 11.2136\n",
      "Epoch [67/5000]: 100%|██████████| 30/30 [00:00] Train Loss 48.3579, 8/8 [00:00] Valid Loss 13.0090\n",
      "Epoch [68/5000]: 100%|██████████| 30/30 [00:00] Train Loss 43.3862, 8/8 [00:00] Valid Loss 11.4550\n",
      "Epoch [69/5000]: 100%|██████████| 30/30 [00:00] Train Loss 52.0333, 8/8 [00:00] Valid Loss 7.4561\n",
      "Epoch [70/5000]: 100%|██████████| 30/30 [00:00] Train Loss 41.5684, 8/8 [00:00] Valid Loss 7.3806\n",
      "Epoch [71/5000]: 100%|██████████| 30/30 [00:00] Train Loss 46.7278, 8/8 [00:00] Valid Loss 16.8233\n",
      "Epoch [72/5000]: 100%|██████████| 30/30 [00:00] Train Loss 34.8623, 8/8 [00:00] Valid Loss 10.3650\n",
      "Epoch [73/5000]: 100%|██████████| 30/30 [00:00] Train Loss 40.8699, 8/8 [00:00] Valid Loss 6.8135\n",
      "Epoch [74/5000]: 100%|██████████| 30/30 [00:00] Train Loss 54.8415, 8/8 [00:00] Valid Loss 4.7016\n",
      "Epoch [75/5000]: 100%|██████████| 30/30 [00:00] Train Loss 48.3201, 8/8 [00:00] Valid Loss 10.5115\n",
      "Epoch [76/5000]: 100%|██████████| 30/30 [00:00] Train Loss 30.6611, 8/8 [00:00] Valid Loss 5.2027\n",
      "Epoch [77/5000]: 100%|██████████| 30/30 [00:00] Train Loss 34.9041, 8/8 [00:00] Valid Loss 19.4504\n",
      "Epoch [78/5000]: 100%|██████████| 30/30 [00:00] Train Loss 45.3340, 8/8 [00:00] Valid Loss 5.4874\n",
      "Epoch [79/5000]: 100%|██████████| 30/30 [00:00] Train Loss 34.7741, 8/8 [00:00] Valid Loss 7.2815\n",
      "Epoch [80/5000]: 100%|██████████| 30/30 [00:00] Train Loss 54.7540, 8/8 [00:00] Valid Loss 2.9818\n"
     ]
    },
    {
     "name": "stdout",
     "output_type": "stream",
     "text": [
      "Saving model with loss 2.982...\n"
     ]
    },
    {
     "name": "stderr",
     "output_type": "stream",
     "text": [
      "Epoch [81/5000]: 100%|██████████| 30/30 [00:00] Train Loss 42.9878, 8/8 [00:00] Valid Loss 6.1860\n",
      "Epoch [82/5000]: 100%|██████████| 30/30 [00:00] Train Loss 36.5825, 8/8 [00:00] Valid Loss 1.8971\n"
     ]
    },
    {
     "name": "stdout",
     "output_type": "stream",
     "text": [
      "Saving model with loss 1.897...\n"
     ]
    },
    {
     "name": "stderr",
     "output_type": "stream",
     "text": [
      "Epoch [83/5000]: 100%|██████████| 30/30 [00:00] Train Loss 53.4991, 8/8 [00:00] Valid Loss 6.8533\n",
      "Epoch [84/5000]: 100%|██████████| 30/30 [00:00] Train Loss 55.4550, 8/8 [00:00] Valid Loss 14.6136\n",
      "Epoch [85/5000]: 100%|██████████| 30/30 [00:00] Train Loss 35.5875, 8/8 [00:00] Valid Loss 4.7743\n",
      "Epoch [86/5000]: 100%|██████████| 30/30 [00:00] Train Loss 30.7676, 8/8 [00:00] Valid Loss 4.3856\n",
      "Epoch [87/5000]: 100%|██████████| 30/30 [00:00] Train Loss 42.6992, 8/8 [00:00] Valid Loss 22.2782\n",
      "Epoch [88/5000]: 100%|██████████| 30/30 [00:00] Train Loss 66.9051, 8/8 [00:00] Valid Loss 32.1801\n",
      "Epoch [89/5000]: 100%|██████████| 30/30 [00:00] Train Loss 44.5305, 8/8 [00:00] Valid Loss 7.2017\n",
      "Epoch [90/5000]: 100%|██████████| 30/30 [00:00] Train Loss 34.0029, 8/8 [00:00] Valid Loss 14.3161\n",
      "Epoch [91/5000]: 100%|██████████| 30/30 [00:00] Train Loss 33.7109, 8/8 [00:00] Valid Loss 4.7529\n",
      "Epoch [92/5000]: 100%|██████████| 30/30 [00:00] Train Loss 54.6410, 8/8 [00:00] Valid Loss 6.9921\n",
      "Epoch [93/5000]: 100%|██████████| 30/30 [00:00] Train Loss 28.9101, 8/8 [00:00] Valid Loss 10.2271\n",
      "Epoch [94/5000]: 100%|██████████| 30/30 [00:00] Train Loss 31.7343, 8/8 [00:00] Valid Loss 3.0144\n",
      "Epoch [95/5000]: 100%|██████████| 30/30 [00:00] Train Loss 47.7821, 8/8 [00:00] Valid Loss 3.3467\n",
      "Epoch [96/5000]: 100%|██████████| 30/30 [00:00] Train Loss 26.5964, 8/8 [00:00] Valid Loss 1.1777\n"
     ]
    },
    {
     "name": "stdout",
     "output_type": "stream",
     "text": [
      "Saving model with loss 1.178...\n"
     ]
    },
    {
     "name": "stderr",
     "output_type": "stream",
     "text": [
      "Epoch [97/5000]: 100%|██████████| 30/30 [00:00] Train Loss 32.1870, 8/8 [00:00] Valid Loss 2.9192\n",
      "Epoch [98/5000]: 100%|██████████| 30/30 [00:00] Train Loss 52.3458, 8/8 [00:00] Valid Loss 10.1148\n",
      "Epoch [99/5000]: 100%|██████████| 30/30 [00:00] Train Loss 48.6696, 8/8 [00:00] Valid Loss 18.5409\n",
      "Epoch [100/5000]: 100%|██████████| 30/30 [00:00] Train Loss 37.2402, 8/8 [00:00] Valid Loss 13.6675\n",
      "Epoch [101/5000]: 100%|██████████| 30/30 [00:00] Train Loss 46.4324, 8/8 [00:00] Valid Loss 12.9202\n",
      "Epoch [102/5000]: 100%|██████████| 30/30 [00:00] Train Loss 44.5585, 8/8 [00:00] Valid Loss 2.6698\n",
      "Epoch [103/5000]: 100%|██████████| 30/30 [00:00] Train Loss 39.2114, 8/8 [00:00] Valid Loss 4.5642\n",
      "Epoch [104/5000]: 100%|██████████| 30/30 [00:00] Train Loss 88.0958, 8/8 [00:00] Valid Loss 14.7345\n",
      "Epoch [105/5000]: 100%|██████████| 30/30 [00:00] Train Loss 40.9262, 8/8 [00:00] Valid Loss 10.8133\n",
      "Epoch [106/5000]: 100%|██████████| 30/30 [00:00] Train Loss 30.3118, 8/8 [00:00] Valid Loss 13.4233\n",
      "Epoch [107/5000]: 100%|██████████| 30/30 [00:00] Train Loss 31.8851, 8/8 [00:00] Valid Loss 3.4023\n",
      "Epoch [108/5000]: 100%|██████████| 30/30 [00:00] Train Loss 42.0918, 8/8 [00:00] Valid Loss 6.4495\n",
      "Epoch [109/5000]: 100%|██████████| 30/30 [00:00] Train Loss 27.3157, 8/8 [00:00] Valid Loss 2.5530\n",
      "Epoch [110/5000]: 100%|██████████| 30/30 [00:00] Train Loss 32.8723, 8/8 [00:00] Valid Loss 2.0672\n",
      "Epoch [111/5000]: 100%|██████████| 30/30 [00:00] Train Loss 46.0543, 8/8 [00:00] Valid Loss 13.6745\n",
      "Epoch [112/5000]: 100%|██████████| 30/30 [00:00] Train Loss 46.3752, 8/8 [00:00] Valid Loss 6.8337\n",
      "Epoch [113/5000]: 100%|██████████| 30/30 [00:00] Train Loss 40.5254, 8/8 [00:00] Valid Loss 11.0280\n",
      "Epoch [114/5000]: 100%|██████████| 30/30 [00:00] Train Loss 76.5641, 8/8 [00:00] Valid Loss 6.2374\n",
      "Epoch [115/5000]: 100%|██████████| 30/30 [00:00] Train Loss 44.4947, 8/8 [00:00] Valid Loss 12.7319\n",
      "Epoch [116/5000]: 100%|██████████| 30/30 [00:00] Train Loss 40.6421, 8/8 [00:00] Valid Loss 17.1037\n",
      "Epoch [117/5000]: 100%|██████████| 30/30 [00:00] Train Loss 41.1102, 8/8 [00:00] Valid Loss 2.2636\n",
      "Epoch [118/5000]: 100%|██████████| 30/30 [00:00] Train Loss 29.8394, 8/8 [00:00] Valid Loss 5.0255\n",
      "Epoch [119/5000]: 100%|██████████| 30/30 [00:00] Train Loss 56.5740, 8/8 [00:00] Valid Loss 2.7484\n",
      "Epoch [120/5000]: 100%|██████████| 30/30 [00:00] Train Loss 31.5658, 8/8 [00:00] Valid Loss 10.2748\n",
      "Epoch [121/5000]: 100%|██████████| 30/30 [00:00] Train Loss 35.9592, 8/8 [00:00] Valid Loss 9.5608\n",
      "Epoch [122/5000]: 100%|██████████| 30/30 [00:00] Train Loss 63.7733, 8/8 [00:00] Valid Loss 2.1682\n",
      "Epoch [123/5000]: 100%|██████████| 30/30 [00:00] Train Loss 59.8667, 8/8 [00:00] Valid Loss 11.9829\n",
      "Epoch [124/5000]: 100%|██████████| 30/30 [00:00] Train Loss 62.2581, 8/8 [00:00] Valid Loss 3.3562\n",
      "Epoch [125/5000]: 100%|██████████| 30/30 [00:00] Train Loss 35.0257, 8/8 [00:00] Valid Loss 2.7093\n",
      "Epoch [126/5000]: 100%|██████████| 30/30 [00:00] Train Loss 35.0086, 8/8 [00:00] Valid Loss 6.2627\n",
      "Epoch [127/5000]: 100%|██████████| 30/30 [00:00] Train Loss 27.5080, 8/8 [00:00] Valid Loss 3.8148\n",
      "Epoch [128/5000]: 100%|██████████| 30/30 [00:00] Train Loss 33.9286, 8/8 [00:00] Valid Loss 7.7214\n",
      "Epoch [129/5000]: 100%|██████████| 30/30 [00:00] Train Loss 27.6277, 8/8 [00:00] Valid Loss 2.5397\n",
      "Epoch [130/5000]: 100%|██████████| 30/30 [00:00] Train Loss 36.3506, 8/8 [00:00] Valid Loss 7.0229\n",
      "Epoch [131/5000]: 100%|██████████| 30/30 [00:00] Train Loss 25.1603, 8/8 [00:00] Valid Loss 3.3065\n",
      "Epoch [132/5000]: 100%|██████████| 30/30 [00:00] Train Loss 52.9151, 8/8 [00:00] Valid Loss 9.8364\n",
      "Epoch [133/5000]: 100%|██████████| 30/30 [00:00] Train Loss 39.3510, 8/8 [00:00] Valid Loss 6.6632\n",
      "Epoch [134/5000]: 100%|██████████| 30/30 [00:00] Train Loss 37.4211, 8/8 [00:00] Valid Loss 8.5770\n",
      "Epoch [135/5000]: 100%|██████████| 30/30 [00:00] Train Loss 43.2988, 8/8 [00:00] Valid Loss 6.2850\n",
      "Epoch [136/5000]: 100%|██████████| 30/30 [00:00] Train Loss 31.0336, 8/8 [00:00] Valid Loss 5.1806\n",
      "Epoch [137/5000]: 100%|██████████| 30/30 [00:00] Train Loss 35.9896, 8/8 [00:00] Valid Loss 1.1418\n"
     ]
    },
    {
     "name": "stdout",
     "output_type": "stream",
     "text": [
      "Saving model with loss 1.142...\n"
     ]
    },
    {
     "name": "stderr",
     "output_type": "stream",
     "text": [
      "Epoch [138/5000]: 100%|██████████| 30/30 [00:00] Train Loss 49.1707, 8/8 [00:00] Valid Loss 19.2010\n",
      "Epoch [139/5000]: 100%|██████████| 30/30 [00:00] Train Loss 44.2541, 8/8 [00:00] Valid Loss 3.2675\n",
      "Epoch [140/5000]: 100%|██████████| 30/30 [00:00] Train Loss 45.1015, 8/8 [00:00] Valid Loss 5.0084\n",
      "Epoch [141/5000]: 100%|██████████| 30/30 [00:00] Train Loss 41.0865, 8/8 [00:00] Valid Loss 8.4228\n",
      "Epoch [142/5000]: 100%|██████████| 30/30 [00:00] Train Loss 32.3581, 8/8 [00:00] Valid Loss 7.9489\n",
      "Epoch [143/5000]: 100%|██████████| 30/30 [00:00] Train Loss 38.1836, 8/8 [00:00] Valid Loss 5.6575\n",
      "Epoch [144/5000]: 100%|██████████| 30/30 [00:00] Train Loss 36.1120, 8/8 [00:00] Valid Loss 3.9599\n",
      "Epoch [145/5000]: 100%|██████████| 30/30 [00:00] Train Loss 50.6623, 8/8 [00:00] Valid Loss 12.2309\n",
      "Epoch [146/5000]: 100%|██████████| 30/30 [00:00] Train Loss 37.2080, 8/8 [00:00] Valid Loss 2.3688\n",
      "Epoch [147/5000]: 100%|██████████| 30/30 [00:00] Train Loss 64.8615, 8/8 [00:00] Valid Loss 4.7331\n",
      "Epoch [148/5000]: 100%|██████████| 30/30 [00:00] Train Loss 25.3082, 8/8 [00:00] Valid Loss 3.7313\n",
      "Epoch [149/5000]: 100%|██████████| 30/30 [00:00] Train Loss 35.3132, 8/8 [00:00] Valid Loss 15.3473\n",
      "Epoch [150/5000]: 100%|██████████| 30/30 [00:00] Train Loss 29.6686, 8/8 [00:00] Valid Loss 5.1475\n",
      "Epoch [151/5000]: 100%|██████████| 30/30 [00:00] Train Loss 46.3682, 8/8 [00:00] Valid Loss 10.2672\n",
      "Epoch [152/5000]: 100%|██████████| 30/30 [00:00] Train Loss 39.5774, 8/8 [00:00] Valid Loss 1.6380\n",
      "Epoch [153/5000]: 100%|██████████| 30/30 [00:00] Train Loss 43.5810, 8/8 [00:00] Valid Loss 16.3465\n",
      "Epoch [154/5000]: 100%|██████████| 30/30 [00:00] Train Loss 42.8452, 8/8 [00:00] Valid Loss 7.4295\n",
      "Epoch [155/5000]: 100%|██████████| 30/30 [00:00] Train Loss 25.7178, 8/8 [00:00] Valid Loss 12.1338\n",
      "Epoch [156/5000]: 100%|██████████| 30/30 [00:00] Train Loss 44.2628, 8/8 [00:00] Valid Loss 3.5851\n",
      "Epoch [157/5000]: 100%|██████████| 30/30 [00:00] Train Loss 38.0448, 8/8 [00:00] Valid Loss 2.3552\n",
      "Epoch [158/5000]: 100%|██████████| 30/30 [00:00] Train Loss 39.9184, 8/8 [00:00] Valid Loss 8.4803\n",
      "Epoch [159/5000]: 100%|██████████| 30/30 [00:00] Train Loss 27.7128, 8/8 [00:00] Valid Loss 5.5068\n",
      "Epoch [160/5000]: 100%|██████████| 30/30 [00:00] Train Loss 38.8734, 8/8 [00:00] Valid Loss 3.8982\n",
      "Epoch [161/5000]: 100%|██████████| 30/30 [00:00] Train Loss 38.9794, 8/8 [00:00] Valid Loss 6.8162\n",
      "Epoch [162/5000]: 100%|██████████| 30/30 [00:00] Train Loss 44.8015, 8/8 [00:00] Valid Loss 19.5360\n",
      "Epoch [163/5000]: 100%|██████████| 30/30 [00:00] Train Loss 57.8583, 8/8 [00:00] Valid Loss 5.2650\n",
      "Epoch [164/5000]: 100%|██████████| 30/30 [00:00] Train Loss 60.0920, 8/8 [00:00] Valid Loss 10.2520\n",
      "Epoch [165/5000]: 100%|██████████| 30/30 [00:00] Train Loss 29.6571, 8/8 [00:00] Valid Loss 18.0540\n",
      "Epoch [166/5000]: 100%|██████████| 30/30 [00:00] Train Loss 41.2815, 8/8 [00:00] Valid Loss 35.6565\n",
      "Epoch [167/5000]: 100%|██████████| 30/30 [00:00] Train Loss 35.7197, 8/8 [00:00] Valid Loss 1.4458\n",
      "Epoch [168/5000]: 100%|██████████| 30/30 [00:00] Train Loss 44.1150, 8/8 [00:00] Valid Loss 2.5911\n",
      "Epoch [169/5000]: 100%|██████████| 30/30 [00:00] Train Loss 36.2046, 8/8 [00:00] Valid Loss 3.3696\n",
      "Epoch [170/5000]: 100%|██████████| 30/30 [00:00] Train Loss 30.6991, 8/8 [00:00] Valid Loss 9.8888\n",
      "Epoch [171/5000]: 100%|██████████| 30/30 [00:00] Train Loss 49.7009, 8/8 [00:00] Valid Loss 16.9499\n",
      "Epoch [172/5000]: 100%|██████████| 30/30 [00:00] Train Loss 31.8426, 8/8 [00:00] Valid Loss 7.0276\n",
      "Epoch [173/5000]: 100%|██████████| 30/30 [00:00] Train Loss 43.5944, 8/8 [00:00] Valid Loss 2.6396\n",
      "Epoch [174/5000]: 100%|██████████| 30/30 [00:00] Train Loss 41.9562, 8/8 [00:00] Valid Loss 3.0999\n",
      "Epoch [175/5000]: 100%|██████████| 30/30 [00:00] Train Loss 36.7329, 8/8 [00:00] Valid Loss 4.9839\n",
      "Epoch [176/5000]: 100%|██████████| 30/30 [00:00] Train Loss 44.0620, 8/8 [00:00] Valid Loss 9.0905\n",
      "Epoch [177/5000]: 100%|██████████| 30/30 [00:00] Train Loss 46.3061, 8/8 [00:00] Valid Loss 29.8656\n",
      "Epoch [178/5000]: 100%|██████████| 30/30 [00:00] Train Loss 27.0930, 8/8 [00:00] Valid Loss 4.4327\n",
      "Epoch [179/5000]: 100%|██████████| 30/30 [00:00] Train Loss 34.9286, 8/8 [00:00] Valid Loss 6.7913\n",
      "Epoch [180/5000]: 100%|██████████| 30/30 [00:00] Train Loss 53.0232, 8/8 [00:00] Valid Loss 3.9319\n",
      "Epoch [181/5000]: 100%|██████████| 30/30 [00:00] Train Loss 31.8710, 8/8 [00:00] Valid Loss 11.0195\n",
      "Epoch [182/5000]: 100%|██████████| 30/30 [00:00] Train Loss 37.0087, 8/8 [00:00] Valid Loss 1.6421\n",
      "Epoch [183/5000]: 100%|██████████| 30/30 [00:00] Train Loss 29.0429, 8/8 [00:00] Valid Loss 2.2194\n",
      "Epoch [184/5000]: 100%|██████████| 30/30 [00:00] Train Loss 14.0253, 8/8 [00:00] Valid Loss 7.8822\n",
      "Epoch [185/5000]: 100%|██████████| 30/30 [00:00] Train Loss 39.9234, 8/8 [00:00] Valid Loss 5.4923\n",
      "Epoch [186/5000]: 100%|██████████| 30/30 [00:00] Train Loss 21.4831, 8/8 [00:00] Valid Loss 17.6074\n",
      "Epoch [187/5000]: 100%|██████████| 30/30 [00:00] Train Loss 22.0680, 8/8 [00:00] Valid Loss 2.9094\n",
      "Epoch [188/5000]: 100%|██████████| 30/30 [00:00] Train Loss 26.9331, 8/8 [00:00] Valid Loss 13.8456\n",
      "Epoch [189/5000]: 100%|██████████| 30/30 [00:00] Train Loss 35.6403, 8/8 [00:00] Valid Loss 15.6026\n",
      "Epoch [190/5000]: 100%|██████████| 30/30 [00:00] Train Loss 41.5482, 8/8 [00:00] Valid Loss 16.2163\n",
      "Epoch [191/5000]: 100%|██████████| 30/30 [00:00] Train Loss 50.8351, 8/8 [00:00] Valid Loss 2.0827\n",
      "Epoch [192/5000]: 100%|██████████| 30/30 [00:00] Train Loss 46.2674, 8/8 [00:00] Valid Loss 4.2988\n",
      "Epoch [193/5000]: 100%|██████████| 30/30 [00:00] Train Loss 36.8598, 8/8 [00:00] Valid Loss 5.1177\n",
      "Epoch [194/5000]: 100%|██████████| 30/30 [00:00] Train Loss 67.2659, 8/8 [00:00] Valid Loss 4.1258\n",
      "Epoch [195/5000]: 100%|██████████| 30/30 [00:00] Train Loss 38.4861, 8/8 [00:00] Valid Loss 2.0263\n",
      "Epoch [196/5000]: 100%|██████████| 30/30 [00:00] Train Loss 44.0271, 8/8 [00:00] Valid Loss 10.7020\n",
      "Epoch [197/5000]: 100%|██████████| 30/30 [00:00] Train Loss 29.3061, 8/8 [00:00] Valid Loss 5.2829\n",
      "Epoch [198/5000]: 100%|██████████| 30/30 [00:00] Train Loss 20.2498, 8/8 [00:00] Valid Loss 1.1668\n",
      "Epoch [199/5000]: 100%|██████████| 30/30 [00:00] Train Loss 28.5802, 8/8 [00:00] Valid Loss 3.9718\n",
      "Epoch [200/5000]: 100%|██████████| 30/30 [00:00] Train Loss 40.4338, 8/8 [00:00] Valid Loss 13.4084\n",
      "Epoch [201/5000]: 100%|██████████| 30/30 [00:00] Train Loss 24.9790, 8/8 [00:00] Valid Loss 2.8188\n",
      "Epoch [202/5000]: 100%|██████████| 30/30 [00:00] Train Loss 47.6597, 8/8 [00:00] Valid Loss 4.1022\n",
      "Epoch [203/5000]: 100%|██████████| 30/30 [00:00] Train Loss 38.9136, 8/8 [00:00] Valid Loss 7.6671\n",
      "Epoch [204/5000]: 100%|██████████| 30/30 [00:00] Train Loss 35.1181, 8/8 [00:00] Valid Loss 13.0798\n",
      "Epoch [205/5000]: 100%|██████████| 30/30 [00:00] Train Loss 32.8996, 8/8 [00:00] Valid Loss 1.8972\n",
      "Epoch [206/5000]: 100%|██████████| 30/30 [00:00] Train Loss 26.0902, 8/8 [00:00] Valid Loss 17.6336\n",
      "Epoch [207/5000]: 100%|██████████| 30/30 [00:00] Train Loss 29.1954, 8/8 [00:00] Valid Loss 2.4642\n",
      "Epoch [208/5000]: 100%|██████████| 30/30 [00:00] Train Loss 28.0846, 8/8 [00:00] Valid Loss 1.3402\n",
      "Epoch [209/5000]: 100%|██████████| 30/30 [00:00] Train Loss 33.6242, 8/8 [00:00] Valid Loss 3.0884\n",
      "Epoch [210/5000]: 100%|██████████| 30/30 [00:00] Train Loss 29.3027, 8/8 [00:00] Valid Loss 10.6247\n",
      "Epoch [211/5000]: 100%|██████████| 30/30 [00:00] Train Loss 35.4288, 8/8 [00:00] Valid Loss 11.2781\n",
      "Epoch [212/5000]: 100%|██████████| 30/30 [00:00] Train Loss 38.8059, 8/8 [00:00] Valid Loss 11.5753\n",
      "Epoch [213/5000]: 100%|██████████| 30/30 [00:00] Train Loss 48.7984, 8/8 [00:00] Valid Loss 2.7599\n",
      "Epoch [214/5000]: 100%|██████████| 30/30 [00:00] Train Loss 33.1828, 8/8 [00:00] Valid Loss 2.3062\n",
      "Epoch [215/5000]: 100%|██████████| 30/30 [00:00] Train Loss 29.5843, 8/8 [00:00] Valid Loss 1.6295\n",
      "Epoch [216/5000]: 100%|██████████| 30/30 [00:00] Train Loss 25.5813, 8/8 [00:00] Valid Loss 3.8080\n",
      "Epoch [217/5000]: 100%|██████████| 30/30 [00:00] Train Loss 29.8364, 8/8 [00:00] Valid Loss 12.5146\n",
      "Epoch [218/5000]: 100%|██████████| 30/30 [00:00] Train Loss 37.9111, 8/8 [00:00] Valid Loss 7.9922\n",
      "Epoch [219/5000]: 100%|██████████| 30/30 [00:00] Train Loss 45.7873, 8/8 [00:00] Valid Loss 2.7253\n",
      "Epoch [220/5000]: 100%|██████████| 30/30 [00:00] Train Loss 36.6222, 8/8 [00:00] Valid Loss 1.4522\n",
      "Epoch [221/5000]: 100%|██████████| 30/30 [00:00] Train Loss 41.2735, 8/8 [00:00] Valid Loss 10.2917\n",
      "Epoch [222/5000]: 100%|██████████| 30/30 [00:00] Train Loss 23.6443, 8/8 [00:00] Valid Loss 1.9656\n",
      "Epoch [223/5000]: 100%|██████████| 30/30 [00:00] Train Loss 29.3398, 8/8 [00:00] Valid Loss 3.0887\n",
      "Epoch [224/5000]: 100%|██████████| 30/30 [00:00] Train Loss 28.5603, 8/8 [00:00] Valid Loss 3.0472\n",
      "Epoch [225/5000]: 100%|██████████| 30/30 [00:00] Train Loss 29.9649, 8/8 [00:00] Valid Loss 9.3670\n",
      "Epoch [226/5000]: 100%|██████████| 30/30 [00:00] Train Loss 43.8495, 8/8 [00:00] Valid Loss 8.5197\n",
      "Epoch [227/5000]: 100%|██████████| 30/30 [00:00] Train Loss 41.5687, 8/8 [00:00] Valid Loss 8.5018\n",
      "Epoch [228/5000]: 100%|██████████| 30/30 [00:00] Train Loss 34.5795, 8/8 [00:00] Valid Loss 17.2313\n",
      "Epoch [229/5000]: 100%|██████████| 30/30 [00:00] Train Loss 32.7174, 8/8 [00:00] Valid Loss 22.3551\n",
      "Epoch [230/5000]: 100%|██████████| 30/30 [00:00] Train Loss 51.3803, 8/8 [00:00] Valid Loss 8.8626\n",
      "Epoch [231/5000]: 100%|██████████| 30/30 [00:00] Train Loss 44.2986, 8/8 [00:00] Valid Loss 15.8655\n",
      "Epoch [232/5000]: 100%|██████████| 30/30 [00:00] Train Loss 41.6980, 8/8 [00:00] Valid Loss 1.2974\n",
      "Epoch [233/5000]: 100%|██████████| 30/30 [00:00] Train Loss 40.6215, 8/8 [00:00] Valid Loss 2.5169\n",
      "Epoch [234/5000]: 100%|██████████| 30/30 [00:00] Train Loss 39.2204, 8/8 [00:00] Valid Loss 5.9425\n",
      "Epoch [235/5000]: 100%|██████████| 30/30 [00:00] Train Loss 44.1070, 8/8 [00:00] Valid Loss 46.3315\n",
      "Epoch [236/5000]: 100%|██████████| 30/30 [00:00] Train Loss 55.0815, 8/8 [00:00] Valid Loss 5.4070\n",
      "Epoch [237/5000]: 100%|██████████| 30/30 [00:00] Train Loss 28.1832, 8/8 [00:00] Valid Loss 38.1298\n",
      "Epoch [238/5000]: 100%|██████████| 30/30 [00:00] Train Loss 39.7224, 8/8 [00:00] Valid Loss 2.5359\n",
      "Epoch [239/5000]: 100%|██████████| 30/30 [00:00] Train Loss 35.9858, 8/8 [00:00] Valid Loss 2.0793\n",
      "Epoch [240/5000]: 100%|██████████| 30/30 [00:00] Train Loss 36.7250, 8/8 [00:00] Valid Loss 1.3301\n",
      "Epoch [241/5000]: 100%|██████████| 30/30 [00:00] Train Loss 33.6065, 8/8 [00:00] Valid Loss 1.6442\n",
      "Epoch [242/5000]: 100%|██████████| 30/30 [00:00] Train Loss 40.8553, 8/8 [00:00] Valid Loss 12.1739\n",
      "Epoch [243/5000]: 100%|██████████| 30/30 [00:00] Train Loss 36.6801, 8/8 [00:00] Valid Loss 5.5654\n",
      "Epoch [244/5000]: 100%|██████████| 30/30 [00:00] Train Loss 36.8514, 8/8 [00:00] Valid Loss 1.2251\n",
      "Epoch [245/5000]: 100%|██████████| 30/30 [00:00] Train Loss 37.8277, 8/8 [00:00] Valid Loss 33.4077\n",
      "Epoch [246/5000]: 100%|██████████| 30/30 [00:00] Train Loss 84.3845, 8/8 [00:00] Valid Loss 14.7807\n",
      "Epoch [247/5000]: 100%|██████████| 30/30 [00:00] Train Loss 50.5246, 8/8 [00:00] Valid Loss 9.5657\n",
      "Epoch [248/5000]: 100%|██████████| 30/30 [00:00] Train Loss 42.7270, 8/8 [00:00] Valid Loss 5.1155\n",
      "Epoch [249/5000]: 100%|██████████| 30/30 [00:00] Train Loss 28.0934, 8/8 [00:00] Valid Loss 2.3236\n",
      "Epoch [250/5000]: 100%|██████████| 30/30 [00:00] Train Loss 29.8443, 8/8 [00:00] Valid Loss 6.2056\n",
      "Epoch [251/5000]: 100%|██████████| 30/30 [00:00] Train Loss 42.5161, 8/8 [00:00] Valid Loss 2.0012\n",
      "Epoch [252/5000]: 100%|██████████| 30/30 [00:00] Train Loss 38.2526, 8/8 [00:00] Valid Loss 40.9036\n",
      "Epoch [253/5000]: 100%|██████████| 30/30 [00:00] Train Loss 43.0758, 8/8 [00:00] Valid Loss 12.2614\n",
      "Epoch [254/5000]: 100%|██████████| 30/30 [00:00] Train Loss 20.8411, 8/8 [00:00] Valid Loss 1.2881\n",
      "Epoch [255/5000]: 100%|██████████| 30/30 [00:00] Train Loss 44.2140, 8/8 [00:00] Valid Loss 3.4486\n",
      "Epoch [256/5000]: 100%|██████████| 30/30 [00:00] Train Loss 38.0610, 8/8 [00:00] Valid Loss 1.2016\n",
      "Epoch [257/5000]: 100%|██████████| 30/30 [00:00] Train Loss 20.8487, 8/8 [00:00] Valid Loss 7.0503\n",
      "Epoch [258/5000]: 100%|██████████| 30/30 [00:00] Train Loss 39.6568, 8/8 [00:00] Valid Loss 2.5106\n",
      "Epoch [259/5000]: 100%|██████████| 30/30 [00:00] Train Loss 25.8368, 8/8 [00:00] Valid Loss 4.3899\n",
      "Epoch [260/5000]: 100%|██████████| 30/30 [00:00] Train Loss 40.9991, 8/8 [00:00] Valid Loss 4.8624\n",
      "Epoch [261/5000]: 100%|██████████| 30/30 [00:00] Train Loss 30.4771, 8/8 [00:00] Valid Loss 3.7958\n",
      "Epoch [262/5000]: 100%|██████████| 30/30 [00:00] Train Loss 38.8705, 8/8 [00:00] Valid Loss 8.9962\n",
      "Epoch [263/5000]: 100%|██████████| 30/30 [00:00] Train Loss 41.6035, 8/8 [00:00] Valid Loss 1.2080\n",
      "Epoch [264/5000]: 100%|██████████| 30/30 [00:00] Train Loss 38.9264, 8/8 [00:00] Valid Loss 8.8135\n",
      "Epoch [265/5000]: 100%|██████████| 30/30 [00:00] Train Loss 56.2456, 8/8 [00:00] Valid Loss 4.0201\n",
      "Epoch [266/5000]: 100%|██████████| 30/30 [00:00] Train Loss 40.5154, 8/8 [00:00] Valid Loss 4.4895\n",
      "Epoch [267/5000]: 100%|██████████| 30/30 [00:00] Train Loss 40.0501, 8/8 [00:00] Valid Loss 2.8615\n",
      "Epoch [268/5000]: 100%|██████████| 30/30 [00:00] Train Loss 33.5173, 8/8 [00:00] Valid Loss 1.1568\n",
      "Epoch [269/5000]: 100%|██████████| 30/30 [00:00] Train Loss 38.7208, 8/8 [00:00] Valid Loss 1.8868\n",
      "Epoch [270/5000]: 100%|██████████| 30/30 [00:00] Train Loss 36.8969, 8/8 [00:00] Valid Loss 3.0513\n",
      "Epoch [271/5000]: 100%|██████████| 30/30 [00:00] Train Loss 44.1227, 8/8 [00:00] Valid Loss 7.8553\n",
      "Epoch [272/5000]: 100%|██████████| 30/30 [00:00] Train Loss 44.9200, 8/8 [00:00] Valid Loss 2.2736\n",
      "Epoch [273/5000]: 100%|██████████| 30/30 [00:00] Train Loss 28.5930, 8/8 [00:00] Valid Loss 0.8512\n"
     ]
    },
    {
     "name": "stdout",
     "output_type": "stream",
     "text": [
      "Saving model with loss 0.851...\n"
     ]
    },
    {
     "name": "stderr",
     "output_type": "stream",
     "text": [
      "Epoch [274/5000]: 100%|██████████| 30/30 [00:00] Train Loss 54.4188, 8/8 [00:00] Valid Loss 1.8915\n",
      "Epoch [275/5000]: 100%|██████████| 30/30 [00:00] Train Loss 31.4951, 8/8 [00:00] Valid Loss 3.9004\n",
      "Epoch [276/5000]: 100%|██████████| 30/30 [00:00] Train Loss 29.1629, 8/8 [00:00] Valid Loss 4.7547\n",
      "Epoch [277/5000]: 100%|██████████| 30/30 [00:00] Train Loss 55.2581, 8/8 [00:00] Valid Loss 3.4327\n",
      "Epoch [278/5000]: 100%|██████████| 30/30 [00:00] Train Loss 28.1300, 8/8 [00:00] Valid Loss 3.1221\n",
      "Epoch [279/5000]: 100%|██████████| 30/30 [00:00] Train Loss 32.2791, 8/8 [00:00] Valid Loss 6.4494\n",
      "Epoch [280/5000]: 100%|██████████| 30/30 [00:00] Train Loss 34.5678, 8/8 [00:00] Valid Loss 11.9690\n",
      "Epoch [281/5000]: 100%|██████████| 30/30 [00:00] Train Loss 36.2916, 8/8 [00:00] Valid Loss 9.6679\n",
      "Epoch [282/5000]: 100%|██████████| 30/30 [00:00] Train Loss 36.2980, 8/8 [00:00] Valid Loss 1.6953\n",
      "Epoch [283/5000]: 100%|██████████| 30/30 [00:00] Train Loss 32.4358, 8/8 [00:00] Valid Loss 1.8133\n",
      "Epoch [284/5000]: 100%|██████████| 30/30 [00:00] Train Loss 26.4445, 8/8 [00:00] Valid Loss 12.6188\n",
      "Epoch [285/5000]: 100%|██████████| 30/30 [00:00] Train Loss 39.3596, 8/8 [00:00] Valid Loss 4.3667\n",
      "Epoch [286/5000]: 100%|██████████| 30/30 [00:00] Train Loss 39.6667, 8/8 [00:00] Valid Loss 1.1072\n",
      "Epoch [287/5000]: 100%|██████████| 30/30 [00:00] Train Loss 46.2014, 8/8 [00:00] Valid Loss 2.1796\n",
      "Epoch [288/5000]: 100%|██████████| 30/30 [00:00] Train Loss 49.2671, 8/8 [00:00] Valid Loss 13.6007\n",
      "Epoch [289/5000]: 100%|██████████| 30/30 [00:00] Train Loss 48.2566, 8/8 [00:00] Valid Loss 11.1154\n",
      "Epoch [290/5000]: 100%|██████████| 30/30 [00:00] Train Loss 33.7875, 8/8 [00:00] Valid Loss 3.0760\n",
      "Epoch [291/5000]: 100%|██████████| 30/30 [00:00] Train Loss 26.1042, 8/8 [00:00] Valid Loss 0.8133\n"
     ]
    },
    {
     "name": "stdout",
     "output_type": "stream",
     "text": [
      "Saving model with loss 0.813...\n"
     ]
    },
    {
     "name": "stderr",
     "output_type": "stream",
     "text": [
      "Epoch [292/5000]: 100%|██████████| 30/30 [00:00] Train Loss 23.5784, 8/8 [00:00] Valid Loss 2.2451\n",
      "Epoch [293/5000]: 100%|██████████| 30/30 [00:00] Train Loss 45.4758, 8/8 [00:00] Valid Loss 2.0918\n",
      "Epoch [294/5000]: 100%|██████████| 30/30 [00:00] Train Loss 27.0015, 8/8 [00:00] Valid Loss 6.4978\n",
      "Epoch [295/5000]: 100%|██████████| 30/30 [00:00] Train Loss 25.9112, 8/8 [00:00] Valid Loss 1.8211\n",
      "Epoch [296/5000]: 100%|██████████| 30/30 [00:00] Train Loss 52.2778, 8/8 [00:00] Valid Loss 11.2194\n",
      "Epoch [297/5000]: 100%|██████████| 30/30 [00:00] Train Loss 41.5346, 8/8 [00:00] Valid Loss 1.9020\n",
      "Epoch [298/5000]: 100%|██████████| 30/30 [00:00] Train Loss 31.9525, 8/8 [00:00] Valid Loss 5.8289\n",
      "Epoch [299/5000]: 100%|██████████| 30/30 [00:00] Train Loss 42.7931, 8/8 [00:00] Valid Loss 1.9444\n",
      "Epoch [300/5000]: 100%|██████████| 30/30 [00:00] Train Loss 41.9516, 8/8 [00:00] Valid Loss 24.8676\n",
      "Epoch [301/5000]: 100%|██████████| 30/30 [00:00] Train Loss 46.9202, 8/8 [00:00] Valid Loss 25.6741\n",
      "Epoch [302/5000]: 100%|██████████| 30/30 [00:00] Train Loss 34.9242, 8/8 [00:00] Valid Loss 40.2265\n",
      "Epoch [303/5000]: 100%|██████████| 30/30 [00:00] Train Loss 38.0098, 8/8 [00:00] Valid Loss 5.4471\n",
      "Epoch [304/5000]: 100%|██████████| 30/30 [00:00] Train Loss 27.3485, 8/8 [00:00] Valid Loss 5.3115\n",
      "Epoch [305/5000]: 100%|██████████| 30/30 [00:00] Train Loss 63.3479, 8/8 [00:00] Valid Loss 7.5367\n",
      "Epoch [306/5000]: 100%|██████████| 30/30 [00:00] Train Loss 35.2678, 8/8 [00:00] Valid Loss 5.7052\n",
      "Epoch [307/5000]: 100%|██████████| 30/30 [00:00] Train Loss 33.7173, 8/8 [00:00] Valid Loss 1.0094\n",
      "Epoch [308/5000]: 100%|██████████| 30/30 [00:00] Train Loss 36.3872, 8/8 [00:00] Valid Loss 0.7545\n"
     ]
    },
    {
     "name": "stdout",
     "output_type": "stream",
     "text": [
      "Saving model with loss 0.755...\n"
     ]
    },
    {
     "name": "stderr",
     "output_type": "stream",
     "text": [
      "Epoch [309/5000]: 100%|██████████| 30/30 [00:00] Train Loss 45.2429, 8/8 [00:00] Valid Loss 2.7726\n",
      "Epoch [310/5000]: 100%|██████████| 30/30 [00:00] Train Loss 34.4454, 8/8 [00:00] Valid Loss 1.6645\n",
      "Epoch [311/5000]: 100%|██████████| 30/30 [00:00] Train Loss 43.3045, 8/8 [00:00] Valid Loss 1.8252\n",
      "Epoch [312/5000]: 100%|██████████| 30/30 [00:00] Train Loss 27.0920, 8/8 [00:00] Valid Loss 2.8844\n",
      "Epoch [313/5000]: 100%|██████████| 30/30 [00:00] Train Loss 38.1231, 8/8 [00:00] Valid Loss 4.5620\n",
      "Epoch [314/5000]: 100%|██████████| 30/30 [00:00] Train Loss 35.7506, 8/8 [00:00] Valid Loss 10.6683\n",
      "Epoch [315/5000]: 100%|██████████| 30/30 [00:00] Train Loss 25.6273, 8/8 [00:00] Valid Loss 1.3994\n",
      "Epoch [316/5000]: 100%|██████████| 30/30 [00:00] Train Loss 26.7764, 8/8 [00:00] Valid Loss 2.3555\n",
      "Epoch [317/5000]: 100%|██████████| 30/30 [00:00] Train Loss 66.5713, 8/8 [00:00] Valid Loss 22.3414\n",
      "Epoch [318/5000]: 100%|██████████| 30/30 [00:00] Train Loss 35.1100, 8/8 [00:00] Valid Loss 1.6369\n",
      "Epoch [319/5000]: 100%|██████████| 30/30 [00:00] Train Loss 31.5303, 8/8 [00:00] Valid Loss 1.4896\n",
      "Epoch [320/5000]: 100%|██████████| 30/30 [00:00] Train Loss 30.6115, 8/8 [00:00] Valid Loss 1.0592\n",
      "Epoch [321/5000]: 100%|██████████| 30/30 [00:00] Train Loss 30.5992, 8/8 [00:00] Valid Loss 14.1429\n",
      "Epoch [322/5000]: 100%|██████████| 30/30 [00:00] Train Loss 42.9157, 8/8 [00:00] Valid Loss 4.9866\n",
      "Epoch [323/5000]: 100%|██████████| 30/30 [00:00] Train Loss 24.4121, 8/8 [00:00] Valid Loss 4.9042\n",
      "Epoch [324/5000]: 100%|██████████| 30/30 [00:00] Train Loss 17.9412, 8/8 [00:00] Valid Loss 1.2365\n",
      "Epoch [325/5000]: 100%|██████████| 30/30 [00:00] Train Loss 40.4496, 8/8 [00:00] Valid Loss 4.4413\n",
      "Epoch [326/5000]: 100%|██████████| 30/30 [00:00] Train Loss 29.3602, 8/8 [00:00] Valid Loss 2.7061\n",
      "Epoch [327/5000]: 100%|██████████| 30/30 [00:00] Train Loss 43.3642, 8/8 [00:00] Valid Loss 6.9427\n",
      "Epoch [328/5000]: 100%|██████████| 30/30 [00:00] Train Loss 42.2679, 8/8 [00:00] Valid Loss 3.5654\n",
      "Epoch [329/5000]: 100%|██████████| 30/30 [00:00] Train Loss 41.0464, 8/8 [00:00] Valid Loss 3.9300\n",
      "Epoch [330/5000]: 100%|██████████| 30/30 [00:00] Train Loss 25.4019, 8/8 [00:00] Valid Loss 6.6345\n",
      "Epoch [331/5000]: 100%|██████████| 30/30 [00:00] Train Loss 33.0066, 8/8 [00:00] Valid Loss 1.2152\n",
      "Epoch [332/5000]: 100%|██████████| 30/30 [00:00] Train Loss 20.7052, 8/8 [00:00] Valid Loss 4.0422\n",
      "Epoch [333/5000]: 100%|██████████| 30/30 [00:00] Train Loss 43.6670, 8/8 [00:00] Valid Loss 2.9754\n",
      "Epoch [334/5000]: 100%|██████████| 30/30 [00:00] Train Loss 65.0676, 8/8 [00:00] Valid Loss 8.4763\n",
      "Epoch [335/5000]: 100%|██████████| 30/30 [00:00] Train Loss 34.8153, 8/8 [00:00] Valid Loss 2.2177\n",
      "Epoch [336/5000]: 100%|██████████| 30/30 [00:00] Train Loss 29.1475, 8/8 [00:00] Valid Loss 19.6708\n",
      "Epoch [337/5000]: 100%|██████████| 30/30 [00:00] Train Loss 32.5276, 8/8 [00:00] Valid Loss 8.9876\n",
      "Epoch [338/5000]: 100%|██████████| 30/30 [00:00] Train Loss 22.5098, 8/8 [00:00] Valid Loss 1.2343\n",
      "Epoch [339/5000]: 100%|██████████| 30/30 [00:00] Train Loss 45.0635, 8/8 [00:00] Valid Loss 2.0108\n",
      "Epoch [340/5000]: 100%|██████████| 30/30 [00:00] Train Loss 30.2328, 8/8 [00:00] Valid Loss 1.6414\n",
      "Epoch [341/5000]: 100%|██████████| 30/30 [00:00] Train Loss 43.7243, 8/8 [00:00] Valid Loss 3.4000\n",
      "Epoch [342/5000]: 100%|██████████| 30/30 [00:00] Train Loss 34.9216, 8/8 [00:00] Valid Loss 10.3886\n",
      "Epoch [343/5000]: 100%|██████████| 30/30 [00:00] Train Loss 29.0231, 8/8 [00:00] Valid Loss 10.2162\n",
      "Epoch [344/5000]: 100%|██████████| 30/30 [00:00] Train Loss 29.3428, 8/8 [00:00] Valid Loss 2.1680\n",
      "Epoch [345/5000]: 100%|██████████| 30/30 [00:00] Train Loss 30.5887, 8/8 [00:00] Valid Loss 4.2602\n",
      "Epoch [346/5000]: 100%|██████████| 30/30 [00:00] Train Loss 28.7626, 8/8 [00:00] Valid Loss 20.8601\n",
      "Epoch [347/5000]: 100%|██████████| 30/30 [00:00] Train Loss 31.8625, 8/8 [00:00] Valid Loss 11.7055\n",
      "Epoch [348/5000]: 100%|██████████| 30/30 [00:00] Train Loss 48.3731, 8/8 [00:00] Valid Loss 11.1463\n",
      "Epoch [349/5000]: 100%|██████████| 30/30 [00:00] Train Loss 35.2154, 8/8 [00:00] Valid Loss 15.0472\n",
      "Epoch [350/5000]: 100%|██████████| 30/30 [00:00] Train Loss 40.0238, 8/8 [00:00] Valid Loss 12.5517\n",
      "Epoch [351/5000]: 100%|██████████| 30/30 [00:00] Train Loss 37.4159, 8/8 [00:00] Valid Loss 3.0510\n",
      "Epoch [352/5000]: 100%|██████████| 30/30 [00:00] Train Loss 31.7226, 8/8 [00:00] Valid Loss 10.7988\n",
      "Epoch [353/5000]: 100%|██████████| 30/30 [00:00] Train Loss 49.4367, 8/8 [00:00] Valid Loss 31.0678\n",
      "Epoch [354/5000]: 100%|██████████| 30/30 [00:00] Train Loss 52.8863, 8/8 [00:00] Valid Loss 2.3650\n",
      "Epoch [355/5000]: 100%|██████████| 30/30 [00:00] Train Loss 32.7945, 8/8 [00:00] Valid Loss 5.3261\n",
      "Epoch [356/5000]: 100%|██████████| 30/30 [00:00] Train Loss 23.7919, 8/8 [00:00] Valid Loss 2.2765\n",
      "Epoch [357/5000]: 100%|██████████| 30/30 [00:00] Train Loss 26.0600, 8/8 [00:00] Valid Loss 2.4166\n",
      "Epoch [358/5000]: 100%|██████████| 30/30 [00:00] Train Loss 34.3855, 8/8 [00:00] Valid Loss 2.1316\n",
      "Epoch [359/5000]: 100%|██████████| 30/30 [00:00] Train Loss 36.6353, 8/8 [00:00] Valid Loss 19.8129\n",
      "Epoch [360/5000]: 100%|██████████| 30/30 [00:00] Train Loss 49.5832, 8/8 [00:00] Valid Loss 3.0056\n",
      "Epoch [361/5000]: 100%|██████████| 30/30 [00:00] Train Loss 40.3176, 8/8 [00:00] Valid Loss 15.2117\n",
      "Epoch [362/5000]: 100%|██████████| 30/30 [00:00] Train Loss 23.6059, 8/8 [00:00] Valid Loss 2.2350\n",
      "Epoch [363/5000]: 100%|██████████| 30/30 [00:00] Train Loss 27.0876, 8/8 [00:00] Valid Loss 1.9240\n",
      "Epoch [364/5000]: 100%|██████████| 30/30 [00:00] Train Loss 29.9124, 8/8 [00:00] Valid Loss 1.5779\n",
      "Epoch [365/5000]: 100%|██████████| 30/30 [00:00] Train Loss 69.8116, 8/8 [00:00] Valid Loss 7.1868\n",
      "Epoch [366/5000]: 100%|██████████| 30/30 [00:00] Train Loss 61.1916, 8/8 [00:00] Valid Loss 13.2027\n",
      "Epoch [367/5000]: 100%|██████████| 30/30 [00:00] Train Loss 40.9314, 8/8 [00:00] Valid Loss 5.2699\n",
      "Epoch [368/5000]: 100%|██████████| 30/30 [00:00] Train Loss 34.9027, 8/8 [00:00] Valid Loss 16.2874\n",
      "Epoch [369/5000]: 100%|██████████| 30/30 [00:00] Train Loss 34.6899, 8/8 [00:00] Valid Loss 14.0414\n",
      "Epoch [370/5000]: 100%|██████████| 30/30 [00:00] Train Loss 30.1500, 8/8 [00:00] Valid Loss 4.2261\n",
      "Epoch [371/5000]: 100%|██████████| 30/30 [00:00] Train Loss 21.1278, 8/8 [00:00] Valid Loss 4.7360\n",
      "Epoch [372/5000]: 100%|██████████| 30/30 [00:00] Train Loss 40.0023, 8/8 [00:00] Valid Loss 3.2751\n",
      "Epoch [373/5000]: 100%|██████████| 30/30 [00:00] Train Loss 28.6544, 8/8 [00:00] Valid Loss 1.4581\n",
      "Epoch [374/5000]: 100%|██████████| 30/30 [00:00] Train Loss 33.4888, 8/8 [00:00] Valid Loss 4.9376\n",
      "Epoch [375/5000]: 100%|██████████| 30/30 [00:00] Train Loss 32.2834, 8/8 [00:00] Valid Loss 1.0880\n",
      "Epoch [376/5000]: 100%|██████████| 30/30 [00:00] Train Loss 39.2599, 8/8 [00:00] Valid Loss 2.7292\n",
      "Epoch [377/5000]: 100%|██████████| 30/30 [00:00] Train Loss 69.6315, 8/8 [00:00] Valid Loss 68.4253\n",
      "Epoch [378/5000]: 100%|██████████| 30/30 [00:00] Train Loss 39.7545, 8/8 [00:00] Valid Loss 17.7896\n",
      "Epoch [379/5000]: 100%|██████████| 30/30 [00:00] Train Loss 27.0121, 8/8 [00:00] Valid Loss 2.2697\n",
      "Epoch [380/5000]: 100%|██████████| 30/30 [00:00] Train Loss 31.4311, 8/8 [00:00] Valid Loss 4.3153\n",
      "Epoch [381/5000]: 100%|██████████| 30/30 [00:00] Train Loss 31.4305, 8/8 [00:00] Valid Loss 2.4427\n",
      "Epoch [382/5000]: 100%|██████████| 30/30 [00:00] Train Loss 27.2341, 8/8 [00:00] Valid Loss 9.3953\n",
      "Epoch [383/5000]: 100%|██████████| 30/30 [00:00] Train Loss 44.7408, 8/8 [00:00] Valid Loss 1.7624\n",
      "Epoch [384/5000]: 100%|██████████| 30/30 [00:00] Train Loss 46.5755, 8/8 [00:00] Valid Loss 2.5592\n",
      "Epoch [385/5000]: 100%|██████████| 30/30 [00:00] Train Loss 38.2141, 8/8 [00:00] Valid Loss 8.1414\n",
      "Epoch [386/5000]: 100%|██████████| 30/30 [00:00] Train Loss 60.8409, 8/8 [00:00] Valid Loss 28.8974\n",
      "Epoch [387/5000]: 100%|██████████| 30/30 [00:00] Train Loss 27.6271, 8/8 [00:00] Valid Loss 1.5941\n",
      "Epoch [388/5000]: 100%|██████████| 30/30 [00:00] Train Loss 33.6015, 8/8 [00:00] Valid Loss 4.6251\n",
      "Epoch [389/5000]: 100%|██████████| 30/30 [00:00] Train Loss 24.1829, 8/8 [00:00] Valid Loss 1.2584\n",
      "Epoch [390/5000]: 100%|██████████| 30/30 [00:00] Train Loss 39.1796, 8/8 [00:00] Valid Loss 4.1517\n",
      "Epoch [391/5000]: 100%|██████████| 30/30 [00:00] Train Loss 31.2934, 8/8 [00:00] Valid Loss 5.4847\n",
      "Epoch [392/5000]: 100%|██████████| 30/30 [00:00] Train Loss 33.9962, 8/8 [00:00] Valid Loss 2.5832\n",
      "Epoch [393/5000]: 100%|██████████| 30/30 [00:00] Train Loss 32.5484, 8/8 [00:00] Valid Loss 1.4260\n",
      "Epoch [394/5000]: 100%|██████████| 30/30 [00:00] Train Loss 51.2458, 8/8 [00:00] Valid Loss 5.1260\n",
      "Epoch [395/5000]: 100%|██████████| 30/30 [00:00] Train Loss 33.7442, 8/8 [00:00] Valid Loss 2.9301\n",
      "Epoch [396/5000]: 100%|██████████| 30/30 [00:00] Train Loss 38.9504, 8/8 [00:00] Valid Loss 2.5541\n",
      "Epoch [397/5000]: 100%|██████████| 30/30 [00:00] Train Loss 35.5452, 8/8 [00:00] Valid Loss 2.9797\n",
      "Epoch [398/5000]: 100%|██████████| 30/30 [00:00] Train Loss 23.4823, 8/8 [00:00] Valid Loss 2.0195\n",
      "Epoch [399/5000]: 100%|██████████| 30/30 [00:00] Train Loss 25.1227, 8/8 [00:00] Valid Loss 3.5517\n",
      "Epoch [400/5000]: 100%|██████████| 30/30 [00:00] Train Loss 37.4566, 8/8 [00:00] Valid Loss 1.9867\n",
      "Epoch [401/5000]: 100%|██████████| 30/30 [00:00] Train Loss 33.7704, 8/8 [00:00] Valid Loss 5.9455\n",
      "Epoch [402/5000]: 100%|██████████| 30/30 [00:00] Train Loss 71.1921, 8/8 [00:00] Valid Loss 27.8843\n",
      "Epoch [403/5000]: 100%|██████████| 30/30 [00:00] Train Loss 57.0850, 8/8 [00:00] Valid Loss 8.2348\n",
      "Epoch [404/5000]: 100%|██████████| 30/30 [00:00] Train Loss 24.2867, 8/8 [00:00] Valid Loss 10.9448\n",
      "Epoch [405/5000]: 100%|██████████| 30/30 [00:00] Train Loss 29.6860, 8/8 [00:00] Valid Loss 0.9019\n",
      "Epoch [406/5000]: 100%|██████████| 30/30 [00:00] Train Loss 32.8786, 8/8 [00:00] Valid Loss 1.9664\n",
      "Epoch [407/5000]: 100%|██████████| 30/30 [00:00] Train Loss 59.4013, 8/8 [00:00] Valid Loss 9.6694\n",
      "Epoch [408/5000]: 100%|██████████| 30/30 [00:00] Train Loss 79.9234, 8/8 [00:00] Valid Loss 11.0067\n",
      "Epoch [409/5000]: 100%|██████████| 30/30 [00:00] Train Loss 42.5975, 8/8 [00:00] Valid Loss 2.8751\n",
      "Epoch [410/5000]: 100%|██████████| 30/30 [00:00] Train Loss 29.3356, 8/8 [00:00] Valid Loss 4.0241\n",
      "Epoch [411/5000]: 100%|██████████| 30/30 [00:00] Train Loss 26.7168, 8/8 [00:00] Valid Loss 7.6140\n",
      "Epoch [412/5000]: 100%|██████████| 30/30 [00:00] Train Loss 48.6145, 8/8 [00:00] Valid Loss 1.5481\n",
      "Epoch [413/5000]: 100%|██████████| 30/30 [00:00] Train Loss 30.1363, 8/8 [00:00] Valid Loss 1.7711\n",
      "Epoch [414/5000]: 100%|██████████| 30/30 [00:00] Train Loss 30.6165, 8/8 [00:00] Valid Loss 8.5537\n",
      "Epoch [415/5000]: 100%|██████████| 30/30 [00:00] Train Loss 27.0556, 8/8 [00:00] Valid Loss 3.1736\n",
      "Epoch [416/5000]: 100%|██████████| 30/30 [00:00] Train Loss 26.6328, 8/8 [00:00] Valid Loss 4.9528\n",
      "Epoch [417/5000]: 100%|██████████| 30/30 [00:00] Train Loss 33.5701, 8/8 [00:00] Valid Loss 1.9479\n",
      "Epoch [418/5000]: 100%|██████████| 30/30 [00:00] Train Loss 28.0163, 8/8 [00:00] Valid Loss 4.2168\n",
      "Epoch [419/5000]: 100%|██████████| 30/30 [00:00] Train Loss 35.1115, 8/8 [00:00] Valid Loss 2.9717\n",
      "Epoch [420/5000]: 100%|██████████| 30/30 [00:00] Train Loss 37.9799, 8/8 [00:00] Valid Loss 7.2497\n",
      "Epoch [421/5000]: 100%|██████████| 30/30 [00:00] Train Loss 29.3289, 8/8 [00:00] Valid Loss 14.1040\n",
      "Epoch [422/5000]: 100%|██████████| 30/30 [00:00] Train Loss 21.8208, 8/8 [00:00] Valid Loss 7.8991\n",
      "Epoch [423/5000]: 100%|██████████| 30/30 [00:00] Train Loss 38.8237, 8/8 [00:00] Valid Loss 1.8318\n",
      "Epoch [424/5000]: 100%|██████████| 30/30 [00:00] Train Loss 38.6463, 8/8 [00:00] Valid Loss 2.0443\n",
      "Epoch [425/5000]: 100%|██████████| 30/30 [00:00] Train Loss 30.7428, 8/8 [00:00] Valid Loss 1.2813\n",
      "Epoch [426/5000]: 100%|██████████| 30/30 [00:00] Train Loss 44.2059, 8/8 [00:00] Valid Loss 7.3220\n",
      "Epoch [427/5000]: 100%|██████████| 30/30 [00:00] Train Loss 34.1667, 8/8 [00:00] Valid Loss 6.8928\n",
      "Epoch [428/5000]: 100%|██████████| 30/30 [00:00] Train Loss 35.6648, 8/8 [00:00] Valid Loss 44.4558\n",
      "Epoch [429/5000]: 100%|██████████| 30/30 [00:00] Train Loss 40.0476, 8/8 [00:00] Valid Loss 4.7788\n",
      "Epoch [430/5000]: 100%|██████████| 30/30 [00:00] Train Loss 30.0045, 8/8 [00:00] Valid Loss 2.6861\n",
      "Epoch [431/5000]: 100%|██████████| 30/30 [00:00] Train Loss 27.4207, 8/8 [00:00] Valid Loss 4.9022\n",
      "Epoch [432/5000]: 100%|██████████| 30/30 [00:00] Train Loss 27.5041, 8/8 [00:00] Valid Loss 2.9592\n",
      "Epoch [433/5000]: 100%|██████████| 30/30 [00:00] Train Loss 28.7625, 8/8 [00:00] Valid Loss 8.4288\n",
      "Epoch [434/5000]: 100%|██████████| 30/30 [00:00] Train Loss 25.5319, 8/8 [00:00] Valid Loss 5.7863\n",
      "Epoch [435/5000]: 100%|██████████| 30/30 [00:00] Train Loss 21.8201, 8/8 [00:00] Valid Loss 4.9994\n",
      "Epoch [436/5000]: 100%|██████████| 30/30 [00:00] Train Loss 23.8227, 8/8 [00:00] Valid Loss 1.9484\n",
      "Epoch [437/5000]: 100%|██████████| 30/30 [00:00] Train Loss 61.6907, 8/8 [00:00] Valid Loss 2.4761\n",
      "Epoch [438/5000]: 100%|██████████| 30/30 [00:00] Train Loss 37.1261, 8/8 [00:00] Valid Loss 6.3057\n",
      "Epoch [439/5000]: 100%|██████████| 30/30 [00:00] Train Loss 37.0047, 8/8 [00:00] Valid Loss 2.0534\n",
      "Epoch [440/5000]: 100%|██████████| 30/30 [00:00] Train Loss 55.6118, 8/8 [00:00] Valid Loss 9.5637\n",
      "Epoch [441/5000]: 100%|██████████| 30/30 [00:00] Train Loss 35.7939, 8/8 [00:00] Valid Loss 11.7873\n",
      "Epoch [442/5000]: 100%|██████████| 30/30 [00:00] Train Loss 27.3324, 8/8 [00:00] Valid Loss 1.8458\n",
      "Epoch [443/5000]: 100%|██████████| 30/30 [00:00] Train Loss 41.0792, 8/8 [00:00] Valid Loss 5.0334\n",
      "Epoch [444/5000]: 100%|██████████| 30/30 [00:00] Train Loss 28.5384, 8/8 [00:00] Valid Loss 11.9970\n",
      "Epoch [445/5000]: 100%|██████████| 30/30 [00:00] Train Loss 36.4870, 8/8 [00:00] Valid Loss 4.8436\n",
      "Epoch [446/5000]: 100%|██████████| 30/30 [00:00] Train Loss 33.7881, 8/8 [00:00] Valid Loss 0.9001\n",
      "Epoch [447/5000]: 100%|██████████| 30/30 [00:00] Train Loss 42.4831, 8/8 [00:00] Valid Loss 2.9237\n",
      "Epoch [448/5000]: 100%|██████████| 30/30 [00:00] Train Loss 56.2493, 8/8 [00:00] Valid Loss 1.1751\n",
      "Epoch [449/5000]: 100%|██████████| 30/30 [00:00] Train Loss 26.3804, 8/8 [00:00] Valid Loss 1.4799\n",
      "Epoch [450/5000]: 100%|██████████| 30/30 [00:00] Train Loss 23.8990, 8/8 [00:00] Valid Loss 7.8361\n",
      "Epoch [451/5000]: 100%|██████████| 30/30 [00:00] Train Loss 39.1510, 8/8 [00:00] Valid Loss 1.6805\n",
      "Epoch [452/5000]: 100%|██████████| 30/30 [00:00] Train Loss 39.0147, 8/8 [00:00] Valid Loss 0.9698\n",
      "Epoch [453/5000]: 100%|██████████| 30/30 [00:00] Train Loss 64.1852, 8/8 [00:00] Valid Loss 28.8202\n",
      "Epoch [454/5000]: 100%|██████████| 30/30 [00:00] Train Loss 31.6717, 8/8 [00:00] Valid Loss 2.9694\n",
      "Epoch [455/5000]: 100%|██████████| 30/30 [00:00] Train Loss 21.6198, 8/8 [00:00] Valid Loss 1.5038\n",
      "Epoch [456/5000]: 100%|██████████| 30/30 [00:00] Train Loss 61.7468, 8/8 [00:00] Valid Loss 2.4533\n",
      "Epoch [457/5000]: 100%|██████████| 30/30 [00:00] Train Loss 32.2230, 8/8 [00:00] Valid Loss 11.5656\n",
      "Epoch [458/5000]: 100%|██████████| 30/30 [00:00] Train Loss 23.1288, 8/8 [00:00] Valid Loss 1.5420\n",
      "Epoch [459/5000]: 100%|██████████| 30/30 [00:00] Train Loss 19.6633, 8/8 [00:00] Valid Loss 1.9187\n",
      "Epoch [460/5000]: 100%|██████████| 30/30 [00:00] Train Loss 46.0698, 8/8 [00:00] Valid Loss 3.6203\n",
      "Epoch [461/5000]: 100%|██████████| 30/30 [00:00] Train Loss 39.1236, 8/8 [00:00] Valid Loss 20.8164\n",
      "Epoch [462/5000]: 100%|██████████| 30/30 [00:00] Train Loss 23.9075, 8/8 [00:00] Valid Loss 46.0630\n",
      "Epoch [463/5000]: 100%|██████████| 30/30 [00:00] Train Loss 30.6558, 8/8 [00:00] Valid Loss 1.7618\n",
      "Epoch [464/5000]: 100%|██████████| 30/30 [00:00] Train Loss 29.9836, 8/8 [00:00] Valid Loss 1.0850\n",
      "Epoch [465/5000]: 100%|██████████| 30/30 [00:00] Train Loss 35.1876, 8/8 [00:00] Valid Loss 17.1399\n",
      "Epoch [466/5000]: 100%|██████████| 30/30 [00:00] Train Loss 43.6907, 8/8 [00:00] Valid Loss 2.9246\n",
      "Epoch [467/5000]: 100%|██████████| 30/30 [00:00] Train Loss 25.8368, 8/8 [00:00] Valid Loss 26.1485\n",
      "Epoch [468/5000]: 100%|██████████| 30/30 [00:00] Train Loss 45.2686, 8/8 [00:00] Valid Loss 9.1915\n",
      "Epoch [469/5000]: 100%|██████████| 30/30 [00:00] Train Loss 32.5788, 8/8 [00:00] Valid Loss 8.0604\n",
      "Epoch [470/5000]: 100%|██████████| 30/30 [00:00] Train Loss 34.7372, 8/8 [00:00] Valid Loss 1.2265\n",
      "Epoch [471/5000]: 100%|██████████| 30/30 [00:00] Train Loss 36.5797, 8/8 [00:00] Valid Loss 3.9424\n",
      "Epoch [472/5000]: 100%|██████████| 30/30 [00:00] Train Loss 35.1960, 8/8 [00:00] Valid Loss 3.4031\n",
      "Epoch [473/5000]: 100%|██████████| 30/30 [00:00] Train Loss 24.7302, 8/8 [00:00] Valid Loss 5.8487\n",
      "Epoch [474/5000]: 100%|██████████| 30/30 [00:00] Train Loss 35.1222, 8/8 [00:00] Valid Loss 24.5847\n",
      "Epoch [475/5000]: 100%|██████████| 30/30 [00:00] Train Loss 45.3024, 8/8 [00:00] Valid Loss 9.8194\n",
      "Epoch [476/5000]: 100%|██████████| 30/30 [00:00] Train Loss 34.6877, 8/8 [00:00] Valid Loss 19.4564\n",
      "Epoch [477/5000]: 100%|██████████| 30/30 [00:00] Train Loss 27.4359, 8/8 [00:00] Valid Loss 2.7325\n",
      "Epoch [478/5000]: 100%|██████████| 30/30 [00:00] Train Loss 29.1305, 8/8 [00:00] Valid Loss 7.5074\n",
      "Epoch [479/5000]: 100%|██████████| 30/30 [00:00] Train Loss 45.0758, 8/8 [00:00] Valid Loss 3.8261\n",
      "Epoch [480/5000]: 100%|██████████| 30/30 [00:00] Train Loss 37.4690, 8/8 [00:00] Valid Loss 2.2664\n",
      "Epoch [481/5000]: 100%|██████████| 30/30 [00:00] Train Loss 33.0714, 8/8 [00:00] Valid Loss 2.2967\n",
      "Epoch [482/5000]: 100%|██████████| 30/30 [00:00] Train Loss 37.3750, 8/8 [00:00] Valid Loss 4.3506\n",
      "Epoch [483/5000]: 100%|██████████| 30/30 [00:00] Train Loss 33.8489, 8/8 [00:00] Valid Loss 4.7778\n",
      "Epoch [484/5000]: 100%|██████████| 30/30 [00:00] Train Loss 50.6993, 8/8 [00:00] Valid Loss 1.8696\n",
      "Epoch [485/5000]: 100%|██████████| 30/30 [00:00] Train Loss 30.2520, 8/8 [00:00] Valid Loss 24.6448\n",
      "Epoch [486/5000]: 100%|██████████| 30/30 [00:00] Train Loss 29.8293, 8/8 [00:00] Valid Loss 9.8517\n",
      "Epoch [487/5000]: 100%|██████████| 30/30 [00:00] Train Loss 23.0088, 8/8 [00:00] Valid Loss 3.5996\n",
      "Epoch [488/5000]: 100%|██████████| 30/30 [00:00] Train Loss 26.8699, 8/8 [00:00] Valid Loss 2.7088\n",
      "Epoch [489/5000]: 100%|██████████| 30/30 [00:00] Train Loss 33.5913, 8/8 [00:00] Valid Loss 2.4021\n",
      "Epoch [490/5000]: 100%|██████████| 30/30 [00:00] Train Loss 39.7488, 8/8 [00:00] Valid Loss 11.9478\n",
      "Epoch [491/5000]: 100%|██████████| 30/30 [00:00] Train Loss 58.2855, 8/8 [00:00] Valid Loss 17.3110\n",
      "Epoch [492/5000]: 100%|██████████| 30/30 [00:00] Train Loss 31.6028, 8/8 [00:00] Valid Loss 9.8048\n",
      "Epoch [493/5000]: 100%|██████████| 30/30 [00:00] Train Loss 35.3897, 8/8 [00:00] Valid Loss 1.2606\n",
      "Epoch [494/5000]: 100%|██████████| 30/30 [00:00] Train Loss 18.7851, 8/8 [00:00] Valid Loss 4.6647\n",
      "Epoch [495/5000]: 100%|██████████| 30/30 [00:00] Train Loss 32.8330, 8/8 [00:00] Valid Loss 3.2536\n",
      "Epoch [496/5000]: 100%|██████████| 30/30 [00:00] Train Loss 24.8856, 8/8 [00:00] Valid Loss 3.5425\n",
      "Epoch [497/5000]: 100%|██████████| 30/30 [00:00] Train Loss 30.9697, 8/8 [00:00] Valid Loss 1.1987\n",
      "Epoch [498/5000]: 100%|██████████| 30/30 [00:00] Train Loss 40.2333, 8/8 [00:00] Valid Loss 1.3436\n",
      "Epoch [499/5000]: 100%|██████████| 30/30 [00:00] Train Loss 38.1613, 8/8 [00:00] Valid Loss 1.2255\n",
      "Epoch [500/5000]: 100%|██████████| 30/30 [00:00] Train Loss 32.7924, 8/8 [00:00] Valid Loss 5.8508\n",
      "Epoch [501/5000]: 100%|██████████| 30/30 [00:00] Train Loss 35.2940, 8/8 [00:00] Valid Loss 4.9811\n",
      "Epoch [502/5000]: 100%|██████████| 30/30 [00:00] Train Loss 25.2188, 8/8 [00:00] Valid Loss 3.5133\n",
      "Epoch [503/5000]: 100%|██████████| 30/30 [00:00] Train Loss 21.3645, 8/8 [00:00] Valid Loss 1.3686\n",
      "Epoch [504/5000]: 100%|██████████| 30/30 [00:00] Train Loss 24.1586, 8/8 [00:00] Valid Loss 2.7356\n",
      "Epoch [505/5000]: 100%|██████████| 30/30 [00:00] Train Loss 40.9062, 8/8 [00:00] Valid Loss 13.6627\n",
      "Epoch [506/5000]: 100%|██████████| 30/30 [00:00] Train Loss 28.4258, 8/8 [00:00] Valid Loss 11.7726\n",
      "Epoch [507/5000]: 100%|██████████| 30/30 [00:00] Train Loss 28.4705, 8/8 [00:00] Valid Loss 33.0205\n",
      "Epoch [508/5000]: 100%|██████████| 30/30 [00:00] Train Loss 27.5726, 8/8 [00:00] Valid Loss 3.6837\n",
      "Epoch [509/5000]: 100%|██████████| 30/30 [00:00] Train Loss 35.1072, 8/8 [00:00] Valid Loss 4.3137\n",
      "Epoch [510/5000]: 100%|██████████| 30/30 [00:00] Train Loss 30.4787, 8/8 [00:00] Valid Loss 15.3480\n",
      "Epoch [511/5000]: 100%|██████████| 30/30 [00:00] Train Loss 30.8669, 8/8 [00:00] Valid Loss 4.8857\n",
      "Epoch [512/5000]: 100%|██████████| 30/30 [00:00] Train Loss 29.6835, 8/8 [00:00] Valid Loss 3.5505\n",
      "Epoch [513/5000]: 100%|██████████| 30/30 [00:00] Train Loss 39.3618, 8/8 [00:00] Valid Loss 4.8661\n",
      "Epoch [514/5000]: 100%|██████████| 30/30 [00:00] Train Loss 35.9047, 8/8 [00:00] Valid Loss 14.6527\n",
      "Epoch [515/5000]: 100%|██████████| 30/30 [00:00] Train Loss 51.4290, 8/8 [00:00] Valid Loss 3.7148\n",
      "Epoch [516/5000]: 100%|██████████| 30/30 [00:00] Train Loss 26.0760, 8/8 [00:00] Valid Loss 3.2662\n",
      "Epoch [517/5000]: 100%|██████████| 30/30 [00:00] Train Loss 32.8709, 8/8 [00:00] Valid Loss 6.6733\n",
      "Epoch [518/5000]: 100%|██████████| 30/30 [00:00] Train Loss 37.7771, 8/8 [00:00] Valid Loss 8.3929\n",
      "Epoch [519/5000]: 100%|██████████| 30/30 [00:00] Train Loss 32.4986, 8/8 [00:00] Valid Loss 13.3172\n",
      "Epoch [520/5000]: 100%|██████████| 30/30 [00:00] Train Loss 55.2694, 8/8 [00:00] Valid Loss 17.4744\n",
      "Epoch [521/5000]: 100%|██████████| 30/30 [00:00] Train Loss 32.8146, 8/8 [00:00] Valid Loss 1.4878\n",
      "Epoch [522/5000]: 100%|██████████| 30/30 [00:00] Train Loss 27.7682, 8/8 [00:00] Valid Loss 2.5084\n",
      "Epoch [523/5000]: 100%|██████████| 30/30 [00:00] Train Loss 43.4723, 8/8 [00:00] Valid Loss 5.6901\n",
      "Epoch [524/5000]: 100%|██████████| 30/30 [00:00] Train Loss 22.1514, 8/8 [00:00] Valid Loss 1.0042\n",
      "Epoch [525/5000]: 100%|██████████| 30/30 [00:00] Train Loss 42.0434, 8/8 [00:00] Valid Loss 3.9686\n",
      "Epoch [526/5000]: 100%|██████████| 30/30 [00:00] Train Loss 32.9870, 8/8 [00:00] Valid Loss 1.3973\n",
      "Epoch [527/5000]: 100%|██████████| 30/30 [00:00] Train Loss 29.3786, 8/8 [00:00] Valid Loss 24.2093\n",
      "Epoch [528/5000]: 100%|██████████| 30/30 [00:00] Train Loss 42.4433, 8/8 [00:00] Valid Loss 17.6047\n",
      "Epoch [529/5000]: 100%|██████████| 30/30 [00:00] Train Loss 43.7394, 8/8 [00:00] Valid Loss 4.3839\n",
      "Epoch [530/5000]: 100%|██████████| 30/30 [00:00] Train Loss 34.1709, 8/8 [00:00] Valid Loss 1.5514\n",
      "Epoch [531/5000]: 100%|██████████| 30/30 [00:00] Train Loss 29.8635, 8/8 [00:00] Valid Loss 4.2802\n",
      "Epoch [532/5000]: 100%|██████████| 30/30 [00:00] Train Loss 33.3474, 8/8 [00:00] Valid Loss 2.9467\n",
      "Epoch [533/5000]: 100%|██████████| 30/30 [00:00] Train Loss 37.7789, 8/8 [00:00] Valid Loss 15.0606\n",
      "Epoch [534/5000]: 100%|██████████| 30/30 [00:00] Train Loss 16.0019, 8/8 [00:00] Valid Loss 1.4343\n",
      "Epoch [535/5000]: 100%|██████████| 30/30 [00:00] Train Loss 44.8109, 8/8 [00:00] Valid Loss 3.4739\n",
      "Epoch [536/5000]: 100%|██████████| 30/30 [00:00] Train Loss 30.0537, 8/8 [00:00] Valid Loss 16.1682\n",
      "Epoch [537/5000]: 100%|██████████| 30/30 [00:00] Train Loss 23.4553, 8/8 [00:00] Valid Loss 2.8033\n",
      "Epoch [538/5000]: 100%|██████████| 30/30 [00:00] Train Loss 21.8516, 8/8 [00:00] Valid Loss 1.7454\n",
      "Epoch [539/5000]: 100%|██████████| 30/30 [00:00] Train Loss 37.9944, 8/8 [00:00] Valid Loss 6.3323\n",
      "Epoch [540/5000]: 100%|██████████| 30/30 [00:00] Train Loss 24.1270, 8/8 [00:00] Valid Loss 2.4355\n",
      "Epoch [541/5000]: 100%|██████████| 30/30 [00:00] Train Loss 33.5874, 8/8 [00:00] Valid Loss 11.5652\n",
      "Epoch [542/5000]: 100%|██████████| 30/30 [00:00] Train Loss 47.6724, 8/8 [00:00] Valid Loss 3.8100\n",
      "Epoch [543/5000]: 100%|██████████| 30/30 [00:00] Train Loss 39.4978, 8/8 [00:00] Valid Loss 3.6611\n",
      "Epoch [544/5000]: 100%|██████████| 30/30 [00:00] Train Loss 27.6088, 8/8 [00:00] Valid Loss 15.7255\n",
      "Epoch [545/5000]: 100%|██████████| 30/30 [00:00] Train Loss 50.4326, 8/8 [00:00] Valid Loss 23.0000\n",
      "Epoch [546/5000]: 100%|██████████| 30/30 [00:00] Train Loss 50.3741, 8/8 [00:00] Valid Loss 8.8082\n",
      "Epoch [547/5000]: 100%|██████████| 30/30 [00:00] Train Loss 44.3527, 8/8 [00:00] Valid Loss 4.8344\n",
      "Epoch [548/5000]: 100%|██████████| 30/30 [00:00] Train Loss 22.9893, 8/8 [00:00] Valid Loss 11.9116\n",
      "Epoch [549/5000]: 100%|██████████| 30/30 [00:00] Train Loss 38.2642, 8/8 [00:00] Valid Loss 12.0117\n",
      "Epoch [550/5000]: 100%|██████████| 30/30 [00:00] Train Loss 58.7344, 8/8 [00:00] Valid Loss 3.1156\n",
      "Epoch [551/5000]: 100%|██████████| 30/30 [00:00] Train Loss 44.9969, 8/8 [00:00] Valid Loss 10.7482\n",
      "Epoch [552/5000]: 100%|██████████| 30/30 [00:00] Train Loss 26.0695, 8/8 [00:00] Valid Loss 4.7645\n",
      "Epoch [553/5000]: 100%|██████████| 30/30 [00:00] Train Loss 19.2583, 8/8 [00:00] Valid Loss 15.4403\n",
      "Epoch [554/5000]: 100%|██████████| 30/30 [00:00] Train Loss 33.5796, 8/8 [00:00] Valid Loss 3.3951\n",
      "Epoch [555/5000]: 100%|██████████| 30/30 [00:00] Train Loss 27.7829, 8/8 [00:00] Valid Loss 4.9271\n",
      "Epoch [556/5000]: 100%|██████████| 30/30 [00:00] Train Loss 28.4584, 8/8 [00:00] Valid Loss 8.1595\n",
      "Epoch [557/5000]: 100%|██████████| 30/30 [00:00] Train Loss 47.3860, 8/8 [00:00] Valid Loss 3.3437\n",
      "Epoch [558/5000]: 100%|██████████| 30/30 [00:00] Train Loss 33.2697, 8/8 [00:00] Valid Loss 3.5704\n",
      "Epoch [559/5000]: 100%|██████████| 30/30 [00:00] Train Loss 14.6776, 8/8 [00:00] Valid Loss 6.1938\n",
      "Epoch [560/5000]: 100%|██████████| 30/30 [00:00] Train Loss 26.5305, 8/8 [00:00] Valid Loss 3.6270\n",
      "Epoch [561/5000]: 100%|██████████| 30/30 [00:00] Train Loss 22.9571, 8/8 [00:00] Valid Loss 1.1931\n",
      "Epoch [562/5000]: 100%|██████████| 30/30 [00:00] Train Loss 41.1505, 8/8 [00:00] Valid Loss 8.0307\n",
      "Epoch [563/5000]: 100%|██████████| 30/30 [00:00] Train Loss 35.5115, 8/8 [00:00] Valid Loss 1.3226\n",
      "Epoch [564/5000]: 100%|██████████| 30/30 [00:00] Train Loss 48.1969, 8/8 [00:00] Valid Loss 13.2641\n",
      "Epoch [565/5000]: 100%|██████████| 30/30 [00:00] Train Loss 24.9476, 8/8 [00:00] Valid Loss 2.7837\n",
      "Epoch [566/5000]: 100%|██████████| 30/30 [00:00] Train Loss 46.8069, 8/8 [00:00] Valid Loss 6.9779\n",
      "Epoch [567/5000]: 100%|██████████| 30/30 [00:00] Train Loss 35.8416, 8/8 [00:00] Valid Loss 5.8295\n",
      "Epoch [568/5000]: 100%|██████████| 30/30 [00:00] Train Loss 33.3933, 8/8 [00:00] Valid Loss 3.7780\n",
      "Epoch [569/5000]: 100%|██████████| 30/30 [00:00] Train Loss 35.4837, 8/8 [00:00] Valid Loss 7.6280\n",
      "Epoch [570/5000]: 100%|██████████| 30/30 [00:00] Train Loss 39.0930, 8/8 [00:00] Valid Loss 1.2626\n",
      "Epoch [571/5000]: 100%|██████████| 30/30 [00:00] Train Loss 46.5475, 8/8 [00:00] Valid Loss 2.9192\n",
      "Epoch [572/5000]: 100%|██████████| 30/30 [00:00] Train Loss 21.7377, 8/8 [00:00] Valid Loss 0.7936\n",
      "Epoch [573/5000]: 100%|██████████| 30/30 [00:00] Train Loss 36.4589, 8/8 [00:00] Valid Loss 22.1146\n",
      "Epoch [574/5000]: 100%|██████████| 30/30 [00:00] Train Loss 35.2324, 8/8 [00:00] Valid Loss 3.2887\n",
      "Epoch [575/5000]: 100%|██████████| 30/30 [00:00] Train Loss 44.7309, 8/8 [00:00] Valid Loss 8.1972\n",
      "Epoch [576/5000]: 100%|██████████| 30/30 [00:00] Train Loss 29.5369, 8/8 [00:00] Valid Loss 4.2723\n",
      "Epoch [577/5000]: 100%|██████████| 30/30 [00:00] Train Loss 28.8129, 8/8 [00:00] Valid Loss 2.1687\n",
      "Epoch [578/5000]: 100%|██████████| 30/30 [00:00] Train Loss 28.5433, 8/8 [00:00] Valid Loss 45.4693\n",
      "Epoch [579/5000]: 100%|██████████| 30/30 [00:00] Train Loss 37.1236, 8/8 [00:00] Valid Loss 4.8829\n",
      "Epoch [580/5000]: 100%|██████████| 30/30 [00:00] Train Loss 27.0819, 8/8 [00:00] Valid Loss 3.1489\n",
      "Epoch [581/5000]: 100%|██████████| 30/30 [00:00] Train Loss 20.0716, 8/8 [00:00] Valid Loss 6.6243\n",
      "Epoch [582/5000]: 100%|██████████| 30/30 [00:00] Train Loss 55.3215, 8/8 [00:00] Valid Loss 7.4246\n",
      "Epoch [583/5000]: 100%|██████████| 30/30 [00:00] Train Loss 31.4646, 8/8 [00:00] Valid Loss 3.4851\n",
      "Epoch [584/5000]: 100%|██████████| 30/30 [00:00] Train Loss 26.7701, 8/8 [00:00] Valid Loss 1.8802\n",
      "Epoch [585/5000]: 100%|██████████| 30/30 [00:00] Train Loss 51.9307, 8/8 [00:00] Valid Loss 4.2349\n",
      "Epoch [586/5000]: 100%|██████████| 30/30 [00:00] Train Loss 33.4975, 8/8 [00:00] Valid Loss 2.8077\n",
      "Epoch [587/5000]: 100%|██████████| 30/30 [00:00] Train Loss 34.1297, 8/8 [00:00] Valid Loss 3.8084\n",
      "Epoch [588/5000]: 100%|██████████| 30/30 [00:00] Train Loss 33.3120, 8/8 [00:00] Valid Loss 1.2494\n",
      "Epoch [589/5000]: 100%|██████████| 30/30 [00:00] Train Loss 29.1965, 8/8 [00:00] Valid Loss 1.7101\n",
      "Epoch [590/5000]: 100%|██████████| 30/30 [00:00] Train Loss 30.1268, 8/8 [00:00] Valid Loss 1.3563\n",
      "Epoch [591/5000]: 100%|██████████| 30/30 [00:00] Train Loss 43.1484, 8/8 [00:00] Valid Loss 6.1919\n",
      "Epoch [592/5000]: 100%|██████████| 30/30 [00:00] Train Loss 36.5726, 8/8 [00:00] Valid Loss 1.7273\n",
      "Epoch [593/5000]: 100%|██████████| 30/30 [00:00] Train Loss 22.2456, 8/8 [00:00] Valid Loss 9.8681\n",
      "Epoch [594/5000]: 100%|██████████| 30/30 [00:00] Train Loss 47.2954, 8/8 [00:00] Valid Loss 5.0204\n",
      "Epoch [595/5000]: 100%|██████████| 30/30 [00:00] Train Loss 37.2475, 8/8 [00:00] Valid Loss 4.7322\n",
      "Epoch [596/5000]: 100%|██████████| 30/30 [00:00] Train Loss 38.0398, 8/8 [00:00] Valid Loss 1.4737\n",
      "Epoch [597/5000]: 100%|██████████| 30/30 [00:00] Train Loss 32.6235, 8/8 [00:00] Valid Loss 2.4179\n",
      "Epoch [598/5000]: 100%|██████████| 30/30 [00:00] Train Loss 38.7822, 8/8 [00:00] Valid Loss 3.5778\n",
      "Epoch [599/5000]: 100%|██████████| 30/30 [00:00] Train Loss 40.7581, 8/8 [00:00] Valid Loss 10.8800\n",
      "Epoch [600/5000]: 100%|██████████| 30/30 [00:00] Train Loss 32.4784, 8/8 [00:00] Valid Loss 1.1855\n",
      "Epoch [601/5000]: 100%|██████████| 30/30 [00:00] Train Loss 37.8979, 8/8 [00:00] Valid Loss 16.1370\n",
      "Epoch [602/5000]: 100%|██████████| 30/30 [00:00] Train Loss 24.5500, 8/8 [00:00] Valid Loss 1.6027\n",
      "Epoch [603/5000]: 100%|██████████| 30/30 [00:00] Train Loss 23.3205, 8/8 [00:00] Valid Loss 14.1625\n",
      "Epoch [604/5000]: 100%|██████████| 30/30 [00:00] Train Loss 22.4921, 8/8 [00:00] Valid Loss 0.6894\n"
     ]
    },
    {
     "name": "stdout",
     "output_type": "stream",
     "text": [
      "Saving model with loss 0.689...\n"
     ]
    },
    {
     "name": "stderr",
     "output_type": "stream",
     "text": [
      "Epoch [605/5000]: 100%|██████████| 30/30 [00:00] Train Loss 27.2560, 8/8 [00:00] Valid Loss 1.5361\n",
      "Epoch [606/5000]: 100%|██████████| 30/30 [00:00] Train Loss 25.0633, 8/8 [00:00] Valid Loss 1.9759\n",
      "Epoch [607/5000]: 100%|██████████| 30/30 [00:00] Train Loss 39.5565, 8/8 [00:00] Valid Loss 87.2279\n",
      "Epoch [608/5000]: 100%|██████████| 30/30 [00:00] Train Loss 48.0046, 8/8 [00:00] Valid Loss 26.9646\n",
      "Epoch [609/5000]: 100%|██████████| 30/30 [00:00] Train Loss 29.0600, 8/8 [00:00] Valid Loss 14.6577\n",
      "Epoch [610/5000]: 100%|██████████| 30/30 [00:00] Train Loss 48.8916, 8/8 [00:00] Valid Loss 4.6921\n",
      "Epoch [611/5000]: 100%|██████████| 30/30 [00:00] Train Loss 40.5721, 8/8 [00:00] Valid Loss 3.6981\n",
      "Epoch [612/5000]: 100%|██████████| 30/30 [00:00] Train Loss 34.3463, 8/8 [00:00] Valid Loss 5.7539\n",
      "Epoch [613/5000]: 100%|██████████| 30/30 [00:00] Train Loss 34.5190, 8/8 [00:00] Valid Loss 9.1846\n",
      "Epoch [614/5000]: 100%|██████████| 30/30 [00:00] Train Loss 33.5296, 8/8 [00:00] Valid Loss 2.1695\n",
      "Epoch [615/5000]: 100%|██████████| 30/30 [00:00] Train Loss 36.3670, 8/8 [00:00] Valid Loss 8.5644\n",
      "Epoch [616/5000]: 100%|██████████| 30/30 [00:00] Train Loss 35.6006, 8/8 [00:00] Valid Loss 16.7218\n",
      "Epoch [617/5000]: 100%|██████████| 30/30 [00:00] Train Loss 26.0370, 8/8 [00:00] Valid Loss 0.7591\n",
      "Epoch [618/5000]: 100%|██████████| 30/30 [00:00] Train Loss 38.6673, 8/8 [00:00] Valid Loss 1.8373\n",
      "Epoch [619/5000]: 100%|██████████| 30/30 [00:00] Train Loss 29.8796, 8/8 [00:00] Valid Loss 12.4508\n",
      "Epoch [620/5000]: 100%|██████████| 30/30 [00:00] Train Loss 32.3556, 8/8 [00:00] Valid Loss 7.8696\n",
      "Epoch [621/5000]: 100%|██████████| 30/30 [00:00] Train Loss 50.3928, 8/8 [00:00] Valid Loss 19.3617\n",
      "Epoch [622/5000]: 100%|██████████| 30/30 [00:00] Train Loss 33.4762, 8/8 [00:00] Valid Loss 4.6570\n",
      "Epoch [623/5000]: 100%|██████████| 30/30 [00:00] Train Loss 50.1972, 8/8 [00:00] Valid Loss 20.2957\n",
      "Epoch [624/5000]: 100%|██████████| 30/30 [00:00] Train Loss 23.0374, 8/8 [00:00] Valid Loss 5.8016\n",
      "Epoch [625/5000]: 100%|██████████| 30/30 [00:00] Train Loss 30.4157, 8/8 [00:00] Valid Loss 15.0563\n",
      "Epoch [626/5000]: 100%|██████████| 30/30 [00:00] Train Loss 30.5063, 8/8 [00:00] Valid Loss 26.5709\n",
      "Epoch [627/5000]: 100%|██████████| 30/30 [00:00] Train Loss 38.7333, 8/8 [00:00] Valid Loss 16.5117\n",
      "Epoch [628/5000]: 100%|██████████| 30/30 [00:00] Train Loss 44.0169, 8/8 [00:00] Valid Loss 2.2519\n",
      "Epoch [629/5000]: 100%|██████████| 30/30 [00:00] Train Loss 29.2722, 8/8 [00:00] Valid Loss 45.4020\n",
      "Epoch [630/5000]: 100%|██████████| 30/30 [00:00] Train Loss 52.5024, 8/8 [00:00] Valid Loss 13.6837\n",
      "Epoch [631/5000]: 100%|██████████| 30/30 [00:00] Train Loss 32.8555, 8/8 [00:00] Valid Loss 10.7126\n",
      "Epoch [632/5000]: 100%|██████████| 30/30 [00:00] Train Loss 26.9390, 8/8 [00:00] Valid Loss 12.9980\n",
      "Epoch [633/5000]: 100%|██████████| 30/30 [00:00] Train Loss 49.8214, 8/8 [00:00] Valid Loss 15.1668\n",
      "Epoch [634/5000]: 100%|██████████| 30/30 [00:00] Train Loss 49.8817, 8/8 [00:00] Valid Loss 1.0933\n",
      "Epoch [635/5000]: 100%|██████████| 30/30 [00:00] Train Loss 26.6797, 8/8 [00:00] Valid Loss 1.4805\n",
      "Epoch [636/5000]: 100%|██████████| 30/30 [00:00] Train Loss 31.5896, 8/8 [00:00] Valid Loss 5.2423\n",
      "Epoch [637/5000]: 100%|██████████| 30/30 [00:00] Train Loss 22.6008, 8/8 [00:00] Valid Loss 4.1488\n",
      "Epoch [638/5000]: 100%|██████████| 30/30 [00:00] Train Loss 29.0819, 8/8 [00:00] Valid Loss 1.1641\n",
      "Epoch [639/5000]: 100%|██████████| 30/30 [00:00] Train Loss 54.1657, 8/8 [00:00] Valid Loss 3.3433\n",
      "Epoch [640/5000]: 100%|██████████| 30/30 [00:00] Train Loss 24.9418, 8/8 [00:00] Valid Loss 17.5914\n",
      "Epoch [641/5000]: 100%|██████████| 30/30 [00:00] Train Loss 51.2485, 8/8 [00:00] Valid Loss 15.4525\n",
      "Epoch [642/5000]: 100%|██████████| 30/30 [00:00] Train Loss 27.9275, 8/8 [00:00] Valid Loss 1.6927\n",
      "Epoch [643/5000]: 100%|██████████| 30/30 [00:00] Train Loss 37.3761, 8/8 [00:00] Valid Loss 1.4957\n",
      "Epoch [644/5000]: 100%|██████████| 30/30 [00:00] Train Loss 29.2432, 8/8 [00:00] Valid Loss 3.2018\n",
      "Epoch [645/5000]: 100%|██████████| 30/30 [00:00] Train Loss 19.9639, 8/8 [00:00] Valid Loss 19.5476\n",
      "Epoch [646/5000]: 100%|██████████| 30/30 [00:00] Train Loss 47.7050, 8/8 [00:00] Valid Loss 3.2433\n",
      "Epoch [647/5000]: 100%|██████████| 30/30 [00:00] Train Loss 22.2993, 8/8 [00:00] Valid Loss 9.0045\n",
      "Epoch [648/5000]: 100%|██████████| 30/30 [00:00] Train Loss 30.9028, 8/8 [00:00] Valid Loss 4.5804\n",
      "Epoch [649/5000]: 100%|██████████| 30/30 [00:00] Train Loss 23.2338, 8/8 [00:00] Valid Loss 2.1734\n",
      "Epoch [650/5000]: 100%|██████████| 30/30 [00:00] Train Loss 40.7154, 8/8 [00:00] Valid Loss 4.4469\n",
      "Epoch [651/5000]: 100%|██████████| 30/30 [00:00] Train Loss 29.5135, 8/8 [00:00] Valid Loss 28.4736\n",
      "Epoch [652/5000]: 100%|██████████| 30/30 [00:00] Train Loss 37.6621, 8/8 [00:00] Valid Loss 3.5266\n",
      "Epoch [653/5000]: 100%|██████████| 30/30 [00:00] Train Loss 33.0621, 8/8 [00:00] Valid Loss 8.8897\n",
      "Epoch [654/5000]: 100%|██████████| 30/30 [00:00] Train Loss 35.6467, 8/8 [00:00] Valid Loss 11.0614\n",
      "Epoch [655/5000]: 100%|██████████| 30/30 [00:00] Train Loss 38.4235, 8/8 [00:00] Valid Loss 9.0211\n",
      "Epoch [656/5000]: 100%|██████████| 30/30 [00:00] Train Loss 22.6730, 8/8 [00:00] Valid Loss 1.0404\n",
      "Epoch [657/5000]: 100%|██████████| 30/30 [00:00] Train Loss 30.5081, 8/8 [00:00] Valid Loss 1.5250\n",
      "Epoch [658/5000]: 100%|██████████| 30/30 [00:00] Train Loss 21.4372, 8/8 [00:00] Valid Loss 7.0130\n",
      "Epoch [659/5000]: 100%|██████████| 30/30 [00:00] Train Loss 24.8726, 8/8 [00:00] Valid Loss 3.7566\n",
      "Epoch [660/5000]: 100%|██████████| 30/30 [00:00] Train Loss 40.3959, 8/8 [00:00] Valid Loss 7.9271\n",
      "Epoch [661/5000]: 100%|██████████| 30/30 [00:00] Train Loss 49.0443, 8/8 [00:00] Valid Loss 5.2162\n",
      "Epoch [662/5000]: 100%|██████████| 30/30 [00:00] Train Loss 35.6864, 8/8 [00:00] Valid Loss 1.9947\n",
      "Epoch [663/5000]: 100%|██████████| 30/30 [00:00] Train Loss 33.7393, 8/8 [00:00] Valid Loss 2.5668\n",
      "Epoch [664/5000]: 100%|██████████| 30/30 [00:00] Train Loss 48.0682, 8/8 [00:00] Valid Loss 2.7836\n",
      "Epoch [665/5000]: 100%|██████████| 30/30 [00:00] Train Loss 28.0388, 8/8 [00:00] Valid Loss 3.0491\n",
      "Epoch [666/5000]: 100%|██████████| 30/30 [00:00] Train Loss 44.9528, 8/8 [00:00] Valid Loss 4.9623\n",
      "Epoch [667/5000]: 100%|██████████| 30/30 [00:00] Train Loss 32.6397, 8/8 [00:00] Valid Loss 6.0311\n",
      "Epoch [668/5000]: 100%|██████████| 30/30 [00:00] Train Loss 33.0560, 8/8 [00:00] Valid Loss 15.6437\n",
      "Epoch [669/5000]: 100%|██████████| 30/30 [00:00] Train Loss 29.3332, 8/8 [00:00] Valid Loss 1.1295\n",
      "Epoch [670/5000]: 100%|██████████| 30/30 [00:00] Train Loss 50.6972, 8/8 [00:00] Valid Loss 5.1383\n",
      "Epoch [671/5000]: 100%|██████████| 30/30 [00:00] Train Loss 32.9097, 8/8 [00:00] Valid Loss 13.9069\n",
      "Epoch [672/5000]: 100%|██████████| 30/30 [00:00] Train Loss 32.8653, 8/8 [00:00] Valid Loss 5.2527\n",
      "Epoch [673/5000]: 100%|██████████| 30/30 [00:00] Train Loss 41.9216, 8/8 [00:00] Valid Loss 3.4930\n",
      "Epoch [674/5000]: 100%|██████████| 30/30 [00:00] Train Loss 24.0226, 8/8 [00:00] Valid Loss 1.2278\n",
      "Epoch [675/5000]: 100%|██████████| 30/30 [00:00] Train Loss 26.7561, 8/8 [00:00] Valid Loss 4.0429\n",
      "Epoch [676/5000]: 100%|██████████| 30/30 [00:00] Train Loss 35.2084, 8/8 [00:00] Valid Loss 6.4182\n",
      "Epoch [677/5000]: 100%|██████████| 30/30 [00:00] Train Loss 30.1646, 8/8 [00:00] Valid Loss 8.3368\n",
      "Epoch [678/5000]: 100%|██████████| 30/30 [00:00] Train Loss 24.3804, 8/8 [00:00] Valid Loss 13.7161\n",
      "Epoch [679/5000]: 100%|██████████| 30/30 [00:00] Train Loss 41.2570, 8/8 [00:00] Valid Loss 13.3480\n",
      "Epoch [680/5000]: 100%|██████████| 30/30 [00:00] Train Loss 28.3717, 8/8 [00:00] Valid Loss 2.9111\n",
      "Epoch [681/5000]: 100%|██████████| 30/30 [00:00] Train Loss 38.5162, 8/8 [00:00] Valid Loss 6.1593\n",
      "Epoch [682/5000]: 100%|██████████| 30/30 [00:00] Train Loss 21.8498, 8/8 [00:00] Valid Loss 5.9278\n",
      "Epoch [683/5000]: 100%|██████████| 30/30 [00:00] Train Loss 47.5488, 8/8 [00:00] Valid Loss 33.1119\n",
      "Epoch [684/5000]: 100%|██████████| 30/30 [00:00] Train Loss 32.1540, 8/8 [00:00] Valid Loss 1.7096\n",
      "Epoch [685/5000]: 100%|██████████| 30/30 [00:00] Train Loss 27.8439, 8/8 [00:00] Valid Loss 2.6305\n",
      "Epoch [686/5000]: 100%|██████████| 30/30 [00:00] Train Loss 32.2629, 8/8 [00:00] Valid Loss 2.5619\n",
      "Epoch [687/5000]: 100%|██████████| 30/30 [00:00] Train Loss 33.2348, 8/8 [00:00] Valid Loss 5.2438\n",
      "Epoch [688/5000]: 100%|██████████| 30/30 [00:00] Train Loss 21.9844, 8/8 [00:00] Valid Loss 1.7323\n",
      "Epoch [689/5000]: 100%|██████████| 30/30 [00:00] Train Loss 48.6311, 8/8 [00:00] Valid Loss 2.6051\n",
      "Epoch [690/5000]: 100%|██████████| 30/30 [00:00] Train Loss 30.8170, 8/8 [00:00] Valid Loss 13.6995\n",
      "Epoch [691/5000]: 100%|██████████| 30/30 [00:00] Train Loss 39.9160, 8/8 [00:00] Valid Loss 3.3964\n",
      "Epoch [692/5000]: 100%|██████████| 30/30 [00:00] Train Loss 37.2472, 8/8 [00:00] Valid Loss 1.7030\n",
      "Epoch [693/5000]: 100%|██████████| 30/30 [00:00] Train Loss 28.5103, 8/8 [00:00] Valid Loss 2.2204\n",
      "Epoch [694/5000]: 100%|██████████| 30/30 [00:00] Train Loss 43.1778, 8/8 [00:00] Valid Loss 4.6964\n",
      "Epoch [695/5000]: 100%|██████████| 30/30 [00:00] Train Loss 38.3921, 8/8 [00:00] Valid Loss 6.0426\n",
      "Epoch [696/5000]: 100%|██████████| 30/30 [00:00] Train Loss 30.4289, 8/8 [00:00] Valid Loss 9.2966\n",
      "Epoch [697/5000]: 100%|██████████| 30/30 [00:00] Train Loss 41.6236, 8/8 [00:00] Valid Loss 1.7837\n",
      "Epoch [698/5000]: 100%|██████████| 30/30 [00:00] Train Loss 34.5919, 8/8 [00:00] Valid Loss 7.9406\n",
      "Epoch [699/5000]: 100%|██████████| 30/30 [00:00] Train Loss 35.2844, 8/8 [00:00] Valid Loss 7.5278\n",
      "Epoch [700/5000]: 100%|██████████| 30/30 [00:00] Train Loss 29.4432, 8/8 [00:00] Valid Loss 1.3513\n",
      "Epoch [701/5000]: 100%|██████████| 30/30 [00:00] Train Loss 26.4777, 8/8 [00:00] Valid Loss 1.7776\n",
      "Epoch [702/5000]: 100%|██████████| 30/30 [00:00] Train Loss 42.8345, 8/8 [00:00] Valid Loss 6.6508\n",
      "Epoch [703/5000]: 100%|██████████| 30/30 [00:00] Train Loss 24.5455, 8/8 [00:00] Valid Loss 3.8602\n",
      "Epoch [704/5000]: 100%|██████████| 30/30 [00:00] Train Loss 34.2740, 8/8 [00:00] Valid Loss 0.8360\n",
      "Epoch [705/5000]: 100%|██████████| 30/30 [00:00] Train Loss 31.2708, 8/8 [00:00] Valid Loss 15.9207\n",
      "Epoch [706/5000]: 100%|██████████| 30/30 [00:00] Train Loss 39.9950, 8/8 [00:00] Valid Loss 9.6969\n",
      "Epoch [707/5000]: 100%|██████████| 30/30 [00:00] Train Loss 29.9670, 8/8 [00:00] Valid Loss 1.8314\n",
      "Epoch [708/5000]: 100%|██████████| 30/30 [00:00] Train Loss 19.1072, 8/8 [00:00] Valid Loss 11.3645\n",
      "Epoch [709/5000]: 100%|██████████| 30/30 [00:00] Train Loss 30.1500, 8/8 [00:00] Valid Loss 1.1189\n",
      "Epoch [710/5000]: 100%|██████████| 30/30 [00:00] Train Loss 25.5367, 8/8 [00:00] Valid Loss 2.0248\n",
      "Epoch [711/5000]: 100%|██████████| 30/30 [00:00] Train Loss 27.0652, 8/8 [00:00] Valid Loss 1.6064\n",
      "Epoch [712/5000]: 100%|██████████| 30/30 [00:00] Train Loss 32.0509, 8/8 [00:00] Valid Loss 2.1051\n",
      "Epoch [713/5000]: 100%|██████████| 30/30 [00:00] Train Loss 42.9678, 8/8 [00:00] Valid Loss 21.6284\n",
      "Epoch [714/5000]: 100%|██████████| 30/30 [00:00] Train Loss 48.1418, 8/8 [00:00] Valid Loss 10.8123\n",
      "Epoch [715/5000]: 100%|██████████| 30/30 [00:00] Train Loss 29.5237, 8/8 [00:00] Valid Loss 1.9824\n",
      "Epoch [716/5000]: 100%|██████████| 30/30 [00:00] Train Loss 39.1076, 8/8 [00:00] Valid Loss 6.3261\n",
      "Epoch [717/5000]: 100%|██████████| 30/30 [00:00] Train Loss 24.9148, 8/8 [00:00] Valid Loss 3.7475\n",
      "Epoch [718/5000]: 100%|██████████| 30/30 [00:00] Train Loss 45.3029, 8/8 [00:00] Valid Loss 41.1704\n",
      "Epoch [719/5000]: 100%|██████████| 30/30 [00:00] Train Loss 26.0503, 8/8 [00:00] Valid Loss 1.9129\n",
      "Epoch [720/5000]: 100%|██████████| 30/30 [00:00] Train Loss 39.2568, 8/8 [00:00] Valid Loss 5.4312\n",
      "Epoch [721/5000]: 100%|██████████| 30/30 [00:00] Train Loss 31.7636, 8/8 [00:00] Valid Loss 3.3331\n",
      "Epoch [722/5000]: 100%|██████████| 30/30 [00:00] Train Loss 34.7297, 8/8 [00:00] Valid Loss 2.1637\n",
      "Epoch [723/5000]: 100%|██████████| 30/30 [00:00] Train Loss 52.7703, 8/8 [00:00] Valid Loss 4.0796\n",
      "Epoch [724/5000]: 100%|██████████| 30/30 [00:00] Train Loss 20.9263, 8/8 [00:00] Valid Loss 7.4194\n",
      "Epoch [725/5000]: 100%|██████████| 30/30 [00:00] Train Loss 41.3594, 8/8 [00:00] Valid Loss 3.5437\n",
      "Epoch [726/5000]: 100%|██████████| 30/30 [00:00] Train Loss 59.2248, 8/8 [00:00] Valid Loss 1.7010\n",
      "Epoch [727/5000]: 100%|██████████| 30/30 [00:00] Train Loss 33.3763, 8/8 [00:00] Valid Loss 5.5678\n",
      "Epoch [728/5000]: 100%|██████████| 30/30 [00:00] Train Loss 27.7743, 8/8 [00:00] Valid Loss 5.9906\n",
      "Epoch [729/5000]: 100%|██████████| 30/30 [00:00] Train Loss 21.8059, 8/8 [00:00] Valid Loss 1.7535\n",
      "Epoch [730/5000]: 100%|██████████| 30/30 [00:00] Train Loss 25.1048, 8/8 [00:00] Valid Loss 4.4273\n",
      "Epoch [731/5000]: 100%|██████████| 30/30 [00:00] Train Loss 28.3247, 8/8 [00:00] Valid Loss 2.1436\n",
      "Epoch [732/5000]: 100%|██████████| 30/30 [00:00] Train Loss 28.9226, 8/8 [00:00] Valid Loss 2.7079\n",
      "Epoch [733/5000]: 100%|██████████| 30/30 [00:00] Train Loss 33.4716, 8/8 [00:00] Valid Loss 1.6772\n",
      "Epoch [734/5000]: 100%|██████████| 30/30 [00:00] Train Loss 29.3636, 8/8 [00:00] Valid Loss 6.9452\n",
      "Epoch [735/5000]: 100%|██████████| 30/30 [00:00] Train Loss 31.2145, 8/8 [00:00] Valid Loss 1.6664\n",
      "Epoch [736/5000]: 100%|██████████| 30/30 [00:00] Train Loss 26.5994, 8/8 [00:00] Valid Loss 2.7698\n",
      "Epoch [737/5000]: 100%|██████████| 30/30 [00:00] Train Loss 35.8088, 8/8 [00:00] Valid Loss 8.8005\n",
      "Epoch [738/5000]: 100%|██████████| 30/30 [00:00] Train Loss 32.9695, 8/8 [00:00] Valid Loss 14.5159\n",
      "Epoch [739/5000]: 100%|██████████| 30/30 [00:00] Train Loss 32.0524, 8/8 [00:00] Valid Loss 5.8195\n",
      "Epoch [740/5000]: 100%|██████████| 30/30 [00:00] Train Loss 34.1714, 8/8 [00:00] Valid Loss 1.2275\n",
      "Epoch [741/5000]: 100%|██████████| 30/30 [00:00] Train Loss 25.5746, 8/8 [00:00] Valid Loss 29.0055\n",
      "Epoch [742/5000]: 100%|██████████| 30/30 [00:00] Train Loss 44.6114, 8/8 [00:00] Valid Loss 6.7534\n",
      "Epoch [743/5000]: 100%|██████████| 30/30 [00:00] Train Loss 34.7035, 8/8 [00:00] Valid Loss 6.6819\n",
      "Epoch [744/5000]: 100%|██████████| 30/30 [00:00] Train Loss 52.9841, 8/8 [00:00] Valid Loss 2.4375\n",
      "Epoch [745/5000]: 100%|██████████| 30/30 [00:00] Train Loss 30.3850, 8/8 [00:00] Valid Loss 11.5244\n",
      "Epoch [746/5000]: 100%|██████████| 30/30 [00:00] Train Loss 39.0661, 8/8 [00:00] Valid Loss 8.2205\n",
      "Epoch [747/5000]: 100%|██████████| 30/30 [00:00] Train Loss 40.2007, 8/8 [00:00] Valid Loss 22.0859\n",
      "Epoch [748/5000]: 100%|██████████| 30/30 [00:00] Train Loss 37.0142, 8/8 [00:00] Valid Loss 7.1590\n",
      "Epoch [749/5000]: 100%|██████████| 30/30 [00:00] Train Loss 60.9002, 8/8 [00:00] Valid Loss 8.3386\n",
      "Epoch [750/5000]: 100%|██████████| 30/30 [00:00] Train Loss 37.9548, 8/8 [00:00] Valid Loss 3.9156\n",
      "Epoch [751/5000]: 100%|██████████| 30/30 [00:00] Train Loss 22.6832, 8/8 [00:00] Valid Loss 6.4162\n",
      "Epoch [752/5000]: 100%|██████████| 30/30 [00:00] Train Loss 17.3509, 8/8 [00:00] Valid Loss 8.9690\n",
      "Epoch [753/5000]: 100%|██████████| 30/30 [00:00] Train Loss 45.7395, 8/8 [00:00] Valid Loss 6.1416\n",
      "Epoch [754/5000]: 100%|██████████| 30/30 [00:00] Train Loss 20.0249, 8/8 [00:00] Valid Loss 2.4876\n",
      "Epoch [755/5000]: 100%|██████████| 30/30 [00:00] Train Loss 52.3512, 8/8 [00:00] Valid Loss 4.1103\n",
      "Epoch [756/5000]: 100%|██████████| 30/30 [00:00] Train Loss 28.1559, 8/8 [00:00] Valid Loss 12.5709\n",
      "Epoch [757/5000]: 100%|██████████| 30/30 [00:00] Train Loss 26.0609, 8/8 [00:00] Valid Loss 4.3030\n",
      "Epoch [758/5000]: 100%|██████████| 30/30 [00:00] Train Loss 37.9613, 8/8 [00:00] Valid Loss 10.9120\n",
      "Epoch [759/5000]: 100%|██████████| 30/30 [00:00] Train Loss 20.8998, 8/8 [00:00] Valid Loss 5.8110\n",
      "Epoch [760/5000]: 100%|██████████| 30/30 [00:00] Train Loss 33.3568, 8/8 [00:00] Valid Loss 1.4870\n",
      "Epoch [761/5000]: 100%|██████████| 30/30 [00:00] Train Loss 43.3661, 8/8 [00:00] Valid Loss 12.6736\n",
      "Epoch [762/5000]: 100%|██████████| 30/30 [00:00] Train Loss 34.1999, 8/8 [00:00] Valid Loss 10.4923\n",
      "Epoch [763/5000]: 100%|██████████| 30/30 [00:00] Train Loss 44.0758, 8/8 [00:00] Valid Loss 2.5306\n",
      "Epoch [764/5000]: 100%|██████████| 30/30 [00:00] Train Loss 32.4890, 8/8 [00:00] Valid Loss 1.5395\n",
      "Epoch [765/5000]: 100%|██████████| 30/30 [00:00] Train Loss 37.3908, 8/8 [00:00] Valid Loss 5.3464\n",
      "Epoch [766/5000]: 100%|██████████| 30/30 [00:00] Train Loss 37.7288, 8/8 [00:00] Valid Loss 7.5378\n",
      "Epoch [767/5000]: 100%|██████████| 30/30 [00:00] Train Loss 31.6901, 8/8 [00:00] Valid Loss 1.3688\n",
      "Epoch [768/5000]: 100%|██████████| 30/30 [00:00] Train Loss 34.7591, 8/8 [00:00] Valid Loss 2.6339\n",
      "Epoch [769/5000]: 100%|██████████| 30/30 [00:00] Train Loss 36.2454, 8/8 [00:00] Valid Loss 1.3733\n",
      "Epoch [770/5000]: 100%|██████████| 30/30 [00:00] Train Loss 24.7326, 8/8 [00:00] Valid Loss 3.0819\n",
      "Epoch [771/5000]: 100%|██████████| 30/30 [00:00] Train Loss 34.9550, 8/8 [00:00] Valid Loss 4.1228\n",
      "Epoch [772/5000]: 100%|██████████| 30/30 [00:00] Train Loss 50.6784, 8/8 [00:00] Valid Loss 7.5861\n",
      "Epoch [773/5000]: 100%|██████████| 30/30 [00:00] Train Loss 39.9867, 8/8 [00:00] Valid Loss 1.3435\n",
      "Epoch [774/5000]: 100%|██████████| 30/30 [00:00] Train Loss 48.1421, 8/8 [00:00] Valid Loss 9.7910\n",
      "Epoch [775/5000]: 100%|██████████| 30/30 [00:00] Train Loss 21.7782, 8/8 [00:00] Valid Loss 1.8055\n",
      "Epoch [776/5000]: 100%|██████████| 30/30 [00:00] Train Loss 37.2167, 8/8 [00:00] Valid Loss 4.9802\n",
      "Epoch [777/5000]: 100%|██████████| 30/30 [00:00] Train Loss 52.6206, 8/8 [00:00] Valid Loss 4.6933\n",
      "Epoch [778/5000]: 100%|██████████| 30/30 [00:00] Train Loss 24.9979, 8/8 [00:00] Valid Loss 1.4555\n",
      "Epoch [779/5000]: 100%|██████████| 30/30 [00:00] Train Loss 28.6916, 8/8 [00:00] Valid Loss 2.3082\n",
      "Epoch [780/5000]: 100%|██████████| 30/30 [00:00] Train Loss 31.6711, 8/8 [00:00] Valid Loss 1.6089\n",
      "Epoch [781/5000]: 100%|██████████| 30/30 [00:00] Train Loss 28.4484, 8/8 [00:00] Valid Loss 13.0993\n",
      "Epoch [782/5000]: 100%|██████████| 30/30 [00:00] Train Loss 39.3720, 8/8 [00:00] Valid Loss 3.3405\n",
      "Epoch [783/5000]: 100%|██████████| 30/30 [00:00] Train Loss 43.4015, 8/8 [00:00] Valid Loss 2.2740\n",
      "Epoch [784/5000]: 100%|██████████| 30/30 [00:00] Train Loss 42.7407, 8/8 [00:00] Valid Loss 2.3347\n",
      "Epoch [785/5000]: 100%|██████████| 30/30 [00:00] Train Loss 28.4444, 8/8 [00:00] Valid Loss 21.9058\n",
      "Epoch [786/5000]: 100%|██████████| 30/30 [00:00] Train Loss 46.7900, 8/8 [00:00] Valid Loss 2.6859\n",
      "Epoch [787/5000]: 100%|██████████| 30/30 [00:00] Train Loss 36.6424, 8/8 [00:00] Valid Loss 1.4610\n",
      "Epoch [788/5000]: 100%|██████████| 30/30 [00:00] Train Loss 46.6923, 8/8 [00:00] Valid Loss 2.7973\n",
      "Epoch [789/5000]: 100%|██████████| 30/30 [00:00] Train Loss 19.8868, 8/8 [00:00] Valid Loss 1.0739\n",
      "Epoch [790/5000]: 100%|██████████| 30/30 [00:00] Train Loss 29.3754, 8/8 [00:00] Valid Loss 11.2607\n",
      "Epoch [791/5000]: 100%|██████████| 30/30 [00:00] Train Loss 50.7384, 8/8 [00:00] Valid Loss 3.8068\n",
      "Epoch [792/5000]: 100%|██████████| 30/30 [00:00] Train Loss 43.0171, 8/8 [00:00] Valid Loss 5.4029\n",
      "Epoch [793/5000]: 100%|██████████| 30/30 [00:00] Train Loss 36.1602, 8/8 [00:00] Valid Loss 15.0881\n",
      "Epoch [794/5000]: 100%|██████████| 30/30 [00:00] Train Loss 21.7717, 8/8 [00:00] Valid Loss 0.8716\n",
      "Epoch [795/5000]: 100%|██████████| 30/30 [00:00] Train Loss 48.2943, 8/8 [00:00] Valid Loss 19.1381\n",
      "Epoch [796/5000]: 100%|██████████| 30/30 [00:00] Train Loss 46.5724, 8/8 [00:00] Valid Loss 4.4738\n",
      "Epoch [797/5000]: 100%|██████████| 30/30 [00:00] Train Loss 28.6687, 8/8 [00:00] Valid Loss 2.7020\n",
      "Epoch [798/5000]: 100%|██████████| 30/30 [00:00] Train Loss 33.8528, 8/8 [00:00] Valid Loss 1.1033\n",
      "Epoch [799/5000]: 100%|██████████| 30/30 [00:00] Train Loss 34.0427, 8/8 [00:00] Valid Loss 1.6878\n",
      "Epoch [800/5000]: 100%|██████████| 30/30 [00:00] Train Loss 39.2616, 8/8 [00:00] Valid Loss 1.8923\n",
      "Epoch [801/5000]: 100%|██████████| 30/30 [00:00] Train Loss 34.2707, 8/8 [00:00] Valid Loss 69.1171\n",
      "Epoch [802/5000]: 100%|██████████| 30/30 [00:00] Train Loss 36.8664, 8/8 [00:00] Valid Loss 3.9741\n",
      "Epoch [803/5000]: 100%|██████████| 30/30 [00:00] Train Loss 34.0656, 8/8 [00:00] Valid Loss 3.6669\n",
      "Epoch [804/5000]: 100%|██████████| 30/30 [00:00] Train Loss 21.1432, 8/8 [00:00] Valid Loss 1.4789\n",
      "Epoch [805/5000]: 100%|██████████| 30/30 [00:00] Train Loss 33.5844, 8/8 [00:00] Valid Loss 12.1209\n",
      "Epoch [806/5000]: 100%|██████████| 30/30 [00:00] Train Loss 36.5784, 8/8 [00:00] Valid Loss 2.0252\n",
      "Epoch [807/5000]: 100%|██████████| 30/30 [00:00] Train Loss 37.6973, 8/8 [00:00] Valid Loss 0.8199\n",
      "Epoch [808/5000]: 100%|██████████| 30/30 [00:00] Train Loss 32.7978, 8/8 [00:00] Valid Loss 13.3425\n",
      "Epoch [809/5000]: 100%|██████████| 30/30 [00:00] Train Loss 48.0972, 8/8 [00:00] Valid Loss 19.1164\n",
      "Epoch [810/5000]: 100%|██████████| 30/30 [00:00] Train Loss 26.0410, 8/8 [00:00] Valid Loss 6.0482\n",
      "Epoch [811/5000]: 100%|██████████| 30/30 [00:00] Train Loss 30.9548, 8/8 [00:00] Valid Loss 1.8277\n",
      "Epoch [812/5000]: 100%|██████████| 30/30 [00:00] Train Loss 46.3158, 8/8 [00:00] Valid Loss 7.4531\n",
      "Epoch [813/5000]: 100%|██████████| 30/30 [00:00] Train Loss 33.4602, 8/8 [00:00] Valid Loss 4.0121\n",
      "Epoch [814/5000]: 100%|██████████| 30/30 [00:00] Train Loss 18.7270, 8/8 [00:00] Valid Loss 3.8058\n",
      "Epoch [815/5000]: 100%|██████████| 30/30 [00:00] Train Loss 21.7466, 8/8 [00:00] Valid Loss 1.2102\n",
      "Epoch [816/5000]: 100%|██████████| 30/30 [00:00] Train Loss 38.1282, 8/8 [00:00] Valid Loss 5.5206\n",
      "Epoch [817/5000]: 100%|██████████| 30/30 [00:00] Train Loss 31.2821, 8/8 [00:00] Valid Loss 4.0453\n",
      "Epoch [818/5000]: 100%|██████████| 30/30 [00:00] Train Loss 31.7376, 8/8 [00:00] Valid Loss 3.5872\n",
      "Epoch [819/5000]: 100%|██████████| 30/30 [00:00] Train Loss 39.9443, 8/8 [00:00] Valid Loss 2.7225\n",
      "Epoch [820/5000]: 100%|██████████| 30/30 [00:00] Train Loss 33.1266, 8/8 [00:00] Valid Loss 1.8750\n",
      "Epoch [821/5000]: 100%|██████████| 30/30 [00:00] Train Loss 27.5148, 8/8 [00:00] Valid Loss 10.4144\n",
      "Epoch [822/5000]: 100%|██████████| 30/30 [00:00] Train Loss 35.2834, 8/8 [00:00] Valid Loss 4.8964\n",
      "Epoch [823/5000]: 100%|██████████| 30/30 [00:00] Train Loss 58.0071, 8/8 [00:00] Valid Loss 8.3658\n",
      "Epoch [824/5000]: 100%|██████████| 30/30 [00:00] Train Loss 35.2933, 8/8 [00:00] Valid Loss 1.6159\n",
      "Epoch [825/5000]: 100%|██████████| 30/30 [00:00] Train Loss 31.3911, 8/8 [00:00] Valid Loss 6.4738\n",
      "Epoch [826/5000]: 100%|██████████| 30/30 [00:00] Train Loss 33.6335, 8/8 [00:00] Valid Loss 2.3421\n",
      "Epoch [827/5000]: 100%|██████████| 30/30 [00:00] Train Loss 26.2414, 8/8 [00:00] Valid Loss 8.7997\n",
      "Epoch [828/5000]: 100%|██████████| 30/30 [00:00] Train Loss 27.4701, 8/8 [00:00] Valid Loss 2.9422\n",
      "Epoch [829/5000]: 100%|██████████| 30/30 [00:00] Train Loss 34.9211, 8/8 [00:00] Valid Loss 4.1902\n",
      "Epoch [830/5000]: 100%|██████████| 30/30 [00:00] Train Loss 26.6139, 8/8 [00:00] Valid Loss 2.1106\n",
      "Epoch [831/5000]: 100%|██████████| 30/30 [00:00] Train Loss 58.0990, 8/8 [00:00] Valid Loss 1.9104\n",
      "Epoch [832/5000]: 100%|██████████| 30/30 [00:00] Train Loss 31.7585, 8/8 [00:00] Valid Loss 13.0208\n",
      "Epoch [833/5000]: 100%|██████████| 30/30 [00:00] Train Loss 56.5090, 8/8 [00:00] Valid Loss 18.1120\n",
      "Epoch [834/5000]: 100%|██████████| 30/30 [00:00] Train Loss 34.3124, 8/8 [00:00] Valid Loss 2.7956\n",
      "Epoch [835/5000]: 100%|██████████| 30/30 [00:00] Train Loss 45.7560, 8/8 [00:00] Valid Loss 3.4156\n",
      "Epoch [836/5000]: 100%|██████████| 30/30 [00:00] Train Loss 38.1501, 8/8 [00:00] Valid Loss 22.3012\n",
      "Epoch [837/5000]: 100%|██████████| 30/30 [00:00] Train Loss 36.3171, 8/8 [00:00] Valid Loss 5.0681\n",
      "Epoch [838/5000]: 100%|██████████| 30/30 [00:00] Train Loss 24.3686, 8/8 [00:00] Valid Loss 7.6191\n",
      "Epoch [839/5000]: 100%|██████████| 30/30 [00:00] Train Loss 33.1856, 8/8 [00:00] Valid Loss 7.2274\n",
      "Epoch [840/5000]: 100%|██████████| 30/30 [00:00] Train Loss 37.1660, 8/8 [00:00] Valid Loss 11.5813\n",
      "Epoch [841/5000]: 100%|██████████| 30/30 [00:00] Train Loss 28.1587, 8/8 [00:00] Valid Loss 6.1561\n",
      "Epoch [842/5000]: 100%|██████████| 30/30 [00:00] Train Loss 41.1614, 8/8 [00:00] Valid Loss 28.9865\n",
      "Epoch [843/5000]: 100%|██████████| 30/30 [00:00] Train Loss 30.6233, 8/8 [00:00] Valid Loss 9.3733\n",
      "Epoch [844/5000]: 100%|██████████| 30/30 [00:00] Train Loss 36.5949, 8/8 [00:00] Valid Loss 0.9087\n",
      "Epoch [845/5000]: 100%|██████████| 30/30 [00:00] Train Loss 26.2836, 8/8 [00:00] Valid Loss 4.5221\n",
      "Epoch [846/5000]: 100%|██████████| 30/30 [00:00] Train Loss 26.6412, 8/8 [00:00] Valid Loss 0.9436\n",
      "Epoch [847/5000]: 100%|██████████| 30/30 [00:00] Train Loss 40.5842, 8/8 [00:00] Valid Loss 3.4085\n",
      "Epoch [848/5000]: 100%|██████████| 30/30 [00:00] Train Loss 28.2984, 8/8 [00:00] Valid Loss 1.0742\n",
      "Epoch [849/5000]: 100%|██████████| 30/30 [00:00] Train Loss 28.7966, 8/8 [00:00] Valid Loss 3.1536\n",
      "Epoch [850/5000]: 100%|██████████| 30/30 [00:00] Train Loss 57.0627, 8/8 [00:00] Valid Loss 55.1368\n",
      "Epoch [851/5000]: 100%|██████████| 30/30 [00:00] Train Loss 45.5154, 8/8 [00:00] Valid Loss 11.5136\n",
      "Epoch [852/5000]: 100%|██████████| 30/30 [00:00] Train Loss 44.4848, 8/8 [00:00] Valid Loss 4.9955\n",
      "Epoch [853/5000]: 100%|██████████| 30/30 [00:00] Train Loss 40.9915, 8/8 [00:00] Valid Loss 2.7638\n",
      "Epoch [854/5000]: 100%|██████████| 30/30 [00:00] Train Loss 28.8607, 8/8 [00:00] Valid Loss 16.4314\n",
      "Epoch [855/5000]: 100%|██████████| 30/30 [00:00] Train Loss 39.9890, 8/8 [00:00] Valid Loss 12.5770\n",
      "Epoch [856/5000]: 100%|██████████| 30/30 [00:00] Train Loss 38.8781, 8/8 [00:00] Valid Loss 3.6688\n",
      "Epoch [857/5000]: 100%|██████████| 30/30 [00:00] Train Loss 31.9496, 8/8 [00:00] Valid Loss 3.0465\n",
      "Epoch [858/5000]: 100%|██████████| 30/30 [00:00] Train Loss 25.0016, 8/8 [00:00] Valid Loss 1.5379\n",
      "Epoch [859/5000]: 100%|██████████| 30/30 [00:00] Train Loss 46.1953, 8/8 [00:00] Valid Loss 3.4771\n",
      "Epoch [860/5000]: 100%|██████████| 30/30 [00:00] Train Loss 20.7891, 8/8 [00:00] Valid Loss 8.3946\n",
      "Epoch [861/5000]: 100%|██████████| 30/30 [00:00] Train Loss 36.8355, 8/8 [00:00] Valid Loss 1.8333\n",
      "Epoch [862/5000]: 100%|██████████| 30/30 [00:00] Train Loss 30.0325, 8/8 [00:00] Valid Loss 2.4612\n",
      "Epoch [863/5000]: 100%|██████████| 30/30 [00:00] Train Loss 28.3626, 8/8 [00:00] Valid Loss 10.3985\n",
      "Epoch [864/5000]: 100%|██████████| 30/30 [00:00] Train Loss 39.5888, 8/8 [00:00] Valid Loss 6.4635\n",
      "Epoch [865/5000]: 100%|██████████| 30/30 [00:00] Train Loss 38.6764, 8/8 [00:00] Valid Loss 10.4986\n",
      "Epoch [866/5000]: 100%|██████████| 30/30 [00:00] Train Loss 24.0651, 8/8 [00:00] Valid Loss 2.3204\n",
      "Epoch [867/5000]: 100%|██████████| 30/30 [00:00] Train Loss 40.1529, 8/8 [00:00] Valid Loss 3.5455\n",
      "Epoch [868/5000]: 100%|██████████| 30/30 [00:00] Train Loss 35.4447, 8/8 [00:00] Valid Loss 11.8283\n",
      "Epoch [869/5000]: 100%|██████████| 30/30 [00:00] Train Loss 29.7944, 8/8 [00:00] Valid Loss 3.6045\n",
      "Epoch [870/5000]: 100%|██████████| 30/30 [00:00] Train Loss 23.7596, 8/8 [00:00] Valid Loss 2.4153\n",
      "Epoch [871/5000]: 100%|██████████| 30/30 [00:00] Train Loss 18.2711, 8/8 [00:00] Valid Loss 3.0989\n",
      "Epoch [872/5000]: 100%|██████████| 30/30 [00:00] Train Loss 30.1982, 8/8 [00:00] Valid Loss 1.5467\n",
      "Epoch [873/5000]: 100%|██████████| 30/30 [00:00] Train Loss 23.6675, 8/8 [00:00] Valid Loss 12.8005\n",
      "Epoch [874/5000]: 100%|██████████| 30/30 [00:00] Train Loss 51.5510, 8/8 [00:00] Valid Loss 3.0111\n",
      "Epoch [875/5000]: 100%|██████████| 30/30 [00:00] Train Loss 61.3978, 8/8 [00:00] Valid Loss 7.4565\n",
      "Epoch [876/5000]: 100%|██████████| 30/30 [00:00] Train Loss 29.3489, 8/8 [00:00] Valid Loss 1.7141\n",
      "Epoch [877/5000]: 100%|██████████| 30/30 [00:00] Train Loss 25.1349, 8/8 [00:00] Valid Loss 2.6266\n",
      "Epoch [878/5000]: 100%|██████████| 30/30 [00:00] Train Loss 24.8515, 8/8 [00:00] Valid Loss 4.0503\n",
      "Epoch [879/5000]: 100%|██████████| 30/30 [00:00] Train Loss 54.4809, 8/8 [00:00] Valid Loss 6.4677\n",
      "Epoch [880/5000]: 100%|██████████| 30/30 [00:00] Train Loss 22.3674, 8/8 [00:00] Valid Loss 8.0350\n",
      "Epoch [881/5000]: 100%|██████████| 30/30 [00:00] Train Loss 48.6107, 8/8 [00:00] Valid Loss 22.7130\n",
      "Epoch [882/5000]: 100%|██████████| 30/30 [00:00] Train Loss 33.4341, 8/8 [00:00] Valid Loss 5.4012\n",
      "Epoch [883/5000]: 100%|██████████| 30/30 [00:00] Train Loss 48.8010, 8/8 [00:00] Valid Loss 4.9601\n",
      "Epoch [884/5000]: 100%|██████████| 30/30 [00:00] Train Loss 30.6089, 8/8 [00:00] Valid Loss 1.8936\n",
      "Epoch [885/5000]: 100%|██████████| 30/30 [00:00] Train Loss 28.5042, 8/8 [00:00] Valid Loss 9.7236\n",
      "Epoch [886/5000]: 100%|██████████| 30/30 [00:00] Train Loss 49.3607, 8/8 [00:00] Valid Loss 33.0099\n",
      "Epoch [887/5000]: 100%|██████████| 30/30 [00:00] Train Loss 27.3359, 8/8 [00:00] Valid Loss 5.6633\n",
      "Epoch [888/5000]: 100%|██████████| 30/30 [00:00] Train Loss 24.9545, 8/8 [00:00] Valid Loss 4.6092\n",
      "Epoch [889/5000]: 100%|██████████| 30/30 [00:00] Train Loss 31.6738, 8/8 [00:00] Valid Loss 11.5488\n",
      "Epoch [890/5000]: 100%|██████████| 30/30 [00:00] Train Loss 49.0904, 8/8 [00:00] Valid Loss 3.3605\n",
      "Epoch [891/5000]: 100%|██████████| 30/30 [00:00] Train Loss 35.5038, 8/8 [00:00] Valid Loss 14.1250\n",
      "Epoch [892/5000]: 100%|██████████| 30/30 [00:00] Train Loss 32.9226, 8/8 [00:00] Valid Loss 5.8864\n",
      "Epoch [893/5000]: 100%|██████████| 30/30 [00:00] Train Loss 29.7550, 8/8 [00:00] Valid Loss 11.2858\n",
      "Epoch [894/5000]: 100%|██████████| 30/30 [00:00] Train Loss 36.3738, 8/8 [00:00] Valid Loss 3.1850\n",
      "Epoch [895/5000]: 100%|██████████| 30/30 [00:00] Train Loss 20.0121, 8/8 [00:00] Valid Loss 2.5502\n",
      "Epoch [896/5000]: 100%|██████████| 30/30 [00:00] Train Loss 34.0635, 8/8 [00:00] Valid Loss 2.1511\n",
      "Epoch [897/5000]: 100%|██████████| 30/30 [00:00] Train Loss 28.5996, 8/8 [00:00] Valid Loss 31.3334\n",
      "Epoch [898/5000]: 100%|██████████| 30/30 [00:00] Train Loss 32.9765, 8/8 [00:00] Valid Loss 9.4221\n",
      "Epoch [899/5000]: 100%|██████████| 30/30 [00:00] Train Loss 34.2410, 8/8 [00:00] Valid Loss 3.4145\n",
      "Epoch [900/5000]: 100%|██████████| 30/30 [00:00] Train Loss 34.7877, 8/8 [00:00] Valid Loss 2.3203\n",
      "Epoch [901/5000]: 100%|██████████| 30/30 [00:00] Train Loss 35.2930, 8/8 [00:00] Valid Loss 5.2565\n",
      "Epoch [902/5000]: 100%|██████████| 30/30 [00:00] Train Loss 28.5201, 8/8 [00:00] Valid Loss 4.2024\n",
      "Epoch [903/5000]: 100%|██████████| 30/30 [00:00] Train Loss 34.2195, 8/8 [00:00] Valid Loss 2.0342\n",
      "Epoch [904/5000]: 100%|██████████| 30/30 [00:00] Train Loss 34.6333, 8/8 [00:00] Valid Loss 4.2115"
     ]
    },
    {
     "name": "stdout",
     "output_type": "stream",
     "text": [
      "\n",
      "Model is not improving, so we halt the training session.\n"
     ]
    },
    {
     "name": "stderr",
     "output_type": "stream",
     "text": [
      "\n"
     ]
    }
   ],
   "source": [
    "model = Stock_Model(input_dim=x_train.shape[1]).to(device)\n",
    "trainer(train_loader, valid_loader, model, config, device)\n",
    "\n",
    "# with torch.profiler.profile(\n",
    "#     activities=[torch.profiler.ProfilerActivity.CPU],\n",
    "#     schedule = torch.profiler.schedule(\n",
    "#         wait=0,\n",
    "#         warmup=0,\n",
    "#         active=1\n",
    "#     ),\n",
    "#     on_trace_ready=torch.profiler.tensorboard_trace_handler('./log')\n",
    "# ) as prof:\n",
    "#     trainer(train_loader, valid_loader, model, config, device)\n",
    "#     prof.step()"
   ]
  },
  {
   "cell_type": "code",
   "execution_count": 175,
   "metadata": {},
   "outputs": [],
   "source": [
    "# print(prof.key_averages().table(sort_by=\"self_cpu_time_total\", row_limit=10))\n"
   ]
  },
  {
   "cell_type": "code",
   "execution_count": 176,
   "metadata": {},
   "outputs": [
    {
     "name": "stderr",
     "output_type": "stream",
     "text": [
      "UsageError: Line magic function `%tensorboard` not found.\n"
     ]
    }
   ],
   "source": [
    "%tensorboard --logdir=./log/"
   ]
  },
  {
   "attachments": {},
   "cell_type": "markdown",
   "metadata": {},
   "source": [
    "## Plot learning curves with tensorboard"
   ]
  },
  {
   "cell_type": "code",
   "execution_count": 177,
   "metadata": {},
   "outputs": [
    {
     "data": {
      "text/plain": [
       "ERROR: Could not find `tensorboard`. Please ensure that your PATH\n",
       "contains an executable `tensorboard` program, or explicitly specify\n",
       "the path to a TensorBoard binary by setting the `TENSORBOARD_BINARY`\n",
       "environment variable."
      ]
     },
     "metadata": {},
     "output_type": "display_data"
    }
   ],
   "source": [
    "%reload_ext tensorboard\n",
    "%tensorboard --logdir=./runs/"
   ]
  },
  {
   "attachments": {},
   "cell_type": "markdown",
   "metadata": {},
   "source": [
    "## Testing"
   ]
  },
  {
   "cell_type": "code",
   "execution_count": 178,
   "metadata": {},
   "outputs": [
    {
     "name": "stderr",
     "output_type": "stream",
     "text": [
      "100%|██████████| 10/10 [00:00<00:00, 643.87it/s]\n"
     ]
    },
    {
     "data": {
      "image/png": "[encoded data removed]",
      "text/plain": [
       "<Figure size 640x480 with 1 Axes>"
      ]
     },
     "metadata": {},
     "output_type": "display_data"
    },
    {
     "data": {
      "image/png": "[encoded data removed]",
      "text/plain": [
       "<Figure size 640x480 with 1 Axes>"
      ]
     },
     "metadata": {},
     "output_type": "display_data"
    },
    {
     "data": {
      "image/png": "[encoded data removed]",
      "text/plain": [
       "<Figure size 640x480 with 1 Axes>"
      ]
     },
     "metadata": {},
     "output_type": "display_data"
    }
   ],
   "source": [
    "def save_pred(preds, file):\n",
    "    ''' Save predictions to specified file '''\n",
    "    np.savetxt(file, preds, delimiter=',', fmt='%d', header='pred,target', comments='')\n",
    "\n",
    "model = Stock_Model(input_dim=x_train.shape[1]).to(device)\n",
    "model.load_state_dict(torch.load(config['save_path']))\n",
    "preds = predict(test_loader, model, device)\n",
    "save_pred(preds, 'pred.csv')\n",
    "plot_error_rate(preds[:,0], preds[:,1])\n",
    "plot_pred(preds[:,0], preds[:,1])\n",
    "plot_trend(preds[:,0], preds[:,1])"
   ]
  },
  {
   "cell_type": "code",
   "execution_count": 179,
   "metadata": {},
   "outputs": [
    {
     "name": "stderr",
     "output_type": "stream",
     "text": [
      "100%|██████████| 1/1 [00:00<00:00, 497.49it/s]\n"
     ]
    },
    {
     "data": {
      "text/plain": [
       "array([[114.989006, 103.      ]], dtype=float32)"
      ]
     },
     "execution_count": 179,
     "metadata": {},
     "output_type": "execute_result"
    }
   ],
   "source": [
    "model = Stock_Model(input_dim=x_train.shape[1]).to(device)\n",
    "model.load_state_dict(torch.load(config['save_path']))\n",
    "\n",
    "single_loader = stock_dataloader(config, [[100,110,90,101]], [103])\n",
    "predict(single_loader, model, device)\n",
    "\n",
    "# for pred, target in single_pred:\n",
    "#     print(f\"Prediction: {pred}, Target: {target}\")"
   ]
  }
 ],
 "metadata": {
  "kernelspec": {
   "display_name": "Python 3",
   "language": "python",
   "name": "python3"
  },
  "language_info": {
   "codemirror_mode": {
    "name": "ipython",
    "version": 3
   },
   "file_extension": ".py",
   "mimetype": "text/x-python",
   "name": "python",
   "nbconvert_exporter": "python",
   "pygments_lexer": "ipython3",
   "version": "3.11.3"
  },
  "orig_nbformat": 4
 },
 "nbformat": 4,
 "nbformat_minor": 2
}
