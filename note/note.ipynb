{
 "cells": [
  {
   "attachments": {},
   "cell_type": "markdown",
   "metadata": {},
   "source": [
    "# Tutorial Resource\n",
    "- [李宏毅](https://speech.ee.ntu.edu.tw/~hylee/index.php)\n",
    "- Yeh James\n",
    "  - [Web](https://medium.com/jameslearningnote/tagged/machine-learning)\n",
    "  - [Code](https://gist.github.com/yehjames)\n",
    "- [Clay Technology World](https://clay-atlas.com/blog/category/ml/)\n",
    "- Sebastian Raschka\n",
    "  - [Lecture](https://github.com/rasbt/stat479-deep-learning-ss19)\n",
    "  - [Book](https://github.com/rasbt/python-machine-learning-book-3rd-edition)\n",
    "- [Python](https://steam.oxxostudio.tw/category/python/index.html)\n",
    "  - [w3schools](https://www.w3schools.com/python/)\n",
    "  - [NumPy](https://numpy.org/doc/stable/reference/index.html)\n",
    "  - [pandas](https://pandas.pydata.org/docs/reference/index.html)\n",
    "  - [matplotlib](https://matplotlib.org/stable/api/index.html)\n",
    "  - [PyTorch](https://pytorch.org/docs/stable/index.html)\n",
    "- Pages\n",
    "  - [Activation Functions: Comparison of Trends in Practice and Research for Deep Learning](https://arxiv.org/pdf/1811.03378.pdf)"
   ]
  },
  {
   "attachments": {},
   "cell_type": "markdown",
   "metadata": {},
   "source": [
    "# Running PyTorch on the M1 GPU\n",
    "> [Sebastian Raschka](https://sebastianraschka.com/blog/2022/pytorch-m1-gpu.html)  \n",
    "> [MPS BACKEND](https://pytorch.org/docs/stable/notes/mps.html)  \n",
    "   ```sh\n",
    "   pip install --pre torch torchvision torchaudio --extra-index-url https://download.pytorch.org/whl/nightly/cpu\n",
    "   ```"
   ]
  },
  {
   "cell_type": "code",
   "execution_count": 2,
   "metadata": {},
   "outputs": [],
   "source": [
    "import torch\n",
    "# Checktorch MPS is available\n",
    "\n",
    "if not torch.backends.mps.is_available():\n",
    "    if not torch.backends.mps.is_built():\n",
    "        print(\"MPS not available because the current PyTorch install was not \"\n",
    "              \"built with MPS enabled.\")\n",
    "    else:\n",
    "        print(\"MPS not available because the current MacOS version is not 12.3+ \"\n",
    "              \"and/or you do not have an MPS-enabled device on this machine.\")\n",
    "\n",
    "else:\n",
    "    mps_device = torch.device(\"mps\")\n",
    "\n",
    "    # Create a Tensor directly on the mps device\n",
    "    x = torch.ones(5, device=mps_device)\n",
    "    # Or\n",
    "    x = torch.ones(5, device=\"mps\")\n",
    "\n",
    "    # Any operation happens on the GPU\n",
    "    y = x * 2\n",
    "\n",
    "    # Move your model to mps just like any other device\n",
    "    # model = YourFavoriteNet()\n",
    "    # model.to(mps_device)\n",
    "\n",
    "    # Now every call runs on the GPU\n",
    "    # pred = model(x)"
   ]
  }
 ],
 "metadata": {
  "kernelspec": {
   "display_name": "Python 3",
   "language": "python",
   "name": "python3"
  },
  "language_info": {
   "codemirror_mode": {
    "name": "ipython",
    "version": 3
   },
   "file_extension": ".py",
   "mimetype": "text/x-python",
   "name": "python",
   "nbconvert_exporter": "python",
   "pygments_lexer": "ipython3",
   "version": "3.11.2"
  },
  "orig_nbformat": 4
 },
 "nbformat": 4,
 "nbformat_minor": 2
}
