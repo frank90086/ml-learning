{
 "cells": [
  {
   "attachments": {},
   "cell_type": "markdown",
   "metadata": {},
   "source": [
    "# Stock Predict Model"
   ]
  },
  {
   "attachments": {},
   "cell_type": "markdown",
   "metadata": {},
   "source": [
    "## Set Up"
   ]
  },
  {
   "attachments": {},
   "cell_type": "markdown",
   "metadata": {},
   "source": [
    "### Import Modules"
   ]
  },
  {
   "cell_type": "code",
   "execution_count": null,
   "metadata": {},
   "outputs": [],
   "source": [
    "# Numerical Operations\n",
    "import math\n",
    "import numpy as np\n",
    "\n",
    "# Reading/Writing Data\n",
    "import pandas as pd\n",
    "import os\n",
    "import csv\n",
    "\n",
    "# For Progress Bar\n",
    "from tqdm import tqdm\n",
    "\n",
    "# For Graph\n",
    "import matplotlib.pyplot as plt\n",
    "\n",
    "# Pytorch\n",
    "import torch\n",
    "import torch.nn as nn\n",
    "from torch.utils.data import Dataset, DataLoader, random_split\n",
    "\n",
    "# For plotting learning curve\n",
    "from torch.utils.tensorboard import SummaryWriter\n",
    "\n",
    "# Yahoo API\n",
    "import yfinance as yf\n",
    "\n",
    "# Sklearn\n",
    "from sklearn.model_selection import train_test_split\n",
    "from sklearn.preprocessing import StandardScaler\n",
    "from sklearn.linear_model import LinearRegression\n",
    "\n",
    "from stock_dataset import Stock_Dataset"
   ]
  },
  {
   "attachments": {},
   "cell_type": "markdown",
   "metadata": {},
   "source": [
    "### Configurations"
   ]
  },
  {
   "cell_type": "code",
   "execution_count": null,
   "metadata": {},
   "outputs": [],
   "source": [
    "device = 'cuda' if torch.cuda.is_available() else ('mps' if torch.backends.mps.is_available() else 'cpu')\n",
    "scaler = StandardScaler()\n",
    "config = {\n",
    "    'seed': 666999,\n",
    "    'select_all': False,\n",
    "    'valid_ratio': 0.2,\n",
    "    'test_ratio': 0.2,\n",
    "    'n_epochs': 5000,\n",
    "    'learning_rate': 1e-5,\n",
    "    'early_stop': 300,\n",
    "    'save_path': './models/stock.ckpt',\n",
    "    'data_loader': {\n",
    "        'batch_size': 64,\n",
    "        'pin_memory': True,\n",
    "        'num_workers': 8,\n",
    "        'shuffle': True\n",
    "    }\n",
    "}"
   ]
  },
  {
   "attachments": {},
   "cell_type": "markdown",
   "metadata": {},
   "source": [
    "### Utility Functions"
   ]
  },
  {
   "attachments": {},
   "cell_type": "markdown",
   "metadata": {},
   "source": [
    "#### Common"
   ]
  },
  {
   "cell_type": "code",
   "execution_count": null,
   "metadata": {},
   "outputs": [],
   "source": [
    "def same_seed(seed):\n",
    "    '''Fixes random number generator seeds for reproducibility.'''\n",
    "    torch.backends.cudnn.deterministic = True\n",
    "    torch.backends.cudnn.benchmark = False\n",
    "    np.random.seed(seed)\n",
    "    torch.manual_seed(seed)\n",
    "    if torch.backends.mps.is_available():\n",
    "        torch.mps.manual_seed(seed)\n"
   ]
  },
  {
   "attachments": {},
   "cell_type": "markdown",
   "metadata": {},
   "source": [
    "### Plot"
   ]
  },
  {
   "cell_type": "code",
   "execution_count": null,
   "metadata": {},
   "outputs": [],
   "source": [
    "def plot_error_rate(pred, target):\n",
    "    '''Plot error rate.'''\n",
    "    errors = (np.absolute(pred - target) / target) * 100\n",
    "    plt.plot(errors, '-r')\n",
    "\n",
    "    plt.xlabel('')\n",
    "    plt.ylabel('Percentage')\n",
    "    plt.title('Error Rate')\n",
    "\n",
    "    plt.show()\n",
    "\n",
    "def plot_pred(pred, target):\n",
    "    '''Plot predict.'''\n",
    "    plt.plot(pred, '-g', label='Prediction')\n",
    "    plt.plot(target, '--r', label='Target')\n",
    "\n",
    "    plt.xlabel('Predictions')\n",
    "    plt.ylabel('Targets')\n",
    "    plt.title('Predictions')\n",
    "    plt.legend()\n",
    "\n",
    "    plt.show()\n",
    "\n",
    "def plot_trend(pred, target):\n",
    "    X = np.array(pred).reshape(-1, 1)\n",
    "    y = np.array(target)\n",
    "\n",
    "    model = LinearRegression()\n",
    "    model.fit(X, y)\n",
    "\n",
    "    y_pred = model.predict(X)\n",
    "\n",
    "    plt.scatter(pred, target, c='b', label='Data')\n",
    "    plt.plot(pred, y_pred, c='r', label='Trend Line')\n",
    "\n",
    "    plt.xlabel('Predictions')\n",
    "    plt.ylabel('Targets')\n",
    "    plt.title('Trend')\n",
    "    plt.legend()\n",
    "\n",
    "    plt.show()"
   ]
  },
  {
   "attachments": {},
   "cell_type": "markdown",
   "metadata": {},
   "source": [
    "#### Tqdm"
   ]
  },
  {
   "attachments": {},
   "cell_type": "markdown",
   "metadata": {},
   "source": [
    "## Data"
   ]
  },
  {
   "attachments": {},
   "cell_type": "markdown",
   "metadata": {},
   "source": [
    "### Dataset"
   ]
  },
  {
   "cell_type": "code",
   "execution_count": null,
   "metadata": {},
   "outputs": [],
   "source": [
    "# class Stock_Dataset(Dataset):\n",
    "#     '''\n",
    "#     x: Features.\n",
    "#     y: Targets, if none, do prediction.\n",
    "#     '''\n",
    "#     def __init__(self, x, y=None, normalized=False, initscaler=True):\n",
    "#         # Normalized\n",
    "#         stack = np.column_stack((x, y))\n",
    "\n",
    "#         if (normalized):\n",
    "#             normalstack = scaler.fit_transform(stack) if initscaler else scaler.transform(stack)\n",
    "#             x = normalstack[:, :-1]\n",
    "#             y = y if y is None else normalstack[:, -1]\n",
    "\n",
    "#         self.y = y if y is None else torch.FloatTensor(y)\n",
    "#         self.x = torch.FloatTensor(x)\n",
    "\n",
    "#     def __getitem__(self, idx):\n",
    "#         if self.y is None:\n",
    "#             return self.x[idx]\n",
    "#         else:\n",
    "#             return self.x[idx], self.y[idx]\n",
    "\n",
    "#     def __len__(self):\n",
    "#         return len(self.x)"
   ]
  },
  {
   "attachments": {},
   "cell_type": "markdown",
   "metadata": {},
   "source": [
    "### DataLoader"
   ]
  },
  {
   "cell_type": "code",
   "execution_count": null,
   "metadata": {},
   "outputs": [],
   "source": [
    "def stock_dataloader(config, x, y=None, normalized=False, initscaler=True):\n",
    "    ''' Generates a dataset, then is put into a dataloader. '''\n",
    "\n",
    "    x = np.array(x)\n",
    "    y = np.array(y) if y is not None else y\n",
    "\n",
    "    dataset = Stock_Dataset(x, y, normalized, initscaler)\n",
    "    dataloader = DataLoader(dataset, **config['data_loader'])\n",
    "\n",
    "    return dataloader"
   ]
  },
  {
   "attachments": {},
   "cell_type": "markdown",
   "metadata": {},
   "source": [
    "### Feature Selection"
   ]
  },
  {
   "cell_type": "code",
   "execution_count": null,
   "metadata": {},
   "outputs": [],
   "source": [
    "def select_feat(train_data, valid_data, test_data, select_all=True):\n",
    "    '''Selects useful features to perform regression'''\n",
    "    y_train, y_valid, y_test = train_data[:,-1], valid_data[:,-1], test_data[:, -1]\n",
    "    raw_x_train, raw_x_valid, raw_x_test = train_data[:, :-1], valid_data[:, :-1], test_data[:, :-1]\n",
    "\n",
    "    if select_all:\n",
    "        feat_idx = list(range(raw_x_train.shape[1]))\n",
    "    else:\n",
    "        feat_idx = [0,1,2,3] # TODO: Select suitable feature columns.\n",
    "\n",
    "    return raw_x_train[:,feat_idx], raw_x_valid[:,feat_idx], raw_x_test[:,feat_idx], y_train, y_valid, y_test"
   ]
  },
  {
   "attachments": {},
   "cell_type": "markdown",
   "metadata": {},
   "source": [
    "### Set Data"
   ]
  },
  {
   "cell_type": "code",
   "execution_count": null,
   "metadata": {},
   "outputs": [],
   "source": [
    "same_seed(config['seed'])\n",
    "\n",
    "# re-index\n",
    "index = [\"Open\", \"High\", \"Low\", \"Adj Close\", \"Volume\", \"Close\"]\n",
    "raw_data = pd.DataFrame(yf.download('2330.TW', start='2000-01-01', end='2023-12-31'))\n",
    "# raw_data.to_csv(\"raw.csv\", index=False)\n",
    "train_data, test_data = train_test_split(\n",
    "    raw_data[index].values,\n",
    "    test_size=config['test_ratio'],\n",
    "    random_state=config['seed'],\n",
    "    shuffle=False\n",
    ")\n",
    "\n",
    "train_data, valid_data = train_test_split(\n",
    "    train_data,\n",
    "    test_size=config['valid_ratio'],\n",
    "    random_state=config['seed'],\n",
    "    shuffle=True\n",
    ")\n",
    "\n",
    "# Print out the data size.\n",
    "print(f\"\"\"train_data size: {train_data.shape}\n",
    "valid_data size: {valid_data.shape}\n",
    "test_data size: {test_data.shape}\"\"\")\n",
    "\n",
    "# Select features\n",
    "x_train, x_valid, x_test, y_train, y_valid, y_test = select_feat(train_data, valid_data, test_data, config['select_all'])\n",
    "\n",
    "# Print out the number of features.\n",
    "print(f'number of features: {x_train.shape[1]}')\n",
    "\n",
    "# Pytorch data loader loads pytorch dataset into batches.\n",
    "train_loader = stock_dataloader(config, x_train, y_train)\n",
    "valid_loader = stock_dataloader(config, x_valid, y_valid, initscaler=False)\n",
    "test_loader = stock_dataloader(config, x_test, y_test, initscaler=False)"
   ]
  },
  {
   "attachments": {},
   "cell_type": "markdown",
   "metadata": {},
   "source": [
    "## Neural Network"
   ]
  },
  {
   "attachments": {},
   "cell_type": "markdown",
   "metadata": {},
   "source": [
    "### Model"
   ]
  },
  {
   "cell_type": "code",
   "execution_count": null,
   "metadata": {},
   "outputs": [],
   "source": [
    "class Stock_Model(nn.Module):\n",
    "    def __init__(self, input_dim):\n",
    "        super(Stock_Model, self).__init__()\n",
    "        self.layers = nn.Sequential(\n",
    "            nn.Linear(input_dim, 32),\n",
    "            nn.BatchNorm1d(32),\n",
    "            nn.ReLU(),\n",
    "            nn.Linear(32, 16),\n",
    "            nn.BatchNorm1d(16),\n",
    "            nn.ReLU(),\n",
    "            nn.Linear(16, 1)\n",
    "        )\n",
    "\n",
    "    def forward(self, x):\n",
    "        x = self.layers(x)\n",
    "        x = x.squeeze(1)\n",
    "        return x"
   ]
  },
  {
   "attachments": {},
   "cell_type": "markdown",
   "metadata": {},
   "source": [
    "### Training Loop"
   ]
  },
  {
   "cell_type": "code",
   "execution_count": null,
   "metadata": {},
   "outputs": [],
   "source": [
    "def trainer(train_loader, valid_loader, model, config, device):\n",
    "\n",
    "    criterion = nn.MSELoss(reduction='mean')\n",
    "    optimizer = torch.optim.SGD(model.parameters(), lr=config['learning_rate'], momentum=0.7)\n",
    "\n",
    "    writer = SummaryWriter()\n",
    "\n",
    "    if not os.path.isdir('./models'):\n",
    "        os.mkdir('./models')\n",
    "\n",
    "    n_epochs, best_loss, step, early_stop_count = config['n_epochs'], math.inf, 0, 0\n",
    "\n",
    "    for epoch in range(n_epochs):\n",
    "\n",
    "        train_step = 0\n",
    "        valid_step = 0\n",
    "        postfix = [{\"Loss\": 0, \"Span\": \"\", \"Count\": \"\", \"Title\": \"Train Loss\"}, {\"Loss\": 0, \"Span\": \"\", \"Count\": \"\", \"Title\": \"Valid Loss\"}]\n",
    "        bar_format = \"{l_bar}{bar}| {postfix[0][Count]} {postfix[0][Span]} {postfix[0][Title]} {postfix[0][Loss]:>2.4f}, {postfix[1][Count]} {postfix[1][Span]} {postfix[1][Title]} {postfix[1][Loss]:>2.4f}\"\n",
    "\n",
    "        # train\n",
    "        model.train()\n",
    "        loss_train_record = []\n",
    "\n",
    "        # with torch.inference_mode():\n",
    "        with tqdm(train_loader,\n",
    "                bar_format=bar_format,\n",
    "                desc=f'Epoch [{epoch+1}/{n_epochs}]',\n",
    "                postfix=postfix,\n",
    "                leave=False) as t:\n",
    "            for x, y in t:\n",
    "                optimizer.zero_grad()\n",
    "                x, y = x.to(device), y.to(device)\n",
    "                pred = model(x)\n",
    "                loss = criterion(pred, y)\n",
    "                loss.backward()\n",
    "                optimizer.step()\n",
    "                step += 1\n",
    "                loss_train_record.append(loss.detach().item())\n",
    "                mean_train_loss = sum(loss_train_record)/len(loss_train_record)\n",
    "\n",
    "                t.postfix[0][\"Loss\"] = mean_train_loss\n",
    "                t.postfix[0][\"Span\"] = tqdm_span(t)\n",
    "                t.postfix[0][\"Count\"], train_step = tqdm_count(t, train_step)\n",
    "                t.update()\n",
    "\n",
    "        writer.add_scalar('Loss/train', mean_train_loss, step)\n",
    "\n",
    "        # valid\n",
    "        model.eval()\n",
    "        loss_valid_record = []\n",
    "\n",
    "        with tqdm(valid_loader,\n",
    "                bar_format=bar_format,\n",
    "                desc=f'Epoch [{epoch+1}/{n_epochs}]',\n",
    "                postfix=postfix) as t:\n",
    "            for x, y in t:\n",
    "                x, y = x.to(device), y.to(device)\n",
    "                with torch.no_grad():\n",
    "                    pred = model(x)\n",
    "                    loss = criterion(pred, y)\n",
    "                    loss_valid_record.append(loss.item())\n",
    "                    mean_valid_loss = sum(loss_valid_record)/len(loss_valid_record)\n",
    "\n",
    "                    t.postfix[1][\"Loss\"] = mean_valid_loss\n",
    "                    t.postfix[1][\"Span\"] = tqdm_span(t)\n",
    "                    t.postfix[1][\"Count\"], valid_step = tqdm_count(t, valid_step)\n",
    "                    t.update()\n",
    "\n",
    "        writer.add_scalar('Loss/valid', mean_valid_loss, step)\n",
    "\n",
    "        if mean_valid_loss < best_loss:\n",
    "            best_loss = mean_valid_loss\n",
    "            torch.save(model.state_dict(), config['save_path']) # Save your best model\n",
    "            print('Saving model with loss {:.3f}...'.format(best_loss))\n",
    "            early_stop_count = 0\n",
    "        else: \n",
    "            early_stop_count += 1\n",
    "\n",
    "        if early_stop_count >= config['early_stop']:\n",
    "            print('\\nModel is not improving, so we halt the training session.')\n",
    "            return"
   ]
  },
  {
   "attachments": {},
   "cell_type": "markdown",
   "metadata": {},
   "source": [
    "### Testing Loop"
   ]
  },
  {
   "cell_type": "code",
   "execution_count": null,
   "metadata": {},
   "outputs": [],
   "source": [
    "def predict(test_loader, model, device):\n",
    "    model.eval()\n",
    "    result = {'features': [], 'preds': [], 'ans': []}\n",
    "    for x, y in tqdm(test_loader):\n",
    "        x, y = x.to(device), y.to(device)\n",
    "        with torch.no_grad():\n",
    "            pred = model(x)\n",
    "            result['features'].append(x.detach().cpu())\n",
    "            result['preds'].append(pred.detach().cpu())\n",
    "            result['ans'].append(y.detach().cpu())\n",
    "\n",
    "    # Combination tensor\n",
    "    result['features'] = torch.cat(result['features'], 0).numpy()\n",
    "    result['preds'] = torch.cat(result['preds'], 0).numpy()\n",
    "    result['ans'] = torch.cat(result['ans'], 0).numpy()\n",
    "\n",
    "    predstack = np.column_stack((result['features'], result['preds']))\n",
    "    targetstack = np.column_stack((result['features'], result['ans']))\n",
    "\n",
    "    return np.column_stack((predstack[:, -1], targetstack[:, -1]))"
   ]
  },
  {
   "attachments": {},
   "cell_type": "markdown",
   "metadata": {},
   "source": [
    "## Training"
   ]
  },
  {
   "cell_type": "code",
   "execution_count": null,
   "metadata": {},
   "outputs": [],
   "source": [
    "model = Stock_Model(input_dim=x_train.shape[1]).to(device)\n",
    "trainer(train_loader, valid_loader, model, config, device)\n",
    "\n",
    "# with torch.profiler.profile(\n",
    "#     activities=[torch.profiler.ProfilerActivity.CPU],\n",
    "#     schedule = torch.profiler.schedule(\n",
    "#         wait=0,\n",
    "#         warmup=0,\n",
    "#         active=1\n",
    "#     ),\n",
    "#     on_trace_ready=torch.profiler.tensorboard_trace_handler('./log')\n",
    "# ) as prof:\n",
    "#     trainer(train_loader, valid_loader, model, config, device)\n",
    "#     prof.step()"
   ]
  },
  {
   "cell_type": "code",
   "execution_count": null,
   "metadata": {},
   "outputs": [],
   "source": [
    "# print(prof.key_averages().table(sort_by=\"self_cpu_time_total\", row_limit=10))\n"
   ]
  },
  {
   "cell_type": "code",
   "execution_count": null,
   "metadata": {},
   "outputs": [],
   "source": [
    "%tensorboard --logdir=./log/"
   ]
  },
  {
   "attachments": {},
   "cell_type": "markdown",
   "metadata": {},
   "source": [
    "## Plot learning curves with tensorboard"
   ]
  },
  {
   "cell_type": "code",
   "execution_count": null,
   "metadata": {},
   "outputs": [],
   "source": [
    "%reload_ext tensorboard\n",
    "%tensorboard --logdir=./runs/"
   ]
  },
  {
   "attachments": {},
   "cell_type": "markdown",
   "metadata": {},
   "source": [
    "## Testing"
   ]
  },
  {
   "cell_type": "code",
   "execution_count": null,
   "metadata": {},
   "outputs": [],
   "source": [
    "def save_pred(preds, file):\n",
    "    ''' Save predictions to specified file '''\n",
    "    np.savetxt(file, preds, delimiter=',', fmt='%d', header='pred,target', comments='')\n",
    "\n",
    "model = Stock_Model(input_dim=x_train.shape[1]).to(device)\n",
    "model.load_state_dict(torch.load(config['save_path']))\n",
    "preds = predict(test_loader, model, device)\n",
    "save_pred(preds, 'pred.csv')\n",
    "plot_error_rate(preds[:,0], preds[:,1])\n",
    "plot_pred(preds[:,0], preds[:,1])\n",
    "plot_trend(preds[:,0], preds[:,1])"
   ]
  },
  {
   "cell_type": "code",
   "execution_count": null,
   "metadata": {},
   "outputs": [],
   "source": [
    "model = Stock_Model(input_dim=x_train.shape[1]).to(device)\n",
    "model.load_state_dict(torch.load(config['save_path']))\n",
    "\n",
    "single_loader = stock_dataloader(config, [[100,110,90,101]], [103])\n",
    "predict(single_loader, model, device)\n",
    "\n",
    "# for pred, target in single_pred:\n",
    "#     print(f\"Prediction: {pred}, Target: {target}\")"
   ]
  }
 ],
 "metadata": {
  "kernelspec": {
   "display_name": "Python 3",
   "language": "python",
   "name": "python3"
  },
  "language_info": {
   "codemirror_mode": {
    "name": "ipython",
    "version": 3
   },
   "file_extension": ".py",
   "mimetype": "text/x-python",
   "name": "python",
   "nbconvert_exporter": "python",
   "pygments_lexer": "ipython3",
   "version": "3.11.3"
  },
  "orig_nbformat": 4
 },
 "nbformat": 4,
 "nbformat_minor": 2
}
